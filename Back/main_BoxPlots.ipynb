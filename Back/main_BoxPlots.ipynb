{
 "cells": [
  {
   "cell_type": "markdown",
   "id": "b416a4e3-1859-40bb-9eaa-f1b04835dddd",
   "metadata": {},
   "source": [
    "-----------------------------------------------------------------------------------------------------------------------------------------------------------------\n",
    "## Librerias"
   ]
  },
  {
   "cell_type": "code",
   "execution_count": 61,
   "id": "8e7a3750-b619-4c4b-acb7-842033948e8b",
   "metadata": {},
   "outputs": [],
   "source": [
    "import pandas as pd\n",
    "import json\n",
    "from collections import defaultdict\n",
    "import re\n",
    "import numpy as np\n",
    "from utils.utilities import Tiempo\n",
    "import utils.dataExtraction\n",
    "import statistics\n",
    "import keyword\n",
    "import re\n",
    "import matplotlib.pyplot as plt\n",
    "import plotly.express as px\n",
    "\n",
    "import xml.etree.ElementTree as ET"
   ]
  },
  {
   "cell_type": "markdown",
   "id": "c723e8a0-78aa-4e2f-a3c6-a9c1553889a0",
   "metadata": {},
   "source": [
    "-----------------------------------------------------------------------------------------------------------------------------------------------------------------\n",
    "### Función que extrae los timestamps de inicio y fin de cada intentos de nivel\n",
    "#### También extrae las estrellas obtenidas en cada intentos y cuantas veces se han intentado todos los niveles por cada jugador "
   ]
  },
  {
   "cell_type": "code",
   "execution_count": 2,
   "id": "0af84c76-318e-4f7b-b139-6f0c48188278",
   "metadata": {},
   "outputs": [],
   "source": [
    "def extraerTiemposPorNivelJugador(rawData):\n",
    "    \n",
    "    tiempos = defaultdict(defaultdict)\n",
    "    intentosNecesarios = defaultdict(defaultdict)\n",
    "    \n",
    "    erLevel = re.compile(r'\\blevel$\\b')\n",
    "    erIdLevel = re.compile(r'/')\n",
    "    \n",
    "    erInitialized = re.compile(r'\\binitialized$\\b')\n",
    "    erCompleted = re.compile(r'\\bcompleted$\\b')\n",
    "    \n",
    "    for evento in rawData:\n",
    "        verb = evento[\"verb\"][\"id\"]\n",
    "        obj = evento[\"object\"][\"definition\"][\"type\"]\n",
    "        name = evento[\"actor\"][\"name\"]\n",
    "        timestamp = evento[\"timestamp\"]\n",
    "        objectId = evento[\"object\"][\"id\"]\n",
    "        \n",
    "        if erLevel.search(obj): #Si el objeto de la acción es un nivel\n",
    "            levelCode = erIdLevel.split(objectId)[-1]\n",
    "            if levelCode != \"editor_level\":\n",
    "                if erInitialized.search(verb): #Si la acción es inicio o reinicio\n",
    "                    if \"result\" in evento: #Significa que ha iniciado el nivel desde el menu\n",
    "                        if levelCode in tiempos[name]:\n",
    "                            intentosNecesarios[name][levelCode].append({\"intentos\" : 1, \"success\" : False})\n",
    "                            tiempos[name][levelCode].append({\"ini\" : timestamp, \"fin\" : None, \"stars\" : \"\"})\n",
    "                        else:\n",
    "                            intentosNecesarios[name][levelCode] = [{\"intentos\" : 1, \"success\" : False}]\n",
    "                            tiempos[name][levelCode] = [{\"ini\" : timestamp, \"fin\" : None, \"stars\" : \"\"}]\n",
    "                    else:\n",
    "                        intentosNecesarios[name][levelCode][-1][\"intentos\"] += 1\n",
    "                elif erCompleted.search(verb):\n",
    "                    if evento[\"result\"][\"score\"][\"raw\"] > 0 :\n",
    "                        if levelCode in tiempos[name]:\n",
    "                            intentosNecesarios[name][levelCode][-1][\"success\"] = True\n",
    "                            tiempos[name][levelCode][-1][\"fin\"] = timestamp\n",
    "                            tiempos[name][levelCode][-1][\"stars\"] = evento[\"result\"][\"score\"][\"raw\"]\n",
    "\n",
    "                    elif evento[\"result\"][\"score\"][\"raw\"] == -1:\n",
    "                        if levelCode in tiempos[name]:\n",
    "                            tiempos[name][levelCode][-1][\"fin\"] = timestamp\n",
    "                            tiempos[name][levelCode][-1][\"stars\"] = evento[\"result\"][\"score\"][\"raw\"]\n",
    "    \n",
    "    return {\"tiempos\" : tiempos, \"intentosNecesarios\" : intentosNecesarios}"
   ]
  },
  {
   "cell_type": "markdown",
   "id": "efa6361f-6d8d-458e-b61a-7642520f674e",
   "metadata": {
    "tags": []
   },
   "source": [
    "-----------------------------------------------------------------------------------------------------------------------------------------------------------------\n",
    "### Función que resta los timestamps de inicio y fin de cada intento de nivel para sacar la diferencia de tiempo"
   ]
  },
  {
   "cell_type": "code",
   "execution_count": 3,
   "id": "8fbeaafd-7da1-4d8a-8adb-bedd73727ef7",
   "metadata": {},
   "outputs": [],
   "source": [
    "def tiempoPorNiveles_Jugador(data):\n",
    "    tiemposJugados = defaultdict(defaultdict)\n",
    "    for player in data:\n",
    "        for level in data[player]:\n",
    "            for times in data[player][level]:\n",
    "                if times[\"fin\"] != None: #Si no se aborto el intento del nivel\n",
    "                    timeDifference = Tiempo(times[\"ini\"], times[\"fin\"])\n",
    "                    if level in tiemposJugados[player]:\n",
    "                        tiemposJugados[player][level].append({\"time\" : timeDifference, \"stars\" : times[\"stars\"]})\n",
    "                    else:\n",
    "                        tiemposJugados[player][level] = [{\"time\" : timeDifference, \"stars\" : times[\"stars\"]}]\n",
    "    return tiemposJugados"
   ]
  },
  {
   "cell_type": "markdown",
   "id": "1d9088b2-e533-4c68-8a46-0655c5a3098f",
   "metadata": {},
   "source": [
    "-----------------------------------------------------------------------------------------------------------------------------------------------------------------\n",
    "### Función que devuelve el tiempo medio necesario para completar un nivel y un diccionario con el tiempo empleado por cada jugador hasta completar el nivel\n",
    "(El tiempo necesario para cada jugador es la suma de todos los tiempos hasta conseguir completar el nivel)\n",
    "* También devuelve la media de estrellas y una lista de los niveles ordenados"
   ]
  },
  {
   "cell_type": "code",
   "execution_count": 4,
   "id": "0f406ab2-c482-4ce9-a43a-a67b00c7592c",
   "metadata": {},
   "outputs": [],
   "source": [
    "#TAMBIEN DEVUELVE EL TIEMPO INDIVIDUAL DE CADA JUGADOR PARA COMPLETAR CADA NIVEL\n",
    "def getMediaTiempoPorNivel(tiempos, soloPrimerExito = True, tiemposOrdenados = False):\n",
    "    medias = defaultdict(list)\n",
    "    mediasEstrellas = defaultdict(list)\n",
    "    tiempoCompletarNivelIndividual = defaultdict(defaultdict)\n",
    "    \n",
    "    for player in tiempos:\n",
    "        for level in tiempos[player]:\n",
    "            tAux = Tiempo(\"0s\")\n",
    "            for t in tiempos[player][level]:\n",
    "                if t[\"stars\"] != -1:\n",
    "                    if level in medias:\n",
    "                        medias[level].append(int(tAux + t[\"time\"]))\n",
    "                        mediasEstrellas[level].append(int(t[\"stars\"]))\n",
    "                    else:\n",
    "                        medias[level] = [int(tAux + t[\"time\"])]\n",
    "                        mediasEstrellas[level] = [int(t[\"stars\"])]\n",
    "                        \n",
    "                    tiempoCompletarNivelIndividual[player][level] = tAux + t[\"time\"]\n",
    "                    if soloPrimerExito:\n",
    "                        break\n",
    "                elif t[\"stars\"] == 0:\n",
    "                    print(\"ALERTA\")\n",
    "                else:\n",
    "                    tAux += t[\"time\"]\n",
    "    for m in medias:\n",
    "        medias[m] = Tiempo(str(int(round(statistics.mean(medias[m]), 0))) + \"s\")\n",
    "        \n",
    "    for m in mediasEstrellas:\n",
    "        mediasEstrellas[m] = statistics.mean(mediasEstrellas[m])\n",
    "    \n",
    "    listaNiveles = medias.keys()\n",
    "    \n",
    "    if tiemposOrdenados:\n",
    "        medias = sorted(medias.items(), key=lambda x: x[1])\n",
    "        mediasEstrellas = sorted(mediasEstrellas.items(), key=lambda x: x[1])\n",
    "    else:\n",
    "        medias = list(medias.items())\n",
    "        mediasEstrellas = list(mediasEstrellas.items())\n",
    "    \n",
    "    return {\"mediaTiempos\" : medias, \"mediaEstrellas\" : mediasEstrellas, \"listaNiveles\" : listaNiveles, \"tiemposIndividuales\" : tiempoCompletarNivelIndividual}"
   ]
  },
  {
   "cell_type": "markdown",
   "id": "c43f5e74-a53c-489d-b46e-0bdc44c7a628",
   "metadata": {
    "tags": []
   },
   "source": [
    "-----------------------------------------------------------------------------------------------------------------------------------------------------------------\n",
    "### Devuelve un diccionario con clave: id Jugador y valor: ultimo nivel alcanzado"
   ]
  },
  {
   "cell_type": "code",
   "execution_count": 5,
   "id": "f5651348-7a8b-461b-a2aa-dd884ec009df",
   "metadata": {},
   "outputs": [],
   "source": [
    "def getUltimoNivelAlcanzado(tiempos):\n",
    "    ultNivel = defaultdict()\n",
    "    for player in tiempos:\n",
    "        for level in tiempos[player]:\n",
    "            ultNivel[player] = level\n",
    "    return ultNivel"
   ]
  },
  {
   "cell_type": "markdown",
   "id": "99a81364-a968-42ff-82d8-40d391023b4a",
   "metadata": {},
   "source": [
    "-----------------------------------------------------------------------------------------------------------------------------------------------------------------\n",
    "### Devuelve los intentos necesarios de cada jugador para completar un nivel al igual que los intentos medios"
   ]
  },
  {
   "cell_type": "code",
   "execution_count": 6,
   "id": "8ea9cd08-8de3-4a46-8864-2b0f1108809a",
   "metadata": {},
   "outputs": [],
   "source": [
    "#TAMBIEN DEVUELVE LOS INTENTOS INDIVIDUALES DE CADA JUGADOR PARA COMPLETAR CADA NIVEL\n",
    "def getIntentosMedios_HastaCompletarNivel(intentosNecesarios, intentosOrdenados = False):\n",
    "    intentosMedios = defaultdict(list)\n",
    "    intentosCompletarNivelIndividual = defaultdict(defaultdict)\n",
    "    \n",
    "    for name in intentosNecesarios:\n",
    "        for level in intentosNecesarios[name]:\n",
    "            cont = 0\n",
    "            for i in intentosNecesarios[name][level]:\n",
    "                cont += i[\"intentos\"]\n",
    "                if i[\"success\"] == True:\n",
    "                    intentosMedios[level].append(cont)\n",
    "                    intentosCompletarNivelIndividual[name][level] = cont\n",
    "                    break\n",
    "            \n",
    "    for level in intentosMedios:\n",
    "        intentosMedios[level] = round(statistics.mean(intentosMedios[level]), 2)\n",
    "    \n",
    "    if intentosOrdenados:\n",
    "        intentosMedios = sorted(intentosMedios.items(), key=lambda x: x[1])\n",
    "    else:\n",
    "        intentosMedios = list(intentosMedios.items())\n",
    "    return {\"intentosMedios\" : intentosMedios, \"intentosIndividual\" : intentosCompletarNivelIndividual}"
   ]
  },
  {
   "cell_type": "markdown",
   "id": "9ede6000-b5ff-4ab4-a3c3-c3cd723d7f30",
   "metadata": {},
   "source": [
    "-----------------------------------------------------------------------------------------------------------------------------------------------------------------\n",
    "### Transforma un diccionario de diccionarios en un diccionario de arrays\n",
    "* Se utiliza para tener una lista de todos los tiempos de los usuarios cuando tenemos un diccionario dentro de otro con primera clave nombre usuario y segunda clave codigo del nivel"
   ]
  },
  {
   "cell_type": "code",
   "execution_count": 7,
   "id": "a7232498-f00d-4a9a-af4e-955a26ac8524",
   "metadata": {},
   "outputs": [],
   "source": [
    "def extraerArray(my_dict):\n",
    "    nested_keys = []\n",
    "    nested_values = []\n",
    "\n",
    "    for k, v in my_dict.items():\n",
    "        for nested_k, nested_v in v.items():\n",
    "            nested_keys.append(nested_k)\n",
    "            nested_values.append(nested_v)\n",
    "\n",
    "    # create a dictionary with keys as the values of the nested_keys array\n",
    "    nested_dict = defaultdict(list)\n",
    "    for key, value in zip(nested_keys, nested_values):\n",
    "        nested_dict[key].append(value)\n",
    "    \n",
    "    return nested_dict"
   ]
  },
  {
   "cell_type": "code",
   "execution_count": 8,
   "id": "2543bb4b",
   "metadata": {},
   "outputs": [],
   "source": [
    "def extraerArrayConNombres(my_dict):\n",
    "    nested_keys = []\n",
    "    nested_values = []\n",
    "\n",
    "    for k, v in my_dict.items():\n",
    "        for nested_k, nested_v in v.items():\n",
    "            nested_keys.append(nested_k)\n",
    "            nested_values.append({\"name\" : k, \"valor\" : nested_v})\n",
    "\n",
    "    # create a dictionary with keys as the values of the nested_keys array\n",
    "    nested_dict = defaultdict(defaultdict)\n",
    "    for key, value in zip(nested_keys, nested_values):\n",
    "        nested_dict[key][value[\"name\"]] = value[\"valor\"]\n",
    "    \n",
    "    return nested_dict"
   ]
  },
  {
   "cell_type": "markdown",
   "id": "24c8bf2a-6261-4ec9-adea-425bb588a50e",
   "metadata": {},
   "source": [
    "-----------------------------------------------------------------------------------------------------------------------------------------------------------------\n",
    "### Recibe un diccionario con clave nivel y valor una lista de tiempos y parsea los tiempos a integer"
   ]
  },
  {
   "cell_type": "code",
   "execution_count": 9,
   "id": "6e4a73ea-40e7-4f46-935e-9f24b51cb1d8",
   "metadata": {},
   "outputs": [],
   "source": [
    "def parseTiemposDictToInteger(data_dict):\n",
    "    parsed_dict = {}\n",
    "\n",
    "    for key, value in data_dict.items():\n",
    "        parsed_list = []\n",
    "        for element in value:\n",
    "            parsed_list.append(int(element))\n",
    "        parsed_dict[key] = parsed_list\n",
    "\n",
    "    return parsed_dict"
   ]
  },
  {
   "cell_type": "markdown",
   "id": "5633ce07-0445-4250-8e6d-64b43f25166b",
   "metadata": {},
   "source": [
    "-----------------------------------------------------------------------------------------------------------------------------------------------------------------\n",
    "### Función que genera los boxplots recibiendo un diccionario con clave nivel y valor una lista de enteros"
   ]
  },
  {
   "cell_type": "code",
   "execution_count": 10,
   "id": "7fbe8445-7e55-48dd-8b3c-9fb803af274c",
   "metadata": {},
   "outputs": [],
   "source": [
    "def create_boxplots(data_dict):\n",
    "    # Group levels by category\n",
    "    category_dict = {}\n",
    "    for level, data in data_dict.items():\n",
    "        category = level.split('_')[0]\n",
    "        if category in category_dict:\n",
    "            category_dict[category].append(data)\n",
    "        else:\n",
    "            category_dict[category] = [data]\n",
    "    \n",
    "    # Create boxplots for each category and add relevant information\n",
    "    boxplots = []\n",
    "    labels = []\n",
    "    for i, (category, data_list) in enumerate(category_dict.items()):\n",
    "        fig, ax = plt.subplots()\n",
    "        bp = ax.boxplot(data_list, showfliers=True, patch_artist=True, flierprops={'marker': '+', 'markerfacecolor': '#738FA7'})\n",
    "        ax.set_title(category)\n",
    "\n",
    "        color = '#738FA7'\n",
    "        for patch in bp['boxes']:\n",
    "            patch.set_facecolor(color)\n",
    "        \n",
    "        boxplots.append(bp)\n",
    "        labels.append(category)\n",
    "    \n",
    "    # Set tick labels\n",
    "    fig, ax = plt.subplots()\n",
    "    ax.set_xticks(range(len(labels)))\n",
    "    ax.set_xticklabels(labels)\n",
    "    ax.tick_params(axis='x', labelrotation=45)\n",
    "    \n",
    "    return boxplots\n"
   ]
  },
  {
   "cell_type": "code",
   "execution_count": 11,
   "id": "1986d4bf",
   "metadata": {},
   "outputs": [],
   "source": [
    "def getCuantasPersonasHanAlcanzadoNivel(ultNivelCompletado, niveles):\n",
    "    cuantosHanLlegadoAlNivel = defaultdict()\n",
    "    \n",
    "    ultNivelCopia = ultNivelCompletado.copy()\n",
    "\n",
    "    #Contamos cuanta gente ha llegado hasta cada nivel\n",
    "    for nivel in niveles:\n",
    "        cuantosHanLlegadoAlNivel[nivel] = len(ultNivelCopia)\n",
    "        \n",
    "        keys_to_delete = [k for k, v in ultNivelCopia.items() if v == nivel]\n",
    "        for k in keys_to_delete:\n",
    "            del ultNivelCopia[k]\n",
    "\n",
    "    return cuantosHanLlegadoAlNivel"
   ]
  },
  {
   "cell_type": "code",
   "execution_count": 12,
   "id": "7d45acbc",
   "metadata": {},
   "outputs": [],
   "source": [
    "def generateChartNivelesAlcanzados(niveles, ultNivelCompletado):\n",
    "    cuantosHanLlegadoAlNivel = getCuantasPersonasHanAlcanzadoNivel(ultNivelCompletado, niveles)\n",
    "\n",
    "    category_dict = {}\n",
    "    for level, value in cuantosHanLlegadoAlNivel.items():\n",
    "        category = level.split('_')[0]\n",
    "        level_number = int(level.split('_')[-1])\n",
    "        if category in category_dict:\n",
    "            category_dict[category].append((level_number, value))\n",
    "        else:\n",
    "            category_dict[category] = [(level_number, value)]\n",
    "    for category, levels in category_dict.items():\n",
    "        category_dict[category] = sorted(levels, key=lambda x: x[0])\n",
    "\n",
    "    # Select the last level for each category\n",
    "    last_levels = {}\n",
    "    for category, levels in category_dict.items():\n",
    "        last_level = levels[-1][0]\n",
    "        last_levels[category] = levels[-1][1]\n",
    "\n",
    "    # Create bar chart and add labels\n",
    "    fig, ax = plt.subplots()\n",
    "    ax.bar(last_levels.keys(), last_levels.values(), color=\"#738FA7\")\n",
    "    ax.set_xticklabels(last_levels.keys(), rotation=45, ha='right')\n",
    "        \n",
    "    plt.show()"
   ]
  },
  {
   "cell_type": "code",
   "execution_count": 90,
   "id": "ccf1482a",
   "metadata": {},
   "outputs": [],
   "source": [
    "def generateChartNivelesAlcanzados2(niveles, ultNivelCompletado):\n",
    "    cuantosHanLlegadoAlNivel = getCuantasPersonasHanAlcanzadoNivel(ultNivelCompletado, niveles)\n",
    "    ultNivelCat = {}\n",
    "    for level in cuantosHanLlegadoAlNivel:\n",
    "        ultNivelCat[(\" \".join(level.split(\"_\")[:-1])).capitalize()] = cuantosHanLlegadoAlNivel[level]\n",
    "    \n",
    "    df = pd.DataFrame({\"levels\" : list(ultNivelCat.keys()), \"nJugadores\" : list(ultNivelCat.values())})\n",
    "    fig = px.bar(df, x=\"levels\", y='nJugadores', labels={'levels':'Categorías', 'nJugadores':'Numero Jugadores'})\n",
    "    fig.update_traces(marker_color='#738FA7')\n",
    "    fig.update_layout(plot_bgcolor='#C3CEDA')\n",
    "    fig.write_json(\"./plots/categorias.json\")\n",
    "    return fig\n"
   ]
  },
  {
   "cell_type": "code",
   "execution_count": 13,
   "id": "1760da99",
   "metadata": {},
   "outputs": [],
   "source": [
    "def getChartPorcentajeCategorias(niveles, ultNivelCompletado, total_players):\n",
    "\n",
    "    cuantosHanLlegadoAlNivel = getCuantasPersonasHanAlcanzadoNivel(ultNivelCompletado, niveles)\n",
    "\n",
    "    ultimoNivelCat = {}\n",
    "    for level in niveles:\n",
    "        category = level.split(\"_\")[0]\n",
    "        ultimoNivelCat[category] = level\n",
    "    \n",
    "    percentages = {}\n",
    "    for ultNivel in ultimoNivelCat.values():\n",
    "        percentages[ultNivel] = (cuantosHanLlegadoAlNivel[ultNivel]/total_players)*100\n",
    "    \n",
    "    fig, ax = plt.subplots()\n",
    "    ax.bar(range(len(percentages)), list(percentages.values()), align='center', color=\"#738FA7\")\n",
    "    ax.set_xticks(range(len(percentages)))\n",
    "    ax.set_xticklabels(map(lambda c: c.split(\"_\")[0], list(percentages.keys())), rotation=45, ha='right')\n",
    "    ax.set_ylim((0, 100))\n",
    "    ax.set_ylabel('Porcentaje Jugadores')\n",
    "    ax.set_xlabel('Categorías')\n",
    "    ax.set_title('Categorías Superadas')\n",
    "    \n",
    "    return ax"
   ]
  },
  {
   "cell_type": "code",
   "execution_count": 14,
   "id": "af9ad872-838a-4361-9b2b-c476689e5e4d",
   "metadata": {},
   "outputs": [],
   "source": [
    "pd.options.display.max_columns = None\n",
    "pd.set_option('display.max_colwidth', None)\n",
    "pd.options.display.max_rows = None"
   ]
  },
  {
   "cell_type": "code",
   "execution_count": 15,
   "id": "47fb23d1-e343-4576-8c52-68fb896e9049",
   "metadata": {},
   "outputs": [],
   "source": [
    "JSONFile = open('./data/trazasOrdenadas.json')\n",
    "rawData = json.load(JSONFile)\n",
    "JSONFile.close()\n",
    "\n",
    "resultados_Tiempos_Nivel_Jugador = extraerTiemposPorNivelJugador(rawData)"
   ]
  },
  {
   "cell_type": "code",
   "execution_count": 16,
   "id": "4a28ae5c-65c3-43d4-ba98-c6f325d91e93",
   "metadata": {},
   "outputs": [],
   "source": [
    "tiemposIntentosJugadores = tiempoPorNiveles_Jugador(resultados_Tiempos_Nivel_Jugador[\"tiempos\"])\n",
    "#pd.DataFrame(tiemposIntentosJugadores)\n",
    "#pd.DataFrame(resultados_Tiempos_Nivel_Jugador[\"intentosNecesarios\"])"
   ]
  },
  {
   "cell_type": "code",
   "execution_count": 17,
   "id": "701cd0ac-d88f-413e-89a7-79ad51a58b8b",
   "metadata": {},
   "outputs": [],
   "source": [
    "soloPrimerExito = True\n",
    "tiemposOrdenados = False\n",
    "tiemposMedios = getMediaTiempoPorNivel(tiemposIntentosJugadores, soloPrimerExito, tiemposOrdenados)\n",
    "#pd.DataFrame(tiemposMedios[\"mediaTiempos\"])\n",
    "#pd.DataFrame(tiemposMedios[\"mediaEstrellas\"])\n",
    "#pd.DataFrame(tiemposMedios[\"listaNiveles\"])\n",
    "#pd.DataFrame(tiemposMedios[\"tiemposIndividuales\"])"
   ]
  },
  {
   "cell_type": "code",
   "execution_count": 18,
   "id": "9b26941f-7a8f-41d3-b8f4-5732e676a9b0",
   "metadata": {},
   "outputs": [],
   "source": [
    "ultNivelAlcanzado = getUltimoNivelAlcanzado(tiemposMedios[\"tiemposIndividuales\"])\n",
    "#print(ultNivelAlcanzado)"
   ]
  },
  {
   "cell_type": "code",
   "execution_count": 19,
   "id": "8392b99c-3307-4e4d-8059-3934ce7e7394",
   "metadata": {},
   "outputs": [],
   "source": [
    "intentosOrdenados = False\n",
    "intentosMedios_Individual = getIntentosMedios_HastaCompletarNivel(resultados_Tiempos_Nivel_Jugador[\"intentosNecesarios\"], intentosOrdenados)\n",
    "#pd.DataFrame(intentosMedios_Individual[\"intentosMedios\"])\n",
    "#pd.DataFrame(intentosMedios_Individual[\"intentosIndividual\"])"
   ]
  },
  {
   "cell_type": "code",
   "execution_count": 20,
   "id": "f013eba9-a18e-44fc-95d1-d8a52f58da9b",
   "metadata": {},
   "outputs": [],
   "source": [
    "tiemposList = extraerArray(tiemposMedios[\"tiemposIndividuales\"])\n",
    "intentosList = extraerArray(intentosMedios_Individual[\"intentosIndividual\"])\n",
    "#pd.DataFrame.from_dict(tiemposList, orient='index').transpose()\n",
    "#pd.DataFrame.from_dict(intentosList, orient='index').transpose()"
   ]
  },
  {
   "cell_type": "code",
   "execution_count": 21,
   "id": "3c76de52",
   "metadata": {},
   "outputs": [],
   "source": [
    "intentosListNombres = extraerArrayConNombres(intentosMedios_Individual[\"intentosIndividual\"])\n",
    "#pd.DataFrame.from_dict(intentosListNombres, orient='index').transpose()"
   ]
  },
  {
   "cell_type": "code",
   "execution_count": 91,
   "id": "b846725a",
   "metadata": {},
   "outputs": [
    {
     "data": {
      "application/vnd.plotly.v1+json": {
       "config": {
        "plotlyServerURL": "https://plot.ly"
       },
       "data": [
        {
         "alignmentgroup": "True",
         "hovertemplate": "Categorías=%{x}<br>Numero Jugadores=%{y}<extra></extra>",
         "legendgroup": "",
         "marker": {
          "color": "#738FA7",
          "pattern": {
           "shape": ""
          }
         },
         "name": "",
         "offsetgroup": "",
         "orientation": "v",
         "showlegend": false,
         "textposition": "auto",
         "type": "bar",
         "x": [
          "Tutorials",
          "Variables",
          "Types",
          "Basic operators",
          "Loops"
         ],
         "xaxis": "x",
         "y": [
          143,
          114,
          38,
          6,
          6
         ],
         "yaxis": "y"
        }
       ],
       "layout": {
        "barmode": "relative",
        "legend": {
         "tracegroupgap": 0
        },
        "margin": {
         "t": 60
        },
        "plot_bgcolor": "#C3CEDA",
        "template": {
         "data": {
          "bar": [
           {
            "error_x": {
             "color": "#2a3f5f"
            },
            "error_y": {
             "color": "#2a3f5f"
            },
            "marker": {
             "line": {
              "color": "#E5ECF6",
              "width": 0.5
             },
             "pattern": {
              "fillmode": "overlay",
              "size": 10,
              "solidity": 0.2
             }
            },
            "type": "bar"
           }
          ],
          "barpolar": [
           {
            "marker": {
             "line": {
              "color": "#E5ECF6",
              "width": 0.5
             },
             "pattern": {
              "fillmode": "overlay",
              "size": 10,
              "solidity": 0.2
             }
            },
            "type": "barpolar"
           }
          ],
          "carpet": [
           {
            "aaxis": {
             "endlinecolor": "#2a3f5f",
             "gridcolor": "white",
             "linecolor": "white",
             "minorgridcolor": "white",
             "startlinecolor": "#2a3f5f"
            },
            "baxis": {
             "endlinecolor": "#2a3f5f",
             "gridcolor": "white",
             "linecolor": "white",
             "minorgridcolor": "white",
             "startlinecolor": "#2a3f5f"
            },
            "type": "carpet"
           }
          ],
          "choropleth": [
           {
            "colorbar": {
             "outlinewidth": 0,
             "ticks": ""
            },
            "type": "choropleth"
           }
          ],
          "contour": [
           {
            "colorbar": {
             "outlinewidth": 0,
             "ticks": ""
            },
            "colorscale": [
             [
              0,
              "#0d0887"
             ],
             [
              0.1111111111111111,
              "#46039f"
             ],
             [
              0.2222222222222222,
              "#7201a8"
             ],
             [
              0.3333333333333333,
              "#9c179e"
             ],
             [
              0.4444444444444444,
              "#bd3786"
             ],
             [
              0.5555555555555556,
              "#d8576b"
             ],
             [
              0.6666666666666666,
              "#ed7953"
             ],
             [
              0.7777777777777778,
              "#fb9f3a"
             ],
             [
              0.8888888888888888,
              "#fdca26"
             ],
             [
              1,
              "#f0f921"
             ]
            ],
            "type": "contour"
           }
          ],
          "contourcarpet": [
           {
            "colorbar": {
             "outlinewidth": 0,
             "ticks": ""
            },
            "type": "contourcarpet"
           }
          ],
          "heatmap": [
           {
            "colorbar": {
             "outlinewidth": 0,
             "ticks": ""
            },
            "colorscale": [
             [
              0,
              "#0d0887"
             ],
             [
              0.1111111111111111,
              "#46039f"
             ],
             [
              0.2222222222222222,
              "#7201a8"
             ],
             [
              0.3333333333333333,
              "#9c179e"
             ],
             [
              0.4444444444444444,
              "#bd3786"
             ],
             [
              0.5555555555555556,
              "#d8576b"
             ],
             [
              0.6666666666666666,
              "#ed7953"
             ],
             [
              0.7777777777777778,
              "#fb9f3a"
             ],
             [
              0.8888888888888888,
              "#fdca26"
             ],
             [
              1,
              "#f0f921"
             ]
            ],
            "type": "heatmap"
           }
          ],
          "heatmapgl": [
           {
            "colorbar": {
             "outlinewidth": 0,
             "ticks": ""
            },
            "colorscale": [
             [
              0,
              "#0d0887"
             ],
             [
              0.1111111111111111,
              "#46039f"
             ],
             [
              0.2222222222222222,
              "#7201a8"
             ],
             [
              0.3333333333333333,
              "#9c179e"
             ],
             [
              0.4444444444444444,
              "#bd3786"
             ],
             [
              0.5555555555555556,
              "#d8576b"
             ],
             [
              0.6666666666666666,
              "#ed7953"
             ],
             [
              0.7777777777777778,
              "#fb9f3a"
             ],
             [
              0.8888888888888888,
              "#fdca26"
             ],
             [
              1,
              "#f0f921"
             ]
            ],
            "type": "heatmapgl"
           }
          ],
          "histogram": [
           {
            "marker": {
             "pattern": {
              "fillmode": "overlay",
              "size": 10,
              "solidity": 0.2
             }
            },
            "type": "histogram"
           }
          ],
          "histogram2d": [
           {
            "colorbar": {
             "outlinewidth": 0,
             "ticks": ""
            },
            "colorscale": [
             [
              0,
              "#0d0887"
             ],
             [
              0.1111111111111111,
              "#46039f"
             ],
             [
              0.2222222222222222,
              "#7201a8"
             ],
             [
              0.3333333333333333,
              "#9c179e"
             ],
             [
              0.4444444444444444,
              "#bd3786"
             ],
             [
              0.5555555555555556,
              "#d8576b"
             ],
             [
              0.6666666666666666,
              "#ed7953"
             ],
             [
              0.7777777777777778,
              "#fb9f3a"
             ],
             [
              0.8888888888888888,
              "#fdca26"
             ],
             [
              1,
              "#f0f921"
             ]
            ],
            "type": "histogram2d"
           }
          ],
          "histogram2dcontour": [
           {
            "colorbar": {
             "outlinewidth": 0,
             "ticks": ""
            },
            "colorscale": [
             [
              0,
              "#0d0887"
             ],
             [
              0.1111111111111111,
              "#46039f"
             ],
             [
              0.2222222222222222,
              "#7201a8"
             ],
             [
              0.3333333333333333,
              "#9c179e"
             ],
             [
              0.4444444444444444,
              "#bd3786"
             ],
             [
              0.5555555555555556,
              "#d8576b"
             ],
             [
              0.6666666666666666,
              "#ed7953"
             ],
             [
              0.7777777777777778,
              "#fb9f3a"
             ],
             [
              0.8888888888888888,
              "#fdca26"
             ],
             [
              1,
              "#f0f921"
             ]
            ],
            "type": "histogram2dcontour"
           }
          ],
          "mesh3d": [
           {
            "colorbar": {
             "outlinewidth": 0,
             "ticks": ""
            },
            "type": "mesh3d"
           }
          ],
          "parcoords": [
           {
            "line": {
             "colorbar": {
              "outlinewidth": 0,
              "ticks": ""
             }
            },
            "type": "parcoords"
           }
          ],
          "pie": [
           {
            "automargin": true,
            "type": "pie"
           }
          ],
          "scatter": [
           {
            "fillpattern": {
             "fillmode": "overlay",
             "size": 10,
             "solidity": 0.2
            },
            "type": "scatter"
           }
          ],
          "scatter3d": [
           {
            "line": {
             "colorbar": {
              "outlinewidth": 0,
              "ticks": ""
             }
            },
            "marker": {
             "colorbar": {
              "outlinewidth": 0,
              "ticks": ""
             }
            },
            "type": "scatter3d"
           }
          ],
          "scattercarpet": [
           {
            "marker": {
             "colorbar": {
              "outlinewidth": 0,
              "ticks": ""
             }
            },
            "type": "scattercarpet"
           }
          ],
          "scattergeo": [
           {
            "marker": {
             "colorbar": {
              "outlinewidth": 0,
              "ticks": ""
             }
            },
            "type": "scattergeo"
           }
          ],
          "scattergl": [
           {
            "marker": {
             "colorbar": {
              "outlinewidth": 0,
              "ticks": ""
             }
            },
            "type": "scattergl"
           }
          ],
          "scattermapbox": [
           {
            "marker": {
             "colorbar": {
              "outlinewidth": 0,
              "ticks": ""
             }
            },
            "type": "scattermapbox"
           }
          ],
          "scatterpolar": [
           {
            "marker": {
             "colorbar": {
              "outlinewidth": 0,
              "ticks": ""
             }
            },
            "type": "scatterpolar"
           }
          ],
          "scatterpolargl": [
           {
            "marker": {
             "colorbar": {
              "outlinewidth": 0,
              "ticks": ""
             }
            },
            "type": "scatterpolargl"
           }
          ],
          "scatterternary": [
           {
            "marker": {
             "colorbar": {
              "outlinewidth": 0,
              "ticks": ""
             }
            },
            "type": "scatterternary"
           }
          ],
          "surface": [
           {
            "colorbar": {
             "outlinewidth": 0,
             "ticks": ""
            },
            "colorscale": [
             [
              0,
              "#0d0887"
             ],
             [
              0.1111111111111111,
              "#46039f"
             ],
             [
              0.2222222222222222,
              "#7201a8"
             ],
             [
              0.3333333333333333,
              "#9c179e"
             ],
             [
              0.4444444444444444,
              "#bd3786"
             ],
             [
              0.5555555555555556,
              "#d8576b"
             ],
             [
              0.6666666666666666,
              "#ed7953"
             ],
             [
              0.7777777777777778,
              "#fb9f3a"
             ],
             [
              0.8888888888888888,
              "#fdca26"
             ],
             [
              1,
              "#f0f921"
             ]
            ],
            "type": "surface"
           }
          ],
          "table": [
           {
            "cells": {
             "fill": {
              "color": "#EBF0F8"
             },
             "line": {
              "color": "white"
             }
            },
            "header": {
             "fill": {
              "color": "#C8D4E3"
             },
             "line": {
              "color": "white"
             }
            },
            "type": "table"
           }
          ]
         },
         "layout": {
          "annotationdefaults": {
           "arrowcolor": "#2a3f5f",
           "arrowhead": 0,
           "arrowwidth": 1
          },
          "autotypenumbers": "strict",
          "coloraxis": {
           "colorbar": {
            "outlinewidth": 0,
            "ticks": ""
           }
          },
          "colorscale": {
           "diverging": [
            [
             0,
             "#8e0152"
            ],
            [
             0.1,
             "#c51b7d"
            ],
            [
             0.2,
             "#de77ae"
            ],
            [
             0.3,
             "#f1b6da"
            ],
            [
             0.4,
             "#fde0ef"
            ],
            [
             0.5,
             "#f7f7f7"
            ],
            [
             0.6,
             "#e6f5d0"
            ],
            [
             0.7,
             "#b8e186"
            ],
            [
             0.8,
             "#7fbc41"
            ],
            [
             0.9,
             "#4d9221"
            ],
            [
             1,
             "#276419"
            ]
           ],
           "sequential": [
            [
             0,
             "#0d0887"
            ],
            [
             0.1111111111111111,
             "#46039f"
            ],
            [
             0.2222222222222222,
             "#7201a8"
            ],
            [
             0.3333333333333333,
             "#9c179e"
            ],
            [
             0.4444444444444444,
             "#bd3786"
            ],
            [
             0.5555555555555556,
             "#d8576b"
            ],
            [
             0.6666666666666666,
             "#ed7953"
            ],
            [
             0.7777777777777778,
             "#fb9f3a"
            ],
            [
             0.8888888888888888,
             "#fdca26"
            ],
            [
             1,
             "#f0f921"
            ]
           ],
           "sequentialminus": [
            [
             0,
             "#0d0887"
            ],
            [
             0.1111111111111111,
             "#46039f"
            ],
            [
             0.2222222222222222,
             "#7201a8"
            ],
            [
             0.3333333333333333,
             "#9c179e"
            ],
            [
             0.4444444444444444,
             "#bd3786"
            ],
            [
             0.5555555555555556,
             "#d8576b"
            ],
            [
             0.6666666666666666,
             "#ed7953"
            ],
            [
             0.7777777777777778,
             "#fb9f3a"
            ],
            [
             0.8888888888888888,
             "#fdca26"
            ],
            [
             1,
             "#f0f921"
            ]
           ]
          },
          "colorway": [
           "#636efa",
           "#EF553B",
           "#00cc96",
           "#ab63fa",
           "#FFA15A",
           "#19d3f3",
           "#FF6692",
           "#B6E880",
           "#FF97FF",
           "#FECB52"
          ],
          "font": {
           "color": "#2a3f5f"
          },
          "geo": {
           "bgcolor": "white",
           "lakecolor": "white",
           "landcolor": "#E5ECF6",
           "showlakes": true,
           "showland": true,
           "subunitcolor": "white"
          },
          "hoverlabel": {
           "align": "left"
          },
          "hovermode": "closest",
          "mapbox": {
           "style": "light"
          },
          "paper_bgcolor": "white",
          "plot_bgcolor": "#E5ECF6",
          "polar": {
           "angularaxis": {
            "gridcolor": "white",
            "linecolor": "white",
            "ticks": ""
           },
           "bgcolor": "#E5ECF6",
           "radialaxis": {
            "gridcolor": "white",
            "linecolor": "white",
            "ticks": ""
           }
          },
          "scene": {
           "xaxis": {
            "backgroundcolor": "#E5ECF6",
            "gridcolor": "white",
            "gridwidth": 2,
            "linecolor": "white",
            "showbackground": true,
            "ticks": "",
            "zerolinecolor": "white"
           },
           "yaxis": {
            "backgroundcolor": "#E5ECF6",
            "gridcolor": "white",
            "gridwidth": 2,
            "linecolor": "white",
            "showbackground": true,
            "ticks": "",
            "zerolinecolor": "white"
           },
           "zaxis": {
            "backgroundcolor": "#E5ECF6",
            "gridcolor": "white",
            "gridwidth": 2,
            "linecolor": "white",
            "showbackground": true,
            "ticks": "",
            "zerolinecolor": "white"
           }
          },
          "shapedefaults": {
           "line": {
            "color": "#2a3f5f"
           }
          },
          "ternary": {
           "aaxis": {
            "gridcolor": "white",
            "linecolor": "white",
            "ticks": ""
           },
           "baxis": {
            "gridcolor": "white",
            "linecolor": "white",
            "ticks": ""
           },
           "bgcolor": "#E5ECF6",
           "caxis": {
            "gridcolor": "white",
            "linecolor": "white",
            "ticks": ""
           }
          },
          "title": {
           "x": 0.05
          },
          "xaxis": {
           "automargin": true,
           "gridcolor": "white",
           "linecolor": "white",
           "ticks": "",
           "title": {
            "standoff": 15
           },
           "zerolinecolor": "white",
           "zerolinewidth": 2
          },
          "yaxis": {
           "automargin": true,
           "gridcolor": "white",
           "linecolor": "white",
           "ticks": "",
           "title": {
            "standoff": 15
           },
           "zerolinecolor": "white",
           "zerolinewidth": 2
          }
         }
        },
        "xaxis": {
         "anchor": "y",
         "domain": [
          0,
          1
         ],
         "title": {
          "text": "Categorías"
         }
        },
        "yaxis": {
         "anchor": "x",
         "domain": [
          0,
          1
         ],
         "title": {
          "text": "Numero Jugadores"
         }
        }
       }
      }
     },
     "metadata": {},
     "output_type": "display_data"
    }
   ],
   "source": [
    "fig = generateChartNivelesAlcanzados2(tiemposMedios[\"listaNiveles\"], ultNivelAlcanzado)\n",
    "fig.show()"
   ]
  },
  {
   "cell_type": "code",
   "execution_count": 29,
   "id": "c4613c46",
   "metadata": {},
   "outputs": [],
   "source": [
    "#getChartPorcentajeCategorias(tiemposMedios[\"listaNiveles\"], ultNivelAlcanzado, len(ultNivelAlcanzado))"
   ]
  },
  {
   "cell_type": "code",
   "execution_count": 37,
   "id": "0e84441f-5863-4167-85e6-92eaa572fd64",
   "metadata": {},
   "outputs": [],
   "source": [
    "#boxplotsIntentos = create_boxplots(intentosList)"
   ]
  },
  {
   "cell_type": "code",
   "execution_count": 28,
   "id": "c8674095-e939-4499-9f85-f5c79df0f35e",
   "metadata": {},
   "outputs": [],
   "source": [
    "#boxplotsTiempos = create_boxplots(parseTiemposDictToInteger(tiemposList))"
   ]
  },
  {
   "cell_type": "code",
   "execution_count": 26,
   "id": "686909e4-fe2c-4f0f-97b2-5cf89fb7d884",
   "metadata": {},
   "outputs": [],
   "source": [
    "def create_boxplots2(data_dict):\n",
    "    categorias = defaultdict(defaultdict)\n",
    "    for d in data_dict:\n",
    "        categorias[d.split(\"_\")[0]][d] = data_dict[d]\n",
    "\n",
    "\n",
    "    boxplots = []\n",
    "    for c in categorias:\n",
    "        df = pd.DataFrame.from_dict(categorias[c], orient=\"index\").transpose()\n",
    "        df_melt = pd.melt(df.reset_index(), id_vars=[\"index\"], value_vars=list(categorias[c].keys()))\n",
    "        df_melt.columns = [\"index\", c, \"Intentos\"]\n",
    "        fig =px.box(df_melt, x=c, y=\"Intentos\", color=c, hover_data=[\"Intentos\", \"index\"])\n",
    "        #fig.write_json(\"./plots/\"+c+\".json\")\n",
    "        #fig.show()\n",
    "        boxplots.append(fig)\n",
    "        \n",
    "    \n",
    "    return boxplots    \n",
    "\n",
    "boxs= create_boxplots2(intentosList)"
   ]
  },
  {
   "cell_type": "code",
   "execution_count": 27,
   "metadata": {},
   "outputs": [
    {
     "data": {
      "application/vnd.plotly.v1+json": {
       "config": {
        "plotlyServerURL": "https://plot.ly"
       },
       "data": [
        {
         "alignmentgroup": "True",
         "customdata": [
          [
           "gqoj"
          ],
          [
           "gqoj"
          ],
          [
           "gqoj"
          ],
          [
           "gqoj"
          ],
          [
           "gqoj"
          ],
          [
           "gqoj"
          ],
          [
           "gqoj"
          ],
          [
           "hgfx"
          ],
          [
           "hgfx"
          ],
          [
           "hgfx"
          ],
          [
           "hgfx"
          ],
          [
           "hgfx"
          ],
          [
           "hgfx"
          ],
          [
           "hgfx"
          ],
          [
           "uala"
          ],
          [
           "uala"
          ],
          [
           "uala"
          ],
          [
           "uala"
          ],
          [
           "uala"
          ],
          [
           "uala"
          ],
          [
           "uala"
          ],
          [
           "pbgky"
          ],
          [
           "pbgky"
          ],
          [
           "pbgky"
          ],
          [
           "pbgky"
          ],
          [
           "pbgky"
          ],
          [
           "pbgky"
          ],
          [
           "pbgky"
          ],
          [
           "auvqa"
          ],
          [
           "auvqa"
          ],
          [
           "auvqa"
          ],
          [
           "auvqa"
          ],
          [
           "auvqa"
          ],
          [
           "auvqa"
          ],
          [
           "auvqa"
          ],
          [
           "qeqyj"
          ],
          [
           "qeqyj"
          ],
          [
           "qeqyj"
          ],
          [
           "qeqyj"
          ],
          [
           "qeqyj"
          ],
          [
           "qeqyj"
          ],
          [
           "qeqyj"
          ],
          [
           "fkmtp"
          ],
          [
           "fkmtp"
          ],
          [
           "fkmtp"
          ],
          [
           "fkmtp"
          ],
          [
           "fkmtp"
          ],
          [
           "fkmtp"
          ],
          [
           "fkmtp"
          ],
          [
           "bdwyj"
          ],
          [
           "bdwyj"
          ],
          [
           "bdwyj"
          ],
          [
           "bdwyj"
          ],
          [
           "bdwyj"
          ],
          [
           "bdwyj"
          ],
          [
           "bdwyj"
          ],
          [
           "eprdu"
          ],
          [
           "eprdu"
          ],
          [
           "eprdu"
          ],
          [
           "eprdu"
          ],
          [
           "eprdu"
          ],
          [
           "eprdu"
          ],
          [
           "eprdu"
          ],
          [
           "hjpbw"
          ],
          [
           "hjpbw"
          ],
          [
           "hjpbw"
          ],
          [
           "hjpbw"
          ],
          [
           "hjpbw"
          ],
          [
           "hjpbw"
          ],
          [
           "hjpbw"
          ],
          [
           "ftpnb"
          ],
          [
           "ftpnb"
          ],
          [
           "ftpnb"
          ],
          [
           "ftpnb"
          ],
          [
           "ftpnb"
          ],
          [
           "ftpnb"
          ],
          [
           "ftpnb"
          ],
          [
           "gleqe"
          ],
          [
           "gleqe"
          ],
          [
           "gleqe"
          ],
          [
           "gleqe"
          ],
          [
           "gleqe"
          ],
          [
           "gleqe"
          ],
          [
           "gleqe"
          ],
          [
           "ikcar"
          ],
          [
           "ikcar"
          ],
          [
           "ikcar"
          ],
          [
           "ikcar"
          ],
          [
           "ikcar"
          ],
          [
           "ikcar"
          ],
          [
           "ikcar"
          ],
          [
           "loemd"
          ],
          [
           "loemd"
          ],
          [
           "loemd"
          ],
          [
           "loemd"
          ],
          [
           "loemd"
          ],
          [
           "loemd"
          ],
          [
           "loemd"
          ],
          [
           "gcpze"
          ],
          [
           "gcpze"
          ],
          [
           "gcpze"
          ],
          [
           "gcpze"
          ],
          [
           "gcpze"
          ],
          [
           "gcpze"
          ],
          [
           "gcpze"
          ],
          [
           "khadt"
          ],
          [
           "khadt"
          ],
          [
           "khadt"
          ],
          [
           "khadt"
          ],
          [
           "khadt"
          ],
          [
           "khadt"
          ],
          [
           "khadt"
          ],
          [
           "zxvkj"
          ],
          [
           "zxvkj"
          ],
          [
           "zxvkj"
          ],
          [
           "zxvkj"
          ],
          [
           "zxvkj"
          ],
          [
           "zxvkj"
          ],
          [
           "zxvkj"
          ],
          [
           "srjon"
          ],
          [
           "srjon"
          ],
          [
           "srjon"
          ],
          [
           "srjon"
          ],
          [
           "srjon"
          ],
          [
           "srjon"
          ],
          [
           "srjon"
          ],
          [
           "uzzpo"
          ],
          [
           "uzzpo"
          ],
          [
           "uzzpo"
          ],
          [
           "uzzpo"
          ],
          [
           "uzzpo"
          ],
          [
           "uzzpo"
          ],
          [
           "uzzpo"
          ],
          [
           "vsxld"
          ],
          [
           "vsxld"
          ],
          [
           "vsxld"
          ],
          [
           "vsxld"
          ],
          [
           "vsxld"
          ],
          [
           "vsxld"
          ],
          [
           "vsxld"
          ],
          [
           "sxipu"
          ],
          [
           "sxipu"
          ],
          [
           "sxipu"
          ],
          [
           "sxipu"
          ],
          [
           "sxipu"
          ],
          [
           "sxipu"
          ],
          [
           "sxipu"
          ],
          [
           "kmqou"
          ],
          [
           "kmqou"
          ],
          [
           "kmqou"
          ],
          [
           "kmqou"
          ],
          [
           "kmqou"
          ],
          [
           "kmqou"
          ],
          [
           "kmqou"
          ],
          [
           "ejeuw"
          ],
          [
           "ejeuw"
          ],
          [
           "ejeuw"
          ],
          [
           "ejeuw"
          ],
          [
           "ejeuw"
          ],
          [
           "ejeuw"
          ],
          [
           "ejeuw"
          ],
          [
           "xnpqf"
          ],
          [
           "xnpqf"
          ],
          [
           "xnpqf"
          ],
          [
           "xnpqf"
          ],
          [
           "xnpqf"
          ],
          [
           "xnpqf"
          ],
          [
           "xnpqf"
          ],
          [
           "ipdcp"
          ],
          [
           "ipdcp"
          ],
          [
           "ipdcp"
          ],
          [
           "ipdcp"
          ],
          [
           "ipdcp"
          ],
          [
           "ipdcp"
          ],
          [
           "ipdcp"
          ],
          [
           "epqkm"
          ],
          [
           "epqkm"
          ],
          [
           "epqkm"
          ],
          [
           "epqkm"
          ],
          [
           "epqkm"
          ],
          [
           "epqkm"
          ],
          [
           "epqkm"
          ],
          [
           "zwzfv"
          ],
          [
           "zwzfv"
          ],
          [
           "zwzfv"
          ],
          [
           "zwzfv"
          ],
          [
           "zwzfv"
          ],
          [
           "zwzfv"
          ],
          [
           "zwzfv"
          ],
          [
           "krahz"
          ],
          [
           "krahz"
          ],
          [
           "krahz"
          ],
          [
           "krahz"
          ],
          [
           "krahz"
          ],
          [
           "krahz"
          ],
          [
           "krahz"
          ],
          [
           "grkij"
          ],
          [
           "grkij"
          ],
          [
           "grkij"
          ],
          [
           "grkij"
          ],
          [
           "grkij"
          ],
          [
           "grkij"
          ],
          [
           "grkij"
          ],
          [
           "zcibf"
          ],
          [
           "zcibf"
          ],
          [
           "zcibf"
          ],
          [
           "zcibf"
          ],
          [
           "zcibf"
          ],
          [
           "zcibf"
          ],
          [
           "zcibf"
          ],
          [
           "rdiaf"
          ],
          [
           "rdiaf"
          ],
          [
           "rdiaf"
          ],
          [
           "rdiaf"
          ],
          [
           "rdiaf"
          ],
          [
           "rdiaf"
          ],
          [
           "rdiaf"
          ],
          [
           "yvpmf"
          ],
          [
           "yvpmf"
          ],
          [
           "yvpmf"
          ],
          [
           "yvpmf"
          ],
          [
           "yvpmf"
          ],
          [
           "yvpmf"
          ],
          [
           "yvpmf"
          ],
          [
           "pygoc"
          ],
          [
           "pygoc"
          ],
          [
           "pygoc"
          ],
          [
           "pygoc"
          ],
          [
           "pygoc"
          ],
          [
           "pygoc"
          ],
          [
           "pygoc"
          ],
          [
           "ubmtx"
          ],
          [
           "ubmtx"
          ],
          [
           "ubmtx"
          ],
          [
           "ubmtx"
          ],
          [
           "ubmtx"
          ],
          [
           "ubmtx"
          ],
          [
           "ubmtx"
          ],
          [
           "edxmq"
          ],
          [
           "edxmq"
          ],
          [
           "edxmq"
          ],
          [
           "edxmq"
          ],
          [
           "edxmq"
          ],
          [
           "edxmq"
          ],
          [
           "edxmq"
          ],
          [
           "asopk"
          ],
          [
           "asopk"
          ],
          [
           "asopk"
          ],
          [
           "asopk"
          ],
          [
           "asopk"
          ],
          [
           "asopk"
          ],
          [
           "asopk"
          ],
          [
           "onyep"
          ],
          [
           "onyep"
          ],
          [
           "onyep"
          ],
          [
           "onyep"
          ],
          [
           "onyep"
          ],
          [
           "onyep"
          ],
          [
           "onyep"
          ],
          [
           "swvxx"
          ],
          [
           "swvxx"
          ],
          [
           "swvxx"
          ],
          [
           "swvxx"
          ],
          [
           "swvxx"
          ],
          [
           "swvxx"
          ],
          [
           "swvxx"
          ],
          [
           "kkoif"
          ],
          [
           "kkoif"
          ],
          [
           "kkoif"
          ],
          [
           "kkoif"
          ],
          [
           "kkoif"
          ],
          [
           "kkoif"
          ],
          [
           "kkoif"
          ],
          [
           "oahey"
          ],
          [
           "oahey"
          ],
          [
           "oahey"
          ],
          [
           "oahey"
          ],
          [
           "oahey"
          ],
          [
           "oahey"
          ],
          [
           "oahey"
          ],
          [
           "cmbfi"
          ],
          [
           "cmbfi"
          ],
          [
           "cmbfi"
          ],
          [
           "cmbfi"
          ],
          [
           "cmbfi"
          ],
          [
           "cmbfi"
          ],
          [
           "cmbfi"
          ],
          [
           "bhyhw"
          ],
          [
           "bhyhw"
          ],
          [
           "bhyhw"
          ],
          [
           "bhyhw"
          ],
          [
           "bhyhw"
          ],
          [
           "bhyhw"
          ],
          [
           "bhyhw"
          ],
          [
           "accul"
          ],
          [
           "accul"
          ],
          [
           "accul"
          ],
          [
           "accul"
          ],
          [
           "accul"
          ],
          [
           "accul"
          ],
          [
           "accul"
          ],
          [
           "tekwp"
          ],
          [
           "tekwp"
          ],
          [
           "tekwp"
          ],
          [
           "tekwp"
          ],
          [
           "tekwp"
          ],
          [
           "tekwp"
          ],
          [
           "tekwp"
          ],
          [
           "dunul"
          ],
          [
           "dunul"
          ],
          [
           "dunul"
          ],
          [
           "dunul"
          ],
          [
           "dunul"
          ],
          [
           "dunul"
          ],
          [
           "dunul"
          ],
          [
           "dwqwi"
          ],
          [
           "dwqwi"
          ],
          [
           "dwqwi"
          ],
          [
           "dwqwi"
          ],
          [
           "dwqwi"
          ],
          [
           "dwqwi"
          ],
          [
           "dwqwi"
          ],
          [
           "yfohf"
          ],
          [
           "yfohf"
          ],
          [
           "yfohf"
          ],
          [
           "yfohf"
          ],
          [
           "yfohf"
          ],
          [
           "yfohf"
          ],
          [
           "yfohf"
          ],
          [
           "nmveq"
          ],
          [
           "nmveq"
          ],
          [
           "nmveq"
          ],
          [
           "nmveq"
          ],
          [
           "nmveq"
          ],
          [
           "nmveq"
          ],
          [
           "nmveq"
          ],
          [
           "tjfzy"
          ],
          [
           "tjfzy"
          ],
          [
           "tjfzy"
          ],
          [
           "tjfzy"
          ],
          [
           "tjfzy"
          ],
          [
           "tjfzy"
          ],
          [
           "tjfzy"
          ],
          [
           "sjpkc"
          ],
          [
           "sjpkc"
          ],
          [
           "sjpkc"
          ],
          [
           "sjpkc"
          ],
          [
           "sjpkc"
          ],
          [
           "sjpkc"
          ],
          [
           "sjpkc"
          ],
          [
           "camhi"
          ],
          [
           "camhi"
          ],
          [
           "camhi"
          ],
          [
           "camhi"
          ],
          [
           "camhi"
          ],
          [
           "camhi"
          ],
          [
           "camhi"
          ],
          [
           "stiry"
          ],
          [
           "stiry"
          ],
          [
           "stiry"
          ],
          [
           "stiry"
          ],
          [
           "stiry"
          ],
          [
           "stiry"
          ],
          [
           "stiry"
          ],
          [
           "ewqbs"
          ],
          [
           "ewqbs"
          ],
          [
           "ewqbs"
          ],
          [
           "ewqbs"
          ],
          [
           "ewqbs"
          ],
          [
           "ewqbs"
          ],
          [
           "ewqbs"
          ],
          [
           "lwryl"
          ],
          [
           "lwryl"
          ],
          [
           "lwryl"
          ],
          [
           "lwryl"
          ],
          [
           "lwryl"
          ],
          [
           "lwryl"
          ],
          [
           "lwryl"
          ],
          [
           "fivin"
          ],
          [
           "fivin"
          ],
          [
           "fivin"
          ],
          [
           "fivin"
          ],
          [
           "fivin"
          ],
          [
           "fivin"
          ],
          [
           "fivin"
          ],
          [
           "psido"
          ],
          [
           "psido"
          ],
          [
           "psido"
          ],
          [
           "psido"
          ],
          [
           "psido"
          ],
          [
           "psido"
          ],
          [
           "psido"
          ],
          [
           "tinco"
          ],
          [
           "tinco"
          ],
          [
           "tinco"
          ],
          [
           "tinco"
          ],
          [
           "tinco"
          ],
          [
           "tinco"
          ],
          [
           "tinco"
          ],
          [
           "mymho"
          ],
          [
           "mymho"
          ],
          [
           "mymho"
          ],
          [
           "mymho"
          ],
          [
           "mymho"
          ],
          [
           "mymho"
          ],
          [
           "mymho"
          ],
          [
           "zbgwk"
          ],
          [
           "zbgwk"
          ],
          [
           "zbgwk"
          ],
          [
           "zbgwk"
          ],
          [
           "zbgwk"
          ],
          [
           "zbgwk"
          ],
          [
           "zbgwk"
          ],
          [
           "fyyya"
          ],
          [
           "fyyya"
          ],
          [
           "fyyya"
          ],
          [
           "fyyya"
          ],
          [
           "fyyya"
          ],
          [
           "fyyya"
          ],
          [
           "fyyya"
          ],
          [
           "gdljy"
          ],
          [
           "gdljy"
          ],
          [
           "gdljy"
          ],
          [
           "gdljy"
          ],
          [
           "gdljy"
          ],
          [
           "gdljy"
          ],
          [
           "gdljy"
          ],
          [
           "wjaxi"
          ],
          [
           "wjaxi"
          ],
          [
           "wjaxi"
          ],
          [
           "wjaxi"
          ],
          [
           "wjaxi"
          ],
          [
           "wjaxi"
          ],
          [
           "wjaxi"
          ],
          [
           "ucdvy"
          ],
          [
           "ucdvy"
          ],
          [
           "ucdvy"
          ],
          [
           "ucdvy"
          ],
          [
           "ucdvy"
          ],
          [
           "ucdvy"
          ],
          [
           "ucdvy"
          ],
          [
           "dvmlu"
          ],
          [
           "dvmlu"
          ],
          [
           "dvmlu"
          ],
          [
           "dvmlu"
          ],
          [
           "dvmlu"
          ],
          [
           "dvmlu"
          ],
          [
           "dvmlu"
          ],
          [
           "yxewz"
          ],
          [
           "yxewz"
          ],
          [
           "yxewz"
          ],
          [
           "yxewz"
          ],
          [
           "yxewz"
          ],
          [
           "yxewz"
          ],
          [
           "yxewz"
          ],
          [
           "mjiso"
          ],
          [
           "mjiso"
          ],
          [
           "mjiso"
          ],
          [
           "mjiso"
          ],
          [
           "mjiso"
          ],
          [
           "mjiso"
          ],
          [
           "mjiso"
          ],
          [
           "gguuc"
          ],
          [
           "gguuc"
          ],
          [
           "gguuc"
          ],
          [
           "gguuc"
          ],
          [
           "gguuc"
          ],
          [
           "gguuc"
          ],
          [
           "gguuc"
          ],
          [
           "kkliq"
          ],
          [
           "kkliq"
          ],
          [
           "kkliq"
          ],
          [
           "kkliq"
          ],
          [
           "kkliq"
          ],
          [
           "kkliq"
          ],
          [
           "kkliq"
          ],
          [
           "dmwvy"
          ],
          [
           "dmwvy"
          ],
          [
           "dmwvy"
          ],
          [
           "dmwvy"
          ],
          [
           "dmwvy"
          ],
          [
           "dmwvy"
          ],
          [
           "dmwvy"
          ],
          [
           "hpdxj"
          ],
          [
           "hpdxj"
          ],
          [
           "hpdxj"
          ],
          [
           "hpdxj"
          ],
          [
           "hpdxj"
          ],
          [
           "hpdxj"
          ],
          [
           "hpdxj"
          ],
          [
           "tgwmn"
          ],
          [
           "tgwmn"
          ],
          [
           "tgwmn"
          ],
          [
           "tgwmn"
          ],
          [
           "tgwmn"
          ],
          [
           "tgwmn"
          ],
          [
           "tgwmn"
          ],
          [
           "hqmhq"
          ],
          [
           "hqmhq"
          ],
          [
           "hqmhq"
          ],
          [
           "hqmhq"
          ],
          [
           "hqmhq"
          ],
          [
           "hqmhq"
          ],
          [
           "hqmhq"
          ],
          [
           "rziia"
          ],
          [
           "rziia"
          ],
          [
           "rziia"
          ],
          [
           "rziia"
          ],
          [
           "rziia"
          ],
          [
           "rziia"
          ],
          [
           "rziia"
          ],
          [
           "yxjji"
          ],
          [
           "yxjji"
          ],
          [
           "yxjji"
          ],
          [
           "yxjji"
          ],
          [
           "yxjji"
          ],
          [
           "yxjji"
          ],
          [
           "yxjji"
          ],
          [
           "ztyed"
          ],
          [
           "ztyed"
          ],
          [
           "ztyed"
          ],
          [
           "ztyed"
          ],
          [
           "ztyed"
          ],
          [
           "ztyed"
          ],
          [
           "ztyed"
          ],
          [
           "vddlg"
          ],
          [
           "vddlg"
          ],
          [
           "vddlg"
          ],
          [
           "vddlg"
          ],
          [
           "vddlg"
          ],
          [
           "vddlg"
          ],
          [
           "vddlg"
          ],
          [
           "qfsdj"
          ],
          [
           "qfsdj"
          ],
          [
           "qfsdj"
          ],
          [
           "qfsdj"
          ],
          [
           "qfsdj"
          ],
          [
           "qfsdj"
          ],
          [
           "qfsdj"
          ],
          [
           "bjvnt"
          ],
          [
           "bjvnt"
          ],
          [
           "bjvnt"
          ],
          [
           "bjvnt"
          ],
          [
           "bjvnt"
          ],
          [
           "bjvnt"
          ],
          [
           "bjvnt"
          ],
          [
           "yazod"
          ],
          [
           "yazod"
          ],
          [
           "yazod"
          ],
          [
           "yazod"
          ],
          [
           "yazod"
          ],
          [
           "yazod"
          ],
          [
           "yazod"
          ],
          [
           "atlzs"
          ],
          [
           "atlzs"
          ],
          [
           "atlzs"
          ],
          [
           "atlzs"
          ],
          [
           "atlzs"
          ],
          [
           "atlzs"
          ],
          [
           "atlzs"
          ],
          [
           "ngavz"
          ],
          [
           "ngavz"
          ],
          [
           "ngavz"
          ],
          [
           "ngavz"
          ],
          [
           "ngavz"
          ],
          [
           "ngavz"
          ],
          [
           "ngavz"
          ],
          [
           "tqgyp"
          ],
          [
           "tqgyp"
          ],
          [
           "tqgyp"
          ],
          [
           "tqgyp"
          ],
          [
           "tqgyp"
          ],
          [
           "tqgyp"
          ],
          [
           "tqgyp"
          ],
          [
           "idmzi"
          ],
          [
           "idmzi"
          ],
          [
           "idmzi"
          ],
          [
           "idmzi"
          ],
          [
           "idmzi"
          ],
          [
           "idmzi"
          ],
          [
           "idmzi"
          ],
          [
           "aotlm"
          ],
          [
           "aotlm"
          ],
          [
           "aotlm"
          ],
          [
           "aotlm"
          ],
          [
           "aotlm"
          ],
          [
           "aotlm"
          ],
          [
           "aotlm"
          ],
          [
           "ahxym"
          ],
          [
           "ahxym"
          ],
          [
           "ahxym"
          ],
          [
           "ahxym"
          ],
          [
           "ahxym"
          ],
          [
           "ahxym"
          ],
          [
           "ahxym"
          ],
          [
           "vvqlm"
          ],
          [
           "vvqlm"
          ],
          [
           "vvqlm"
          ],
          [
           "vvqlm"
          ],
          [
           "vvqlm"
          ],
          [
           "vvqlm"
          ],
          [
           "vvqlm"
          ],
          [
           "lhrbj"
          ],
          [
           "lhrbj"
          ],
          [
           "lhrbj"
          ],
          [
           "lhrbj"
          ],
          [
           "lhrbj"
          ],
          [
           "lhrbj"
          ],
          [
           "lhrbj"
          ],
          [
           "zdnso"
          ],
          [
           "zdnso"
          ],
          [
           "zdnso"
          ],
          [
           "zdnso"
          ],
          [
           "zdnso"
          ],
          [
           "zdnso"
          ],
          [
           "zdnso"
          ],
          [
           "mgaak"
          ],
          [
           "mgaak"
          ],
          [
           "mgaak"
          ],
          [
           "mgaak"
          ],
          [
           "mgaak"
          ],
          [
           "mgaak"
          ],
          [
           "mgaak"
          ],
          [
           "tavin"
          ],
          [
           "tavin"
          ],
          [
           "tavin"
          ],
          [
           "tavin"
          ],
          [
           "tavin"
          ],
          [
           "tavin"
          ],
          [
           "tavin"
          ],
          [
           "huyyb"
          ],
          [
           "huyyb"
          ],
          [
           "huyyb"
          ],
          [
           "huyyb"
          ],
          [
           "huyyb"
          ],
          [
           "huyyb"
          ],
          [
           "huyyb"
          ],
          [
           "wqmgq"
          ],
          [
           "wqmgq"
          ],
          [
           "wqmgq"
          ],
          [
           "wqmgq"
          ],
          [
           "wqmgq"
          ],
          [
           "wqmgq"
          ],
          [
           "wqmgq"
          ],
          [
           "knewj"
          ],
          [
           "knewj"
          ],
          [
           "knewj"
          ],
          [
           "knewj"
          ],
          [
           "knewj"
          ],
          [
           "knewj"
          ],
          [
           "knewj"
          ],
          [
           "rqlug"
          ],
          [
           "rqlug"
          ],
          [
           "rqlug"
          ],
          [
           "rqlug"
          ],
          [
           "rqlug"
          ],
          [
           "rqlug"
          ],
          [
           "rqlug"
          ],
          [
           "tvxow"
          ],
          [
           "tvxow"
          ],
          [
           "tvxow"
          ],
          [
           "tvxow"
          ],
          [
           "tvxow"
          ],
          [
           "tvxow"
          ],
          [
           "tvxow"
          ],
          [
           "jhbuv"
          ],
          [
           "jhbuv"
          ],
          [
           "jhbuv"
          ],
          [
           "jhbuv"
          ],
          [
           "jhbuv"
          ],
          [
           "jhbuv"
          ],
          [
           "jhbuv"
          ],
          [
           "jozyx"
          ],
          [
           "jozyx"
          ],
          [
           "jozyx"
          ],
          [
           "jozyx"
          ],
          [
           "jozyx"
          ],
          [
           "jozyx"
          ],
          [
           "jozyx"
          ],
          [
           "xtdrq"
          ],
          [
           "xtdrq"
          ],
          [
           "xtdrq"
          ],
          [
           "xtdrq"
          ],
          [
           "xtdrq"
          ],
          [
           "xtdrq"
          ],
          [
           "xtdrq"
          ],
          [
           "ptmkr"
          ],
          [
           "ptmkr"
          ],
          [
           "ptmkr"
          ],
          [
           "ptmkr"
          ],
          [
           "ptmkr"
          ],
          [
           "ptmkr"
          ],
          [
           "ptmkr"
          ],
          [
           "pbwkf"
          ],
          [
           "pbwkf"
          ],
          [
           "pbwkf"
          ],
          [
           "pbwkf"
          ],
          [
           "pbwkf"
          ],
          [
           "pbwkf"
          ],
          [
           "pbwkf"
          ],
          [
           "thaho"
          ],
          [
           "thaho"
          ],
          [
           "thaho"
          ],
          [
           "thaho"
          ],
          [
           "thaho"
          ],
          [
           "thaho"
          ],
          [
           "thaho"
          ],
          [
           "pzfdd"
          ],
          [
           "pzfdd"
          ],
          [
           "pzfdd"
          ],
          [
           "pzfdd"
          ],
          [
           "pzfdd"
          ],
          [
           "pzfdd"
          ],
          [
           "pzfdd"
          ],
          [
           "icllt"
          ],
          [
           "icllt"
          ],
          [
           "icllt"
          ],
          [
           "icllt"
          ],
          [
           "icllt"
          ],
          [
           "icllt"
          ],
          [
           "icllt"
          ],
          [
           "mewpz"
          ],
          [
           "mewpz"
          ],
          [
           "mewpz"
          ],
          [
           "mewpz"
          ],
          [
           "mewpz"
          ],
          [
           "mewpz"
          ],
          [
           "mewpz"
          ],
          [
           "qwnpf"
          ],
          [
           "qwnpf"
          ],
          [
           "qwnpf"
          ],
          [
           "qwnpf"
          ],
          [
           "qwnpf"
          ],
          [
           "qwnpf"
          ],
          [
           "qwnpf"
          ],
          [
           "buvgs"
          ],
          [
           "buvgs"
          ],
          [
           "buvgs"
          ],
          [
           "buvgs"
          ],
          [
           "buvgs"
          ],
          [
           "buvgs"
          ],
          [
           "buvgs"
          ],
          [
           "fmtrq"
          ],
          [
           "fmtrq"
          ],
          [
           "fmtrq"
          ],
          [
           "fmtrq"
          ],
          [
           "fmtrq"
          ],
          [
           "fmtrq"
          ],
          [
           "fmtrq"
          ],
          [
           "nhbnj"
          ],
          [
           "nhbnj"
          ],
          [
           "nhbnj"
          ],
          [
           "nhbnj"
          ],
          [
           "nhbnj"
          ],
          [
           "nhbnj"
          ],
          [
           "nhbnj"
          ],
          [
           "sbexy"
          ],
          [
           "sbexy"
          ],
          [
           "sbexy"
          ],
          [
           "sbexy"
          ],
          [
           "sbexy"
          ],
          [
           "sbexy"
          ],
          [
           "sbexy"
          ],
          [
           "rqaby"
          ],
          [
           "rqaby"
          ],
          [
           "rqaby"
          ],
          [
           "rqaby"
          ],
          [
           "rqaby"
          ],
          [
           "rqaby"
          ],
          [
           "rqaby"
          ],
          [
           "khfha"
          ],
          [
           "khfha"
          ],
          [
           "khfha"
          ],
          [
           "khfha"
          ],
          [
           "khfha"
          ],
          [
           "khfha"
          ],
          [
           "khfha"
          ],
          [
           "itkas"
          ],
          [
           "itkas"
          ],
          [
           "itkas"
          ],
          [
           "itkas"
          ],
          [
           "itkas"
          ],
          [
           "itkas"
          ],
          [
           "itkas"
          ],
          [
           "gzgfk"
          ],
          [
           "gzgfk"
          ],
          [
           "gzgfk"
          ],
          [
           "gzgfk"
          ],
          [
           "gzgfk"
          ],
          [
           "gzgfk"
          ],
          [
           "gzgfk"
          ],
          [
           "yyvas"
          ],
          [
           "yyvas"
          ],
          [
           "yyvas"
          ],
          [
           "yyvas"
          ],
          [
           "yyvas"
          ],
          [
           "yyvas"
          ],
          [
           "yyvas"
          ],
          [
           "uniee"
          ],
          [
           "uniee"
          ],
          [
           "uniee"
          ],
          [
           "uniee"
          ],
          [
           "uniee"
          ],
          [
           "uniee"
          ],
          [
           "uniee"
          ],
          [
           "esrit"
          ],
          [
           "esrit"
          ],
          [
           "esrit"
          ],
          [
           "esrit"
          ],
          [
           "esrit"
          ],
          [
           "esrit"
          ],
          [
           "esrit"
          ],
          [
           "kzles"
          ],
          [
           "kzles"
          ],
          [
           "kzles"
          ],
          [
           "kzles"
          ],
          [
           "kzles"
          ],
          [
           "kzles"
          ],
          [
           "kzles"
          ],
          [
           "rkmrw"
          ],
          [
           "rkmrw"
          ],
          [
           "rkmrw"
          ],
          [
           "rkmrw"
          ],
          [
           "rkmrw"
          ],
          [
           "rkmrw"
          ],
          [
           "rkmrw"
          ],
          [
           "hcbyl"
          ],
          [
           "hcbyl"
          ],
          [
           "hcbyl"
          ],
          [
           "hcbyl"
          ],
          [
           "hcbyl"
          ],
          [
           "hcbyl"
          ],
          [
           "hcbyl"
          ],
          [
           "nuasx"
          ],
          [
           "nuasx"
          ],
          [
           "nuasx"
          ],
          [
           "nuasx"
          ],
          [
           "nuasx"
          ],
          [
           "nuasx"
          ],
          [
           "nuasx"
          ],
          [
           "nplrf"
          ],
          [
           "nplrf"
          ],
          [
           "nplrf"
          ],
          [
           "nplrf"
          ],
          [
           "nplrf"
          ],
          [
           "nplrf"
          ],
          [
           "nplrf"
          ],
          [
           "ixrux"
          ],
          [
           "ixrux"
          ],
          [
           "ixrux"
          ],
          [
           "ixrux"
          ],
          [
           "ixrux"
          ],
          [
           "ixrux"
          ],
          [
           "ixrux"
          ],
          [
           "qgcgc"
          ],
          [
           "qgcgc"
          ],
          [
           "qgcgc"
          ],
          [
           "qgcgc"
          ],
          [
           "qgcgc"
          ],
          [
           "qgcgc"
          ],
          [
           "qgcgc"
          ],
          [
           "rfofs"
          ],
          [
           "rfofs"
          ],
          [
           "rfofs"
          ],
          [
           "rfofs"
          ],
          [
           "rfofs"
          ],
          [
           "rfofs"
          ],
          [
           "rfofs"
          ],
          [
           "pqwaf"
          ],
          [
           "pqwaf"
          ],
          [
           "pqwaf"
          ],
          [
           "pqwaf"
          ],
          [
           "pqwaf"
          ],
          [
           "pqwaf"
          ],
          [
           "pqwaf"
          ],
          [
           "lohyo"
          ],
          [
           "lohyo"
          ],
          [
           "lohyo"
          ],
          [
           "lohyo"
          ],
          [
           "lohyo"
          ],
          [
           "lohyo"
          ],
          [
           "lohyo"
          ],
          [
           "cojqb"
          ],
          [
           "cojqb"
          ],
          [
           "cojqb"
          ],
          [
           "cojqb"
          ],
          [
           "cojqb"
          ],
          [
           "cojqb"
          ],
          [
           "cojqb"
          ],
          [
           "tflzv"
          ],
          [
           "tflzv"
          ],
          [
           "tflzv"
          ],
          [
           "tflzv"
          ],
          [
           "tflzv"
          ],
          [
           "tflzv"
          ],
          [
           "tflzv"
          ],
          [
           "qbsjv"
          ],
          [
           "qbsjv"
          ],
          [
           "qbsjv"
          ],
          [
           "qbsjv"
          ],
          [
           "qbsjv"
          ],
          [
           "qbsjv"
          ],
          [
           "qbsjv"
          ],
          [
           "rsjxu"
          ],
          [
           "rsjxu"
          ],
          [
           "rsjxu"
          ],
          [
           "rsjxu"
          ],
          [
           "rsjxu"
          ],
          [
           "rsjxu"
          ],
          [
           "rsjxu"
          ],
          [
           "sybwc"
          ],
          [
           "sybwc"
          ],
          [
           "sybwc"
          ],
          [
           "sybwc"
          ],
          [
           "sybwc"
          ],
          [
           "sybwc"
          ],
          [
           "sybwc"
          ],
          [
           "blvkx"
          ],
          [
           "blvkx"
          ],
          [
           "blvkx"
          ],
          [
           "blvkx"
          ],
          [
           "blvkx"
          ],
          [
           "blvkx"
          ],
          [
           "blvkx"
          ],
          [
           "orjyn"
          ],
          [
           "orjyn"
          ],
          [
           "orjyn"
          ],
          [
           "orjyn"
          ],
          [
           "orjyn"
          ],
          [
           "orjyn"
          ],
          [
           "orjyn"
          ],
          [
           "tcvyz"
          ],
          [
           "tcvyz"
          ],
          [
           "tcvyz"
          ],
          [
           "tcvyz"
          ],
          [
           "tcvyz"
          ],
          [
           "tcvyz"
          ],
          [
           "tcvyz"
          ],
          [
           "eayrh"
          ],
          [
           "eayrh"
          ],
          [
           "eayrh"
          ],
          [
           "eayrh"
          ],
          [
           "eayrh"
          ],
          [
           "eayrh"
          ],
          [
           "eayrh"
          ],
          [
           "fbldj"
          ],
          [
           "fbldj"
          ],
          [
           "fbldj"
          ],
          [
           "fbldj"
          ],
          [
           "fbldj"
          ],
          [
           "fbldj"
          ],
          [
           "fbldj"
          ],
          [
           "prpej"
          ],
          [
           "prpej"
          ],
          [
           "prpej"
          ],
          [
           "prpej"
          ],
          [
           "prpej"
          ],
          [
           "prpej"
          ],
          [
           "prpej"
          ],
          [
           "raqdt"
          ],
          [
           "raqdt"
          ],
          [
           "raqdt"
          ],
          [
           "raqdt"
          ],
          [
           "raqdt"
          ],
          [
           "raqdt"
          ],
          [
           "raqdt"
          ],
          [
           "bajbm"
          ],
          [
           "bajbm"
          ],
          [
           "bajbm"
          ],
          [
           "bajbm"
          ],
          [
           "bajbm"
          ],
          [
           "bajbm"
          ],
          [
           "bajbm"
          ],
          [
           "fmupf"
          ],
          [
           "fmupf"
          ],
          [
           "fmupf"
          ],
          [
           "fmupf"
          ],
          [
           "fmupf"
          ],
          [
           "fmupf"
          ],
          [
           "fmupf"
          ],
          [
           "xbmmw"
          ],
          [
           "xbmmw"
          ],
          [
           "xbmmw"
          ],
          [
           "xbmmw"
          ],
          [
           "xbmmw"
          ],
          [
           "xbmmw"
          ],
          [
           "xbmmw"
          ],
          [
           "pleui"
          ],
          [
           "pleui"
          ],
          [
           "pleui"
          ],
          [
           "pleui"
          ],
          [
           "pleui"
          ],
          [
           "pleui"
          ],
          [
           "pleui"
          ],
          [
           "vkfnt"
          ],
          [
           "vkfnt"
          ],
          [
           "vkfnt"
          ],
          [
           "vkfnt"
          ],
          [
           "vkfnt"
          ],
          [
           "vkfnt"
          ],
          [
           "vkfnt"
          ],
          [
           "olugf"
          ],
          [
           "olugf"
          ],
          [
           "olugf"
          ],
          [
           "olugf"
          ],
          [
           "olugf"
          ],
          [
           "olugf"
          ],
          [
           "olugf"
          ],
          [
           "epjcx"
          ],
          [
           "epjcx"
          ],
          [
           "epjcx"
          ],
          [
           "epjcx"
          ],
          [
           "epjcx"
          ],
          [
           "epjcx"
          ],
          [
           "epjcx"
          ]
         ],
         "hovertemplate": "index=%{x}<br>value=%{y}<br>player=%{customdata[0]}<extra></extra>",
         "legendgroup": "",
         "marker": {
          "color": "#636efa"
         },
         "name": "",
         "notched": false,
         "offsetgroup": "",
         "orientation": "v",
         "showlegend": false,
         "type": "box",
         "x": [
          "tutorials_1",
          "tutorials_2",
          "tutorials_3",
          "tutorials_4",
          "tutorials_5",
          "tutorials_6",
          "tutorials_7",
          "tutorials_1",
          "tutorials_2",
          "tutorials_3",
          "tutorials_4",
          "tutorials_5",
          "tutorials_6",
          "tutorials_7",
          "tutorials_1",
          "tutorials_2",
          "tutorials_3",
          "tutorials_4",
          "tutorials_5",
          "tutorials_6",
          "tutorials_7",
          "tutorials_1",
          "tutorials_2",
          "tutorials_3",
          "tutorials_4",
          "tutorials_5",
          "tutorials_6",
          "tutorials_7",
          "tutorials_1",
          "tutorials_2",
          "tutorials_3",
          "tutorials_4",
          "tutorials_5",
          "tutorials_6",
          "tutorials_7",
          "tutorials_1",
          "tutorials_2",
          "tutorials_3",
          "tutorials_4",
          "tutorials_5",
          "tutorials_6",
          "tutorials_7",
          "tutorials_1",
          "tutorials_2",
          "tutorials_3",
          "tutorials_4",
          "tutorials_5",
          "tutorials_6",
          "tutorials_7",
          "tutorials_1",
          "tutorials_2",
          "tutorials_3",
          "tutorials_4",
          "tutorials_5",
          "tutorials_6",
          "tutorials_7",
          "tutorials_1",
          "tutorials_2",
          "tutorials_3",
          "tutorials_4",
          "tutorials_5",
          "tutorials_6",
          "tutorials_7",
          "tutorials_1",
          "tutorials_2",
          "tutorials_3",
          "tutorials_4",
          "tutorials_5",
          "tutorials_6",
          "tutorials_7",
          "tutorials_1",
          "tutorials_2",
          "tutorials_3",
          "tutorials_4",
          "tutorials_5",
          "tutorials_6",
          "tutorials_7",
          "tutorials_1",
          "tutorials_2",
          "tutorials_3",
          "tutorials_4",
          "tutorials_5",
          "tutorials_6",
          "tutorials_7",
          "tutorials_1",
          "tutorials_2",
          "tutorials_3",
          "tutorials_4",
          "tutorials_5",
          "tutorials_6",
          "tutorials_7",
          "tutorials_1",
          "tutorials_2",
          "tutorials_3",
          "tutorials_4",
          "tutorials_5",
          "tutorials_6",
          "tutorials_7",
          "tutorials_1",
          "tutorials_2",
          "tutorials_3",
          "tutorials_4",
          "tutorials_5",
          "tutorials_6",
          "tutorials_7",
          "tutorials_1",
          "tutorials_2",
          "tutorials_3",
          "tutorials_4",
          "tutorials_5",
          "tutorials_6",
          "tutorials_7",
          "tutorials_1",
          "tutorials_2",
          "tutorials_3",
          "tutorials_4",
          "tutorials_5",
          "tutorials_6",
          "tutorials_7",
          "tutorials_1",
          "tutorials_2",
          "tutorials_3",
          "tutorials_4",
          "tutorials_5",
          "tutorials_6",
          "tutorials_7",
          "tutorials_1",
          "tutorials_2",
          "tutorials_3",
          "tutorials_4",
          "tutorials_5",
          "tutorials_6",
          "tutorials_7",
          "tutorials_1",
          "tutorials_2",
          "tutorials_3",
          "tutorials_4",
          "tutorials_5",
          "tutorials_6",
          "tutorials_7",
          "tutorials_1",
          "tutorials_2",
          "tutorials_3",
          "tutorials_4",
          "tutorials_5",
          "tutorials_6",
          "tutorials_7",
          "tutorials_1",
          "tutorials_2",
          "tutorials_3",
          "tutorials_4",
          "tutorials_5",
          "tutorials_6",
          "tutorials_7",
          "tutorials_1",
          "tutorials_2",
          "tutorials_3",
          "tutorials_4",
          "tutorials_5",
          "tutorials_6",
          "tutorials_7",
          "tutorials_1",
          "tutorials_2",
          "tutorials_3",
          "tutorials_4",
          "tutorials_5",
          "tutorials_6",
          "tutorials_7",
          "tutorials_1",
          "tutorials_2",
          "tutorials_3",
          "tutorials_4",
          "tutorials_5",
          "tutorials_6",
          "tutorials_7",
          "tutorials_1",
          "tutorials_2",
          "tutorials_3",
          "tutorials_4",
          "tutorials_5",
          "tutorials_6",
          "tutorials_7",
          "tutorials_1",
          "tutorials_2",
          "tutorials_3",
          "tutorials_4",
          "tutorials_5",
          "tutorials_6",
          "tutorials_7",
          "tutorials_1",
          "tutorials_2",
          "tutorials_3",
          "tutorials_4",
          "tutorials_5",
          "tutorials_6",
          "tutorials_7",
          "tutorials_1",
          "tutorials_2",
          "tutorials_3",
          "tutorials_4",
          "tutorials_5",
          "tutorials_6",
          "tutorials_7",
          "tutorials_1",
          "tutorials_2",
          "tutorials_3",
          "tutorials_4",
          "tutorials_5",
          "tutorials_6",
          "tutorials_7",
          "tutorials_1",
          "tutorials_2",
          "tutorials_3",
          "tutorials_4",
          "tutorials_5",
          "tutorials_6",
          "tutorials_7",
          "tutorials_1",
          "tutorials_2",
          "tutorials_3",
          "tutorials_4",
          "tutorials_5",
          "tutorials_6",
          "tutorials_7",
          "tutorials_1",
          "tutorials_2",
          "tutorials_3",
          "tutorials_4",
          "tutorials_5",
          "tutorials_6",
          "tutorials_7",
          "tutorials_1",
          "tutorials_2",
          "tutorials_3",
          "tutorials_4",
          "tutorials_5",
          "tutorials_6",
          "tutorials_7",
          "tutorials_1",
          "tutorials_2",
          "tutorials_3",
          "tutorials_4",
          "tutorials_5",
          "tutorials_6",
          "tutorials_7",
          "tutorials_1",
          "tutorials_2",
          "tutorials_3",
          "tutorials_4",
          "tutorials_5",
          "tutorials_6",
          "tutorials_7",
          "tutorials_1",
          "tutorials_2",
          "tutorials_3",
          "tutorials_4",
          "tutorials_5",
          "tutorials_6",
          "tutorials_7",
          "tutorials_1",
          "tutorials_2",
          "tutorials_3",
          "tutorials_4",
          "tutorials_5",
          "tutorials_6",
          "tutorials_7",
          "tutorials_1",
          "tutorials_2",
          "tutorials_3",
          "tutorials_4",
          "tutorials_5",
          "tutorials_6",
          "tutorials_7",
          "tutorials_1",
          "tutorials_2",
          "tutorials_3",
          "tutorials_4",
          "tutorials_5",
          "tutorials_6",
          "tutorials_7",
          "tutorials_1",
          "tutorials_2",
          "tutorials_3",
          "tutorials_4",
          "tutorials_5",
          "tutorials_6",
          "tutorials_7",
          "tutorials_1",
          "tutorials_2",
          "tutorials_3",
          "tutorials_4",
          "tutorials_5",
          "tutorials_6",
          "tutorials_7",
          "tutorials_1",
          "tutorials_2",
          "tutorials_3",
          "tutorials_4",
          "tutorials_5",
          "tutorials_6",
          "tutorials_7",
          "tutorials_1",
          "tutorials_2",
          "tutorials_3",
          "tutorials_4",
          "tutorials_5",
          "tutorials_6",
          "tutorials_7",
          "tutorials_1",
          "tutorials_2",
          "tutorials_3",
          "tutorials_4",
          "tutorials_5",
          "tutorials_6",
          "tutorials_7",
          "tutorials_1",
          "tutorials_2",
          "tutorials_3",
          "tutorials_4",
          "tutorials_5",
          "tutorials_6",
          "tutorials_7",
          "tutorials_1",
          "tutorials_2",
          "tutorials_3",
          "tutorials_4",
          "tutorials_5",
          "tutorials_6",
          "tutorials_7",
          "tutorials_1",
          "tutorials_2",
          "tutorials_3",
          "tutorials_4",
          "tutorials_5",
          "tutorials_6",
          "tutorials_7",
          "tutorials_1",
          "tutorials_2",
          "tutorials_3",
          "tutorials_4",
          "tutorials_5",
          "tutorials_6",
          "tutorials_7",
          "tutorials_1",
          "tutorials_2",
          "tutorials_3",
          "tutorials_4",
          "tutorials_5",
          "tutorials_6",
          "tutorials_7",
          "tutorials_1",
          "tutorials_2",
          "tutorials_3",
          "tutorials_4",
          "tutorials_5",
          "tutorials_6",
          "tutorials_7",
          "tutorials_1",
          "tutorials_2",
          "tutorials_3",
          "tutorials_4",
          "tutorials_5",
          "tutorials_6",
          "tutorials_7",
          "tutorials_1",
          "tutorials_2",
          "tutorials_3",
          "tutorials_4",
          "tutorials_5",
          "tutorials_6",
          "tutorials_7",
          "tutorials_1",
          "tutorials_2",
          "tutorials_3",
          "tutorials_4",
          "tutorials_5",
          "tutorials_6",
          "tutorials_7",
          "tutorials_1",
          "tutorials_2",
          "tutorials_3",
          "tutorials_4",
          "tutorials_5",
          "tutorials_6",
          "tutorials_7",
          "tutorials_1",
          "tutorials_2",
          "tutorials_3",
          "tutorials_4",
          "tutorials_5",
          "tutorials_6",
          "tutorials_7",
          "tutorials_1",
          "tutorials_2",
          "tutorials_3",
          "tutorials_4",
          "tutorials_5",
          "tutorials_6",
          "tutorials_7",
          "tutorials_1",
          "tutorials_2",
          "tutorials_3",
          "tutorials_4",
          "tutorials_5",
          "tutorials_6",
          "tutorials_7",
          "tutorials_1",
          "tutorials_2",
          "tutorials_3",
          "tutorials_4",
          "tutorials_5",
          "tutorials_6",
          "tutorials_7",
          "tutorials_1",
          "tutorials_2",
          "tutorials_3",
          "tutorials_4",
          "tutorials_5",
          "tutorials_6",
          "tutorials_7",
          "tutorials_1",
          "tutorials_2",
          "tutorials_3",
          "tutorials_4",
          "tutorials_5",
          "tutorials_6",
          "tutorials_7",
          "tutorials_1",
          "tutorials_2",
          "tutorials_3",
          "tutorials_4",
          "tutorials_5",
          "tutorials_6",
          "tutorials_7",
          "tutorials_1",
          "tutorials_2",
          "tutorials_3",
          "tutorials_4",
          "tutorials_5",
          "tutorials_6",
          "tutorials_7",
          "tutorials_1",
          "tutorials_2",
          "tutorials_3",
          "tutorials_4",
          "tutorials_5",
          "tutorials_6",
          "tutorials_7",
          "tutorials_1",
          "tutorials_2",
          "tutorials_3",
          "tutorials_4",
          "tutorials_5",
          "tutorials_6",
          "tutorials_7",
          "tutorials_1",
          "tutorials_2",
          "tutorials_3",
          "tutorials_4",
          "tutorials_5",
          "tutorials_6",
          "tutorials_7",
          "tutorials_1",
          "tutorials_2",
          "tutorials_3",
          "tutorials_4",
          "tutorials_5",
          "tutorials_6",
          "tutorials_7",
          "tutorials_1",
          "tutorials_2",
          "tutorials_3",
          "tutorials_4",
          "tutorials_5",
          "tutorials_6",
          "tutorials_7",
          "tutorials_1",
          "tutorials_2",
          "tutorials_3",
          "tutorials_4",
          "tutorials_5",
          "tutorials_6",
          "tutorials_7",
          "tutorials_1",
          "tutorials_2",
          "tutorials_3",
          "tutorials_4",
          "tutorials_5",
          "tutorials_6",
          "tutorials_7",
          "tutorials_1",
          "tutorials_2",
          "tutorials_3",
          "tutorials_4",
          "tutorials_5",
          "tutorials_6",
          "tutorials_7",
          "tutorials_1",
          "tutorials_2",
          "tutorials_3",
          "tutorials_4",
          "tutorials_5",
          "tutorials_6",
          "tutorials_7",
          "tutorials_1",
          "tutorials_2",
          "tutorials_3",
          "tutorials_4",
          "tutorials_5",
          "tutorials_6",
          "tutorials_7",
          "tutorials_1",
          "tutorials_2",
          "tutorials_3",
          "tutorials_4",
          "tutorials_5",
          "tutorials_6",
          "tutorials_7",
          "tutorials_1",
          "tutorials_2",
          "tutorials_3",
          "tutorials_4",
          "tutorials_5",
          "tutorials_6",
          "tutorials_7",
          "tutorials_1",
          "tutorials_2",
          "tutorials_3",
          "tutorials_4",
          "tutorials_5",
          "tutorials_6",
          "tutorials_7",
          "tutorials_1",
          "tutorials_2",
          "tutorials_3",
          "tutorials_4",
          "tutorials_5",
          "tutorials_6",
          "tutorials_7",
          "tutorials_1",
          "tutorials_2",
          "tutorials_3",
          "tutorials_4",
          "tutorials_5",
          "tutorials_6",
          "tutorials_7",
          "tutorials_1",
          "tutorials_2",
          "tutorials_3",
          "tutorials_4",
          "tutorials_5",
          "tutorials_6",
          "tutorials_7",
          "tutorials_1",
          "tutorials_2",
          "tutorials_3",
          "tutorials_4",
          "tutorials_5",
          "tutorials_6",
          "tutorials_7",
          "tutorials_1",
          "tutorials_2",
          "tutorials_3",
          "tutorials_4",
          "tutorials_5",
          "tutorials_6",
          "tutorials_7",
          "tutorials_1",
          "tutorials_2",
          "tutorials_3",
          "tutorials_4",
          "tutorials_5",
          "tutorials_6",
          "tutorials_7",
          "tutorials_1",
          "tutorials_2",
          "tutorials_3",
          "tutorials_4",
          "tutorials_5",
          "tutorials_6",
          "tutorials_7",
          "tutorials_1",
          "tutorials_2",
          "tutorials_3",
          "tutorials_4",
          "tutorials_5",
          "tutorials_6",
          "tutorials_7",
          "tutorials_1",
          "tutorials_2",
          "tutorials_3",
          "tutorials_4",
          "tutorials_5",
          "tutorials_6",
          "tutorials_7",
          "tutorials_1",
          "tutorials_2",
          "tutorials_3",
          "tutorials_4",
          "tutorials_5",
          "tutorials_6",
          "tutorials_7",
          "tutorials_1",
          "tutorials_2",
          "tutorials_3",
          "tutorials_4",
          "tutorials_5",
          "tutorials_6",
          "tutorials_7",
          "tutorials_1",
          "tutorials_2",
          "tutorials_3",
          "tutorials_4",
          "tutorials_5",
          "tutorials_6",
          "tutorials_7",
          "tutorials_1",
          "tutorials_2",
          "tutorials_3",
          "tutorials_4",
          "tutorials_5",
          "tutorials_6",
          "tutorials_7",
          "tutorials_1",
          "tutorials_2",
          "tutorials_3",
          "tutorials_4",
          "tutorials_5",
          "tutorials_6",
          "tutorials_7",
          "tutorials_1",
          "tutorials_2",
          "tutorials_3",
          "tutorials_4",
          "tutorials_5",
          "tutorials_6",
          "tutorials_7",
          "tutorials_1",
          "tutorials_2",
          "tutorials_3",
          "tutorials_4",
          "tutorials_5",
          "tutorials_6",
          "tutorials_7",
          "tutorials_1",
          "tutorials_2",
          "tutorials_3",
          "tutorials_4",
          "tutorials_5",
          "tutorials_6",
          "tutorials_7",
          "tutorials_1",
          "tutorials_2",
          "tutorials_3",
          "tutorials_4",
          "tutorials_5",
          "tutorials_6",
          "tutorials_7",
          "tutorials_1",
          "tutorials_2",
          "tutorials_3",
          "tutorials_4",
          "tutorials_5",
          "tutorials_6",
          "tutorials_7",
          "tutorials_1",
          "tutorials_2",
          "tutorials_3",
          "tutorials_4",
          "tutorials_5",
          "tutorials_6",
          "tutorials_7",
          "tutorials_1",
          "tutorials_2",
          "tutorials_3",
          "tutorials_4",
          "tutorials_5",
          "tutorials_6",
          "tutorials_7",
          "tutorials_1",
          "tutorials_2",
          "tutorials_3",
          "tutorials_4",
          "tutorials_5",
          "tutorials_6",
          "tutorials_7",
          "tutorials_1",
          "tutorials_2",
          "tutorials_3",
          "tutorials_4",
          "tutorials_5",
          "tutorials_6",
          "tutorials_7",
          "tutorials_1",
          "tutorials_2",
          "tutorials_3",
          "tutorials_4",
          "tutorials_5",
          "tutorials_6",
          "tutorials_7",
          "tutorials_1",
          "tutorials_2",
          "tutorials_3",
          "tutorials_4",
          "tutorials_5",
          "tutorials_6",
          "tutorials_7",
          "tutorials_1",
          "tutorials_2",
          "tutorials_3",
          "tutorials_4",
          "tutorials_5",
          "tutorials_6",
          "tutorials_7",
          "tutorials_1",
          "tutorials_2",
          "tutorials_3",
          "tutorials_4",
          "tutorials_5",
          "tutorials_6",
          "tutorials_7",
          "tutorials_1",
          "tutorials_2",
          "tutorials_3",
          "tutorials_4",
          "tutorials_5",
          "tutorials_6",
          "tutorials_7",
          "tutorials_1",
          "tutorials_2",
          "tutorials_3",
          "tutorials_4",
          "tutorials_5",
          "tutorials_6",
          "tutorials_7",
          "tutorials_1",
          "tutorials_2",
          "tutorials_3",
          "tutorials_4",
          "tutorials_5",
          "tutorials_6",
          "tutorials_7",
          "tutorials_1",
          "tutorials_2",
          "tutorials_3",
          "tutorials_4",
          "tutorials_5",
          "tutorials_6",
          "tutorials_7",
          "tutorials_1",
          "tutorials_2",
          "tutorials_3",
          "tutorials_4",
          "tutorials_5",
          "tutorials_6",
          "tutorials_7",
          "tutorials_1",
          "tutorials_2",
          "tutorials_3",
          "tutorials_4",
          "tutorials_5",
          "tutorials_6",
          "tutorials_7",
          "tutorials_1",
          "tutorials_2",
          "tutorials_3",
          "tutorials_4",
          "tutorials_5",
          "tutorials_6",
          "tutorials_7",
          "tutorials_1",
          "tutorials_2",
          "tutorials_3",
          "tutorials_4",
          "tutorials_5",
          "tutorials_6",
          "tutorials_7",
          "tutorials_1",
          "tutorials_2",
          "tutorials_3",
          "tutorials_4",
          "tutorials_5",
          "tutorials_6",
          "tutorials_7",
          "tutorials_1",
          "tutorials_2",
          "tutorials_3",
          "tutorials_4",
          "tutorials_5",
          "tutorials_6",
          "tutorials_7",
          "tutorials_1",
          "tutorials_2",
          "tutorials_3",
          "tutorials_4",
          "tutorials_5",
          "tutorials_6",
          "tutorials_7",
          "tutorials_1",
          "tutorials_2",
          "tutorials_3",
          "tutorials_4",
          "tutorials_5",
          "tutorials_6",
          "tutorials_7",
          "tutorials_1",
          "tutorials_2",
          "tutorials_3",
          "tutorials_4",
          "tutorials_5",
          "tutorials_6",
          "tutorials_7",
          "tutorials_1",
          "tutorials_2",
          "tutorials_3",
          "tutorials_4",
          "tutorials_5",
          "tutorials_6",
          "tutorials_7",
          "tutorials_1",
          "tutorials_2",
          "tutorials_3",
          "tutorials_4",
          "tutorials_5",
          "tutorials_6",
          "tutorials_7",
          "tutorials_1",
          "tutorials_2",
          "tutorials_3",
          "tutorials_4",
          "tutorials_5",
          "tutorials_6",
          "tutorials_7",
          "tutorials_1",
          "tutorials_2",
          "tutorials_3",
          "tutorials_4",
          "tutorials_5",
          "tutorials_6",
          "tutorials_7",
          "tutorials_1",
          "tutorials_2",
          "tutorials_3",
          "tutorials_4",
          "tutorials_5",
          "tutorials_6",
          "tutorials_7",
          "tutorials_1",
          "tutorials_2",
          "tutorials_3",
          "tutorials_4",
          "tutorials_5",
          "tutorials_6",
          "tutorials_7",
          "tutorials_1",
          "tutorials_2",
          "tutorials_3",
          "tutorials_4",
          "tutorials_5",
          "tutorials_6",
          "tutorials_7",
          "tutorials_1",
          "tutorials_2",
          "tutorials_3",
          "tutorials_4",
          "tutorials_5",
          "tutorials_6",
          "tutorials_7",
          "tutorials_1",
          "tutorials_2",
          "tutorials_3",
          "tutorials_4",
          "tutorials_5",
          "tutorials_6",
          "tutorials_7",
          "tutorials_1",
          "tutorials_2",
          "tutorials_3",
          "tutorials_4",
          "tutorials_5",
          "tutorials_6",
          "tutorials_7",
          "tutorials_1",
          "tutorials_2",
          "tutorials_3",
          "tutorials_4",
          "tutorials_5",
          "tutorials_6",
          "tutorials_7",
          "tutorials_1",
          "tutorials_2",
          "tutorials_3",
          "tutorials_4",
          "tutorials_5",
          "tutorials_6",
          "tutorials_7",
          "tutorials_1",
          "tutorials_2",
          "tutorials_3",
          "tutorials_4",
          "tutorials_5",
          "tutorials_6",
          "tutorials_7",
          "tutorials_1",
          "tutorials_2",
          "tutorials_3",
          "tutorials_4",
          "tutorials_5",
          "tutorials_6",
          "tutorials_7",
          "tutorials_1",
          "tutorials_2",
          "tutorials_3",
          "tutorials_4",
          "tutorials_5",
          "tutorials_6",
          "tutorials_7",
          "tutorials_1",
          "tutorials_2",
          "tutorials_3",
          "tutorials_4",
          "tutorials_5",
          "tutorials_6",
          "tutorials_7",
          "tutorials_1",
          "tutorials_2",
          "tutorials_3",
          "tutorials_4",
          "tutorials_5",
          "tutorials_6",
          "tutorials_7",
          "tutorials_1",
          "tutorials_2",
          "tutorials_3",
          "tutorials_4",
          "tutorials_5",
          "tutorials_6",
          "tutorials_7",
          "tutorials_1",
          "tutorials_2",
          "tutorials_3",
          "tutorials_4",
          "tutorials_5",
          "tutorials_6",
          "tutorials_7",
          "tutorials_1",
          "tutorials_2",
          "tutorials_3",
          "tutorials_4",
          "tutorials_5",
          "tutorials_6",
          "tutorials_7",
          "tutorials_1",
          "tutorials_2",
          "tutorials_3",
          "tutorials_4",
          "tutorials_5",
          "tutorials_6",
          "tutorials_7",
          "tutorials_1",
          "tutorials_2",
          "tutorials_3",
          "tutorials_4",
          "tutorials_5",
          "tutorials_6",
          "tutorials_7",
          "tutorials_1",
          "tutorials_2",
          "tutorials_3",
          "tutorials_4",
          "tutorials_5",
          "tutorials_6",
          "tutorials_7",
          "tutorials_1",
          "tutorials_2",
          "tutorials_3",
          "tutorials_4",
          "tutorials_5",
          "tutorials_6",
          "tutorials_7",
          "tutorials_1",
          "tutorials_2",
          "tutorials_3",
          "tutorials_4",
          "tutorials_5",
          "tutorials_6",
          "tutorials_7",
          "tutorials_1",
          "tutorials_2",
          "tutorials_3",
          "tutorials_4",
          "tutorials_5",
          "tutorials_6",
          "tutorials_7",
          "tutorials_1",
          "tutorials_2",
          "tutorials_3",
          "tutorials_4",
          "tutorials_5",
          "tutorials_6",
          "tutorials_7",
          "tutorials_1",
          "tutorials_2",
          "tutorials_3",
          "tutorials_4",
          "tutorials_5",
          "tutorials_6",
          "tutorials_7",
          "tutorials_1",
          "tutorials_2",
          "tutorials_3",
          "tutorials_4",
          "tutorials_5",
          "tutorials_6",
          "tutorials_7"
         ],
         "x0": " ",
         "xaxis": "x",
         "y": [
          1,
          3,
          1,
          2,
          1,
          1,
          1,
          1,
          null,
          null,
          null,
          null,
          null,
          null,
          1,
          2,
          1,
          null,
          null,
          null,
          null,
          1,
          1,
          1,
          1,
          1,
          1,
          2,
          1,
          1,
          2,
          3,
          1,
          3,
          1,
          1,
          1,
          1,
          3,
          1,
          1,
          1,
          1,
          1,
          1,
          2,
          1,
          1,
          2,
          1,
          1,
          1,
          1,
          7,
          4,
          3,
          1,
          1,
          1,
          1,
          1,
          1,
          2,
          2,
          2,
          1,
          3,
          2,
          1,
          6,
          1,
          2,
          1,
          2,
          2,
          1,
          2,
          1,
          1,
          1,
          3,
          1,
          2,
          2,
          2,
          1,
          1,
          3,
          1,
          1,
          2,
          1,
          2,
          1,
          1,
          1,
          1,
          1,
          1,
          2,
          1,
          1,
          1,
          1,
          1,
          1,
          1,
          1,
          2,
          1,
          1,
          1,
          1,
          1,
          1,
          2,
          1,
          3,
          2,
          1,
          1,
          1,
          2,
          1,
          2,
          2,
          1,
          1,
          1,
          2,
          1,
          1,
          1,
          1,
          2,
          1,
          1,
          1,
          2,
          1,
          1,
          2,
          1,
          2,
          1,
          2,
          4,
          1,
          1,
          1,
          1,
          2,
          1,
          2,
          1,
          1,
          1,
          2,
          1,
          1,
          2,
          1,
          1,
          1,
          1,
          1,
          1,
          1,
          1,
          2,
          1,
          3,
          1,
          1,
          2,
          1,
          1,
          1,
          4,
          1,
          1,
          1,
          1,
          1,
          2,
          5,
          1,
          2,
          2,
          1,
          1,
          1,
          1,
          1,
          1,
          1,
          2,
          1,
          1,
          7,
          1,
          3,
          2,
          1,
          1,
          1,
          3,
          1,
          1,
          1,
          1,
          2,
          2,
          3,
          1,
          2,
          3,
          2,
          1,
          1,
          2,
          1,
          1,
          1,
          1,
          3,
          1,
          1,
          1,
          1,
          1,
          1,
          2,
          2,
          3,
          1,
          2,
          1,
          2,
          1,
          1,
          3,
          1,
          1,
          1,
          1,
          2,
          1,
          3,
          1,
          1,
          1,
          1,
          2,
          1,
          2,
          2,
          1,
          2,
          1,
          1,
          1,
          4,
          1,
          2,
          1,
          1,
          1,
          1,
          1,
          1,
          1,
          1,
          1,
          2,
          1,
          2,
          2,
          1,
          1,
          1,
          1,
          1,
          1,
          1,
          1,
          1,
          2,
          1,
          1,
          3,
          1,
          4,
          1,
          1,
          1,
          2,
          3,
          2,
          3,
          2,
          1,
          1,
          2,
          3,
          8,
          3,
          3,
          1,
          1,
          1,
          1,
          2,
          1,
          1,
          1,
          1,
          1,
          2,
          1,
          2,
          2,
          1,
          2,
          2,
          6,
          1,
          2,
          4,
          2,
          1,
          1,
          5,
          2,
          3,
          4,
          1,
          1,
          2,
          8,
          1,
          5,
          6,
          1,
          3,
          2,
          17,
          1,
          12,
          10,
          1,
          1,
          2,
          1,
          1,
          1,
          1,
          1,
          2,
          1,
          1,
          1,
          1,
          1,
          1,
          1,
          1,
          5,
          1,
          1,
          1,
          1,
          1,
          1,
          3,
          1,
          3,
          4,
          1,
          1,
          1,
          4,
          1,
          1,
          2,
          1,
          2,
          2,
          2,
          1,
          3,
          4,
          1,
          6,
          1,
          3,
          1,
          1,
          2,
          1,
          3,
          1,
          4,
          1,
          3,
          2,
          2,
          3,
          1,
          7,
          1,
          1,
          3,
          1,
          1,
          1,
          3,
          1,
          1,
          2,
          1,
          2,
          1,
          4,
          1,
          3,
          3,
          1,
          3,
          2,
          1,
          1,
          3,
          2,
          4,
          1,
          1,
          2,
          1,
          1,
          4,
          2,
          1,
          1,
          2,
          1,
          3,
          3,
          1,
          1,
          2,
          2,
          1,
          2,
          2,
          1,
          1,
          1,
          3,
          1,
          2,
          1,
          1,
          2,
          2,
          4,
          1,
          4,
          2,
          2,
          3,
          1,
          3,
          1,
          2,
          2,
          1,
          15,
          3,
          30,
          1,
          6,
          6,
          1,
          1,
          1,
          1,
          1,
          2,
          2,
          2,
          2,
          1,
          3,
          1,
          3,
          2,
          1,
          1,
          1,
          3,
          1,
          1,
          1,
          1,
          6,
          2,
          7,
          2,
          4,
          2,
          2,
          1,
          1,
          6,
          2,
          2,
          2,
          2,
          1,
          2,
          3,
          1,
          2,
          2,
          3,
          1,
          1,
          2,
          4,
          2,
          2,
          1,
          1,
          1,
          1,
          1,
          1,
          1,
          1,
          2,
          2,
          4,
          1,
          3,
          3,
          1,
          1,
          1,
          5,
          1,
          2,
          2,
          1,
          1,
          1,
          3,
          1,
          3,
          1,
          1,
          2,
          1,
          1,
          1,
          2,
          2,
          1,
          2,
          1,
          2,
          1,
          1,
          3,
          1,
          2,
          1,
          2,
          2,
          1,
          1,
          1,
          1,
          1,
          2,
          1,
          2,
          1,
          1,
          3,
          1,
          11,
          1,
          3,
          3,
          1,
          2,
          1,
          3,
          1,
          2,
          1,
          1,
          1,
          1,
          1,
          1,
          1,
          1,
          1,
          1,
          1,
          1,
          1,
          3,
          1,
          1,
          1,
          1,
          1,
          1,
          1,
          4,
          1,
          1,
          1,
          2,
          1,
          1,
          1,
          1,
          2,
          1,
          2,
          1,
          2,
          3,
          2,
          8,
          2,
          6,
          2,
          2,
          2,
          1,
          1,
          1,
          2,
          1,
          2,
          1,
          1,
          2,
          2,
          3,
          1,
          3,
          4,
          1,
          2,
          1,
          3,
          1,
          1,
          2,
          1,
          1,
          1,
          1,
          1,
          2,
          2,
          1,
          3,
          2,
          4,
          1,
          3,
          6,
          1,
          3,
          1,
          4,
          1,
          2,
          1,
          1,
          1,
          1,
          2,
          1,
          1,
          1,
          1,
          1,
          1,
          3,
          1,
          2,
          2,
          1,
          2,
          1,
          1,
          1,
          3,
          1,
          1,
          1,
          1,
          1,
          1,
          3,
          1,
          2,
          4,
          1,
          1,
          1,
          2,
          4,
          1,
          3,
          1,
          2,
          1,
          3,
          2,
          1,
          4,
          1,
          1,
          1,
          1,
          1,
          1,
          2,
          1,
          6,
          1,
          4,
          2,
          1,
          1,
          1,
          1,
          1,
          2,
          1,
          1,
          1,
          1,
          13,
          2,
          7,
          1,
          1,
          2,
          2,
          3,
          1,
          4,
          2,
          4,
          1,
          1,
          5,
          2,
          1,
          2,
          1,
          3,
          1,
          1,
          1,
          2,
          4,
          1,
          1,
          1,
          1,
          1,
          1,
          3,
          3,
          2,
          1,
          11,
          2,
          3,
          1,
          2,
          5,
          2,
          6,
          1,
          2,
          1,
          1,
          1,
          1,
          4,
          4,
          3,
          2,
          1,
          6,
          1,
          4,
          1,
          3,
          2,
          1,
          1,
          1,
          1,
          1,
          1,
          2,
          1,
          3,
          1,
          2,
          1,
          1,
          1,
          1,
          4,
          1,
          5,
          1,
          4,
          7,
          2,
          1,
          2,
          3,
          1,
          2,
          2,
          1,
          1,
          2,
          2,
          1,
          1,
          2,
          1,
          1,
          1,
          14,
          1,
          2,
          2,
          1,
          1,
          1,
          2,
          1,
          2,
          1,
          1,
          2,
          1,
          21,
          8,
          7,
          9,
          1,
          1,
          1,
          1,
          1,
          1,
          1,
          2,
          1,
          1,
          6,
          1,
          1,
          1,
          1,
          1,
          2,
          9,
          1,
          6,
          2,
          1,
          3,
          2,
          8,
          1,
          2,
          2,
          1,
          2,
          1,
          4,
          3,
          3,
          2,
          1,
          1,
          1,
          10,
          2,
          1,
          1,
          1,
          1,
          1,
          6,
          1,
          3,
          1,
          1,
          7,
          6,
          4,
          1,
          3,
          1,
          1,
          4,
          4,
          4,
          1,
          4,
          2,
          1,
          4,
          2,
          4,
          1,
          2,
          3,
          2,
          1,
          1,
          2,
          1,
          1,
          3,
          1,
          1,
          1,
          1,
          1,
          1,
          1,
          1,
          1,
          1,
          3,
          1,
          1,
          2,
          1,
          1,
          2,
          3,
          1,
          1,
          1,
          1,
          1,
          1,
          4,
          2,
          2,
          3,
          2,
          2,
          1,
          1,
          1,
          2,
          3,
          2,
          2,
          1,
          2,
          1,
          2,
          1,
          2,
          1,
          1,
          1,
          1,
          2,
          6,
          1,
          1,
          2,
          7,
          1,
          3,
          2,
          1,
          1,
          2,
          10,
          1,
          6,
          3,
          2,
          6,
          2,
          9,
          1,
          7,
          10
         ],
         "y0": " ",
         "yaxis": "y"
        }
       ],
       "layout": {
        "boxmode": "group",
        "legend": {
         "tracegroupgap": 0
        },
        "margin": {
         "t": 60
        },
        "template": {
         "data": {
          "bar": [
           {
            "error_x": {
             "color": "#2a3f5f"
            },
            "error_y": {
             "color": "#2a3f5f"
            },
            "marker": {
             "line": {
              "color": "#E5ECF6",
              "width": 0.5
             },
             "pattern": {
              "fillmode": "overlay",
              "size": 10,
              "solidity": 0.2
             }
            },
            "type": "bar"
           }
          ],
          "barpolar": [
           {
            "marker": {
             "line": {
              "color": "#E5ECF6",
              "width": 0.5
             },
             "pattern": {
              "fillmode": "overlay",
              "size": 10,
              "solidity": 0.2
             }
            },
            "type": "barpolar"
           }
          ],
          "carpet": [
           {
            "aaxis": {
             "endlinecolor": "#2a3f5f",
             "gridcolor": "white",
             "linecolor": "white",
             "minorgridcolor": "white",
             "startlinecolor": "#2a3f5f"
            },
            "baxis": {
             "endlinecolor": "#2a3f5f",
             "gridcolor": "white",
             "linecolor": "white",
             "minorgridcolor": "white",
             "startlinecolor": "#2a3f5f"
            },
            "type": "carpet"
           }
          ],
          "choropleth": [
           {
            "colorbar": {
             "outlinewidth": 0,
             "ticks": ""
            },
            "type": "choropleth"
           }
          ],
          "contour": [
           {
            "colorbar": {
             "outlinewidth": 0,
             "ticks": ""
            },
            "colorscale": [
             [
              0,
              "#0d0887"
             ],
             [
              0.1111111111111111,
              "#46039f"
             ],
             [
              0.2222222222222222,
              "#7201a8"
             ],
             [
              0.3333333333333333,
              "#9c179e"
             ],
             [
              0.4444444444444444,
              "#bd3786"
             ],
             [
              0.5555555555555556,
              "#d8576b"
             ],
             [
              0.6666666666666666,
              "#ed7953"
             ],
             [
              0.7777777777777778,
              "#fb9f3a"
             ],
             [
              0.8888888888888888,
              "#fdca26"
             ],
             [
              1,
              "#f0f921"
             ]
            ],
            "type": "contour"
           }
          ],
          "contourcarpet": [
           {
            "colorbar": {
             "outlinewidth": 0,
             "ticks": ""
            },
            "type": "contourcarpet"
           }
          ],
          "heatmap": [
           {
            "colorbar": {
             "outlinewidth": 0,
             "ticks": ""
            },
            "colorscale": [
             [
              0,
              "#0d0887"
             ],
             [
              0.1111111111111111,
              "#46039f"
             ],
             [
              0.2222222222222222,
              "#7201a8"
             ],
             [
              0.3333333333333333,
              "#9c179e"
             ],
             [
              0.4444444444444444,
              "#bd3786"
             ],
             [
              0.5555555555555556,
              "#d8576b"
             ],
             [
              0.6666666666666666,
              "#ed7953"
             ],
             [
              0.7777777777777778,
              "#fb9f3a"
             ],
             [
              0.8888888888888888,
              "#fdca26"
             ],
             [
              1,
              "#f0f921"
             ]
            ],
            "type": "heatmap"
           }
          ],
          "heatmapgl": [
           {
            "colorbar": {
             "outlinewidth": 0,
             "ticks": ""
            },
            "colorscale": [
             [
              0,
              "#0d0887"
             ],
             [
              0.1111111111111111,
              "#46039f"
             ],
             [
              0.2222222222222222,
              "#7201a8"
             ],
             [
              0.3333333333333333,
              "#9c179e"
             ],
             [
              0.4444444444444444,
              "#bd3786"
             ],
             [
              0.5555555555555556,
              "#d8576b"
             ],
             [
              0.6666666666666666,
              "#ed7953"
             ],
             [
              0.7777777777777778,
              "#fb9f3a"
             ],
             [
              0.8888888888888888,
              "#fdca26"
             ],
             [
              1,
              "#f0f921"
             ]
            ],
            "type": "heatmapgl"
           }
          ],
          "histogram": [
           {
            "marker": {
             "pattern": {
              "fillmode": "overlay",
              "size": 10,
              "solidity": 0.2
             }
            },
            "type": "histogram"
           }
          ],
          "histogram2d": [
           {
            "colorbar": {
             "outlinewidth": 0,
             "ticks": ""
            },
            "colorscale": [
             [
              0,
              "#0d0887"
             ],
             [
              0.1111111111111111,
              "#46039f"
             ],
             [
              0.2222222222222222,
              "#7201a8"
             ],
             [
              0.3333333333333333,
              "#9c179e"
             ],
             [
              0.4444444444444444,
              "#bd3786"
             ],
             [
              0.5555555555555556,
              "#d8576b"
             ],
             [
              0.6666666666666666,
              "#ed7953"
             ],
             [
              0.7777777777777778,
              "#fb9f3a"
             ],
             [
              0.8888888888888888,
              "#fdca26"
             ],
             [
              1,
              "#f0f921"
             ]
            ],
            "type": "histogram2d"
           }
          ],
          "histogram2dcontour": [
           {
            "colorbar": {
             "outlinewidth": 0,
             "ticks": ""
            },
            "colorscale": [
             [
              0,
              "#0d0887"
             ],
             [
              0.1111111111111111,
              "#46039f"
             ],
             [
              0.2222222222222222,
              "#7201a8"
             ],
             [
              0.3333333333333333,
              "#9c179e"
             ],
             [
              0.4444444444444444,
              "#bd3786"
             ],
             [
              0.5555555555555556,
              "#d8576b"
             ],
             [
              0.6666666666666666,
              "#ed7953"
             ],
             [
              0.7777777777777778,
              "#fb9f3a"
             ],
             [
              0.8888888888888888,
              "#fdca26"
             ],
             [
              1,
              "#f0f921"
             ]
            ],
            "type": "histogram2dcontour"
           }
          ],
          "mesh3d": [
           {
            "colorbar": {
             "outlinewidth": 0,
             "ticks": ""
            },
            "type": "mesh3d"
           }
          ],
          "parcoords": [
           {
            "line": {
             "colorbar": {
              "outlinewidth": 0,
              "ticks": ""
             }
            },
            "type": "parcoords"
           }
          ],
          "pie": [
           {
            "automargin": true,
            "type": "pie"
           }
          ],
          "scatter": [
           {
            "fillpattern": {
             "fillmode": "overlay",
             "size": 10,
             "solidity": 0.2
            },
            "type": "scatter"
           }
          ],
          "scatter3d": [
           {
            "line": {
             "colorbar": {
              "outlinewidth": 0,
              "ticks": ""
             }
            },
            "marker": {
             "colorbar": {
              "outlinewidth": 0,
              "ticks": ""
             }
            },
            "type": "scatter3d"
           }
          ],
          "scattercarpet": [
           {
            "marker": {
             "colorbar": {
              "outlinewidth": 0,
              "ticks": ""
             }
            },
            "type": "scattercarpet"
           }
          ],
          "scattergeo": [
           {
            "marker": {
             "colorbar": {
              "outlinewidth": 0,
              "ticks": ""
             }
            },
            "type": "scattergeo"
           }
          ],
          "scattergl": [
           {
            "marker": {
             "colorbar": {
              "outlinewidth": 0,
              "ticks": ""
             }
            },
            "type": "scattergl"
           }
          ],
          "scattermapbox": [
           {
            "marker": {
             "colorbar": {
              "outlinewidth": 0,
              "ticks": ""
             }
            },
            "type": "scattermapbox"
           }
          ],
          "scatterpolar": [
           {
            "marker": {
             "colorbar": {
              "outlinewidth": 0,
              "ticks": ""
             }
            },
            "type": "scatterpolar"
           }
          ],
          "scatterpolargl": [
           {
            "marker": {
             "colorbar": {
              "outlinewidth": 0,
              "ticks": ""
             }
            },
            "type": "scatterpolargl"
           }
          ],
          "scatterternary": [
           {
            "marker": {
             "colorbar": {
              "outlinewidth": 0,
              "ticks": ""
             }
            },
            "type": "scatterternary"
           }
          ],
          "surface": [
           {
            "colorbar": {
             "outlinewidth": 0,
             "ticks": ""
            },
            "colorscale": [
             [
              0,
              "#0d0887"
             ],
             [
              0.1111111111111111,
              "#46039f"
             ],
             [
              0.2222222222222222,
              "#7201a8"
             ],
             [
              0.3333333333333333,
              "#9c179e"
             ],
             [
              0.4444444444444444,
              "#bd3786"
             ],
             [
              0.5555555555555556,
              "#d8576b"
             ],
             [
              0.6666666666666666,
              "#ed7953"
             ],
             [
              0.7777777777777778,
              "#fb9f3a"
             ],
             [
              0.8888888888888888,
              "#fdca26"
             ],
             [
              1,
              "#f0f921"
             ]
            ],
            "type": "surface"
           }
          ],
          "table": [
           {
            "cells": {
             "fill": {
              "color": "#EBF0F8"
             },
             "line": {
              "color": "white"
             }
            },
            "header": {
             "fill": {
              "color": "#C8D4E3"
             },
             "line": {
              "color": "white"
             }
            },
            "type": "table"
           }
          ]
         },
         "layout": {
          "annotationdefaults": {
           "arrowcolor": "#2a3f5f",
           "arrowhead": 0,
           "arrowwidth": 1
          },
          "autotypenumbers": "strict",
          "coloraxis": {
           "colorbar": {
            "outlinewidth": 0,
            "ticks": ""
           }
          },
          "colorscale": {
           "diverging": [
            [
             0,
             "#8e0152"
            ],
            [
             0.1,
             "#c51b7d"
            ],
            [
             0.2,
             "#de77ae"
            ],
            [
             0.3,
             "#f1b6da"
            ],
            [
             0.4,
             "#fde0ef"
            ],
            [
             0.5,
             "#f7f7f7"
            ],
            [
             0.6,
             "#e6f5d0"
            ],
            [
             0.7,
             "#b8e186"
            ],
            [
             0.8,
             "#7fbc41"
            ],
            [
             0.9,
             "#4d9221"
            ],
            [
             1,
             "#276419"
            ]
           ],
           "sequential": [
            [
             0,
             "#0d0887"
            ],
            [
             0.1111111111111111,
             "#46039f"
            ],
            [
             0.2222222222222222,
             "#7201a8"
            ],
            [
             0.3333333333333333,
             "#9c179e"
            ],
            [
             0.4444444444444444,
             "#bd3786"
            ],
            [
             0.5555555555555556,
             "#d8576b"
            ],
            [
             0.6666666666666666,
             "#ed7953"
            ],
            [
             0.7777777777777778,
             "#fb9f3a"
            ],
            [
             0.8888888888888888,
             "#fdca26"
            ],
            [
             1,
             "#f0f921"
            ]
           ],
           "sequentialminus": [
            [
             0,
             "#0d0887"
            ],
            [
             0.1111111111111111,
             "#46039f"
            ],
            [
             0.2222222222222222,
             "#7201a8"
            ],
            [
             0.3333333333333333,
             "#9c179e"
            ],
            [
             0.4444444444444444,
             "#bd3786"
            ],
            [
             0.5555555555555556,
             "#d8576b"
            ],
            [
             0.6666666666666666,
             "#ed7953"
            ],
            [
             0.7777777777777778,
             "#fb9f3a"
            ],
            [
             0.8888888888888888,
             "#fdca26"
            ],
            [
             1,
             "#f0f921"
            ]
           ]
          },
          "colorway": [
           "#636efa",
           "#EF553B",
           "#00cc96",
           "#ab63fa",
           "#FFA15A",
           "#19d3f3",
           "#FF6692",
           "#B6E880",
           "#FF97FF",
           "#FECB52"
          ],
          "font": {
           "color": "#2a3f5f"
          },
          "geo": {
           "bgcolor": "white",
           "lakecolor": "white",
           "landcolor": "#E5ECF6",
           "showlakes": true,
           "showland": true,
           "subunitcolor": "white"
          },
          "hoverlabel": {
           "align": "left"
          },
          "hovermode": "closest",
          "mapbox": {
           "style": "light"
          },
          "paper_bgcolor": "white",
          "plot_bgcolor": "#E5ECF6",
          "polar": {
           "angularaxis": {
            "gridcolor": "white",
            "linecolor": "white",
            "ticks": ""
           },
           "bgcolor": "#E5ECF6",
           "radialaxis": {
            "gridcolor": "white",
            "linecolor": "white",
            "ticks": ""
           }
          },
          "scene": {
           "xaxis": {
            "backgroundcolor": "#E5ECF6",
            "gridcolor": "white",
            "gridwidth": 2,
            "linecolor": "white",
            "showbackground": true,
            "ticks": "",
            "zerolinecolor": "white"
           },
           "yaxis": {
            "backgroundcolor": "#E5ECF6",
            "gridcolor": "white",
            "gridwidth": 2,
            "linecolor": "white",
            "showbackground": true,
            "ticks": "",
            "zerolinecolor": "white"
           },
           "zaxis": {
            "backgroundcolor": "#E5ECF6",
            "gridcolor": "white",
            "gridwidth": 2,
            "linecolor": "white",
            "showbackground": true,
            "ticks": "",
            "zerolinecolor": "white"
           }
          },
          "shapedefaults": {
           "line": {
            "color": "#2a3f5f"
           }
          },
          "ternary": {
           "aaxis": {
            "gridcolor": "white",
            "linecolor": "white",
            "ticks": ""
           },
           "baxis": {
            "gridcolor": "white",
            "linecolor": "white",
            "ticks": ""
           },
           "bgcolor": "#E5ECF6",
           "caxis": {
            "gridcolor": "white",
            "linecolor": "white",
            "ticks": ""
           }
          },
          "title": {
           "x": 0.05
          },
          "xaxis": {
           "automargin": true,
           "gridcolor": "white",
           "linecolor": "white",
           "ticks": "",
           "title": {
            "standoff": 15
           },
           "zerolinecolor": "white",
           "zerolinewidth": 2
          },
          "yaxis": {
           "automargin": true,
           "gridcolor": "white",
           "linecolor": "white",
           "ticks": "",
           "title": {
            "standoff": 15
           },
           "zerolinecolor": "white",
           "zerolinewidth": 2
          }
         }
        },
        "xaxis": {
         "anchor": "y",
         "domain": [
          0,
          1
         ],
         "title": {
          "text": "index"
         }
        },
        "yaxis": {
         "anchor": "x",
         "domain": [
          0,
          1
         ],
         "title": {
          "text": "value"
         }
        }
       }
      }
     },
     "metadata": {},
     "output_type": "display_data"
    },
    {
     "data": {
      "application/vnd.plotly.v1+json": {
       "config": {
        "plotlyServerURL": "https://plot.ly"
       },
       "data": [
        {
         "alignmentgroup": "True",
         "customdata": [
          [
           "gqoj"
          ],
          [
           "gqoj"
          ],
          [
           "gqoj"
          ],
          [
           "gqoj"
          ],
          [
           "gqoj"
          ],
          [
           "gqoj"
          ],
          [
           "gqoj"
          ],
          [
           "gqoj"
          ],
          [
           "gqoj"
          ],
          [
           "pbgky"
          ],
          [
           "pbgky"
          ],
          [
           "pbgky"
          ],
          [
           "pbgky"
          ],
          [
           "pbgky"
          ],
          [
           "pbgky"
          ],
          [
           "pbgky"
          ],
          [
           "pbgky"
          ],
          [
           "pbgky"
          ],
          [
           "auvqa"
          ],
          [
           "auvqa"
          ],
          [
           "auvqa"
          ],
          [
           "auvqa"
          ],
          [
           "auvqa"
          ],
          [
           "auvqa"
          ],
          [
           "auvqa"
          ],
          [
           "auvqa"
          ],
          [
           "auvqa"
          ],
          [
           "qeqyj"
          ],
          [
           "qeqyj"
          ],
          [
           "qeqyj"
          ],
          [
           "qeqyj"
          ],
          [
           "qeqyj"
          ],
          [
           "qeqyj"
          ],
          [
           "qeqyj"
          ],
          [
           "qeqyj"
          ],
          [
           "qeqyj"
          ],
          [
           "fkmtp"
          ],
          [
           "fkmtp"
          ],
          [
           "fkmtp"
          ],
          [
           "fkmtp"
          ],
          [
           "fkmtp"
          ],
          [
           "fkmtp"
          ],
          [
           "fkmtp"
          ],
          [
           "fkmtp"
          ],
          [
           "fkmtp"
          ],
          [
           "bdwyj"
          ],
          [
           "bdwyj"
          ],
          [
           "bdwyj"
          ],
          [
           "bdwyj"
          ],
          [
           "bdwyj"
          ],
          [
           "bdwyj"
          ],
          [
           "bdwyj"
          ],
          [
           "bdwyj"
          ],
          [
           "bdwyj"
          ],
          [
           "eprdu"
          ],
          [
           "eprdu"
          ],
          [
           "eprdu"
          ],
          [
           "eprdu"
          ],
          [
           "eprdu"
          ],
          [
           "eprdu"
          ],
          [
           "eprdu"
          ],
          [
           "eprdu"
          ],
          [
           "eprdu"
          ],
          [
           "hjpbw"
          ],
          [
           "hjpbw"
          ],
          [
           "hjpbw"
          ],
          [
           "hjpbw"
          ],
          [
           "hjpbw"
          ],
          [
           "hjpbw"
          ],
          [
           "hjpbw"
          ],
          [
           "hjpbw"
          ],
          [
           "hjpbw"
          ],
          [
           "ftpnb"
          ],
          [
           "ftpnb"
          ],
          [
           "ftpnb"
          ],
          [
           "ftpnb"
          ],
          [
           "ftpnb"
          ],
          [
           "ftpnb"
          ],
          [
           "ftpnb"
          ],
          [
           "ftpnb"
          ],
          [
           "ftpnb"
          ],
          [
           "gleqe"
          ],
          [
           "gleqe"
          ],
          [
           "gleqe"
          ],
          [
           "gleqe"
          ],
          [
           "gleqe"
          ],
          [
           "gleqe"
          ],
          [
           "gleqe"
          ],
          [
           "gleqe"
          ],
          [
           "gleqe"
          ],
          [
           "ikcar"
          ],
          [
           "ikcar"
          ],
          [
           "ikcar"
          ],
          [
           "ikcar"
          ],
          [
           "ikcar"
          ],
          [
           "ikcar"
          ],
          [
           "ikcar"
          ],
          [
           "ikcar"
          ],
          [
           "ikcar"
          ],
          [
           "loemd"
          ],
          [
           "loemd"
          ],
          [
           "loemd"
          ],
          [
           "loemd"
          ],
          [
           "loemd"
          ],
          [
           "loemd"
          ],
          [
           "loemd"
          ],
          [
           "loemd"
          ],
          [
           "loemd"
          ],
          [
           "gcpze"
          ],
          [
           "gcpze"
          ],
          [
           "gcpze"
          ],
          [
           "gcpze"
          ],
          [
           "gcpze"
          ],
          [
           "gcpze"
          ],
          [
           "gcpze"
          ],
          [
           "gcpze"
          ],
          [
           "gcpze"
          ],
          [
           "khadt"
          ],
          [
           "khadt"
          ],
          [
           "khadt"
          ],
          [
           "khadt"
          ],
          [
           "khadt"
          ],
          [
           "khadt"
          ],
          [
           "khadt"
          ],
          [
           "khadt"
          ],
          [
           "khadt"
          ],
          [
           "zxvkj"
          ],
          [
           "zxvkj"
          ],
          [
           "zxvkj"
          ],
          [
           "zxvkj"
          ],
          [
           "zxvkj"
          ],
          [
           "zxvkj"
          ],
          [
           "zxvkj"
          ],
          [
           "zxvkj"
          ],
          [
           "zxvkj"
          ],
          [
           "srjon"
          ],
          [
           "srjon"
          ],
          [
           "srjon"
          ],
          [
           "srjon"
          ],
          [
           "srjon"
          ],
          [
           "srjon"
          ],
          [
           "srjon"
          ],
          [
           "srjon"
          ],
          [
           "srjon"
          ],
          [
           "uzzpo"
          ],
          [
           "uzzpo"
          ],
          [
           "uzzpo"
          ],
          [
           "uzzpo"
          ],
          [
           "uzzpo"
          ],
          [
           "uzzpo"
          ],
          [
           "uzzpo"
          ],
          [
           "uzzpo"
          ],
          [
           "uzzpo"
          ],
          [
           "vsxld"
          ],
          [
           "vsxld"
          ],
          [
           "vsxld"
          ],
          [
           "vsxld"
          ],
          [
           "vsxld"
          ],
          [
           "vsxld"
          ],
          [
           "vsxld"
          ],
          [
           "vsxld"
          ],
          [
           "vsxld"
          ],
          [
           "sxipu"
          ],
          [
           "sxipu"
          ],
          [
           "sxipu"
          ],
          [
           "sxipu"
          ],
          [
           "sxipu"
          ],
          [
           "sxipu"
          ],
          [
           "sxipu"
          ],
          [
           "sxipu"
          ],
          [
           "sxipu"
          ],
          [
           "kmqou"
          ],
          [
           "kmqou"
          ],
          [
           "kmqou"
          ],
          [
           "kmqou"
          ],
          [
           "kmqou"
          ],
          [
           "kmqou"
          ],
          [
           "kmqou"
          ],
          [
           "kmqou"
          ],
          [
           "kmqou"
          ],
          [
           "ejeuw"
          ],
          [
           "ejeuw"
          ],
          [
           "ejeuw"
          ],
          [
           "ejeuw"
          ],
          [
           "ejeuw"
          ],
          [
           "ejeuw"
          ],
          [
           "ejeuw"
          ],
          [
           "ejeuw"
          ],
          [
           "ejeuw"
          ],
          [
           "xnpqf"
          ],
          [
           "xnpqf"
          ],
          [
           "xnpqf"
          ],
          [
           "xnpqf"
          ],
          [
           "xnpqf"
          ],
          [
           "xnpqf"
          ],
          [
           "xnpqf"
          ],
          [
           "xnpqf"
          ],
          [
           "xnpqf"
          ],
          [
           "ipdcp"
          ],
          [
           "ipdcp"
          ],
          [
           "ipdcp"
          ],
          [
           "ipdcp"
          ],
          [
           "ipdcp"
          ],
          [
           "ipdcp"
          ],
          [
           "ipdcp"
          ],
          [
           "ipdcp"
          ],
          [
           "ipdcp"
          ],
          [
           "epqkm"
          ],
          [
           "epqkm"
          ],
          [
           "epqkm"
          ],
          [
           "epqkm"
          ],
          [
           "epqkm"
          ],
          [
           "epqkm"
          ],
          [
           "epqkm"
          ],
          [
           "epqkm"
          ],
          [
           "epqkm"
          ],
          [
           "zwzfv"
          ],
          [
           "zwzfv"
          ],
          [
           "zwzfv"
          ],
          [
           "zwzfv"
          ],
          [
           "zwzfv"
          ],
          [
           "zwzfv"
          ],
          [
           "zwzfv"
          ],
          [
           "zwzfv"
          ],
          [
           "zwzfv"
          ],
          [
           "krahz"
          ],
          [
           "krahz"
          ],
          [
           "krahz"
          ],
          [
           "krahz"
          ],
          [
           "krahz"
          ],
          [
           "krahz"
          ],
          [
           "krahz"
          ],
          [
           "krahz"
          ],
          [
           "krahz"
          ],
          [
           "grkij"
          ],
          [
           "grkij"
          ],
          [
           "grkij"
          ],
          [
           "grkij"
          ],
          [
           "grkij"
          ],
          [
           "grkij"
          ],
          [
           "grkij"
          ],
          [
           "grkij"
          ],
          [
           "grkij"
          ],
          [
           "zcibf"
          ],
          [
           "zcibf"
          ],
          [
           "zcibf"
          ],
          [
           "zcibf"
          ],
          [
           "zcibf"
          ],
          [
           "zcibf"
          ],
          [
           "zcibf"
          ],
          [
           "zcibf"
          ],
          [
           "zcibf"
          ],
          [
           "rdiaf"
          ],
          [
           "rdiaf"
          ],
          [
           "rdiaf"
          ],
          [
           "rdiaf"
          ],
          [
           "rdiaf"
          ],
          [
           "rdiaf"
          ],
          [
           "rdiaf"
          ],
          [
           "rdiaf"
          ],
          [
           "rdiaf"
          ],
          [
           "yvpmf"
          ],
          [
           "yvpmf"
          ],
          [
           "yvpmf"
          ],
          [
           "yvpmf"
          ],
          [
           "yvpmf"
          ],
          [
           "yvpmf"
          ],
          [
           "yvpmf"
          ],
          [
           "yvpmf"
          ],
          [
           "yvpmf"
          ],
          [
           "pygoc"
          ],
          [
           "pygoc"
          ],
          [
           "pygoc"
          ],
          [
           "pygoc"
          ],
          [
           "pygoc"
          ],
          [
           "pygoc"
          ],
          [
           "pygoc"
          ],
          [
           "pygoc"
          ],
          [
           "pygoc"
          ],
          [
           "ubmtx"
          ],
          [
           "ubmtx"
          ],
          [
           "ubmtx"
          ],
          [
           "ubmtx"
          ],
          [
           "ubmtx"
          ],
          [
           "ubmtx"
          ],
          [
           "ubmtx"
          ],
          [
           "ubmtx"
          ],
          [
           "ubmtx"
          ],
          [
           "edxmq"
          ],
          [
           "edxmq"
          ],
          [
           "edxmq"
          ],
          [
           "edxmq"
          ],
          [
           "edxmq"
          ],
          [
           "edxmq"
          ],
          [
           "edxmq"
          ],
          [
           "edxmq"
          ],
          [
           "edxmq"
          ],
          [
           "asopk"
          ],
          [
           "asopk"
          ],
          [
           "asopk"
          ],
          [
           "asopk"
          ],
          [
           "asopk"
          ],
          [
           "asopk"
          ],
          [
           "asopk"
          ],
          [
           "asopk"
          ],
          [
           "asopk"
          ],
          [
           "onyep"
          ],
          [
           "onyep"
          ],
          [
           "onyep"
          ],
          [
           "onyep"
          ],
          [
           "onyep"
          ],
          [
           "onyep"
          ],
          [
           "onyep"
          ],
          [
           "onyep"
          ],
          [
           "onyep"
          ],
          [
           "swvxx"
          ],
          [
           "swvxx"
          ],
          [
           "swvxx"
          ],
          [
           "swvxx"
          ],
          [
           "swvxx"
          ],
          [
           "swvxx"
          ],
          [
           "swvxx"
          ],
          [
           "swvxx"
          ],
          [
           "swvxx"
          ],
          [
           "kkoif"
          ],
          [
           "kkoif"
          ],
          [
           "kkoif"
          ],
          [
           "kkoif"
          ],
          [
           "kkoif"
          ],
          [
           "kkoif"
          ],
          [
           "kkoif"
          ],
          [
           "kkoif"
          ],
          [
           "kkoif"
          ],
          [
           "oahey"
          ],
          [
           "oahey"
          ],
          [
           "oahey"
          ],
          [
           "oahey"
          ],
          [
           "oahey"
          ],
          [
           "oahey"
          ],
          [
           "oahey"
          ],
          [
           "oahey"
          ],
          [
           "oahey"
          ],
          [
           "cmbfi"
          ],
          [
           "cmbfi"
          ],
          [
           "cmbfi"
          ],
          [
           "cmbfi"
          ],
          [
           "cmbfi"
          ],
          [
           "cmbfi"
          ],
          [
           "cmbfi"
          ],
          [
           "cmbfi"
          ],
          [
           "cmbfi"
          ],
          [
           "bhyhw"
          ],
          [
           "bhyhw"
          ],
          [
           "bhyhw"
          ],
          [
           "bhyhw"
          ],
          [
           "bhyhw"
          ],
          [
           "bhyhw"
          ],
          [
           "bhyhw"
          ],
          [
           "bhyhw"
          ],
          [
           "bhyhw"
          ],
          [
           "accul"
          ],
          [
           "accul"
          ],
          [
           "accul"
          ],
          [
           "accul"
          ],
          [
           "accul"
          ],
          [
           "accul"
          ],
          [
           "accul"
          ],
          [
           "accul"
          ],
          [
           "accul"
          ],
          [
           "tekwp"
          ],
          [
           "tekwp"
          ],
          [
           "tekwp"
          ],
          [
           "tekwp"
          ],
          [
           "tekwp"
          ],
          [
           "tekwp"
          ],
          [
           "tekwp"
          ],
          [
           "tekwp"
          ],
          [
           "tekwp"
          ],
          [
           "dunul"
          ],
          [
           "dunul"
          ],
          [
           "dunul"
          ],
          [
           "dunul"
          ],
          [
           "dunul"
          ],
          [
           "dunul"
          ],
          [
           "dunul"
          ],
          [
           "dunul"
          ],
          [
           "dunul"
          ],
          [
           "dwqwi"
          ],
          [
           "dwqwi"
          ],
          [
           "dwqwi"
          ],
          [
           "dwqwi"
          ],
          [
           "dwqwi"
          ],
          [
           "dwqwi"
          ],
          [
           "dwqwi"
          ],
          [
           "dwqwi"
          ],
          [
           "dwqwi"
          ],
          [
           "yfohf"
          ],
          [
           "yfohf"
          ],
          [
           "yfohf"
          ],
          [
           "yfohf"
          ],
          [
           "yfohf"
          ],
          [
           "yfohf"
          ],
          [
           "yfohf"
          ],
          [
           "yfohf"
          ],
          [
           "yfohf"
          ],
          [
           "nmveq"
          ],
          [
           "nmveq"
          ],
          [
           "nmveq"
          ],
          [
           "nmveq"
          ],
          [
           "nmveq"
          ],
          [
           "nmveq"
          ],
          [
           "nmveq"
          ],
          [
           "nmveq"
          ],
          [
           "nmveq"
          ],
          [
           "tjfzy"
          ],
          [
           "tjfzy"
          ],
          [
           "tjfzy"
          ],
          [
           "tjfzy"
          ],
          [
           "tjfzy"
          ],
          [
           "tjfzy"
          ],
          [
           "tjfzy"
          ],
          [
           "tjfzy"
          ],
          [
           "tjfzy"
          ],
          [
           "sjpkc"
          ],
          [
           "sjpkc"
          ],
          [
           "sjpkc"
          ],
          [
           "sjpkc"
          ],
          [
           "sjpkc"
          ],
          [
           "sjpkc"
          ],
          [
           "sjpkc"
          ],
          [
           "sjpkc"
          ],
          [
           "sjpkc"
          ],
          [
           "camhi"
          ],
          [
           "camhi"
          ],
          [
           "camhi"
          ],
          [
           "camhi"
          ],
          [
           "camhi"
          ],
          [
           "camhi"
          ],
          [
           "camhi"
          ],
          [
           "camhi"
          ],
          [
           "camhi"
          ],
          [
           "stiry"
          ],
          [
           "stiry"
          ],
          [
           "stiry"
          ],
          [
           "stiry"
          ],
          [
           "stiry"
          ],
          [
           "stiry"
          ],
          [
           "stiry"
          ],
          [
           "stiry"
          ],
          [
           "stiry"
          ],
          [
           "ewqbs"
          ],
          [
           "ewqbs"
          ],
          [
           "ewqbs"
          ],
          [
           "ewqbs"
          ],
          [
           "ewqbs"
          ],
          [
           "ewqbs"
          ],
          [
           "ewqbs"
          ],
          [
           "ewqbs"
          ],
          [
           "ewqbs"
          ],
          [
           "lwryl"
          ],
          [
           "lwryl"
          ],
          [
           "lwryl"
          ],
          [
           "lwryl"
          ],
          [
           "lwryl"
          ],
          [
           "lwryl"
          ],
          [
           "lwryl"
          ],
          [
           "lwryl"
          ],
          [
           "lwryl"
          ],
          [
           "fivin"
          ],
          [
           "fivin"
          ],
          [
           "fivin"
          ],
          [
           "fivin"
          ],
          [
           "fivin"
          ],
          [
           "fivin"
          ],
          [
           "fivin"
          ],
          [
           "fivin"
          ],
          [
           "fivin"
          ],
          [
           "psido"
          ],
          [
           "psido"
          ],
          [
           "psido"
          ],
          [
           "psido"
          ],
          [
           "psido"
          ],
          [
           "psido"
          ],
          [
           "psido"
          ],
          [
           "psido"
          ],
          [
           "psido"
          ],
          [
           "tinco"
          ],
          [
           "tinco"
          ],
          [
           "tinco"
          ],
          [
           "tinco"
          ],
          [
           "tinco"
          ],
          [
           "tinco"
          ],
          [
           "tinco"
          ],
          [
           "tinco"
          ],
          [
           "tinco"
          ],
          [
           "mymho"
          ],
          [
           "mymho"
          ],
          [
           "mymho"
          ],
          [
           "mymho"
          ],
          [
           "mymho"
          ],
          [
           "mymho"
          ],
          [
           "mymho"
          ],
          [
           "mymho"
          ],
          [
           "mymho"
          ],
          [
           "zbgwk"
          ],
          [
           "zbgwk"
          ],
          [
           "zbgwk"
          ],
          [
           "zbgwk"
          ],
          [
           "zbgwk"
          ],
          [
           "zbgwk"
          ],
          [
           "zbgwk"
          ],
          [
           "zbgwk"
          ],
          [
           "zbgwk"
          ],
          [
           "fyyya"
          ],
          [
           "fyyya"
          ],
          [
           "fyyya"
          ],
          [
           "fyyya"
          ],
          [
           "fyyya"
          ],
          [
           "fyyya"
          ],
          [
           "fyyya"
          ],
          [
           "fyyya"
          ],
          [
           "fyyya"
          ],
          [
           "gdljy"
          ],
          [
           "gdljy"
          ],
          [
           "gdljy"
          ],
          [
           "gdljy"
          ],
          [
           "gdljy"
          ],
          [
           "gdljy"
          ],
          [
           "gdljy"
          ],
          [
           "gdljy"
          ],
          [
           "gdljy"
          ],
          [
           "wjaxi"
          ],
          [
           "wjaxi"
          ],
          [
           "wjaxi"
          ],
          [
           "wjaxi"
          ],
          [
           "wjaxi"
          ],
          [
           "wjaxi"
          ],
          [
           "wjaxi"
          ],
          [
           "wjaxi"
          ],
          [
           "wjaxi"
          ],
          [
           "ucdvy"
          ],
          [
           "ucdvy"
          ],
          [
           "ucdvy"
          ],
          [
           "ucdvy"
          ],
          [
           "ucdvy"
          ],
          [
           "ucdvy"
          ],
          [
           "ucdvy"
          ],
          [
           "ucdvy"
          ],
          [
           "ucdvy"
          ],
          [
           "dvmlu"
          ],
          [
           "dvmlu"
          ],
          [
           "dvmlu"
          ],
          [
           "dvmlu"
          ],
          [
           "dvmlu"
          ],
          [
           "dvmlu"
          ],
          [
           "dvmlu"
          ],
          [
           "dvmlu"
          ],
          [
           "dvmlu"
          ],
          [
           "yxewz"
          ],
          [
           "yxewz"
          ],
          [
           "yxewz"
          ],
          [
           "yxewz"
          ],
          [
           "yxewz"
          ],
          [
           "yxewz"
          ],
          [
           "yxewz"
          ],
          [
           "yxewz"
          ],
          [
           "yxewz"
          ],
          [
           "mjiso"
          ],
          [
           "mjiso"
          ],
          [
           "mjiso"
          ],
          [
           "mjiso"
          ],
          [
           "mjiso"
          ],
          [
           "mjiso"
          ],
          [
           "mjiso"
          ],
          [
           "mjiso"
          ],
          [
           "mjiso"
          ],
          [
           "gguuc"
          ],
          [
           "gguuc"
          ],
          [
           "gguuc"
          ],
          [
           "gguuc"
          ],
          [
           "gguuc"
          ],
          [
           "gguuc"
          ],
          [
           "gguuc"
          ],
          [
           "gguuc"
          ],
          [
           "gguuc"
          ],
          [
           "kkliq"
          ],
          [
           "kkliq"
          ],
          [
           "kkliq"
          ],
          [
           "kkliq"
          ],
          [
           "kkliq"
          ],
          [
           "kkliq"
          ],
          [
           "kkliq"
          ],
          [
           "kkliq"
          ],
          [
           "kkliq"
          ],
          [
           "dmwvy"
          ],
          [
           "dmwvy"
          ],
          [
           "dmwvy"
          ],
          [
           "dmwvy"
          ],
          [
           "dmwvy"
          ],
          [
           "dmwvy"
          ],
          [
           "dmwvy"
          ],
          [
           "dmwvy"
          ],
          [
           "dmwvy"
          ],
          [
           "hpdxj"
          ],
          [
           "hpdxj"
          ],
          [
           "hpdxj"
          ],
          [
           "hpdxj"
          ],
          [
           "hpdxj"
          ],
          [
           "hpdxj"
          ],
          [
           "hpdxj"
          ],
          [
           "hpdxj"
          ],
          [
           "hpdxj"
          ],
          [
           "tgwmn"
          ],
          [
           "tgwmn"
          ],
          [
           "tgwmn"
          ],
          [
           "tgwmn"
          ],
          [
           "tgwmn"
          ],
          [
           "tgwmn"
          ],
          [
           "tgwmn"
          ],
          [
           "tgwmn"
          ],
          [
           "tgwmn"
          ],
          [
           "hqmhq"
          ],
          [
           "hqmhq"
          ],
          [
           "hqmhq"
          ],
          [
           "hqmhq"
          ],
          [
           "hqmhq"
          ],
          [
           "hqmhq"
          ],
          [
           "hqmhq"
          ],
          [
           "hqmhq"
          ],
          [
           "hqmhq"
          ],
          [
           "rziia"
          ],
          [
           "rziia"
          ],
          [
           "rziia"
          ],
          [
           "rziia"
          ],
          [
           "rziia"
          ],
          [
           "rziia"
          ],
          [
           "rziia"
          ],
          [
           "rziia"
          ],
          [
           "rziia"
          ],
          [
           "yxjji"
          ],
          [
           "yxjji"
          ],
          [
           "yxjji"
          ],
          [
           "yxjji"
          ],
          [
           "yxjji"
          ],
          [
           "yxjji"
          ],
          [
           "yxjji"
          ],
          [
           "yxjji"
          ],
          [
           "yxjji"
          ],
          [
           "ztyed"
          ],
          [
           "ztyed"
          ],
          [
           "ztyed"
          ],
          [
           "ztyed"
          ],
          [
           "ztyed"
          ],
          [
           "ztyed"
          ],
          [
           "ztyed"
          ],
          [
           "ztyed"
          ],
          [
           "ztyed"
          ],
          [
           "vddlg"
          ],
          [
           "vddlg"
          ],
          [
           "vddlg"
          ],
          [
           "vddlg"
          ],
          [
           "vddlg"
          ],
          [
           "vddlg"
          ],
          [
           "vddlg"
          ],
          [
           "vddlg"
          ],
          [
           "vddlg"
          ],
          [
           "qfsdj"
          ],
          [
           "qfsdj"
          ],
          [
           "qfsdj"
          ],
          [
           "qfsdj"
          ],
          [
           "qfsdj"
          ],
          [
           "qfsdj"
          ],
          [
           "qfsdj"
          ],
          [
           "qfsdj"
          ],
          [
           "qfsdj"
          ],
          [
           "bjvnt"
          ],
          [
           "bjvnt"
          ],
          [
           "bjvnt"
          ],
          [
           "bjvnt"
          ],
          [
           "bjvnt"
          ],
          [
           "bjvnt"
          ],
          [
           "bjvnt"
          ],
          [
           "bjvnt"
          ],
          [
           "bjvnt"
          ],
          [
           "yazod"
          ],
          [
           "yazod"
          ],
          [
           "yazod"
          ],
          [
           "yazod"
          ],
          [
           "yazod"
          ],
          [
           "yazod"
          ],
          [
           "yazod"
          ],
          [
           "yazod"
          ],
          [
           "yazod"
          ],
          [
           "atlzs"
          ],
          [
           "atlzs"
          ],
          [
           "atlzs"
          ],
          [
           "atlzs"
          ],
          [
           "atlzs"
          ],
          [
           "atlzs"
          ],
          [
           "atlzs"
          ],
          [
           "atlzs"
          ],
          [
           "atlzs"
          ],
          [
           "ngavz"
          ],
          [
           "ngavz"
          ],
          [
           "ngavz"
          ],
          [
           "ngavz"
          ],
          [
           "ngavz"
          ],
          [
           "ngavz"
          ],
          [
           "ngavz"
          ],
          [
           "ngavz"
          ],
          [
           "ngavz"
          ],
          [
           "tqgyp"
          ],
          [
           "tqgyp"
          ],
          [
           "tqgyp"
          ],
          [
           "tqgyp"
          ],
          [
           "tqgyp"
          ],
          [
           "tqgyp"
          ],
          [
           "tqgyp"
          ],
          [
           "tqgyp"
          ],
          [
           "tqgyp"
          ],
          [
           "idmzi"
          ],
          [
           "idmzi"
          ],
          [
           "idmzi"
          ],
          [
           "idmzi"
          ],
          [
           "idmzi"
          ],
          [
           "idmzi"
          ],
          [
           "idmzi"
          ],
          [
           "idmzi"
          ],
          [
           "idmzi"
          ],
          [
           "aotlm"
          ],
          [
           "aotlm"
          ],
          [
           "aotlm"
          ],
          [
           "aotlm"
          ],
          [
           "aotlm"
          ],
          [
           "aotlm"
          ],
          [
           "aotlm"
          ],
          [
           "aotlm"
          ],
          [
           "aotlm"
          ],
          [
           "ahxym"
          ],
          [
           "ahxym"
          ],
          [
           "ahxym"
          ],
          [
           "ahxym"
          ],
          [
           "ahxym"
          ],
          [
           "ahxym"
          ],
          [
           "ahxym"
          ],
          [
           "ahxym"
          ],
          [
           "ahxym"
          ],
          [
           "vvqlm"
          ],
          [
           "vvqlm"
          ],
          [
           "vvqlm"
          ],
          [
           "vvqlm"
          ],
          [
           "vvqlm"
          ],
          [
           "vvqlm"
          ],
          [
           "vvqlm"
          ],
          [
           "vvqlm"
          ],
          [
           "vvqlm"
          ],
          [
           "lhrbj"
          ],
          [
           "lhrbj"
          ],
          [
           "lhrbj"
          ],
          [
           "lhrbj"
          ],
          [
           "lhrbj"
          ],
          [
           "lhrbj"
          ],
          [
           "lhrbj"
          ],
          [
           "lhrbj"
          ],
          [
           "lhrbj"
          ],
          [
           "zdnso"
          ],
          [
           "zdnso"
          ],
          [
           "zdnso"
          ],
          [
           "zdnso"
          ],
          [
           "zdnso"
          ],
          [
           "zdnso"
          ],
          [
           "zdnso"
          ],
          [
           "zdnso"
          ],
          [
           "zdnso"
          ],
          [
           "mgaak"
          ],
          [
           "mgaak"
          ],
          [
           "mgaak"
          ],
          [
           "mgaak"
          ],
          [
           "mgaak"
          ],
          [
           "mgaak"
          ],
          [
           "mgaak"
          ],
          [
           "mgaak"
          ],
          [
           "mgaak"
          ],
          [
           "tavin"
          ],
          [
           "tavin"
          ],
          [
           "tavin"
          ],
          [
           "tavin"
          ],
          [
           "tavin"
          ],
          [
           "tavin"
          ],
          [
           "tavin"
          ],
          [
           "tavin"
          ],
          [
           "tavin"
          ],
          [
           "huyyb"
          ],
          [
           "huyyb"
          ],
          [
           "huyyb"
          ],
          [
           "huyyb"
          ],
          [
           "huyyb"
          ],
          [
           "huyyb"
          ],
          [
           "huyyb"
          ],
          [
           "huyyb"
          ],
          [
           "huyyb"
          ],
          [
           "wqmgq"
          ],
          [
           "wqmgq"
          ],
          [
           "wqmgq"
          ],
          [
           "wqmgq"
          ],
          [
           "wqmgq"
          ],
          [
           "wqmgq"
          ],
          [
           "wqmgq"
          ],
          [
           "wqmgq"
          ],
          [
           "wqmgq"
          ],
          [
           "knewj"
          ],
          [
           "knewj"
          ],
          [
           "knewj"
          ],
          [
           "knewj"
          ],
          [
           "knewj"
          ],
          [
           "knewj"
          ],
          [
           "knewj"
          ],
          [
           "knewj"
          ],
          [
           "knewj"
          ],
          [
           "rqlug"
          ],
          [
           "rqlug"
          ],
          [
           "rqlug"
          ],
          [
           "rqlug"
          ],
          [
           "rqlug"
          ],
          [
           "rqlug"
          ],
          [
           "rqlug"
          ],
          [
           "rqlug"
          ],
          [
           "rqlug"
          ],
          [
           "tvxow"
          ],
          [
           "tvxow"
          ],
          [
           "tvxow"
          ],
          [
           "tvxow"
          ],
          [
           "tvxow"
          ],
          [
           "tvxow"
          ],
          [
           "tvxow"
          ],
          [
           "tvxow"
          ],
          [
           "tvxow"
          ],
          [
           "jhbuv"
          ],
          [
           "jhbuv"
          ],
          [
           "jhbuv"
          ],
          [
           "jhbuv"
          ],
          [
           "jhbuv"
          ],
          [
           "jhbuv"
          ],
          [
           "jhbuv"
          ],
          [
           "jhbuv"
          ],
          [
           "jhbuv"
          ],
          [
           "jozyx"
          ],
          [
           "jozyx"
          ],
          [
           "jozyx"
          ],
          [
           "jozyx"
          ],
          [
           "jozyx"
          ],
          [
           "jozyx"
          ],
          [
           "jozyx"
          ],
          [
           "jozyx"
          ],
          [
           "jozyx"
          ],
          [
           "xtdrq"
          ],
          [
           "xtdrq"
          ],
          [
           "xtdrq"
          ],
          [
           "xtdrq"
          ],
          [
           "xtdrq"
          ],
          [
           "xtdrq"
          ],
          [
           "xtdrq"
          ],
          [
           "xtdrq"
          ],
          [
           "xtdrq"
          ],
          [
           "ptmkr"
          ],
          [
           "ptmkr"
          ],
          [
           "ptmkr"
          ],
          [
           "ptmkr"
          ],
          [
           "ptmkr"
          ],
          [
           "ptmkr"
          ],
          [
           "ptmkr"
          ],
          [
           "ptmkr"
          ],
          [
           "ptmkr"
          ],
          [
           "pbwkf"
          ],
          [
           "pbwkf"
          ],
          [
           "pbwkf"
          ],
          [
           "pbwkf"
          ],
          [
           "pbwkf"
          ],
          [
           "pbwkf"
          ],
          [
           "pbwkf"
          ],
          [
           "pbwkf"
          ],
          [
           "pbwkf"
          ],
          [
           "thaho"
          ],
          [
           "thaho"
          ],
          [
           "thaho"
          ],
          [
           "thaho"
          ],
          [
           "thaho"
          ],
          [
           "thaho"
          ],
          [
           "thaho"
          ],
          [
           "thaho"
          ],
          [
           "thaho"
          ],
          [
           "pzfdd"
          ],
          [
           "pzfdd"
          ],
          [
           "pzfdd"
          ],
          [
           "pzfdd"
          ],
          [
           "pzfdd"
          ],
          [
           "pzfdd"
          ],
          [
           "pzfdd"
          ],
          [
           "pzfdd"
          ],
          [
           "pzfdd"
          ],
          [
           "icllt"
          ],
          [
           "icllt"
          ],
          [
           "icllt"
          ],
          [
           "icllt"
          ],
          [
           "icllt"
          ],
          [
           "icllt"
          ],
          [
           "icllt"
          ],
          [
           "icllt"
          ],
          [
           "icllt"
          ],
          [
           "mewpz"
          ],
          [
           "mewpz"
          ],
          [
           "mewpz"
          ],
          [
           "mewpz"
          ],
          [
           "mewpz"
          ],
          [
           "mewpz"
          ],
          [
           "mewpz"
          ],
          [
           "mewpz"
          ],
          [
           "mewpz"
          ],
          [
           "qwnpf"
          ],
          [
           "qwnpf"
          ],
          [
           "qwnpf"
          ],
          [
           "qwnpf"
          ],
          [
           "qwnpf"
          ],
          [
           "qwnpf"
          ],
          [
           "qwnpf"
          ],
          [
           "qwnpf"
          ],
          [
           "qwnpf"
          ],
          [
           "buvgs"
          ],
          [
           "buvgs"
          ],
          [
           "buvgs"
          ],
          [
           "buvgs"
          ],
          [
           "buvgs"
          ],
          [
           "buvgs"
          ],
          [
           "buvgs"
          ],
          [
           "buvgs"
          ],
          [
           "buvgs"
          ],
          [
           "fmtrq"
          ],
          [
           "fmtrq"
          ],
          [
           "fmtrq"
          ],
          [
           "fmtrq"
          ],
          [
           "fmtrq"
          ],
          [
           "fmtrq"
          ],
          [
           "fmtrq"
          ],
          [
           "fmtrq"
          ],
          [
           "fmtrq"
          ],
          [
           "nhbnj"
          ],
          [
           "nhbnj"
          ],
          [
           "nhbnj"
          ],
          [
           "nhbnj"
          ],
          [
           "nhbnj"
          ],
          [
           "nhbnj"
          ],
          [
           "nhbnj"
          ],
          [
           "nhbnj"
          ],
          [
           "nhbnj"
          ],
          [
           "sbexy"
          ],
          [
           "sbexy"
          ],
          [
           "sbexy"
          ],
          [
           "sbexy"
          ],
          [
           "sbexy"
          ],
          [
           "sbexy"
          ],
          [
           "sbexy"
          ],
          [
           "sbexy"
          ],
          [
           "sbexy"
          ],
          [
           "rqaby"
          ],
          [
           "rqaby"
          ],
          [
           "rqaby"
          ],
          [
           "rqaby"
          ],
          [
           "rqaby"
          ],
          [
           "rqaby"
          ],
          [
           "rqaby"
          ],
          [
           "rqaby"
          ],
          [
           "rqaby"
          ],
          [
           "khfha"
          ],
          [
           "khfha"
          ],
          [
           "khfha"
          ],
          [
           "khfha"
          ],
          [
           "khfha"
          ],
          [
           "khfha"
          ],
          [
           "khfha"
          ],
          [
           "khfha"
          ],
          [
           "khfha"
          ],
          [
           "itkas"
          ],
          [
           "itkas"
          ],
          [
           "itkas"
          ],
          [
           "itkas"
          ],
          [
           "itkas"
          ],
          [
           "itkas"
          ],
          [
           "itkas"
          ],
          [
           "itkas"
          ],
          [
           "itkas"
          ],
          [
           "gzgfk"
          ],
          [
           "gzgfk"
          ],
          [
           "gzgfk"
          ],
          [
           "gzgfk"
          ],
          [
           "gzgfk"
          ],
          [
           "gzgfk"
          ],
          [
           "gzgfk"
          ],
          [
           "gzgfk"
          ],
          [
           "gzgfk"
          ],
          [
           "yyvas"
          ],
          [
           "yyvas"
          ],
          [
           "yyvas"
          ],
          [
           "yyvas"
          ],
          [
           "yyvas"
          ],
          [
           "yyvas"
          ],
          [
           "yyvas"
          ],
          [
           "yyvas"
          ],
          [
           "yyvas"
          ],
          [
           "uniee"
          ],
          [
           "uniee"
          ],
          [
           "uniee"
          ],
          [
           "uniee"
          ],
          [
           "uniee"
          ],
          [
           "uniee"
          ],
          [
           "uniee"
          ],
          [
           "uniee"
          ],
          [
           "uniee"
          ],
          [
           "esrit"
          ],
          [
           "esrit"
          ],
          [
           "esrit"
          ],
          [
           "esrit"
          ],
          [
           "esrit"
          ],
          [
           "esrit"
          ],
          [
           "esrit"
          ],
          [
           "esrit"
          ],
          [
           "esrit"
          ],
          [
           "kzles"
          ],
          [
           "kzles"
          ],
          [
           "kzles"
          ],
          [
           "kzles"
          ],
          [
           "kzles"
          ],
          [
           "kzles"
          ],
          [
           "kzles"
          ],
          [
           "kzles"
          ],
          [
           "kzles"
          ],
          [
           "rkmrw"
          ],
          [
           "rkmrw"
          ],
          [
           "rkmrw"
          ],
          [
           "rkmrw"
          ],
          [
           "rkmrw"
          ],
          [
           "rkmrw"
          ],
          [
           "rkmrw"
          ],
          [
           "rkmrw"
          ],
          [
           "rkmrw"
          ],
          [
           "hcbyl"
          ],
          [
           "hcbyl"
          ],
          [
           "hcbyl"
          ],
          [
           "hcbyl"
          ],
          [
           "hcbyl"
          ],
          [
           "hcbyl"
          ],
          [
           "hcbyl"
          ],
          [
           "hcbyl"
          ],
          [
           "hcbyl"
          ],
          [
           "nuasx"
          ],
          [
           "nuasx"
          ],
          [
           "nuasx"
          ],
          [
           "nuasx"
          ],
          [
           "nuasx"
          ],
          [
           "nuasx"
          ],
          [
           "nuasx"
          ],
          [
           "nuasx"
          ],
          [
           "nuasx"
          ],
          [
           "nplrf"
          ],
          [
           "nplrf"
          ],
          [
           "nplrf"
          ],
          [
           "nplrf"
          ],
          [
           "nplrf"
          ],
          [
           "nplrf"
          ],
          [
           "nplrf"
          ],
          [
           "nplrf"
          ],
          [
           "nplrf"
          ],
          [
           "ixrux"
          ],
          [
           "ixrux"
          ],
          [
           "ixrux"
          ],
          [
           "ixrux"
          ],
          [
           "ixrux"
          ],
          [
           "ixrux"
          ],
          [
           "ixrux"
          ],
          [
           "ixrux"
          ],
          [
           "ixrux"
          ],
          [
           "qgcgc"
          ],
          [
           "qgcgc"
          ],
          [
           "qgcgc"
          ],
          [
           "qgcgc"
          ],
          [
           "qgcgc"
          ],
          [
           "qgcgc"
          ],
          [
           "qgcgc"
          ],
          [
           "qgcgc"
          ],
          [
           "qgcgc"
          ],
          [
           "rfofs"
          ],
          [
           "rfofs"
          ],
          [
           "rfofs"
          ],
          [
           "rfofs"
          ],
          [
           "rfofs"
          ],
          [
           "rfofs"
          ],
          [
           "rfofs"
          ],
          [
           "rfofs"
          ],
          [
           "rfofs"
          ],
          [
           "pqwaf"
          ],
          [
           "pqwaf"
          ],
          [
           "pqwaf"
          ],
          [
           "pqwaf"
          ],
          [
           "pqwaf"
          ],
          [
           "pqwaf"
          ],
          [
           "pqwaf"
          ],
          [
           "pqwaf"
          ],
          [
           "pqwaf"
          ],
          [
           "lohyo"
          ],
          [
           "lohyo"
          ],
          [
           "lohyo"
          ],
          [
           "lohyo"
          ],
          [
           "lohyo"
          ],
          [
           "lohyo"
          ],
          [
           "lohyo"
          ],
          [
           "lohyo"
          ],
          [
           "lohyo"
          ],
          [
           "cojqb"
          ],
          [
           "cojqb"
          ],
          [
           "cojqb"
          ],
          [
           "cojqb"
          ],
          [
           "cojqb"
          ],
          [
           "cojqb"
          ],
          [
           "cojqb"
          ],
          [
           "cojqb"
          ],
          [
           "cojqb"
          ],
          [
           "tflzv"
          ],
          [
           "tflzv"
          ],
          [
           "tflzv"
          ],
          [
           "tflzv"
          ],
          [
           "tflzv"
          ],
          [
           "tflzv"
          ],
          [
           "tflzv"
          ],
          [
           "tflzv"
          ],
          [
           "tflzv"
          ],
          [
           "qbsjv"
          ],
          [
           "qbsjv"
          ],
          [
           "qbsjv"
          ],
          [
           "qbsjv"
          ],
          [
           "qbsjv"
          ],
          [
           "qbsjv"
          ],
          [
           "qbsjv"
          ],
          [
           "qbsjv"
          ],
          [
           "qbsjv"
          ],
          [
           "rsjxu"
          ],
          [
           "rsjxu"
          ],
          [
           "rsjxu"
          ],
          [
           "rsjxu"
          ],
          [
           "rsjxu"
          ],
          [
           "rsjxu"
          ],
          [
           "rsjxu"
          ],
          [
           "rsjxu"
          ],
          [
           "rsjxu"
          ],
          [
           "sybwc"
          ],
          [
           "sybwc"
          ],
          [
           "sybwc"
          ],
          [
           "sybwc"
          ],
          [
           "sybwc"
          ],
          [
           "sybwc"
          ],
          [
           "sybwc"
          ],
          [
           "sybwc"
          ],
          [
           "sybwc"
          ],
          [
           "blvkx"
          ],
          [
           "blvkx"
          ],
          [
           "blvkx"
          ],
          [
           "blvkx"
          ],
          [
           "blvkx"
          ],
          [
           "blvkx"
          ],
          [
           "blvkx"
          ],
          [
           "blvkx"
          ],
          [
           "blvkx"
          ],
          [
           "orjyn"
          ],
          [
           "orjyn"
          ],
          [
           "orjyn"
          ],
          [
           "orjyn"
          ],
          [
           "orjyn"
          ],
          [
           "orjyn"
          ],
          [
           "orjyn"
          ],
          [
           "orjyn"
          ],
          [
           "orjyn"
          ],
          [
           "tcvyz"
          ],
          [
           "tcvyz"
          ],
          [
           "tcvyz"
          ],
          [
           "tcvyz"
          ],
          [
           "tcvyz"
          ],
          [
           "tcvyz"
          ],
          [
           "tcvyz"
          ],
          [
           "tcvyz"
          ],
          [
           "tcvyz"
          ],
          [
           "eayrh"
          ],
          [
           "eayrh"
          ],
          [
           "eayrh"
          ],
          [
           "eayrh"
          ],
          [
           "eayrh"
          ],
          [
           "eayrh"
          ],
          [
           "eayrh"
          ],
          [
           "eayrh"
          ],
          [
           "eayrh"
          ],
          [
           "fbldj"
          ],
          [
           "fbldj"
          ],
          [
           "fbldj"
          ],
          [
           "fbldj"
          ],
          [
           "fbldj"
          ],
          [
           "fbldj"
          ],
          [
           "fbldj"
          ],
          [
           "fbldj"
          ],
          [
           "fbldj"
          ],
          [
           "prpej"
          ],
          [
           "prpej"
          ],
          [
           "prpej"
          ],
          [
           "prpej"
          ],
          [
           "prpej"
          ],
          [
           "prpej"
          ],
          [
           "prpej"
          ],
          [
           "prpej"
          ],
          [
           "prpej"
          ],
          [
           "raqdt"
          ],
          [
           "raqdt"
          ],
          [
           "raqdt"
          ],
          [
           "raqdt"
          ],
          [
           "raqdt"
          ],
          [
           "raqdt"
          ],
          [
           "raqdt"
          ],
          [
           "raqdt"
          ],
          [
           "raqdt"
          ],
          [
           "bajbm"
          ],
          [
           "bajbm"
          ],
          [
           "bajbm"
          ],
          [
           "bajbm"
          ],
          [
           "bajbm"
          ],
          [
           "bajbm"
          ],
          [
           "bajbm"
          ],
          [
           "bajbm"
          ],
          [
           "bajbm"
          ],
          [
           "fmupf"
          ],
          [
           "fmupf"
          ],
          [
           "fmupf"
          ],
          [
           "fmupf"
          ],
          [
           "fmupf"
          ],
          [
           "fmupf"
          ],
          [
           "fmupf"
          ],
          [
           "fmupf"
          ],
          [
           "fmupf"
          ],
          [
           "xbmmw"
          ],
          [
           "xbmmw"
          ],
          [
           "xbmmw"
          ],
          [
           "xbmmw"
          ],
          [
           "xbmmw"
          ],
          [
           "xbmmw"
          ],
          [
           "xbmmw"
          ],
          [
           "xbmmw"
          ],
          [
           "xbmmw"
          ],
          [
           "pleui"
          ],
          [
           "pleui"
          ],
          [
           "pleui"
          ],
          [
           "pleui"
          ],
          [
           "pleui"
          ],
          [
           "pleui"
          ],
          [
           "pleui"
          ],
          [
           "pleui"
          ],
          [
           "pleui"
          ],
          [
           "vkfnt"
          ],
          [
           "vkfnt"
          ],
          [
           "vkfnt"
          ],
          [
           "vkfnt"
          ],
          [
           "vkfnt"
          ],
          [
           "vkfnt"
          ],
          [
           "vkfnt"
          ],
          [
           "vkfnt"
          ],
          [
           "vkfnt"
          ],
          [
           "olugf"
          ],
          [
           "olugf"
          ],
          [
           "olugf"
          ],
          [
           "olugf"
          ],
          [
           "olugf"
          ],
          [
           "olugf"
          ],
          [
           "olugf"
          ],
          [
           "olugf"
          ],
          [
           "olugf"
          ],
          [
           "epjcx"
          ],
          [
           "epjcx"
          ],
          [
           "epjcx"
          ],
          [
           "epjcx"
          ],
          [
           "epjcx"
          ],
          [
           "epjcx"
          ],
          [
           "epjcx"
          ],
          [
           "epjcx"
          ],
          [
           "epjcx"
          ]
         ],
         "hovertemplate": "index=%{x}<br>value=%{y}<br>player=%{customdata[0]}<extra></extra>",
         "legendgroup": "",
         "marker": {
          "color": "#636efa"
         },
         "name": "",
         "notched": false,
         "offsetgroup": "",
         "orientation": "v",
         "showlegend": false,
         "type": "box",
         "x": [
          "variables_1",
          "variables_2",
          "variables_3",
          "variables_4",
          "variables_5",
          "variables_6",
          "variables_7",
          "variables_8",
          "variables_9",
          "variables_1",
          "variables_2",
          "variables_3",
          "variables_4",
          "variables_5",
          "variables_6",
          "variables_7",
          "variables_8",
          "variables_9",
          "variables_1",
          "variables_2",
          "variables_3",
          "variables_4",
          "variables_5",
          "variables_6",
          "variables_7",
          "variables_8",
          "variables_9",
          "variables_1",
          "variables_2",
          "variables_3",
          "variables_4",
          "variables_5",
          "variables_6",
          "variables_7",
          "variables_8",
          "variables_9",
          "variables_1",
          "variables_2",
          "variables_3",
          "variables_4",
          "variables_5",
          "variables_6",
          "variables_7",
          "variables_8",
          "variables_9",
          "variables_1",
          "variables_2",
          "variables_3",
          "variables_4",
          "variables_5",
          "variables_6",
          "variables_7",
          "variables_8",
          "variables_9",
          "variables_1",
          "variables_2",
          "variables_3",
          "variables_4",
          "variables_5",
          "variables_6",
          "variables_7",
          "variables_8",
          "variables_9",
          "variables_1",
          "variables_2",
          "variables_3",
          "variables_4",
          "variables_5",
          "variables_6",
          "variables_7",
          "variables_8",
          "variables_9",
          "variables_1",
          "variables_2",
          "variables_3",
          "variables_4",
          "variables_5",
          "variables_6",
          "variables_7",
          "variables_8",
          "variables_9",
          "variables_1",
          "variables_2",
          "variables_3",
          "variables_4",
          "variables_5",
          "variables_6",
          "variables_7",
          "variables_8",
          "variables_9",
          "variables_1",
          "variables_2",
          "variables_3",
          "variables_4",
          "variables_5",
          "variables_6",
          "variables_7",
          "variables_8",
          "variables_9",
          "variables_1",
          "variables_2",
          "variables_3",
          "variables_4",
          "variables_5",
          "variables_6",
          "variables_7",
          "variables_8",
          "variables_9",
          "variables_1",
          "variables_2",
          "variables_3",
          "variables_4",
          "variables_5",
          "variables_6",
          "variables_7",
          "variables_8",
          "variables_9",
          "variables_1",
          "variables_2",
          "variables_3",
          "variables_4",
          "variables_5",
          "variables_6",
          "variables_7",
          "variables_8",
          "variables_9",
          "variables_1",
          "variables_2",
          "variables_3",
          "variables_4",
          "variables_5",
          "variables_6",
          "variables_7",
          "variables_8",
          "variables_9",
          "variables_1",
          "variables_2",
          "variables_3",
          "variables_4",
          "variables_5",
          "variables_6",
          "variables_7",
          "variables_8",
          "variables_9",
          "variables_1",
          "variables_2",
          "variables_3",
          "variables_4",
          "variables_5",
          "variables_6",
          "variables_7",
          "variables_8",
          "variables_9",
          "variables_1",
          "variables_2",
          "variables_3",
          "variables_4",
          "variables_5",
          "variables_6",
          "variables_7",
          "variables_8",
          "variables_9",
          "variables_1",
          "variables_2",
          "variables_3",
          "variables_4",
          "variables_5",
          "variables_6",
          "variables_7",
          "variables_8",
          "variables_9",
          "variables_1",
          "variables_2",
          "variables_3",
          "variables_4",
          "variables_5",
          "variables_6",
          "variables_7",
          "variables_8",
          "variables_9",
          "variables_1",
          "variables_2",
          "variables_3",
          "variables_4",
          "variables_5",
          "variables_6",
          "variables_7",
          "variables_8",
          "variables_9",
          "variables_1",
          "variables_2",
          "variables_3",
          "variables_4",
          "variables_5",
          "variables_6",
          "variables_7",
          "variables_8",
          "variables_9",
          "variables_1",
          "variables_2",
          "variables_3",
          "variables_4",
          "variables_5",
          "variables_6",
          "variables_7",
          "variables_8",
          "variables_9",
          "variables_1",
          "variables_2",
          "variables_3",
          "variables_4",
          "variables_5",
          "variables_6",
          "variables_7",
          "variables_8",
          "variables_9",
          "variables_1",
          "variables_2",
          "variables_3",
          "variables_4",
          "variables_5",
          "variables_6",
          "variables_7",
          "variables_8",
          "variables_9",
          "variables_1",
          "variables_2",
          "variables_3",
          "variables_4",
          "variables_5",
          "variables_6",
          "variables_7",
          "variables_8",
          "variables_9",
          "variables_1",
          "variables_2",
          "variables_3",
          "variables_4",
          "variables_5",
          "variables_6",
          "variables_7",
          "variables_8",
          "variables_9",
          "variables_1",
          "variables_2",
          "variables_3",
          "variables_4",
          "variables_5",
          "variables_6",
          "variables_7",
          "variables_8",
          "variables_9",
          "variables_1",
          "variables_2",
          "variables_3",
          "variables_4",
          "variables_5",
          "variables_6",
          "variables_7",
          "variables_8",
          "variables_9",
          "variables_1",
          "variables_2",
          "variables_3",
          "variables_4",
          "variables_5",
          "variables_6",
          "variables_7",
          "variables_8",
          "variables_9",
          "variables_1",
          "variables_2",
          "variables_3",
          "variables_4",
          "variables_5",
          "variables_6",
          "variables_7",
          "variables_8",
          "variables_9",
          "variables_1",
          "variables_2",
          "variables_3",
          "variables_4",
          "variables_5",
          "variables_6",
          "variables_7",
          "variables_8",
          "variables_9",
          "variables_1",
          "variables_2",
          "variables_3",
          "variables_4",
          "variables_5",
          "variables_6",
          "variables_7",
          "variables_8",
          "variables_9",
          "variables_1",
          "variables_2",
          "variables_3",
          "variables_4",
          "variables_5",
          "variables_6",
          "variables_7",
          "variables_8",
          "variables_9",
          "variables_1",
          "variables_2",
          "variables_3",
          "variables_4",
          "variables_5",
          "variables_6",
          "variables_7",
          "variables_8",
          "variables_9",
          "variables_1",
          "variables_2",
          "variables_3",
          "variables_4",
          "variables_5",
          "variables_6",
          "variables_7",
          "variables_8",
          "variables_9",
          "variables_1",
          "variables_2",
          "variables_3",
          "variables_4",
          "variables_5",
          "variables_6",
          "variables_7",
          "variables_8",
          "variables_9",
          "variables_1",
          "variables_2",
          "variables_3",
          "variables_4",
          "variables_5",
          "variables_6",
          "variables_7",
          "variables_8",
          "variables_9",
          "variables_1",
          "variables_2",
          "variables_3",
          "variables_4",
          "variables_5",
          "variables_6",
          "variables_7",
          "variables_8",
          "variables_9",
          "variables_1",
          "variables_2",
          "variables_3",
          "variables_4",
          "variables_5",
          "variables_6",
          "variables_7",
          "variables_8",
          "variables_9",
          "variables_1",
          "variables_2",
          "variables_3",
          "variables_4",
          "variables_5",
          "variables_6",
          "variables_7",
          "variables_8",
          "variables_9",
          "variables_1",
          "variables_2",
          "variables_3",
          "variables_4",
          "variables_5",
          "variables_6",
          "variables_7",
          "variables_8",
          "variables_9",
          "variables_1",
          "variables_2",
          "variables_3",
          "variables_4",
          "variables_5",
          "variables_6",
          "variables_7",
          "variables_8",
          "variables_9",
          "variables_1",
          "variables_2",
          "variables_3",
          "variables_4",
          "variables_5",
          "variables_6",
          "variables_7",
          "variables_8",
          "variables_9",
          "variables_1",
          "variables_2",
          "variables_3",
          "variables_4",
          "variables_5",
          "variables_6",
          "variables_7",
          "variables_8",
          "variables_9",
          "variables_1",
          "variables_2",
          "variables_3",
          "variables_4",
          "variables_5",
          "variables_6",
          "variables_7",
          "variables_8",
          "variables_9",
          "variables_1",
          "variables_2",
          "variables_3",
          "variables_4",
          "variables_5",
          "variables_6",
          "variables_7",
          "variables_8",
          "variables_9",
          "variables_1",
          "variables_2",
          "variables_3",
          "variables_4",
          "variables_5",
          "variables_6",
          "variables_7",
          "variables_8",
          "variables_9",
          "variables_1",
          "variables_2",
          "variables_3",
          "variables_4",
          "variables_5",
          "variables_6",
          "variables_7",
          "variables_8",
          "variables_9",
          "variables_1",
          "variables_2",
          "variables_3",
          "variables_4",
          "variables_5",
          "variables_6",
          "variables_7",
          "variables_8",
          "variables_9",
          "variables_1",
          "variables_2",
          "variables_3",
          "variables_4",
          "variables_5",
          "variables_6",
          "variables_7",
          "variables_8",
          "variables_9",
          "variables_1",
          "variables_2",
          "variables_3",
          "variables_4",
          "variables_5",
          "variables_6",
          "variables_7",
          "variables_8",
          "variables_9",
          "variables_1",
          "variables_2",
          "variables_3",
          "variables_4",
          "variables_5",
          "variables_6",
          "variables_7",
          "variables_8",
          "variables_9",
          "variables_1",
          "variables_2",
          "variables_3",
          "variables_4",
          "variables_5",
          "variables_6",
          "variables_7",
          "variables_8",
          "variables_9",
          "variables_1",
          "variables_2",
          "variables_3",
          "variables_4",
          "variables_5",
          "variables_6",
          "variables_7",
          "variables_8",
          "variables_9",
          "variables_1",
          "variables_2",
          "variables_3",
          "variables_4",
          "variables_5",
          "variables_6",
          "variables_7",
          "variables_8",
          "variables_9",
          "variables_1",
          "variables_2",
          "variables_3",
          "variables_4",
          "variables_5",
          "variables_6",
          "variables_7",
          "variables_8",
          "variables_9",
          "variables_1",
          "variables_2",
          "variables_3",
          "variables_4",
          "variables_5",
          "variables_6",
          "variables_7",
          "variables_8",
          "variables_9",
          "variables_1",
          "variables_2",
          "variables_3",
          "variables_4",
          "variables_5",
          "variables_6",
          "variables_7",
          "variables_8",
          "variables_9",
          "variables_1",
          "variables_2",
          "variables_3",
          "variables_4",
          "variables_5",
          "variables_6",
          "variables_7",
          "variables_8",
          "variables_9",
          "variables_1",
          "variables_2",
          "variables_3",
          "variables_4",
          "variables_5",
          "variables_6",
          "variables_7",
          "variables_8",
          "variables_9",
          "variables_1",
          "variables_2",
          "variables_3",
          "variables_4",
          "variables_5",
          "variables_6",
          "variables_7",
          "variables_8",
          "variables_9",
          "variables_1",
          "variables_2",
          "variables_3",
          "variables_4",
          "variables_5",
          "variables_6",
          "variables_7",
          "variables_8",
          "variables_9",
          "variables_1",
          "variables_2",
          "variables_3",
          "variables_4",
          "variables_5",
          "variables_6",
          "variables_7",
          "variables_8",
          "variables_9",
          "variables_1",
          "variables_2",
          "variables_3",
          "variables_4",
          "variables_5",
          "variables_6",
          "variables_7",
          "variables_8",
          "variables_9",
          "variables_1",
          "variables_2",
          "variables_3",
          "variables_4",
          "variables_5",
          "variables_6",
          "variables_7",
          "variables_8",
          "variables_9",
          "variables_1",
          "variables_2",
          "variables_3",
          "variables_4",
          "variables_5",
          "variables_6",
          "variables_7",
          "variables_8",
          "variables_9",
          "variables_1",
          "variables_2",
          "variables_3",
          "variables_4",
          "variables_5",
          "variables_6",
          "variables_7",
          "variables_8",
          "variables_9",
          "variables_1",
          "variables_2",
          "variables_3",
          "variables_4",
          "variables_5",
          "variables_6",
          "variables_7",
          "variables_8",
          "variables_9",
          "variables_1",
          "variables_2",
          "variables_3",
          "variables_4",
          "variables_5",
          "variables_6",
          "variables_7",
          "variables_8",
          "variables_9",
          "variables_1",
          "variables_2",
          "variables_3",
          "variables_4",
          "variables_5",
          "variables_6",
          "variables_7",
          "variables_8",
          "variables_9",
          "variables_1",
          "variables_2",
          "variables_3",
          "variables_4",
          "variables_5",
          "variables_6",
          "variables_7",
          "variables_8",
          "variables_9",
          "variables_1",
          "variables_2",
          "variables_3",
          "variables_4",
          "variables_5",
          "variables_6",
          "variables_7",
          "variables_8",
          "variables_9",
          "variables_1",
          "variables_2",
          "variables_3",
          "variables_4",
          "variables_5",
          "variables_6",
          "variables_7",
          "variables_8",
          "variables_9",
          "variables_1",
          "variables_2",
          "variables_3",
          "variables_4",
          "variables_5",
          "variables_6",
          "variables_7",
          "variables_8",
          "variables_9",
          "variables_1",
          "variables_2",
          "variables_3",
          "variables_4",
          "variables_5",
          "variables_6",
          "variables_7",
          "variables_8",
          "variables_9",
          "variables_1",
          "variables_2",
          "variables_3",
          "variables_4",
          "variables_5",
          "variables_6",
          "variables_7",
          "variables_8",
          "variables_9",
          "variables_1",
          "variables_2",
          "variables_3",
          "variables_4",
          "variables_5",
          "variables_6",
          "variables_7",
          "variables_8",
          "variables_9",
          "variables_1",
          "variables_2",
          "variables_3",
          "variables_4",
          "variables_5",
          "variables_6",
          "variables_7",
          "variables_8",
          "variables_9",
          "variables_1",
          "variables_2",
          "variables_3",
          "variables_4",
          "variables_5",
          "variables_6",
          "variables_7",
          "variables_8",
          "variables_9",
          "variables_1",
          "variables_2",
          "variables_3",
          "variables_4",
          "variables_5",
          "variables_6",
          "variables_7",
          "variables_8",
          "variables_9",
          "variables_1",
          "variables_2",
          "variables_3",
          "variables_4",
          "variables_5",
          "variables_6",
          "variables_7",
          "variables_8",
          "variables_9",
          "variables_1",
          "variables_2",
          "variables_3",
          "variables_4",
          "variables_5",
          "variables_6",
          "variables_7",
          "variables_8",
          "variables_9",
          "variables_1",
          "variables_2",
          "variables_3",
          "variables_4",
          "variables_5",
          "variables_6",
          "variables_7",
          "variables_8",
          "variables_9",
          "variables_1",
          "variables_2",
          "variables_3",
          "variables_4",
          "variables_5",
          "variables_6",
          "variables_7",
          "variables_8",
          "variables_9",
          "variables_1",
          "variables_2",
          "variables_3",
          "variables_4",
          "variables_5",
          "variables_6",
          "variables_7",
          "variables_8",
          "variables_9",
          "variables_1",
          "variables_2",
          "variables_3",
          "variables_4",
          "variables_5",
          "variables_6",
          "variables_7",
          "variables_8",
          "variables_9",
          "variables_1",
          "variables_2",
          "variables_3",
          "variables_4",
          "variables_5",
          "variables_6",
          "variables_7",
          "variables_8",
          "variables_9",
          "variables_1",
          "variables_2",
          "variables_3",
          "variables_4",
          "variables_5",
          "variables_6",
          "variables_7",
          "variables_8",
          "variables_9",
          "variables_1",
          "variables_2",
          "variables_3",
          "variables_4",
          "variables_5",
          "variables_6",
          "variables_7",
          "variables_8",
          "variables_9",
          "variables_1",
          "variables_2",
          "variables_3",
          "variables_4",
          "variables_5",
          "variables_6",
          "variables_7",
          "variables_8",
          "variables_9",
          "variables_1",
          "variables_2",
          "variables_3",
          "variables_4",
          "variables_5",
          "variables_6",
          "variables_7",
          "variables_8",
          "variables_9",
          "variables_1",
          "variables_2",
          "variables_3",
          "variables_4",
          "variables_5",
          "variables_6",
          "variables_7",
          "variables_8",
          "variables_9",
          "variables_1",
          "variables_2",
          "variables_3",
          "variables_4",
          "variables_5",
          "variables_6",
          "variables_7",
          "variables_8",
          "variables_9",
          "variables_1",
          "variables_2",
          "variables_3",
          "variables_4",
          "variables_5",
          "variables_6",
          "variables_7",
          "variables_8",
          "variables_9",
          "variables_1",
          "variables_2",
          "variables_3",
          "variables_4",
          "variables_5",
          "variables_6",
          "variables_7",
          "variables_8",
          "variables_9",
          "variables_1",
          "variables_2",
          "variables_3",
          "variables_4",
          "variables_5",
          "variables_6",
          "variables_7",
          "variables_8",
          "variables_9",
          "variables_1",
          "variables_2",
          "variables_3",
          "variables_4",
          "variables_5",
          "variables_6",
          "variables_7",
          "variables_8",
          "variables_9",
          "variables_1",
          "variables_2",
          "variables_3",
          "variables_4",
          "variables_5",
          "variables_6",
          "variables_7",
          "variables_8",
          "variables_9",
          "variables_1",
          "variables_2",
          "variables_3",
          "variables_4",
          "variables_5",
          "variables_6",
          "variables_7",
          "variables_8",
          "variables_9",
          "variables_1",
          "variables_2",
          "variables_3",
          "variables_4",
          "variables_5",
          "variables_6",
          "variables_7",
          "variables_8",
          "variables_9",
          "variables_1",
          "variables_2",
          "variables_3",
          "variables_4",
          "variables_5",
          "variables_6",
          "variables_7",
          "variables_8",
          "variables_9",
          "variables_1",
          "variables_2",
          "variables_3",
          "variables_4",
          "variables_5",
          "variables_6",
          "variables_7",
          "variables_8",
          "variables_9",
          "variables_1",
          "variables_2",
          "variables_3",
          "variables_4",
          "variables_5",
          "variables_6",
          "variables_7",
          "variables_8",
          "variables_9",
          "variables_1",
          "variables_2",
          "variables_3",
          "variables_4",
          "variables_5",
          "variables_6",
          "variables_7",
          "variables_8",
          "variables_9",
          "variables_1",
          "variables_2",
          "variables_3",
          "variables_4",
          "variables_5",
          "variables_6",
          "variables_7",
          "variables_8",
          "variables_9",
          "variables_1",
          "variables_2",
          "variables_3",
          "variables_4",
          "variables_5",
          "variables_6",
          "variables_7",
          "variables_8",
          "variables_9",
          "variables_1",
          "variables_2",
          "variables_3",
          "variables_4",
          "variables_5",
          "variables_6",
          "variables_7",
          "variables_8",
          "variables_9",
          "variables_1",
          "variables_2",
          "variables_3",
          "variables_4",
          "variables_5",
          "variables_6",
          "variables_7",
          "variables_8",
          "variables_9",
          "variables_1",
          "variables_2",
          "variables_3",
          "variables_4",
          "variables_5",
          "variables_6",
          "variables_7",
          "variables_8",
          "variables_9",
          "variables_1",
          "variables_2",
          "variables_3",
          "variables_4",
          "variables_5",
          "variables_6",
          "variables_7",
          "variables_8",
          "variables_9",
          "variables_1",
          "variables_2",
          "variables_3",
          "variables_4",
          "variables_5",
          "variables_6",
          "variables_7",
          "variables_8",
          "variables_9",
          "variables_1",
          "variables_2",
          "variables_3",
          "variables_4",
          "variables_5",
          "variables_6",
          "variables_7",
          "variables_8",
          "variables_9",
          "variables_1",
          "variables_2",
          "variables_3",
          "variables_4",
          "variables_5",
          "variables_6",
          "variables_7",
          "variables_8",
          "variables_9",
          "variables_1",
          "variables_2",
          "variables_3",
          "variables_4",
          "variables_5",
          "variables_6",
          "variables_7",
          "variables_8",
          "variables_9",
          "variables_1",
          "variables_2",
          "variables_3",
          "variables_4",
          "variables_5",
          "variables_6",
          "variables_7",
          "variables_8",
          "variables_9",
          "variables_1",
          "variables_2",
          "variables_3",
          "variables_4",
          "variables_5",
          "variables_6",
          "variables_7",
          "variables_8",
          "variables_9",
          "variables_1",
          "variables_2",
          "variables_3",
          "variables_4",
          "variables_5",
          "variables_6",
          "variables_7",
          "variables_8",
          "variables_9",
          "variables_1",
          "variables_2",
          "variables_3",
          "variables_4",
          "variables_5",
          "variables_6",
          "variables_7",
          "variables_8",
          "variables_9",
          "variables_1",
          "variables_2",
          "variables_3",
          "variables_4",
          "variables_5",
          "variables_6",
          "variables_7",
          "variables_8",
          "variables_9",
          "variables_1",
          "variables_2",
          "variables_3",
          "variables_4",
          "variables_5",
          "variables_6",
          "variables_7",
          "variables_8",
          "variables_9",
          "variables_1",
          "variables_2",
          "variables_3",
          "variables_4",
          "variables_5",
          "variables_6",
          "variables_7",
          "variables_8",
          "variables_9",
          "variables_1",
          "variables_2",
          "variables_3",
          "variables_4",
          "variables_5",
          "variables_6",
          "variables_7",
          "variables_8",
          "variables_9",
          "variables_1",
          "variables_2",
          "variables_3",
          "variables_4",
          "variables_5",
          "variables_6",
          "variables_7",
          "variables_8",
          "variables_9",
          "variables_1",
          "variables_2",
          "variables_3",
          "variables_4",
          "variables_5",
          "variables_6",
          "variables_7",
          "variables_8",
          "variables_9",
          "variables_1",
          "variables_2",
          "variables_3",
          "variables_4",
          "variables_5",
          "variables_6",
          "variables_7",
          "variables_8",
          "variables_9",
          "variables_1",
          "variables_2",
          "variables_3",
          "variables_4",
          "variables_5",
          "variables_6",
          "variables_7",
          "variables_8",
          "variables_9",
          "variables_1",
          "variables_2",
          "variables_3",
          "variables_4",
          "variables_5",
          "variables_6",
          "variables_7",
          "variables_8",
          "variables_9",
          "variables_1",
          "variables_2",
          "variables_3",
          "variables_4",
          "variables_5",
          "variables_6",
          "variables_7",
          "variables_8",
          "variables_9",
          "variables_1",
          "variables_2",
          "variables_3",
          "variables_4",
          "variables_5",
          "variables_6",
          "variables_7",
          "variables_8",
          "variables_9",
          "variables_1",
          "variables_2",
          "variables_3",
          "variables_4",
          "variables_5",
          "variables_6",
          "variables_7",
          "variables_8",
          "variables_9",
          "variables_1",
          "variables_2",
          "variables_3",
          "variables_4",
          "variables_5",
          "variables_6",
          "variables_7",
          "variables_8",
          "variables_9",
          "variables_1",
          "variables_2",
          "variables_3",
          "variables_4",
          "variables_5",
          "variables_6",
          "variables_7",
          "variables_8",
          "variables_9",
          "variables_1",
          "variables_2",
          "variables_3",
          "variables_4",
          "variables_5",
          "variables_6",
          "variables_7",
          "variables_8",
          "variables_9",
          "variables_1",
          "variables_2",
          "variables_3",
          "variables_4",
          "variables_5",
          "variables_6",
          "variables_7",
          "variables_8",
          "variables_9",
          "variables_1",
          "variables_2",
          "variables_3",
          "variables_4",
          "variables_5",
          "variables_6",
          "variables_7",
          "variables_8",
          "variables_9",
          "variables_1",
          "variables_2",
          "variables_3",
          "variables_4",
          "variables_5",
          "variables_6",
          "variables_7",
          "variables_8",
          "variables_9",
          "variables_1",
          "variables_2",
          "variables_3",
          "variables_4",
          "variables_5",
          "variables_6",
          "variables_7",
          "variables_8",
          "variables_9",
          "variables_1",
          "variables_2",
          "variables_3",
          "variables_4",
          "variables_5",
          "variables_6",
          "variables_7",
          "variables_8",
          "variables_9",
          "variables_1",
          "variables_2",
          "variables_3",
          "variables_4",
          "variables_5",
          "variables_6",
          "variables_7",
          "variables_8",
          "variables_9",
          "variables_1",
          "variables_2",
          "variables_3",
          "variables_4",
          "variables_5",
          "variables_6",
          "variables_7",
          "variables_8",
          "variables_9",
          "variables_1",
          "variables_2",
          "variables_3",
          "variables_4",
          "variables_5",
          "variables_6",
          "variables_7",
          "variables_8",
          "variables_9",
          "variables_1",
          "variables_2",
          "variables_3",
          "variables_4",
          "variables_5",
          "variables_6",
          "variables_7",
          "variables_8",
          "variables_9"
         ],
         "x0": " ",
         "xaxis": "x",
         "y": [
          1,
          2,
          1,
          1,
          null,
          null,
          null,
          null,
          null,
          1,
          15,
          2,
          2,
          5,
          2,
          2,
          2,
          1,
          1,
          6,
          3,
          2,
          3,
          2,
          1,
          1,
          2,
          1,
          4,
          2,
          10,
          1,
          2,
          2,
          1,
          1,
          1,
          11,
          4,
          1,
          17,
          1,
          2,
          1,
          1,
          1,
          3,
          6,
          1,
          11,
          3,
          2,
          2,
          3,
          1,
          2,
          5,
          1,
          4,
          1,
          1,
          1,
          1,
          1,
          4,
          3,
          4,
          7,
          3,
          2,
          1,
          1,
          1,
          3,
          1,
          1,
          2,
          1,
          1,
          3,
          1,
          1,
          1,
          1,
          1,
          9,
          1,
          2,
          3,
          1,
          1,
          3,
          3,
          1,
          3,
          1,
          1,
          2,
          2,
          1,
          2,
          2,
          1,
          3,
          3,
          1,
          3,
          1,
          1,
          2,
          2,
          1,
          2,
          1,
          1,
          2,
          1,
          1,
          5,
          2,
          1,
          1,
          1,
          2,
          1,
          1,
          1,
          4,
          1,
          1,
          3,
          1,
          1,
          1,
          2,
          1,
          2,
          1,
          1,
          2,
          1,
          1,
          1,
          1,
          1,
          1,
          1,
          2,
          1,
          1,
          7,
          1,
          1,
          1,
          2,
          2,
          2,
          1,
          1,
          1,
          1,
          1,
          1,
          10,
          4,
          11,
          15,
          5,
          3,
          5,
          5,
          1,
          7,
          2,
          2,
          3,
          3,
          8,
          5,
          3,
          1,
          5,
          1,
          10,
          4,
          1,
          2,
          1,
          1,
          1,
          1,
          1,
          3,
          3,
          3,
          2,
          1,
          1,
          1,
          2,
          2,
          4,
          10,
          2,
          1,
          1,
          1,
          1,
          3,
          5,
          5,
          6,
          1,
          null,
          null,
          null,
          1,
          7,
          2,
          8,
          8,
          2,
          3,
          2,
          2,
          1,
          2,
          2,
          1,
          4,
          1,
          1,
          1,
          1,
          1,
          3,
          5,
          2,
          8,
          3,
          1,
          1,
          1,
          1,
          2,
          1,
          1,
          3,
          4,
          1,
          1,
          1,
          1,
          11,
          2,
          5,
          4,
          2,
          2,
          1,
          1,
          2,
          8,
          5,
          6,
          7,
          3,
          2,
          1,
          1,
          1,
          1,
          2,
          1,
          2,
          1,
          1,
          1,
          1,
          2,
          12,
          3,
          8,
          25,
          3,
          1,
          1,
          1,
          1,
          12,
          6,
          4,
          27,
          5,
          3,
          1,
          1,
          1,
          3,
          2,
          1,
          4,
          2,
          1,
          1,
          2,
          1,
          15,
          3,
          4,
          15,
          4,
          1,
          3,
          2,
          1,
          7,
          7,
          21,
          3,
          4,
          3,
          2,
          1,
          1,
          1,
          1,
          1,
          1,
          2,
          2,
          1,
          2,
          1,
          3,
          2,
          1,
          2,
          1,
          1,
          2,
          1,
          1,
          2,
          1,
          1,
          2,
          1,
          1,
          1,
          1,
          1,
          2,
          1,
          1,
          2,
          1,
          1,
          1,
          1,
          1,
          17,
          5,
          4,
          6,
          8,
          3,
          1,
          2,
          1,
          21,
          6,
          2,
          15,
          4,
          13,
          11,
          4,
          1,
          2,
          1,
          1,
          4,
          2,
          1,
          2,
          1,
          1,
          5,
          2,
          2,
          1,
          3,
          1,
          2,
          1,
          1,
          6,
          2,
          1,
          7,
          3,
          2,
          2,
          1,
          1,
          55,
          8,
          11,
          8,
          12,
          null,
          null,
          null,
          1,
          10,
          2,
          17,
          7,
          9,
          9,
          6,
          3,
          1,
          25,
          14,
          16,
          18,
          4,
          1,
          11,
          1,
          1,
          2,
          2,
          2,
          2,
          18,
          null,
          null,
          null,
          1,
          2,
          3,
          1,
          3,
          1,
          1,
          1,
          1,
          1,
          13,
          4,
          6,
          3,
          2,
          4,
          2,
          1,
          1,
          3,
          3,
          3,
          3,
          1,
          6,
          6,
          1,
          1,
          3,
          2,
          1,
          4,
          3,
          1,
          5,
          1,
          1,
          3,
          2,
          1,
          3,
          1,
          2,
          1,
          3,
          5,
          5,
          4,
          6,
          11,
          3,
          3,
          null,
          null,
          2,
          5,
          15,
          16,
          5,
          null,
          null,
          null,
          null,
          1,
          6,
          16,
          2,
          23,
          5,
          1,
          2,
          null,
          1,
          2,
          6,
          1,
          6,
          3,
          1,
          null,
          null,
          1,
          12,
          3,
          8,
          14,
          6,
          1,
          1,
          7,
          1,
          5,
          4,
          4,
          2,
          3,
          1,
          1,
          1,
          1,
          3,
          4,
          13,
          8,
          2,
          3,
          7,
          1,
          1,
          9,
          5,
          8,
          25,
          47,
          null,
          null,
          null,
          1,
          20,
          3,
          8,
          9,
          2,
          7,
          2,
          4,
          1,
          2,
          1,
          3,
          1,
          1,
          1,
          1,
          3,
          1,
          6,
          3,
          3,
          14,
          6,
          4,
          5,
          4,
          1,
          8,
          2,
          2,
          7,
          4,
          1,
          2,
          4,
          1,
          10,
          12,
          null,
          null,
          null,
          null,
          null,
          null,
          1,
          8,
          3,
          2,
          9,
          1,
          1,
          2,
          3,
          1,
          9,
          16,
          42,
          5,
          9,
          18,
          null,
          null,
          1,
          2,
          2,
          2,
          5,
          1,
          1,
          2,
          2,
          1,
          53,
          6,
          10,
          24,
          8,
          6,
          6,
          4,
          1,
          42,
          3,
          6,
          6,
          null,
          null,
          null,
          null,
          1,
          47,
          6,
          3,
          4,
          7,
          null,
          null,
          null,
          1,
          1,
          3,
          null,
          null,
          null,
          null,
          null,
          null,
          1,
          2,
          3,
          1,
          4,
          1,
          1,
          1,
          1,
          1,
          2,
          8,
          null,
          null,
          null,
          null,
          null,
          null,
          1,
          2,
          1,
          2,
          4,
          2,
          2,
          2,
          2,
          1,
          4,
          3,
          4,
          10,
          2,
          2,
          3,
          2,
          1,
          5,
          2,
          1,
          19,
          1,
          1,
          1,
          1,
          1,
          8,
          3,
          1,
          34,
          5,
          4,
          5,
          3,
          1,
          4,
          3,
          1,
          5,
          3,
          23,
          null,
          null,
          1,
          4,
          5,
          3,
          5,
          3,
          1,
          1,
          1,
          1,
          8,
          2,
          1,
          4,
          4,
          1,
          1,
          1,
          1,
          7,
          5,
          3,
          5,
          4,
          6,
          1,
          4,
          1,
          3,
          4,
          1,
          9,
          1,
          1,
          2,
          1,
          1,
          4,
          5,
          2,
          2,
          1,
          1,
          1,
          1,
          1,
          2,
          1,
          2,
          3,
          1,
          1,
          1,
          1,
          1,
          10,
          1,
          8,
          8,
          1,
          1,
          1,
          1,
          1,
          1,
          8,
          5,
          6,
          2,
          1,
          4,
          4,
          1,
          23,
          6,
          19,
          15,
          5,
          3,
          8,
          1,
          1,
          7,
          2,
          3,
          null,
          null,
          null,
          null,
          null,
          1,
          17,
          20,
          11,
          26,
          null,
          null,
          null,
          null,
          1,
          5,
          2,
          2,
          8,
          1,
          2,
          2,
          2,
          1,
          4,
          4,
          9,
          5,
          3,
          3,
          1,
          1,
          1,
          5,
          4,
          8,
          6,
          1,
          5,
          1,
          2,
          1,
          5,
          5,
          4,
          1,
          2,
          1,
          1,
          1,
          1,
          4,
          2,
          1,
          26,
          1,
          2,
          1,
          1,
          2,
          5,
          5,
          4,
          5,
          6,
          1,
          2,
          1,
          1,
          7,
          2,
          4,
          3,
          5,
          2,
          3,
          1,
          1,
          10,
          3,
          3,
          7,
          1,
          2,
          2,
          1,
          1,
          1,
          3,
          1,
          4,
          2,
          2,
          3,
          1,
          1,
          6,
          5,
          2,
          4,
          4,
          3,
          4,
          1,
          1,
          1,
          5,
          4,
          8,
          2,
          1,
          1,
          1,
          1,
          1,
          1,
          2,
          3,
          2,
          3,
          1,
          1,
          1,
          4,
          2,
          1,
          13,
          2,
          1,
          1,
          1,
          1,
          12,
          5,
          7,
          11,
          6,
          2,
          2,
          2,
          1,
          4,
          18,
          7,
          6,
          8,
          null,
          null,
          null,
          1,
          15,
          1,
          1,
          13,
          5,
          5,
          2,
          null,
          1,
          14,
          7,
          13,
          5,
          2,
          1,
          2,
          1,
          1,
          24,
          3,
          2,
          21,
          1,
          5,
          5,
          1,
          1,
          18,
          null,
          null,
          null,
          null,
          null,
          null,
          null,
          1,
          1,
          10,
          1,
          11,
          6,
          8,
          2,
          6,
          1,
          1,
          1,
          7,
          3,
          3,
          8,
          1,
          1,
          1,
          11,
          14,
          8,
          6,
          15,
          null,
          null,
          null,
          1,
          2,
          1,
          1,
          2,
          7,
          1,
          1,
          2,
          1,
          4,
          3,
          1,
          3,
          5,
          1,
          1,
          1,
          2,
          2,
          5,
          2,
          3,
          6,
          4,
          3,
          2,
          1,
          25,
          12,
          5,
          1,
          4,
          2,
          1,
          1,
          1,
          2,
          3,
          6,
          6,
          8,
          7,
          null,
          null,
          1,
          2,
          1,
          1,
          7,
          3,
          1,
          5,
          1,
          1,
          3,
          1,
          2,
          8,
          3,
          2,
          2,
          2,
          1,
          null,
          null,
          null,
          null,
          null,
          null,
          null,
          null,
          1,
          2,
          2,
          1,
          5,
          2,
          1,
          1,
          1,
          1,
          3,
          3,
          31,
          9,
          5,
          3,
          3,
          8,
          1,
          8,
          3,
          2,
          6,
          4,
          2,
          2,
          4,
          1,
          34,
          8,
          8,
          19,
          9,
          2,
          3,
          4,
          1,
          11,
          6,
          5,
          14,
          6,
          1,
          11,
          null,
          1,
          10,
          16,
          8,
          24,
          6,
          3,
          null,
          null,
          1,
          1,
          1,
          1,
          7,
          5,
          2,
          2,
          1,
          1,
          2,
          5,
          2,
          7,
          2,
          3,
          1,
          1,
          1,
          3,
          11,
          2,
          9,
          8,
          7,
          1,
          1,
          1,
          4,
          1,
          3,
          5,
          2,
          3,
          2,
          3,
          1,
          3,
          3,
          4,
          4,
          7,
          1,
          2,
          5,
          2,
          2,
          1,
          2,
          1,
          2,
          1,
          3,
          1,
          1,
          1,
          4,
          9,
          4,
          1,
          2,
          1,
          1,
          1,
          1,
          1,
          3,
          8,
          1,
          2,
          1,
          1,
          1,
          3,
          4,
          1,
          2,
          3,
          3,
          2,
          1,
          1,
          4,
          1,
          1,
          7,
          2,
          2,
          1,
          1,
          1,
          3,
          2,
          10,
          3,
          1,
          1,
          1,
          3,
          1,
          2,
          1,
          1,
          2,
          1,
          3,
          2,
          1,
          1,
          5,
          1,
          1,
          null,
          null,
          null,
          null,
          null,
          1,
          7,
          2,
          5,
          null,
          null,
          null,
          null,
          null,
          1,
          12,
          null,
          null,
          null,
          null,
          null,
          null,
          null
         ],
         "y0": " ",
         "yaxis": "y"
        }
       ],
       "layout": {
        "boxmode": "group",
        "legend": {
         "tracegroupgap": 0
        },
        "margin": {
         "t": 60
        },
        "template": {
         "data": {
          "bar": [
           {
            "error_x": {
             "color": "#2a3f5f"
            },
            "error_y": {
             "color": "#2a3f5f"
            },
            "marker": {
             "line": {
              "color": "#E5ECF6",
              "width": 0.5
             },
             "pattern": {
              "fillmode": "overlay",
              "size": 10,
              "solidity": 0.2
             }
            },
            "type": "bar"
           }
          ],
          "barpolar": [
           {
            "marker": {
             "line": {
              "color": "#E5ECF6",
              "width": 0.5
             },
             "pattern": {
              "fillmode": "overlay",
              "size": 10,
              "solidity": 0.2
             }
            },
            "type": "barpolar"
           }
          ],
          "carpet": [
           {
            "aaxis": {
             "endlinecolor": "#2a3f5f",
             "gridcolor": "white",
             "linecolor": "white",
             "minorgridcolor": "white",
             "startlinecolor": "#2a3f5f"
            },
            "baxis": {
             "endlinecolor": "#2a3f5f",
             "gridcolor": "white",
             "linecolor": "white",
             "minorgridcolor": "white",
             "startlinecolor": "#2a3f5f"
            },
            "type": "carpet"
           }
          ],
          "choropleth": [
           {
            "colorbar": {
             "outlinewidth": 0,
             "ticks": ""
            },
            "type": "choropleth"
           }
          ],
          "contour": [
           {
            "colorbar": {
             "outlinewidth": 0,
             "ticks": ""
            },
            "colorscale": [
             [
              0,
              "#0d0887"
             ],
             [
              0.1111111111111111,
              "#46039f"
             ],
             [
              0.2222222222222222,
              "#7201a8"
             ],
             [
              0.3333333333333333,
              "#9c179e"
             ],
             [
              0.4444444444444444,
              "#bd3786"
             ],
             [
              0.5555555555555556,
              "#d8576b"
             ],
             [
              0.6666666666666666,
              "#ed7953"
             ],
             [
              0.7777777777777778,
              "#fb9f3a"
             ],
             [
              0.8888888888888888,
              "#fdca26"
             ],
             [
              1,
              "#f0f921"
             ]
            ],
            "type": "contour"
           }
          ],
          "contourcarpet": [
           {
            "colorbar": {
             "outlinewidth": 0,
             "ticks": ""
            },
            "type": "contourcarpet"
           }
          ],
          "heatmap": [
           {
            "colorbar": {
             "outlinewidth": 0,
             "ticks": ""
            },
            "colorscale": [
             [
              0,
              "#0d0887"
             ],
             [
              0.1111111111111111,
              "#46039f"
             ],
             [
              0.2222222222222222,
              "#7201a8"
             ],
             [
              0.3333333333333333,
              "#9c179e"
             ],
             [
              0.4444444444444444,
              "#bd3786"
             ],
             [
              0.5555555555555556,
              "#d8576b"
             ],
             [
              0.6666666666666666,
              "#ed7953"
             ],
             [
              0.7777777777777778,
              "#fb9f3a"
             ],
             [
              0.8888888888888888,
              "#fdca26"
             ],
             [
              1,
              "#f0f921"
             ]
            ],
            "type": "heatmap"
           }
          ],
          "heatmapgl": [
           {
            "colorbar": {
             "outlinewidth": 0,
             "ticks": ""
            },
            "colorscale": [
             [
              0,
              "#0d0887"
             ],
             [
              0.1111111111111111,
              "#46039f"
             ],
             [
              0.2222222222222222,
              "#7201a8"
             ],
             [
              0.3333333333333333,
              "#9c179e"
             ],
             [
              0.4444444444444444,
              "#bd3786"
             ],
             [
              0.5555555555555556,
              "#d8576b"
             ],
             [
              0.6666666666666666,
              "#ed7953"
             ],
             [
              0.7777777777777778,
              "#fb9f3a"
             ],
             [
              0.8888888888888888,
              "#fdca26"
             ],
             [
              1,
              "#f0f921"
             ]
            ],
            "type": "heatmapgl"
           }
          ],
          "histogram": [
           {
            "marker": {
             "pattern": {
              "fillmode": "overlay",
              "size": 10,
              "solidity": 0.2
             }
            },
            "type": "histogram"
           }
          ],
          "histogram2d": [
           {
            "colorbar": {
             "outlinewidth": 0,
             "ticks": ""
            },
            "colorscale": [
             [
              0,
              "#0d0887"
             ],
             [
              0.1111111111111111,
              "#46039f"
             ],
             [
              0.2222222222222222,
              "#7201a8"
             ],
             [
              0.3333333333333333,
              "#9c179e"
             ],
             [
              0.4444444444444444,
              "#bd3786"
             ],
             [
              0.5555555555555556,
              "#d8576b"
             ],
             [
              0.6666666666666666,
              "#ed7953"
             ],
             [
              0.7777777777777778,
              "#fb9f3a"
             ],
             [
              0.8888888888888888,
              "#fdca26"
             ],
             [
              1,
              "#f0f921"
             ]
            ],
            "type": "histogram2d"
           }
          ],
          "histogram2dcontour": [
           {
            "colorbar": {
             "outlinewidth": 0,
             "ticks": ""
            },
            "colorscale": [
             [
              0,
              "#0d0887"
             ],
             [
              0.1111111111111111,
              "#46039f"
             ],
             [
              0.2222222222222222,
              "#7201a8"
             ],
             [
              0.3333333333333333,
              "#9c179e"
             ],
             [
              0.4444444444444444,
              "#bd3786"
             ],
             [
              0.5555555555555556,
              "#d8576b"
             ],
             [
              0.6666666666666666,
              "#ed7953"
             ],
             [
              0.7777777777777778,
              "#fb9f3a"
             ],
             [
              0.8888888888888888,
              "#fdca26"
             ],
             [
              1,
              "#f0f921"
             ]
            ],
            "type": "histogram2dcontour"
           }
          ],
          "mesh3d": [
           {
            "colorbar": {
             "outlinewidth": 0,
             "ticks": ""
            },
            "type": "mesh3d"
           }
          ],
          "parcoords": [
           {
            "line": {
             "colorbar": {
              "outlinewidth": 0,
              "ticks": ""
             }
            },
            "type": "parcoords"
           }
          ],
          "pie": [
           {
            "automargin": true,
            "type": "pie"
           }
          ],
          "scatter": [
           {
            "fillpattern": {
             "fillmode": "overlay",
             "size": 10,
             "solidity": 0.2
            },
            "type": "scatter"
           }
          ],
          "scatter3d": [
           {
            "line": {
             "colorbar": {
              "outlinewidth": 0,
              "ticks": ""
             }
            },
            "marker": {
             "colorbar": {
              "outlinewidth": 0,
              "ticks": ""
             }
            },
            "type": "scatter3d"
           }
          ],
          "scattercarpet": [
           {
            "marker": {
             "colorbar": {
              "outlinewidth": 0,
              "ticks": ""
             }
            },
            "type": "scattercarpet"
           }
          ],
          "scattergeo": [
           {
            "marker": {
             "colorbar": {
              "outlinewidth": 0,
              "ticks": ""
             }
            },
            "type": "scattergeo"
           }
          ],
          "scattergl": [
           {
            "marker": {
             "colorbar": {
              "outlinewidth": 0,
              "ticks": ""
             }
            },
            "type": "scattergl"
           }
          ],
          "scattermapbox": [
           {
            "marker": {
             "colorbar": {
              "outlinewidth": 0,
              "ticks": ""
             }
            },
            "type": "scattermapbox"
           }
          ],
          "scatterpolar": [
           {
            "marker": {
             "colorbar": {
              "outlinewidth": 0,
              "ticks": ""
             }
            },
            "type": "scatterpolar"
           }
          ],
          "scatterpolargl": [
           {
            "marker": {
             "colorbar": {
              "outlinewidth": 0,
              "ticks": ""
             }
            },
            "type": "scatterpolargl"
           }
          ],
          "scatterternary": [
           {
            "marker": {
             "colorbar": {
              "outlinewidth": 0,
              "ticks": ""
             }
            },
            "type": "scatterternary"
           }
          ],
          "surface": [
           {
            "colorbar": {
             "outlinewidth": 0,
             "ticks": ""
            },
            "colorscale": [
             [
              0,
              "#0d0887"
             ],
             [
              0.1111111111111111,
              "#46039f"
             ],
             [
              0.2222222222222222,
              "#7201a8"
             ],
             [
              0.3333333333333333,
              "#9c179e"
             ],
             [
              0.4444444444444444,
              "#bd3786"
             ],
             [
              0.5555555555555556,
              "#d8576b"
             ],
             [
              0.6666666666666666,
              "#ed7953"
             ],
             [
              0.7777777777777778,
              "#fb9f3a"
             ],
             [
              0.8888888888888888,
              "#fdca26"
             ],
             [
              1,
              "#f0f921"
             ]
            ],
            "type": "surface"
           }
          ],
          "table": [
           {
            "cells": {
             "fill": {
              "color": "#EBF0F8"
             },
             "line": {
              "color": "white"
             }
            },
            "header": {
             "fill": {
              "color": "#C8D4E3"
             },
             "line": {
              "color": "white"
             }
            },
            "type": "table"
           }
          ]
         },
         "layout": {
          "annotationdefaults": {
           "arrowcolor": "#2a3f5f",
           "arrowhead": 0,
           "arrowwidth": 1
          },
          "autotypenumbers": "strict",
          "coloraxis": {
           "colorbar": {
            "outlinewidth": 0,
            "ticks": ""
           }
          },
          "colorscale": {
           "diverging": [
            [
             0,
             "#8e0152"
            ],
            [
             0.1,
             "#c51b7d"
            ],
            [
             0.2,
             "#de77ae"
            ],
            [
             0.3,
             "#f1b6da"
            ],
            [
             0.4,
             "#fde0ef"
            ],
            [
             0.5,
             "#f7f7f7"
            ],
            [
             0.6,
             "#e6f5d0"
            ],
            [
             0.7,
             "#b8e186"
            ],
            [
             0.8,
             "#7fbc41"
            ],
            [
             0.9,
             "#4d9221"
            ],
            [
             1,
             "#276419"
            ]
           ],
           "sequential": [
            [
             0,
             "#0d0887"
            ],
            [
             0.1111111111111111,
             "#46039f"
            ],
            [
             0.2222222222222222,
             "#7201a8"
            ],
            [
             0.3333333333333333,
             "#9c179e"
            ],
            [
             0.4444444444444444,
             "#bd3786"
            ],
            [
             0.5555555555555556,
             "#d8576b"
            ],
            [
             0.6666666666666666,
             "#ed7953"
            ],
            [
             0.7777777777777778,
             "#fb9f3a"
            ],
            [
             0.8888888888888888,
             "#fdca26"
            ],
            [
             1,
             "#f0f921"
            ]
           ],
           "sequentialminus": [
            [
             0,
             "#0d0887"
            ],
            [
             0.1111111111111111,
             "#46039f"
            ],
            [
             0.2222222222222222,
             "#7201a8"
            ],
            [
             0.3333333333333333,
             "#9c179e"
            ],
            [
             0.4444444444444444,
             "#bd3786"
            ],
            [
             0.5555555555555556,
             "#d8576b"
            ],
            [
             0.6666666666666666,
             "#ed7953"
            ],
            [
             0.7777777777777778,
             "#fb9f3a"
            ],
            [
             0.8888888888888888,
             "#fdca26"
            ],
            [
             1,
             "#f0f921"
            ]
           ]
          },
          "colorway": [
           "#636efa",
           "#EF553B",
           "#00cc96",
           "#ab63fa",
           "#FFA15A",
           "#19d3f3",
           "#FF6692",
           "#B6E880",
           "#FF97FF",
           "#FECB52"
          ],
          "font": {
           "color": "#2a3f5f"
          },
          "geo": {
           "bgcolor": "white",
           "lakecolor": "white",
           "landcolor": "#E5ECF6",
           "showlakes": true,
           "showland": true,
           "subunitcolor": "white"
          },
          "hoverlabel": {
           "align": "left"
          },
          "hovermode": "closest",
          "mapbox": {
           "style": "light"
          },
          "paper_bgcolor": "white",
          "plot_bgcolor": "#E5ECF6",
          "polar": {
           "angularaxis": {
            "gridcolor": "white",
            "linecolor": "white",
            "ticks": ""
           },
           "bgcolor": "#E5ECF6",
           "radialaxis": {
            "gridcolor": "white",
            "linecolor": "white",
            "ticks": ""
           }
          },
          "scene": {
           "xaxis": {
            "backgroundcolor": "#E5ECF6",
            "gridcolor": "white",
            "gridwidth": 2,
            "linecolor": "white",
            "showbackground": true,
            "ticks": "",
            "zerolinecolor": "white"
           },
           "yaxis": {
            "backgroundcolor": "#E5ECF6",
            "gridcolor": "white",
            "gridwidth": 2,
            "linecolor": "white",
            "showbackground": true,
            "ticks": "",
            "zerolinecolor": "white"
           },
           "zaxis": {
            "backgroundcolor": "#E5ECF6",
            "gridcolor": "white",
            "gridwidth": 2,
            "linecolor": "white",
            "showbackground": true,
            "ticks": "",
            "zerolinecolor": "white"
           }
          },
          "shapedefaults": {
           "line": {
            "color": "#2a3f5f"
           }
          },
          "ternary": {
           "aaxis": {
            "gridcolor": "white",
            "linecolor": "white",
            "ticks": ""
           },
           "baxis": {
            "gridcolor": "white",
            "linecolor": "white",
            "ticks": ""
           },
           "bgcolor": "#E5ECF6",
           "caxis": {
            "gridcolor": "white",
            "linecolor": "white",
            "ticks": ""
           }
          },
          "title": {
           "x": 0.05
          },
          "xaxis": {
           "automargin": true,
           "gridcolor": "white",
           "linecolor": "white",
           "ticks": "",
           "title": {
            "standoff": 15
           },
           "zerolinecolor": "white",
           "zerolinewidth": 2
          },
          "yaxis": {
           "automargin": true,
           "gridcolor": "white",
           "linecolor": "white",
           "ticks": "",
           "title": {
            "standoff": 15
           },
           "zerolinecolor": "white",
           "zerolinewidth": 2
          }
         }
        },
        "xaxis": {
         "anchor": "y",
         "domain": [
          0,
          1
         ],
         "title": {
          "text": "index"
         }
        },
        "yaxis": {
         "anchor": "x",
         "domain": [
          0,
          1
         ],
         "title": {
          "text": "value"
         }
        }
       }
      }
     },
     "metadata": {},
     "output_type": "display_data"
    },
    {
     "data": {
      "application/vnd.plotly.v1+json": {
       "config": {
        "plotlyServerURL": "https://plot.ly"
       },
       "data": [
        {
         "alignmentgroup": "True",
         "customdata": [
          [
           "pbgky"
          ],
          [
           "pbgky"
          ],
          [
           "pbgky"
          ],
          [
           "pbgky"
          ],
          [
           "pbgky"
          ],
          [
           "pbgky"
          ],
          [
           "pbgky"
          ],
          [
           "pbgky"
          ],
          [
           "pbgky"
          ],
          [
           "auvqa"
          ],
          [
           "auvqa"
          ],
          [
           "auvqa"
          ],
          [
           "auvqa"
          ],
          [
           "auvqa"
          ],
          [
           "auvqa"
          ],
          [
           "auvqa"
          ],
          [
           "auvqa"
          ],
          [
           "auvqa"
          ],
          [
           "qeqyj"
          ],
          [
           "qeqyj"
          ],
          [
           "qeqyj"
          ],
          [
           "qeqyj"
          ],
          [
           "qeqyj"
          ],
          [
           "qeqyj"
          ],
          [
           "qeqyj"
          ],
          [
           "qeqyj"
          ],
          [
           "qeqyj"
          ],
          [
           "fkmtp"
          ],
          [
           "fkmtp"
          ],
          [
           "fkmtp"
          ],
          [
           "fkmtp"
          ],
          [
           "fkmtp"
          ],
          [
           "fkmtp"
          ],
          [
           "fkmtp"
          ],
          [
           "fkmtp"
          ],
          [
           "fkmtp"
          ],
          [
           "bdwyj"
          ],
          [
           "bdwyj"
          ],
          [
           "bdwyj"
          ],
          [
           "bdwyj"
          ],
          [
           "bdwyj"
          ],
          [
           "bdwyj"
          ],
          [
           "bdwyj"
          ],
          [
           "bdwyj"
          ],
          [
           "bdwyj"
          ],
          [
           "eprdu"
          ],
          [
           "eprdu"
          ],
          [
           "eprdu"
          ],
          [
           "eprdu"
          ],
          [
           "eprdu"
          ],
          [
           "eprdu"
          ],
          [
           "eprdu"
          ],
          [
           "eprdu"
          ],
          [
           "eprdu"
          ],
          [
           "hjpbw"
          ],
          [
           "hjpbw"
          ],
          [
           "hjpbw"
          ],
          [
           "hjpbw"
          ],
          [
           "hjpbw"
          ],
          [
           "hjpbw"
          ],
          [
           "hjpbw"
          ],
          [
           "hjpbw"
          ],
          [
           "hjpbw"
          ],
          [
           "ftpnb"
          ],
          [
           "ftpnb"
          ],
          [
           "ftpnb"
          ],
          [
           "ftpnb"
          ],
          [
           "ftpnb"
          ],
          [
           "ftpnb"
          ],
          [
           "ftpnb"
          ],
          [
           "ftpnb"
          ],
          [
           "ftpnb"
          ],
          [
           "gleqe"
          ],
          [
           "gleqe"
          ],
          [
           "gleqe"
          ],
          [
           "gleqe"
          ],
          [
           "gleqe"
          ],
          [
           "gleqe"
          ],
          [
           "gleqe"
          ],
          [
           "gleqe"
          ],
          [
           "gleqe"
          ],
          [
           "ikcar"
          ],
          [
           "ikcar"
          ],
          [
           "ikcar"
          ],
          [
           "ikcar"
          ],
          [
           "ikcar"
          ],
          [
           "ikcar"
          ],
          [
           "ikcar"
          ],
          [
           "ikcar"
          ],
          [
           "ikcar"
          ],
          [
           "loemd"
          ],
          [
           "loemd"
          ],
          [
           "loemd"
          ],
          [
           "loemd"
          ],
          [
           "loemd"
          ],
          [
           "loemd"
          ],
          [
           "loemd"
          ],
          [
           "loemd"
          ],
          [
           "loemd"
          ],
          [
           "gcpze"
          ],
          [
           "gcpze"
          ],
          [
           "gcpze"
          ],
          [
           "gcpze"
          ],
          [
           "gcpze"
          ],
          [
           "gcpze"
          ],
          [
           "gcpze"
          ],
          [
           "gcpze"
          ],
          [
           "gcpze"
          ],
          [
           "khadt"
          ],
          [
           "khadt"
          ],
          [
           "khadt"
          ],
          [
           "khadt"
          ],
          [
           "khadt"
          ],
          [
           "khadt"
          ],
          [
           "khadt"
          ],
          [
           "khadt"
          ],
          [
           "khadt"
          ],
          [
           "zxvkj"
          ],
          [
           "zxvkj"
          ],
          [
           "zxvkj"
          ],
          [
           "zxvkj"
          ],
          [
           "zxvkj"
          ],
          [
           "zxvkj"
          ],
          [
           "zxvkj"
          ],
          [
           "zxvkj"
          ],
          [
           "zxvkj"
          ],
          [
           "srjon"
          ],
          [
           "srjon"
          ],
          [
           "srjon"
          ],
          [
           "srjon"
          ],
          [
           "srjon"
          ],
          [
           "srjon"
          ],
          [
           "srjon"
          ],
          [
           "srjon"
          ],
          [
           "srjon"
          ],
          [
           "uzzpo"
          ],
          [
           "uzzpo"
          ],
          [
           "uzzpo"
          ],
          [
           "uzzpo"
          ],
          [
           "uzzpo"
          ],
          [
           "uzzpo"
          ],
          [
           "uzzpo"
          ],
          [
           "uzzpo"
          ],
          [
           "uzzpo"
          ],
          [
           "vsxld"
          ],
          [
           "vsxld"
          ],
          [
           "vsxld"
          ],
          [
           "vsxld"
          ],
          [
           "vsxld"
          ],
          [
           "vsxld"
          ],
          [
           "vsxld"
          ],
          [
           "vsxld"
          ],
          [
           "vsxld"
          ],
          [
           "sxipu"
          ],
          [
           "sxipu"
          ],
          [
           "sxipu"
          ],
          [
           "sxipu"
          ],
          [
           "sxipu"
          ],
          [
           "sxipu"
          ],
          [
           "sxipu"
          ],
          [
           "sxipu"
          ],
          [
           "sxipu"
          ],
          [
           "kmqou"
          ],
          [
           "kmqou"
          ],
          [
           "kmqou"
          ],
          [
           "kmqou"
          ],
          [
           "kmqou"
          ],
          [
           "kmqou"
          ],
          [
           "kmqou"
          ],
          [
           "kmqou"
          ],
          [
           "kmqou"
          ],
          [
           "ejeuw"
          ],
          [
           "ejeuw"
          ],
          [
           "ejeuw"
          ],
          [
           "ejeuw"
          ],
          [
           "ejeuw"
          ],
          [
           "ejeuw"
          ],
          [
           "ejeuw"
          ],
          [
           "ejeuw"
          ],
          [
           "ejeuw"
          ],
          [
           "xnpqf"
          ],
          [
           "xnpqf"
          ],
          [
           "xnpqf"
          ],
          [
           "xnpqf"
          ],
          [
           "xnpqf"
          ],
          [
           "xnpqf"
          ],
          [
           "xnpqf"
          ],
          [
           "xnpqf"
          ],
          [
           "xnpqf"
          ],
          [
           "ipdcp"
          ],
          [
           "ipdcp"
          ],
          [
           "ipdcp"
          ],
          [
           "ipdcp"
          ],
          [
           "ipdcp"
          ],
          [
           "ipdcp"
          ],
          [
           "ipdcp"
          ],
          [
           "ipdcp"
          ],
          [
           "ipdcp"
          ],
          [
           "zwzfv"
          ],
          [
           "zwzfv"
          ],
          [
           "zwzfv"
          ],
          [
           "zwzfv"
          ],
          [
           "zwzfv"
          ],
          [
           "zwzfv"
          ],
          [
           "zwzfv"
          ],
          [
           "zwzfv"
          ],
          [
           "zwzfv"
          ],
          [
           "krahz"
          ],
          [
           "krahz"
          ],
          [
           "krahz"
          ],
          [
           "krahz"
          ],
          [
           "krahz"
          ],
          [
           "krahz"
          ],
          [
           "krahz"
          ],
          [
           "krahz"
          ],
          [
           "krahz"
          ],
          [
           "grkij"
          ],
          [
           "grkij"
          ],
          [
           "grkij"
          ],
          [
           "grkij"
          ],
          [
           "grkij"
          ],
          [
           "grkij"
          ],
          [
           "grkij"
          ],
          [
           "grkij"
          ],
          [
           "grkij"
          ],
          [
           "zcibf"
          ],
          [
           "zcibf"
          ],
          [
           "zcibf"
          ],
          [
           "zcibf"
          ],
          [
           "zcibf"
          ],
          [
           "zcibf"
          ],
          [
           "zcibf"
          ],
          [
           "zcibf"
          ],
          [
           "zcibf"
          ],
          [
           "rdiaf"
          ],
          [
           "rdiaf"
          ],
          [
           "rdiaf"
          ],
          [
           "rdiaf"
          ],
          [
           "rdiaf"
          ],
          [
           "rdiaf"
          ],
          [
           "rdiaf"
          ],
          [
           "rdiaf"
          ],
          [
           "rdiaf"
          ],
          [
           "yvpmf"
          ],
          [
           "yvpmf"
          ],
          [
           "yvpmf"
          ],
          [
           "yvpmf"
          ],
          [
           "yvpmf"
          ],
          [
           "yvpmf"
          ],
          [
           "yvpmf"
          ],
          [
           "yvpmf"
          ],
          [
           "yvpmf"
          ],
          [
           "pygoc"
          ],
          [
           "pygoc"
          ],
          [
           "pygoc"
          ],
          [
           "pygoc"
          ],
          [
           "pygoc"
          ],
          [
           "pygoc"
          ],
          [
           "pygoc"
          ],
          [
           "pygoc"
          ],
          [
           "pygoc"
          ],
          [
           "ubmtx"
          ],
          [
           "ubmtx"
          ],
          [
           "ubmtx"
          ],
          [
           "ubmtx"
          ],
          [
           "ubmtx"
          ],
          [
           "ubmtx"
          ],
          [
           "ubmtx"
          ],
          [
           "ubmtx"
          ],
          [
           "ubmtx"
          ],
          [
           "edxmq"
          ],
          [
           "edxmq"
          ],
          [
           "edxmq"
          ],
          [
           "edxmq"
          ],
          [
           "edxmq"
          ],
          [
           "edxmq"
          ],
          [
           "edxmq"
          ],
          [
           "edxmq"
          ],
          [
           "edxmq"
          ],
          [
           "asopk"
          ],
          [
           "asopk"
          ],
          [
           "asopk"
          ],
          [
           "asopk"
          ],
          [
           "asopk"
          ],
          [
           "asopk"
          ],
          [
           "asopk"
          ],
          [
           "asopk"
          ],
          [
           "asopk"
          ],
          [
           "onyep"
          ],
          [
           "onyep"
          ],
          [
           "onyep"
          ],
          [
           "onyep"
          ],
          [
           "onyep"
          ],
          [
           "onyep"
          ],
          [
           "onyep"
          ],
          [
           "onyep"
          ],
          [
           "onyep"
          ],
          [
           "swvxx"
          ],
          [
           "swvxx"
          ],
          [
           "swvxx"
          ],
          [
           "swvxx"
          ],
          [
           "swvxx"
          ],
          [
           "swvxx"
          ],
          [
           "swvxx"
          ],
          [
           "swvxx"
          ],
          [
           "swvxx"
          ],
          [
           "kkoif"
          ],
          [
           "kkoif"
          ],
          [
           "kkoif"
          ],
          [
           "kkoif"
          ],
          [
           "kkoif"
          ],
          [
           "kkoif"
          ],
          [
           "kkoif"
          ],
          [
           "kkoif"
          ],
          [
           "kkoif"
          ],
          [
           "oahey"
          ],
          [
           "oahey"
          ],
          [
           "oahey"
          ],
          [
           "oahey"
          ],
          [
           "oahey"
          ],
          [
           "oahey"
          ],
          [
           "oahey"
          ],
          [
           "oahey"
          ],
          [
           "oahey"
          ],
          [
           "cmbfi"
          ],
          [
           "cmbfi"
          ],
          [
           "cmbfi"
          ],
          [
           "cmbfi"
          ],
          [
           "cmbfi"
          ],
          [
           "cmbfi"
          ],
          [
           "cmbfi"
          ],
          [
           "cmbfi"
          ],
          [
           "cmbfi"
          ],
          [
           "bhyhw"
          ],
          [
           "bhyhw"
          ],
          [
           "bhyhw"
          ],
          [
           "bhyhw"
          ],
          [
           "bhyhw"
          ],
          [
           "bhyhw"
          ],
          [
           "bhyhw"
          ],
          [
           "bhyhw"
          ],
          [
           "bhyhw"
          ],
          [
           "accul"
          ],
          [
           "accul"
          ],
          [
           "accul"
          ],
          [
           "accul"
          ],
          [
           "accul"
          ],
          [
           "accul"
          ],
          [
           "accul"
          ],
          [
           "accul"
          ],
          [
           "accul"
          ],
          [
           "tekwp"
          ],
          [
           "tekwp"
          ],
          [
           "tekwp"
          ],
          [
           "tekwp"
          ],
          [
           "tekwp"
          ],
          [
           "tekwp"
          ],
          [
           "tekwp"
          ],
          [
           "tekwp"
          ],
          [
           "tekwp"
          ],
          [
           "dunul"
          ],
          [
           "dunul"
          ],
          [
           "dunul"
          ],
          [
           "dunul"
          ],
          [
           "dunul"
          ],
          [
           "dunul"
          ],
          [
           "dunul"
          ],
          [
           "dunul"
          ],
          [
           "dunul"
          ],
          [
           "dwqwi"
          ],
          [
           "dwqwi"
          ],
          [
           "dwqwi"
          ],
          [
           "dwqwi"
          ],
          [
           "dwqwi"
          ],
          [
           "dwqwi"
          ],
          [
           "dwqwi"
          ],
          [
           "dwqwi"
          ],
          [
           "dwqwi"
          ],
          [
           "yfohf"
          ],
          [
           "yfohf"
          ],
          [
           "yfohf"
          ],
          [
           "yfohf"
          ],
          [
           "yfohf"
          ],
          [
           "yfohf"
          ],
          [
           "yfohf"
          ],
          [
           "yfohf"
          ],
          [
           "yfohf"
          ],
          [
           "tjfzy"
          ],
          [
           "tjfzy"
          ],
          [
           "tjfzy"
          ],
          [
           "tjfzy"
          ],
          [
           "tjfzy"
          ],
          [
           "tjfzy"
          ],
          [
           "tjfzy"
          ],
          [
           "tjfzy"
          ],
          [
           "tjfzy"
          ],
          [
           "sjpkc"
          ],
          [
           "sjpkc"
          ],
          [
           "sjpkc"
          ],
          [
           "sjpkc"
          ],
          [
           "sjpkc"
          ],
          [
           "sjpkc"
          ],
          [
           "sjpkc"
          ],
          [
           "sjpkc"
          ],
          [
           "sjpkc"
          ],
          [
           "stiry"
          ],
          [
           "stiry"
          ],
          [
           "stiry"
          ],
          [
           "stiry"
          ],
          [
           "stiry"
          ],
          [
           "stiry"
          ],
          [
           "stiry"
          ],
          [
           "stiry"
          ],
          [
           "stiry"
          ],
          [
           "ewqbs"
          ],
          [
           "ewqbs"
          ],
          [
           "ewqbs"
          ],
          [
           "ewqbs"
          ],
          [
           "ewqbs"
          ],
          [
           "ewqbs"
          ],
          [
           "ewqbs"
          ],
          [
           "ewqbs"
          ],
          [
           "ewqbs"
          ],
          [
           "lwryl"
          ],
          [
           "lwryl"
          ],
          [
           "lwryl"
          ],
          [
           "lwryl"
          ],
          [
           "lwryl"
          ],
          [
           "lwryl"
          ],
          [
           "lwryl"
          ],
          [
           "lwryl"
          ],
          [
           "lwryl"
          ],
          [
           "fivin"
          ],
          [
           "fivin"
          ],
          [
           "fivin"
          ],
          [
           "fivin"
          ],
          [
           "fivin"
          ],
          [
           "fivin"
          ],
          [
           "fivin"
          ],
          [
           "fivin"
          ],
          [
           "fivin"
          ],
          [
           "psido"
          ],
          [
           "psido"
          ],
          [
           "psido"
          ],
          [
           "psido"
          ],
          [
           "psido"
          ],
          [
           "psido"
          ],
          [
           "psido"
          ],
          [
           "psido"
          ],
          [
           "psido"
          ],
          [
           "gdljy"
          ],
          [
           "gdljy"
          ],
          [
           "gdljy"
          ],
          [
           "gdljy"
          ],
          [
           "gdljy"
          ],
          [
           "gdljy"
          ],
          [
           "gdljy"
          ],
          [
           "gdljy"
          ],
          [
           "gdljy"
          ],
          [
           "wjaxi"
          ],
          [
           "wjaxi"
          ],
          [
           "wjaxi"
          ],
          [
           "wjaxi"
          ],
          [
           "wjaxi"
          ],
          [
           "wjaxi"
          ],
          [
           "wjaxi"
          ],
          [
           "wjaxi"
          ],
          [
           "wjaxi"
          ],
          [
           "ucdvy"
          ],
          [
           "ucdvy"
          ],
          [
           "ucdvy"
          ],
          [
           "ucdvy"
          ],
          [
           "ucdvy"
          ],
          [
           "ucdvy"
          ],
          [
           "ucdvy"
          ],
          [
           "ucdvy"
          ],
          [
           "ucdvy"
          ],
          [
           "yxewz"
          ],
          [
           "yxewz"
          ],
          [
           "yxewz"
          ],
          [
           "yxewz"
          ],
          [
           "yxewz"
          ],
          [
           "yxewz"
          ],
          [
           "yxewz"
          ],
          [
           "yxewz"
          ],
          [
           "yxewz"
          ],
          [
           "mjiso"
          ],
          [
           "mjiso"
          ],
          [
           "mjiso"
          ],
          [
           "mjiso"
          ],
          [
           "mjiso"
          ],
          [
           "mjiso"
          ],
          [
           "mjiso"
          ],
          [
           "mjiso"
          ],
          [
           "mjiso"
          ],
          [
           "gguuc"
          ],
          [
           "gguuc"
          ],
          [
           "gguuc"
          ],
          [
           "gguuc"
          ],
          [
           "gguuc"
          ],
          [
           "gguuc"
          ],
          [
           "gguuc"
          ],
          [
           "gguuc"
          ],
          [
           "gguuc"
          ],
          [
           "kkliq"
          ],
          [
           "kkliq"
          ],
          [
           "kkliq"
          ],
          [
           "kkliq"
          ],
          [
           "kkliq"
          ],
          [
           "kkliq"
          ],
          [
           "kkliq"
          ],
          [
           "kkliq"
          ],
          [
           "kkliq"
          ],
          [
           "hpdxj"
          ],
          [
           "hpdxj"
          ],
          [
           "hpdxj"
          ],
          [
           "hpdxj"
          ],
          [
           "hpdxj"
          ],
          [
           "hpdxj"
          ],
          [
           "hpdxj"
          ],
          [
           "hpdxj"
          ],
          [
           "hpdxj"
          ],
          [
           "hqmhq"
          ],
          [
           "hqmhq"
          ],
          [
           "hqmhq"
          ],
          [
           "hqmhq"
          ],
          [
           "hqmhq"
          ],
          [
           "hqmhq"
          ],
          [
           "hqmhq"
          ],
          [
           "hqmhq"
          ],
          [
           "hqmhq"
          ],
          [
           "rziia"
          ],
          [
           "rziia"
          ],
          [
           "rziia"
          ],
          [
           "rziia"
          ],
          [
           "rziia"
          ],
          [
           "rziia"
          ],
          [
           "rziia"
          ],
          [
           "rziia"
          ],
          [
           "rziia"
          ],
          [
           "qfsdj"
          ],
          [
           "qfsdj"
          ],
          [
           "qfsdj"
          ],
          [
           "qfsdj"
          ],
          [
           "qfsdj"
          ],
          [
           "qfsdj"
          ],
          [
           "qfsdj"
          ],
          [
           "qfsdj"
          ],
          [
           "qfsdj"
          ],
          [
           "yazod"
          ],
          [
           "yazod"
          ],
          [
           "yazod"
          ],
          [
           "yazod"
          ],
          [
           "yazod"
          ],
          [
           "yazod"
          ],
          [
           "yazod"
          ],
          [
           "yazod"
          ],
          [
           "yazod"
          ],
          [
           "atlzs"
          ],
          [
           "atlzs"
          ],
          [
           "atlzs"
          ],
          [
           "atlzs"
          ],
          [
           "atlzs"
          ],
          [
           "atlzs"
          ],
          [
           "atlzs"
          ],
          [
           "atlzs"
          ],
          [
           "atlzs"
          ],
          [
           "ngavz"
          ],
          [
           "ngavz"
          ],
          [
           "ngavz"
          ],
          [
           "ngavz"
          ],
          [
           "ngavz"
          ],
          [
           "ngavz"
          ],
          [
           "ngavz"
          ],
          [
           "ngavz"
          ],
          [
           "ngavz"
          ],
          [
           "tqgyp"
          ],
          [
           "tqgyp"
          ],
          [
           "tqgyp"
          ],
          [
           "tqgyp"
          ],
          [
           "tqgyp"
          ],
          [
           "tqgyp"
          ],
          [
           "tqgyp"
          ],
          [
           "tqgyp"
          ],
          [
           "tqgyp"
          ],
          [
           "aotlm"
          ],
          [
           "aotlm"
          ],
          [
           "aotlm"
          ],
          [
           "aotlm"
          ],
          [
           "aotlm"
          ],
          [
           "aotlm"
          ],
          [
           "aotlm"
          ],
          [
           "aotlm"
          ],
          [
           "aotlm"
          ],
          [
           "vvqlm"
          ],
          [
           "vvqlm"
          ],
          [
           "vvqlm"
          ],
          [
           "vvqlm"
          ],
          [
           "vvqlm"
          ],
          [
           "vvqlm"
          ],
          [
           "vvqlm"
          ],
          [
           "vvqlm"
          ],
          [
           "vvqlm"
          ],
          [
           "lhrbj"
          ],
          [
           "lhrbj"
          ],
          [
           "lhrbj"
          ],
          [
           "lhrbj"
          ],
          [
           "lhrbj"
          ],
          [
           "lhrbj"
          ],
          [
           "lhrbj"
          ],
          [
           "lhrbj"
          ],
          [
           "lhrbj"
          ],
          [
           "zdnso"
          ],
          [
           "zdnso"
          ],
          [
           "zdnso"
          ],
          [
           "zdnso"
          ],
          [
           "zdnso"
          ],
          [
           "zdnso"
          ],
          [
           "zdnso"
          ],
          [
           "zdnso"
          ],
          [
           "zdnso"
          ],
          [
           "mgaak"
          ],
          [
           "mgaak"
          ],
          [
           "mgaak"
          ],
          [
           "mgaak"
          ],
          [
           "mgaak"
          ],
          [
           "mgaak"
          ],
          [
           "mgaak"
          ],
          [
           "mgaak"
          ],
          [
           "mgaak"
          ],
          [
           "tavin"
          ],
          [
           "tavin"
          ],
          [
           "tavin"
          ],
          [
           "tavin"
          ],
          [
           "tavin"
          ],
          [
           "tavin"
          ],
          [
           "tavin"
          ],
          [
           "tavin"
          ],
          [
           "tavin"
          ],
          [
           "huyyb"
          ],
          [
           "huyyb"
          ],
          [
           "huyyb"
          ],
          [
           "huyyb"
          ],
          [
           "huyyb"
          ],
          [
           "huyyb"
          ],
          [
           "huyyb"
          ],
          [
           "huyyb"
          ],
          [
           "huyyb"
          ],
          [
           "wqmgq"
          ],
          [
           "wqmgq"
          ],
          [
           "wqmgq"
          ],
          [
           "wqmgq"
          ],
          [
           "wqmgq"
          ],
          [
           "wqmgq"
          ],
          [
           "wqmgq"
          ],
          [
           "wqmgq"
          ],
          [
           "wqmgq"
          ],
          [
           "tvxow"
          ],
          [
           "tvxow"
          ],
          [
           "tvxow"
          ],
          [
           "tvxow"
          ],
          [
           "tvxow"
          ],
          [
           "tvxow"
          ],
          [
           "tvxow"
          ],
          [
           "tvxow"
          ],
          [
           "tvxow"
          ],
          [
           "jhbuv"
          ],
          [
           "jhbuv"
          ],
          [
           "jhbuv"
          ],
          [
           "jhbuv"
          ],
          [
           "jhbuv"
          ],
          [
           "jhbuv"
          ],
          [
           "jhbuv"
          ],
          [
           "jhbuv"
          ],
          [
           "jhbuv"
          ],
          [
           "jozyx"
          ],
          [
           "jozyx"
          ],
          [
           "jozyx"
          ],
          [
           "jozyx"
          ],
          [
           "jozyx"
          ],
          [
           "jozyx"
          ],
          [
           "jozyx"
          ],
          [
           "jozyx"
          ],
          [
           "jozyx"
          ],
          [
           "xtdrq"
          ],
          [
           "xtdrq"
          ],
          [
           "xtdrq"
          ],
          [
           "xtdrq"
          ],
          [
           "xtdrq"
          ],
          [
           "xtdrq"
          ],
          [
           "xtdrq"
          ],
          [
           "xtdrq"
          ],
          [
           "xtdrq"
          ],
          [
           "ptmkr"
          ],
          [
           "ptmkr"
          ],
          [
           "ptmkr"
          ],
          [
           "ptmkr"
          ],
          [
           "ptmkr"
          ],
          [
           "ptmkr"
          ],
          [
           "ptmkr"
          ],
          [
           "ptmkr"
          ],
          [
           "ptmkr"
          ],
          [
           "pbwkf"
          ],
          [
           "pbwkf"
          ],
          [
           "pbwkf"
          ],
          [
           "pbwkf"
          ],
          [
           "pbwkf"
          ],
          [
           "pbwkf"
          ],
          [
           "pbwkf"
          ],
          [
           "pbwkf"
          ],
          [
           "pbwkf"
          ],
          [
           "thaho"
          ],
          [
           "thaho"
          ],
          [
           "thaho"
          ],
          [
           "thaho"
          ],
          [
           "thaho"
          ],
          [
           "thaho"
          ],
          [
           "thaho"
          ],
          [
           "thaho"
          ],
          [
           "thaho"
          ],
          [
           "pzfdd"
          ],
          [
           "pzfdd"
          ],
          [
           "pzfdd"
          ],
          [
           "pzfdd"
          ],
          [
           "pzfdd"
          ],
          [
           "pzfdd"
          ],
          [
           "pzfdd"
          ],
          [
           "pzfdd"
          ],
          [
           "pzfdd"
          ],
          [
           "icllt"
          ],
          [
           "icllt"
          ],
          [
           "icllt"
          ],
          [
           "icllt"
          ],
          [
           "icllt"
          ],
          [
           "icllt"
          ],
          [
           "icllt"
          ],
          [
           "icllt"
          ],
          [
           "icllt"
          ],
          [
           "mewpz"
          ],
          [
           "mewpz"
          ],
          [
           "mewpz"
          ],
          [
           "mewpz"
          ],
          [
           "mewpz"
          ],
          [
           "mewpz"
          ],
          [
           "mewpz"
          ],
          [
           "mewpz"
          ],
          [
           "mewpz"
          ],
          [
           "qwnpf"
          ],
          [
           "qwnpf"
          ],
          [
           "qwnpf"
          ],
          [
           "qwnpf"
          ],
          [
           "qwnpf"
          ],
          [
           "qwnpf"
          ],
          [
           "qwnpf"
          ],
          [
           "qwnpf"
          ],
          [
           "qwnpf"
          ],
          [
           "buvgs"
          ],
          [
           "buvgs"
          ],
          [
           "buvgs"
          ],
          [
           "buvgs"
          ],
          [
           "buvgs"
          ],
          [
           "buvgs"
          ],
          [
           "buvgs"
          ],
          [
           "buvgs"
          ],
          [
           "buvgs"
          ],
          [
           "fmtrq"
          ],
          [
           "fmtrq"
          ],
          [
           "fmtrq"
          ],
          [
           "fmtrq"
          ],
          [
           "fmtrq"
          ],
          [
           "fmtrq"
          ],
          [
           "fmtrq"
          ],
          [
           "fmtrq"
          ],
          [
           "fmtrq"
          ],
          [
           "nhbnj"
          ],
          [
           "nhbnj"
          ],
          [
           "nhbnj"
          ],
          [
           "nhbnj"
          ],
          [
           "nhbnj"
          ],
          [
           "nhbnj"
          ],
          [
           "nhbnj"
          ],
          [
           "nhbnj"
          ],
          [
           "nhbnj"
          ],
          [
           "khfha"
          ],
          [
           "khfha"
          ],
          [
           "khfha"
          ],
          [
           "khfha"
          ],
          [
           "khfha"
          ],
          [
           "khfha"
          ],
          [
           "khfha"
          ],
          [
           "khfha"
          ],
          [
           "khfha"
          ],
          [
           "itkas"
          ],
          [
           "itkas"
          ],
          [
           "itkas"
          ],
          [
           "itkas"
          ],
          [
           "itkas"
          ],
          [
           "itkas"
          ],
          [
           "itkas"
          ],
          [
           "itkas"
          ],
          [
           "itkas"
          ],
          [
           "yyvas"
          ],
          [
           "yyvas"
          ],
          [
           "yyvas"
          ],
          [
           "yyvas"
          ],
          [
           "yyvas"
          ],
          [
           "yyvas"
          ],
          [
           "yyvas"
          ],
          [
           "yyvas"
          ],
          [
           "yyvas"
          ],
          [
           "uniee"
          ],
          [
           "uniee"
          ],
          [
           "uniee"
          ],
          [
           "uniee"
          ],
          [
           "uniee"
          ],
          [
           "uniee"
          ],
          [
           "uniee"
          ],
          [
           "uniee"
          ],
          [
           "uniee"
          ],
          [
           "kzles"
          ],
          [
           "kzles"
          ],
          [
           "kzles"
          ],
          [
           "kzles"
          ],
          [
           "kzles"
          ],
          [
           "kzles"
          ],
          [
           "kzles"
          ],
          [
           "kzles"
          ],
          [
           "kzles"
          ],
          [
           "rkmrw"
          ],
          [
           "rkmrw"
          ],
          [
           "rkmrw"
          ],
          [
           "rkmrw"
          ],
          [
           "rkmrw"
          ],
          [
           "rkmrw"
          ],
          [
           "rkmrw"
          ],
          [
           "rkmrw"
          ],
          [
           "rkmrw"
          ],
          [
           "hcbyl"
          ],
          [
           "hcbyl"
          ],
          [
           "hcbyl"
          ],
          [
           "hcbyl"
          ],
          [
           "hcbyl"
          ],
          [
           "hcbyl"
          ],
          [
           "hcbyl"
          ],
          [
           "hcbyl"
          ],
          [
           "hcbyl"
          ],
          [
           "nuasx"
          ],
          [
           "nuasx"
          ],
          [
           "nuasx"
          ],
          [
           "nuasx"
          ],
          [
           "nuasx"
          ],
          [
           "nuasx"
          ],
          [
           "nuasx"
          ],
          [
           "nuasx"
          ],
          [
           "nuasx"
          ],
          [
           "ixrux"
          ],
          [
           "ixrux"
          ],
          [
           "ixrux"
          ],
          [
           "ixrux"
          ],
          [
           "ixrux"
          ],
          [
           "ixrux"
          ],
          [
           "ixrux"
          ],
          [
           "ixrux"
          ],
          [
           "ixrux"
          ],
          [
           "qgcgc"
          ],
          [
           "qgcgc"
          ],
          [
           "qgcgc"
          ],
          [
           "qgcgc"
          ],
          [
           "qgcgc"
          ],
          [
           "qgcgc"
          ],
          [
           "qgcgc"
          ],
          [
           "qgcgc"
          ],
          [
           "qgcgc"
          ],
          [
           "pqwaf"
          ],
          [
           "pqwaf"
          ],
          [
           "pqwaf"
          ],
          [
           "pqwaf"
          ],
          [
           "pqwaf"
          ],
          [
           "pqwaf"
          ],
          [
           "pqwaf"
          ],
          [
           "pqwaf"
          ],
          [
           "pqwaf"
          ],
          [
           "lohyo"
          ],
          [
           "lohyo"
          ],
          [
           "lohyo"
          ],
          [
           "lohyo"
          ],
          [
           "lohyo"
          ],
          [
           "lohyo"
          ],
          [
           "lohyo"
          ],
          [
           "lohyo"
          ],
          [
           "lohyo"
          ],
          [
           "cojqb"
          ],
          [
           "cojqb"
          ],
          [
           "cojqb"
          ],
          [
           "cojqb"
          ],
          [
           "cojqb"
          ],
          [
           "cojqb"
          ],
          [
           "cojqb"
          ],
          [
           "cojqb"
          ],
          [
           "cojqb"
          ],
          [
           "tflzv"
          ],
          [
           "tflzv"
          ],
          [
           "tflzv"
          ],
          [
           "tflzv"
          ],
          [
           "tflzv"
          ],
          [
           "tflzv"
          ],
          [
           "tflzv"
          ],
          [
           "tflzv"
          ],
          [
           "tflzv"
          ],
          [
           "sybwc"
          ],
          [
           "sybwc"
          ],
          [
           "sybwc"
          ],
          [
           "sybwc"
          ],
          [
           "sybwc"
          ],
          [
           "sybwc"
          ],
          [
           "sybwc"
          ],
          [
           "sybwc"
          ],
          [
           "sybwc"
          ],
          [
           "blvkx"
          ],
          [
           "blvkx"
          ],
          [
           "blvkx"
          ],
          [
           "blvkx"
          ],
          [
           "blvkx"
          ],
          [
           "blvkx"
          ],
          [
           "blvkx"
          ],
          [
           "blvkx"
          ],
          [
           "blvkx"
          ],
          [
           "orjyn"
          ],
          [
           "orjyn"
          ],
          [
           "orjyn"
          ],
          [
           "orjyn"
          ],
          [
           "orjyn"
          ],
          [
           "orjyn"
          ],
          [
           "orjyn"
          ],
          [
           "orjyn"
          ],
          [
           "orjyn"
          ],
          [
           "tcvyz"
          ],
          [
           "tcvyz"
          ],
          [
           "tcvyz"
          ],
          [
           "tcvyz"
          ],
          [
           "tcvyz"
          ],
          [
           "tcvyz"
          ],
          [
           "tcvyz"
          ],
          [
           "tcvyz"
          ],
          [
           "tcvyz"
          ],
          [
           "eayrh"
          ],
          [
           "eayrh"
          ],
          [
           "eayrh"
          ],
          [
           "eayrh"
          ],
          [
           "eayrh"
          ],
          [
           "eayrh"
          ],
          [
           "eayrh"
          ],
          [
           "eayrh"
          ],
          [
           "eayrh"
          ],
          [
           "fbldj"
          ],
          [
           "fbldj"
          ],
          [
           "fbldj"
          ],
          [
           "fbldj"
          ],
          [
           "fbldj"
          ],
          [
           "fbldj"
          ],
          [
           "fbldj"
          ],
          [
           "fbldj"
          ],
          [
           "fbldj"
          ],
          [
           "prpej"
          ],
          [
           "prpej"
          ],
          [
           "prpej"
          ],
          [
           "prpej"
          ],
          [
           "prpej"
          ],
          [
           "prpej"
          ],
          [
           "prpej"
          ],
          [
           "prpej"
          ],
          [
           "prpej"
          ],
          [
           "raqdt"
          ],
          [
           "raqdt"
          ],
          [
           "raqdt"
          ],
          [
           "raqdt"
          ],
          [
           "raqdt"
          ],
          [
           "raqdt"
          ],
          [
           "raqdt"
          ],
          [
           "raqdt"
          ],
          [
           "raqdt"
          ],
          [
           "bajbm"
          ],
          [
           "bajbm"
          ],
          [
           "bajbm"
          ],
          [
           "bajbm"
          ],
          [
           "bajbm"
          ],
          [
           "bajbm"
          ],
          [
           "bajbm"
          ],
          [
           "bajbm"
          ],
          [
           "bajbm"
          ],
          [
           "fmupf"
          ],
          [
           "fmupf"
          ],
          [
           "fmupf"
          ],
          [
           "fmupf"
          ],
          [
           "fmupf"
          ],
          [
           "fmupf"
          ],
          [
           "fmupf"
          ],
          [
           "fmupf"
          ],
          [
           "fmupf"
          ],
          [
           "xbmmw"
          ],
          [
           "xbmmw"
          ],
          [
           "xbmmw"
          ],
          [
           "xbmmw"
          ],
          [
           "xbmmw"
          ],
          [
           "xbmmw"
          ],
          [
           "xbmmw"
          ],
          [
           "xbmmw"
          ],
          [
           "xbmmw"
          ],
          [
           "pleui"
          ],
          [
           "pleui"
          ],
          [
           "pleui"
          ],
          [
           "pleui"
          ],
          [
           "pleui"
          ],
          [
           "pleui"
          ],
          [
           "pleui"
          ],
          [
           "pleui"
          ],
          [
           "pleui"
          ]
         ],
         "hovertemplate": "index=%{x}<br>value=%{y}<br>player=%{customdata[0]}<extra></extra>",
         "legendgroup": "",
         "marker": {
          "color": "#636efa"
         },
         "name": "",
         "notched": false,
         "offsetgroup": "",
         "orientation": "v",
         "showlegend": false,
         "type": "box",
         "x": [
          "types_1",
          "types_2",
          "types_3",
          "types_4",
          "types_5",
          "types_6",
          "types_7",
          "types_8",
          "types_9",
          "types_1",
          "types_2",
          "types_3",
          "types_4",
          "types_5",
          "types_6",
          "types_7",
          "types_8",
          "types_9",
          "types_1",
          "types_2",
          "types_3",
          "types_4",
          "types_5",
          "types_6",
          "types_7",
          "types_8",
          "types_9",
          "types_1",
          "types_2",
          "types_3",
          "types_4",
          "types_5",
          "types_6",
          "types_7",
          "types_8",
          "types_9",
          "types_1",
          "types_2",
          "types_3",
          "types_4",
          "types_5",
          "types_6",
          "types_7",
          "types_8",
          "types_9",
          "types_1",
          "types_2",
          "types_3",
          "types_4",
          "types_5",
          "types_6",
          "types_7",
          "types_8",
          "types_9",
          "types_1",
          "types_2",
          "types_3",
          "types_4",
          "types_5",
          "types_6",
          "types_7",
          "types_8",
          "types_9",
          "types_1",
          "types_2",
          "types_3",
          "types_4",
          "types_5",
          "types_6",
          "types_7",
          "types_8",
          "types_9",
          "types_1",
          "types_2",
          "types_3",
          "types_4",
          "types_5",
          "types_6",
          "types_7",
          "types_8",
          "types_9",
          "types_1",
          "types_2",
          "types_3",
          "types_4",
          "types_5",
          "types_6",
          "types_7",
          "types_8",
          "types_9",
          "types_1",
          "types_2",
          "types_3",
          "types_4",
          "types_5",
          "types_6",
          "types_7",
          "types_8",
          "types_9",
          "types_1",
          "types_2",
          "types_3",
          "types_4",
          "types_5",
          "types_6",
          "types_7",
          "types_8",
          "types_9",
          "types_1",
          "types_2",
          "types_3",
          "types_4",
          "types_5",
          "types_6",
          "types_7",
          "types_8",
          "types_9",
          "types_1",
          "types_2",
          "types_3",
          "types_4",
          "types_5",
          "types_6",
          "types_7",
          "types_8",
          "types_9",
          "types_1",
          "types_2",
          "types_3",
          "types_4",
          "types_5",
          "types_6",
          "types_7",
          "types_8",
          "types_9",
          "types_1",
          "types_2",
          "types_3",
          "types_4",
          "types_5",
          "types_6",
          "types_7",
          "types_8",
          "types_9",
          "types_1",
          "types_2",
          "types_3",
          "types_4",
          "types_5",
          "types_6",
          "types_7",
          "types_8",
          "types_9",
          "types_1",
          "types_2",
          "types_3",
          "types_4",
          "types_5",
          "types_6",
          "types_7",
          "types_8",
          "types_9",
          "types_1",
          "types_2",
          "types_3",
          "types_4",
          "types_5",
          "types_6",
          "types_7",
          "types_8",
          "types_9",
          "types_1",
          "types_2",
          "types_3",
          "types_4",
          "types_5",
          "types_6",
          "types_7",
          "types_8",
          "types_9",
          "types_1",
          "types_2",
          "types_3",
          "types_4",
          "types_5",
          "types_6",
          "types_7",
          "types_8",
          "types_9",
          "types_1",
          "types_2",
          "types_3",
          "types_4",
          "types_5",
          "types_6",
          "types_7",
          "types_8",
          "types_9",
          "types_1",
          "types_2",
          "types_3",
          "types_4",
          "types_5",
          "types_6",
          "types_7",
          "types_8",
          "types_9",
          "types_1",
          "types_2",
          "types_3",
          "types_4",
          "types_5",
          "types_6",
          "types_7",
          "types_8",
          "types_9",
          "types_1",
          "types_2",
          "types_3",
          "types_4",
          "types_5",
          "types_6",
          "types_7",
          "types_8",
          "types_9",
          "types_1",
          "types_2",
          "types_3",
          "types_4",
          "types_5",
          "types_6",
          "types_7",
          "types_8",
          "types_9",
          "types_1",
          "types_2",
          "types_3",
          "types_4",
          "types_5",
          "types_6",
          "types_7",
          "types_8",
          "types_9",
          "types_1",
          "types_2",
          "types_3",
          "types_4",
          "types_5",
          "types_6",
          "types_7",
          "types_8",
          "types_9",
          "types_1",
          "types_2",
          "types_3",
          "types_4",
          "types_5",
          "types_6",
          "types_7",
          "types_8",
          "types_9",
          "types_1",
          "types_2",
          "types_3",
          "types_4",
          "types_5",
          "types_6",
          "types_7",
          "types_8",
          "types_9",
          "types_1",
          "types_2",
          "types_3",
          "types_4",
          "types_5",
          "types_6",
          "types_7",
          "types_8",
          "types_9",
          "types_1",
          "types_2",
          "types_3",
          "types_4",
          "types_5",
          "types_6",
          "types_7",
          "types_8",
          "types_9",
          "types_1",
          "types_2",
          "types_3",
          "types_4",
          "types_5",
          "types_6",
          "types_7",
          "types_8",
          "types_9",
          "types_1",
          "types_2",
          "types_3",
          "types_4",
          "types_5",
          "types_6",
          "types_7",
          "types_8",
          "types_9",
          "types_1",
          "types_2",
          "types_3",
          "types_4",
          "types_5",
          "types_6",
          "types_7",
          "types_8",
          "types_9",
          "types_1",
          "types_2",
          "types_3",
          "types_4",
          "types_5",
          "types_6",
          "types_7",
          "types_8",
          "types_9",
          "types_1",
          "types_2",
          "types_3",
          "types_4",
          "types_5",
          "types_6",
          "types_7",
          "types_8",
          "types_9",
          "types_1",
          "types_2",
          "types_3",
          "types_4",
          "types_5",
          "types_6",
          "types_7",
          "types_8",
          "types_9",
          "types_1",
          "types_2",
          "types_3",
          "types_4",
          "types_5",
          "types_6",
          "types_7",
          "types_8",
          "types_9",
          "types_1",
          "types_2",
          "types_3",
          "types_4",
          "types_5",
          "types_6",
          "types_7",
          "types_8",
          "types_9",
          "types_1",
          "types_2",
          "types_3",
          "types_4",
          "types_5",
          "types_6",
          "types_7",
          "types_8",
          "types_9",
          "types_1",
          "types_2",
          "types_3",
          "types_4",
          "types_5",
          "types_6",
          "types_7",
          "types_8",
          "types_9",
          "types_1",
          "types_2",
          "types_3",
          "types_4",
          "types_5",
          "types_6",
          "types_7",
          "types_8",
          "types_9",
          "types_1",
          "types_2",
          "types_3",
          "types_4",
          "types_5",
          "types_6",
          "types_7",
          "types_8",
          "types_9",
          "types_1",
          "types_2",
          "types_3",
          "types_4",
          "types_5",
          "types_6",
          "types_7",
          "types_8",
          "types_9",
          "types_1",
          "types_2",
          "types_3",
          "types_4",
          "types_5",
          "types_6",
          "types_7",
          "types_8",
          "types_9",
          "types_1",
          "types_2",
          "types_3",
          "types_4",
          "types_5",
          "types_6",
          "types_7",
          "types_8",
          "types_9",
          "types_1",
          "types_2",
          "types_3",
          "types_4",
          "types_5",
          "types_6",
          "types_7",
          "types_8",
          "types_9",
          "types_1",
          "types_2",
          "types_3",
          "types_4",
          "types_5",
          "types_6",
          "types_7",
          "types_8",
          "types_9",
          "types_1",
          "types_2",
          "types_3",
          "types_4",
          "types_5",
          "types_6",
          "types_7",
          "types_8",
          "types_9",
          "types_1",
          "types_2",
          "types_3",
          "types_4",
          "types_5",
          "types_6",
          "types_7",
          "types_8",
          "types_9",
          "types_1",
          "types_2",
          "types_3",
          "types_4",
          "types_5",
          "types_6",
          "types_7",
          "types_8",
          "types_9",
          "types_1",
          "types_2",
          "types_3",
          "types_4",
          "types_5",
          "types_6",
          "types_7",
          "types_8",
          "types_9",
          "types_1",
          "types_2",
          "types_3",
          "types_4",
          "types_5",
          "types_6",
          "types_7",
          "types_8",
          "types_9",
          "types_1",
          "types_2",
          "types_3",
          "types_4",
          "types_5",
          "types_6",
          "types_7",
          "types_8",
          "types_9",
          "types_1",
          "types_2",
          "types_3",
          "types_4",
          "types_5",
          "types_6",
          "types_7",
          "types_8",
          "types_9",
          "types_1",
          "types_2",
          "types_3",
          "types_4",
          "types_5",
          "types_6",
          "types_7",
          "types_8",
          "types_9",
          "types_1",
          "types_2",
          "types_3",
          "types_4",
          "types_5",
          "types_6",
          "types_7",
          "types_8",
          "types_9",
          "types_1",
          "types_2",
          "types_3",
          "types_4",
          "types_5",
          "types_6",
          "types_7",
          "types_8",
          "types_9",
          "types_1",
          "types_2",
          "types_3",
          "types_4",
          "types_5",
          "types_6",
          "types_7",
          "types_8",
          "types_9",
          "types_1",
          "types_2",
          "types_3",
          "types_4",
          "types_5",
          "types_6",
          "types_7",
          "types_8",
          "types_9",
          "types_1",
          "types_2",
          "types_3",
          "types_4",
          "types_5",
          "types_6",
          "types_7",
          "types_8",
          "types_9",
          "types_1",
          "types_2",
          "types_3",
          "types_4",
          "types_5",
          "types_6",
          "types_7",
          "types_8",
          "types_9",
          "types_1",
          "types_2",
          "types_3",
          "types_4",
          "types_5",
          "types_6",
          "types_7",
          "types_8",
          "types_9",
          "types_1",
          "types_2",
          "types_3",
          "types_4",
          "types_5",
          "types_6",
          "types_7",
          "types_8",
          "types_9",
          "types_1",
          "types_2",
          "types_3",
          "types_4",
          "types_5",
          "types_6",
          "types_7",
          "types_8",
          "types_9",
          "types_1",
          "types_2",
          "types_3",
          "types_4",
          "types_5",
          "types_6",
          "types_7",
          "types_8",
          "types_9",
          "types_1",
          "types_2",
          "types_3",
          "types_4",
          "types_5",
          "types_6",
          "types_7",
          "types_8",
          "types_9",
          "types_1",
          "types_2",
          "types_3",
          "types_4",
          "types_5",
          "types_6",
          "types_7",
          "types_8",
          "types_9",
          "types_1",
          "types_2",
          "types_3",
          "types_4",
          "types_5",
          "types_6",
          "types_7",
          "types_8",
          "types_9",
          "types_1",
          "types_2",
          "types_3",
          "types_4",
          "types_5",
          "types_6",
          "types_7",
          "types_8",
          "types_9",
          "types_1",
          "types_2",
          "types_3",
          "types_4",
          "types_5",
          "types_6",
          "types_7",
          "types_8",
          "types_9",
          "types_1",
          "types_2",
          "types_3",
          "types_4",
          "types_5",
          "types_6",
          "types_7",
          "types_8",
          "types_9",
          "types_1",
          "types_2",
          "types_3",
          "types_4",
          "types_5",
          "types_6",
          "types_7",
          "types_8",
          "types_9",
          "types_1",
          "types_2",
          "types_3",
          "types_4",
          "types_5",
          "types_6",
          "types_7",
          "types_8",
          "types_9",
          "types_1",
          "types_2",
          "types_3",
          "types_4",
          "types_5",
          "types_6",
          "types_7",
          "types_8",
          "types_9",
          "types_1",
          "types_2",
          "types_3",
          "types_4",
          "types_5",
          "types_6",
          "types_7",
          "types_8",
          "types_9",
          "types_1",
          "types_2",
          "types_3",
          "types_4",
          "types_5",
          "types_6",
          "types_7",
          "types_8",
          "types_9",
          "types_1",
          "types_2",
          "types_3",
          "types_4",
          "types_5",
          "types_6",
          "types_7",
          "types_8",
          "types_9",
          "types_1",
          "types_2",
          "types_3",
          "types_4",
          "types_5",
          "types_6",
          "types_7",
          "types_8",
          "types_9",
          "types_1",
          "types_2",
          "types_3",
          "types_4",
          "types_5",
          "types_6",
          "types_7",
          "types_8",
          "types_9",
          "types_1",
          "types_2",
          "types_3",
          "types_4",
          "types_5",
          "types_6",
          "types_7",
          "types_8",
          "types_9",
          "types_1",
          "types_2",
          "types_3",
          "types_4",
          "types_5",
          "types_6",
          "types_7",
          "types_8",
          "types_9",
          "types_1",
          "types_2",
          "types_3",
          "types_4",
          "types_5",
          "types_6",
          "types_7",
          "types_8",
          "types_9",
          "types_1",
          "types_2",
          "types_3",
          "types_4",
          "types_5",
          "types_6",
          "types_7",
          "types_8",
          "types_9",
          "types_1",
          "types_2",
          "types_3",
          "types_4",
          "types_5",
          "types_6",
          "types_7",
          "types_8",
          "types_9",
          "types_1",
          "types_2",
          "types_3",
          "types_4",
          "types_5",
          "types_6",
          "types_7",
          "types_8",
          "types_9",
          "types_1",
          "types_2",
          "types_3",
          "types_4",
          "types_5",
          "types_6",
          "types_7",
          "types_8",
          "types_9",
          "types_1",
          "types_2",
          "types_3",
          "types_4",
          "types_5",
          "types_6",
          "types_7",
          "types_8",
          "types_9",
          "types_1",
          "types_2",
          "types_3",
          "types_4",
          "types_5",
          "types_6",
          "types_7",
          "types_8",
          "types_9",
          "types_1",
          "types_2",
          "types_3",
          "types_4",
          "types_5",
          "types_6",
          "types_7",
          "types_8",
          "types_9",
          "types_1",
          "types_2",
          "types_3",
          "types_4",
          "types_5",
          "types_6",
          "types_7",
          "types_8",
          "types_9",
          "types_1",
          "types_2",
          "types_3",
          "types_4",
          "types_5",
          "types_6",
          "types_7",
          "types_8",
          "types_9",
          "types_1",
          "types_2",
          "types_3",
          "types_4",
          "types_5",
          "types_6",
          "types_7",
          "types_8",
          "types_9",
          "types_1",
          "types_2",
          "types_3",
          "types_4",
          "types_5",
          "types_6",
          "types_7",
          "types_8",
          "types_9",
          "types_1",
          "types_2",
          "types_3",
          "types_4",
          "types_5",
          "types_6",
          "types_7",
          "types_8",
          "types_9",
          "types_1",
          "types_2",
          "types_3",
          "types_4",
          "types_5",
          "types_6",
          "types_7",
          "types_8",
          "types_9",
          "types_1",
          "types_2",
          "types_3",
          "types_4",
          "types_5",
          "types_6",
          "types_7",
          "types_8",
          "types_9",
          "types_1",
          "types_2",
          "types_3",
          "types_4",
          "types_5",
          "types_6",
          "types_7",
          "types_8",
          "types_9",
          "types_1",
          "types_2",
          "types_3",
          "types_4",
          "types_5",
          "types_6",
          "types_7",
          "types_8",
          "types_9",
          "types_1",
          "types_2",
          "types_3",
          "types_4",
          "types_5",
          "types_6",
          "types_7",
          "types_8",
          "types_9",
          "types_1",
          "types_2",
          "types_3",
          "types_4",
          "types_5",
          "types_6",
          "types_7",
          "types_8",
          "types_9",
          "types_1",
          "types_2",
          "types_3",
          "types_4",
          "types_5",
          "types_6",
          "types_7",
          "types_8",
          "types_9",
          "types_1",
          "types_2",
          "types_3",
          "types_4",
          "types_5",
          "types_6",
          "types_7",
          "types_8",
          "types_9",
          "types_1",
          "types_2",
          "types_3",
          "types_4",
          "types_5",
          "types_6",
          "types_7",
          "types_8",
          "types_9",
          "types_1",
          "types_2",
          "types_3",
          "types_4",
          "types_5",
          "types_6",
          "types_7",
          "types_8",
          "types_9",
          "types_1",
          "types_2",
          "types_3",
          "types_4",
          "types_5",
          "types_6",
          "types_7",
          "types_8",
          "types_9",
          "types_1",
          "types_2",
          "types_3",
          "types_4",
          "types_5",
          "types_6",
          "types_7",
          "types_8",
          "types_9",
          "types_1",
          "types_2",
          "types_3",
          "types_4",
          "types_5",
          "types_6",
          "types_7",
          "types_8",
          "types_9",
          "types_1",
          "types_2",
          "types_3",
          "types_4",
          "types_5",
          "types_6",
          "types_7",
          "types_8",
          "types_9",
          "types_1",
          "types_2",
          "types_3",
          "types_4",
          "types_5",
          "types_6",
          "types_7",
          "types_8",
          "types_9",
          "types_1",
          "types_2",
          "types_3",
          "types_4",
          "types_5",
          "types_6",
          "types_7",
          "types_8",
          "types_9",
          "types_1",
          "types_2",
          "types_3",
          "types_4",
          "types_5",
          "types_6",
          "types_7",
          "types_8",
          "types_9"
         ],
         "x0": " ",
         "xaxis": "x",
         "y": [
          1,
          1,
          1,
          2,
          4,
          2,
          2,
          1,
          null,
          2,
          1,
          1,
          3,
          2,
          3,
          2,
          null,
          null,
          2,
          1,
          3,
          3,
          6,
          3,
          1,
          2,
          1,
          2,
          1,
          3,
          2,
          3,
          4,
          1,
          3,
          1,
          1,
          2,
          4,
          2,
          null,
          null,
          null,
          null,
          null,
          1,
          1,
          1,
          3,
          2,
          2,
          1,
          3,
          3,
          3,
          1,
          4,
          null,
          null,
          null,
          null,
          null,
          null,
          1,
          1,
          2,
          2,
          1,
          2,
          1,
          3,
          2,
          1,
          1,
          1,
          1,
          1,
          7,
          1,
          3,
          4,
          1,
          1,
          1,
          2,
          6,
          2,
          null,
          null,
          null,
          1,
          2,
          1,
          1,
          4,
          2,
          1,
          2,
          2,
          2,
          1,
          1,
          1,
          1,
          5,
          1,
          1,
          1,
          4,
          1,
          1,
          1,
          3,
          2,
          3,
          9,
          4,
          2,
          1,
          2,
          1,
          4,
          8,
          null,
          null,
          null,
          1,
          1,
          1,
          2,
          1,
          1,
          1,
          1,
          2,
          1,
          1,
          3,
          1,
          2,
          1,
          3,
          1,
          1,
          1,
          1,
          1,
          1,
          1,
          2,
          1,
          2,
          1,
          2,
          3,
          6,
          null,
          null,
          null,
          null,
          null,
          null,
          1,
          1,
          1,
          1,
          8,
          8,
          null,
          null,
          null,
          4,
          2,
          4,
          1,
          2,
          null,
          null,
          null,
          null,
          1,
          1,
          2,
          1,
          2,
          2,
          null,
          null,
          null,
          3,
          1,
          2,
          3,
          4,
          3,
          null,
          null,
          null,
          2,
          2,
          2,
          5,
          5,
          2,
          3,
          null,
          null,
          1,
          1,
          1,
          4,
          4,
          1,
          3,
          2,
          2,
          2,
          1,
          3,
          3,
          2,
          3,
          1,
          null,
          null,
          3,
          1,
          2,
          1,
          4,
          3,
          1,
          null,
          null,
          4,
          3,
          3,
          9,
          7,
          2,
          3,
          3,
          8,
          2,
          2,
          27,
          9,
          7,
          5,
          1,
          1,
          null,
          1,
          1,
          2,
          1,
          5,
          1,
          3,
          1,
          1,
          2,
          2,
          2,
          5,
          9,
          null,
          null,
          null,
          null,
          2,
          1,
          19,
          7,
          null,
          null,
          null,
          null,
          null,
          1,
          1,
          2,
          2,
          2,
          3,
          1,
          4,
          1,
          2,
          1,
          4,
          4,
          4,
          1,
          2,
          4,
          5,
          1,
          1,
          7,
          null,
          null,
          null,
          null,
          null,
          null,
          1,
          1,
          2,
          1,
          16,
          2,
          1,
          1,
          1,
          1,
          1,
          1,
          1,
          1,
          1,
          2,
          2,
          4,
          1,
          1,
          6,
          1,
          1,
          1,
          1,
          2,
          2,
          1,
          3,
          2,
          3,
          5,
          1,
          3,
          2,
          1,
          2,
          1,
          8,
          1,
          null,
          null,
          null,
          null,
          null,
          1,
          2,
          5,
          1,
          5,
          null,
          null,
          null,
          null,
          1,
          2,
          1,
          3,
          2,
          1,
          1,
          1,
          1,
          2,
          1,
          1,
          2,
          4,
          2,
          1,
          3,
          3,
          4,
          2,
          2,
          3,
          2,
          4,
          null,
          null,
          null,
          2,
          2,
          9,
          7,
          null,
          null,
          null,
          null,
          null,
          5,
          1,
          14,
          null,
          null,
          null,
          null,
          null,
          null,
          1,
          1,
          2,
          null,
          null,
          null,
          null,
          null,
          null,
          2,
          1,
          7,
          6,
          2,
          4,
          null,
          null,
          null,
          1,
          2,
          8,
          null,
          null,
          null,
          null,
          null,
          null,
          2,
          2,
          3,
          1,
          null,
          null,
          null,
          null,
          null,
          2,
          2,
          3,
          6,
          10,
          2,
          null,
          null,
          null,
          3,
          null,
          null,
          null,
          null,
          null,
          null,
          null,
          null,
          1,
          1,
          1,
          1,
          6,
          2,
          1,
          1,
          1,
          1,
          1,
          4,
          3,
          13,
          3,
          3,
          4,
          null,
          5,
          5,
          1,
          null,
          null,
          null,
          null,
          null,
          null,
          1,
          1,
          1,
          1,
          2,
          2,
          2,
          1,
          1,
          4,
          8,
          7,
          6,
          null,
          null,
          null,
          null,
          null,
          3,
          2,
          5,
          4,
          4,
          4,
          5,
          3,
          null,
          2,
          2,
          15,
          7,
          1,
          null,
          null,
          null,
          null,
          2,
          1,
          null,
          null,
          null,
          null,
          null,
          null,
          null,
          4,
          1,
          null,
          null,
          null,
          null,
          null,
          null,
          null,
          1,
          1,
          1,
          1,
          1,
          1,
          1,
          1,
          1,
          1,
          1,
          3,
          12,
          1,
          2,
          1,
          1,
          1,
          2,
          1,
          2,
          6,
          2,
          1,
          2,
          3,
          1,
          2,
          1,
          2,
          5,
          2,
          1,
          2,
          3,
          2,
          4,
          1,
          3,
          7,
          9,
          14,
          7,
          4,
          1,
          2,
          2,
          3,
          5,
          null,
          null,
          null,
          null,
          null,
          4,
          3,
          1,
          5,
          4,
          3,
          null,
          null,
          null,
          1,
          1,
          2,
          3,
          2,
          3,
          3,
          2,
          null,
          2,
          1,
          4,
          1,
          3,
          2,
          4,
          2,
          1,
          1,
          1,
          2,
          2,
          2,
          2,
          1,
          1,
          1,
          1,
          1,
          4,
          4,
          1,
          2,
          3,
          3,
          5,
          4,
          1,
          2,
          null,
          null,
          null,
          null,
          null,
          null,
          2,
          1,
          null,
          null,
          null,
          null,
          null,
          null,
          null,
          2,
          1,
          3,
          null,
          null,
          null,
          null,
          null,
          null,
          2,
          1,
          2,
          3,
          3,
          null,
          null,
          null,
          null,
          4,
          null,
          null,
          null,
          null,
          null,
          null,
          null,
          null,
          3,
          1,
          null,
          null,
          null,
          null,
          null,
          null,
          null,
          1,
          4,
          4,
          2,
          26,
          4,
          3,
          null,
          null,
          1,
          3,
          3,
          2,
          5,
          3,
          1,
          2,
          null,
          4,
          3,
          8,
          2,
          17,
          2,
          4,
          null,
          null,
          2,
          2,
          2,
          4,
          null,
          null,
          null,
          null,
          null,
          3,
          1,
          1,
          3,
          1,
          3,
          6,
          null,
          null,
          4,
          8,
          3,
          18,
          3,
          2,
          null,
          null,
          null,
          2,
          11,
          5,
          null,
          null,
          null,
          null,
          null,
          null,
          3,
          3,
          7,
          4,
          6,
          3,
          null,
          null,
          null,
          1,
          1,
          2,
          2,
          2,
          1,
          1,
          null,
          null,
          9,
          8,
          5,
          null,
          null,
          null,
          null,
          null,
          null,
          4,
          8,
          6,
          5,
          4,
          3,
          null,
          null,
          null,
          3,
          6,
          null,
          null,
          null,
          null,
          null,
          null,
          null,
          2,
          8,
          3,
          5,
          7,
          1,
          null,
          null,
          null,
          2,
          2,
          10,
          4,
          4,
          3,
          5,
          null,
          null,
          2,
          1,
          1,
          1,
          1,
          2,
          1,
          2,
          1,
          3,
          1,
          3,
          3,
          2,
          null,
          null,
          null,
          null,
          3,
          1,
          2,
          6,
          null,
          null,
          null,
          null,
          null,
          1,
          2,
          3,
          5,
          null,
          null,
          null,
          null,
          null,
          2,
          1,
          13,
          11,
          null,
          null,
          null,
          null,
          null,
          1,
          1,
          1,
          12,
          2,
          1,
          1,
          1,
          1,
          1,
          1,
          2,
          1,
          1,
          1,
          1,
          2,
          1,
          2,
          5,
          4,
          3,
          1,
          null,
          null,
          null,
          null,
          2,
          1,
          null,
          null,
          null,
          null,
          null,
          null,
          null,
          4,
          9,
          17,
          null,
          null,
          null,
          null,
          null,
          null,
          3,
          1,
          2,
          8,
          null,
          null,
          null,
          null,
          null,
          1,
          6,
          null,
          null,
          null,
          null,
          null,
          null,
          null,
          6,
          4,
          4,
          4,
          2,
          5,
          3,
          7,
          null,
          1,
          1,
          9,
          null,
          null,
          null,
          null,
          null,
          null,
          4,
          3,
          3,
          2,
          4,
          2,
          4,
          null,
          null,
          4,
          5,
          2,
          3,
          2,
          5,
          3,
          1,
          4,
          2,
          2,
          6,
          null,
          null,
          null,
          null,
          null,
          null,
          1,
          2,
          2,
          3,
          4,
          1,
          null,
          null,
          null,
          2,
          5,
          null,
          null,
          null,
          null,
          null,
          null,
          null,
          3,
          1,
          2,
          3,
          3,
          4,
          2,
          2,
          null,
          2,
          2,
          4,
          2,
          1,
          2,
          5,
          4,
          1,
          2,
          3,
          3,
          2,
          2,
          2,
          1,
          1,
          1
         ],
         "y0": " ",
         "yaxis": "y"
        }
       ],
       "layout": {
        "boxmode": "group",
        "legend": {
         "tracegroupgap": 0
        },
        "margin": {
         "t": 60
        },
        "template": {
         "data": {
          "bar": [
           {
            "error_x": {
             "color": "#2a3f5f"
            },
            "error_y": {
             "color": "#2a3f5f"
            },
            "marker": {
             "line": {
              "color": "#E5ECF6",
              "width": 0.5
             },
             "pattern": {
              "fillmode": "overlay",
              "size": 10,
              "solidity": 0.2
             }
            },
            "type": "bar"
           }
          ],
          "barpolar": [
           {
            "marker": {
             "line": {
              "color": "#E5ECF6",
              "width": 0.5
             },
             "pattern": {
              "fillmode": "overlay",
              "size": 10,
              "solidity": 0.2
             }
            },
            "type": "barpolar"
           }
          ],
          "carpet": [
           {
            "aaxis": {
             "endlinecolor": "#2a3f5f",
             "gridcolor": "white",
             "linecolor": "white",
             "minorgridcolor": "white",
             "startlinecolor": "#2a3f5f"
            },
            "baxis": {
             "endlinecolor": "#2a3f5f",
             "gridcolor": "white",
             "linecolor": "white",
             "minorgridcolor": "white",
             "startlinecolor": "#2a3f5f"
            },
            "type": "carpet"
           }
          ],
          "choropleth": [
           {
            "colorbar": {
             "outlinewidth": 0,
             "ticks": ""
            },
            "type": "choropleth"
           }
          ],
          "contour": [
           {
            "colorbar": {
             "outlinewidth": 0,
             "ticks": ""
            },
            "colorscale": [
             [
              0,
              "#0d0887"
             ],
             [
              0.1111111111111111,
              "#46039f"
             ],
             [
              0.2222222222222222,
              "#7201a8"
             ],
             [
              0.3333333333333333,
              "#9c179e"
             ],
             [
              0.4444444444444444,
              "#bd3786"
             ],
             [
              0.5555555555555556,
              "#d8576b"
             ],
             [
              0.6666666666666666,
              "#ed7953"
             ],
             [
              0.7777777777777778,
              "#fb9f3a"
             ],
             [
              0.8888888888888888,
              "#fdca26"
             ],
             [
              1,
              "#f0f921"
             ]
            ],
            "type": "contour"
           }
          ],
          "contourcarpet": [
           {
            "colorbar": {
             "outlinewidth": 0,
             "ticks": ""
            },
            "type": "contourcarpet"
           }
          ],
          "heatmap": [
           {
            "colorbar": {
             "outlinewidth": 0,
             "ticks": ""
            },
            "colorscale": [
             [
              0,
              "#0d0887"
             ],
             [
              0.1111111111111111,
              "#46039f"
             ],
             [
              0.2222222222222222,
              "#7201a8"
             ],
             [
              0.3333333333333333,
              "#9c179e"
             ],
             [
              0.4444444444444444,
              "#bd3786"
             ],
             [
              0.5555555555555556,
              "#d8576b"
             ],
             [
              0.6666666666666666,
              "#ed7953"
             ],
             [
              0.7777777777777778,
              "#fb9f3a"
             ],
             [
              0.8888888888888888,
              "#fdca26"
             ],
             [
              1,
              "#f0f921"
             ]
            ],
            "type": "heatmap"
           }
          ],
          "heatmapgl": [
           {
            "colorbar": {
             "outlinewidth": 0,
             "ticks": ""
            },
            "colorscale": [
             [
              0,
              "#0d0887"
             ],
             [
              0.1111111111111111,
              "#46039f"
             ],
             [
              0.2222222222222222,
              "#7201a8"
             ],
             [
              0.3333333333333333,
              "#9c179e"
             ],
             [
              0.4444444444444444,
              "#bd3786"
             ],
             [
              0.5555555555555556,
              "#d8576b"
             ],
             [
              0.6666666666666666,
              "#ed7953"
             ],
             [
              0.7777777777777778,
              "#fb9f3a"
             ],
             [
              0.8888888888888888,
              "#fdca26"
             ],
             [
              1,
              "#f0f921"
             ]
            ],
            "type": "heatmapgl"
           }
          ],
          "histogram": [
           {
            "marker": {
             "pattern": {
              "fillmode": "overlay",
              "size": 10,
              "solidity": 0.2
             }
            },
            "type": "histogram"
           }
          ],
          "histogram2d": [
           {
            "colorbar": {
             "outlinewidth": 0,
             "ticks": ""
            },
            "colorscale": [
             [
              0,
              "#0d0887"
             ],
             [
              0.1111111111111111,
              "#46039f"
             ],
             [
              0.2222222222222222,
              "#7201a8"
             ],
             [
              0.3333333333333333,
              "#9c179e"
             ],
             [
              0.4444444444444444,
              "#bd3786"
             ],
             [
              0.5555555555555556,
              "#d8576b"
             ],
             [
              0.6666666666666666,
              "#ed7953"
             ],
             [
              0.7777777777777778,
              "#fb9f3a"
             ],
             [
              0.8888888888888888,
              "#fdca26"
             ],
             [
              1,
              "#f0f921"
             ]
            ],
            "type": "histogram2d"
           }
          ],
          "histogram2dcontour": [
           {
            "colorbar": {
             "outlinewidth": 0,
             "ticks": ""
            },
            "colorscale": [
             [
              0,
              "#0d0887"
             ],
             [
              0.1111111111111111,
              "#46039f"
             ],
             [
              0.2222222222222222,
              "#7201a8"
             ],
             [
              0.3333333333333333,
              "#9c179e"
             ],
             [
              0.4444444444444444,
              "#bd3786"
             ],
             [
              0.5555555555555556,
              "#d8576b"
             ],
             [
              0.6666666666666666,
              "#ed7953"
             ],
             [
              0.7777777777777778,
              "#fb9f3a"
             ],
             [
              0.8888888888888888,
              "#fdca26"
             ],
             [
              1,
              "#f0f921"
             ]
            ],
            "type": "histogram2dcontour"
           }
          ],
          "mesh3d": [
           {
            "colorbar": {
             "outlinewidth": 0,
             "ticks": ""
            },
            "type": "mesh3d"
           }
          ],
          "parcoords": [
           {
            "line": {
             "colorbar": {
              "outlinewidth": 0,
              "ticks": ""
             }
            },
            "type": "parcoords"
           }
          ],
          "pie": [
           {
            "automargin": true,
            "type": "pie"
           }
          ],
          "scatter": [
           {
            "fillpattern": {
             "fillmode": "overlay",
             "size": 10,
             "solidity": 0.2
            },
            "type": "scatter"
           }
          ],
          "scatter3d": [
           {
            "line": {
             "colorbar": {
              "outlinewidth": 0,
              "ticks": ""
             }
            },
            "marker": {
             "colorbar": {
              "outlinewidth": 0,
              "ticks": ""
             }
            },
            "type": "scatter3d"
           }
          ],
          "scattercarpet": [
           {
            "marker": {
             "colorbar": {
              "outlinewidth": 0,
              "ticks": ""
             }
            },
            "type": "scattercarpet"
           }
          ],
          "scattergeo": [
           {
            "marker": {
             "colorbar": {
              "outlinewidth": 0,
              "ticks": ""
             }
            },
            "type": "scattergeo"
           }
          ],
          "scattergl": [
           {
            "marker": {
             "colorbar": {
              "outlinewidth": 0,
              "ticks": ""
             }
            },
            "type": "scattergl"
           }
          ],
          "scattermapbox": [
           {
            "marker": {
             "colorbar": {
              "outlinewidth": 0,
              "ticks": ""
             }
            },
            "type": "scattermapbox"
           }
          ],
          "scatterpolar": [
           {
            "marker": {
             "colorbar": {
              "outlinewidth": 0,
              "ticks": ""
             }
            },
            "type": "scatterpolar"
           }
          ],
          "scatterpolargl": [
           {
            "marker": {
             "colorbar": {
              "outlinewidth": 0,
              "ticks": ""
             }
            },
            "type": "scatterpolargl"
           }
          ],
          "scatterternary": [
           {
            "marker": {
             "colorbar": {
              "outlinewidth": 0,
              "ticks": ""
             }
            },
            "type": "scatterternary"
           }
          ],
          "surface": [
           {
            "colorbar": {
             "outlinewidth": 0,
             "ticks": ""
            },
            "colorscale": [
             [
              0,
              "#0d0887"
             ],
             [
              0.1111111111111111,
              "#46039f"
             ],
             [
              0.2222222222222222,
              "#7201a8"
             ],
             [
              0.3333333333333333,
              "#9c179e"
             ],
             [
              0.4444444444444444,
              "#bd3786"
             ],
             [
              0.5555555555555556,
              "#d8576b"
             ],
             [
              0.6666666666666666,
              "#ed7953"
             ],
             [
              0.7777777777777778,
              "#fb9f3a"
             ],
             [
              0.8888888888888888,
              "#fdca26"
             ],
             [
              1,
              "#f0f921"
             ]
            ],
            "type": "surface"
           }
          ],
          "table": [
           {
            "cells": {
             "fill": {
              "color": "#EBF0F8"
             },
             "line": {
              "color": "white"
             }
            },
            "header": {
             "fill": {
              "color": "#C8D4E3"
             },
             "line": {
              "color": "white"
             }
            },
            "type": "table"
           }
          ]
         },
         "layout": {
          "annotationdefaults": {
           "arrowcolor": "#2a3f5f",
           "arrowhead": 0,
           "arrowwidth": 1
          },
          "autotypenumbers": "strict",
          "coloraxis": {
           "colorbar": {
            "outlinewidth": 0,
            "ticks": ""
           }
          },
          "colorscale": {
           "diverging": [
            [
             0,
             "#8e0152"
            ],
            [
             0.1,
             "#c51b7d"
            ],
            [
             0.2,
             "#de77ae"
            ],
            [
             0.3,
             "#f1b6da"
            ],
            [
             0.4,
             "#fde0ef"
            ],
            [
             0.5,
             "#f7f7f7"
            ],
            [
             0.6,
             "#e6f5d0"
            ],
            [
             0.7,
             "#b8e186"
            ],
            [
             0.8,
             "#7fbc41"
            ],
            [
             0.9,
             "#4d9221"
            ],
            [
             1,
             "#276419"
            ]
           ],
           "sequential": [
            [
             0,
             "#0d0887"
            ],
            [
             0.1111111111111111,
             "#46039f"
            ],
            [
             0.2222222222222222,
             "#7201a8"
            ],
            [
             0.3333333333333333,
             "#9c179e"
            ],
            [
             0.4444444444444444,
             "#bd3786"
            ],
            [
             0.5555555555555556,
             "#d8576b"
            ],
            [
             0.6666666666666666,
             "#ed7953"
            ],
            [
             0.7777777777777778,
             "#fb9f3a"
            ],
            [
             0.8888888888888888,
             "#fdca26"
            ],
            [
             1,
             "#f0f921"
            ]
           ],
           "sequentialminus": [
            [
             0,
             "#0d0887"
            ],
            [
             0.1111111111111111,
             "#46039f"
            ],
            [
             0.2222222222222222,
             "#7201a8"
            ],
            [
             0.3333333333333333,
             "#9c179e"
            ],
            [
             0.4444444444444444,
             "#bd3786"
            ],
            [
             0.5555555555555556,
             "#d8576b"
            ],
            [
             0.6666666666666666,
             "#ed7953"
            ],
            [
             0.7777777777777778,
             "#fb9f3a"
            ],
            [
             0.8888888888888888,
             "#fdca26"
            ],
            [
             1,
             "#f0f921"
            ]
           ]
          },
          "colorway": [
           "#636efa",
           "#EF553B",
           "#00cc96",
           "#ab63fa",
           "#FFA15A",
           "#19d3f3",
           "#FF6692",
           "#B6E880",
           "#FF97FF",
           "#FECB52"
          ],
          "font": {
           "color": "#2a3f5f"
          },
          "geo": {
           "bgcolor": "white",
           "lakecolor": "white",
           "landcolor": "#E5ECF6",
           "showlakes": true,
           "showland": true,
           "subunitcolor": "white"
          },
          "hoverlabel": {
           "align": "left"
          },
          "hovermode": "closest",
          "mapbox": {
           "style": "light"
          },
          "paper_bgcolor": "white",
          "plot_bgcolor": "#E5ECF6",
          "polar": {
           "angularaxis": {
            "gridcolor": "white",
            "linecolor": "white",
            "ticks": ""
           },
           "bgcolor": "#E5ECF6",
           "radialaxis": {
            "gridcolor": "white",
            "linecolor": "white",
            "ticks": ""
           }
          },
          "scene": {
           "xaxis": {
            "backgroundcolor": "#E5ECF6",
            "gridcolor": "white",
            "gridwidth": 2,
            "linecolor": "white",
            "showbackground": true,
            "ticks": "",
            "zerolinecolor": "white"
           },
           "yaxis": {
            "backgroundcolor": "#E5ECF6",
            "gridcolor": "white",
            "gridwidth": 2,
            "linecolor": "white",
            "showbackground": true,
            "ticks": "",
            "zerolinecolor": "white"
           },
           "zaxis": {
            "backgroundcolor": "#E5ECF6",
            "gridcolor": "white",
            "gridwidth": 2,
            "linecolor": "white",
            "showbackground": true,
            "ticks": "",
            "zerolinecolor": "white"
           }
          },
          "shapedefaults": {
           "line": {
            "color": "#2a3f5f"
           }
          },
          "ternary": {
           "aaxis": {
            "gridcolor": "white",
            "linecolor": "white",
            "ticks": ""
           },
           "baxis": {
            "gridcolor": "white",
            "linecolor": "white",
            "ticks": ""
           },
           "bgcolor": "#E5ECF6",
           "caxis": {
            "gridcolor": "white",
            "linecolor": "white",
            "ticks": ""
           }
          },
          "title": {
           "x": 0.05
          },
          "xaxis": {
           "automargin": true,
           "gridcolor": "white",
           "linecolor": "white",
           "ticks": "",
           "title": {
            "standoff": 15
           },
           "zerolinecolor": "white",
           "zerolinewidth": 2
          },
          "yaxis": {
           "automargin": true,
           "gridcolor": "white",
           "linecolor": "white",
           "ticks": "",
           "title": {
            "standoff": 15
           },
           "zerolinecolor": "white",
           "zerolinewidth": 2
          }
         }
        },
        "xaxis": {
         "anchor": "y",
         "domain": [
          0,
          1
         ],
         "title": {
          "text": "index"
         }
        },
        "yaxis": {
         "anchor": "x",
         "domain": [
          0,
          1
         ],
         "title": {
          "text": "value"
         }
        }
       }
      }
     },
     "metadata": {},
     "output_type": "display_data"
    },
    {
     "data": {
      "application/vnd.plotly.v1+json": {
       "config": {
        "plotlyServerURL": "https://plot.ly"
       },
       "data": [
        {
         "alignmentgroup": "True",
         "customdata": [
          [
           "eprdu"
          ],
          [
           "eprdu"
          ],
          [
           "eprdu"
          ],
          [
           "eprdu"
          ],
          [
           "eprdu"
          ],
          [
           "eprdu"
          ],
          [
           "eprdu"
          ],
          [
           "ftpnb"
          ],
          [
           "ftpnb"
          ],
          [
           "ftpnb"
          ],
          [
           "ftpnb"
          ],
          [
           "ftpnb"
          ],
          [
           "ftpnb"
          ],
          [
           "ftpnb"
          ],
          [
           "loemd"
          ],
          [
           "loemd"
          ],
          [
           "loemd"
          ],
          [
           "loemd"
          ],
          [
           "loemd"
          ],
          [
           "loemd"
          ],
          [
           "loemd"
          ],
          [
           "gcpze"
          ],
          [
           "gcpze"
          ],
          [
           "gcpze"
          ],
          [
           "gcpze"
          ],
          [
           "gcpze"
          ],
          [
           "gcpze"
          ],
          [
           "gcpze"
          ],
          [
           "khadt"
          ],
          [
           "khadt"
          ],
          [
           "khadt"
          ],
          [
           "khadt"
          ],
          [
           "khadt"
          ],
          [
           "khadt"
          ],
          [
           "khadt"
          ],
          [
           "srjon"
          ],
          [
           "srjon"
          ],
          [
           "srjon"
          ],
          [
           "srjon"
          ],
          [
           "srjon"
          ],
          [
           "srjon"
          ],
          [
           "srjon"
          ],
          [
           "uzzpo"
          ],
          [
           "uzzpo"
          ],
          [
           "uzzpo"
          ],
          [
           "uzzpo"
          ],
          [
           "uzzpo"
          ],
          [
           "uzzpo"
          ],
          [
           "uzzpo"
          ],
          [
           "vsxld"
          ],
          [
           "vsxld"
          ],
          [
           "vsxld"
          ],
          [
           "vsxld"
          ],
          [
           "vsxld"
          ],
          [
           "vsxld"
          ],
          [
           "vsxld"
          ],
          [
           "krahz"
          ],
          [
           "krahz"
          ],
          [
           "krahz"
          ],
          [
           "krahz"
          ],
          [
           "krahz"
          ],
          [
           "krahz"
          ],
          [
           "krahz"
          ],
          [
           "rdiaf"
          ],
          [
           "rdiaf"
          ],
          [
           "rdiaf"
          ],
          [
           "rdiaf"
          ],
          [
           "rdiaf"
          ],
          [
           "rdiaf"
          ],
          [
           "rdiaf"
          ],
          [
           "pygoc"
          ],
          [
           "pygoc"
          ],
          [
           "pygoc"
          ],
          [
           "pygoc"
          ],
          [
           "pygoc"
          ],
          [
           "pygoc"
          ],
          [
           "pygoc"
          ],
          [
           "asopk"
          ],
          [
           "asopk"
          ],
          [
           "asopk"
          ],
          [
           "asopk"
          ],
          [
           "asopk"
          ],
          [
           "asopk"
          ],
          [
           "asopk"
          ],
          [
           "onyep"
          ],
          [
           "onyep"
          ],
          [
           "onyep"
          ],
          [
           "onyep"
          ],
          [
           "onyep"
          ],
          [
           "onyep"
          ],
          [
           "onyep"
          ],
          [
           "kkoif"
          ],
          [
           "kkoif"
          ],
          [
           "kkoif"
          ],
          [
           "kkoif"
          ],
          [
           "kkoif"
          ],
          [
           "kkoif"
          ],
          [
           "kkoif"
          ],
          [
           "oahey"
          ],
          [
           "oahey"
          ],
          [
           "oahey"
          ],
          [
           "oahey"
          ],
          [
           "oahey"
          ],
          [
           "oahey"
          ],
          [
           "oahey"
          ],
          [
           "cmbfi"
          ],
          [
           "cmbfi"
          ],
          [
           "cmbfi"
          ],
          [
           "cmbfi"
          ],
          [
           "cmbfi"
          ],
          [
           "cmbfi"
          ],
          [
           "cmbfi"
          ],
          [
           "bhyhw"
          ],
          [
           "bhyhw"
          ],
          [
           "bhyhw"
          ],
          [
           "bhyhw"
          ],
          [
           "bhyhw"
          ],
          [
           "bhyhw"
          ],
          [
           "bhyhw"
          ],
          [
           "dunul"
          ],
          [
           "dunul"
          ],
          [
           "dunul"
          ],
          [
           "dunul"
          ],
          [
           "dunul"
          ],
          [
           "dunul"
          ],
          [
           "dunul"
          ],
          [
           "dwqwi"
          ],
          [
           "dwqwi"
          ],
          [
           "dwqwi"
          ],
          [
           "dwqwi"
          ],
          [
           "dwqwi"
          ],
          [
           "dwqwi"
          ],
          [
           "dwqwi"
          ],
          [
           "wjaxi"
          ],
          [
           "wjaxi"
          ],
          [
           "wjaxi"
          ],
          [
           "wjaxi"
          ],
          [
           "wjaxi"
          ],
          [
           "wjaxi"
          ],
          [
           "wjaxi"
          ],
          [
           "qfsdj"
          ],
          [
           "qfsdj"
          ],
          [
           "qfsdj"
          ],
          [
           "qfsdj"
          ],
          [
           "qfsdj"
          ],
          [
           "qfsdj"
          ],
          [
           "qfsdj"
          ],
          [
           "atlzs"
          ],
          [
           "atlzs"
          ],
          [
           "atlzs"
          ],
          [
           "atlzs"
          ],
          [
           "atlzs"
          ],
          [
           "atlzs"
          ],
          [
           "atlzs"
          ],
          [
           "ngavz"
          ],
          [
           "ngavz"
          ],
          [
           "ngavz"
          ],
          [
           "ngavz"
          ],
          [
           "ngavz"
          ],
          [
           "ngavz"
          ],
          [
           "ngavz"
          ],
          [
           "tqgyp"
          ],
          [
           "tqgyp"
          ],
          [
           "tqgyp"
          ],
          [
           "tqgyp"
          ],
          [
           "tqgyp"
          ],
          [
           "tqgyp"
          ],
          [
           "tqgyp"
          ],
          [
           "zdnso"
          ],
          [
           "zdnso"
          ],
          [
           "zdnso"
          ],
          [
           "zdnso"
          ],
          [
           "zdnso"
          ],
          [
           "zdnso"
          ],
          [
           "zdnso"
          ],
          [
           "mgaak"
          ],
          [
           "mgaak"
          ],
          [
           "mgaak"
          ],
          [
           "mgaak"
          ],
          [
           "mgaak"
          ],
          [
           "mgaak"
          ],
          [
           "mgaak"
          ],
          [
           "qgcgc"
          ],
          [
           "qgcgc"
          ],
          [
           "qgcgc"
          ],
          [
           "qgcgc"
          ],
          [
           "qgcgc"
          ],
          [
           "qgcgc"
          ],
          [
           "qgcgc"
          ],
          [
           "pqwaf"
          ],
          [
           "pqwaf"
          ],
          [
           "pqwaf"
          ],
          [
           "pqwaf"
          ],
          [
           "pqwaf"
          ],
          [
           "pqwaf"
          ],
          [
           "pqwaf"
          ],
          [
           "fbldj"
          ],
          [
           "fbldj"
          ],
          [
           "fbldj"
          ],
          [
           "fbldj"
          ],
          [
           "fbldj"
          ],
          [
           "fbldj"
          ],
          [
           "fbldj"
          ],
          [
           "xbmmw"
          ],
          [
           "xbmmw"
          ],
          [
           "xbmmw"
          ],
          [
           "xbmmw"
          ],
          [
           "xbmmw"
          ],
          [
           "xbmmw"
          ],
          [
           "xbmmw"
          ],
          [
           "pleui"
          ],
          [
           "pleui"
          ],
          [
           "pleui"
          ],
          [
           "pleui"
          ],
          [
           "pleui"
          ],
          [
           "pleui"
          ],
          [
           "pleui"
          ]
         ],
         "hovertemplate": "index=%{x}<br>value=%{y}<br>player=%{customdata[0]}<extra></extra>",
         "legendgroup": "",
         "marker": {
          "color": "#636efa"
         },
         "name": "",
         "notched": false,
         "offsetgroup": "",
         "orientation": "v",
         "showlegend": false,
         "type": "box",
         "x": [
          "basic_operators_1",
          "basic_operators_2",
          "basic_operators_3",
          "basic_operators_4",
          "basic_operators_5",
          "basic_operators_6",
          "basic_operators_7",
          "basic_operators_1",
          "basic_operators_2",
          "basic_operators_3",
          "basic_operators_4",
          "basic_operators_5",
          "basic_operators_6",
          "basic_operators_7",
          "basic_operators_1",
          "basic_operators_2",
          "basic_operators_3",
          "basic_operators_4",
          "basic_operators_5",
          "basic_operators_6",
          "basic_operators_7",
          "basic_operators_1",
          "basic_operators_2",
          "basic_operators_3",
          "basic_operators_4",
          "basic_operators_5",
          "basic_operators_6",
          "basic_operators_7",
          "basic_operators_1",
          "basic_operators_2",
          "basic_operators_3",
          "basic_operators_4",
          "basic_operators_5",
          "basic_operators_6",
          "basic_operators_7",
          "basic_operators_1",
          "basic_operators_2",
          "basic_operators_3",
          "basic_operators_4",
          "basic_operators_5",
          "basic_operators_6",
          "basic_operators_7",
          "basic_operators_1",
          "basic_operators_2",
          "basic_operators_3",
          "basic_operators_4",
          "basic_operators_5",
          "basic_operators_6",
          "basic_operators_7",
          "basic_operators_1",
          "basic_operators_2",
          "basic_operators_3",
          "basic_operators_4",
          "basic_operators_5",
          "basic_operators_6",
          "basic_operators_7",
          "basic_operators_1",
          "basic_operators_2",
          "basic_operators_3",
          "basic_operators_4",
          "basic_operators_5",
          "basic_operators_6",
          "basic_operators_7",
          "basic_operators_1",
          "basic_operators_2",
          "basic_operators_3",
          "basic_operators_4",
          "basic_operators_5",
          "basic_operators_6",
          "basic_operators_7",
          "basic_operators_1",
          "basic_operators_2",
          "basic_operators_3",
          "basic_operators_4",
          "basic_operators_5",
          "basic_operators_6",
          "basic_operators_7",
          "basic_operators_1",
          "basic_operators_2",
          "basic_operators_3",
          "basic_operators_4",
          "basic_operators_5",
          "basic_operators_6",
          "basic_operators_7",
          "basic_operators_1",
          "basic_operators_2",
          "basic_operators_3",
          "basic_operators_4",
          "basic_operators_5",
          "basic_operators_6",
          "basic_operators_7",
          "basic_operators_1",
          "basic_operators_2",
          "basic_operators_3",
          "basic_operators_4",
          "basic_operators_5",
          "basic_operators_6",
          "basic_operators_7",
          "basic_operators_1",
          "basic_operators_2",
          "basic_operators_3",
          "basic_operators_4",
          "basic_operators_5",
          "basic_operators_6",
          "basic_operators_7",
          "basic_operators_1",
          "basic_operators_2",
          "basic_operators_3",
          "basic_operators_4",
          "basic_operators_5",
          "basic_operators_6",
          "basic_operators_7",
          "basic_operators_1",
          "basic_operators_2",
          "basic_operators_3",
          "basic_operators_4",
          "basic_operators_5",
          "basic_operators_6",
          "basic_operators_7",
          "basic_operators_1",
          "basic_operators_2",
          "basic_operators_3",
          "basic_operators_4",
          "basic_operators_5",
          "basic_operators_6",
          "basic_operators_7",
          "basic_operators_1",
          "basic_operators_2",
          "basic_operators_3",
          "basic_operators_4",
          "basic_operators_5",
          "basic_operators_6",
          "basic_operators_7",
          "basic_operators_1",
          "basic_operators_2",
          "basic_operators_3",
          "basic_operators_4",
          "basic_operators_5",
          "basic_operators_6",
          "basic_operators_7",
          "basic_operators_1",
          "basic_operators_2",
          "basic_operators_3",
          "basic_operators_4",
          "basic_operators_5",
          "basic_operators_6",
          "basic_operators_7",
          "basic_operators_1",
          "basic_operators_2",
          "basic_operators_3",
          "basic_operators_4",
          "basic_operators_5",
          "basic_operators_6",
          "basic_operators_7",
          "basic_operators_1",
          "basic_operators_2",
          "basic_operators_3",
          "basic_operators_4",
          "basic_operators_5",
          "basic_operators_6",
          "basic_operators_7",
          "basic_operators_1",
          "basic_operators_2",
          "basic_operators_3",
          "basic_operators_4",
          "basic_operators_5",
          "basic_operators_6",
          "basic_operators_7",
          "basic_operators_1",
          "basic_operators_2",
          "basic_operators_3",
          "basic_operators_4",
          "basic_operators_5",
          "basic_operators_6",
          "basic_operators_7",
          "basic_operators_1",
          "basic_operators_2",
          "basic_operators_3",
          "basic_operators_4",
          "basic_operators_5",
          "basic_operators_6",
          "basic_operators_7",
          "basic_operators_1",
          "basic_operators_2",
          "basic_operators_3",
          "basic_operators_4",
          "basic_operators_5",
          "basic_operators_6",
          "basic_operators_7",
          "basic_operators_1",
          "basic_operators_2",
          "basic_operators_3",
          "basic_operators_4",
          "basic_operators_5",
          "basic_operators_6",
          "basic_operators_7",
          "basic_operators_1",
          "basic_operators_2",
          "basic_operators_3",
          "basic_operators_4",
          "basic_operators_5",
          "basic_operators_6",
          "basic_operators_7",
          "basic_operators_1",
          "basic_operators_2",
          "basic_operators_3",
          "basic_operators_4",
          "basic_operators_5",
          "basic_operators_6",
          "basic_operators_7",
          "basic_operators_1",
          "basic_operators_2",
          "basic_operators_3",
          "basic_operators_4",
          "basic_operators_5",
          "basic_operators_6",
          "basic_operators_7"
         ],
         "x0": " ",
         "xaxis": "x",
         "y": [
          1,
          2,
          2,
          1,
          3,
          2,
          1,
          2,
          1,
          2,
          1,
          2,
          2,
          2,
          1,
          1,
          null,
          null,
          null,
          null,
          null,
          1,
          3,
          1,
          1,
          2,
          1,
          1,
          1,
          2,
          null,
          null,
          null,
          null,
          null,
          1,
          3,
          null,
          null,
          null,
          null,
          null,
          1,
          4,
          null,
          null,
          null,
          null,
          null,
          1,
          null,
          null,
          null,
          null,
          null,
          null,
          1,
          1,
          null,
          null,
          null,
          null,
          null,
          1,
          6,
          9,
          null,
          null,
          null,
          null,
          1,
          2,
          4,
          2,
          1,
          null,
          null,
          1,
          3,
          3,
          6,
          1,
          1,
          2,
          1,
          13,
          null,
          null,
          null,
          null,
          null,
          1,
          1,
          3,
          null,
          null,
          null,
          null,
          1,
          4,
          3,
          3,
          null,
          null,
          null,
          1,
          3,
          4,
          1,
          2,
          2,
          null,
          1,
          4,
          3,
          null,
          null,
          null,
          null,
          1,
          1,
          6,
          2,
          null,
          null,
          null,
          1,
          3,
          null,
          null,
          null,
          null,
          null,
          1,
          1,
          null,
          null,
          null,
          null,
          null,
          1,
          1,
          2,
          2,
          null,
          null,
          null,
          1,
          null,
          null,
          null,
          null,
          null,
          null,
          1,
          7,
          3,
          3,
          1,
          4,
          2,
          1,
          7,
          3,
          14,
          null,
          null,
          null,
          1,
          4,
          null,
          null,
          null,
          null,
          null,
          1,
          3,
          1,
          1,
          1,
          1,
          1,
          1,
          7,
          null,
          null,
          null,
          null,
          null,
          1,
          1,
          1,
          null,
          null,
          null,
          null,
          1,
          3,
          null,
          null,
          null,
          null,
          null,
          1,
          4,
          null,
          null,
          null,
          null,
          null,
          1,
          3,
          null,
          null,
          null,
          null,
          null
         ],
         "y0": " ",
         "yaxis": "y"
        }
       ],
       "layout": {
        "boxmode": "group",
        "legend": {
         "tracegroupgap": 0
        },
        "margin": {
         "t": 60
        },
        "template": {
         "data": {
          "bar": [
           {
            "error_x": {
             "color": "#2a3f5f"
            },
            "error_y": {
             "color": "#2a3f5f"
            },
            "marker": {
             "line": {
              "color": "#E5ECF6",
              "width": 0.5
             },
             "pattern": {
              "fillmode": "overlay",
              "size": 10,
              "solidity": 0.2
             }
            },
            "type": "bar"
           }
          ],
          "barpolar": [
           {
            "marker": {
             "line": {
              "color": "#E5ECF6",
              "width": 0.5
             },
             "pattern": {
              "fillmode": "overlay",
              "size": 10,
              "solidity": 0.2
             }
            },
            "type": "barpolar"
           }
          ],
          "carpet": [
           {
            "aaxis": {
             "endlinecolor": "#2a3f5f",
             "gridcolor": "white",
             "linecolor": "white",
             "minorgridcolor": "white",
             "startlinecolor": "#2a3f5f"
            },
            "baxis": {
             "endlinecolor": "#2a3f5f",
             "gridcolor": "white",
             "linecolor": "white",
             "minorgridcolor": "white",
             "startlinecolor": "#2a3f5f"
            },
            "type": "carpet"
           }
          ],
          "choropleth": [
           {
            "colorbar": {
             "outlinewidth": 0,
             "ticks": ""
            },
            "type": "choropleth"
           }
          ],
          "contour": [
           {
            "colorbar": {
             "outlinewidth": 0,
             "ticks": ""
            },
            "colorscale": [
             [
              0,
              "#0d0887"
             ],
             [
              0.1111111111111111,
              "#46039f"
             ],
             [
              0.2222222222222222,
              "#7201a8"
             ],
             [
              0.3333333333333333,
              "#9c179e"
             ],
             [
              0.4444444444444444,
              "#bd3786"
             ],
             [
              0.5555555555555556,
              "#d8576b"
             ],
             [
              0.6666666666666666,
              "#ed7953"
             ],
             [
              0.7777777777777778,
              "#fb9f3a"
             ],
             [
              0.8888888888888888,
              "#fdca26"
             ],
             [
              1,
              "#f0f921"
             ]
            ],
            "type": "contour"
           }
          ],
          "contourcarpet": [
           {
            "colorbar": {
             "outlinewidth": 0,
             "ticks": ""
            },
            "type": "contourcarpet"
           }
          ],
          "heatmap": [
           {
            "colorbar": {
             "outlinewidth": 0,
             "ticks": ""
            },
            "colorscale": [
             [
              0,
              "#0d0887"
             ],
             [
              0.1111111111111111,
              "#46039f"
             ],
             [
              0.2222222222222222,
              "#7201a8"
             ],
             [
              0.3333333333333333,
              "#9c179e"
             ],
             [
              0.4444444444444444,
              "#bd3786"
             ],
             [
              0.5555555555555556,
              "#d8576b"
             ],
             [
              0.6666666666666666,
              "#ed7953"
             ],
             [
              0.7777777777777778,
              "#fb9f3a"
             ],
             [
              0.8888888888888888,
              "#fdca26"
             ],
             [
              1,
              "#f0f921"
             ]
            ],
            "type": "heatmap"
           }
          ],
          "heatmapgl": [
           {
            "colorbar": {
             "outlinewidth": 0,
             "ticks": ""
            },
            "colorscale": [
             [
              0,
              "#0d0887"
             ],
             [
              0.1111111111111111,
              "#46039f"
             ],
             [
              0.2222222222222222,
              "#7201a8"
             ],
             [
              0.3333333333333333,
              "#9c179e"
             ],
             [
              0.4444444444444444,
              "#bd3786"
             ],
             [
              0.5555555555555556,
              "#d8576b"
             ],
             [
              0.6666666666666666,
              "#ed7953"
             ],
             [
              0.7777777777777778,
              "#fb9f3a"
             ],
             [
              0.8888888888888888,
              "#fdca26"
             ],
             [
              1,
              "#f0f921"
             ]
            ],
            "type": "heatmapgl"
           }
          ],
          "histogram": [
           {
            "marker": {
             "pattern": {
              "fillmode": "overlay",
              "size": 10,
              "solidity": 0.2
             }
            },
            "type": "histogram"
           }
          ],
          "histogram2d": [
           {
            "colorbar": {
             "outlinewidth": 0,
             "ticks": ""
            },
            "colorscale": [
             [
              0,
              "#0d0887"
             ],
             [
              0.1111111111111111,
              "#46039f"
             ],
             [
              0.2222222222222222,
              "#7201a8"
             ],
             [
              0.3333333333333333,
              "#9c179e"
             ],
             [
              0.4444444444444444,
              "#bd3786"
             ],
             [
              0.5555555555555556,
              "#d8576b"
             ],
             [
              0.6666666666666666,
              "#ed7953"
             ],
             [
              0.7777777777777778,
              "#fb9f3a"
             ],
             [
              0.8888888888888888,
              "#fdca26"
             ],
             [
              1,
              "#f0f921"
             ]
            ],
            "type": "histogram2d"
           }
          ],
          "histogram2dcontour": [
           {
            "colorbar": {
             "outlinewidth": 0,
             "ticks": ""
            },
            "colorscale": [
             [
              0,
              "#0d0887"
             ],
             [
              0.1111111111111111,
              "#46039f"
             ],
             [
              0.2222222222222222,
              "#7201a8"
             ],
             [
              0.3333333333333333,
              "#9c179e"
             ],
             [
              0.4444444444444444,
              "#bd3786"
             ],
             [
              0.5555555555555556,
              "#d8576b"
             ],
             [
              0.6666666666666666,
              "#ed7953"
             ],
             [
              0.7777777777777778,
              "#fb9f3a"
             ],
             [
              0.8888888888888888,
              "#fdca26"
             ],
             [
              1,
              "#f0f921"
             ]
            ],
            "type": "histogram2dcontour"
           }
          ],
          "mesh3d": [
           {
            "colorbar": {
             "outlinewidth": 0,
             "ticks": ""
            },
            "type": "mesh3d"
           }
          ],
          "parcoords": [
           {
            "line": {
             "colorbar": {
              "outlinewidth": 0,
              "ticks": ""
             }
            },
            "type": "parcoords"
           }
          ],
          "pie": [
           {
            "automargin": true,
            "type": "pie"
           }
          ],
          "scatter": [
           {
            "fillpattern": {
             "fillmode": "overlay",
             "size": 10,
             "solidity": 0.2
            },
            "type": "scatter"
           }
          ],
          "scatter3d": [
           {
            "line": {
             "colorbar": {
              "outlinewidth": 0,
              "ticks": ""
             }
            },
            "marker": {
             "colorbar": {
              "outlinewidth": 0,
              "ticks": ""
             }
            },
            "type": "scatter3d"
           }
          ],
          "scattercarpet": [
           {
            "marker": {
             "colorbar": {
              "outlinewidth": 0,
              "ticks": ""
             }
            },
            "type": "scattercarpet"
           }
          ],
          "scattergeo": [
           {
            "marker": {
             "colorbar": {
              "outlinewidth": 0,
              "ticks": ""
             }
            },
            "type": "scattergeo"
           }
          ],
          "scattergl": [
           {
            "marker": {
             "colorbar": {
              "outlinewidth": 0,
              "ticks": ""
             }
            },
            "type": "scattergl"
           }
          ],
          "scattermapbox": [
           {
            "marker": {
             "colorbar": {
              "outlinewidth": 0,
              "ticks": ""
             }
            },
            "type": "scattermapbox"
           }
          ],
          "scatterpolar": [
           {
            "marker": {
             "colorbar": {
              "outlinewidth": 0,
              "ticks": ""
             }
            },
            "type": "scatterpolar"
           }
          ],
          "scatterpolargl": [
           {
            "marker": {
             "colorbar": {
              "outlinewidth": 0,
              "ticks": ""
             }
            },
            "type": "scatterpolargl"
           }
          ],
          "scatterternary": [
           {
            "marker": {
             "colorbar": {
              "outlinewidth": 0,
              "ticks": ""
             }
            },
            "type": "scatterternary"
           }
          ],
          "surface": [
           {
            "colorbar": {
             "outlinewidth": 0,
             "ticks": ""
            },
            "colorscale": [
             [
              0,
              "#0d0887"
             ],
             [
              0.1111111111111111,
              "#46039f"
             ],
             [
              0.2222222222222222,
              "#7201a8"
             ],
             [
              0.3333333333333333,
              "#9c179e"
             ],
             [
              0.4444444444444444,
              "#bd3786"
             ],
             [
              0.5555555555555556,
              "#d8576b"
             ],
             [
              0.6666666666666666,
              "#ed7953"
             ],
             [
              0.7777777777777778,
              "#fb9f3a"
             ],
             [
              0.8888888888888888,
              "#fdca26"
             ],
             [
              1,
              "#f0f921"
             ]
            ],
            "type": "surface"
           }
          ],
          "table": [
           {
            "cells": {
             "fill": {
              "color": "#EBF0F8"
             },
             "line": {
              "color": "white"
             }
            },
            "header": {
             "fill": {
              "color": "#C8D4E3"
             },
             "line": {
              "color": "white"
             }
            },
            "type": "table"
           }
          ]
         },
         "layout": {
          "annotationdefaults": {
           "arrowcolor": "#2a3f5f",
           "arrowhead": 0,
           "arrowwidth": 1
          },
          "autotypenumbers": "strict",
          "coloraxis": {
           "colorbar": {
            "outlinewidth": 0,
            "ticks": ""
           }
          },
          "colorscale": {
           "diverging": [
            [
             0,
             "#8e0152"
            ],
            [
             0.1,
             "#c51b7d"
            ],
            [
             0.2,
             "#de77ae"
            ],
            [
             0.3,
             "#f1b6da"
            ],
            [
             0.4,
             "#fde0ef"
            ],
            [
             0.5,
             "#f7f7f7"
            ],
            [
             0.6,
             "#e6f5d0"
            ],
            [
             0.7,
             "#b8e186"
            ],
            [
             0.8,
             "#7fbc41"
            ],
            [
             0.9,
             "#4d9221"
            ],
            [
             1,
             "#276419"
            ]
           ],
           "sequential": [
            [
             0,
             "#0d0887"
            ],
            [
             0.1111111111111111,
             "#46039f"
            ],
            [
             0.2222222222222222,
             "#7201a8"
            ],
            [
             0.3333333333333333,
             "#9c179e"
            ],
            [
             0.4444444444444444,
             "#bd3786"
            ],
            [
             0.5555555555555556,
             "#d8576b"
            ],
            [
             0.6666666666666666,
             "#ed7953"
            ],
            [
             0.7777777777777778,
             "#fb9f3a"
            ],
            [
             0.8888888888888888,
             "#fdca26"
            ],
            [
             1,
             "#f0f921"
            ]
           ],
           "sequentialminus": [
            [
             0,
             "#0d0887"
            ],
            [
             0.1111111111111111,
             "#46039f"
            ],
            [
             0.2222222222222222,
             "#7201a8"
            ],
            [
             0.3333333333333333,
             "#9c179e"
            ],
            [
             0.4444444444444444,
             "#bd3786"
            ],
            [
             0.5555555555555556,
             "#d8576b"
            ],
            [
             0.6666666666666666,
             "#ed7953"
            ],
            [
             0.7777777777777778,
             "#fb9f3a"
            ],
            [
             0.8888888888888888,
             "#fdca26"
            ],
            [
             1,
             "#f0f921"
            ]
           ]
          },
          "colorway": [
           "#636efa",
           "#EF553B",
           "#00cc96",
           "#ab63fa",
           "#FFA15A",
           "#19d3f3",
           "#FF6692",
           "#B6E880",
           "#FF97FF",
           "#FECB52"
          ],
          "font": {
           "color": "#2a3f5f"
          },
          "geo": {
           "bgcolor": "white",
           "lakecolor": "white",
           "landcolor": "#E5ECF6",
           "showlakes": true,
           "showland": true,
           "subunitcolor": "white"
          },
          "hoverlabel": {
           "align": "left"
          },
          "hovermode": "closest",
          "mapbox": {
           "style": "light"
          },
          "paper_bgcolor": "white",
          "plot_bgcolor": "#E5ECF6",
          "polar": {
           "angularaxis": {
            "gridcolor": "white",
            "linecolor": "white",
            "ticks": ""
           },
           "bgcolor": "#E5ECF6",
           "radialaxis": {
            "gridcolor": "white",
            "linecolor": "white",
            "ticks": ""
           }
          },
          "scene": {
           "xaxis": {
            "backgroundcolor": "#E5ECF6",
            "gridcolor": "white",
            "gridwidth": 2,
            "linecolor": "white",
            "showbackground": true,
            "ticks": "",
            "zerolinecolor": "white"
           },
           "yaxis": {
            "backgroundcolor": "#E5ECF6",
            "gridcolor": "white",
            "gridwidth": 2,
            "linecolor": "white",
            "showbackground": true,
            "ticks": "",
            "zerolinecolor": "white"
           },
           "zaxis": {
            "backgroundcolor": "#E5ECF6",
            "gridcolor": "white",
            "gridwidth": 2,
            "linecolor": "white",
            "showbackground": true,
            "ticks": "",
            "zerolinecolor": "white"
           }
          },
          "shapedefaults": {
           "line": {
            "color": "#2a3f5f"
           }
          },
          "ternary": {
           "aaxis": {
            "gridcolor": "white",
            "linecolor": "white",
            "ticks": ""
           },
           "baxis": {
            "gridcolor": "white",
            "linecolor": "white",
            "ticks": ""
           },
           "bgcolor": "#E5ECF6",
           "caxis": {
            "gridcolor": "white",
            "linecolor": "white",
            "ticks": ""
           }
          },
          "title": {
           "x": 0.05
          },
          "xaxis": {
           "automargin": true,
           "gridcolor": "white",
           "linecolor": "white",
           "ticks": "",
           "title": {
            "standoff": 15
           },
           "zerolinecolor": "white",
           "zerolinewidth": 2
          },
          "yaxis": {
           "automargin": true,
           "gridcolor": "white",
           "linecolor": "white",
           "ticks": "",
           "title": {
            "standoff": 15
           },
           "zerolinecolor": "white",
           "zerolinewidth": 2
          }
         }
        },
        "xaxis": {
         "anchor": "y",
         "domain": [
          0,
          1
         ],
         "title": {
          "text": "index"
         }
        },
        "yaxis": {
         "anchor": "x",
         "domain": [
          0,
          1
         ],
         "title": {
          "text": "value"
         }
        }
       }
      }
     },
     "metadata": {},
     "output_type": "display_data"
    },
    {
     "data": {
      "application/vnd.plotly.v1+json": {
       "config": {
        "plotlyServerURL": "https://plot.ly"
       },
       "data": [
        {
         "alignmentgroup": "True",
         "customdata": [
          [
           "eprdu"
          ],
          [
           "eprdu"
          ],
          [
           "eprdu"
          ],
          [
           "ftpnb"
          ],
          [
           "ftpnb"
          ],
          [
           "ftpnb"
          ],
          [
           "gcpze"
          ],
          [
           "gcpze"
          ],
          [
           "gcpze"
          ],
          [
           "asopk"
          ],
          [
           "asopk"
          ],
          [
           "asopk"
          ],
          [
           "ngavz"
          ],
          [
           "ngavz"
          ],
          [
           "ngavz"
          ],
          [
           "mgaak"
          ],
          [
           "mgaak"
          ],
          [
           "mgaak"
          ]
         ],
         "hovertemplate": "index=%{x}<br>value=%{y}<br>player=%{customdata[0]}<extra></extra>",
         "legendgroup": "",
         "marker": {
          "color": "#636efa"
         },
         "name": "",
         "notched": false,
         "offsetgroup": "",
         "orientation": "v",
         "showlegend": false,
         "type": "box",
         "x": [
          "loops_1",
          "loops_2",
          "loops_3",
          "loops_1",
          "loops_2",
          "loops_3",
          "loops_1",
          "loops_2",
          "loops_3",
          "loops_1",
          "loops_2",
          "loops_3",
          "loops_1",
          "loops_2",
          "loops_3",
          "loops_1",
          "loops_2",
          "loops_3"
         ],
         "x0": " ",
         "xaxis": "x",
         "y": [
          1,
          2,
          3,
          1,
          1,
          1,
          2,
          1,
          1,
          2,
          1,
          2,
          2,
          1,
          1,
          1,
          1,
          2
         ],
         "y0": " ",
         "yaxis": "y"
        }
       ],
       "layout": {
        "boxmode": "group",
        "legend": {
         "tracegroupgap": 0
        },
        "margin": {
         "t": 60
        },
        "template": {
         "data": {
          "bar": [
           {
            "error_x": {
             "color": "#2a3f5f"
            },
            "error_y": {
             "color": "#2a3f5f"
            },
            "marker": {
             "line": {
              "color": "#E5ECF6",
              "width": 0.5
             },
             "pattern": {
              "fillmode": "overlay",
              "size": 10,
              "solidity": 0.2
             }
            },
            "type": "bar"
           }
          ],
          "barpolar": [
           {
            "marker": {
             "line": {
              "color": "#E5ECF6",
              "width": 0.5
             },
             "pattern": {
              "fillmode": "overlay",
              "size": 10,
              "solidity": 0.2
             }
            },
            "type": "barpolar"
           }
          ],
          "carpet": [
           {
            "aaxis": {
             "endlinecolor": "#2a3f5f",
             "gridcolor": "white",
             "linecolor": "white",
             "minorgridcolor": "white",
             "startlinecolor": "#2a3f5f"
            },
            "baxis": {
             "endlinecolor": "#2a3f5f",
             "gridcolor": "white",
             "linecolor": "white",
             "minorgridcolor": "white",
             "startlinecolor": "#2a3f5f"
            },
            "type": "carpet"
           }
          ],
          "choropleth": [
           {
            "colorbar": {
             "outlinewidth": 0,
             "ticks": ""
            },
            "type": "choropleth"
           }
          ],
          "contour": [
           {
            "colorbar": {
             "outlinewidth": 0,
             "ticks": ""
            },
            "colorscale": [
             [
              0,
              "#0d0887"
             ],
             [
              0.1111111111111111,
              "#46039f"
             ],
             [
              0.2222222222222222,
              "#7201a8"
             ],
             [
              0.3333333333333333,
              "#9c179e"
             ],
             [
              0.4444444444444444,
              "#bd3786"
             ],
             [
              0.5555555555555556,
              "#d8576b"
             ],
             [
              0.6666666666666666,
              "#ed7953"
             ],
             [
              0.7777777777777778,
              "#fb9f3a"
             ],
             [
              0.8888888888888888,
              "#fdca26"
             ],
             [
              1,
              "#f0f921"
             ]
            ],
            "type": "contour"
           }
          ],
          "contourcarpet": [
           {
            "colorbar": {
             "outlinewidth": 0,
             "ticks": ""
            },
            "type": "contourcarpet"
           }
          ],
          "heatmap": [
           {
            "colorbar": {
             "outlinewidth": 0,
             "ticks": ""
            },
            "colorscale": [
             [
              0,
              "#0d0887"
             ],
             [
              0.1111111111111111,
              "#46039f"
             ],
             [
              0.2222222222222222,
              "#7201a8"
             ],
             [
              0.3333333333333333,
              "#9c179e"
             ],
             [
              0.4444444444444444,
              "#bd3786"
             ],
             [
              0.5555555555555556,
              "#d8576b"
             ],
             [
              0.6666666666666666,
              "#ed7953"
             ],
             [
              0.7777777777777778,
              "#fb9f3a"
             ],
             [
              0.8888888888888888,
              "#fdca26"
             ],
             [
              1,
              "#f0f921"
             ]
            ],
            "type": "heatmap"
           }
          ],
          "heatmapgl": [
           {
            "colorbar": {
             "outlinewidth": 0,
             "ticks": ""
            },
            "colorscale": [
             [
              0,
              "#0d0887"
             ],
             [
              0.1111111111111111,
              "#46039f"
             ],
             [
              0.2222222222222222,
              "#7201a8"
             ],
             [
              0.3333333333333333,
              "#9c179e"
             ],
             [
              0.4444444444444444,
              "#bd3786"
             ],
             [
              0.5555555555555556,
              "#d8576b"
             ],
             [
              0.6666666666666666,
              "#ed7953"
             ],
             [
              0.7777777777777778,
              "#fb9f3a"
             ],
             [
              0.8888888888888888,
              "#fdca26"
             ],
             [
              1,
              "#f0f921"
             ]
            ],
            "type": "heatmapgl"
           }
          ],
          "histogram": [
           {
            "marker": {
             "pattern": {
              "fillmode": "overlay",
              "size": 10,
              "solidity": 0.2
             }
            },
            "type": "histogram"
           }
          ],
          "histogram2d": [
           {
            "colorbar": {
             "outlinewidth": 0,
             "ticks": ""
            },
            "colorscale": [
             [
              0,
              "#0d0887"
             ],
             [
              0.1111111111111111,
              "#46039f"
             ],
             [
              0.2222222222222222,
              "#7201a8"
             ],
             [
              0.3333333333333333,
              "#9c179e"
             ],
             [
              0.4444444444444444,
              "#bd3786"
             ],
             [
              0.5555555555555556,
              "#d8576b"
             ],
             [
              0.6666666666666666,
              "#ed7953"
             ],
             [
              0.7777777777777778,
              "#fb9f3a"
             ],
             [
              0.8888888888888888,
              "#fdca26"
             ],
             [
              1,
              "#f0f921"
             ]
            ],
            "type": "histogram2d"
           }
          ],
          "histogram2dcontour": [
           {
            "colorbar": {
             "outlinewidth": 0,
             "ticks": ""
            },
            "colorscale": [
             [
              0,
              "#0d0887"
             ],
             [
              0.1111111111111111,
              "#46039f"
             ],
             [
              0.2222222222222222,
              "#7201a8"
             ],
             [
              0.3333333333333333,
              "#9c179e"
             ],
             [
              0.4444444444444444,
              "#bd3786"
             ],
             [
              0.5555555555555556,
              "#d8576b"
             ],
             [
              0.6666666666666666,
              "#ed7953"
             ],
             [
              0.7777777777777778,
              "#fb9f3a"
             ],
             [
              0.8888888888888888,
              "#fdca26"
             ],
             [
              1,
              "#f0f921"
             ]
            ],
            "type": "histogram2dcontour"
           }
          ],
          "mesh3d": [
           {
            "colorbar": {
             "outlinewidth": 0,
             "ticks": ""
            },
            "type": "mesh3d"
           }
          ],
          "parcoords": [
           {
            "line": {
             "colorbar": {
              "outlinewidth": 0,
              "ticks": ""
             }
            },
            "type": "parcoords"
           }
          ],
          "pie": [
           {
            "automargin": true,
            "type": "pie"
           }
          ],
          "scatter": [
           {
            "fillpattern": {
             "fillmode": "overlay",
             "size": 10,
             "solidity": 0.2
            },
            "type": "scatter"
           }
          ],
          "scatter3d": [
           {
            "line": {
             "colorbar": {
              "outlinewidth": 0,
              "ticks": ""
             }
            },
            "marker": {
             "colorbar": {
              "outlinewidth": 0,
              "ticks": ""
             }
            },
            "type": "scatter3d"
           }
          ],
          "scattercarpet": [
           {
            "marker": {
             "colorbar": {
              "outlinewidth": 0,
              "ticks": ""
             }
            },
            "type": "scattercarpet"
           }
          ],
          "scattergeo": [
           {
            "marker": {
             "colorbar": {
              "outlinewidth": 0,
              "ticks": ""
             }
            },
            "type": "scattergeo"
           }
          ],
          "scattergl": [
           {
            "marker": {
             "colorbar": {
              "outlinewidth": 0,
              "ticks": ""
             }
            },
            "type": "scattergl"
           }
          ],
          "scattermapbox": [
           {
            "marker": {
             "colorbar": {
              "outlinewidth": 0,
              "ticks": ""
             }
            },
            "type": "scattermapbox"
           }
          ],
          "scatterpolar": [
           {
            "marker": {
             "colorbar": {
              "outlinewidth": 0,
              "ticks": ""
             }
            },
            "type": "scatterpolar"
           }
          ],
          "scatterpolargl": [
           {
            "marker": {
             "colorbar": {
              "outlinewidth": 0,
              "ticks": ""
             }
            },
            "type": "scatterpolargl"
           }
          ],
          "scatterternary": [
           {
            "marker": {
             "colorbar": {
              "outlinewidth": 0,
              "ticks": ""
             }
            },
            "type": "scatterternary"
           }
          ],
          "surface": [
           {
            "colorbar": {
             "outlinewidth": 0,
             "ticks": ""
            },
            "colorscale": [
             [
              0,
              "#0d0887"
             ],
             [
              0.1111111111111111,
              "#46039f"
             ],
             [
              0.2222222222222222,
              "#7201a8"
             ],
             [
              0.3333333333333333,
              "#9c179e"
             ],
             [
              0.4444444444444444,
              "#bd3786"
             ],
             [
              0.5555555555555556,
              "#d8576b"
             ],
             [
              0.6666666666666666,
              "#ed7953"
             ],
             [
              0.7777777777777778,
              "#fb9f3a"
             ],
             [
              0.8888888888888888,
              "#fdca26"
             ],
             [
              1,
              "#f0f921"
             ]
            ],
            "type": "surface"
           }
          ],
          "table": [
           {
            "cells": {
             "fill": {
              "color": "#EBF0F8"
             },
             "line": {
              "color": "white"
             }
            },
            "header": {
             "fill": {
              "color": "#C8D4E3"
             },
             "line": {
              "color": "white"
             }
            },
            "type": "table"
           }
          ]
         },
         "layout": {
          "annotationdefaults": {
           "arrowcolor": "#2a3f5f",
           "arrowhead": 0,
           "arrowwidth": 1
          },
          "autotypenumbers": "strict",
          "coloraxis": {
           "colorbar": {
            "outlinewidth": 0,
            "ticks": ""
           }
          },
          "colorscale": {
           "diverging": [
            [
             0,
             "#8e0152"
            ],
            [
             0.1,
             "#c51b7d"
            ],
            [
             0.2,
             "#de77ae"
            ],
            [
             0.3,
             "#f1b6da"
            ],
            [
             0.4,
             "#fde0ef"
            ],
            [
             0.5,
             "#f7f7f7"
            ],
            [
             0.6,
             "#e6f5d0"
            ],
            [
             0.7,
             "#b8e186"
            ],
            [
             0.8,
             "#7fbc41"
            ],
            [
             0.9,
             "#4d9221"
            ],
            [
             1,
             "#276419"
            ]
           ],
           "sequential": [
            [
             0,
             "#0d0887"
            ],
            [
             0.1111111111111111,
             "#46039f"
            ],
            [
             0.2222222222222222,
             "#7201a8"
            ],
            [
             0.3333333333333333,
             "#9c179e"
            ],
            [
             0.4444444444444444,
             "#bd3786"
            ],
            [
             0.5555555555555556,
             "#d8576b"
            ],
            [
             0.6666666666666666,
             "#ed7953"
            ],
            [
             0.7777777777777778,
             "#fb9f3a"
            ],
            [
             0.8888888888888888,
             "#fdca26"
            ],
            [
             1,
             "#f0f921"
            ]
           ],
           "sequentialminus": [
            [
             0,
             "#0d0887"
            ],
            [
             0.1111111111111111,
             "#46039f"
            ],
            [
             0.2222222222222222,
             "#7201a8"
            ],
            [
             0.3333333333333333,
             "#9c179e"
            ],
            [
             0.4444444444444444,
             "#bd3786"
            ],
            [
             0.5555555555555556,
             "#d8576b"
            ],
            [
             0.6666666666666666,
             "#ed7953"
            ],
            [
             0.7777777777777778,
             "#fb9f3a"
            ],
            [
             0.8888888888888888,
             "#fdca26"
            ],
            [
             1,
             "#f0f921"
            ]
           ]
          },
          "colorway": [
           "#636efa",
           "#EF553B",
           "#00cc96",
           "#ab63fa",
           "#FFA15A",
           "#19d3f3",
           "#FF6692",
           "#B6E880",
           "#FF97FF",
           "#FECB52"
          ],
          "font": {
           "color": "#2a3f5f"
          },
          "geo": {
           "bgcolor": "white",
           "lakecolor": "white",
           "landcolor": "#E5ECF6",
           "showlakes": true,
           "showland": true,
           "subunitcolor": "white"
          },
          "hoverlabel": {
           "align": "left"
          },
          "hovermode": "closest",
          "mapbox": {
           "style": "light"
          },
          "paper_bgcolor": "white",
          "plot_bgcolor": "#E5ECF6",
          "polar": {
           "angularaxis": {
            "gridcolor": "white",
            "linecolor": "white",
            "ticks": ""
           },
           "bgcolor": "#E5ECF6",
           "radialaxis": {
            "gridcolor": "white",
            "linecolor": "white",
            "ticks": ""
           }
          },
          "scene": {
           "xaxis": {
            "backgroundcolor": "#E5ECF6",
            "gridcolor": "white",
            "gridwidth": 2,
            "linecolor": "white",
            "showbackground": true,
            "ticks": "",
            "zerolinecolor": "white"
           },
           "yaxis": {
            "backgroundcolor": "#E5ECF6",
            "gridcolor": "white",
            "gridwidth": 2,
            "linecolor": "white",
            "showbackground": true,
            "ticks": "",
            "zerolinecolor": "white"
           },
           "zaxis": {
            "backgroundcolor": "#E5ECF6",
            "gridcolor": "white",
            "gridwidth": 2,
            "linecolor": "white",
            "showbackground": true,
            "ticks": "",
            "zerolinecolor": "white"
           }
          },
          "shapedefaults": {
           "line": {
            "color": "#2a3f5f"
           }
          },
          "ternary": {
           "aaxis": {
            "gridcolor": "white",
            "linecolor": "white",
            "ticks": ""
           },
           "baxis": {
            "gridcolor": "white",
            "linecolor": "white",
            "ticks": ""
           },
           "bgcolor": "#E5ECF6",
           "caxis": {
            "gridcolor": "white",
            "linecolor": "white",
            "ticks": ""
           }
          },
          "title": {
           "x": 0.05
          },
          "xaxis": {
           "automargin": true,
           "gridcolor": "white",
           "linecolor": "white",
           "ticks": "",
           "title": {
            "standoff": 15
           },
           "zerolinecolor": "white",
           "zerolinewidth": 2
          },
          "yaxis": {
           "automargin": true,
           "gridcolor": "white",
           "linecolor": "white",
           "ticks": "",
           "title": {
            "standoff": 15
           },
           "zerolinecolor": "white",
           "zerolinewidth": 2
          }
         }
        },
        "xaxis": {
         "anchor": "y",
         "domain": [
          0,
          1
         ],
         "title": {
          "text": "index"
         }
        },
        "yaxis": {
         "anchor": "x",
         "domain": [
          0,
          1
         ],
         "title": {
          "text": "value"
         }
        }
       }
      }
     },
     "metadata": {},
     "output_type": "display_data"
    }
   ],
   "source": [
    "import plotly.express as px\n",
    "\n",
    "def create_boxplots3(data_dict):\n",
    "    categorias = defaultdict(defaultdict)\n",
    "    for d in data_dict:\n",
    "        categorias[d.split(\"_\")[0]][d] = data_dict[d]\n",
    "\n",
    "    boxplots = []\n",
    "    for c in categorias:\n",
    "        df = pd.DataFrame.from_dict(categorias[c], orient=\"index\")\n",
    "        df = df.reset_index()\n",
    "        df_melted = df.melt(id_vars=['index'], var_name='player', value_name='value')\n",
    "\n",
    "        # create boxplot\n",
    "        fig = px.box(df_melted, x='index', y='value', hover_data=['player'])\n",
    "        #fig.write_json(\"./plots/\"+c+\".json\")\n",
    "        fig.show()\n",
    "        boxplots.append(fig)\n",
    "        \n",
    "    \n",
    "    return boxplots    \n",
    "\n",
    "boxs= create_boxplots3(intentosListNombres)"
   ]
  },
  {
   "cell_type": "code",
   "execution_count": 48,
   "id": "fa01cb56",
   "metadata": {},
   "outputs": [
    {
     "name": "stdout",
     "output_type": "stream",
     "text": [
      "basic\n"
     ]
    }
   ],
   "source": [
    "p = \"basic_4\"\n",
    "p2 = \" \".join(p.split(\"_\")[:-1])\n",
    "print(p2)"
   ]
  }
 ],
 "metadata": {
  "kernelspec": {
   "display_name": "Python 3",
   "language": "python",
   "name": "python3"
  },
  "language_info": {
   "codemirror_mode": {
    "name": "ipython",
    "version": 3
   },
   "file_extension": ".py",
   "mimetype": "text/x-python",
   "name": "python",
   "nbconvert_exporter": "python",
   "pygments_lexer": "ipython3",
   "version": "3.10.10"
  },
  "vscode": {
   "interpreter": {
    "hash": "ebbed64c97e1caaf1e33b6804ea55e386f6932c05bba92b2bd34724a7e558276"
   }
  }
 },
 "nbformat": 4,
 "nbformat_minor": 5
}
