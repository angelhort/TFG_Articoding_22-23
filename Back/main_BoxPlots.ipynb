{
 "cells": [
  {
   "cell_type": "markdown",
   "id": "b416a4e3-1859-40bb-9eaa-f1b04835dddd",
   "metadata": {},
   "source": [
    "-----------------------------------------------------------------------------------------------------------------------------------------------------------------\n",
    "## Librerias"
   ]
  },
  {
   "cell_type": "code",
   "execution_count": null,
   "id": "8e7a3750-b619-4c4b-acb7-842033948e8b",
   "metadata": {},
   "outputs": [],
   "source": [
    "import pandas as pd\n",
    "import json\n",
    "from collections import defaultdict\n",
    "import re\n",
    "from utils.utilities import Tiempo\n",
    "import statistics\n",
    "import re\n",
    "import matplotlib.pyplot as plt\n",
    "import plotly.express as px\n",
    "import plotly.graph_objects as go"
   ]
  },
  {
   "cell_type": "markdown",
   "id": "c723e8a0-78aa-4e2f-a3c6-a9c1553889a0",
   "metadata": {},
   "source": [
    "-----------------------------------------------------------------------------------------------------------------------------------------------------------------\n",
    "### Función que extrae los timestamps de inicio y fin de cada intentos de nivel\n",
    "#### También extrae las estrellas obtenidas en cada intentos y cuantas veces se han intentado todos los niveles por cada jugador "
   ]
  },
  {
   "cell_type": "code",
   "execution_count": null,
   "id": "0af84c76-318e-4f7b-b139-6f0c48188278",
   "metadata": {},
   "outputs": [],
   "source": [
    "def extraerTiemposPorNivelJugador(rawData):\n",
    "    \n",
    "    tiempos = defaultdict(defaultdict)\n",
    "    intentosNecesarios = defaultdict(defaultdict)\n",
    "    \n",
    "    erLevel = re.compile(r'\\blevel$\\b')\n",
    "    erIdLevel = re.compile(r'/')\n",
    "    \n",
    "    erInitialized = re.compile(r'\\binitialized$\\b')\n",
    "    erCompleted = re.compile(r'\\bcompleted$\\b')\n",
    "    \n",
    "    for evento in rawData:\n",
    "        verb = evento[\"verb\"][\"id\"]\n",
    "        obj = evento[\"object\"][\"definition\"][\"type\"]\n",
    "        name = evento[\"actor\"][\"name\"]\n",
    "        timestamp = evento[\"timestamp\"]\n",
    "        objectId = evento[\"object\"][\"id\"]\n",
    "        \n",
    "        if erLevel.search(obj): #Si el objeto de la acción es un nivel\n",
    "            levelCode = erIdLevel.split(objectId)[-1]\n",
    "            if levelCode != \"editor_level\":\n",
    "                if erInitialized.search(verb): #Si la acción es inicio o reinicio\n",
    "                    if \"result\" in evento: #Significa que ha iniciado el nivel desde el menu\n",
    "                        if levelCode in tiempos[name]:\n",
    "                            intentosNecesarios[name][levelCode].append({\"intentos\" : 1, \"success\" : False})\n",
    "                            tiempos[name][levelCode].append({\"ini\" : timestamp, \"fin\" : None, \"stars\" : \"\"})\n",
    "                        else:\n",
    "                            intentosNecesarios[name][levelCode] = [{\"intentos\" : 1, \"success\" : False}]\n",
    "                            tiempos[name][levelCode] = [{\"ini\" : timestamp, \"fin\" : None, \"stars\" : \"\"}]\n",
    "                    else:\n",
    "                        intentosNecesarios[name][levelCode][-1][\"intentos\"] += 1\n",
    "                elif erCompleted.search(verb):\n",
    "                    if evento[\"result\"][\"score\"][\"raw\"] > 0 :\n",
    "                        if levelCode in tiempos[name]:\n",
    "                            intentosNecesarios[name][levelCode][-1][\"success\"] = True\n",
    "                            tiempos[name][levelCode][-1][\"fin\"] = timestamp\n",
    "                            tiempos[name][levelCode][-1][\"stars\"] = evento[\"result\"][\"score\"][\"raw\"]\n",
    "\n",
    "                    elif evento[\"result\"][\"score\"][\"raw\"] == -1:\n",
    "                        if levelCode in tiempos[name]:\n",
    "                            tiempos[name][levelCode][-1][\"fin\"] = timestamp\n",
    "                            tiempos[name][levelCode][-1][\"stars\"] = evento[\"result\"][\"score\"][\"raw\"]\n",
    "    \n",
    "    return {\"tiempos\" : tiempos, \"intentosNecesarios\" : intentosNecesarios}"
   ]
  },
  {
   "cell_type": "markdown",
   "id": "efa6361f-6d8d-458e-b61a-7642520f674e",
   "metadata": {
    "tags": []
   },
   "source": [
    "-----------------------------------------------------------------------------------------------------------------------------------------------------------------\n",
    "### Función que resta los timestamps de inicio y fin de cada intento de nivel para sacar la diferencia de tiempo"
   ]
  },
  {
   "cell_type": "code",
   "execution_count": null,
   "id": "8fbeaafd-7da1-4d8a-8adb-bedd73727ef7",
   "metadata": {},
   "outputs": [],
   "source": [
    "def tiempoPorNiveles_Jugador(data):\n",
    "    tiemposJugados = defaultdict(defaultdict)\n",
    "    for player in data:\n",
    "        for level in data[player]:\n",
    "            for times in data[player][level]:\n",
    "                if times[\"fin\"] != None: #Si no se aborto el intento del nivel\n",
    "                    timeDifference = Tiempo(times[\"ini\"], times[\"fin\"])\n",
    "                    if level in tiemposJugados[player]:\n",
    "                        tiemposJugados[player][level].append({\"time\" : timeDifference, \"stars\" : times[\"stars\"]})\n",
    "                    else:\n",
    "                        tiemposJugados[player][level] = [{\"time\" : timeDifference, \"stars\" : times[\"stars\"]}]\n",
    "    return tiemposJugados"
   ]
  },
  {
   "cell_type": "markdown",
   "id": "1d9088b2-e533-4c68-8a46-0655c5a3098f",
   "metadata": {},
   "source": [
    "-----------------------------------------------------------------------------------------------------------------------------------------------------------------\n",
    "### Función que devuelve el tiempo medio necesario para completar un nivel y un diccionario con el tiempo empleado por cada jugador hasta completar el nivel\n",
    "(El tiempo necesario para cada jugador es la suma de todos los tiempos hasta conseguir completar el nivel)\n",
    "* También devuelve la media de estrellas y una lista de los niveles ordenados"
   ]
  },
  {
   "cell_type": "code",
   "execution_count": null,
   "id": "0f406ab2-c482-4ce9-a43a-a67b00c7592c",
   "metadata": {},
   "outputs": [],
   "source": [
    "#TAMBIEN DEVUELVE EL TIEMPO INDIVIDUAL DE CADA JUGADOR PARA COMPLETAR CADA NIVEL\n",
    "def getMediaTiempoPorNivel(tiempos, soloPrimerExito = True, tiemposOrdenados = False):\n",
    "    medias = defaultdict(list)\n",
    "    mediasEstrellas = defaultdict(list)\n",
    "    tiempoCompletarNivelIndividual = defaultdict(defaultdict)\n",
    "    \n",
    "    for player in tiempos:\n",
    "        for level in tiempos[player]:\n",
    "            tAux = Tiempo(\"0s\")\n",
    "            for t in tiempos[player][level]:\n",
    "                if t[\"stars\"] != -1:\n",
    "                    if level in medias:\n",
    "                        medias[level].append(int(tAux + t[\"time\"]))\n",
    "                        mediasEstrellas[level].append(int(t[\"stars\"]))\n",
    "                    else:\n",
    "                        medias[level] = [int(tAux + t[\"time\"])]\n",
    "                        mediasEstrellas[level] = [int(t[\"stars\"])]\n",
    "                        \n",
    "                    tiempoCompletarNivelIndividual[player][level] = tAux + t[\"time\"]\n",
    "                    if soloPrimerExito:\n",
    "                        break\n",
    "                elif t[\"stars\"] == 0:\n",
    "                    print(\"ALERTA\")\n",
    "                else:\n",
    "                    tAux += t[\"time\"]\n",
    "    for m in medias:\n",
    "        medias[m] = Tiempo(str(int(round(statistics.mean(medias[m]), 0))) + \"s\")\n",
    "        \n",
    "    for m in mediasEstrellas:\n",
    "        mediasEstrellas[m] = statistics.mean(mediasEstrellas[m])\n",
    "    \n",
    "    listaNiveles = medias.keys()\n",
    "    \n",
    "    if tiemposOrdenados:\n",
    "        medias = sorted(medias.items(), key=lambda x: x[1])\n",
    "        mediasEstrellas = sorted(mediasEstrellas.items(), key=lambda x: x[1])\n",
    "    else:\n",
    "        medias = list(medias.items())\n",
    "        mediasEstrellas = list(mediasEstrellas.items())\n",
    "    \n",
    "    return {\"mediaTiempos\" : medias, \"mediaEstrellas\" : mediasEstrellas, \"listaNiveles\" : listaNiveles, \"tiemposIndividuales\" : tiempoCompletarNivelIndividual}"
   ]
  },
  {
   "cell_type": "markdown",
   "id": "c43f5e74-a53c-489d-b46e-0bdc44c7a628",
   "metadata": {
    "tags": []
   },
   "source": [
    "-----------------------------------------------------------------------------------------------------------------------------------------------------------------\n",
    "### Devuelve un diccionario con clave: id Jugador y valor: ultimo nivel alcanzado"
   ]
  },
  {
   "cell_type": "code",
   "execution_count": null,
   "id": "f5651348-7a8b-461b-a2aa-dd884ec009df",
   "metadata": {},
   "outputs": [],
   "source": [
    "def getUltimoNivelAlcanzado(tiempos):\n",
    "    ultNivel = defaultdict()\n",
    "    for player in tiempos:\n",
    "        for level in tiempos[player]:\n",
    "            ultNivel[player] = level\n",
    "    return ultNivel"
   ]
  },
  {
   "cell_type": "markdown",
   "id": "99a81364-a968-42ff-82d8-40d391023b4a",
   "metadata": {},
   "source": [
    "-----------------------------------------------------------------------------------------------------------------------------------------------------------------\n",
    "### Devuelve los intentos necesarios de cada jugador para completar un nivel al igual que los intentos medios"
   ]
  },
  {
   "cell_type": "code",
   "execution_count": null,
   "id": "8ea9cd08-8de3-4a46-8864-2b0f1108809a",
   "metadata": {},
   "outputs": [],
   "source": [
    "#TAMBIEN DEVUELVE LOS INTENTOS INDIVIDUALES DE CADA JUGADOR PARA COMPLETAR CADA NIVEL\n",
    "def getIntentosMedios_HastaCompletarNivel(intentosNecesarios, intentosOrdenados = False):\n",
    "    intentosMedios = defaultdict(list)\n",
    "    intentosCompletarNivelIndividual = defaultdict(defaultdict)\n",
    "    \n",
    "    for name in intentosNecesarios:\n",
    "        for level in intentosNecesarios[name]:\n",
    "            cont = 0\n",
    "            for i in intentosNecesarios[name][level]:\n",
    "                cont += i[\"intentos\"]\n",
    "                if i[\"success\"] == True:\n",
    "                    intentosMedios[level].append(cont)\n",
    "                    intentosCompletarNivelIndividual[name][level] = cont\n",
    "                    break\n",
    "            \n",
    "    for level in intentosMedios:\n",
    "        intentosMedios[level] = round(statistics.mean(intentosMedios[level]), 2)\n",
    "    \n",
    "    if intentosOrdenados:\n",
    "        intentosMedios = sorted(intentosMedios.items(), key=lambda x: x[1])\n",
    "    else:\n",
    "        intentosMedios = list(intentosMedios.items())\n",
    "    return {\"intentosMedios\" : intentosMedios, \"intentosIndividual\" : intentosCompletarNivelIndividual}"
   ]
  },
  {
   "cell_type": "markdown",
   "id": "9ede6000-b5ff-4ab4-a3c3-c3cd723d7f30",
   "metadata": {},
   "source": [
    "-----------------------------------------------------------------------------------------------------------------------------------------------------------------\n",
    "### Transforma un diccionario de diccionarios en un diccionario de arrays\n",
    "* Se utiliza para tener una lista de todos los tiempos de los usuarios cuando tenemos un diccionario dentro de otro con primera clave nombre usuario y segunda clave codigo del nivel"
   ]
  },
  {
   "cell_type": "code",
   "execution_count": null,
   "id": "a7232498-f00d-4a9a-af4e-955a26ac8524",
   "metadata": {},
   "outputs": [],
   "source": [
    "def extraerArray(my_dict):\n",
    "    nested_keys = []\n",
    "    nested_values = []\n",
    "\n",
    "    for k, v in my_dict.items():\n",
    "        for nested_k, nested_v in v.items():\n",
    "            nested_keys.append(nested_k)\n",
    "            nested_values.append(nested_v)\n",
    "\n",
    "    # create a dictionary with keys as the values of the nested_keys array\n",
    "    nested_dict = defaultdict(list)\n",
    "    for key, value in zip(nested_keys, nested_values):\n",
    "        nested_dict[key].append(value)\n",
    "    \n",
    "    return nested_dict"
   ]
  },
  {
   "cell_type": "code",
   "execution_count": null,
   "id": "2543bb4b",
   "metadata": {},
   "outputs": [],
   "source": [
    "def extraerArrayConNombres(my_dict):\n",
    "    nested_keys = []\n",
    "    nested_values = []\n",
    "\n",
    "    for k, v in my_dict.items():\n",
    "        for nested_k, nested_v in v.items():\n",
    "            nested_keys.append(nested_k)\n",
    "            nested_values.append({\"name\" : k, \"valor\" : nested_v})\n",
    "\n",
    "    # create a dictionary with keys as the values of the nested_keys array\n",
    "    nested_dict = defaultdict(defaultdict)\n",
    "    for key, value in zip(nested_keys, nested_values):\n",
    "        nested_dict[key][value[\"name\"]] = value[\"valor\"]\n",
    "    \n",
    "    return nested_dict"
   ]
  },
  {
   "cell_type": "markdown",
   "id": "24c8bf2a-6261-4ec9-adea-425bb588a50e",
   "metadata": {},
   "source": [
    "-----------------------------------------------------------------------------------------------------------------------------------------------------------------\n",
    "### Recibe un diccionario con clave nivel y valor una lista de tiempos y parsea los tiempos a integer"
   ]
  },
  {
   "cell_type": "code",
   "execution_count": null,
   "id": "6e4a73ea-40e7-4f46-935e-9f24b51cb1d8",
   "metadata": {},
   "outputs": [],
   "source": [
    "def parseTiemposDictToInteger(data_dict):\n",
    "    parsed_dict = {}\n",
    "\n",
    "    for key, value in data_dict.items():\n",
    "        parsed_list = []\n",
    "        for element in value:\n",
    "            parsed_list.append(int(element))\n",
    "        parsed_dict[key] = parsed_list\n",
    "\n",
    "    return parsed_dict"
   ]
  },
  {
   "cell_type": "markdown",
   "id": "5633ce07-0445-4250-8e6d-64b43f25166b",
   "metadata": {},
   "source": [
    "-----------------------------------------------------------------------------------------------------------------------------------------------------------------\n",
    "### Función que genera los boxplots recibiendo un diccionario con clave nivel y valor una lista de enteros"
   ]
  },
  {
   "cell_type": "code",
   "execution_count": null,
   "id": "7fbe8445-7e55-48dd-8b3c-9fb803af274c",
   "metadata": {},
   "outputs": [],
   "source": [
    "def create_boxplots(data_dict):\n",
    "    # Group levels by category\n",
    "    category_dict = {}\n",
    "    for level, data in data_dict.items():\n",
    "        category = level.split('_')[0]\n",
    "        if category in category_dict:\n",
    "            category_dict[category].append(data)\n",
    "        else:\n",
    "            category_dict[category] = [data]\n",
    "    \n",
    "    # Create boxplots for each category and add relevant information\n",
    "    boxplots = []\n",
    "    labels = []\n",
    "    for i, (category, data_list) in enumerate(category_dict.items()):\n",
    "        fig, ax = plt.subplots()\n",
    "        bp = ax.boxplot(data_list, showfliers=True, patch_artist=True, flierprops={'marker': '+', 'markerfacecolor': '#738FA7'})\n",
    "        ax.set_title(category)\n",
    "\n",
    "        color = '#738FA7'\n",
    "        for patch in bp['boxes']:\n",
    "            patch.set_facecolor(color)\n",
    "        \n",
    "        boxplots.append(bp)\n",
    "        labels.append(category)\n",
    "    \n",
    "    # Set tick labels\n",
    "    fig, ax = plt.subplots()\n",
    "    ax.set_xticks(range(len(labels)))\n",
    "    ax.set_xticklabels(labels)\n",
    "    ax.tick_params(axis='x', labelrotation=45)\n",
    "    \n",
    "    return boxplots\n"
   ]
  },
  {
   "cell_type": "code",
   "execution_count": null,
   "id": "1986d4bf",
   "metadata": {},
   "outputs": [],
   "source": [
    "def getCuantasPersonasHanAlcanzadoNivel(ultNivelCompletado, niveles):\n",
    "    cuantosHanLlegadoAlNivel = defaultdict()\n",
    "    \n",
    "    ultNivelCopia = ultNivelCompletado.copy()\n",
    "\n",
    "    #Contamos cuanta gente ha llegado hasta cada nivel\n",
    "    for nivel in niveles:\n",
    "        cuantosHanLlegadoAlNivel[nivel] = len(ultNivelCopia)\n",
    "        \n",
    "        keys_to_delete = [k for k, v in ultNivelCopia.items() if v == nivel]\n",
    "        for k in keys_to_delete:\n",
    "            del ultNivelCopia[k]\n",
    "\n",
    "    return cuantosHanLlegadoAlNivel"
   ]
  },
  {
   "cell_type": "code",
   "execution_count": null,
   "id": "7d45acbc",
   "metadata": {},
   "outputs": [],
   "source": [
    "def generateChartNivelesAlcanzados(niveles, ultNivelCompletado):\n",
    "    cuantosHanLlegadoAlNivel = getCuantasPersonasHanAlcanzadoNivel(ultNivelCompletado, niveles)\n",
    "\n",
    "    category_dict = {}\n",
    "    for level, value in cuantosHanLlegadoAlNivel.items():\n",
    "        category = level.split('_')[0]\n",
    "        level_number = int(level.split('_')[-1])\n",
    "        if category in category_dict:\n",
    "            category_dict[category].append((level_number, value))\n",
    "        else:\n",
    "            category_dict[category] = [(level_number, value)]\n",
    "    for category, levels in category_dict.items():\n",
    "        category_dict[category] = sorted(levels, key=lambda x: x[0])\n",
    "\n",
    "    # Select the last level for each category\n",
    "    last_levels = {}\n",
    "    for category, levels in category_dict.items():\n",
    "        last_level = levels[-1][0]\n",
    "        last_levels[category] = levels[-1][1]\n",
    "\n",
    "    # Create bar chart and add labels\n",
    "    fig, ax = plt.subplots()\n",
    "    ax.bar(last_levels.keys(), last_levels.values(), color=\"#738FA7\")\n",
    "    ax.set_xticklabels(last_levels.keys(), rotation=45, ha='right')\n",
    "        \n",
    "    plt.show()"
   ]
  },
  {
   "cell_type": "code",
   "execution_count": null,
   "id": "ccf1482a",
   "metadata": {},
   "outputs": [],
   "source": [
    "def generateChartNivelesAlcanzados2(niveles, ultNivelCompletado):\n",
    "    cuantosHanLlegadoAlNivel = getCuantasPersonasHanAlcanzadoNivel(ultNivelCompletado, niveles)\n",
    "    ultNivelCat = {}\n",
    "    for level in cuantosHanLlegadoAlNivel:\n",
    "        ultNivelCat[(\" \".join(level.split(\"_\")[:-1])).capitalize()] = cuantosHanLlegadoAlNivel[level]\n",
    "    \n",
    "    df = pd.DataFrame({\"levels\" : list(ultNivelCat.keys()), \"nJugadores\" : list(ultNivelCat.values())})\n",
    "    fig = px.bar(df, x=\"levels\", y='nJugadores', labels={'levels':'Categorías', 'nJugadores':'Numero Jugadores'})\n",
    "    fig.update_layout(plot_bgcolor='#C3CEDA')\n",
    "    fig.update_traces(marker_color='#738FA7', hovertemplate='<b>Numero Jugadores: %{y}</b>')\n",
    "    #fig.write_json(\"./plots/categorias.json\")\n",
    "    return fig\n"
   ]
  },
  {
   "cell_type": "code",
   "execution_count": null,
   "id": "1760da99",
   "metadata": {},
   "outputs": [],
   "source": [
    "def getChartPorcentajeCategorias(niveles, ultNivelCompletado, total_players):\n",
    "\n",
    "    cuantosHanLlegadoAlNivel = getCuantasPersonasHanAlcanzadoNivel(ultNivelCompletado, niveles)\n",
    "\n",
    "    ultimoNivelCat = {}\n",
    "    for level in niveles:\n",
    "        category = level.split(\"_\")[0]\n",
    "        ultimoNivelCat[category] = level\n",
    "    \n",
    "    percentages = {}\n",
    "    for ultNivel in ultimoNivelCat.values():\n",
    "        percentages[ultNivel] = (cuantosHanLlegadoAlNivel[ultNivel]/total_players)*100\n",
    "    \n",
    "    fig, ax = plt.subplots()\n",
    "    ax.bar(range(len(percentages)), list(percentages.values()), align='center', color=\"#738FA7\")\n",
    "    ax.set_xticks(range(len(percentages)))\n",
    "    ax.set_xticklabels(map(lambda c: c.split(\"_\")[0], list(percentages.keys())), rotation=45, ha='right')\n",
    "    ax.set_ylim((0, 100))\n",
    "    ax.set_ylabel('Porcentaje Jugadores')\n",
    "    ax.set_xlabel('Categorías')\n",
    "    ax.set_title('Categorías Superadas')\n",
    "    \n",
    "    return ax"
   ]
  },
  {
   "cell_type": "code",
   "execution_count": null,
   "id": "af9ad872-838a-4361-9b2b-c476689e5e4d",
   "metadata": {},
   "outputs": [],
   "source": [
    "pd.options.display.max_columns = None\n",
    "pd.set_option('display.max_colwidth', None)\n",
    "pd.options.display.max_rows = None"
   ]
  },
  {
   "cell_type": "code",
   "execution_count": null,
   "id": "47fb23d1-e343-4576-8c52-68fb896e9049",
   "metadata": {},
   "outputs": [],
   "source": [
    "#JSONFile = open('../Web/datos/1/trazasOrdenadas.json')\n",
    "JSONFile = open('./data/trazasOrdenadas.json')\n",
    "rawData = json.load(JSONFile)\n",
    "JSONFile.close()\n",
    "\n",
    "resultados_Tiempos_Nivel_Jugador = extraerTiemposPorNivelJugador(rawData)"
   ]
  },
  {
   "cell_type": "code",
   "execution_count": null,
   "id": "4a28ae5c-65c3-43d4-ba98-c6f325d91e93",
   "metadata": {},
   "outputs": [],
   "source": [
    "tiemposIntentosJugadores = tiempoPorNiveles_Jugador(resultados_Tiempos_Nivel_Jugador[\"tiempos\"])\n",
    "pd.DataFrame(tiemposIntentosJugadores)\n",
    "#pd.DataFrame(resultados_Tiempos_Nivel_Jugador[\"intentosNecesarios\"])"
   ]
  },
  {
   "cell_type": "code",
   "execution_count": null,
   "id": "701cd0ac-d88f-413e-89a7-79ad51a58b8b",
   "metadata": {},
   "outputs": [],
   "source": [
    "soloPrimerExito = True\n",
    "tiemposOrdenados = False\n",
    "tiemposMedios = getMediaTiempoPorNivel(tiemposIntentosJugadores, soloPrimerExito, tiemposOrdenados)\n",
    "#pd.DataFrame(tiemposMedios[\"mediaTiempos\"])\n",
    "#pd.DataFrame(tiemposMedios[\"mediaEstrellas\"])\n",
    "#pd.DataFrame(tiemposMedios[\"listaNiveles\"])\n",
    "#pd.DataFrame(tiemposMedios[\"tiemposIndividuales\"])"
   ]
  },
  {
   "cell_type": "code",
   "execution_count": null,
   "id": "9b26941f-7a8f-41d3-b8f4-5732e676a9b0",
   "metadata": {},
   "outputs": [],
   "source": [
    "ultNivelAlcanzado = getUltimoNivelAlcanzado(tiemposMedios[\"tiemposIndividuales\"])\n",
    "#print(ultNivelAlcanzado)"
   ]
  },
  {
   "cell_type": "code",
   "execution_count": null,
   "id": "8392b99c-3307-4e4d-8059-3934ce7e7394",
   "metadata": {},
   "outputs": [],
   "source": [
    "intentosOrdenados = False\n",
    "intentosMedios_Individual = getIntentosMedios_HastaCompletarNivel(resultados_Tiempos_Nivel_Jugador[\"intentosNecesarios\"], intentosOrdenados)\n",
    "#pd.DataFrame(intentosMedios_Individual[\"intentosMedios\"])\n",
    "#pd.DataFrame(intentosMedios_Individual[\"intentosIndividual\"])"
   ]
  },
  {
   "cell_type": "code",
   "execution_count": null,
   "id": "f013eba9-a18e-44fc-95d1-d8a52f58da9b",
   "metadata": {},
   "outputs": [],
   "source": [
    "tiemposList = extraerArray(tiemposMedios[\"tiemposIndividuales\"])\n",
    "intentosList = extraerArray(intentosMedios_Individual[\"intentosIndividual\"])\n",
    "#pd.DataFrame.from_dict(tiemposList, orient='index').transpose()\n",
    "#pd.DataFrame.from_dict(intentosList, orient='index').transpose()"
   ]
  },
  {
   "cell_type": "code",
   "execution_count": null,
   "id": "3c76de52",
   "metadata": {},
   "outputs": [],
   "source": [
    "intentosListNombres = extraerArrayConNombres(intentosMedios_Individual[\"intentosIndividual\"])\n",
    "tiemposListNombres = extraerArrayConNombres(tiemposMedios[\"tiemposIndividuales\"])\n",
    "#pd.DataFrame.from_dict(intentosListNombres, orient='index').transpose()\n",
    "#pd.DataFrame.from_dict(tiemposListNombres, orient='index').transpose()"
   ]
  },
  {
   "cell_type": "code",
   "execution_count": null,
   "id": "6ff2ffd4",
   "metadata": {},
   "outputs": [],
   "source": [
    "def parseTiemposDictConNombresToInteger(tiemposDict):\n",
    "    for l in tiemposDict:\n",
    "        for j in tiemposDict[l]:\n",
    "            tiemposDict[l][j] = int(tiemposDict[l][j])\n",
    "    return tiemposDict"
   ]
  },
  {
   "cell_type": "code",
   "execution_count": null,
   "id": "b846725a",
   "metadata": {},
   "outputs": [],
   "source": [
    "fig = generateChartNivelesAlcanzados2(tiemposMedios[\"listaNiveles\"], ultNivelAlcanzado)\n",
    "fig.show()"
   ]
  },
  {
   "cell_type": "code",
   "execution_count": null,
   "id": "c4613c46",
   "metadata": {},
   "outputs": [],
   "source": [
    "#getChartPorcentajeCategorias(tiemposMedios[\"listaNiveles\"], ultNivelAlcanzado, len(ultNivelAlcanzado))"
   ]
  },
  {
   "cell_type": "code",
   "execution_count": null,
   "id": "0e84441f-5863-4167-85e6-92eaa572fd64",
   "metadata": {},
   "outputs": [],
   "source": [
    "#boxplotsIntentos = create_boxplots(intentosList)"
   ]
  },
  {
   "cell_type": "code",
   "execution_count": null,
   "id": "c8674095-e939-4499-9f85-f5c79df0f35e",
   "metadata": {},
   "outputs": [],
   "source": [
    "#boxplotsTiempos = create_boxplots(parseTiemposDictToInteger(tiemposList))"
   ]
  },
  {
   "cell_type": "code",
   "execution_count": null,
   "metadata": {},
   "outputs": [],
   "source": [
    "def create_boxplots3(data_dict, titulo):\n",
    "    categorias = defaultdict(defaultdict)\n",
    "    for d in data_dict:\n",
    "        categorias[d.split(\"_\")[0]][d] = data_dict[d]\n",
    "\n",
    "    boxplots = []\n",
    "    for c in categorias:\n",
    "        df = pd.DataFrame.from_dict(categorias[c], orient=\"index\")\n",
    "        df = df.reset_index()\n",
    "        df = df.rename(columns={'index' : 'Niveles'})\n",
    "        df_melted = df.melt(id_vars=['Niveles'], var_name='Jugador', value_name=titulo)\n",
    "        # create boxplot\n",
    "        fig = px.box(df_melted, x='Niveles', y=titulo, hover_name='Jugador')\n",
    "        fig.update_layout(plot_bgcolor='#C3CEDA')\n",
    "        fig.update_traces(marker_color='#738FA7', hovertemplate='<b>%{hovertext}</b><br>' + titulo + ': %{y}')\n",
    "        #fig.write_json(\"./plots/\"+c + \"_\"+ titulo +\".json\")\n",
    "        boxplots.append(fig)\n",
    "    return boxplots"
   ]
  },
  {
   "cell_type": "code",
   "execution_count": null,
   "id": "3648b6cf",
   "metadata": {},
   "outputs": [],
   "source": [
    "boxsIntentos= create_boxplots3(intentosListNombres, 'Intentos')\n",
    "for b in boxsIntentos:\n",
    "    #b.show()\n",
    "    None"
   ]
  },
  {
   "cell_type": "code",
   "execution_count": null,
   "id": "a76fe740",
   "metadata": {},
   "outputs": [],
   "source": [
    "boxsTiempos = create_boxplots3(parseTiemposDictConNombresToInteger(tiemposListNombres), \"Tiempo(s)\")\n",
    "for b in boxsTiempos:\n",
    "    #b.show()\n",
    "    None"
   ]
  },
  {
   "cell_type": "code",
   "execution_count": null,
   "id": "604c4467",
   "metadata": {},
   "outputs": [],
   "source": [
    "def getChartComparativas(niveles, tiemposMedios, ultNivelCompletado, jugClase):\n",
    "    cuantosHanLlegadoAlNivel = getCuantasPersonasHanAlcanzadoNivel(ultNivelCompletado, niveles)\n",
    "    ultNivelCat = {}\n",
    "    for level in cuantosHanLlegadoAlNivel:\n",
    "        ultNivelCat[(\" \".join(level.split(\"_\")[:-1])).capitalize()] = cuantosHanLlegadoAlNivel[level]\n",
    "\n",
    "    for c in ultNivelCat:\n",
    "        ultNivelCat[c] = round((ultNivelCat[c]/jugClase)*100, 2)\n",
    "\n",
    "    categorias = defaultdict(defaultdict)\n",
    "    for d in tiemposMedios:\n",
    "        categorias[(\" \".join(d[0].split(\"_\")[:-1])).capitalize()][d[0]] = int(d[1])\n",
    "\n",
    "    ### Actualizar datos globales\n",
    "    JSONFile = open('datosGlobales.json')\n",
    "    datosGlobales = json.load(JSONFile)\n",
    "    JSONFile.close()\n",
    "\n",
    "    if( 1 not in datosGlobales[\"institutos\"]):\n",
    "        jugTotales = jugClase + datosGlobales[\"numeroAlumnos\"]\n",
    "        for c in datosGlobales[\"porcentaje\"]:\n",
    "            if c in ultNivelCat:\n",
    "                datosGlobales[\"porcentaje\"][c] = (datosGlobales[\"porcentaje\"][c]*datosGlobales[\"numeroAlumnos\"]/jugTotales) + (ultNivelCat[c]*jugClase/jugTotales)\n",
    "\n",
    "        \n",
    "        datosGlobales[\"numeroAlumnos\"] = jugTotales        \n",
    "        datosGlobales[\"institutos\"].append(1)\n",
    "\n",
    "        for c in datosGlobales[\"tiempoMedio\"]:\n",
    "            if c in categorias:\n",
    "                for l in datosGlobales[\"tiempoMedio\"][c]:\n",
    "                    if l in categorias[c]:\n",
    "                        datosGlobales[\"tiempoMedio\"][c][l] = (datosGlobales[\"tiempoMedio\"][c][l]*datosGlobales[\"numeroAlumnos\"]/jugTotales) + (categorias[c][l]*jugClase/jugTotales)\n",
    "                        \n",
    "        with open('datosGlobales.json', 'w') as json_file:\n",
    "            json.dump(datosGlobales, json_file)\n",
    "\n",
    "\n",
    "    print(ultNivelCat)\n",
    "    fig = go.Figure(data=[\n",
    "        go.Bar(name=\"Clase\", x=list(ultNivelCat.keys()), y=list(ultNivelCat.values()), marker_color=\"#738FA7\",\n",
    "               hovertemplate='<b>%{y}%</b>'),\n",
    "        go.Bar(name=\"Global\", x=list(datosGlobales[\"porcentaje\"].keys()), y=list(datosGlobales[\"porcentaje\"].values()), marker_color=\"#0C4160\",\n",
    "               hovertemplate='<b>%{y}%</b>'),\n",
    "    ])\n",
    "    fig.update_layout(plot_bgcolor='#C3CEDA')\n",
    "    fig.update_layout(barmode='group')\n",
    "    fig.update_layout(title_text='Porcentaje Categorías Superadas VS Global')\n",
    "    #fig.write_json(\"./plots/porcentajeCategorias.json\")\n",
    "    fig.show()\n",
    "\n",
    "\n",
    "    print(categorias)\n",
    "    for c in datosGlobales[\"tiempoMedio\"]:\n",
    "        if c in categorias:\n",
    "            fig = go.Figure(data=[\n",
    "                go.Bar(name = \"Clase\", x=list(categorias[c].keys()), y=list(categorias[c].values()), marker_color=\"#738FA7\",\n",
    "                    hovertemplate='<b>%{y}s</b>'),\n",
    "                go.Bar(name = \"Global\", x=list(datosGlobales[\"tiempoMedio\"][c].keys()), y=list(datosGlobales[\"tiempoMedio\"][c].values()), marker_color=\"#0C4160\",\n",
    "                    hovertemplate='<b>%{y}s</b>')\n",
    "            ])\n",
    "            fig.update_layout(plot_bgcolor='#C3CEDA')\n",
    "            fig.update_layout(barmode='group')\n",
    "            fig.write_json(\"./plots/\" + c.split(\" \")[0].lower() + \"_mediaTiemposComparativa.json\")\n",
    "            fig.show()"
   ]
  },
  {
   "cell_type": "code",
   "execution_count": null,
   "id": "bd0ca20c",
   "metadata": {},
   "outputs": [],
   "source": [
    "getChartComparativas(tiemposMedios[\"listaNiveles\"], tiemposMedios[\"mediaTiempos\"], ultNivelAlcanzado, len(ultNivelAlcanzado))\n"
   ]
  },
  {
   "cell_type": "code",
   "execution_count": null,
   "id": "dcdbc748",
   "metadata": {},
   "outputs": [],
   "source": [
    "print(tiemposMedios[\"mediaTiempos\"])"
   ]
  },
  {
   "cell_type": "code",
   "execution_count": null,
   "id": "4e975441",
   "metadata": {},
   "outputs": [],
   "source": [
    "JSONFile = open('./data/trazasOrdenadas.json')\n",
    "rawData = json.load(JSONFile)\n",
    "JSONFile.close()\n",
    "\n",
    "for e in rawData:\n",
    "    name = e[\"actor\"][\"name\"]\n",
    "    if name == \"smcq\":\n",
    "        print(e)"
   ]
  }
 ],
 "metadata": {
  "kernelspec": {
   "display_name": "Python 3",
   "language": "python",
   "name": "python3"
  },
  "language_info": {
   "codemirror_mode": {
    "name": "ipython",
    "version": 3
   },
   "file_extension": ".py",
   "mimetype": "text/x-python",
   "name": "python",
   "nbconvert_exporter": "python",
   "pygments_lexer": "ipython3",
   "version": "3.10.10"
  },
  "vscode": {
   "interpreter": {
    "hash": "ebbed64c97e1caaf1e33b6804ea55e386f6932c05bba92b2bd34724a7e558276"
   }
  }
 },
 "nbformat": 4,
 "nbformat_minor": 5
}
