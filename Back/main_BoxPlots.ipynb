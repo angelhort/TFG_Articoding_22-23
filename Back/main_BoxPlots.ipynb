{
 "cells": [
  {
   "cell_type": "markdown",
   "id": "b416a4e3-1859-40bb-9eaa-f1b04835dddd",
   "metadata": {},
   "source": [
    "-----------------------------------------------------------------------------------------------------------------------------------------------------------------\n",
    "## Librerias"
   ]
  },
  {
   "cell_type": "code",
   "execution_count": 12,
   "id": "8e7a3750-b619-4c4b-acb7-842033948e8b",
   "metadata": {},
   "outputs": [],
   "source": [
    "import pandas as pd\n",
    "import json\n",
    "from collections import defaultdict\n",
    "import re\n",
    "from utils.utilities import Tiempo\n",
    "import statistics\n",
    "import re\n",
    "import matplotlib.pyplot as plt\n",
    "import plotly.express as px\n",
    "import plotly.graph_objects as go\n",
    "import keyword\n",
    "import xml.etree.ElementTree as ET\n"
   ]
  },
  {
   "cell_type": "markdown",
   "id": "c723e8a0-78aa-4e2f-a3c6-a9c1553889a0",
   "metadata": {},
   "source": [
    "-----------------------------------------------------------------------------------------------------------------------------------------------------------------\n",
    "### Función que extrae los timestamps de inicio y fin de cada intentos de nivel\n",
    "#### También extrae las estrellas obtenidas en cada intentos y cuantas veces se han intentado todos los niveles por cada jugador "
   ]
  },
  {
   "cell_type": "code",
   "execution_count": 21,
   "id": "0af84c76-318e-4f7b-b139-6f0c48188278",
   "metadata": {},
   "outputs": [],
   "source": [
    "def extraerTiemposPorNivelJugador(rawData):\n",
    "    \n",
    "    tiempos = defaultdict(defaultdict)\n",
    "    intentosNecesarios = defaultdict(defaultdict)\n",
    "    inicioYFinJuego = defaultdict()\n",
    "    erroresVar = defaultdict(list)\n",
    "    erroresCod = defaultdict(list)\n",
    "    codJugadores = defaultdict()\n",
    "    codUltNivel = defaultdict()\n",
    "\n",
    "    error1 = \"No necesario crear variable\"\n",
    "    error2 = \"Asignacion mismo valor en variable\"\n",
    "    error3 = \"Entero o texto utilizado 2 veces\"\n",
    "    errorCodSucio = \"Codigo muerto\"\n",
    "\n",
    "    nivelesError1Excepcion = ['variables_2', 'variables_3', 'variables_4', 'variables_6', 'variables_8', 'variables_10', 'types_2', 'basic_operators_1', 'basic_operators_3', 'basic_operators_6']\n",
    "    nivelesError3Excepcion = ['tutorials_1', 'tutorials_2', 'tutorials_3', 'tutorials_4', 'tutorials_5', 'tutorials_6', 'tutorials_7', 'tutorials_8', 'tutorials_9']\n",
    "\n",
    "    erLevel = re.compile(r'\\blevel$\\b')\n",
    "    erIdLevel = re.compile(r'/')\n",
    "    \n",
    "    erInitialized = re.compile(r'\\binitialized$\\b')\n",
    "    erCompleted = re.compile(r'\\bcompleted$\\b')\n",
    "    erAccessed = re.compile(r'\\baccessed$\\b')\n",
    "    erProgressed = re.compile(r'\\bprogressed$\\b')\n",
    "\n",
    "    erSeriousGame = re.compile(r'\\bserious-game$\\b')  \n",
    "    erCategoryMain = re.compile(r'\\bcategories_main$\\b') \n",
    "\n",
    "    estandarNombreVar = re.compile(r'^_*[a-zA-Z][a-zA-Z0-9_]*$')\n",
    " \n",
    "    \n",
    "    for evento in rawData:\n",
    "        verb = evento[\"verb\"][\"id\"]\n",
    "        obj = evento[\"object\"][\"definition\"][\"type\"]\n",
    "        name = evento[\"actor\"][\"name\"]\n",
    "        timestamp = evento[\"timestamp\"]\n",
    "        objectId = evento[\"object\"][\"id\"]\n",
    "       \n",
    "        if erLevel.search(obj): #Si el objeto de la acción es un nivel\n",
    "            levelCode = erIdLevel.split(objectId)[-1]\n",
    "            if levelCode != \"editor_level\":\n",
    "                if erInitialized.search(verb): #Si la acción es inicio o reinicio\n",
    "                    if \"result\" in evento: #Significa que ha iniciado el nivel desde el menu\n",
    "                        if levelCode in tiempos[name]:\n",
    "                            intentosNecesarios[name][levelCode].append({\"intentos\" : 1, \"success\" : False})\n",
    "                            tiempos[name][levelCode].append({\"ini\" : timestamp, \"fin\" : None, \"stars\" : \"\"})\n",
    "                        else:\n",
    "                            intentosNecesarios[name][levelCode] = [{\"intentos\" : 1, \"success\" : False}]\n",
    "                            tiempos[name][levelCode] = [{\"ini\" : timestamp, \"fin\" : None, \"stars\" : \"\"}]\n",
    "                    else:\n",
    "                        intentosNecesarios[name][levelCode][-1][\"intentos\"] += 1\n",
    "\n",
    "                elif erProgressed.search(verb):\n",
    "                    cod = ET.fromstring(evento['result']['extensions']['code'])\n",
    "                    codJugadores[name] = cod\n",
    "                    codUltNivel[name] = levelCode\n",
    "\n",
    "                elif erCompleted.search(verb):\n",
    "                    if evento[\"result\"][\"score\"][\"raw\"] > 0 :\n",
    "                        if levelCode in tiempos[name]:\n",
    "                            intentosNecesarios[name][levelCode][-1][\"success\"] = True\n",
    "                            tiempos[name][levelCode][-1][\"fin\"] = timestamp\n",
    "                            tiempos[name][levelCode][-1][\"stars\"] = evento[\"result\"][\"score\"][\"raw\"]\n",
    "\n",
    "                        if codUltNivel[name] == levelCode:\n",
    "                            try:\n",
    "                                cod = codJugadores[name]\n",
    "                            except:\n",
    "                                print(evento)\n",
    "                                print(timestamp)\n",
    "                                return\n",
    "                            #Analisis codigo limpio\n",
    "                            antBloque = False\n",
    "                            for child in cod:\n",
    "                                if child.tag == \"block\":\n",
    "                                    if antBloque:\n",
    "                                        erroresCod[name].append({'error' : errorCodSucio, 'level' : levelCode})\n",
    "                                        break\n",
    "                                    else:\n",
    "                                        antBloque = True\n",
    "                                else:\n",
    "                                    antBloque = False \n",
    "                            \n",
    "                            #Analisis nombre variables\n",
    "\n",
    "                            def nombreVarValido(nombresVar):\n",
    "                                for nombre in nombresVar:\n",
    "                                    if keyword.iskeyword(nombre):\n",
    "                                        erroresCod[name].append({'error' : \"Variable: '\" + nombre + \"' es una palabra reservada\", 'level' : levelCode})\n",
    "                                    elif not bool(estandarNombreVar.match(nombre)):\n",
    "                                        erroresCod[name].append({'error' : \"Variable: '\" + nombre + \"' no tiene un nombre que siga el estandar de programacion\", 'level' : levelCode})\n",
    "\n",
    "                            variablesDeclaradas = []\n",
    "                            for child in cod.find(\"variables\"):\n",
    "                                variablesDeclaradas.append(child.text)\n",
    "                            nombreVarValido(variablesDeclaradas)\n",
    "\n",
    "                            #Analisis uso variables\n",
    "                            vars = defaultdict()\n",
    "                            values = []\n",
    "\n",
    "                            for v in cod.find('variables'):\n",
    "                                vars[v.text] = {\"valores\" : [], \"usado\" : 0}\n",
    "\n",
    "                            for b in cod.find(\"block[@type='start_start']\").iter('block'):\n",
    "                                tarjeta = b.attrib['type']\n",
    "\n",
    "                                if tarjeta == \"text\" or tarjeta == \"math_number\":\n",
    "                                    valor = b.find('field').text\n",
    "                                    if valor in values and levelCode not in nivelesError3Excepcion:\n",
    "                                        erroresVar[name].append({'error' : error3, 'level' : levelCode})\n",
    "                                    else:\n",
    "                                        values.append(valor)\n",
    "\n",
    "                                elif tarjeta == \"variables_set\":\n",
    "                                    varName = b.find('field').text\n",
    "                                    try:\n",
    "                                        varValue = b.find('value').find('block').find('field').text\n",
    "                                    except:\n",
    "                                        #print(ET.tostring(cod, encoding='utf8', method='xml'))\n",
    "                                        #print(ET.tostring(b, encoding='utf8', method='xml'))\n",
    "                                        None                                \n",
    "\n",
    "                                    if vars[varName]['valores'] and vars[varName]['usado'] < 2 and levelCode not in nivelesError1Excepcion:\n",
    "                                        erroresVar[name].append({'error' : error1 + \" \" + varName, 'level' : levelCode})\n",
    "\n",
    "                                    if varValue in vars[varName]['valores']:\n",
    "                                        erroresVar[name].append({'error' : error2 + \" \" + varName, 'level' : levelCode})\n",
    "                                    else:\n",
    "                                        vars[varName]['valores'].append(varValue)\n",
    "\n",
    "                                    vars[varName]['usado'] = 0\n",
    "\n",
    "                                elif tarjeta == \"variables_get\":\n",
    "                                    varName = b.find('field').text\n",
    "                                    vars[varName][\"usado\"] += 1\n",
    "\n",
    "                            for v in vars:\n",
    "                                if vars[v]['usado'] < 2 and levelCode not in nivelesError1Excepcion:\n",
    "                                    erroresVar[name].append({'error' : error1 + \" \" + v, 'level' : levelCode})\n",
    "\n",
    "                    elif evento[\"result\"][\"score\"][\"raw\"] == -1:\n",
    "                        if levelCode in tiempos[name]:\n",
    "                            tiempos[name][levelCode][-1][\"fin\"] = timestamp\n",
    "                            tiempos[name][levelCode][-1][\"stars\"] = evento[\"result\"][\"score\"][\"raw\"]\n",
    "        \n",
    "        elif erSeriousGame.search(obj) and erInitialized.search(verb):\n",
    "            if name in inicioYFinJuego:\n",
    "                inicioYFinJuego[name].append({\"inicio\" : timestamp, \"fin\" : None})\n",
    "            else:\n",
    "                inicioYFinJuego[name] = [{\"inicio\" : timestamp, \"fin\" : None}]\n",
    "        \n",
    "        if not(erAccessed.search(verb) and erCategoryMain.search(objectId)):\n",
    "            inicioYFinJuego[name][-1][\"fin\"] = timestamp\n",
    "    \n",
    "    return {\"tiempos\" : tiempos, \"intentosNecesarios\" : intentosNecesarios, \"inicioYFinJuego\" : inicioYFinJuego, \"erroresVar\" : erroresVar, \"erroresCod\" : erroresCod}"
   ]
  },
  {
   "cell_type": "markdown",
   "id": "efa6361f-6d8d-458e-b61a-7642520f674e",
   "metadata": {
    "tags": []
   },
   "source": [
    "-----------------------------------------------------------------------------------------------------------------------------------------------------------------\n",
    "### Función que resta los timestamps de inicio y fin de cada intento de nivel para sacar la diferencia de tiempo"
   ]
  },
  {
   "cell_type": "code",
   "execution_count": 6,
   "id": "8fbeaafd-7da1-4d8a-8adb-bedd73727ef7",
   "metadata": {},
   "outputs": [],
   "source": [
    "def tiempoPorNiveles_Jugador(data):\n",
    "    tiemposJugados = defaultdict(defaultdict)\n",
    "    for player in data:\n",
    "        for level in data[player]:\n",
    "            for times in data[player][level]:\n",
    "                if times[\"fin\"] != None: #Si no se aborto el intento del nivel\n",
    "                    timeDifference = Tiempo(times[\"ini\"], times[\"fin\"])\n",
    "                    if level in tiemposJugados[player]:\n",
    "                        tiemposJugados[player][level].append({\"time\" : timeDifference, \"stars\" : times[\"stars\"]})\n",
    "                    else:\n",
    "                        tiemposJugados[player][level] = [{\"time\" : timeDifference, \"stars\" : times[\"stars\"]}]\n",
    "    return tiemposJugados"
   ]
  },
  {
   "cell_type": "code",
   "execution_count": 7,
   "id": "58278c9c",
   "metadata": {},
   "outputs": [],
   "source": [
    "def tiempoTotalJuego(inicioYFinJuego):\n",
    "    tiempoTotal = defaultdict()\n",
    "    for player in inicioYFinJuego:\n",
    "        for time in inicioYFinJuego[player]:\n",
    "            if time[\"fin\"] != None:\n",
    "                if player in tiempoTotal:\n",
    "                    tiempoTotal[player] += Tiempo(time[\"inicio\"], time[\"fin\"])\n",
    "                else:\n",
    "                    tiempoTotal[player] = Tiempo(time[\"inicio\"], time[\"fin\"])\n",
    "\n",
    "    for p in tiempoTotal:\n",
    "        tiempoTotal[p] = str(tiempoTotal[p])\n",
    "    return tiempoTotal"
   ]
  },
  {
   "cell_type": "markdown",
   "id": "1d9088b2-e533-4c68-8a46-0655c5a3098f",
   "metadata": {},
   "source": [
    "-----------------------------------------------------------------------------------------------------------------------------------------------------------------\n",
    "### Función que devuelve el tiempo medio necesario para completar un nivel y un diccionario con el tiempo empleado por cada jugador hasta completar el nivel\n",
    "(El tiempo necesario para cada jugador es la suma de todos los tiempos hasta conseguir completar el nivel)\n",
    "* También devuelve la media de estrellas y una lista de los niveles ordenados"
   ]
  },
  {
   "cell_type": "code",
   "execution_count": 8,
   "id": "0f406ab2-c482-4ce9-a43a-a67b00c7592c",
   "metadata": {},
   "outputs": [],
   "source": [
    "#TAMBIEN DEVUELVE EL TIEMPO INDIVIDUAL DE CADA JUGADOR PARA COMPLETAR CADA NIVEL\n",
    "def getMediaTiempoPorNivel(tiempos, soloPrimerExito = True, tiemposOrdenados = False):\n",
    "    medias = defaultdict(list)\n",
    "    mediasEstrellas = defaultdict(list)\n",
    "    tiempoCompletarNivelIndividual = defaultdict(defaultdict)\n",
    "    \n",
    "    for player in tiempos:\n",
    "        for level in tiempos[player]:\n",
    "            tAux = Tiempo(\"0s\")\n",
    "            for t in tiempos[player][level]:\n",
    "                if t[\"stars\"] != -1:\n",
    "                    if level in medias:\n",
    "                        medias[level].append(int(tAux + t[\"time\"]))\n",
    "                        mediasEstrellas[level].append(int(t[\"stars\"]))\n",
    "                    else:\n",
    "                        medias[level] = [int(tAux + t[\"time\"])]\n",
    "                        mediasEstrellas[level] = [int(t[\"stars\"])]\n",
    "                        \n",
    "                    tiempoCompletarNivelIndividual[player][level] = tAux + t[\"time\"]\n",
    "                    if soloPrimerExito:\n",
    "                        break\n",
    "                elif t[\"stars\"] == 0:\n",
    "                    print(\"ALERTA\")\n",
    "                else:\n",
    "                    tAux += t[\"time\"]\n",
    "    for m in medias:\n",
    "        medias[m] = Tiempo(str(int(round(statistics.mean(medias[m]), 0))) + \"s\")\n",
    "        \n",
    "    for m in mediasEstrellas:\n",
    "        mediasEstrellas[m] = statistics.mean(mediasEstrellas[m])\n",
    "    \n",
    "    listaNiveles = medias.keys()\n",
    "    \n",
    "    if tiemposOrdenados:\n",
    "        medias = sorted(medias.items(), key=lambda x: x[1])\n",
    "        mediasEstrellas = sorted(mediasEstrellas.items(), key=lambda x: x[1])\n",
    "    else:\n",
    "        medias = list(medias.items())\n",
    "        mediasEstrellas = list(mediasEstrellas.items())\n",
    "    \n",
    "    return {\"mediaTiempos\" : medias, \"mediaEstrellas\" : mediasEstrellas, \"listaNiveles\" : listaNiveles, \"tiemposIndividuales\" : tiempoCompletarNivelIndividual}"
   ]
  },
  {
   "cell_type": "markdown",
   "id": "c43f5e74-a53c-489d-b46e-0bdc44c7a628",
   "metadata": {
    "tags": []
   },
   "source": [
    "-----------------------------------------------------------------------------------------------------------------------------------------------------------------\n",
    "### Devuelve un diccionario con clave: id Jugador y valor: ultimo nivel alcanzado"
   ]
  },
  {
   "cell_type": "code",
   "execution_count": 9,
   "id": "f5651348-7a8b-461b-a2aa-dd884ec009df",
   "metadata": {},
   "outputs": [],
   "source": [
    "def getUltimoNivelAlcanzado(tiempos):\n",
    "    ultNivel = defaultdict()\n",
    "    for player in tiempos:\n",
    "        for level in tiempos[player]:\n",
    "            ultNivel[player] = level\n",
    "    return ultNivel"
   ]
  },
  {
   "cell_type": "markdown",
   "id": "99a81364-a968-42ff-82d8-40d391023b4a",
   "metadata": {},
   "source": [
    "-----------------------------------------------------------------------------------------------------------------------------------------------------------------\n",
    "### Devuelve los intentos necesarios de cada jugador para completar un nivel al igual que los intentos medios"
   ]
  },
  {
   "cell_type": "code",
   "execution_count": 10,
   "id": "8ea9cd08-8de3-4a46-8864-2b0f1108809a",
   "metadata": {},
   "outputs": [],
   "source": [
    "#TAMBIEN DEVUELVE LOS INTENTOS INDIVIDUALES DE CADA JUGADOR PARA COMPLETAR CADA NIVEL\n",
    "def getIntentosMedios_HastaCompletarNivel(intentosNecesarios, intentosOrdenados = False):\n",
    "    intentosMedios = defaultdict(list)\n",
    "    intentosCompletarNivelIndividual = defaultdict(defaultdict)\n",
    "    \n",
    "    for name in intentosNecesarios:\n",
    "        for level in intentosNecesarios[name]:\n",
    "            cont = 0\n",
    "            for i in intentosNecesarios[name][level]:\n",
    "                cont += i[\"intentos\"]\n",
    "                if i[\"success\"] == True:\n",
    "                    intentosMedios[level].append(cont)\n",
    "                    intentosCompletarNivelIndividual[name][level] = cont\n",
    "                    break\n",
    "            \n",
    "    for level in intentosMedios:\n",
    "        intentosMedios[level] = round(statistics.mean(intentosMedios[level]), 2)\n",
    "    \n",
    "    if intentosOrdenados:\n",
    "        intentosMedios = sorted(intentosMedios.items(), key=lambda x: x[1])\n",
    "    else:\n",
    "        intentosMedios = list(intentosMedios.items())\n",
    "    return {\"intentosMedios\" : intentosMedios, \"intentosIndividual\" : intentosCompletarNivelIndividual}"
   ]
  },
  {
   "cell_type": "markdown",
   "id": "9ede6000-b5ff-4ab4-a3c3-c3cd723d7f30",
   "metadata": {},
   "source": [
    "-----------------------------------------------------------------------------------------------------------------------------------------------------------------\n",
    "### Transforma un diccionario de diccionarios en un diccionario de arrays\n",
    "* Se utiliza para tener una lista de todos los tiempos de los usuarios cuando tenemos un diccionario dentro de otro con primera clave nombre usuario y segunda clave codigo del nivel"
   ]
  },
  {
   "cell_type": "code",
   "execution_count": 11,
   "id": "a7232498-f00d-4a9a-af4e-955a26ac8524",
   "metadata": {},
   "outputs": [],
   "source": [
    "def extraerArray(my_dict):\n",
    "    nested_keys = []\n",
    "    nested_values = []\n",
    "\n",
    "    for k, v in my_dict.items():\n",
    "        for nested_k, nested_v in v.items():\n",
    "            nested_keys.append(nested_k)\n",
    "            nested_values.append(nested_v)\n",
    "\n",
    "    # create a dictionary with keys as the values of the nested_keys array\n",
    "    nested_dict = defaultdict(list)\n",
    "    for key, value in zip(nested_keys, nested_values):\n",
    "        nested_dict[key].append(value)\n",
    "    \n",
    "    return nested_dict"
   ]
  },
  {
   "cell_type": "code",
   "execution_count": 12,
   "id": "2543bb4b",
   "metadata": {},
   "outputs": [],
   "source": [
    "def extraerArrayConNombres(my_dict):\n",
    "    nested_keys = []\n",
    "    nested_values = []\n",
    "\n",
    "    for k, v in my_dict.items():\n",
    "        for nested_k, nested_v in v.items():\n",
    "            nested_keys.append(nested_k)\n",
    "            nested_values.append({\"name\" : k, \"valor\" : nested_v})\n",
    "\n",
    "    # create a dictionary with keys as the values of the nested_keys array\n",
    "    nested_dict = defaultdict(defaultdict)\n",
    "    for key, value in zip(nested_keys, nested_values):\n",
    "        nested_dict[key][value[\"name\"]] = value[\"valor\"]\n",
    "    \n",
    "    return nested_dict"
   ]
  },
  {
   "cell_type": "markdown",
   "id": "24c8bf2a-6261-4ec9-adea-425bb588a50e",
   "metadata": {},
   "source": [
    "-----------------------------------------------------------------------------------------------------------------------------------------------------------------\n",
    "### Recibe un diccionario con clave nivel y valor una lista de tiempos y parsea los tiempos a integer"
   ]
  },
  {
   "cell_type": "code",
   "execution_count": 13,
   "id": "6e4a73ea-40e7-4f46-935e-9f24b51cb1d8",
   "metadata": {},
   "outputs": [],
   "source": [
    "def parseTiemposDictToInteger(data_dict):\n",
    "    parsed_dict = {}\n",
    "\n",
    "    for key, value in data_dict.items():\n",
    "        parsed_list = []\n",
    "        for element in value:\n",
    "            parsed_list.append(int(element))\n",
    "        parsed_dict[key] = parsed_list\n",
    "\n",
    "    return parsed_dict"
   ]
  },
  {
   "cell_type": "markdown",
   "id": "5633ce07-0445-4250-8e6d-64b43f25166b",
   "metadata": {},
   "source": [
    "-----------------------------------------------------------------------------------------------------------------------------------------------------------------\n",
    "### Función que genera los boxplots recibiendo un diccionario con clave nivel y valor una lista de enteros"
   ]
  },
  {
   "cell_type": "code",
   "execution_count": 14,
   "id": "7fbe8445-7e55-48dd-8b3c-9fb803af274c",
   "metadata": {},
   "outputs": [],
   "source": [
    "def create_boxplots(data_dict):\n",
    "    # Group levels by category\n",
    "    category_dict = {}\n",
    "    for level, data in data_dict.items():\n",
    "        category = level.split('_')[0]\n",
    "        if category in category_dict:\n",
    "            category_dict[category].append(data)\n",
    "        else:\n",
    "            category_dict[category] = [data]\n",
    "    \n",
    "    # Create boxplots for each category and add relevant information\n",
    "    boxplots = []\n",
    "    labels = []\n",
    "    for i, (category, data_list) in enumerate(category_dict.items()):\n",
    "        fig, ax = plt.subplots()\n",
    "        bp = ax.boxplot(data_list, showfliers=True, patch_artist=True, flierprops={'marker': '+', 'markerfacecolor': '#738FA7'})\n",
    "        ax.set_title(category)\n",
    "\n",
    "        color = '#738FA7'\n",
    "        for patch in bp['boxes']:\n",
    "            patch.set_facecolor(color)\n",
    "        \n",
    "        boxplots.append(bp)\n",
    "        labels.append(category)\n",
    "    \n",
    "    # Set tick labels\n",
    "    fig, ax = plt.subplots()\n",
    "    ax.set_xticks(range(len(labels)))\n",
    "    ax.set_xticklabels(labels)\n",
    "    ax.tick_params(axis='x', labelrotation=45)\n",
    "    \n",
    "    return boxplots\n"
   ]
  },
  {
   "cell_type": "code",
   "execution_count": 15,
   "id": "1986d4bf",
   "metadata": {},
   "outputs": [],
   "source": [
    "def getCuantasPersonasHanAlcanzadoNivel(ultNivelCompletado, niveles):\n",
    "    cuantosHanLlegadoAlNivel = defaultdict()\n",
    "    \n",
    "    ultNivelCopia = ultNivelCompletado.copy()\n",
    "\n",
    "    #Contamos cuanta gente ha llegado hasta cada nivel\n",
    "    for nivel in niveles:\n",
    "        cuantosHanLlegadoAlNivel[nivel] = len(ultNivelCopia)\n",
    "        \n",
    "        keys_to_delete = [k for k, v in ultNivelCopia.items() if v == nivel]\n",
    "        for k in keys_to_delete:\n",
    "            del ultNivelCopia[k]\n",
    "\n",
    "    return cuantosHanLlegadoAlNivel"
   ]
  },
  {
   "cell_type": "code",
   "execution_count": 16,
   "id": "7d45acbc",
   "metadata": {},
   "outputs": [],
   "source": [
    "def generateChartNivelesAlcanzados(niveles, ultNivelCompletado):\n",
    "    cuantosHanLlegadoAlNivel = getCuantasPersonasHanAlcanzadoNivel(ultNivelCompletado, niveles)\n",
    "    category_dict = {}\n",
    "    for level, value in cuantosHanLlegadoAlNivel.items():\n",
    "        category = level.split('_')[0]\n",
    "        level_number = int(level.split('_')[-1])\n",
    "        if category in category_dict:\n",
    "            category_dict[category].append((level_number, value))\n",
    "        else:\n",
    "            category_dict[category] = [(level_number, value)]\n",
    "    for category, levels in category_dict.items():\n",
    "        category_dict[category] = sorted(levels, key=lambda x: x[0])\n",
    "\n",
    "    # Select the last level for each category\n",
    "    last_levels = {}\n",
    "    for category, levels in category_dict.items():\n",
    "        last_level = levels[-1][0]\n",
    "        last_levels[category] = levels[-1][1]\n",
    "\n",
    "    # Create bar chart and add labels\n",
    "    fig, ax = plt.subplots()\n",
    "    ax.bar(last_levels.keys(), last_levels.values(), color=\"#738FA7\")\n",
    "    ax.set_xticklabels(last_levels.keys(), rotation=45, ha='right')\n",
    "        \n",
    "    plt.show()"
   ]
  },
  {
   "cell_type": "code",
   "execution_count": 17,
   "id": "ccf1482a",
   "metadata": {},
   "outputs": [],
   "source": [
    "def generateChartNivelesAlcanzados2(niveles, ultNivelCompletado):\n",
    "    cuantosHanLlegadoAlNivel = getCuantasPersonasHanAlcanzadoNivel(ultNivelCompletado, niveles)\n",
    "    print(cuantosHanLlegadoAlNivel)\n",
    "    ultNivelCat = {}\n",
    "    for level in cuantosHanLlegadoAlNivel:\n",
    "        ultNivelCat[(\" \".join(level.split(\"_\")[:-1])).capitalize()] = cuantosHanLlegadoAlNivel[level]\n",
    "    \n",
    "    df = pd.DataFrame({\"levels\" : list(ultNivelCat.keys()), \"nJugadores\" : list(ultNivelCat.values())})\n",
    "    fig = px.bar(df, x=\"levels\", y='nJugadores', labels={'levels':'Categorías', 'nJugadores':'Numero Jugadores'})\n",
    "    fig.update_layout(plot_bgcolor='#C3CEDA')\n",
    "    fig.update_traces(marker_color='#738FA7', hovertemplate='<b>Numero Jugadores: %{y}</b>')\n",
    "    #fig.write_json(\"./plots/categorias.json\")\n",
    "    return fig\n"
   ]
  },
  {
   "cell_type": "code",
   "execution_count": 18,
   "id": "1760da99",
   "metadata": {},
   "outputs": [],
   "source": [
    "def getChartPorcentajeCategorias(niveles, ultNivelCompletado, total_players):\n",
    "\n",
    "    cuantosHanLlegadoAlNivel = getCuantasPersonasHanAlcanzadoNivel(ultNivelCompletado, niveles)\n",
    "\n",
    "    ultimoNivelCat = {}\n",
    "    for level in niveles:\n",
    "        category = level.split(\"_\")[0]\n",
    "        ultimoNivelCat[category] = level\n",
    "    \n",
    "    percentages = {}\n",
    "    for ultNivel in ultimoNivelCat.values():\n",
    "        percentages[ultNivel] = (cuantosHanLlegadoAlNivel[ultNivel]/total_players)*100\n",
    "    \n",
    "    fig, ax = plt.subplots()\n",
    "    ax.bar(range(len(percentages)), list(percentages.values()), align='center', color=\"#738FA7\")\n",
    "    ax.set_xticks(range(len(percentages)))\n",
    "    ax.set_xticklabels(map(lambda c: c.split(\"_\")[0], list(percentages.keys())), rotation=45, ha='right')\n",
    "    ax.set_ylim((0, 100))\n",
    "    ax.set_ylabel('Porcentaje Jugadores')\n",
    "    ax.set_xlabel('Categorías')\n",
    "    ax.set_title('Categorías Superadas')\n",
    "    \n",
    "    return ax"
   ]
  },
  {
   "cell_type": "code",
   "execution_count": 19,
   "id": "af9ad872-838a-4361-9b2b-c476689e5e4d",
   "metadata": {},
   "outputs": [],
   "source": [
    "pd.options.display.max_columns = None\n",
    "pd.set_option('display.max_colwidth', None)\n",
    "pd.options.display.max_rows = None"
   ]
  },
  {
   "cell_type": "code",
   "execution_count": 22,
   "id": "47fb23d1-e343-4576-8c52-68fb896e9049",
   "metadata": {},
   "outputs": [
    {
     "name": "stdout",
     "output_type": "stream",
     "text": [
      "{'actor': {'name': 'bdwyj', 'account': {'homePage': 'https://simva-api.simva.e-ucm.es', 'username': 'bdwyj'}}, 'result': {'score': {'raw': 2}, 'extensions': {'minimum_steps': True, 'no_hints': False, 'first_execution': True, 'steps': 8}, 'success': True}, 'verb': {'id': 'http://adlnet.gov/expapi/verbs/completed'}, '_id': '628179b5a6ba41003d3bada2', 'object': {'definition': {'type': 'https://w3id.org/xapi/seriousgames/activity-types/level'}, 'id': 'https://simva-api.simva.e-ucm.es/activities/628179b5a6ba41003d3bada2/variables_9'}, 'timestamp': '2022-05-18T09:51:16.339Z'}\n"
     ]
    }
   ],
   "source": [
    "#JSONFile = open('../Web/datos/1/trazasOrdenadas.json')\n",
    "JSONFile = open('../Web/datos/1/trazasOrdenadas.json')\n",
    "rawData = json.load(JSONFile)\n",
    "JSONFile.close()\n",
    "\n",
    "resultados_Tiempos_Nivel_Jugador = extraerTiemposPorNivelJugador(rawData)\n",
    "\n",
    "#print(resultados_Tiempos_Nivel_Jugador[\"erroresCod\"])\n",
    "with open(\"erroresCod.json\", \"w\") as f:\n",
    "    json.dump(resultados_Tiempos_Nivel_Jugador[\"erroresCod\"], f)"
   ]
  },
  {
   "cell_type": "code",
   "execution_count": null,
   "id": "b4bbd7a6",
   "metadata": {},
   "outputs": [],
   "source": [
    "tiempoTJuego = tiempoTotalJuego(resultados_Tiempos_Nivel_Jugador[\"inicioYFinJuego\"])\n",
    "json.dumps(tiempoTJuego)\n",
    "#pd.DataFrame(tiempoTJuego, index = [\"Tiempo\"])"
   ]
  },
  {
   "cell_type": "code",
   "execution_count": null,
   "id": "4a28ae5c-65c3-43d4-ba98-c6f325d91e93",
   "metadata": {},
   "outputs": [],
   "source": [
    "tiemposIntentosJugadores = tiempoPorNiveles_Jugador(resultados_Tiempos_Nivel_Jugador[\"tiempos\"])\n",
    "#pd.DataFrame(tiemposIntentosJugadores)\n",
    "#pd.DataFrame(resultados_Tiempos_Nivel_Jugador[\"intentosNecesarios\"])"
   ]
  },
  {
   "cell_type": "code",
   "execution_count": null,
   "id": "701cd0ac-d88f-413e-89a7-79ad51a58b8b",
   "metadata": {},
   "outputs": [],
   "source": [
    "soloPrimerExito = True\n",
    "tiemposOrdenados = False\n",
    "tiemposMedios = getMediaTiempoPorNivel(tiemposIntentosJugadores, soloPrimerExito, tiemposOrdenados)\n",
    "pd.DataFrame(tiemposMedios[\"mediaTiempos\"])\n",
    "#pd.DataFrame(tiemposMedios[\"mediaEstrellas\"])\n",
    "#pd.DataFrame(tiemposMedios[\"listaNiveles\"])\n",
    "#pd.DataFrame(tiemposMedios[\"tiemposIndividuales\"])"
   ]
  },
  {
   "cell_type": "code",
   "execution_count": null,
   "id": "9b26941f-7a8f-41d3-b8f4-5732e676a9b0",
   "metadata": {},
   "outputs": [],
   "source": [
    "ultNivelAlcanzado = getUltimoNivelAlcanzado(tiemposMedios[\"tiemposIndividuales\"])\n",
    "#print(ultNivelAlcanzado)"
   ]
  },
  {
   "cell_type": "code",
   "execution_count": null,
   "id": "8392b99c-3307-4e4d-8059-3934ce7e7394",
   "metadata": {},
   "outputs": [],
   "source": [
    "intentosOrdenados = False\n",
    "intentosMedios_Individual = getIntentosMedios_HastaCompletarNivel(resultados_Tiempos_Nivel_Jugador[\"intentosNecesarios\"], intentosOrdenados)\n",
    "#pd.DataFrame(intentosMedios_Individual[\"intentosMedios\"])\n",
    "#pd.DataFrame(intentosMedios_Individual[\"intentosIndividual\"])"
   ]
  },
  {
   "cell_type": "code",
   "execution_count": null,
   "id": "f013eba9-a18e-44fc-95d1-d8a52f58da9b",
   "metadata": {},
   "outputs": [],
   "source": [
    "tiemposList = extraerArray(tiemposMedios[\"tiemposIndividuales\"])\n",
    "intentosList = extraerArray(intentosMedios_Individual[\"intentosIndividual\"])\n",
    "#pd.DataFrame.from_dict(tiemposList, orient='index').transpose()\n",
    "#pd.DataFrame.from_dict(intentosList, orient='index').transpose()"
   ]
  },
  {
   "cell_type": "code",
   "execution_count": null,
   "id": "3c76de52",
   "metadata": {},
   "outputs": [],
   "source": [
    "intentosListNombres = extraerArrayConNombres(intentosMedios_Individual[\"intentosIndividual\"])\n",
    "tiemposListNombres = extraerArrayConNombres(tiemposMedios[\"tiemposIndividuales\"])\n",
    "#pd.DataFrame.from_dict(intentosListNombres, orient='index').transpose()\n",
    "#pd.DataFrame.from_dict(tiemposListNombres, orient='index').transpose()"
   ]
  },
  {
   "cell_type": "code",
   "execution_count": null,
   "id": "6ff2ffd4",
   "metadata": {},
   "outputs": [],
   "source": [
    "def parseTiemposDictConNombresToInteger(tiemposDict):\n",
    "    for l in tiemposDict:\n",
    "        for j in tiemposDict[l]:\n",
    "            tiemposDict[l][j] = int(tiemposDict[l][j])\n",
    "    return tiemposDict"
   ]
  },
  {
   "cell_type": "code",
   "execution_count": null,
   "id": "b846725a",
   "metadata": {},
   "outputs": [],
   "source": [
    "fig = generateChartNivelesAlcanzados2(tiemposMedios[\"listaNiveles\"], ultNivelAlcanzado)\n",
    "fig.show()"
   ]
  },
  {
   "cell_type": "code",
   "execution_count": null,
   "id": "c4613c46",
   "metadata": {},
   "outputs": [],
   "source": [
    "#getChartPorcentajeCategorias(tiemposMedios[\"listaNiveles\"], ultNivelAlcanzado, len(ultNivelAlcanzado))"
   ]
  },
  {
   "cell_type": "code",
   "execution_count": null,
   "id": "0e84441f-5863-4167-85e6-92eaa572fd64",
   "metadata": {},
   "outputs": [],
   "source": [
    "#boxplotsIntentos = create_boxplots(intentosList)"
   ]
  },
  {
   "cell_type": "code",
   "execution_count": null,
   "id": "c8674095-e939-4499-9f85-f5c79df0f35e",
   "metadata": {},
   "outputs": [],
   "source": [
    "#boxplotsTiempos = create_boxplots(parseTiemposDictToInteger(tiemposList))"
   ]
  },
  {
   "cell_type": "code",
   "execution_count": null,
   "metadata": {},
   "outputs": [],
   "source": [
    "def create_boxplots3(data_dict, titulo):\n",
    "    categorias = defaultdict(defaultdict)\n",
    "    for d in data_dict:\n",
    "        categorias[d.split(\"_\")[0]][d] = data_dict[d]\n",
    "\n",
    "    boxplots = []\n",
    "    for c in categorias:\n",
    "        df = pd.DataFrame.from_dict(categorias[c], orient=\"index\")\n",
    "        df = df.reset_index()\n",
    "        df = df.rename(columns={'index' : 'Niveles'})\n",
    "        df_melted = df.melt(id_vars=['Niveles'], var_name='Jugador', value_name=titulo)\n",
    "        # create boxplot\n",
    "        fig = px.box(df_melted, x='Niveles', y=titulo, hover_name='Jugador')\n",
    "        fig.update_layout(plot_bgcolor='#C3CEDA')\n",
    "        fig.update_traces(marker_color='#738FA7', hovertemplate='<b>%{hovertext}</b><br>' + titulo + ': %{y}')\n",
    "        #fig.write_json(\"./plots/\"+c + \"_\"+ titulo +\".json\")\n",
    "        boxplots.append(fig)\n",
    "    return boxplots"
   ]
  },
  {
   "cell_type": "code",
   "execution_count": null,
   "id": "3648b6cf",
   "metadata": {},
   "outputs": [],
   "source": [
    "boxsIntentos= create_boxplots3(intentosListNombres, 'Intentos')\n",
    "for b in boxsIntentos:\n",
    "    #b.show()\n",
    "    None"
   ]
  },
  {
   "cell_type": "code",
   "execution_count": null,
   "id": "a76fe740",
   "metadata": {},
   "outputs": [],
   "source": [
    "boxsTiempos = create_boxplots3(parseTiemposDictConNombresToInteger(tiemposListNombres), \"Tiempo(s)\")\n",
    "for b in boxsTiempos:\n",
    "    #b.show()\n",
    "    None"
   ]
  },
  {
   "cell_type": "code",
   "execution_count": null,
   "id": "604c4467",
   "metadata": {},
   "outputs": [],
   "source": [
    "def getChartComparativas(niveles, tiemposMedios, ultNivelCompletado, jugClase):\n",
    "    cuantosHanLlegadoAlNivel = getCuantasPersonasHanAlcanzadoNivel(ultNivelCompletado, niveles)\n",
    "    ultNivelCat = {}\n",
    "    for level in cuantosHanLlegadoAlNivel:\n",
    "        ultNivelCat[(\" \".join(level.split(\"_\")[:-1])).capitalize()] = cuantosHanLlegadoAlNivel[level]\n",
    "\n",
    "    for c in ultNivelCat:\n",
    "        ultNivelCat[c] = round((ultNivelCat[c]/jugClase)*100, 2)\n",
    "\n",
    "    categorias = defaultdict(defaultdict)\n",
    "    for d in tiemposMedios:\n",
    "        categorias[(\" \".join(d[0].split(\"_\")[:-1])).capitalize()][d[0]] = int(d[1])\n",
    "\n",
    "    ### Actualizar datos globales\n",
    "    JSONFile = open('datosGlobales.json')\n",
    "    datosGlobales = json.load(JSONFile)\n",
    "    JSONFile.close()\n",
    "\n",
    "    if( 1 not in datosGlobales[\"institutos\"]):\n",
    "        jugTotales = jugClase + datosGlobales[\"numeroAlumnos\"]\n",
    "        for c in datosGlobales[\"porcentaje\"]:\n",
    "            if c in ultNivelCat:\n",
    "                datosGlobales[\"porcentaje\"][c] = (datosGlobales[\"porcentaje\"][c]*datosGlobales[\"numeroAlumnos\"]/jugTotales) + (ultNivelCat[c]*jugClase/jugTotales)\n",
    "\n",
    "        \n",
    "        datosGlobales[\"numeroAlumnos\"] = jugTotales        \n",
    "        datosGlobales[\"institutos\"].append(1)\n",
    "\n",
    "        for c in datosGlobales[\"tiempoMedio\"]:\n",
    "            if c in categorias:\n",
    "                for l in datosGlobales[\"tiempoMedio\"][c]:\n",
    "                    if l in categorias[c]:\n",
    "                        datosGlobales[\"tiempoMedio\"][c][l] = (datosGlobales[\"tiempoMedio\"][c][l]*datosGlobales[\"numeroAlumnos\"]/jugTotales) + (categorias[c][l]*jugClase/jugTotales)\n",
    "                        \n",
    "        with open('datosGlobales.json', 'w') as json_file:\n",
    "            json.dump(datosGlobales, json_file)\n",
    "\n",
    "\n",
    "    print(ultNivelCat)\n",
    "    fig = go.Figure(data=[\n",
    "        go.Bar(name=\"Clase\", x=list(ultNivelCat.keys()), y=list(ultNivelCat.values()), marker_color=\"#738FA7\",\n",
    "               hovertemplate='<b>%{y}%</b>'),\n",
    "        go.Bar(name=\"Global\", x=list(datosGlobales[\"porcentaje\"].keys()), y=list(datosGlobales[\"porcentaje\"].values()), marker_color=\"#0C4160\",\n",
    "               hovertemplate='<b>%{y}%</b>'),\n",
    "    ])\n",
    "    fig.update_layout(plot_bgcolor='#C3CEDA')\n",
    "    fig.update_layout(barmode='group')\n",
    "    fig.update_layout(title_text='Porcentaje Categorías Superadas VS Global')\n",
    "    #fig.write_json(\"./plots/porcentajeCategorias.json\")\n",
    "    fig.show()\n",
    "\n",
    "\n",
    "    print(categorias)\n",
    "    for c in datosGlobales[\"tiempoMedio\"]:\n",
    "        if c in categorias:\n",
    "            fig = go.Figure(data=[\n",
    "                go.Bar(name = \"Clase\", x=list(categorias[c].keys()), y=list(categorias[c].values()), marker_color=\"#738FA7\",\n",
    "                    hovertemplate='<b>%{y}s</b>'),\n",
    "                go.Bar(name = \"Global\", x=list(datosGlobales[\"tiempoMedio\"][c].keys()), y=list(datosGlobales[\"tiempoMedio\"][c].values()), marker_color=\"#0C4160\",\n",
    "                    hovertemplate='<b>%{y}s</b>')\n",
    "            ])\n",
    "            fig.update_layout(plot_bgcolor='#C3CEDA')\n",
    "            fig.update_layout(barmode='group')\n",
    "            fig.write_json(\"./plots/\" + c.split(\" \")[0].lower() + \"_mediaTiemposComparativa.json\")\n",
    "            fig.show()"
   ]
  },
  {
   "cell_type": "code",
   "execution_count": null,
   "id": "bd0ca20c",
   "metadata": {},
   "outputs": [],
   "source": [
    "getChartComparativas(tiemposMedios[\"listaNiveles\"], tiemposMedios[\"mediaTiempos\"], ultNivelAlcanzado, len(ultNivelAlcanzado))"
   ]
  },
  {
   "cell_type": "code",
   "execution_count": null,
   "id": "dcdbc748",
   "metadata": {},
   "outputs": [],
   "source": [
    "\n",
    "def getListaCategorias(listaNiveles):\n",
    "    categorias = defaultdict()\n",
    "    erroresVar = defaultdict()\n",
    "    erroresCod = defaultdict()\n",
    "\n",
    "    for n in listaNiveles:\n",
    "        categorias[n.split(\"_\")[0]] = (\" \".join(n.split(\"_\")[:-1])).capitalize()\n",
    "    \n",
    "    for j in resultados_Tiempos_Nivel_Jugador[\"erroresVar\"]:\n",
    "        for e in resultados_Tiempos_Nivel_Jugador[\"erroresVar\"][j]:\n",
    "            if e[\"level\"] in erroresVar:\n",
    "                erroresVar[e[\"level\"]] += 1\n",
    "            else:\n",
    "                erroresVar[e[\"level\"]] = 1\n",
    "\n",
    "    for j in resultados_Tiempos_Nivel_Jugador[\"erroresCod\"]:\n",
    "        for e in resultados_Tiempos_Nivel_Jugador[\"erroresCod\"][j]:\n",
    "            if e[\"level\"] in erroresCod:\n",
    "                erroresCod[e[\"level\"]] += 1\n",
    "            else:\n",
    "                erroresCod[e[\"level\"]] = 1\n",
    "    \n",
    "    nPersonasNivel = getCuantasPersonasHanAlcanzadoNivel(ultNivelAlcanzado, tiemposMedios[\"listaNiveles\"])\n",
    "    listVar = []\n",
    "    listCod = []\n",
    "    for n in nPersonasNivel:\n",
    "        if n in erroresVar:\n",
    "            listVar.append({n : {\"errores\" : erroresVar[n], \"jugadores\" : nPersonasNivel[n]}})\n",
    "        else:\n",
    "            listVar.append({n : {\"errores\" : 0, \"jugadores\" : nPersonasNivel[n]}})\n",
    "\n",
    "        if n in erroresCod:\n",
    "            listCod.append({n : {\"errores\" : erroresCod[n], \"jugadores\" : nPersonasNivel[n]}})\n",
    "        else:\n",
    "            listCod.append({n : {\"errores\" : 0, \"jugadores\" : nPersonasNivel[n]}})\n",
    "\n",
    "\n",
    "    listVar = sorted(listVar, key=lambda x: x[list(x.keys())[0]]['errores'], reverse=True)\n",
    "    listCod = sorted(listCod, key=lambda x: x[list(x.keys())[0]]['errores'], reverse=True)\n",
    "\n",
    "    with open('./info.json', 'w') as json_file:\n",
    "        json.dump({\"categorias\" : categorias, \"niveles\" : list(listaNiveles), \"nErroresVar\" : listVar, \"nErroresCod\" : listCod}, json_file)\n",
    "    return categorias\n",
    "\n",
    "getListaCategorias(tiemposMedios[\"listaNiveles\"])"
   ]
  },
  {
   "cell_type": "code",
   "execution_count": 3,
   "id": "12d8287a",
   "metadata": {},
   "outputs": [
    {
     "name": "stdout",
     "output_type": "stream",
     "text": [
      "{'actor': {'name': 'bdwyj', 'account': {'homePage': 'https://simva-api.simva.e-ucm.es', 'username': 'bdwyj'}}, 'result': {'extensions': {'code': '\\r\\n<xml>\\r\\n    <variables>\\r\\n        <variable type=\"\" id=\"urRxji5T[1Qzu$17ca|J\">X</variable>\\r\\n        <variable type=\"\" id=\"{c4px%Pg|L^,!A2`n0fb\">Y</variable>\\r\\n    </variables>\\r\\n    <block type=\"start_start\" id=\"start_start_mbfu\" x=\"235\" y=\"-182\">\\r\\n        <next>\\r\\n            <block type=\"variables_set\" id=\"variables_set_mcjf\">\\r\\n                <field name=\"VAR\" id=\"urRxji5T[1Qzu$17ca|J\" variableType=\"\">X</field>\\r\\n                <value name=\"VALUE\">\\r\\n                    <block type=\"math_number\" id=\"math_number_27bh\">\\r\\n                        <field name=\"NUM\">0</field>\\r\\n                    </block>\\r\\n                </value>\\r\\n                <next>\\r\\n                    <block type=\"variables_set\" id=\"variables_set_y3m3\">\\r\\n                        <field name=\"VAR\" id=\"{c4px%Pg|L^,!A2`n0fb\" variableType=\"\">Y</field>\\r\\n                        <value name=\"VALUE\">\\r\\n                            <block type=\"math_number\" id=\"math_number_3fc1\">\\r\\n                                <field name=\"NUM\">3</field>\\r\\n                            </block>\\r\\n                        </value>\\r\\n                    </block>\\r\\n                </next>\\r\\n            </block>\\r\\n        </next>\\r\\n    </block>\\r\\n</xml>'}}, 'verb': {'id': 'http://adlnet.gov/expapi/verbs/initialized'}, '_id': '628179b5a6ba41003d3bada2', 'object': {'definition': {'type': 'https://w3id.org/xapi/seriousgames/activity-types/level'}, 'id': 'https://simva-api.simva.e-ucm.es/activities/628179b5a6ba41003d3bada2/variables_9'}, 'timestamp': '2022-05-18T09:43:00.173Z'}\n",
      "-----------------------------------------------------------------\n",
      "{'actor': {'name': 'bdwyj', 'account': {'homePage': 'https://simva-api.simva.e-ucm.es', 'username': 'bdwyj'}}, 'result': {'extensions': {'code': '\\r\\n<xml>\\r\\n    <variables>\\r\\n        <variable type=\"\" id=\"urRxji5T[1Qzu$17ca|J\">X</variable>\\r\\n        <variable type=\"\" id=\"{c4px%Pg|L^,!A2`n0fb\">Y</variable>\\r\\n    </variables>\\r\\n    <block type=\"start_start\" id=\"start_start_mbfu\" x=\"235\" y=\"-182\">\\r\\n        <next>\\r\\n            <block type=\"variables_set\" id=\"variables_set_mcjf\">\\r\\n                <field name=\"VAR\" id=\"urRxji5T[1Qzu$17ca|J\" variableType=\"\">X</field>\\r\\n                <value name=\"VALUE\">\\r\\n                    <block type=\"math_number\" id=\"math_number_27bh\">\\r\\n                        <field name=\"NUM\">1</field>\\r\\n                    </block>\\r\\n                </value>\\r\\n                <next>\\r\\n                    <block type=\"variables_set\" id=\"variables_set_y3m3\">\\r\\n                        <field name=\"VAR\" id=\"{c4px%Pg|L^,!A2`n0fb\" variableType=\"\">Y</field>\\r\\n                        <value name=\"VALUE\">\\r\\n                            <block type=\"math_number\" id=\"math_number_3fc1\">\\r\\n                                <field name=\"NUM\">3</field>\\r\\n                            </block>\\r\\n                        </value>\\r\\n                        <next>\\r\\n                            <block type=\"movement_move_laser\" id=\"movement_move_laser_va3r\">\\r\\n                                <field name=\"DIRECTION\">UP</field>\\r\\n                                <value name=\"AMOUNT\">\\r\\n                                    <block type=\"variables_get\" id=\"variables_get_d75v\">\\r\\n                                        <field name=\"VAR\" id=\"{c4px%Pg|L^,!A2`n0fb\" variableType=\"\">Y</field>\\r\\n                                    </block>\\r\\n                                </value>\\r\\n                                <next>\\r\\n                                    <block type=\"movement_move_laser\" id=\"movement_move_laser_y3xl\">\\r\\n                                        <field name=\"DIRECTION\">UP</field>\\r\\n                                        <value name=\"AMOUNT\">\\r\\n                                            <block type=\"variables_get\" id=\"variables_get_sfa9\">\\r\\n                                                <field name=\"VAR\" id=\"{c4px%Pg|L^,!A2`n0fb\" variableType=\"\">Y</field>\\r\\n                                            </block>\\r\\n                                        </value>\\r\\n                                        <next>\\r\\n                                            <block type=\"movement_move_laser\" id=\"movement_move_laser_871b\">\\r\\n                                                <field name=\"DIRECTION\">RIGHT</field>\\r\\n                                                <value name=\"AMOUNT\">\\r\\n                                                    <block type=\"variables_get\" id=\"variables_get_6fgb\">\\r\\n                                                        <field name=\"VAR\" id=\"{c4px%Pg|L^,!A2`n0fb\" variableType=\"\">Y</field>\\r\\n                                                    </block>\\r\\n                                                </value>\\r\\n                                                <next>\\r\\n                                                    <block type=\"movement_rotate_laser\" id=\"movement_rotate_laser_562h\">\\r\\n                                                        <field name=\"ROTATION\">CLOCKWISE</field>\\r\\n                                                        <value name=\"AMOUNT\">\\r\\n                                                            <block type=\"variables_get\" id=\"variables_get_eph6\">\\r\\n                                                                <field name=\"VAR\" id=\"{c4px%Pg|L^,!A2`n0fb\" variableType=\"\">Y</field>\\r\\n                                                            </block>\\r\\n                                                        </value>\\r\\n                                                        <next>\\r\\n                                                            <block type=\"movement_rotate_laser\" id=\"movement_rotate_laser_jvw8\">\\r\\n                                                                <field name=\"ROTATION\">CLOCKWISE</field>\\r\\n                                                                <value name=\"AMOUNT\">\\r\\n                                                                    <block type=\"variables_get\" id=\"variables_get_qxe3\">\\r\\n                                                                        <field name=\"VAR\" id=\"{c4px%Pg|L^,!A2`n0fb\" variableType=\"\">Y</field>\\r\\n                                                                    </block>\\r\\n                                                                </value>\\r\\n                                                            </block>\\r\\n                                                        </next>\\r\\n                                                    </block>\\r\\n                                                </next>\\r\\n                                            </block>\\r\\n                                        </next>\\r\\n                                    </block>\\r\\n                                </next>\\r\\n                            </block>\\r\\n                        </next>\\r\\n                    </block>\\r\\n                </next>\\r\\n            </block>\\r\\n        </next>\\r\\n    </block>\\r\\n</xml>', 'https://w3id.org/xapi/seriousgames/extensions/progress': 0}}, 'verb': {'id': 'http://adlnet.gov/expapi/verbs/progressed'}, '_id': '628179b5a6ba41003d3bada2', 'object': {'definition': {'type': 'https://w3id.org/xapi/seriousgames/activity-types/level'}, 'id': 'https://simva-api.simva.e-ucm.es/activities/628179b5a6ba41003d3bada2/variables_9'}, 'timestamp': '2022-05-18T09:45:25.757Z'}\n",
      "-----------------------------------------------------------------\n",
      "{'actor': {'name': 'bdwyj', 'account': {'homePage': 'https://simva-api.simva.e-ucm.es', 'username': 'bdwyj'}}, 'result': {'score': {'raw': 0}, 'success': False}, 'verb': {'id': 'http://adlnet.gov/expapi/verbs/completed'}, '_id': '628179b5a6ba41003d3bada2', 'object': {'definition': {'type': 'https://w3id.org/xapi/seriousgames/activity-types/level'}, 'id': 'https://simva-api.simva.e-ucm.es/activities/628179b5a6ba41003d3bada2/variables_9'}, 'timestamp': '2022-05-18T09:45:33.904Z'}\n",
      "-----------------------------------------------------------------\n",
      "{'actor': {'name': 'bdwyj', 'account': {'homePage': 'https://simva-api.simva.e-ucm.es', 'username': 'bdwyj'}}, 'verb': {'id': 'http://adlnet.gov/expapi/verbs/initialized'}, '_id': '628179b5a6ba41003d3bada2', 'object': {'definition': {'type': 'https://w3id.org/xapi/seriousgames/activity-types/level'}, 'id': 'https://simva-api.simva.e-ucm.es/activities/628179b5a6ba41003d3bada2/variables_9'}, 'timestamp': '2022-05-18T09:45:36.162Z'}\n",
      "-----------------------------------------------------------------\n",
      "{'actor': {'name': 'bdwyj', 'account': {'homePage': 'https://simva-api.simva.e-ucm.es', 'username': 'bdwyj'}}, 'result': {'extensions': {'code': '\\r\\n<xml>\\r\\n    <variables>\\r\\n        <variable type=\"\" id=\"urRxji5T[1Qzu$17ca|J\">X</variable>\\r\\n        <variable type=\"\" id=\"{c4px%Pg|L^,!A2`n0fb\">Y</variable>\\r\\n    </variables>\\r\\n    <block type=\"variables_get\" id=\"variables_get_eph6\" x=\"552\" y=\"-873\">\\r\\n        <field name=\"VAR\" id=\"{c4px%Pg|L^,!A2`n0fb\" variableType=\"\">Y</field>\\r\\n    </block>\\r\\n    <block type=\"variables_get\" id=\"variables_get_qxe3\" x=\"516\" y=\"-855\">\\r\\n        <field name=\"VAR\" id=\"{c4px%Pg|L^,!A2`n0fb\" variableType=\"\">Y</field>\\r\\n    </block>\\r\\n    <block type=\"variables_get\" id=\"variables_get_6fgb\" x=\"421\" y=\"-572\">\\r\\n        <field name=\"VAR\" id=\"{c4px%Pg|L^,!A2`n0fb\" variableType=\"\">Y</field>\\r\\n    </block>\\r\\n    <block type=\"variables_get\" id=\"variables_get_sfa9\" x=\"421\" y=\"-492\">\\r\\n        <field name=\"VAR\" id=\"{c4px%Pg|L^,!A2`n0fb\" variableType=\"\">Y</field>\\r\\n    </block>\\r\\n    <block type=\"start_start\" id=\"start_start_mbfu\" x=\"235\" y=\"-182\">\\r\\n        <next>\\r\\n            <block type=\"variables_set\" id=\"variables_set_mcjf\">\\r\\n                <field name=\"VAR\" id=\"urRxji5T[1Qzu$17ca|J\" variableType=\"\">X</field>\\r\\n                <value name=\"VALUE\">\\r\\n                    <block type=\"math_number\" id=\"math_number_27bh\">\\r\\n                        <field name=\"NUM\">1</field>\\r\\n                    </block>\\r\\n                </value>\\r\\n                <next>\\r\\n                    <block type=\"variables_set\" id=\"variables_set_y3m3\">\\r\\n                        <field name=\"VAR\" id=\"{c4px%Pg|L^,!A2`n0fb\" variableType=\"\">Y</field>\\r\\n                        <value name=\"VALUE\">\\r\\n                            <block type=\"math_number\" id=\"math_number_3fc1\">\\r\\n                                <field name=\"NUM\">3</field>\\r\\n                            </block>\\r\\n                        </value>\\r\\n                        <next>\\r\\n                            <block type=\"movement_move_laser\" id=\"movement_move_laser_va3r\">\\r\\n                                <field name=\"DIRECTION\">RIGHT</field>\\r\\n                                <value name=\"AMOUNT\">\\r\\n                                    <block type=\"variables_get\" id=\"variables_get_d75v\">\\r\\n                                        <field name=\"VAR\" id=\"{c4px%Pg|L^,!A2`n0fb\" variableType=\"\">Y</field>\\r\\n                                    </block>\\r\\n                                </value>\\r\\n                                <next>\\r\\n                                    <block type=\"movement_move_laser\" id=\"movement_move_laser_y3xl\">\\r\\n                                        <field name=\"DIRECTION\">UP</field>\\r\\n                                        <value name=\"AMOUNT\">\\r\\n                                            <block type=\"variables_get\" id=\"variables_get_z5vq\">\\r\\n                                                <field name=\"VAR\" id=\"urRxji5T[1Qzu$17ca|J\" variableType=\"\">X</field>\\r\\n                                            </block>\\r\\n                                        </value>\\r\\n                                        <next>\\r\\n                                            <block type=\"movement_move_laser\" id=\"movement_move_laser_871b\">\\r\\n                                                <field name=\"DIRECTION\">UP</field>\\r\\n                                                <value name=\"AMOUNT\">\\r\\n                                                    <block type=\"variables_get\" id=\"variables_get_e98d\">\\r\\n                                                        <field name=\"VAR\" id=\"urRxji5T[1Qzu$17ca|J\" variableType=\"\">X</field>\\r\\n                                                    </block>\\r\\n                                                </value>\\r\\n                                                <next>\\r\\n                                                    <block type=\"movement_rotate_laser\" id=\"movement_rotate_laser_562h\">\\r\\n                                                        <field name=\"ROTATION\">CLOCKWISE</field>\\r\\n                                                        <value name=\"AMOUNT\">\\r\\n                                                            <block type=\"variables_get\" id=\"variables_get_1nq5\">\\r\\n                                                                <field name=\"VAR\" id=\"urRxji5T[1Qzu$17ca|J\" variableType=\"\">X</field>\\r\\n                                                            </block>\\r\\n                                                        </value>\\r\\n                                                        <next>\\r\\n                                                            <block type=\"movement_rotate_laser\" id=\"movement_rotate_laser_jvw8\">\\r\\n                                                                <field name=\"ROTATION\">CLOCKWISE</field>\\r\\n                                                                <value name=\"AMOUNT\">\\r\\n                                                                    <block type=\"variables_get\" id=\"variables_get_khlb\">\\r\\n                                                                        <field name=\"VAR\" id=\"urRxji5T[1Qzu$17ca|J\" variableType=\"\">X</field>\\r\\n                                                                    </block>\\r\\n                                                                </value>\\r\\n                                                            </block>\\r\\n                                                        </next>\\r\\n                                                    </block>\\r\\n                                                </next>\\r\\n                                            </block>\\r\\n                                        </next>\\r\\n                                    </block>\\r\\n                                </next>\\r\\n                            </block>\\r\\n                        </next>\\r\\n                    </block>\\r\\n                </next>\\r\\n            </block>\\r\\n        </next>\\r\\n    </block>\\r\\n</xml>', 'https://w3id.org/xapi/seriousgames/extensions/progress': 0}}, 'verb': {'id': 'http://adlnet.gov/expapi/verbs/progressed'}, '_id': '628179b5a6ba41003d3bada2', 'object': {'definition': {'type': 'https://w3id.org/xapi/seriousgames/activity-types/level'}, 'id': 'https://simva-api.simva.e-ucm.es/activities/628179b5a6ba41003d3bada2/variables_9'}, 'timestamp': '2022-05-18T09:46:55.950Z'}\n",
      "-----------------------------------------------------------------\n",
      "{'actor': {'name': 'bdwyj', 'account': {'homePage': 'https://simva-api.simva.e-ucm.es', 'username': 'bdwyj'}}, 'result': {'score': {'raw': 0}, 'success': False}, 'verb': {'id': 'http://adlnet.gov/expapi/verbs/completed'}, '_id': '628179b5a6ba41003d3bada2', 'object': {'definition': {'type': 'https://w3id.org/xapi/seriousgames/activity-types/level'}, 'id': 'https://simva-api.simva.e-ucm.es/activities/628179b5a6ba41003d3bada2/variables_9'}, 'timestamp': '2022-05-18T09:47:04.086Z'}\n",
      "-----------------------------------------------------------------\n",
      "{'actor': {'name': 'bdwyj', 'account': {'homePage': 'https://simva-api.simva.e-ucm.es', 'username': 'bdwyj'}}, 'verb': {'id': 'http://adlnet.gov/expapi/verbs/initialized'}, '_id': '628179b5a6ba41003d3bada2', 'object': {'definition': {'type': 'https://w3id.org/xapi/seriousgames/activity-types/level'}, 'id': 'https://simva-api.simva.e-ucm.es/activities/628179b5a6ba41003d3bada2/variables_9'}, 'timestamp': '2022-05-18T09:47:08.426Z'}\n",
      "-----------------------------------------------------------------\n",
      "{'actor': {'name': 'bdwyj', 'account': {'homePage': 'https://simva-api.simva.e-ucm.es', 'username': 'bdwyj'}}, 'result': {'extensions': {'code': '\\r\\n<xml>\\r\\n    <variables>\\r\\n        <variable type=\"\" id=\"urRxji5T[1Qzu$17ca|J\">X</variable>\\r\\n        <variable type=\"\" id=\"{c4px%Pg|L^,!A2`n0fb\">Y</variable>\\r\\n    </variables>\\r\\n    <block type=\"variables_get\" id=\"variables_get_eph6\" x=\"552\" y=\"-873\">\\r\\n        <field name=\"VAR\" id=\"{c4px%Pg|L^,!A2`n0fb\" variableType=\"\">Y</field>\\r\\n    </block>\\r\\n    <block type=\"movement_rotate_laser\" id=\"movement_rotate_laser_jvw8\" x=\"251\" y=\"-846\">\\r\\n        <field name=\"ROTATION\">CLOCKWISE</field>\\r\\n        <value name=\"AMOUNT\">\\r\\n            <block type=\"variables_get\" id=\"variables_get_khlb\">\\r\\n                <field name=\"VAR\" id=\"urRxji5T[1Qzu$17ca|J\" variableType=\"\">X</field>\\r\\n            </block>\\r\\n        </value>\\r\\n    </block>\\r\\n    <block type=\"variables_get\" id=\"variables_get_qxe3\" x=\"516\" y=\"-855\">\\r\\n        <field name=\"VAR\" id=\"{c4px%Pg|L^,!A2`n0fb\" variableType=\"\">Y</field>\\r\\n    </block>\\r\\n    <block type=\"variables_get\" id=\"variables_get_z5vq\" x=\"154\" y=\"-773\">\\r\\n        <field name=\"VAR\" id=\"urRxji5T[1Qzu$17ca|J\" variableType=\"\">X</field>\\r\\n    </block>\\r\\n    <block type=\"variables_get\" id=\"variables_get_e98d\" x=\"425\" y=\"-777\">\\r\\n        <field name=\"VAR\" id=\"urRxji5T[1Qzu$17ca|J\" variableType=\"\">X</field>\\r\\n    </block>\\r\\n    <block type=\"variables_set\" id=\"variables_set_mkn4\" x=\"702\" y=\"-537\">\\r\\n        <field name=\"VAR\" id=\"urRxji5T[1Qzu$17ca|J\" variableType=\"\">X</field>\\r\\n    </block>\\r\\n    <block type=\"start_start\" id=\"start_start_mbfu\" x=\"235\" y=\"-182\">\\r\\n        <next>\\r\\n            <block type=\"variables_set\" id=\"variables_set_mcjf\">\\r\\n                <field name=\"VAR\" id=\"urRxji5T[1Qzu$17ca|J\" variableType=\"\">X</field>\\r\\n                <value name=\"VALUE\">\\r\\n                    <block type=\"math_number\" id=\"math_number_27bh\">\\r\\n                        <field name=\"NUM\">2</field>\\r\\n                    </block>\\r\\n                </value>\\r\\n                <next>\\r\\n                    <block type=\"variables_set\" id=\"variables_set_y3m3\">\\r\\n                        <field name=\"VAR\" id=\"{c4px%Pg|L^,!A2`n0fb\" variableType=\"\">Y</field>\\r\\n                        <value name=\"VALUE\">\\r\\n                            <block type=\"math_number\" id=\"math_number_3fc1\">\\r\\n                                <field name=\"NUM\">2</field>\\r\\n                            </block>\\r\\n                        </value>\\r\\n                        <next>\\r\\n                            <block type=\"movement_move_laser\" id=\"movement_move_laser_va3r\">\\r\\n                                <field name=\"DIRECTION\">UP</field>\\r\\n                                <value name=\"AMOUNT\">\\r\\n                                    <block type=\"variables_get\" id=\"variables_get_d75v\">\\r\\n                                        <field name=\"VAR\" id=\"{c4px%Pg|L^,!A2`n0fb\" variableType=\"\">Y</field>\\r\\n                                    </block>\\r\\n                                </value>\\r\\n                                <next>\\r\\n                                    <block type=\"movement_move_laser\" id=\"movement_move_laser_y3xl\">\\r\\n                                        <field name=\"DIRECTION\">RIGHT</field>\\r\\n                                        <value name=\"AMOUNT\">\\r\\n                                            <block type=\"variables_get\" id=\"variables_get_sfa9\">\\r\\n                                                <field name=\"VAR\" id=\"{c4px%Pg|L^,!A2`n0fb\" variableType=\"\">Y</field>\\r\\n                                            </block>\\r\\n                                        </value>\\r\\n                                        <next>\\r\\n                                            <block type=\"movement_move_laser\" id=\"movement_move_laser_871b\">\\r\\n                                                <field name=\"DIRECTION\">RIGHT</field>\\r\\n                                                <value name=\"AMOUNT\">\\r\\n                                                    <block type=\"variables_get\" id=\"variables_get_6fgb\">\\r\\n                                                        <field name=\"VAR\" id=\"{c4px%Pg|L^,!A2`n0fb\" variableType=\"\">Y</field>\\r\\n                                                    </block>\\r\\n                                                </value>\\r\\n                                                <next>\\r\\n                                                    <block type=\"movement_rotate_laser\" id=\"movement_rotate_laser_562h\">\\r\\n                                                        <field name=\"ROTATION\">CLOCKWISE</field>\\r\\n                                                        <value name=\"AMOUNT\">\\r\\n                                                            <block type=\"variables_get\" id=\"variables_get_1nq5\">\\r\\n                                                                <field name=\"VAR\" id=\"urRxji5T[1Qzu$17ca|J\" variableType=\"\">X</field>\\r\\n                                                            </block>\\r\\n                                                        </value>\\r\\n                                                    </block>\\r\\n                                                </next>\\r\\n                                            </block>\\r\\n                                        </next>\\r\\n                                    </block>\\r\\n                                </next>\\r\\n                            </block>\\r\\n                        </next>\\r\\n                    </block>\\r\\n                </next>\\r\\n            </block>\\r\\n        </next>\\r\\n    </block>\\r\\n</xml>', 'https://w3id.org/xapi/seriousgames/extensions/progress': 0}}, 'verb': {'id': 'http://adlnet.gov/expapi/verbs/progressed'}, '_id': '628179b5a6ba41003d3bada2', 'object': {'definition': {'type': 'https://w3id.org/xapi/seriousgames/activity-types/level'}, 'id': 'https://simva-api.simva.e-ucm.es/activities/628179b5a6ba41003d3bada2/variables_9'}, 'timestamp': '2022-05-18T09:51:09.649Z'}\n",
      "-----------------------------------------------------------------\n",
      "{'actor': {'name': 'bdwyj', 'account': {'homePage': 'https://simva-api.simva.e-ucm.es', 'username': 'bdwyj'}}, 'result': {'score': {'raw': 2}, 'extensions': {'minimum_steps': True, 'no_hints': False, 'first_execution': True, 'steps': 8}, 'success': True}, 'verb': {'id': 'http://adlnet.gov/expapi/verbs/completed'}, '_id': '628179b5a6ba41003d3bada2', 'object': {'definition': {'type': 'https://w3id.org/xapi/seriousgames/activity-types/level'}, 'id': 'https://simva-api.simva.e-ucm.es/activities/628179b5a6ba41003d3bada2/variables_9'}, 'timestamp': '2022-05-18T09:51:16.339Z'}\n",
      "-----------------------------------------------------------------\n"
     ]
    }
   ],
   "source": [
    "JSONFile = open('../Web/datos/1/trazasOrdenadas.json')\n",
    "rawData = json.load(JSONFile)\n",
    "JSONFile.close()\n",
    "\n",
    "erIdLevel = re.compile(r'/')\n",
    "erLevel = re.compile(r'\\blevel$\\b')\n",
    "\n",
    "for e in rawData:\n",
    "    obj = e[\"object\"][\"definition\"][\"type\"]\n",
    "    objectId = e[\"object\"][\"id\"]\n",
    "    if erLevel.search(obj):\n",
    "        levelCode = erIdLevel.split(objectId)[-1]\n",
    "        if e[\"actor\"][\"name\"] == \"bdwyj\" and levelCode == \"variables_9\":\n",
    "            print(e)\n",
    "            print(\"-----------------------------------------------------------------\")\n",
    "            None"
   ]
  },
  {
   "cell_type": "code",
   "execution_count": 1,
   "id": "f19afc86",
   "metadata": {},
   "outputs": [
    {
     "name": "stdout",
     "output_type": "stream",
     "text": [
      "2h/7s\n"
     ]
    }
   ],
   "source": [
    "from utils.utilities import Tiempo\n",
    "\n",
    "a = Tiempo(\"2022-05-18T09:45:33.904Z\", \"2022-05-18T11:45:40.904Z\")\n",
    "print(a)"
   ]
  }
 ],
 "metadata": {
  "kernelspec": {
   "display_name": "Python 3",
   "language": "python",
   "name": "python3"
  },
  "language_info": {
   "codemirror_mode": {
    "name": "ipython",
    "version": 3
   },
   "file_extension": ".py",
   "mimetype": "text/x-python",
   "name": "python",
   "nbconvert_exporter": "python",
   "pygments_lexer": "ipython3",
   "version": "3.10.11"
  },
  "vscode": {
   "interpreter": {
    "hash": "ebbed64c97e1caaf1e33b6804ea55e386f6932c05bba92b2bd34724a7e558276"
   }
  }
 },
 "nbformat": 4,
 "nbformat_minor": 5
}
