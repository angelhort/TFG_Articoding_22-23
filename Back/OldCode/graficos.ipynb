{
 "cells": [
  {
   "cell_type": "code",
   "execution_count": null,
   "id": "069318ba-bb21-49c2-b170-91a39fe4cbfe",
   "metadata": {},
   "outputs": [],
   "source": [
    "import pandas as pd\n",
    "import json\n",
    "from collections import defaultdict\n",
    "import re\n",
    "import numpy as np\n",
    "from utils.utilities import Tiempo\n",
    "import utils.dataExtraction\n",
    "import statistics\n",
    "import keyword\n",
    "import re\n",
    "import matplotlib.pyplot as plt\n",
    "\n",
    "import xml.etree.ElementTree as ET"
   ]
  },
  {
   "cell_type": "code",
   "execution_count": null,
   "id": "bc1a5ed6-b8cb-41df-8043-08085489b80a",
   "metadata": {},
   "outputs": [],
   "source": [
    "def getGraficosIntentosCategoria(levels):\n",
    "    levels_by_category = {}\n",
    "    figures = []\n",
    "\n",
    "    for level in levels:\n",
    "        level_name, level_value = level\n",
    "        match = re.search(r'(.*)_(\\d+)', level_name)\n",
    "        if match:\n",
    "            level_category, level_num = match.group(1), int(match.group(2))\n",
    "            if level_category not in levels_by_category:\n",
    "                levels_by_category[level_category] = []\n",
    "            levels_by_category[level_category].append((level_num, level_value))\n",
    "\n",
    "    for category, category_levels in levels_by_category.items():\n",
    "        category_levels.sort()\n",
    "        values = [v for n, v in category_levels]\n",
    "        levels_names = [f\"{category}_{n}\" for n, v in category_levels]\n",
    "        fig, ax = plt.subplots()\n",
    "        ax.bar(levels_names, values)\n",
    "        ax.set_title(f\"Niveles de {category}\")\n",
    "        ax.set_xlabel(\"Niveles\")\n",
    "        ax.set_ylabel(\"Intentos medios\")\n",
    "        plt.xticks(rotation=45)\n",
    "        figures.append(fig)\n",
    "    return figures"
   ]
  },
  {
   "cell_type": "code",
   "execution_count": null,
   "id": "aaaa59e9-87ef-4406-b8c6-9ba20b5ac892",
   "metadata": {},
   "outputs": [],
   "source": [
    "def getGraficosTiemposMedios(levels):\n",
    "    levels_by_category = {}\n",
    "\n",
    "    for level in levels:\n",
    "        level_name, level_value = level\n",
    "        match = re.search(r'(.*)_(\\d+)', level_name)\n",
    "        if match:\n",
    "            level_category, level_num = match.group(1), int(match.group(2))\n",
    "            if level_category not in levels_by_category:\n",
    "                levels_by_category[level_category] = []\n",
    "            levels_by_category[level_category].append((level_num, int(level_value)))\n",
    "\n",
    "\n",
    "    for category, category_levels in levels_by_category.items():\n",
    "        category_levels.sort()\n",
    "        values = [v for n, v in category_levels]\n",
    "        levels_names = [f\"{category}_{n}\" for n, v in category_levels]\n",
    "        fig, ax = plt.subplots()\n",
    "        ax.bar(levels_names, values)\n",
    "        ax.set_title(f\"Niveles de {category}\")\n",
    "        ax.set_xlabel(\"Niveles\")\n",
    "        ax.set_ylabel(\"Tiempos medios (s)\")\n",
    "        plt.xticks(rotation=45)\n"
   ]
  },
  {
   "cell_type": "code",
   "execution_count": null,
   "id": "a8fd3079-115a-4a9d-be2e-9fc3b4db84a7",
   "metadata": {},
   "outputs": [],
   "source": [
    "def getCorrelacionTiempoIntentos(tiempos, intentos):\n",
    "    tiempos_dict = {nombre: int(tiempo) for nombre, tiempo in tiempos}\n",
    "    intentos_dict = {nombre: intento for nombre, intento in intentos}\n",
    "\n",
    "    # Crear arrays para calcular correlación\n",
    "    x = []\n",
    "    y = []\n",
    "    for nombre in tiempos_dict.keys():\n",
    "        if nombre in intentos_dict:\n",
    "            x.append(tiempos_dict[nombre])\n",
    "            y.append(intentos_dict[nombre])\n",
    "\n",
    "    # Calcular correlación\n",
    "    return np.corrcoef(x, y)[0, 1]"
   ]
  }
 ],
 "metadata": {
  "kernelspec": {
   "display_name": "Python 3 (ipykernel)",
   "language": "python",
   "name": "python3"
  },
  "language_info": {
   "codemirror_mode": {
    "name": "ipython",
    "version": 3
   },
   "file_extension": ".py",
   "mimetype": "text/x-python",
   "name": "python",
   "nbconvert_exporter": "python",
   "pygments_lexer": "ipython3",
   "version": "3.9.12"
  }
 },
 "nbformat": 4,
 "nbformat_minor": 5
}
