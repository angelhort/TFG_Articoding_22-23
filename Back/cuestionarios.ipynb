{
 "cells": [
  {
   "attachments": {},
   "cell_type": "markdown",
   "metadata": {},
   "source": [
    "# Librerias"
   ]
  },
  {
   "cell_type": "code",
   "execution_count": 31,
   "metadata": {},
   "outputs": [],
   "source": [
    "import pandas as pd\n",
    "import numpy as np\n",
    "from sklearn.cluster import KMeans\n",
    "from sklearn.preprocessing import StandardScaler\n",
    "from sklearn.impute import SimpleImputer\n",
    "import plotly.graph_objs as go\n",
    "from collections import defaultdict\n",
    "import statistics\n",
    "import json\n",
    "import re\n",
    "import matplotlib.pyplot as plt\n"
   ]
  },
  {
   "attachments": {},
   "cell_type": "markdown",
   "metadata": {},
   "source": [
    "# Codigo de main"
   ]
  },
  {
   "cell_type": "code",
   "execution_count": 32,
   "metadata": {},
   "outputs": [],
   "source": [
    "#TAMBIEN DEVUELVE LOS INTENTOS INDIVIDUALES DE CADA JUGADOR PARA COMPLETAR CADA NIVEL\n",
    "def getIntentosMedios_HastaCompletarNivel(intentosNecesarios, intentosOrdenados = False):\n",
    "    intentosMedios = defaultdict(list)\n",
    "    intentosCompletarNivelIndividual = defaultdict(defaultdict)\n",
    "    \n",
    "    for name in intentosNecesarios:\n",
    "        for level in intentosNecesarios[name]:\n",
    "            cont = 0\n",
    "            for i in intentosNecesarios[name][level]:\n",
    "                cont += i[\"intentos\"]\n",
    "                if i[\"success\"] == True:\n",
    "                    intentosMedios[level].append(cont)\n",
    "                    intentosCompletarNivelIndividual[name][level] = cont\n",
    "                    break\n",
    "            \n",
    "    for level in intentosMedios:\n",
    "        intentosMedios[level] = round(statistics.mean(intentosMedios[level]), 2)\n",
    "    \n",
    "    if intentosOrdenados:\n",
    "        intentosMedios = sorted(intentosMedios.items(), key=lambda x: x[1])\n",
    "    else:\n",
    "        intentosMedios = list(intentosMedios.items())\n",
    "    return {\"intentosMedios\" : intentosMedios, \"intentosIndividual\" : intentosCompletarNivelIndividual}\n",
    "\n",
    "def extraerTiemposPorNivelJugador(rawData):\n",
    "    \n",
    "    tiempos = defaultdict(defaultdict)\n",
    "    intentosNecesarios = defaultdict(defaultdict)\n",
    "    \n",
    "    erLevel = re.compile(r'\\blevel$\\b')\n",
    "    erIdLevel = re.compile(r'/')\n",
    "    \n",
    "    erInitialized = re.compile(r'\\binitialized$\\b')\n",
    "    erCompleted = re.compile(r'\\bcompleted$\\b')\n",
    "    \n",
    "    for evento in rawData:\n",
    "        verb = evento[\"verb\"][\"id\"]\n",
    "        obj = evento[\"object\"][\"definition\"][\"type\"]\n",
    "        name = evento[\"actor\"][\"name\"]\n",
    "        timestamp = evento[\"timestamp\"]\n",
    "        objectId = evento[\"object\"][\"id\"]\n",
    "        \n",
    "        if erLevel.search(obj): #Si el objeto de la acción es un nivel\n",
    "            levelCode = erIdLevel.split(objectId)[-1]\n",
    "            if levelCode != \"editor_level\":\n",
    "                if erInitialized.search(verb): #Si la acción es inicio o reinicio\n",
    "                    if \"result\" in evento: #Significa que ha iniciado el nivel desde el menu\n",
    "                        if levelCode in tiempos[name]:\n",
    "                            intentosNecesarios[name][levelCode].append({\"intentos\" : 1, \"success\" : False})\n",
    "                            tiempos[name][levelCode].append({\"ini\" : timestamp, \"fin\" : None, \"stars\" : \"\"})\n",
    "                        else:\n",
    "                            intentosNecesarios[name][levelCode] = [{\"intentos\" : 1, \"success\" : False}]\n",
    "                            tiempos[name][levelCode] = [{\"ini\" : timestamp, \"fin\" : None, \"stars\" : \"\"}]\n",
    "                    else:\n",
    "                        intentosNecesarios[name][levelCode][-1][\"intentos\"] += 1\n",
    "                elif erCompleted.search(verb):\n",
    "                    if evento[\"result\"][\"score\"][\"raw\"] > 0 :\n",
    "                        if levelCode in tiempos[name]:\n",
    "                            intentosNecesarios[name][levelCode][-1][\"success\"] = True\n",
    "                            tiempos[name][levelCode][-1][\"fin\"] = timestamp\n",
    "                            tiempos[name][levelCode][-1][\"stars\"] = evento[\"result\"][\"score\"][\"raw\"]\n",
    "\n",
    "                    elif evento[\"result\"][\"score\"][\"raw\"] == -1:\n",
    "                        if levelCode in tiempos[name]:\n",
    "                            tiempos[name][levelCode][-1][\"fin\"] = timestamp\n",
    "                            tiempos[name][levelCode][-1][\"stars\"] = evento[\"result\"][\"score\"][\"raw\"]\n",
    "    \n",
    "    return {\"tiempos\" : tiempos, \"intentosNecesarios\" : intentosNecesarios}\n",
    "\n",
    "JSONFile = open('./data/trazasOrdenadas.json')\n",
    "rawData = json.load(JSONFile)\n",
    "JSONFile.close()\n",
    "\n",
    "intentosOrdenados = False\n",
    "resultados_Tiempos_Nivel_Jugador = extraerTiemposPorNivelJugador(rawData)\n",
    "intentosMedios_Individual = getIntentosMedios_HastaCompletarNivel(resultados_Tiempos_Nivel_Jugador[\"intentosNecesarios\"], intentosOrdenados)\n",
    "#pd.DataFrame(intentosMedios_Individual[\"intentosMedios\"])\n",
    "#pd.DataFrame(intentosMedios_Individual[\"intentosIndividual\"])"
   ]
  },
  {
   "cell_type": "code",
   "execution_count": 33,
   "metadata": {},
   "outputs": [],
   "source": [
    "filename = 'results-survey976727_pre.csv'\n",
    "data = pd.read_csv(filename, sep=';', header=0)\n",
    "\n",
    "data.drop(['submitdate', 'G00Q01[SQ01]', 'G02Q01', 'G02Q02', 'G02Q03', 'G02Q04', 'G03Q02[other]', 'id'], axis = 'columns', inplace=True)\n",
    "\n",
    "#data"
   ]
  },
  {
   "cell_type": "code",
   "execution_count": 34,
   "metadata": {},
   "outputs": [],
   "source": [
    "# Crear un DataFrame con los datos de los intentos medios de cada jugador\n",
    "\n",
    "intentosJugadores = pd.DataFrame(intentosMedios_Individual[\"intentosIndividual\"])\n",
    "#intentosJugadores\n",
    "\n",
    "# Convertir columnas en filas\n",
    "df_stacked = intentosJugadores.stack().reset_index()\n",
    "df_stacked.columns = ['nivel', 'token', 'intentos']\n",
    "\n",
    "# Calcular promedio de intentos por jugador\n",
    "promedio_intentos = df_stacked.groupby('token')['intentos'].mean()\n",
    "\n",
    "# Crear DataFrame final\n",
    "df_final = pd.DataFrame({'token': promedio_intentos.index, 'intentos': promedio_intentos.values})\n",
    "\n",
    "df_global = pd.merge(df_final, data, on='token')\n",
    "#df_global\n"
   ]
  },
  {
   "cell_type": "code",
   "execution_count": 35,
   "metadata": {},
   "outputs": [
    {
     "name": "stderr",
     "output_type": "stream",
     "text": [
      "C:\\Users\\david\\AppData\\Local\\Temp\\ipykernel_25380\\1715381978.py:16: SettingWithCopyWarning:\n",
      "\n",
      "\n",
      "A value is trying to be set on a copy of a slice from a DataFrame.\n",
      "Try using .loc[row_indexer,col_indexer] = value instead\n",
      "\n",
      "See the caveats in the documentation: https://pandas.pydata.org/pandas-docs/stable/user_guide/indexing.html#returning-a-view-versus-a-copy\n",
      "\n"
     ]
    }
   ],
   "source": [
    "# Calcular los límites de los valores atípicos\n",
    "# regla empírica, que establece que los valores atípicos se encuentran a más de 3 desviaciones estándar de la media.\n",
    "\n",
    "Q1_edad = df_global['G03Q01'].quantile(0.25)\n",
    "Q3_edad = df_global['G03Q01'].quantile(0.75)\n",
    "IQR_edad = Q3_edad - Q1_edad\n",
    "outlier_threshold_edad = Q3_edad + 1.5*IQR_edad\n",
    "\n",
    "Q1_intentos = df_global['intentos'].quantile(0.25)\n",
    "Q3_intentos = df_global['intentos'].quantile(0.75)\n",
    "IQR_intentos = Q3_intentos - Q1_intentos\n",
    "outlier_threshold_intentos = Q3_intentos + 1.5*IQR_intentos\n",
    "\n",
    "df = df_global[(df_global['G03Q01'] <= outlier_threshold_edad) & (df_global['intentos'] <= outlier_threshold_intentos)]\n",
    "\n",
    "df['genero_num'] = df['G03Q02'].map({'Masculino': 0, 'Femenino': 1, 'Otro': 2})\n",
    "\n",
    "\n",
    "#df\n"
   ]
  },
  {
   "cell_type": "code",
   "execution_count": 36,
   "metadata": {},
   "outputs": [
    {
     "data": {
      "application/vnd.plotly.v1+json": {
       "config": {
        "plotlyServerURL": "https://plot.ly"
       },
       "data": [
        {
         "marker": {
          "color": "blue",
          "opacity": 0.8,
          "size": 5
         },
         "mode": "markers",
         "type": "scatter3d",
         "x": [
          14,
          14,
          15,
          14,
          14,
          14,
          12,
          13,
          14,
          15,
          13,
          12,
          14,
          13,
          8,
          14,
          13,
          13,
          14,
          13,
          12,
          14,
          14,
          12,
          14,
          12,
          15,
          13,
          13,
          12,
          14,
          14,
          13,
          14,
          15,
          13,
          14,
          13,
          13,
          13,
          14,
          15,
          14,
          12,
          14,
          13,
          14,
          12,
          12,
          15,
          14,
          14,
          13,
          14,
          13,
          13,
          15,
          13,
          12,
          15,
          14,
          12,
          14,
          12,
          15,
          15,
          15,
          14,
          12,
          12,
          13,
          13,
          12,
          14,
          12,
          13,
          13,
          13,
          12,
          12,
          14,
          13,
          14,
          13,
          13,
          15,
          12,
          12,
          13,
          14,
          13,
          12,
          12,
          12,
          12,
          13,
          15,
          14,
          14,
          12,
          15,
          13,
          14,
          13,
          15,
          13,
          14,
          15,
          12,
          14,
          15,
          13,
          13,
          14,
          12,
          13,
          14,
          15,
          15,
          13,
          14,
          15,
          15,
          14,
          13,
          15,
          15,
          12,
          15,
          13,
          15,
          14,
          14
         ],
         "y": [
          0,
          2,
          0,
          0,
          1,
          1,
          1,
          0,
          0,
          1,
          2,
          1,
          0,
          0,
          1,
          2,
          1,
          1,
          0,
          1,
          0,
          0,
          0,
          1,
          0,
          1,
          1,
          0,
          0,
          0,
          0,
          2,
          0,
          1,
          1,
          0,
          1,
          1,
          2,
          0,
          0,
          0,
          0,
          1,
          0,
          1,
          0,
          0,
          0,
          0,
          1,
          1,
          1,
          1,
          1,
          2,
          1,
          1,
          1,
          1,
          2,
          1,
          0,
          1,
          0,
          1,
          1,
          0,
          0,
          0,
          0,
          0,
          0,
          1,
          1,
          0,
          0,
          0,
          0,
          1,
          0,
          0,
          2,
          0,
          0,
          0,
          0,
          0,
          1,
          0,
          0,
          1,
          0,
          2,
          1,
          0,
          1,
          0,
          1,
          0,
          0,
          1,
          0,
          0,
          1,
          0,
          0,
          1,
          0,
          2,
          0,
          1,
          1,
          1,
          1,
          1,
          0,
          0,
          0,
          0,
          0,
          1,
          0,
          1,
          0,
          1,
          0,
          1,
          2,
          1,
          1,
          0,
          1
         ],
         "z": [
          3.65,
          2.875,
          2.25,
          1.8857142857142857,
          2.423076923076923,
          2.0434782608695654,
          2.2777777777777777,
          2.95,
          1.8928571428571428,
          2.7,
          3,
          2.6363636363636362,
          2.6923076923076925,
          1.5161290322580645,
          3.1666666666666665,
          1.5862068965517242,
          1.8888888888888888,
          2.739130434782609,
          4.95,
          2.2857142857142856,
          5.555555555555555,
          2.3846153846153846,
          1.7142857142857142,
          5.615384615384615,
          3.1363636363636362,
          2.037037037037037,
          2,
          2.72,
          1.9130434782608696,
          2.1666666666666665,
          1.5714285714285714,
          2.142857142857143,
          1.4,
          4.176470588235294,
          4.35,
          2.04,
          2.4782608695652173,
          4.666666666666667,
          3.2,
          2.6842105263157894,
          3.142857142857143,
          1.6666666666666667,
          2.6842105263157894,
          2.217391304347826,
          3.5714285714285716,
          1.8636363636363635,
          2.3181818181818183,
          4.5,
          3.55,
          2.4285714285714284,
          3.3529411764705883,
          2,
          4.045454545454546,
          3.125,
          1.7857142857142858,
          2.8636363636363638,
          2,
          1.5555555555555556,
          1.52,
          1.9583333333333333,
          1.5925925925925926,
          4.476190476190476,
          2.736842105263158,
          3.6818181818181817,
          1.4,
          1.44,
          4.833333333333333,
          2.4857142857142858,
          5.052631578947368,
          3.0714285714285716,
          3.8,
          1.6896551724137931,
          3.5454545454545454,
          3.7037037037037037,
          4.083333333333333,
          2.25,
          2.5833333333333335,
          1.8148148148148149,
          1.3214285714285714,
          2.3157894736842106,
          2.590909090909091,
          3.9565217391304346,
          1.5333333333333334,
          2.45,
          2.2,
          1.2758620689655173,
          2.2962962962962963,
          2.736842105263158,
          1.9090909090909092,
          3.607142857142857,
          6.25,
          2,
          3.933333333333333,
          6.071428571428571,
          4.538461538461538,
          1.3333333333333333,
          1.368421052631579,
          3.6315789473684212,
          4.368421052631579,
          2.45,
          2.56,
          2.736842105263158,
          5.333333333333333,
          3.391304347826087,
          3.7142857142857144,
          5.4,
          5.172413793103448,
          2.210526315789474,
          1.3333333333333333,
          4.190476190476191,
          3.6666666666666665,
          3.130434782608696,
          1.5925925925925926,
          2,
          2.272727272727273,
          1.2692307692307692,
          3.0454545454545454,
          1.9259259259259258,
          6,
          2.3703703703703702,
          1.4545454545454546,
          2.111111111111111,
          2.16,
          2.727272727272727,
          4.083333333333333,
          4.105263157894737,
          6.166666666666667,
          4.136363636363637,
          4.933333333333334,
          1.6956521739130435,
          1.9259259259259258,
          3.0434782608695654,
          2
         ]
        }
       ],
       "layout": {
        "margin": {
         "b": 10,
         "l": 10,
         "r": 20,
         "t": 10
        },
        "scene": {
         "xaxis": {
          "title": {
           "text": "Edad"
          }
         },
         "yaxis": {
          "title": {
           "text": "Genero"
          }
         },
         "zaxis": {
          "title": {
           "text": "Intentos"
          }
         }
        },
        "template": {
         "data": {
          "bar": [
           {
            "error_x": {
             "color": "#2a3f5f"
            },
            "error_y": {
             "color": "#2a3f5f"
            },
            "marker": {
             "line": {
              "color": "#E5ECF6",
              "width": 0.5
             },
             "pattern": {
              "fillmode": "overlay",
              "size": 10,
              "solidity": 0.2
             }
            },
            "type": "bar"
           }
          ],
          "barpolar": [
           {
            "marker": {
             "line": {
              "color": "#E5ECF6",
              "width": 0.5
             },
             "pattern": {
              "fillmode": "overlay",
              "size": 10,
              "solidity": 0.2
             }
            },
            "type": "barpolar"
           }
          ],
          "carpet": [
           {
            "aaxis": {
             "endlinecolor": "#2a3f5f",
             "gridcolor": "white",
             "linecolor": "white",
             "minorgridcolor": "white",
             "startlinecolor": "#2a3f5f"
            },
            "baxis": {
             "endlinecolor": "#2a3f5f",
             "gridcolor": "white",
             "linecolor": "white",
             "minorgridcolor": "white",
             "startlinecolor": "#2a3f5f"
            },
            "type": "carpet"
           }
          ],
          "choropleth": [
           {
            "colorbar": {
             "outlinewidth": 0,
             "ticks": ""
            },
            "type": "choropleth"
           }
          ],
          "contour": [
           {
            "colorbar": {
             "outlinewidth": 0,
             "ticks": ""
            },
            "colorscale": [
             [
              0,
              "#0d0887"
             ],
             [
              0.1111111111111111,
              "#46039f"
             ],
             [
              0.2222222222222222,
              "#7201a8"
             ],
             [
              0.3333333333333333,
              "#9c179e"
             ],
             [
              0.4444444444444444,
              "#bd3786"
             ],
             [
              0.5555555555555556,
              "#d8576b"
             ],
             [
              0.6666666666666666,
              "#ed7953"
             ],
             [
              0.7777777777777778,
              "#fb9f3a"
             ],
             [
              0.8888888888888888,
              "#fdca26"
             ],
             [
              1,
              "#f0f921"
             ]
            ],
            "type": "contour"
           }
          ],
          "contourcarpet": [
           {
            "colorbar": {
             "outlinewidth": 0,
             "ticks": ""
            },
            "type": "contourcarpet"
           }
          ],
          "heatmap": [
           {
            "colorbar": {
             "outlinewidth": 0,
             "ticks": ""
            },
            "colorscale": [
             [
              0,
              "#0d0887"
             ],
             [
              0.1111111111111111,
              "#46039f"
             ],
             [
              0.2222222222222222,
              "#7201a8"
             ],
             [
              0.3333333333333333,
              "#9c179e"
             ],
             [
              0.4444444444444444,
              "#bd3786"
             ],
             [
              0.5555555555555556,
              "#d8576b"
             ],
             [
              0.6666666666666666,
              "#ed7953"
             ],
             [
              0.7777777777777778,
              "#fb9f3a"
             ],
             [
              0.8888888888888888,
              "#fdca26"
             ],
             [
              1,
              "#f0f921"
             ]
            ],
            "type": "heatmap"
           }
          ],
          "heatmapgl": [
           {
            "colorbar": {
             "outlinewidth": 0,
             "ticks": ""
            },
            "colorscale": [
             [
              0,
              "#0d0887"
             ],
             [
              0.1111111111111111,
              "#46039f"
             ],
             [
              0.2222222222222222,
              "#7201a8"
             ],
             [
              0.3333333333333333,
              "#9c179e"
             ],
             [
              0.4444444444444444,
              "#bd3786"
             ],
             [
              0.5555555555555556,
              "#d8576b"
             ],
             [
              0.6666666666666666,
              "#ed7953"
             ],
             [
              0.7777777777777778,
              "#fb9f3a"
             ],
             [
              0.8888888888888888,
              "#fdca26"
             ],
             [
              1,
              "#f0f921"
             ]
            ],
            "type": "heatmapgl"
           }
          ],
          "histogram": [
           {
            "marker": {
             "pattern": {
              "fillmode": "overlay",
              "size": 10,
              "solidity": 0.2
             }
            },
            "type": "histogram"
           }
          ],
          "histogram2d": [
           {
            "colorbar": {
             "outlinewidth": 0,
             "ticks": ""
            },
            "colorscale": [
             [
              0,
              "#0d0887"
             ],
             [
              0.1111111111111111,
              "#46039f"
             ],
             [
              0.2222222222222222,
              "#7201a8"
             ],
             [
              0.3333333333333333,
              "#9c179e"
             ],
             [
              0.4444444444444444,
              "#bd3786"
             ],
             [
              0.5555555555555556,
              "#d8576b"
             ],
             [
              0.6666666666666666,
              "#ed7953"
             ],
             [
              0.7777777777777778,
              "#fb9f3a"
             ],
             [
              0.8888888888888888,
              "#fdca26"
             ],
             [
              1,
              "#f0f921"
             ]
            ],
            "type": "histogram2d"
           }
          ],
          "histogram2dcontour": [
           {
            "colorbar": {
             "outlinewidth": 0,
             "ticks": ""
            },
            "colorscale": [
             [
              0,
              "#0d0887"
             ],
             [
              0.1111111111111111,
              "#46039f"
             ],
             [
              0.2222222222222222,
              "#7201a8"
             ],
             [
              0.3333333333333333,
              "#9c179e"
             ],
             [
              0.4444444444444444,
              "#bd3786"
             ],
             [
              0.5555555555555556,
              "#d8576b"
             ],
             [
              0.6666666666666666,
              "#ed7953"
             ],
             [
              0.7777777777777778,
              "#fb9f3a"
             ],
             [
              0.8888888888888888,
              "#fdca26"
             ],
             [
              1,
              "#f0f921"
             ]
            ],
            "type": "histogram2dcontour"
           }
          ],
          "mesh3d": [
           {
            "colorbar": {
             "outlinewidth": 0,
             "ticks": ""
            },
            "type": "mesh3d"
           }
          ],
          "parcoords": [
           {
            "line": {
             "colorbar": {
              "outlinewidth": 0,
              "ticks": ""
             }
            },
            "type": "parcoords"
           }
          ],
          "pie": [
           {
            "automargin": true,
            "type": "pie"
           }
          ],
          "scatter": [
           {
            "fillpattern": {
             "fillmode": "overlay",
             "size": 10,
             "solidity": 0.2
            },
            "type": "scatter"
           }
          ],
          "scatter3d": [
           {
            "line": {
             "colorbar": {
              "outlinewidth": 0,
              "ticks": ""
             }
            },
            "marker": {
             "colorbar": {
              "outlinewidth": 0,
              "ticks": ""
             }
            },
            "type": "scatter3d"
           }
          ],
          "scattercarpet": [
           {
            "marker": {
             "colorbar": {
              "outlinewidth": 0,
              "ticks": ""
             }
            },
            "type": "scattercarpet"
           }
          ],
          "scattergeo": [
           {
            "marker": {
             "colorbar": {
              "outlinewidth": 0,
              "ticks": ""
             }
            },
            "type": "scattergeo"
           }
          ],
          "scattergl": [
           {
            "marker": {
             "colorbar": {
              "outlinewidth": 0,
              "ticks": ""
             }
            },
            "type": "scattergl"
           }
          ],
          "scattermapbox": [
           {
            "marker": {
             "colorbar": {
              "outlinewidth": 0,
              "ticks": ""
             }
            },
            "type": "scattermapbox"
           }
          ],
          "scatterpolar": [
           {
            "marker": {
             "colorbar": {
              "outlinewidth": 0,
              "ticks": ""
             }
            },
            "type": "scatterpolar"
           }
          ],
          "scatterpolargl": [
           {
            "marker": {
             "colorbar": {
              "outlinewidth": 0,
              "ticks": ""
             }
            },
            "type": "scatterpolargl"
           }
          ],
          "scatterternary": [
           {
            "marker": {
             "colorbar": {
              "outlinewidth": 0,
              "ticks": ""
             }
            },
            "type": "scatterternary"
           }
          ],
          "surface": [
           {
            "colorbar": {
             "outlinewidth": 0,
             "ticks": ""
            },
            "colorscale": [
             [
              0,
              "#0d0887"
             ],
             [
              0.1111111111111111,
              "#46039f"
             ],
             [
              0.2222222222222222,
              "#7201a8"
             ],
             [
              0.3333333333333333,
              "#9c179e"
             ],
             [
              0.4444444444444444,
              "#bd3786"
             ],
             [
              0.5555555555555556,
              "#d8576b"
             ],
             [
              0.6666666666666666,
              "#ed7953"
             ],
             [
              0.7777777777777778,
              "#fb9f3a"
             ],
             [
              0.8888888888888888,
              "#fdca26"
             ],
             [
              1,
              "#f0f921"
             ]
            ],
            "type": "surface"
           }
          ],
          "table": [
           {
            "cells": {
             "fill": {
              "color": "#EBF0F8"
             },
             "line": {
              "color": "white"
             }
            },
            "header": {
             "fill": {
              "color": "#C8D4E3"
             },
             "line": {
              "color": "white"
             }
            },
            "type": "table"
           }
          ]
         },
         "layout": {
          "annotationdefaults": {
           "arrowcolor": "#2a3f5f",
           "arrowhead": 0,
           "arrowwidth": 1
          },
          "autotypenumbers": "strict",
          "coloraxis": {
           "colorbar": {
            "outlinewidth": 0,
            "ticks": ""
           }
          },
          "colorscale": {
           "diverging": [
            [
             0,
             "#8e0152"
            ],
            [
             0.1,
             "#c51b7d"
            ],
            [
             0.2,
             "#de77ae"
            ],
            [
             0.3,
             "#f1b6da"
            ],
            [
             0.4,
             "#fde0ef"
            ],
            [
             0.5,
             "#f7f7f7"
            ],
            [
             0.6,
             "#e6f5d0"
            ],
            [
             0.7,
             "#b8e186"
            ],
            [
             0.8,
             "#7fbc41"
            ],
            [
             0.9,
             "#4d9221"
            ],
            [
             1,
             "#276419"
            ]
           ],
           "sequential": [
            [
             0,
             "#0d0887"
            ],
            [
             0.1111111111111111,
             "#46039f"
            ],
            [
             0.2222222222222222,
             "#7201a8"
            ],
            [
             0.3333333333333333,
             "#9c179e"
            ],
            [
             0.4444444444444444,
             "#bd3786"
            ],
            [
             0.5555555555555556,
             "#d8576b"
            ],
            [
             0.6666666666666666,
             "#ed7953"
            ],
            [
             0.7777777777777778,
             "#fb9f3a"
            ],
            [
             0.8888888888888888,
             "#fdca26"
            ],
            [
             1,
             "#f0f921"
            ]
           ],
           "sequentialminus": [
            [
             0,
             "#0d0887"
            ],
            [
             0.1111111111111111,
             "#46039f"
            ],
            [
             0.2222222222222222,
             "#7201a8"
            ],
            [
             0.3333333333333333,
             "#9c179e"
            ],
            [
             0.4444444444444444,
             "#bd3786"
            ],
            [
             0.5555555555555556,
             "#d8576b"
            ],
            [
             0.6666666666666666,
             "#ed7953"
            ],
            [
             0.7777777777777778,
             "#fb9f3a"
            ],
            [
             0.8888888888888888,
             "#fdca26"
            ],
            [
             1,
             "#f0f921"
            ]
           ]
          },
          "colorway": [
           "#636efa",
           "#EF553B",
           "#00cc96",
           "#ab63fa",
           "#FFA15A",
           "#19d3f3",
           "#FF6692",
           "#B6E880",
           "#FF97FF",
           "#FECB52"
          ],
          "font": {
           "color": "#2a3f5f"
          },
          "geo": {
           "bgcolor": "white",
           "lakecolor": "white",
           "landcolor": "#E5ECF6",
           "showlakes": true,
           "showland": true,
           "subunitcolor": "white"
          },
          "hoverlabel": {
           "align": "left"
          },
          "hovermode": "closest",
          "mapbox": {
           "style": "light"
          },
          "paper_bgcolor": "white",
          "plot_bgcolor": "#E5ECF6",
          "polar": {
           "angularaxis": {
            "gridcolor": "white",
            "linecolor": "white",
            "ticks": ""
           },
           "bgcolor": "#E5ECF6",
           "radialaxis": {
            "gridcolor": "white",
            "linecolor": "white",
            "ticks": ""
           }
          },
          "scene": {
           "xaxis": {
            "backgroundcolor": "#E5ECF6",
            "gridcolor": "white",
            "gridwidth": 2,
            "linecolor": "white",
            "showbackground": true,
            "ticks": "",
            "zerolinecolor": "white"
           },
           "yaxis": {
            "backgroundcolor": "#E5ECF6",
            "gridcolor": "white",
            "gridwidth": 2,
            "linecolor": "white",
            "showbackground": true,
            "ticks": "",
            "zerolinecolor": "white"
           },
           "zaxis": {
            "backgroundcolor": "#E5ECF6",
            "gridcolor": "white",
            "gridwidth": 2,
            "linecolor": "white",
            "showbackground": true,
            "ticks": "",
            "zerolinecolor": "white"
           }
          },
          "shapedefaults": {
           "line": {
            "color": "#2a3f5f"
           }
          },
          "ternary": {
           "aaxis": {
            "gridcolor": "white",
            "linecolor": "white",
            "ticks": ""
           },
           "baxis": {
            "gridcolor": "white",
            "linecolor": "white",
            "ticks": ""
           },
           "bgcolor": "#E5ECF6",
           "caxis": {
            "gridcolor": "white",
            "linecolor": "white",
            "ticks": ""
           }
          },
          "title": {
           "x": 0.05
          },
          "xaxis": {
           "automargin": true,
           "gridcolor": "white",
           "linecolor": "white",
           "ticks": "",
           "title": {
            "standoff": 15
           },
           "zerolinecolor": "white",
           "zerolinewidth": 2
          },
          "yaxis": {
           "automargin": true,
           "gridcolor": "white",
           "linecolor": "white",
           "ticks": "",
           "title": {
            "standoff": 15
           },
           "zerolinecolor": "white",
           "zerolinewidth": 2
          }
         }
        },
        "width": 700
       }
      }
     },
     "metadata": {},
     "output_type": "display_data"
    }
   ],
   "source": [
    "fig = go.Figure(data=[go.Scatter3d(\n",
    "    x=df['G03Q01'],\n",
    "    y=df['genero_num'],\n",
    "    z=df['intentos'],\n",
    "    mode='markers',\n",
    "    marker=dict(\n",
    "        size=5,\n",
    "        color='blue',\n",
    "        opacity=0.8\n",
    "    )\n",
    ")])\n",
    "\n",
    "fig.update_layout(scene=dict(\n",
    "    xaxis_title='Edad',\n",
    "    yaxis_title='Genero',\n",
    "    zaxis_title='Intentos'),\n",
    "    width=700,\n",
    "    margin=dict(r=20, b=10, l=10, t=10))\n",
    "\n",
    "fig.show()\n",
    "\n",
    "\n"
   ]
  },
  {
   "attachments": {},
   "cell_type": "markdown",
   "metadata": {},
   "source": [
    "# con KMeans:"
   ]
  },
  {
   "cell_type": "code",
   "execution_count": 37,
   "metadata": {},
   "outputs": [],
   "source": [
    "# from sklearn.cluster import KMeans\n",
    "\n",
    "# Eliminamos la columna de 'genero' antes de crear la matriz de características\n",
    "# intentos_mat = df.drop(['G03Q02', 'token'], axis=1).values\n",
    "\n",
    "# Definimos o número de iteracións\n",
    "# n_iter = 20\n",
    "\n",
    "# Obtemos os mesmos centroides iniciais que antes\n",
    "# SEED_VALUE = 190463  # NON CAMBIES ESTE SEED, así todos teremos os mesmos resultados\n",
    "# np.random.seed(SEED_VALUE)\n",
    "# centr_iniciais = intentos_mat[np.random.choice(intentos_mat.shape[0], size=5, replace=False)]\n",
    "\n",
    "# Definimos o modelo\n",
    "# model = KMeans(n_clusters=len(centr_iniciais), init=centr_iniciais, n_init=1,\n",
    "               # max_iter=n_iter, algorithm='full', random_state=SEED_VALUE)\n",
    "\n",
    "# Axustamos o modelo aos datos\n",
    "# np.random.seed(SEED_VALUE)\n",
    "# agrupamento = model.fit(intentos_mat)\n"
   ]
  },
  {
   "attachments": {},
   "cell_type": "markdown",
   "metadata": {},
   "source": [
    "# con DBSCAN:"
   ]
  },
  {
   "cell_type": "code",
   "execution_count": 38,
   "metadata": {},
   "outputs": [],
   "source": [
    "from sklearn.cluster import DBSCAN\n",
    "from sklearn.preprocessing import StandardScaler\n",
    "\n",
    "# Eliminamos la columna de 'genero' antes de crear la matriz de características\n",
    "#intentos_mat = df.drop(['G03Q02', 'token'], axis=1).values\n",
    "\n",
    "# Definimos el modelo\n",
    "#model = DBSCAN(eps=0.5, min_samples=5)\n",
    "\n",
    "# Ajustamos el modelo a los datos\n",
    "# agrupamento = model.fit(intentos_mat)\n"
   ]
  },
  {
   "cell_type": "code",
   "execution_count": 39,
   "metadata": {},
   "outputs": [],
   "source": [
    "# Creamos la figura\n",
    "#fig = go.Figure(data=[go.Scatter3d(x=df['G03Q01'], y=df['genero_num'], z=df['intentos'], mode='markers', \n",
    "                                   #marker=dict(size=3, color=agrupamento.labels_ + 1, opacity=0.8, \n",
    "                                               #colorscale='Viridis'))])\n",
    "\n",
    "# Agregamos la barra de colores\n",
    "#fig.update_layout(title='Clustering de intentos',\n",
    "                  #scene=dict(xaxis_title='Edad', yaxis_title='Genero', zaxis_title='Intentos'),\n",
    "                  #coloraxis=dict(colorscale='Viridis', colorbar=dict(title='Cluster')))\n",
    "\n",
    "# Mostramos la figura\n",
    "#fig.show()"
   ]
  },
  {
   "attachments": {},
   "cell_type": "markdown",
   "metadata": {},
   "source": [
    "# Con Hierarchical Agglomerative Clustering (HAC):"
   ]
  },
  {
   "cell_type": "code",
   "execution_count": 43,
   "metadata": {},
   "outputs": [
    {
     "data": {
      "application/vnd.plotly.v1+json": {
       "config": {
        "plotlyServerURL": "https://plot.ly"
       },
       "data": [
        {
         "marker": {
          "color": [
           "rgb(143, 222, 41)",
           "rgb(89, 25, 188)",
           "rgb(143, 222, 41)",
           "rgb(143, 222, 41)",
           "rgb(143, 222, 41)",
           "rgb(143, 222, 41)",
           "rgb(7, 190, 50)",
           "rgb(7, 190, 50)",
           "rgb(143, 222, 41)",
           "rgb(140, 230, 3)",
           "rgb(89, 25, 188)",
           "rgb(7, 190, 50)",
           "rgb(143, 222, 41)",
           "rgb(7, 190, 50)",
           "rgb(202, 77, 58)",
           "rgb(89, 25, 188)",
           "rgb(7, 190, 50)",
           "rgb(7, 190, 50)",
           "rgb(153, 197, 175)",
           "rgb(7, 190, 50)",
           "rgb(202, 77, 58)",
           "rgb(143, 222, 41)",
           "rgb(143, 222, 41)",
           "rgb(202, 77, 58)",
           "rgb(143, 222, 41)",
           "rgb(7, 190, 50)",
           "rgb(140, 230, 3)",
           "rgb(7, 190, 50)",
           "rgb(7, 190, 50)",
           "rgb(202, 77, 58)",
           "rgb(143, 222, 41)",
           "rgb(89, 25, 188)",
           "rgb(7, 190, 50)",
           "rgb(153, 197, 175)",
           "rgb(153, 197, 175)",
           "rgb(7, 190, 50)",
           "rgb(143, 222, 41)",
           "rgb(202, 77, 58)",
           "rgb(89, 25, 188)",
           "rgb(7, 190, 50)",
           "rgb(143, 222, 41)",
           "rgb(143, 222, 41)",
           "rgb(143, 222, 41)",
           "rgb(7, 190, 50)",
           "rgb(143, 222, 41)",
           "rgb(7, 190, 50)",
           "rgb(143, 222, 41)",
           "rgb(202, 77, 58)",
           "rgb(202, 77, 58)",
           "rgb(143, 222, 41)",
           "rgb(153, 197, 175)",
           "rgb(143, 222, 41)",
           "rgb(202, 77, 58)",
           "rgb(153, 197, 175)",
           "rgb(7, 190, 50)",
           "rgb(89, 25, 188)",
           "rgb(140, 230, 3)",
           "rgb(7, 190, 50)",
           "rgb(7, 190, 50)",
           "rgb(140, 230, 3)",
           "rgb(89, 25, 188)",
           "rgb(140, 230, 3)",
           "rgb(143, 222, 41)",
           "rgb(140, 230, 3)",
           "rgb(143, 222, 41)",
           "rgb(140, 230, 3)",
           "rgb(153, 197, 175)",
           "rgb(143, 222, 41)",
           "rgb(202, 77, 58)",
           "rgb(202, 77, 58)",
           "rgb(202, 77, 58)",
           "rgb(7, 190, 50)",
           "rgb(202, 77, 58)",
           "rgb(153, 197, 175)",
           "rgb(140, 230, 3)",
           "rgb(7, 190, 50)",
           "rgb(7, 190, 50)",
           "rgb(7, 190, 50)",
           "rgb(202, 77, 58)",
           "rgb(7, 190, 50)",
           "rgb(143, 222, 41)",
           "rgb(202, 77, 58)",
           "rgb(89, 25, 188)",
           "rgb(7, 190, 50)",
           "rgb(7, 190, 50)",
           "rgb(143, 222, 41)",
           "rgb(202, 77, 58)",
           "rgb(202, 77, 58)",
           "rgb(7, 190, 50)",
           "rgb(143, 222, 41)",
           "rgb(153, 197, 175)",
           "rgb(7, 190, 50)",
           "rgb(202, 77, 58)",
           "rgb(202, 77, 58)",
           "rgb(140, 230, 3)",
           "rgb(7, 190, 50)",
           "rgb(89, 25, 188)",
           "rgb(143, 222, 41)",
           "rgb(153, 197, 175)",
           "rgb(202, 77, 58)",
           "rgb(143, 222, 41)",
           "rgb(7, 190, 50)",
           "rgb(153, 197, 175)",
           "rgb(7, 190, 50)",
           "rgb(153, 197, 175)",
           "rgb(153, 197, 175)",
           "rgb(153, 197, 175)",
           "rgb(140, 230, 3)",
           "rgb(202, 77, 58)",
           "rgb(153, 197, 175)",
           "rgb(153, 197, 175)",
           "rgb(89, 25, 188)",
           "rgb(7, 190, 50)",
           "rgb(143, 222, 41)",
           "rgb(7, 190, 50)",
           "rgb(7, 190, 50)",
           "rgb(143, 222, 41)",
           "rgb(143, 222, 41)",
           "rgb(153, 197, 175)",
           "rgb(7, 190, 50)",
           "rgb(143, 222, 41)",
           "rgb(140, 230, 3)",
           "rgb(143, 222, 41)",
           "rgb(143, 222, 41)",
           "rgb(202, 77, 58)",
           "rgb(153, 197, 175)",
           "rgb(153, 197, 175)",
           "rgb(140, 230, 3)",
           "rgb(153, 197, 175)",
           "rgb(7, 190, 50)",
           "rgb(140, 230, 3)",
           "rgb(143, 222, 41)",
           "rgb(143, 222, 41)"
          ],
          "opacity": 0.8,
          "size": 3
         },
         "mode": "markers",
         "type": "scatter3d",
         "x": [
          14,
          14,
          15,
          14,
          14,
          14,
          12,
          13,
          14,
          15,
          13,
          12,
          14,
          13,
          8,
          14,
          13,
          13,
          14,
          13,
          12,
          14,
          14,
          12,
          14,
          12,
          15,
          13,
          13,
          12,
          14,
          14,
          13,
          14,
          15,
          13,
          14,
          13,
          13,
          13,
          14,
          15,
          14,
          12,
          14,
          13,
          14,
          12,
          12,
          15,
          14,
          14,
          13,
          14,
          13,
          13,
          15,
          13,
          12,
          15,
          14,
          12,
          14,
          12,
          15,
          15,
          15,
          14,
          12,
          12,
          13,
          13,
          12,
          14,
          12,
          13,
          13,
          13,
          12,
          12,
          14,
          13,
          14,
          13,
          13,
          15,
          12,
          12,
          13,
          14,
          13,
          12,
          12,
          12,
          12,
          13,
          15,
          14,
          14,
          12,
          15,
          13,
          14,
          13,
          15,
          13,
          14,
          15,
          12,
          14,
          15,
          13,
          13,
          14,
          12,
          13,
          14,
          15,
          15,
          13,
          14,
          15,
          15,
          14,
          13,
          15,
          15,
          12,
          15,
          13,
          15,
          14,
          14
         ],
         "y": [
          0,
          2,
          0,
          0,
          1,
          1,
          1,
          0,
          0,
          1,
          2,
          1,
          0,
          0,
          1,
          2,
          1,
          1,
          0,
          1,
          0,
          0,
          0,
          1,
          0,
          1,
          1,
          0,
          0,
          0,
          0,
          2,
          0,
          1,
          1,
          0,
          1,
          1,
          2,
          0,
          0,
          0,
          0,
          1,
          0,
          1,
          0,
          0,
          0,
          0,
          1,
          1,
          1,
          1,
          1,
          2,
          1,
          1,
          1,
          1,
          2,
          1,
          0,
          1,
          0,
          1,
          1,
          0,
          0,
          0,
          0,
          0,
          0,
          1,
          1,
          0,
          0,
          0,
          0,
          1,
          0,
          0,
          2,
          0,
          0,
          0,
          0,
          0,
          1,
          0,
          0,
          1,
          0,
          2,
          1,
          0,
          1,
          0,
          1,
          0,
          0,
          1,
          0,
          0,
          1,
          0,
          0,
          1,
          0,
          2,
          0,
          1,
          1,
          1,
          1,
          1,
          0,
          0,
          0,
          0,
          0,
          1,
          0,
          1,
          0,
          1,
          0,
          1,
          2,
          1,
          1,
          0,
          1
         ],
         "z": [
          3.65,
          2.875,
          2.25,
          1.8857142857142857,
          2.423076923076923,
          2.0434782608695654,
          2.2777777777777777,
          2.95,
          1.8928571428571428,
          2.7,
          3,
          2.6363636363636362,
          2.6923076923076925,
          1.5161290322580645,
          3.1666666666666665,
          1.5862068965517242,
          1.8888888888888888,
          2.739130434782609,
          4.95,
          2.2857142857142856,
          5.555555555555555,
          2.3846153846153846,
          1.7142857142857142,
          5.615384615384615,
          3.1363636363636362,
          2.037037037037037,
          2,
          2.72,
          1.9130434782608696,
          2.1666666666666665,
          1.5714285714285714,
          2.142857142857143,
          1.4,
          4.176470588235294,
          4.35,
          2.04,
          2.4782608695652173,
          4.666666666666667,
          3.2,
          2.6842105263157894,
          3.142857142857143,
          1.6666666666666667,
          2.6842105263157894,
          2.217391304347826,
          3.5714285714285716,
          1.8636363636363635,
          2.3181818181818183,
          4.5,
          3.55,
          2.4285714285714284,
          3.3529411764705883,
          2,
          4.045454545454546,
          3.125,
          1.7857142857142858,
          2.8636363636363638,
          2,
          1.5555555555555556,
          1.52,
          1.9583333333333333,
          1.5925925925925926,
          4.476190476190476,
          2.736842105263158,
          3.6818181818181817,
          1.4,
          1.44,
          4.833333333333333,
          2.4857142857142858,
          5.052631578947368,
          3.0714285714285716,
          3.8,
          1.6896551724137931,
          3.5454545454545454,
          3.7037037037037037,
          4.083333333333333,
          2.25,
          2.5833333333333335,
          1.8148148148148149,
          1.3214285714285714,
          2.3157894736842106,
          2.590909090909091,
          3.9565217391304346,
          1.5333333333333334,
          2.45,
          2.2,
          1.2758620689655173,
          2.2962962962962963,
          2.736842105263158,
          1.9090909090909092,
          3.607142857142857,
          6.25,
          2,
          3.933333333333333,
          6.071428571428571,
          4.538461538461538,
          1.3333333333333333,
          1.368421052631579,
          3.6315789473684212,
          4.368421052631579,
          2.45,
          2.56,
          2.736842105263158,
          5.333333333333333,
          3.391304347826087,
          3.7142857142857144,
          5.4,
          5.172413793103448,
          2.210526315789474,
          1.3333333333333333,
          4.190476190476191,
          3.6666666666666665,
          3.130434782608696,
          1.5925925925925926,
          2,
          2.272727272727273,
          1.2692307692307692,
          3.0454545454545454,
          1.9259259259259258,
          6,
          2.3703703703703702,
          1.4545454545454546,
          2.111111111111111,
          2.16,
          2.727272727272727,
          4.083333333333333,
          4.105263157894737,
          6.166666666666667,
          4.136363636363637,
          4.933333333333334,
          1.6956521739130435,
          1.9259259259259258,
          3.0434782608695654,
          2
         ]
        }
       ],
       "layout": {
        "coloraxis": {
         "colorbar": {
          "title": {
           "text": "Cluster"
          }
         }
        },
        "scene": {
         "xaxis": {
          "title": {
           "text": "Edad"
          }
         },
         "yaxis": {
          "title": {
           "text": "Genero"
          }
         },
         "zaxis": {
          "title": {
           "text": "Intentos"
          }
         }
        },
        "template": {
         "data": {
          "bar": [
           {
            "error_x": {
             "color": "#2a3f5f"
            },
            "error_y": {
             "color": "#2a3f5f"
            },
            "marker": {
             "line": {
              "color": "#E5ECF6",
              "width": 0.5
             },
             "pattern": {
              "fillmode": "overlay",
              "size": 10,
              "solidity": 0.2
             }
            },
            "type": "bar"
           }
          ],
          "barpolar": [
           {
            "marker": {
             "line": {
              "color": "#E5ECF6",
              "width": 0.5
             },
             "pattern": {
              "fillmode": "overlay",
              "size": 10,
              "solidity": 0.2
             }
            },
            "type": "barpolar"
           }
          ],
          "carpet": [
           {
            "aaxis": {
             "endlinecolor": "#2a3f5f",
             "gridcolor": "white",
             "linecolor": "white",
             "minorgridcolor": "white",
             "startlinecolor": "#2a3f5f"
            },
            "baxis": {
             "endlinecolor": "#2a3f5f",
             "gridcolor": "white",
             "linecolor": "white",
             "minorgridcolor": "white",
             "startlinecolor": "#2a3f5f"
            },
            "type": "carpet"
           }
          ],
          "choropleth": [
           {
            "colorbar": {
             "outlinewidth": 0,
             "ticks": ""
            },
            "type": "choropleth"
           }
          ],
          "contour": [
           {
            "colorbar": {
             "outlinewidth": 0,
             "ticks": ""
            },
            "colorscale": [
             [
              0,
              "#0d0887"
             ],
             [
              0.1111111111111111,
              "#46039f"
             ],
             [
              0.2222222222222222,
              "#7201a8"
             ],
             [
              0.3333333333333333,
              "#9c179e"
             ],
             [
              0.4444444444444444,
              "#bd3786"
             ],
             [
              0.5555555555555556,
              "#d8576b"
             ],
             [
              0.6666666666666666,
              "#ed7953"
             ],
             [
              0.7777777777777778,
              "#fb9f3a"
             ],
             [
              0.8888888888888888,
              "#fdca26"
             ],
             [
              1,
              "#f0f921"
             ]
            ],
            "type": "contour"
           }
          ],
          "contourcarpet": [
           {
            "colorbar": {
             "outlinewidth": 0,
             "ticks": ""
            },
            "type": "contourcarpet"
           }
          ],
          "heatmap": [
           {
            "colorbar": {
             "outlinewidth": 0,
             "ticks": ""
            },
            "colorscale": [
             [
              0,
              "#0d0887"
             ],
             [
              0.1111111111111111,
              "#46039f"
             ],
             [
              0.2222222222222222,
              "#7201a8"
             ],
             [
              0.3333333333333333,
              "#9c179e"
             ],
             [
              0.4444444444444444,
              "#bd3786"
             ],
             [
              0.5555555555555556,
              "#d8576b"
             ],
             [
              0.6666666666666666,
              "#ed7953"
             ],
             [
              0.7777777777777778,
              "#fb9f3a"
             ],
             [
              0.8888888888888888,
              "#fdca26"
             ],
             [
              1,
              "#f0f921"
             ]
            ],
            "type": "heatmap"
           }
          ],
          "heatmapgl": [
           {
            "colorbar": {
             "outlinewidth": 0,
             "ticks": ""
            },
            "colorscale": [
             [
              0,
              "#0d0887"
             ],
             [
              0.1111111111111111,
              "#46039f"
             ],
             [
              0.2222222222222222,
              "#7201a8"
             ],
             [
              0.3333333333333333,
              "#9c179e"
             ],
             [
              0.4444444444444444,
              "#bd3786"
             ],
             [
              0.5555555555555556,
              "#d8576b"
             ],
             [
              0.6666666666666666,
              "#ed7953"
             ],
             [
              0.7777777777777778,
              "#fb9f3a"
             ],
             [
              0.8888888888888888,
              "#fdca26"
             ],
             [
              1,
              "#f0f921"
             ]
            ],
            "type": "heatmapgl"
           }
          ],
          "histogram": [
           {
            "marker": {
             "pattern": {
              "fillmode": "overlay",
              "size": 10,
              "solidity": 0.2
             }
            },
            "type": "histogram"
           }
          ],
          "histogram2d": [
           {
            "colorbar": {
             "outlinewidth": 0,
             "ticks": ""
            },
            "colorscale": [
             [
              0,
              "#0d0887"
             ],
             [
              0.1111111111111111,
              "#46039f"
             ],
             [
              0.2222222222222222,
              "#7201a8"
             ],
             [
              0.3333333333333333,
              "#9c179e"
             ],
             [
              0.4444444444444444,
              "#bd3786"
             ],
             [
              0.5555555555555556,
              "#d8576b"
             ],
             [
              0.6666666666666666,
              "#ed7953"
             ],
             [
              0.7777777777777778,
              "#fb9f3a"
             ],
             [
              0.8888888888888888,
              "#fdca26"
             ],
             [
              1,
              "#f0f921"
             ]
            ],
            "type": "histogram2d"
           }
          ],
          "histogram2dcontour": [
           {
            "colorbar": {
             "outlinewidth": 0,
             "ticks": ""
            },
            "colorscale": [
             [
              0,
              "#0d0887"
             ],
             [
              0.1111111111111111,
              "#46039f"
             ],
             [
              0.2222222222222222,
              "#7201a8"
             ],
             [
              0.3333333333333333,
              "#9c179e"
             ],
             [
              0.4444444444444444,
              "#bd3786"
             ],
             [
              0.5555555555555556,
              "#d8576b"
             ],
             [
              0.6666666666666666,
              "#ed7953"
             ],
             [
              0.7777777777777778,
              "#fb9f3a"
             ],
             [
              0.8888888888888888,
              "#fdca26"
             ],
             [
              1,
              "#f0f921"
             ]
            ],
            "type": "histogram2dcontour"
           }
          ],
          "mesh3d": [
           {
            "colorbar": {
             "outlinewidth": 0,
             "ticks": ""
            },
            "type": "mesh3d"
           }
          ],
          "parcoords": [
           {
            "line": {
             "colorbar": {
              "outlinewidth": 0,
              "ticks": ""
             }
            },
            "type": "parcoords"
           }
          ],
          "pie": [
           {
            "automargin": true,
            "type": "pie"
           }
          ],
          "scatter": [
           {
            "fillpattern": {
             "fillmode": "overlay",
             "size": 10,
             "solidity": 0.2
            },
            "type": "scatter"
           }
          ],
          "scatter3d": [
           {
            "line": {
             "colorbar": {
              "outlinewidth": 0,
              "ticks": ""
             }
            },
            "marker": {
             "colorbar": {
              "outlinewidth": 0,
              "ticks": ""
             }
            },
            "type": "scatter3d"
           }
          ],
          "scattercarpet": [
           {
            "marker": {
             "colorbar": {
              "outlinewidth": 0,
              "ticks": ""
             }
            },
            "type": "scattercarpet"
           }
          ],
          "scattergeo": [
           {
            "marker": {
             "colorbar": {
              "outlinewidth": 0,
              "ticks": ""
             }
            },
            "type": "scattergeo"
           }
          ],
          "scattergl": [
           {
            "marker": {
             "colorbar": {
              "outlinewidth": 0,
              "ticks": ""
             }
            },
            "type": "scattergl"
           }
          ],
          "scattermapbox": [
           {
            "marker": {
             "colorbar": {
              "outlinewidth": 0,
              "ticks": ""
             }
            },
            "type": "scattermapbox"
           }
          ],
          "scatterpolar": [
           {
            "marker": {
             "colorbar": {
              "outlinewidth": 0,
              "ticks": ""
             }
            },
            "type": "scatterpolar"
           }
          ],
          "scatterpolargl": [
           {
            "marker": {
             "colorbar": {
              "outlinewidth": 0,
              "ticks": ""
             }
            },
            "type": "scatterpolargl"
           }
          ],
          "scatterternary": [
           {
            "marker": {
             "colorbar": {
              "outlinewidth": 0,
              "ticks": ""
             }
            },
            "type": "scatterternary"
           }
          ],
          "surface": [
           {
            "colorbar": {
             "outlinewidth": 0,
             "ticks": ""
            },
            "colorscale": [
             [
              0,
              "#0d0887"
             ],
             [
              0.1111111111111111,
              "#46039f"
             ],
             [
              0.2222222222222222,
              "#7201a8"
             ],
             [
              0.3333333333333333,
              "#9c179e"
             ],
             [
              0.4444444444444444,
              "#bd3786"
             ],
             [
              0.5555555555555556,
              "#d8576b"
             ],
             [
              0.6666666666666666,
              "#ed7953"
             ],
             [
              0.7777777777777778,
              "#fb9f3a"
             ],
             [
              0.8888888888888888,
              "#fdca26"
             ],
             [
              1,
              "#f0f921"
             ]
            ],
            "type": "surface"
           }
          ],
          "table": [
           {
            "cells": {
             "fill": {
              "color": "#EBF0F8"
             },
             "line": {
              "color": "white"
             }
            },
            "header": {
             "fill": {
              "color": "#C8D4E3"
             },
             "line": {
              "color": "white"
             }
            },
            "type": "table"
           }
          ]
         },
         "layout": {
          "annotationdefaults": {
           "arrowcolor": "#2a3f5f",
           "arrowhead": 0,
           "arrowwidth": 1
          },
          "autotypenumbers": "strict",
          "coloraxis": {
           "colorbar": {
            "outlinewidth": 0,
            "ticks": ""
           }
          },
          "colorscale": {
           "diverging": [
            [
             0,
             "#8e0152"
            ],
            [
             0.1,
             "#c51b7d"
            ],
            [
             0.2,
             "#de77ae"
            ],
            [
             0.3,
             "#f1b6da"
            ],
            [
             0.4,
             "#fde0ef"
            ],
            [
             0.5,
             "#f7f7f7"
            ],
            [
             0.6,
             "#e6f5d0"
            ],
            [
             0.7,
             "#b8e186"
            ],
            [
             0.8,
             "#7fbc41"
            ],
            [
             0.9,
             "#4d9221"
            ],
            [
             1,
             "#276419"
            ]
           ],
           "sequential": [
            [
             0,
             "#0d0887"
            ],
            [
             0.1111111111111111,
             "#46039f"
            ],
            [
             0.2222222222222222,
             "#7201a8"
            ],
            [
             0.3333333333333333,
             "#9c179e"
            ],
            [
             0.4444444444444444,
             "#bd3786"
            ],
            [
             0.5555555555555556,
             "#d8576b"
            ],
            [
             0.6666666666666666,
             "#ed7953"
            ],
            [
             0.7777777777777778,
             "#fb9f3a"
            ],
            [
             0.8888888888888888,
             "#fdca26"
            ],
            [
             1,
             "#f0f921"
            ]
           ],
           "sequentialminus": [
            [
             0,
             "#0d0887"
            ],
            [
             0.1111111111111111,
             "#46039f"
            ],
            [
             0.2222222222222222,
             "#7201a8"
            ],
            [
             0.3333333333333333,
             "#9c179e"
            ],
            [
             0.4444444444444444,
             "#bd3786"
            ],
            [
             0.5555555555555556,
             "#d8576b"
            ],
            [
             0.6666666666666666,
             "#ed7953"
            ],
            [
             0.7777777777777778,
             "#fb9f3a"
            ],
            [
             0.8888888888888888,
             "#fdca26"
            ],
            [
             1,
             "#f0f921"
            ]
           ]
          },
          "colorway": [
           "#636efa",
           "#EF553B",
           "#00cc96",
           "#ab63fa",
           "#FFA15A",
           "#19d3f3",
           "#FF6692",
           "#B6E880",
           "#FF97FF",
           "#FECB52"
          ],
          "font": {
           "color": "#2a3f5f"
          },
          "geo": {
           "bgcolor": "white",
           "lakecolor": "white",
           "landcolor": "#E5ECF6",
           "showlakes": true,
           "showland": true,
           "subunitcolor": "white"
          },
          "hoverlabel": {
           "align": "left"
          },
          "hovermode": "closest",
          "mapbox": {
           "style": "light"
          },
          "paper_bgcolor": "white",
          "plot_bgcolor": "#E5ECF6",
          "polar": {
           "angularaxis": {
            "gridcolor": "white",
            "linecolor": "white",
            "ticks": ""
           },
           "bgcolor": "#E5ECF6",
           "radialaxis": {
            "gridcolor": "white",
            "linecolor": "white",
            "ticks": ""
           }
          },
          "scene": {
           "xaxis": {
            "backgroundcolor": "#E5ECF6",
            "gridcolor": "white",
            "gridwidth": 2,
            "linecolor": "white",
            "showbackground": true,
            "ticks": "",
            "zerolinecolor": "white"
           },
           "yaxis": {
            "backgroundcolor": "#E5ECF6",
            "gridcolor": "white",
            "gridwidth": 2,
            "linecolor": "white",
            "showbackground": true,
            "ticks": "",
            "zerolinecolor": "white"
           },
           "zaxis": {
            "backgroundcolor": "#E5ECF6",
            "gridcolor": "white",
            "gridwidth": 2,
            "linecolor": "white",
            "showbackground": true,
            "ticks": "",
            "zerolinecolor": "white"
           }
          },
          "shapedefaults": {
           "line": {
            "color": "#2a3f5f"
           }
          },
          "ternary": {
           "aaxis": {
            "gridcolor": "white",
            "linecolor": "white",
            "ticks": ""
           },
           "baxis": {
            "gridcolor": "white",
            "linecolor": "white",
            "ticks": ""
           },
           "bgcolor": "#E5ECF6",
           "caxis": {
            "gridcolor": "white",
            "linecolor": "white",
            "ticks": ""
           }
          },
          "title": {
           "x": 0.05
          },
          "xaxis": {
           "automargin": true,
           "gridcolor": "white",
           "linecolor": "white",
           "ticks": "",
           "title": {
            "standoff": 15
           },
           "zerolinecolor": "white",
           "zerolinewidth": 2
          },
          "yaxis": {
           "automargin": true,
           "gridcolor": "white",
           "linecolor": "white",
           "ticks": "",
           "title": {
            "standoff": 15
           },
           "zerolinecolor": "white",
           "zerolinewidth": 2
          }
         }
        },
        "title": {
         "text": "Clustering de intentos"
        }
       }
      }
     },
     "metadata": {},
     "output_type": "display_data"
    }
   ],
   "source": [
    "import numpy as np\n",
    "import plotly.graph_objects as go\n",
    "from scipy.cluster.hierarchy import linkage, fcluster\n",
    "\n",
    "# Eliminamos la columna de 'genero' antes de crear la matriz de características\n",
    "# intentos_mat = df.drop(['G03Q02', 'token'], axis=1).values\n",
    "\n",
    "# Aplicamos HAC para obtener los clusters\n",
    "# Z = linkage(intentos_mat, 'ward')\n",
    "# agrupamiento = fcluster(Z, t=6, criterion='maxclust')\n",
    "\n",
    "# Creamos un diccionario que asigne un color aleatorio a cada cluster\n",
    "# colores = {}\n",
    "#for cluster in set(agrupamiento):\n",
    "    #colores[cluster] = f'rgb({np.random.randint(0, 256)}, {np.random.randint(0, 256)}, {np.random.randint(0, 256)})'\n",
    "\n",
    "# Creamos la figura\n",
    "#fig = go.Figure(data=[go.Scatter3d(x=df['G03Q01'], y=df['genero_num'], z=df['intentos'], mode='markers', \n",
    "                                   #marker=dict(size=3, color=[colores[cluster] for cluster in agrupamiento], \n",
    "                                               #opacity=0.8))])\n",
    "\n",
    "# Agregamos la barra de colores\n",
    "#fig.update_layout(title='Clustering de intentos',\n",
    "                  #scene=dict(xaxis_title='Edad', yaxis_title='Genero', zaxis_title='Intentos'),\n",
    "                  #coloraxis=dict(colorbar=dict(title='Cluster')))\n",
    "\n",
    "# Mostramos la figura\n",
    "#fig.show()\n"
   ]
  },
  {
   "cell_type": "code",
   "execution_count": 47,
   "metadata": {},
   "outputs": [
    {
     "data": {
      "application/vnd.plotly.v1+json": {
       "config": {
        "plotlyServerURL": "https://plot.ly"
       },
       "data": [
        {
         "marker": {
          "color": [
           "rgb(142, 158, 74)",
           "rgb(209, 20, 219)",
           "rgb(142, 158, 74)",
           "rgb(142, 158, 74)",
           "rgb(142, 158, 74)",
           "rgb(142, 158, 74)",
           "rgb(179, 189, 13)",
           "rgb(107, 214, 93)",
           "rgb(142, 158, 74)",
           "rgb(129, 158, 101)",
           "rgb(209, 20, 219)",
           "rgb(179, 189, 13)",
           "rgb(142, 158, 74)",
           "rgb(107, 214, 93)",
           "rgb(158, 175, 147)",
           "rgb(209, 20, 219)",
           "rgb(107, 214, 93)",
           "rgb(107, 214, 93)",
           "rgb(82, 202, 165)",
           "rgb(107, 214, 93)",
           "rgb(82, 202, 165)",
           "rgb(142, 158, 74)",
           "rgb(142, 158, 74)",
           "rgb(82, 202, 165)",
           "rgb(142, 158, 74)",
           "rgb(179, 189, 13)",
           "rgb(129, 158, 101)",
           "rgb(107, 214, 93)",
           "rgb(107, 214, 93)",
           "rgb(158, 175, 147)",
           "rgb(142, 158, 74)",
           "rgb(209, 20, 219)",
           "rgb(107, 214, 93)",
           "rgb(82, 202, 165)",
           "rgb(82, 202, 165)",
           "rgb(107, 214, 93)",
           "rgb(142, 158, 74)",
           "rgb(82, 202, 165)",
           "rgb(209, 20, 219)",
           "rgb(107, 214, 93)",
           "rgb(142, 158, 74)",
           "rgb(142, 158, 74)",
           "rgb(142, 158, 74)",
           "rgb(179, 189, 13)",
           "rgb(142, 158, 74)",
           "rgb(107, 214, 93)",
           "rgb(142, 158, 74)",
           "rgb(82, 202, 165)",
           "rgb(158, 175, 147)",
           "rgb(142, 158, 74)",
           "rgb(82, 202, 165)",
           "rgb(142, 158, 74)",
           "rgb(82, 202, 165)",
           "rgb(82, 202, 165)",
           "rgb(107, 214, 93)",
           "rgb(209, 20, 219)",
           "rgb(129, 158, 101)",
           "rgb(107, 214, 93)",
           "rgb(179, 189, 13)",
           "rgb(129, 158, 101)",
           "rgb(209, 20, 219)",
           "rgb(55, 127, 147)",
           "rgb(142, 158, 74)",
           "rgb(55, 127, 147)",
           "rgb(142, 158, 74)",
           "rgb(129, 158, 101)",
           "rgb(82, 202, 165)",
           "rgb(142, 158, 74)",
           "rgb(82, 202, 165)",
           "rgb(158, 175, 147)",
           "rgb(82, 202, 165)",
           "rgb(107, 214, 93)",
           "rgb(158, 175, 147)",
           "rgb(82, 202, 165)",
           "rgb(55, 127, 147)",
           "rgb(107, 214, 93)",
           "rgb(107, 214, 93)",
           "rgb(107, 214, 93)",
           "rgb(158, 175, 147)",
           "rgb(179, 189, 13)",
           "rgb(142, 158, 74)",
           "rgb(82, 202, 165)",
           "rgb(209, 20, 219)",
           "rgb(107, 214, 93)",
           "rgb(107, 214, 93)",
           "rgb(142, 158, 74)",
           "rgb(158, 175, 147)",
           "rgb(158, 175, 147)",
           "rgb(107, 214, 93)",
           "rgb(142, 158, 74)",
           "rgb(82, 202, 165)",
           "rgb(179, 189, 13)",
           "rgb(158, 175, 147)",
           "rgb(82, 202, 165)",
           "rgb(55, 127, 147)",
           "rgb(107, 214, 93)",
           "rgb(209, 20, 219)",
           "rgb(142, 158, 74)",
           "rgb(82, 202, 165)",
           "rgb(158, 175, 147)",
           "rgb(142, 158, 74)",
           "rgb(107, 214, 93)",
           "rgb(82, 202, 165)",
           "rgb(107, 214, 93)",
           "rgb(82, 202, 165)",
           "rgb(82, 202, 165)",
           "rgb(82, 202, 165)",
           "rgb(129, 158, 101)",
           "rgb(158, 175, 147)",
           "rgb(82, 202, 165)",
           "rgb(82, 202, 165)",
           "rgb(82, 202, 165)",
           "rgb(107, 214, 93)",
           "rgb(142, 158, 74)",
           "rgb(179, 189, 13)",
           "rgb(107, 214, 93)",
           "rgb(142, 158, 74)",
           "rgb(142, 158, 74)",
           "rgb(82, 202, 165)",
           "rgb(107, 214, 93)",
           "rgb(142, 158, 74)",
           "rgb(129, 158, 101)",
           "rgb(142, 158, 74)",
           "rgb(142, 158, 74)",
           "rgb(82, 202, 165)",
           "rgb(82, 202, 165)",
           "rgb(82, 202, 165)",
           "rgb(55, 127, 147)",
           "rgb(82, 202, 165)",
           "rgb(107, 214, 93)",
           "rgb(129, 158, 101)",
           "rgb(142, 158, 74)",
           "rgb(142, 158, 74)"
          ],
          "opacity": 0.8,
          "size": 3
         },
         "mode": "markers",
         "type": "scatter3d",
         "x": [
          14,
          14,
          15,
          14,
          14,
          14,
          12,
          13,
          14,
          15,
          13,
          12,
          14,
          13,
          8,
          14,
          13,
          13,
          14,
          13,
          12,
          14,
          14,
          12,
          14,
          12,
          15,
          13,
          13,
          12,
          14,
          14,
          13,
          14,
          15,
          13,
          14,
          13,
          13,
          13,
          14,
          15,
          14,
          12,
          14,
          13,
          14,
          12,
          12,
          15,
          14,
          14,
          13,
          14,
          13,
          13,
          15,
          13,
          12,
          15,
          14,
          12,
          14,
          12,
          15,
          15,
          15,
          14,
          12,
          12,
          13,
          13,
          12,
          14,
          12,
          13,
          13,
          13,
          12,
          12,
          14,
          13,
          14,
          13,
          13,
          15,
          12,
          12,
          13,
          14,
          13,
          12,
          12,
          12,
          12,
          13,
          15,
          14,
          14,
          12,
          15,
          13,
          14,
          13,
          15,
          13,
          14,
          15,
          12,
          14,
          15,
          13,
          13,
          14,
          12,
          13,
          14,
          15,
          15,
          13,
          14,
          15,
          15,
          14,
          13,
          15,
          15,
          12,
          15,
          13,
          15,
          14,
          14
         ],
         "y": [
          0,
          2,
          0,
          0,
          1,
          1,
          1,
          0,
          0,
          1,
          2,
          1,
          0,
          0,
          1,
          2,
          1,
          1,
          0,
          1,
          0,
          0,
          0,
          1,
          0,
          1,
          1,
          0,
          0,
          0,
          0,
          2,
          0,
          1,
          1,
          0,
          1,
          1,
          2,
          0,
          0,
          0,
          0,
          1,
          0,
          1,
          0,
          0,
          0,
          0,
          1,
          1,
          1,
          1,
          1,
          2,
          1,
          1,
          1,
          1,
          2,
          1,
          0,
          1,
          0,
          1,
          1,
          0,
          0,
          0,
          0,
          0,
          0,
          1,
          1,
          0,
          0,
          0,
          0,
          1,
          0,
          0,
          2,
          0,
          0,
          0,
          0,
          0,
          1,
          0,
          0,
          1,
          0,
          2,
          1,
          0,
          1,
          0,
          1,
          0,
          0,
          1,
          0,
          0,
          1,
          0,
          0,
          1,
          0,
          2,
          0,
          1,
          1,
          1,
          1,
          1,
          0,
          0,
          0,
          0,
          0,
          1,
          0,
          1,
          0,
          1,
          0,
          1,
          2,
          1,
          1,
          0,
          1
         ],
         "z": [
          3.65,
          2.875,
          2.25,
          1.8857142857142857,
          2.423076923076923,
          2.0434782608695654,
          2.2777777777777777,
          2.95,
          1.8928571428571428,
          2.7,
          3,
          2.6363636363636362,
          2.6923076923076925,
          1.5161290322580645,
          3.1666666666666665,
          1.5862068965517242,
          1.8888888888888888,
          2.739130434782609,
          4.95,
          2.2857142857142856,
          5.555555555555555,
          2.3846153846153846,
          1.7142857142857142,
          5.615384615384615,
          3.1363636363636362,
          2.037037037037037,
          2,
          2.72,
          1.9130434782608696,
          2.1666666666666665,
          1.5714285714285714,
          2.142857142857143,
          1.4,
          4.176470588235294,
          4.35,
          2.04,
          2.4782608695652173,
          4.666666666666667,
          3.2,
          2.6842105263157894,
          3.142857142857143,
          1.6666666666666667,
          2.6842105263157894,
          2.217391304347826,
          3.5714285714285716,
          1.8636363636363635,
          2.3181818181818183,
          4.5,
          3.55,
          2.4285714285714284,
          3.3529411764705883,
          2,
          4.045454545454546,
          3.125,
          1.7857142857142858,
          2.8636363636363638,
          2,
          1.5555555555555556,
          1.52,
          1.9583333333333333,
          1.5925925925925926,
          4.476190476190476,
          2.736842105263158,
          3.6818181818181817,
          1.4,
          1.44,
          4.833333333333333,
          2.4857142857142858,
          5.052631578947368,
          3.0714285714285716,
          3.8,
          1.6896551724137931,
          3.5454545454545454,
          3.7037037037037037,
          4.083333333333333,
          2.25,
          2.5833333333333335,
          1.8148148148148149,
          1.3214285714285714,
          2.3157894736842106,
          2.590909090909091,
          3.9565217391304346,
          1.5333333333333334,
          2.45,
          2.2,
          1.2758620689655173,
          2.2962962962962963,
          2.736842105263158,
          1.9090909090909092,
          3.607142857142857,
          6.25,
          2,
          3.933333333333333,
          6.071428571428571,
          4.538461538461538,
          1.3333333333333333,
          1.368421052631579,
          3.6315789473684212,
          4.368421052631579,
          2.45,
          2.56,
          2.736842105263158,
          5.333333333333333,
          3.391304347826087,
          3.7142857142857144,
          5.4,
          5.172413793103448,
          2.210526315789474,
          1.3333333333333333,
          4.190476190476191,
          3.6666666666666665,
          3.130434782608696,
          1.5925925925925926,
          2,
          2.272727272727273,
          1.2692307692307692,
          3.0454545454545454,
          1.9259259259259258,
          6,
          2.3703703703703702,
          1.4545454545454546,
          2.111111111111111,
          2.16,
          2.727272727272727,
          4.083333333333333,
          4.105263157894737,
          6.166666666666667,
          4.136363636363637,
          4.933333333333334,
          1.6956521739130435,
          1.9259259259259258,
          3.0434782608695654,
          2
         ]
        }
       ],
       "layout": {
        "coloraxis": {
         "colorbar": {
          "title": {
           "text": "Cluster"
          }
         }
        },
        "scene": {
         "xaxis": {
          "title": {
           "text": "Edad"
          }
         },
         "yaxis": {
          "title": {
           "text": "Genero"
          }
         },
         "zaxis": {
          "title": {
           "text": "Intentos"
          }
         }
        },
        "template": {
         "data": {
          "bar": [
           {
            "error_x": {
             "color": "#2a3f5f"
            },
            "error_y": {
             "color": "#2a3f5f"
            },
            "marker": {
             "line": {
              "color": "#E5ECF6",
              "width": 0.5
             },
             "pattern": {
              "fillmode": "overlay",
              "size": 10,
              "solidity": 0.2
             }
            },
            "type": "bar"
           }
          ],
          "barpolar": [
           {
            "marker": {
             "line": {
              "color": "#E5ECF6",
              "width": 0.5
             },
             "pattern": {
              "fillmode": "overlay",
              "size": 10,
              "solidity": 0.2
             }
            },
            "type": "barpolar"
           }
          ],
          "carpet": [
           {
            "aaxis": {
             "endlinecolor": "#2a3f5f",
             "gridcolor": "white",
             "linecolor": "white",
             "minorgridcolor": "white",
             "startlinecolor": "#2a3f5f"
            },
            "baxis": {
             "endlinecolor": "#2a3f5f",
             "gridcolor": "white",
             "linecolor": "white",
             "minorgridcolor": "white",
             "startlinecolor": "#2a3f5f"
            },
            "type": "carpet"
           }
          ],
          "choropleth": [
           {
            "colorbar": {
             "outlinewidth": 0,
             "ticks": ""
            },
            "type": "choropleth"
           }
          ],
          "contour": [
           {
            "colorbar": {
             "outlinewidth": 0,
             "ticks": ""
            },
            "colorscale": [
             [
              0,
              "#0d0887"
             ],
             [
              0.1111111111111111,
              "#46039f"
             ],
             [
              0.2222222222222222,
              "#7201a8"
             ],
             [
              0.3333333333333333,
              "#9c179e"
             ],
             [
              0.4444444444444444,
              "#bd3786"
             ],
             [
              0.5555555555555556,
              "#d8576b"
             ],
             [
              0.6666666666666666,
              "#ed7953"
             ],
             [
              0.7777777777777778,
              "#fb9f3a"
             ],
             [
              0.8888888888888888,
              "#fdca26"
             ],
             [
              1,
              "#f0f921"
             ]
            ],
            "type": "contour"
           }
          ],
          "contourcarpet": [
           {
            "colorbar": {
             "outlinewidth": 0,
             "ticks": ""
            },
            "type": "contourcarpet"
           }
          ],
          "heatmap": [
           {
            "colorbar": {
             "outlinewidth": 0,
             "ticks": ""
            },
            "colorscale": [
             [
              0,
              "#0d0887"
             ],
             [
              0.1111111111111111,
              "#46039f"
             ],
             [
              0.2222222222222222,
              "#7201a8"
             ],
             [
              0.3333333333333333,
              "#9c179e"
             ],
             [
              0.4444444444444444,
              "#bd3786"
             ],
             [
              0.5555555555555556,
              "#d8576b"
             ],
             [
              0.6666666666666666,
              "#ed7953"
             ],
             [
              0.7777777777777778,
              "#fb9f3a"
             ],
             [
              0.8888888888888888,
              "#fdca26"
             ],
             [
              1,
              "#f0f921"
             ]
            ],
            "type": "heatmap"
           }
          ],
          "heatmapgl": [
           {
            "colorbar": {
             "outlinewidth": 0,
             "ticks": ""
            },
            "colorscale": [
             [
              0,
              "#0d0887"
             ],
             [
              0.1111111111111111,
              "#46039f"
             ],
             [
              0.2222222222222222,
              "#7201a8"
             ],
             [
              0.3333333333333333,
              "#9c179e"
             ],
             [
              0.4444444444444444,
              "#bd3786"
             ],
             [
              0.5555555555555556,
              "#d8576b"
             ],
             [
              0.6666666666666666,
              "#ed7953"
             ],
             [
              0.7777777777777778,
              "#fb9f3a"
             ],
             [
              0.8888888888888888,
              "#fdca26"
             ],
             [
              1,
              "#f0f921"
             ]
            ],
            "type": "heatmapgl"
           }
          ],
          "histogram": [
           {
            "marker": {
             "pattern": {
              "fillmode": "overlay",
              "size": 10,
              "solidity": 0.2
             }
            },
            "type": "histogram"
           }
          ],
          "histogram2d": [
           {
            "colorbar": {
             "outlinewidth": 0,
             "ticks": ""
            },
            "colorscale": [
             [
              0,
              "#0d0887"
             ],
             [
              0.1111111111111111,
              "#46039f"
             ],
             [
              0.2222222222222222,
              "#7201a8"
             ],
             [
              0.3333333333333333,
              "#9c179e"
             ],
             [
              0.4444444444444444,
              "#bd3786"
             ],
             [
              0.5555555555555556,
              "#d8576b"
             ],
             [
              0.6666666666666666,
              "#ed7953"
             ],
             [
              0.7777777777777778,
              "#fb9f3a"
             ],
             [
              0.8888888888888888,
              "#fdca26"
             ],
             [
              1,
              "#f0f921"
             ]
            ],
            "type": "histogram2d"
           }
          ],
          "histogram2dcontour": [
           {
            "colorbar": {
             "outlinewidth": 0,
             "ticks": ""
            },
            "colorscale": [
             [
              0,
              "#0d0887"
             ],
             [
              0.1111111111111111,
              "#46039f"
             ],
             [
              0.2222222222222222,
              "#7201a8"
             ],
             [
              0.3333333333333333,
              "#9c179e"
             ],
             [
              0.4444444444444444,
              "#bd3786"
             ],
             [
              0.5555555555555556,
              "#d8576b"
             ],
             [
              0.6666666666666666,
              "#ed7953"
             ],
             [
              0.7777777777777778,
              "#fb9f3a"
             ],
             [
              0.8888888888888888,
              "#fdca26"
             ],
             [
              1,
              "#f0f921"
             ]
            ],
            "type": "histogram2dcontour"
           }
          ],
          "mesh3d": [
           {
            "colorbar": {
             "outlinewidth": 0,
             "ticks": ""
            },
            "type": "mesh3d"
           }
          ],
          "parcoords": [
           {
            "line": {
             "colorbar": {
              "outlinewidth": 0,
              "ticks": ""
             }
            },
            "type": "parcoords"
           }
          ],
          "pie": [
           {
            "automargin": true,
            "type": "pie"
           }
          ],
          "scatter": [
           {
            "fillpattern": {
             "fillmode": "overlay",
             "size": 10,
             "solidity": 0.2
            },
            "type": "scatter"
           }
          ],
          "scatter3d": [
           {
            "line": {
             "colorbar": {
              "outlinewidth": 0,
              "ticks": ""
             }
            },
            "marker": {
             "colorbar": {
              "outlinewidth": 0,
              "ticks": ""
             }
            },
            "type": "scatter3d"
           }
          ],
          "scattercarpet": [
           {
            "marker": {
             "colorbar": {
              "outlinewidth": 0,
              "ticks": ""
             }
            },
            "type": "scattercarpet"
           }
          ],
          "scattergeo": [
           {
            "marker": {
             "colorbar": {
              "outlinewidth": 0,
              "ticks": ""
             }
            },
            "type": "scattergeo"
           }
          ],
          "scattergl": [
           {
            "marker": {
             "colorbar": {
              "outlinewidth": 0,
              "ticks": ""
             }
            },
            "type": "scattergl"
           }
          ],
          "scattermapbox": [
           {
            "marker": {
             "colorbar": {
              "outlinewidth": 0,
              "ticks": ""
             }
            },
            "type": "scattermapbox"
           }
          ],
          "scatterpolar": [
           {
            "marker": {
             "colorbar": {
              "outlinewidth": 0,
              "ticks": ""
             }
            },
            "type": "scatterpolar"
           }
          ],
          "scatterpolargl": [
           {
            "marker": {
             "colorbar": {
              "outlinewidth": 0,
              "ticks": ""
             }
            },
            "type": "scatterpolargl"
           }
          ],
          "scatterternary": [
           {
            "marker": {
             "colorbar": {
              "outlinewidth": 0,
              "ticks": ""
             }
            },
            "type": "scatterternary"
           }
          ],
          "surface": [
           {
            "colorbar": {
             "outlinewidth": 0,
             "ticks": ""
            },
            "colorscale": [
             [
              0,
              "#0d0887"
             ],
             [
              0.1111111111111111,
              "#46039f"
             ],
             [
              0.2222222222222222,
              "#7201a8"
             ],
             [
              0.3333333333333333,
              "#9c179e"
             ],
             [
              0.4444444444444444,
              "#bd3786"
             ],
             [
              0.5555555555555556,
              "#d8576b"
             ],
             [
              0.6666666666666666,
              "#ed7953"
             ],
             [
              0.7777777777777778,
              "#fb9f3a"
             ],
             [
              0.8888888888888888,
              "#fdca26"
             ],
             [
              1,
              "#f0f921"
             ]
            ],
            "type": "surface"
           }
          ],
          "table": [
           {
            "cells": {
             "fill": {
              "color": "#EBF0F8"
             },
             "line": {
              "color": "white"
             }
            },
            "header": {
             "fill": {
              "color": "#C8D4E3"
             },
             "line": {
              "color": "white"
             }
            },
            "type": "table"
           }
          ]
         },
         "layout": {
          "annotationdefaults": {
           "arrowcolor": "#2a3f5f",
           "arrowhead": 0,
           "arrowwidth": 1
          },
          "autotypenumbers": "strict",
          "coloraxis": {
           "colorbar": {
            "outlinewidth": 0,
            "ticks": ""
           }
          },
          "colorscale": {
           "diverging": [
            [
             0,
             "#8e0152"
            ],
            [
             0.1,
             "#c51b7d"
            ],
            [
             0.2,
             "#de77ae"
            ],
            [
             0.3,
             "#f1b6da"
            ],
            [
             0.4,
             "#fde0ef"
            ],
            [
             0.5,
             "#f7f7f7"
            ],
            [
             0.6,
             "#e6f5d0"
            ],
            [
             0.7,
             "#b8e186"
            ],
            [
             0.8,
             "#7fbc41"
            ],
            [
             0.9,
             "#4d9221"
            ],
            [
             1,
             "#276419"
            ]
           ],
           "sequential": [
            [
             0,
             "#0d0887"
            ],
            [
             0.1111111111111111,
             "#46039f"
            ],
            [
             0.2222222222222222,
             "#7201a8"
            ],
            [
             0.3333333333333333,
             "#9c179e"
            ],
            [
             0.4444444444444444,
             "#bd3786"
            ],
            [
             0.5555555555555556,
             "#d8576b"
            ],
            [
             0.6666666666666666,
             "#ed7953"
            ],
            [
             0.7777777777777778,
             "#fb9f3a"
            ],
            [
             0.8888888888888888,
             "#fdca26"
            ],
            [
             1,
             "#f0f921"
            ]
           ],
           "sequentialminus": [
            [
             0,
             "#0d0887"
            ],
            [
             0.1111111111111111,
             "#46039f"
            ],
            [
             0.2222222222222222,
             "#7201a8"
            ],
            [
             0.3333333333333333,
             "#9c179e"
            ],
            [
             0.4444444444444444,
             "#bd3786"
            ],
            [
             0.5555555555555556,
             "#d8576b"
            ],
            [
             0.6666666666666666,
             "#ed7953"
            ],
            [
             0.7777777777777778,
             "#fb9f3a"
            ],
            [
             0.8888888888888888,
             "#fdca26"
            ],
            [
             1,
             "#f0f921"
            ]
           ]
          },
          "colorway": [
           "#636efa",
           "#EF553B",
           "#00cc96",
           "#ab63fa",
           "#FFA15A",
           "#19d3f3",
           "#FF6692",
           "#B6E880",
           "#FF97FF",
           "#FECB52"
          ],
          "font": {
           "color": "#2a3f5f"
          },
          "geo": {
           "bgcolor": "white",
           "lakecolor": "white",
           "landcolor": "#E5ECF6",
           "showlakes": true,
           "showland": true,
           "subunitcolor": "white"
          },
          "hoverlabel": {
           "align": "left"
          },
          "hovermode": "closest",
          "mapbox": {
           "style": "light"
          },
          "paper_bgcolor": "white",
          "plot_bgcolor": "#E5ECF6",
          "polar": {
           "angularaxis": {
            "gridcolor": "white",
            "linecolor": "white",
            "ticks": ""
           },
           "bgcolor": "#E5ECF6",
           "radialaxis": {
            "gridcolor": "white",
            "linecolor": "white",
            "ticks": ""
           }
          },
          "scene": {
           "xaxis": {
            "backgroundcolor": "#E5ECF6",
            "gridcolor": "white",
            "gridwidth": 2,
            "linecolor": "white",
            "showbackground": true,
            "ticks": "",
            "zerolinecolor": "white"
           },
           "yaxis": {
            "backgroundcolor": "#E5ECF6",
            "gridcolor": "white",
            "gridwidth": 2,
            "linecolor": "white",
            "showbackground": true,
            "ticks": "",
            "zerolinecolor": "white"
           },
           "zaxis": {
            "backgroundcolor": "#E5ECF6",
            "gridcolor": "white",
            "gridwidth": 2,
            "linecolor": "white",
            "showbackground": true,
            "ticks": "",
            "zerolinecolor": "white"
           }
          },
          "shapedefaults": {
           "line": {
            "color": "#2a3f5f"
           }
          },
          "ternary": {
           "aaxis": {
            "gridcolor": "white",
            "linecolor": "white",
            "ticks": ""
           },
           "baxis": {
            "gridcolor": "white",
            "linecolor": "white",
            "ticks": ""
           },
           "bgcolor": "#E5ECF6",
           "caxis": {
            "gridcolor": "white",
            "linecolor": "white",
            "ticks": ""
           }
          },
          "title": {
           "x": 0.05
          },
          "xaxis": {
           "automargin": true,
           "gridcolor": "white",
           "linecolor": "white",
           "ticks": "",
           "title": {
            "standoff": 15
           },
           "zerolinecolor": "white",
           "zerolinewidth": 2
          },
          "yaxis": {
           "automargin": true,
           "gridcolor": "white",
           "linecolor": "white",
           "ticks": "",
           "title": {
            "standoff": 15
           },
           "zerolinecolor": "white",
           "zerolinewidth": 2
          }
         }
        },
        "title": {
         "text": "Clustering de intentos"
        }
       }
      }
     },
     "metadata": {},
     "output_type": "display_data"
    }
   ],
   "source": [
    "from sklearn.cluster import SpectralClustering\n",
    "\n",
    "# Eliminamos la columna de 'genero' antes de crear la matriz de características\n",
    "intentos_mat = df.drop(['G03Q02', 'token'], axis=1).values\n",
    "\n",
    "# Definimos el modelo\n",
    "model = SpectralClustering(n_components=None, random_state=SEED_VALUE)\n",
    "\n",
    "# Axustamos el modelo aos datos\n",
    "agrupamiento = model.fit_predict(intentos_mat)\n",
    "\n",
    "# Creamos un diccionario que asigne un color aleatorio a cada cluster\n",
    "colores = {}\n",
    "for cluster in set(agrupamiento):\n",
    "    colores[cluster] = f'rgb({np.random.randint(0, 256)}, {np.random.randint(0, 256)}, {np.random.randint(0, 256)})'\n",
    "\n",
    "# Creamos la figura\n",
    "fig = go.Figure(data=[go.Scatter3d(x=df['G03Q01'], y=df['genero_num'], z=df['intentos'], mode='markers', \n",
    "                                   marker=dict(size=3, color=[colores[cluster] for cluster in agrupamiento], \n",
    "                                               opacity=0.8))])\n",
    "\n",
    "# Agregamos la barra de colores\n",
    "fig.update_layout(title='Clustering de intentos',\n",
    "                  scene=dict(xaxis_title='Edad', yaxis_title='Genero', zaxis_title='Intentos'),\n",
    "                  coloraxis=dict(colorbar=dict(title='Cluster')))\n",
    "\n",
    "# Mostramos la figura\n",
    "fig.show()\n"
   ]
  },
  {
   "cell_type": "code",
   "execution_count": 48,
   "metadata": {},
   "outputs": [
    {
     "name": "stderr",
     "output_type": "stream",
     "text": [
      "C:\\Users\\david\\AppData\\Local\\Temp\\ipykernel_25380\\2127888770.py:1: SettingWithCopyWarning:\n",
      "\n",
      "\n",
      "A value is trying to be set on a copy of a slice from a DataFrame.\n",
      "Try using .loc[row_indexer,col_indexer] = value instead\n",
      "\n",
      "See the caveats in the documentation: https://pandas.pydata.org/pandas-docs/stable/user_guide/indexing.html#returning-a-view-versus-a-copy\n",
      "\n"
     ]
    },
    {
     "data": {
      "text/html": [
       "<div>\n",
       "<style scoped>\n",
       "    .dataframe tbody tr th:only-of-type {\n",
       "        vertical-align: middle;\n",
       "    }\n",
       "\n",
       "    .dataframe tbody tr th {\n",
       "        vertical-align: top;\n",
       "    }\n",
       "\n",
       "    .dataframe thead th {\n",
       "        text-align: right;\n",
       "    }\n",
       "</style>\n",
       "<table border=\"1\" class=\"dataframe\">\n",
       "  <thead>\n",
       "    <tr style=\"text-align: right;\">\n",
       "      <th></th>\n",
       "      <th>token</th>\n",
       "      <th>intentos</th>\n",
       "      <th>G03Q01</th>\n",
       "      <th>G03Q02</th>\n",
       "      <th>genero_num</th>\n",
       "      <th>cluster</th>\n",
       "    </tr>\n",
       "  </thead>\n",
       "  <tbody>\n",
       "    <tr>\n",
       "      <th>0</th>\n",
       "      <td>accul</td>\n",
       "      <td>3.650000</td>\n",
       "      <td>14</td>\n",
       "      <td>Masculino</td>\n",
       "      <td>0</td>\n",
       "      <td>1</td>\n",
       "    </tr>\n",
       "    <tr>\n",
       "      <th>1</th>\n",
       "      <td>ahxym</td>\n",
       "      <td>2.875000</td>\n",
       "      <td>14</td>\n",
       "      <td>Otro</td>\n",
       "      <td>2</td>\n",
       "      <td>-1</td>\n",
       "    </tr>\n",
       "    <tr>\n",
       "      <th>2</th>\n",
       "      <td>aotlm</td>\n",
       "      <td>2.250000</td>\n",
       "      <td>15</td>\n",
       "      <td>Masculino</td>\n",
       "      <td>0</td>\n",
       "      <td>0</td>\n",
       "    </tr>\n",
       "    <tr>\n",
       "      <th>3</th>\n",
       "      <td>asopk</td>\n",
       "      <td>1.885714</td>\n",
       "      <td>14</td>\n",
       "      <td>Masculino</td>\n",
       "      <td>0</td>\n",
       "      <td>1</td>\n",
       "    </tr>\n",
       "    <tr>\n",
       "      <th>4</th>\n",
       "      <td>atlzs</td>\n",
       "      <td>2.423077</td>\n",
       "      <td>14</td>\n",
       "      <td>Femenino</td>\n",
       "      <td>1</td>\n",
       "      <td>2</td>\n",
       "    </tr>\n",
       "    <tr>\n",
       "      <th>...</th>\n",
       "      <td>...</td>\n",
       "      <td>...</td>\n",
       "      <td>...</td>\n",
       "      <td>...</td>\n",
       "      <td>...</td>\n",
       "      <td>...</td>\n",
       "    </tr>\n",
       "    <tr>\n",
       "      <th>139</th>\n",
       "      <td>zbgwk</td>\n",
       "      <td>4.933333</td>\n",
       "      <td>15</td>\n",
       "      <td>Otro</td>\n",
       "      <td>2</td>\n",
       "      <td>-1</td>\n",
       "    </tr>\n",
       "    <tr>\n",
       "      <th>140</th>\n",
       "      <td>zcibf</td>\n",
       "      <td>1.695652</td>\n",
       "      <td>13</td>\n",
       "      <td>Femenino</td>\n",
       "      <td>1</td>\n",
       "      <td>5</td>\n",
       "    </tr>\n",
       "    <tr>\n",
       "      <th>141</th>\n",
       "      <td>zdnso</td>\n",
       "      <td>1.925926</td>\n",
       "      <td>15</td>\n",
       "      <td>Femenino</td>\n",
       "      <td>1</td>\n",
       "      <td>6</td>\n",
       "    </tr>\n",
       "    <tr>\n",
       "      <th>143</th>\n",
       "      <td>zwzfv</td>\n",
       "      <td>3.043478</td>\n",
       "      <td>14</td>\n",
       "      <td>Masculino</td>\n",
       "      <td>0</td>\n",
       "      <td>1</td>\n",
       "    </tr>\n",
       "    <tr>\n",
       "      <th>144</th>\n",
       "      <td>zxvkj</td>\n",
       "      <td>2.000000</td>\n",
       "      <td>14</td>\n",
       "      <td>Femenino</td>\n",
       "      <td>1</td>\n",
       "      <td>2</td>\n",
       "    </tr>\n",
       "  </tbody>\n",
       "</table>\n",
       "<p>133 rows × 6 columns</p>\n",
       "</div>"
      ],
      "text/plain": [
       "     token  intentos  G03Q01     G03Q02  genero_num  cluster\n",
       "0    accul  3.650000      14  Masculino           0        1\n",
       "1    ahxym  2.875000      14       Otro           2       -1\n",
       "2    aotlm  2.250000      15  Masculino           0        0\n",
       "3    asopk  1.885714      14  Masculino           0        1\n",
       "4    atlzs  2.423077      14   Femenino           1        2\n",
       "..     ...       ...     ...        ...         ...      ...\n",
       "139  zbgwk  4.933333      15       Otro           2       -1\n",
       "140  zcibf  1.695652      13   Femenino           1        5\n",
       "141  zdnso  1.925926      15   Femenino           1        6\n",
       "143  zwzfv  3.043478      14  Masculino           0        1\n",
       "144  zxvkj  2.000000      14   Femenino           1        2\n",
       "\n",
       "[133 rows x 6 columns]"
      ]
     },
     "execution_count": 48,
     "metadata": {},
     "output_type": "execute_result"
    }
   ],
   "source": [
    "df['cluster'] = agrupamento.labels_\n",
    "df"
   ]
  },
  {
   "attachments": {},
   "cell_type": "markdown",
   "metadata": {},
   "source": [
    "# Anteriores"
   ]
  },
  {
   "cell_type": "code",
   "execution_count": 49,
   "metadata": {},
   "outputs": [
    {
     "ename": "NameError",
     "evalue": "name 'data_filtrado' is not defined",
     "output_type": "error",
     "traceback": [
      "\u001b[1;31m---------------------------------------------------------------------------\u001b[0m",
      "\u001b[1;31mNameError\u001b[0m                                 Traceback (most recent call last)",
      "Cell \u001b[1;32mIn[49], line 9\u001b[0m\n\u001b[0;32m      6\u001b[0m intentos_jugador_nivel \u001b[39m=\u001b[39m intentos_df_long\u001b[39m.\u001b[39mgroupby([\u001b[39m'\u001b[39m\u001b[39mJugador\u001b[39m\u001b[39m'\u001b[39m, \u001b[39m'\u001b[39m\u001b[39mNivel\u001b[39m\u001b[39m'\u001b[39m])[\u001b[39m'\u001b[39m\u001b[39mIntentos\u001b[39m\u001b[39m'\u001b[39m]\u001b[39m.\u001b[39mmean()\u001b[39m.\u001b[39munstack()\n\u001b[0;32m      8\u001b[0m \u001b[39m# Unir la tabla de intentos de cada jugador con los datos originales\u001b[39;00m\n\u001b[1;32m----> 9\u001b[0m df \u001b[39m=\u001b[39m data_filtrado\u001b[39m.\u001b[39mmerge(intentos_jugador_nivel, left_on\u001b[39m=\u001b[39m\u001b[39m'\u001b[39m\u001b[39mtoken\u001b[39m\u001b[39m'\u001b[39m, right_index\u001b[39m=\u001b[39m\u001b[39mTrue\u001b[39;00m)\n\u001b[0;32m     11\u001b[0m \u001b[39m# Seleccionar las variables a utilizar para el clustering\u001b[39;00m\n\u001b[0;32m     12\u001b[0m X \u001b[39m=\u001b[39m df\u001b[39m.\u001b[39miloc[:, \u001b[39m3\u001b[39m:] \u001b[39m# Seleccionar las columnas correspondientes a los niveles\u001b[39;00m\n",
      "\u001b[1;31mNameError\u001b[0m: name 'data_filtrado' is not defined"
     ]
    }
   ],
   "source": [
    "\n",
    "\n",
    "# Pivotear el DataFrame para tener un formato largo\n",
    "intentos_df_long = pd.melt(intentosJugadores.reset_index(), id_vars=['index'], var_name='Jugador', value_name='Intentos')\n",
    "intentos_df_long.columns = ['Nivel', 'Jugador', 'Intentos']\n",
    "\n",
    "# Agrupar los intentos de cada jugador por nivel y tomar la media\n",
    "intentos_jugador_nivel = intentos_df_long.groupby(['Jugador', 'Nivel'])['Intentos'].mean().unstack()\n",
    "\n",
    "# Unir la tabla de intentos de cada jugador con los datos originales\n",
    "df = data_filtrado.merge(intentos_jugador_nivel, left_on='token', right_index=True)\n",
    "\n",
    "# Seleccionar las variables a utilizar para el clustering\n",
    "X = df.iloc[:, 3:] # Seleccionar las columnas correspondientes a los niveles\n",
    "\n",
    "# Imputar los valores faltantes\n",
    "imputer = SimpleImputer(strategy='median')\n",
    "X_imputed = imputer.fit_transform(X)\n",
    "\n",
    "# Normalizar las variables utilizando StandardScaler\n",
    "scaler = StandardScaler()\n",
    "X_norm = scaler.fit_transform(X_imputed)\n",
    "\n",
    "# Definir el número de clusters y entrenar el modelo de K-means\n",
    "num_clusters = 4\n",
    "kmeans = KMeans(n_clusters=num_clusters, random_state=0).fit(X_norm)\n",
    "\n",
    "# Asignar a cada jugador el cluster correspondiente\n",
    "clusters = kmeans.labels_\n",
    "df['Cluster'] = clusters\n",
    "\n",
    "# Calcular la media de los números de intentos en cada cluster\n",
    "means = df.groupby(['G03Q02', 'G03Q01', 'Cluster'])[X.columns].mean()\n",
    "\n",
    "# Mostrar los resultados\n",
    "print(means) #Dar a abrir en un editor de texto para ver mejor la tabla\n",
    "#intentosJugadores\n"
   ]
  },
  {
   "cell_type": "code",
   "execution_count": null,
   "metadata": {},
   "outputs": [],
   "source": [
    "tiemposJugadores = pd.DataFrame(tiemposMedios[\"tiemposIndividuales\"])\n",
    "\n",
    "# Aplicar la función int() solamente a los valores que no son NaN en el DataFrame\n",
    "tiemposJugadores = tiemposJugadores.applymap(lambda x: int(x) if x == x else x)\n",
    "\n",
    "# Pivotear el DataFrame para tener un formato largo\n",
    "tiempos_df_long = pd.melt(tiemposJugadores.reset_index(), id_vars=['index'], var_name='Jugador', value_name='Intentos')\n",
    "tiempos_df_long.columns = ['Nivel', 'Jugador', 'Intentos']\n",
    "\n",
    "# Agrupar los intentos de cada jugador por nivel y tomar la media\n",
    "tiempos_jugador_nivel = tiempos_df_long.groupby(['Jugador', 'Nivel'])['Intentos'].mean().unstack()\n",
    "\n",
    "# Unir la tabla de intentos de cada jugador con los datos originales\n",
    "df = data_filtrado.merge(tiempos_jugador_nivel, left_on='token', right_index=True)\n",
    "\n",
    "# Seleccionar las variables a utilizar para el clustering\n",
    "X = df.iloc[:, 3:] # Seleccionar las columnas correspondientes a los niveles\n",
    "\n",
    "# Imputar los valores faltantes\n",
    "imputer = SimpleImputer(strategy='median')\n",
    "X_imputed = imputer.fit_transform(X)\n",
    "\n",
    "# Normalizar las variables utilizando StandardScaler\n",
    "scaler = StandardScaler()\n",
    "X_norm = scaler.fit_transform(X_imputed)\n",
    "\n",
    "# Definir el número de clusters y entrenar el modelo de K-means\n",
    "num_clusters = 4\n",
    "kmeans = KMeans(n_clusters=num_clusters, random_state=0).fit(X_norm)\n",
    "\n",
    "# Asignar a cada jugador el cluster correspondiente\n",
    "clusters = kmeans.labels_\n",
    "df['Cluster'] = clusters\n",
    "\n",
    "# Calcular la media de los números de intentos en cada cluster\n",
    "means = df.groupby(['G03Q02', 'G03Q01', 'Cluster'])[X.columns].mean()\n",
    "\n",
    "# Mostrar los resultados\n",
    "print(means)\n",
    "# tiemposJugadores\n"
   ]
  },
  {
   "cell_type": "code",
   "execution_count": null,
   "metadata": {},
   "outputs": [],
   "source": [
    "media_intentos = df.groupby(['G03Q02', 'G03Q01', 'Cluster'])[X.columns].mean().reset_index()\n",
    "media_intentos = pd.melt(media_intentos, id_vars=['G03Q02', 'G03Q01', 'Cluster'], var_name='Nivel', value_name='Intentos')\n",
    "\n",
    "import seaborn as sns\n",
    "import matplotlib.pyplot as plt\n",
    "\n",
    "# Crear una figura para cada nivel\n",
    "for nivel in intentos_df_long['Nivel'].unique():\n",
    "    # Seleccionar los datos del nivel y generar una tabla pivote con los valores medios de intentos por género\n",
    "    df_nivel = media_intentos[media_intentos['Nivel'] == nivel]\n",
    "    pivot_table = pd.pivot_table(df_nivel, values='Intentos', index=['G03Q01'], columns=['Cluster'], aggfunc=np.mean)\n",
    "    \n",
    "    # Crear un gráfico de barras apiladas para comparar los valores medios de intentos por género en cada cluster\n",
    "    sns.catplot(x='G03Q01', y='Intentos', hue='Cluster', data=df_nivel, kind='bar', ci=None, legend_out=False)\n",
    "    plt.title(f'Nivel {nivel}')\n",
    "    plt.show()\n"
   ]
  }
 ],
 "metadata": {
  "kernelspec": {
   "display_name": "Python 3",
   "language": "python",
   "name": "python3"
  },
  "language_info": {
   "codemirror_mode": {
    "name": "ipython",
    "version": 3
   },
   "file_extension": ".py",
   "mimetype": "text/x-python",
   "name": "python",
   "nbconvert_exporter": "python",
   "pygments_lexer": "ipython3",
   "version": "3.11.0"
  },
  "orig_nbformat": 4,
  "vscode": {
   "interpreter": {
    "hash": "2df53de82fe139b23b9a340061c8527273b7fa86551030a1983ff618b17018eb"
   }
  }
 },
 "nbformat": 4,
 "nbformat_minor": 2
}
