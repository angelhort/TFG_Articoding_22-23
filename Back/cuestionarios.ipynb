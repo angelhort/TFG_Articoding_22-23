{
 "cells": [
  {
   "attachments": {},
   "cell_type": "markdown",
   "metadata": {},
   "source": [
    "# Librerias"
   ]
  },
  {
   "cell_type": "code",
   "execution_count": 1,
   "metadata": {},
   "outputs": [],
   "source": [
    "import pandas as pd\n",
    "import numpy as np\n",
    "from sklearn.cluster import KMeans\n",
    "from sklearn.preprocessing import StandardScaler\n",
    "from sklearn.impute import SimpleImputer\n",
    "import plotly.graph_objs as go\n",
    "from collections import defaultdict\n",
    "import statistics\n",
    "import json\n",
    "import re\n",
    "import matplotlib.pyplot as plt\n",
    "from datetime import timedelta\n",
    "import plotly.express as px\n",
    "from sklearn.preprocessing import OneHotEncoder\n",
    "pd.set_option('display.max_rows', None)\n",
    "pd.set_option('display.max_columns', None)\n",
    "import xml.etree.ElementTree as ET\n"
   ]
  },
  {
   "attachments": {},
   "cell_type": "markdown",
   "metadata": {},
   "source": [
    "# Codigo de main"
   ]
  },
  {
   "cell_type": "code",
   "execution_count": 2,
   "metadata": {},
   "outputs": [],
   "source": [
    "import re\n",
    "import datetime, time\n",
    "\n",
    "#Esta clase sirve para parsear timestamps, recibe 2 y hace la diferencia\n",
    "class Tiempo:\n",
    "    def __init__ (self, inicio, final = -1, seconds = -1): #Necesario para tener 2 constructores\n",
    "        self.positivo = True;\n",
    "        if final == -1: #Primer constructor (1 argumento)\n",
    "\n",
    "            self.hours = 0\n",
    "            self.minutes = 0\n",
    "            self.seconds = 0\n",
    "\n",
    "            erHours = re.compile(r'\\d*h')\n",
    "            erMinutes = re.compile(r'\\d*m')\n",
    "            erSeconds = re.compile(r'\\d*s')\n",
    "            h = erHours.search(inicio)\n",
    "            m = erMinutes.search(inicio)\n",
    "            s = erSeconds.search(inicio)\n",
    "\n",
    "            if h != None:\n",
    "                self.hours = h[0][:-1]\n",
    "            if m != None:\n",
    "                self.minutes = m[0][:-1]\n",
    "            if s != None:\n",
    "                self.seconds = s[0][:-1]\n",
    "                \n",
    "            self.hours = int(self.hours)\n",
    "            self.minutes = int(self.minutes)\n",
    "            self.seconds = int(self.seconds)\n",
    "                \n",
    "            if self.seconds >= 60:\n",
    "                self.minutes += int(self.seconds/60)\n",
    "                self.seconds = self.seconds%60\n",
    "            if self.minutes >= 60:\n",
    "                self.hours += int(self.minutes/60)\n",
    "                self.minutes = self.minutes%60\n",
    "            \n",
    "        elif seconds == -1: #Segundo constructor (2 aregumentos)\n",
    "            self.hours = 0\n",
    "            self.minutes = 0\n",
    "            self.seconds = 0\n",
    "\n",
    "            fin = time.mktime(datetime.datetime.strptime(final, \"%Y-%m-%dT%H:%M:%S.%fZ\").timetuple())\n",
    "            ini = time.mktime(datetime.datetime.strptime(inicio, \"%Y-%m-%dT%H:%M:%S.%fZ\").timetuple())\n",
    "\n",
    "            hoursRaw = int((fin - ini)/3600)\n",
    "            minutesRaw = int((fin - ini)/60)\n",
    "            secondsRaw = int(fin - ini)\n",
    "\n",
    "            if hoursRaw != 0:\n",
    "                self.hours = hoursRaw\n",
    "                minutesRaw = int(((fin - ini)%3600)/60)\n",
    "            if minutesRaw != 0:\n",
    "                self.minutes = minutesRaw\n",
    "                secondsRaw = int((fin - ini)%60)\n",
    "            self.seconds = secondsRaw\n",
    "            \n",
    "        else: #Tercer constructor (3 argumentos)\n",
    "            self.hours = inicio\n",
    "            self.minutes = final\n",
    "            self.seconds = seconds\n",
    "            \n",
    "        self.hours = int(self.hours)\n",
    "        self.minutes = int(self.minutes)\n",
    "        self.seconds = int(self.seconds)\n",
    "            \n",
    "    def toString(self):\n",
    "        return self.__repr__()\n",
    "    \n",
    "    def __int__ (self):\n",
    "        return self.hours*3600 + self.minutes*60 + self.seconds\n",
    "\n",
    "    def __repr__(self):\n",
    "        t=\"\"\n",
    "        if self.hours !=0:\n",
    "            t += str(self.hours) + \"h/\"\n",
    "        if self.minutes !=0:\n",
    "            t += str(self.minutes) + \"m/\"\n",
    "        if self.seconds !=0:\n",
    "            t += str(self.seconds) + \"s\"\n",
    "        else:\n",
    "            t = t[:-1]\n",
    "        if self.hours == 0 and self.minutes == 0 and self.seconds == 0:\n",
    "            return \"0s\"\n",
    "        return t\n",
    "    \n",
    "    def __add__(self, t): #Sobrecarga del operador +\n",
    "        s = self.seconds + t.seconds\n",
    "        m = int(self.minutes) + t.minutes\n",
    "        h = self.hours + t.hours\n",
    "        \n",
    "        if s >= 60:\n",
    "            s -= 60\n",
    "            m += 1\n",
    "        if m >= 60:\n",
    "            m -= 60\n",
    "            h += 1\n",
    "            \n",
    "        return Tiempo(h,m,s)\n",
    "        \n",
    "    \n",
    "    def __sub__(self, t):\n",
    "        sSelf = self.hours*3600 + self.minutes*60 + self.seconds\n",
    "        sT = t.hours*3600 + t.minutes*60 + t.seconds\n",
    "        \n",
    "        return Tiempo(str(sSelf-sT) + \"s\")\n",
    "    \n",
    "    def __mul__(self, n): #Sobrecarga del operador *\n",
    "        s = self.seconds * n\n",
    "        m = self.minutes * n\n",
    "        h = self.hours * n\n",
    "        \n",
    "        m += (h - int(h))*60\n",
    "        s += (m - int(m))*60\n",
    "        \n",
    "        if s >= 60:\n",
    "            m += int(s/60)\n",
    "            s = s%60\n",
    "        if m >= 60:\n",
    "            h += int(m/60)\n",
    "            m = m%60\n",
    "        \n",
    "        return Tiempo(h,m,s)\n",
    "    \n",
    "    def __truediv__(self, n): #Sobrecarga del operador /\n",
    "        selfS = self.seconds\n",
    "        selfM = self.minutes\n",
    "        selfH = self.hours\n",
    "        \n",
    "        h = int(selfH/n)\n",
    "        selfM += (selfH%n)*60\n",
    "        m = int(selfM/n)\n",
    "        selfS += (selfM%n)*60\n",
    "        s = int(selfS/n)\n",
    "        \n",
    "        if s >= 60:\n",
    "            m += int(s/60)\n",
    "            s = s%60\n",
    "        if m >= 60:\n",
    "            h += int(m/60)\n",
    "            m = m%60\n",
    "        return Tiempo(int(h),int(m),int(s))\n",
    "    \n",
    "    def __abs__(self):\n",
    "        return Tiempo(abs(self.hours), abs(self.minutes), abs(self.seconds))\n",
    "    \n",
    "    def __le__(self, t):   #Sobrecarga del operado <=  \n",
    "        sSelf = self.hours*3600 + self.minutes*60 + self.seconds\n",
    "        if type(t) == Tiempo:\n",
    "            sT = t.hours*3600 + t.minutes*60 + t.seconds\n",
    "        else:\n",
    "            sT = t       \n",
    "        return sSelf <= sT\n",
    "    \n",
    "    def __ge__(self, t):  #Sobrecarga del operado >=\n",
    "        sSelf = self.hours*3600 + self.minutes*60 + self.seconds\n",
    "        if type(t) == Tiempo:\n",
    "            sT = t.hours*3600 + t.minutes*60 + t.seconds\n",
    "        else:\n",
    "            sT = t      \n",
    "        return sSelf >= sT\n",
    "    \n",
    "    def __lt__(self, t):     #Sobrecarga del operado <\n",
    "        sSelf = self.hours*3600 + self.minutes*60 + self.seconds\n",
    "        if type(t) == Tiempo:\n",
    "            sT = t.hours*3600 + t.minutes*60 + t.seconds\n",
    "        else:\n",
    "            sT = t        \n",
    "        return sSelf < sT\n",
    "    \n",
    "    def __gt__(self, t):   #Sobrecarga del operado >\n",
    "        sSelf = self.hours*3600 + self.minutes*60 + self.seconds\n",
    "        if type(t) == Tiempo:\n",
    "            sT = t.hours*3600 + t.minutes*60 + t.seconds\n",
    "        else:\n",
    "            sT = t\n",
    "        return sSelf > sT\n",
    "    \n",
    "    def total_seconds(self):\n",
    "        return self.hours * 3600 + self.minutes * 60 + self.seconds\n"
   ]
  },
  {
   "cell_type": "code",
   "execution_count": 5,
   "metadata": {},
   "outputs": [],
   "source": [
    "#TAMBIEN DEVUELVE LOS INTENTOS INDIVIDUALES DE CADA JUGADOR PARA COMPLETAR CADA NIVEL\n",
    "def getIntentosMedios_HastaCompletarNivel(intentosNecesarios, intentosOrdenados = False):\n",
    "    intentosMedios = defaultdict(list)\n",
    "    intentosCompletarNivelIndividual = defaultdict(defaultdict)\n",
    "    \n",
    "    for name in intentosNecesarios:\n",
    "        for level in intentosNecesarios[name]:\n",
    "            cont = 0\n",
    "            for i in intentosNecesarios[name][level]:\n",
    "                cont += i[\"intentos\"]\n",
    "                if i[\"success\"] == True:\n",
    "                    intentosMedios[level].append(cont)\n",
    "                    intentosCompletarNivelIndividual[name][level] = cont\n",
    "                    break\n",
    "            \n",
    "    for level in intentosMedios:\n",
    "        intentosMedios[level] = round(statistics.mean(intentosMedios[level]), 2)\n",
    "    \n",
    "    if intentosOrdenados:\n",
    "        intentosMedios = sorted(intentosMedios.items(), key=lambda x: x[1])\n",
    "    else:\n",
    "        intentosMedios = list(intentosMedios.items())\n",
    "    return {\"intentosMedios\" : intentosMedios, \"intentosIndividual\" : intentosCompletarNivelIndividual}\n",
    "\n",
    "def extraerTiemposPorNivelJugador(rawData):\n",
    "    \n",
    "    tiempos = defaultdict(defaultdict)\n",
    "    intentosNecesarios = defaultdict(defaultdict)\n",
    "    inicioYFinJuego = defaultdict()\n",
    "    errores = defaultdict(list)\n",
    "    codJugadores = defaultdict()\n",
    "    codUltNivel = defaultdict()\n",
    "\n",
    "    error1 = \"No necesario crear variable\"\n",
    "    error2 = \"Asignacion mismo valor en variable\"\n",
    "    error3 = \"Entero o texto utilizado 2 veces\"\n",
    "\n",
    "    nivelesError1Excepcion = ['variables_2', 'variables_3', 'variables_4', 'variables_6', 'variables_8', 'variables_10', 'types_2', 'basic_operators_1', 'basic_operators_3', 'basic_operators_6']\n",
    "    nivelesError3Excepcion = ['tutorials_1', 'tutorials_2', 'tutorials_3', 'tutorials_4', 'tutorials_5', 'tutorials_6', 'tutorials_7', 'tutorials_8', 'tutorials_9']\n",
    "\n",
    "    erLevel = re.compile(r'\\blevel$\\b')\n",
    "    erIdLevel = re.compile(r'/')\n",
    "    \n",
    "    erInitialized = re.compile(r'\\binitialized$\\b')\n",
    "    erCompleted = re.compile(r'\\bcompleted$\\b')\n",
    "    erAccessed = re.compile(r'\\baccessed$\\b')\n",
    "    erProgressed = re.compile(r'\\bprogressed$\\b')\n",
    "\n",
    "    erSeriousGame = re.compile(r'\\bserious-game$\\b')  \n",
    "    erCategoryMain = re.compile(r'\\bcategories_main$\\b')  \n",
    "    \n",
    "    for evento in rawData:\n",
    "        verb = evento[\"verb\"][\"id\"]\n",
    "        obj = evento[\"object\"][\"definition\"][\"type\"]\n",
    "        name = evento[\"actor\"][\"name\"]\n",
    "        timestamp = evento[\"timestamp\"]\n",
    "        objectId = evento[\"object\"][\"id\"]\n",
    "       \n",
    "        if erLevel.search(obj): #Si el objeto de la acción es un nivel\n",
    "            levelCode = erIdLevel.split(objectId)[-1]\n",
    "            if levelCode != \"editor_level\":\n",
    "                if erInitialized.search(verb): #Si la acción es inicio o reinicio\n",
    "                    if \"result\" in evento: #Significa que ha iniciado el nivel desde el menu\n",
    "                        if levelCode in tiempos[name]:\n",
    "                            intentosNecesarios[name][levelCode].append({\"intentos\" : 1, \"success\" : False})\n",
    "                            tiempos[name][levelCode].append({\"ini\" : timestamp, \"fin\" : None, \"stars\" : \"\"})\n",
    "                        else:\n",
    "                            intentosNecesarios[name][levelCode] = [{\"intentos\" : 1, \"success\" : False}]\n",
    "                            tiempos[name][levelCode] = [{\"ini\" : timestamp, \"fin\" : None, \"stars\" : \"\"}]\n",
    "                    else:\n",
    "                        intentosNecesarios[name][levelCode][-1][\"intentos\"] += 1\n",
    "\n",
    "                elif erProgressed.search(verb):\n",
    "                    cod = ET.fromstring(evento['result']['extensions']['code'])\n",
    "                    codJugadores[name] = cod\n",
    "                    codUltNivel[name] = levelCode\n",
    "\n",
    "                elif erCompleted.search(verb):\n",
    "                    if evento[\"result\"][\"score\"][\"raw\"] > 0 :\n",
    "                        if levelCode in tiempos[name]:\n",
    "                            intentosNecesarios[name][levelCode][-1][\"success\"] = True\n",
    "                            tiempos[name][levelCode][-1][\"fin\"] = timestamp\n",
    "                            tiempos[name][levelCode][-1][\"stars\"] = evento[\"result\"][\"score\"][\"raw\"]\n",
    "\n",
    "                        if codUltNivel[name] == levelCode: \n",
    "                            try:\n",
    "                                cod = codJugadores[name]\n",
    "                            except:\n",
    "                                print(evento)\n",
    "                                print(timestamp)\n",
    "                                return\n",
    "                            vars = defaultdict()\n",
    "                            values = []\n",
    "\n",
    "                            for v in cod.find('variables'):\n",
    "                                vars[v.text] = {\"valores\" : [], \"usado\" : 0}\n",
    "\n",
    "                            for b in cod.find(\"block[@type='start_start']\").iter('block'):\n",
    "                                tarjeta = b.attrib['type']\n",
    "\n",
    "                                if tarjeta == \"text\" or tarjeta == \"math_number\":\n",
    "                                    valor = b.find('field').text\n",
    "                                    if valor in values and levelCode not in nivelesError3Excepcion:\n",
    "                                        errores[name].append({'error' : error3, 'level' : levelCode})\n",
    "                                    else:\n",
    "                                        values.append(valor)\n",
    "\n",
    "                                elif tarjeta == \"variables_set\":\n",
    "                                    varName = b.find('field').text\n",
    "                                    try:\n",
    "                                        varValue = b.find('value').find('block').find('field').text\n",
    "                                    except:\n",
    "                                        #print(ET.tostring(cod, encoding='utf8', method='xml'))\n",
    "                                        #print(ET.tostring(b, encoding='utf8', method='xml'))\n",
    "                                        None                                \n",
    "\n",
    "                                    if vars[varName]['valores'] and vars[varName]['usado'] < 2 and levelCode not in nivelesError1Excepcion:\n",
    "                                        errores[name].append({'error' : error1 + \" \" + varName, 'level' : levelCode})\n",
    "\n",
    "                                    if varValue in vars[varName]['valores']:\n",
    "                                        errores[name].append({'error' : error2 + \" \" + varName, 'level' : levelCode})\n",
    "                                    else:\n",
    "                                        vars[varName]['valores'].append(varValue)\n",
    "\n",
    "                                    vars[varName]['usado'] = 0\n",
    "\n",
    "                                elif tarjeta == \"variables_get\":\n",
    "                                    varName = b.find('field').text\n",
    "                                    vars[varName][\"usado\"] += 1\n",
    "\n",
    "                            for v in vars:\n",
    "                                if vars[v]['usado'] < 2 and levelCode not in nivelesError1Excepcion:\n",
    "                                    errores[name].append({'error' : error1 + \" \" + v, 'level' : levelCode})\n",
    "\n",
    "                    elif evento[\"result\"][\"score\"][\"raw\"] == -1:\n",
    "                        if levelCode in tiempos[name]:\n",
    "                            tiempos[name][levelCode][-1][\"fin\"] = timestamp\n",
    "                            tiempos[name][levelCode][-1][\"stars\"] = evento[\"result\"][\"score\"][\"raw\"]\n",
    "        \n",
    "        elif erSeriousGame.search(obj) and erInitialized.search(verb):\n",
    "            if name in inicioYFinJuego:\n",
    "                inicioYFinJuego[name].append({\"inicio\" : timestamp, \"fin\" : None})\n",
    "            else:\n",
    "                inicioYFinJuego[name] = [{\"inicio\" : timestamp, \"fin\" : None}]\n",
    "        \n",
    "        if not(erAccessed.search(verb) and erCategoryMain.search(objectId)):\n",
    "            inicioYFinJuego[name][-1][\"fin\"] = timestamp\n",
    "    \n",
    "    return {\"tiempos\" : tiempos, \"intentosNecesarios\" : intentosNecesarios, \"inicioYFinJuego\" : inicioYFinJuego, \"erroresCodigo\" : errores}\n",
    "\n",
    "JSONFile = open('./data/trazasOrdenadas.json')\n",
    "rawData = json.load(JSONFile)\n",
    "JSONFile.close()\n",
    "\n",
    "intentosOrdenados = False\n",
    "resultados_Tiempos_Nivel_Jugador = extraerTiemposPorNivelJugador(rawData)\n",
    "intentosMedios_Individual = getIntentosMedios_HastaCompletarNivel(resultados_Tiempos_Nivel_Jugador[\"intentosNecesarios\"], intentosOrdenados)\n",
    "\n",
    "#pd.DataFrame(intentosMedios_Individual[\"intentosMedios\"])\n",
    "#pd.DataFrame(intentosMedios_Individual[\"intentosIndividual\"])"
   ]
  },
  {
   "cell_type": "code",
   "execution_count": 43,
   "metadata": {},
   "outputs": [],
   "source": [
    "#Si tenerEnCuentaMove = False -> cuando se realiza una accion de tipo \"move\" no se tiene en cuenta para calcular el tiempo entre interacciones, como si no existiese la traza\n",
    "def extraerTiemposEntreInteracciones2(rawData, tenerEnCuentaMove = False):\n",
    "    ultimaInteraccionJugador = defaultdict()\n",
    "    \n",
    "    tiempoInicio_Interaccion_Jugador = defaultdict(defaultdict) #Tiempo entre inicio de nivel y la siguiente interaccion (reinicio, completado o interaccion con tarjeta)\n",
    "    tiempoInteraccion_Completado_Jugador = defaultdict(defaultdict) #Tiempo entre una interaccion (inicio, reinicio o interaccion con tarjeta) y terminar el nivel\n",
    "    tiempoInteraccion_Interaccion_Jugador = defaultdict(defaultdict) #Tiempo entre una interaccion con tarjeta y otra interaccion con tarjeta\n",
    "    \n",
    "    anomalias = []\n",
    "    \n",
    "    erInteracted = re.compile(r'\\binteracted$\\b')\n",
    "    erGameObject = re.compile(r'\\bgame-object$\\b')\n",
    "    erLevelExitButton = re.compile(r'\\blevel_exit_button$\\b') \n",
    "    erInitialized = re.compile(r'\\binitialized$\\b')\n",
    "    erSeriousGame = re.compile(r'\\bserious-game$\\b')    \n",
    "    erCompleted = re.compile(r'\\bcompleted$\\b')\n",
    "    erLevel = re.compile(r'\\blevel$\\b')\n",
    "\n",
    "        \n",
    "    for e in rawData:\n",
    "        verb = e[\"verb\"][\"id\"]\n",
    "        obj = e[\"object\"][\"definition\"][\"type\"]\n",
    "        objectId = e[\"object\"][\"id\"]\n",
    "        name = e[\"actor\"][\"name\"]\n",
    "        timestamp = e[\"timestamp\"]\n",
    "        \n",
    "        erIdLevel = re.compile(r'/')\n",
    "        levelCode = erIdLevel.split(objectId)[-1]\n",
    "        \n",
    "        if(levelCode != \"editor_level\"):\n",
    "            \n",
    "            if erSeriousGame.search(obj) and erInitialized.search(verb): #Si inicia el juego se reinicia su ultima interaccion\n",
    "                if name in ultimaInteraccionJugador:\n",
    "                    del ultimaInteraccionJugador[name]\n",
    "\n",
    "            elif erLevel.search(obj):\n",
    "                if erInitialized.search(verb): #Significa que ha iniciado o reiniciado el nivel\n",
    "                    if \"result\" in e: #Inicia el nivel desde el menu\n",
    "                        ultimaInteraccionJugador[name] = {\"t\" : timestamp, \"accion\" : \"inicio\"}\n",
    "                    else: #Reinicia el nivel\n",
    "                        try:\n",
    "                            t = Tiempo(ultimaInteraccionJugador[name][\"t\"], timestamp)\n",
    "                            \n",
    "                            if ultimaInteraccionJugador[name][\"accion\"] == \"inicio\":\n",
    "                                #Añadimos la dif de tiempo al diccionario del jugador\n",
    "                                if levelCode in tiempoInicio_Interaccion_Jugador[name]:\n",
    "                                    tiempoInicio_Interaccion_Jugador[name][levelCode].append({\"tiempo\" : t, \"accion\" : \"reinicio\"})\n",
    "                                else:\n",
    "                                    tiempoInicio_Interaccion_Jugador[name][levelCode] = [{\"tiempo\" : t, \"accion\" : \"reinicio\"}]\n",
    "                            #Actualizamos ultima interaccion\n",
    "                            ultimaInteraccionJugador[name] = {\"t\" : timestamp, \"accion\" : \"reinicio\"}\n",
    "                        except:\n",
    "                            #Si entra aqui es porque ha reiniciado un nivel que no habia iniciado\n",
    "                            #Trazas estan mal\n",
    "                            anomalias.append({\"Jugador\" : name, \"Timestamp\" : timestamp, \"Nivel\" : levelCode, \"Motivo\" : \"Se ha reiniciado un nivel que no estaba iniciado\"})\n",
    "\n",
    "                elif erCompleted.search(verb) and e[\"result\"][\"score\"][\"raw\"] != 0:\n",
    "                    #Si completa un nivel o sale al menu se reinicia su ultima interaccion, si falla el intento pero vuelve a intentarlo no se reinicia\n",
    "                    #Si raw == 0 significa que se reinicia el nivel\n",
    "                    try:\n",
    "                        t = Tiempo(ultimaInteraccionJugador[name][\"t\"], timestamp)                        \n",
    "                        #Añadimos la dif de tiempo al diccionario del jugador\n",
    "                        if ultimaInteraccionJugador[name][\"accion\"] == \"inicio\":\n",
    "                                #Añadimos la dif de tiempo al diccionario del jugador\n",
    "                            if levelCode in tiempoInicio_Interaccion_Jugador[name]:\n",
    "                                tiempoInicio_Interaccion_Jugador[name][levelCode].append({\"tiempo\" : t, \"accion\" : \"terminado\", \"exito\" : e[\"result\"][\"success\"]})\n",
    "                            else:\n",
    "                                tiempoInicio_Interaccion_Jugador[name][levelCode] = [{\"tiempo\" : t, \"accion\" : \"terminado\", \"exito\" : e[\"result\"][\"success\"]}]\n",
    "                                \n",
    "                            if levelCode in tiempoInteraccion_Completado_Jugador[name]:\n",
    "                                tiempoInteraccion_Completado_Jugador[name][levelCode].append({\"tiempo\" : t, \"accion_anterior\" : \"inicio\"})\n",
    "                            else:\n",
    "                                tiempoInteraccion_Completado_Jugador[name][levelCode] = [{\"tiempo\" : t, \"accion_anterior\" : \"inicio\"}]\n",
    "                                    \n",
    "                        elif ultimaInteraccionJugador[name][\"accion\"] == \"reinicio\":\n",
    "                            if levelCode in tiempoInteraccion_Completado_Jugador[name]:\n",
    "                                tiempoInteraccion_Completado_Jugador[name][levelCode].append({\"tiempo\" : t, \"accion_anterior\" : \"reinicio\"})\n",
    "                            else:\n",
    "                                tiempoInteraccion_Completado_Jugador[name][levelCode] = [{\"tiempo\" : t, \"accion_anterior\" : \"reinicio\"}]\n",
    "\n",
    "                        elif ultimaInteraccionJugador[name][\"accion\"] == \"interaccion\":\n",
    "                            if levelCode in tiempoInteraccion_Completado_Jugador[name]:\n",
    "                                tiempoInteraccion_Completado_Jugador[name][levelCode].append({\"tiempo\" : t, \"accion_anterior\" : \"interaccionTarjeta\"})\n",
    "                            else:\n",
    "                                tiempoInteraccion_Completado_Jugador[name][levelCode] = [{\"tiempo\" : t, \"accion_anterior\" : \"interaccionTarjeta\"}]\n",
    "                        #Actualizamos ultima interaccion, la borramos\n",
    "                        del ultimaInteraccionJugador[name]\n",
    "                    except:\n",
    "                        #Si entra aqui es porque se ha completado un nivel que no se habia iniciado\n",
    "                        #Probablemente por anomalias en las trazas\n",
    "                        anomalias.append({\"Jugador\" : name, \"Timestamp\" : timestamp, \"Nivel\" : levelCode, \"Motivo\": \"Se ha completado un nivel que no estaba iniciado\"})\n",
    "\n",
    "            elif erGameObject.search(obj) and erInteracted.search(verb):\n",
    "                if \"result\" in e and \"extensions\" in e[\"result\"] and \"level\" in e[\"result\"][\"extensions\"]:\n",
    "                    levelCode = e[\"result\"][\"extensions\"][\"level\"]\n",
    "                    if not erLevelExitButton.search(objectId) and levelCode != \"editor_level\":\n",
    "                        if name in ultimaInteraccionJugador:\n",
    "                            if e[\"result\"][\"extensions\"][\"action\"] != \"move\" or tenerEnCuentaMove: #<-- Que accion realiza\n",
    "                                t = Tiempo(ultimaInteraccionJugador[name][\"t\"], timestamp)\n",
    "                                #Añadimos la dif de tiempo al diccionario del jugador\n",
    "\n",
    "                                if ultimaInteraccionJugador[name][\"accion\"] == \"inicio\":\n",
    "                                    if levelCode in tiempoInicio_Interaccion_Jugador[name]:\n",
    "                                        tiempoInicio_Interaccion_Jugador[name][levelCode].append({\"tiempo\" : t, \"accion\" : \"interaccionTarjeta\"})\n",
    "                                    else:\n",
    "                                        tiempoInicio_Interaccion_Jugador[name][levelCode] = [{\"tiempo\" : t, \"accion\" : \"interaccionTarjeta\"}]\n",
    "\n",
    "                                if ultimaInteraccionJugador[name][\"accion\"] == \"interaccionTarjeta\":\n",
    "                                    if levelCode in tiempoInteraccion_Interaccion_Jugador[name]:\n",
    "                                        tiempoInteraccion_Interaccion_Jugador[name][levelCode].append({\"tiempo\" : t, \"accion_anterior\" : \"interaccionTarjeta\"})\n",
    "                                    else:\n",
    "                                        tiempoInteraccion_Interaccion_Jugador[name][levelCode] = [{\"tiempo\" : t, \"accion_anterior\" : \"interaccionTarjeta\"}]\n",
    "\n",
    "                                ultimaInteraccionJugador[name] = {\"t\" : timestamp, \"accion\" : \"interaccionTarjeta\"}\n",
    "                        else:\n",
    "                            anomalias.append({\"Jugador\" : name, \"Timestamp\" : timestamp, \"Nivel\" : levelCode, \"Motivo\" : \"Se ha interactuado en un nivel que no estaba iniciado\"})\n",
    "                        \n",
    "                    \n",
    "    # Dataframe 1: tiempoInteraccion_Completado_Jugador\n",
    "    df_tiempoInteraccion_Completado_Jugador = pd.DataFrame(tiempoInteraccion_Completado_Jugador)\n",
    "    df_tiempoInteraccion_Completado_Jugador = df_tiempoInteraccion_Completado_Jugador.applymap(lambda x: np.nan if not isinstance(x, list) or len(x) == 0 else int(x[-1][\"tiempo\"]))\n",
    "    df_tiempoInteraccion_Completado_Jugador.index.name = \"nivel\"\n",
    "\n",
    "    # Dataframe 2: tiempoInicio_Interaccion_Jugador\n",
    "    df_tiempoInicio_Interaccion_Jugador = pd.DataFrame(tiempoInicio_Interaccion_Jugador)\n",
    "    df_tiempoInicio_Interaccion_Jugador = df_tiempoInicio_Interaccion_Jugador.applymap(lambda x: np.nan if not isinstance(x, list) or len(x) == 0 else int(x[0][\"tiempo\"]))\n",
    "    df_tiempoInicio_Interaccion_Jugador.index.name = \"nivel\"\n",
    "\n",
    "    # Dataframe 3: tiempoInteraccion_Interaccion_Jugador\n",
    "    df_tiempoInteraccion_Interaccion_Jugador = pd.DataFrame(tiempoInteraccion_Interaccion_Jugador)\n",
    "    df_tiempoInteraccion_Interaccion_Jugador = df_tiempoInteraccion_Interaccion_Jugador.applymap(lambda x: np.nan if not isinstance(x, list) or len(x) == 0 else sum(int(tiempo[\"tiempo\"]) for tiempo in x) / len(x))\n",
    "    df_tiempoInteraccion_Interaccion_Jugador.index.name = \"nivel\"\n",
    "\n",
    "\n",
    "    return df_tiempoInteraccion_Completado_Jugador, df_tiempoInicio_Interaccion_Jugador, df_tiempoInteraccion_Interaccion_Jugador\n",
    "\n",
    "df_tiempoInteraccion_Completado_Jugador, df_tiempoInicio_Interaccion_Jugador, df_tiempoInteraccion_Interaccion_Jugador = extraerTiemposEntreInteracciones2(rawData, True)\n",
    "#df_tiempoInteraccion_Completado_Jugador\n",
    "#df_tiempoInicio_Interaccion_Jugador\n",
    "#df_tiempoInteraccion_Interaccion_Jugador\n"
   ]
  },
  {
   "cell_type": "code",
   "execution_count": 44,
   "metadata": {},
   "outputs": [
    {
     "name": "stdout",
     "output_type": "stream",
     "text": [
      "defaultdict(None, {'pbgky': 10, 'auvqa': 11, 'gcpze': 13, 'uzzpo': 10, 'ftpnb': 11, 'eprdu': 9, 'zxvkj': 7, 'khadt': 9, 'loemd': 11, 'vsxld': 8, 'srjon': 10, 'qeqyj': 11, 'ikcar': 7, 'gleqe': 6, 'kmqou': 12, 'hjpbw': 9, 'ejeuw': 6, 'epqkm': 3, 'fkmtp': 11, 'zwzfv': 7, 'ipdcp': 16, 'xnpqf': 6, 'swvxx': 8, 'asopk': 13, 'oahey': 12, 'kkoif': 17, 'bhyhw': 14, 'cmbfi': 10, 'krahz': 11, 'pygoc': 11, 'dunul': 11, 'dwqwi': 13, 'rdiaf': 14, 'zcibf': 8, 'yvpmf': 10, 'grkij': 9, 'onyep': 12, 'yfohf': 7, 'accul': 7, 'edxmq': 9, 'tekwp': 10, 'tjfzy': 5, 'bdwyj': 8, 'sxipu': 6, 'ubmtx': 9, 'sjpkc': 10, 'nmveq': 4, 'camhi': 2, 'stiry': 4, 'mymho': 3, 'psido': 13, 'wjaxi': 17, 'fivin': 4, 'gguuc': 9, 'ewqbs': 11, 'hqmhq': 5, 'mjiso': 15, 'hpdxj': 3, 'lwryl': 10, 'ucdvy': 10, 'kkliq': 8, 'dvmlu': 4, 'yxewz': 5, 'gdljy': 5, 'tgwmn': 7, 'rziia': 4, 'zbgwk': 4, 'fyyya': 5, 'tinco': 3, 'ztyed': 1, 'yxjji': 1, 'mgaak': 13, 'qfsdj': 14, 'atlzs': 7, 'ngavz': 22, 'yazod': 8, 'tqgyp': 16, 'zdnso': 13, 'idmzi': 2, 'aotlm': 3, 'huyyb': 8, 'tvxow': 3, 'xtdrq': 7, 'jozyx': 5, 'vvqlm': 6, 'lhrbj': 7, 'tavin': 9, 'jhbuv': 4, 'ahxym': 4, 'wqmgq': 5, 'rqlug': 1, 'buvgs': 11, 'kzles': 11, 'thaho': 10, 'icllt': 9, 'pbwkf': 11, 'nuasx': 5, 'mewpz': 12, 'uniee': 16, 'rkmrw': 8, 'yyvas': 11, 'lohyo': 9, 'pqwaf': 13, 'qgcgc': 12, 'fbldj': 12, 'fmupf': 11, 'sybwc': 3, 'pleui': 12, 'xbmmw': 16, 'ixrux': 10, 'eayrh': 13, 'orjyn': 12, 'raqdt': 9, 'blvkx': 6, 'bajbm': 6, 'prpej': 3, 'cojqb': 6, 'tflzv': 5, 'qbsjv': 4, 'tcvyz': 4, 'rsjxu': 3, 'ptmkr': 16, 'fmtrq': 10, 'pzfdd': 10, 'hcbyl': 9, 'khfha': 8, 'nhbnj': 6, 'qwnpf': 7, 'itkas': 6, 'nplrf': 5, 'rqaby': 8, 'sbexy': 3, 'esrit': 1})\n"
     ]
    }
   ],
   "source": [
    "resultados_Tiempos_Nivel_Jugador = extraerTiemposPorNivelJugador(rawData)\n",
    "res = defaultdict()\n",
    "\n",
    "for j in resultados_Tiempos_Nivel_Jugador[\"erroresCodigo\"]:\n",
    "    res[j] = len(resultados_Tiempos_Nivel_Jugador[\"erroresCodigo\"][j])\n",
    "\n",
    "print(res)"
   ]
  },
  {
   "cell_type": "code",
   "execution_count": 45,
   "metadata": {},
   "outputs": [],
   "source": [
    "filename = 'results-survey976727_pre.csv'\n",
    "data = pd.read_csv(filename, sep=';', header=0)\n",
    "\n",
    "data.drop(['submitdate', 'G00Q01[SQ01]', 'G02Q01', 'G02Q02', 'G02Q03', 'G02Q04', 'G03Q02[other]', 'id'], axis = 'columns', inplace=True)\n",
    "\n",
    "def mezcla_edad_genero(edad, genero):\n",
    "    return genero + ' ' + str(edad)\n",
    "\n",
    "data['edad_genero'] = data.apply(lambda x: mezcla_edad_genero(x['G03Q01'], x['G03Q02']), axis=1)\n",
    "#data"
   ]
  },
  {
   "cell_type": "code",
   "execution_count": 53,
   "metadata": {},
   "outputs": [],
   "source": [
    "# Crear un DataFrame con los datos de los intentos medios de cada jugador\n",
    "\n",
    "intentosJugadores = pd.DataFrame(intentosMedios_Individual[\"intentosIndividual\"])\n",
    "#intentosJugadores\n",
    "\n",
    "# Convertir columnas en filas\n",
    "df_stacked = intentosJugadores.stack().reset_index()\n",
    "df_stacked.columns = ['nivel', 'token', 'intentos']\n",
    "\n",
    "# Calcular promedio de intentos por jugador\n",
    "promedio_intentos = df_stacked.groupby('token')['intentos'].mean()\n",
    "\n",
    "# Crear DataFrame final\n",
    "df_final = pd.DataFrame({'token': promedio_intentos.index, 'intentos': promedio_intentos.values})\n",
    "\n",
    "\n",
    "# Convertir índice de df_tiempoInteraccion_Interaccion_Jugador en columna\n",
    "df_tiempoInteraccion_Interaccion_Jugador2 = df_tiempoInteraccion_Interaccion_Jugador.stack().reset_index()\n",
    "df_tiempoInteraccion_Interaccion_Jugador2.columns = ['nivel', 'token', 'tiempo']\n",
    "\n",
    "# Calcular promedio de intentos por jugador\n",
    "promedio_interaccion = df_tiempoInteraccion_Interaccion_Jugador2.groupby('token')['tiempo'].mean()\n",
    "\n",
    "# Crear DataFrame final\n",
    "df_final2 = pd.DataFrame({'token': promedio_interaccion.index, 'tiempo': promedio_interaccion.values})\n",
    "\n",
    "# Unir con intentosJugadores usando merge en'token'\n",
    "df_jugadores = pd.merge(df_final, df_final2, on=['token'])\n",
    "\n",
    "# Unir con data usando merge en 'token'\n",
    "df_global = pd.merge(df_jugadores, data, on='token')\n",
    "#df_global\n",
    "#df_jugadores\n"
   ]
  },
  {
   "cell_type": "code",
   "execution_count": 54,
   "metadata": {},
   "outputs": [
    {
     "name": "stderr",
     "output_type": "stream",
     "text": [
      "C:\\Users\\david\\AppData\\Local\\Temp\\ipykernel_27860\\4094171832.py:22: SettingWithCopyWarning:\n",
      "\n",
      "\n",
      "A value is trying to be set on a copy of a slice from a DataFrame.\n",
      "Try using .loc[row_indexer,col_indexer] = value instead\n",
      "\n",
      "See the caveats in the documentation: https://pandas.pydata.org/pandas-docs/stable/user_guide/indexing.html#returning-a-view-versus-a-copy\n",
      "\n"
     ]
    },
    {
     "data": {
      "text/html": [
       "<div>\n",
       "<style scoped>\n",
       "    .dataframe tbody tr th:only-of-type {\n",
       "        vertical-align: middle;\n",
       "    }\n",
       "\n",
       "    .dataframe tbody tr th {\n",
       "        vertical-align: top;\n",
       "    }\n",
       "\n",
       "    .dataframe thead th {\n",
       "        text-align: right;\n",
       "    }\n",
       "</style>\n",
       "<table border=\"1\" class=\"dataframe\">\n",
       "  <thead>\n",
       "    <tr style=\"text-align: right;\">\n",
       "      <th></th>\n",
       "      <th>token</th>\n",
       "      <th>intentos</th>\n",
       "      <th>tiempo</th>\n",
       "      <th>G03Q01</th>\n",
       "      <th>G03Q02</th>\n",
       "      <th>edad_genero</th>\n",
       "      <th>mezcla_intentos_tiempo</th>\n",
       "    </tr>\n",
       "  </thead>\n",
       "  <tbody>\n",
       "    <tr>\n",
       "      <th>0</th>\n",
       "      <td>accul</td>\n",
       "      <td>3.650000</td>\n",
       "      <td>7.387432</td>\n",
       "      <td>14</td>\n",
       "      <td>Masculino</td>\n",
       "      <td>Masculino 14</td>\n",
       "      <td>5.518716</td>\n",
       "    </tr>\n",
       "    <tr>\n",
       "      <th>2</th>\n",
       "      <td>aotlm</td>\n",
       "      <td>2.250000</td>\n",
       "      <td>8.364646</td>\n",
       "      <td>15</td>\n",
       "      <td>Masculino</td>\n",
       "      <td>Masculino 15</td>\n",
       "      <td>5.307323</td>\n",
       "    </tr>\n",
       "    <tr>\n",
       "      <th>3</th>\n",
       "      <td>asopk</td>\n",
       "      <td>1.885714</td>\n",
       "      <td>5.666881</td>\n",
       "      <td>14</td>\n",
       "      <td>Masculino</td>\n",
       "      <td>Masculino 14</td>\n",
       "      <td>3.776297</td>\n",
       "    </tr>\n",
       "    <tr>\n",
       "      <th>4</th>\n",
       "      <td>atlzs</td>\n",
       "      <td>2.423077</td>\n",
       "      <td>5.272170</td>\n",
       "      <td>14</td>\n",
       "      <td>Femenino</td>\n",
       "      <td>Femenino 14</td>\n",
       "      <td>3.847624</td>\n",
       "    </tr>\n",
       "    <tr>\n",
       "      <th>5</th>\n",
       "      <td>auvqa</td>\n",
       "      <td>2.043478</td>\n",
       "      <td>6.953159</td>\n",
       "      <td>14</td>\n",
       "      <td>Femenino</td>\n",
       "      <td>Femenino 14</td>\n",
       "      <td>4.498319</td>\n",
       "    </tr>\n",
       "    <tr>\n",
       "      <th>6</th>\n",
       "      <td>bajbm</td>\n",
       "      <td>2.277778</td>\n",
       "      <td>10.741531</td>\n",
       "      <td>12</td>\n",
       "      <td>Femenino</td>\n",
       "      <td>Femenino 12</td>\n",
       "      <td>6.509654</td>\n",
       "    </tr>\n",
       "    <tr>\n",
       "      <th>7</th>\n",
       "      <td>bdwyj</td>\n",
       "      <td>2.950000</td>\n",
       "      <td>6.006920</td>\n",
       "      <td>13</td>\n",
       "      <td>Masculino</td>\n",
       "      <td>Masculino 13</td>\n",
       "      <td>4.478460</td>\n",
       "    </tr>\n",
       "    <tr>\n",
       "      <th>8</th>\n",
       "      <td>bhyhw</td>\n",
       "      <td>1.892857</td>\n",
       "      <td>5.918490</td>\n",
       "      <td>14</td>\n",
       "      <td>Masculino</td>\n",
       "      <td>Masculino 14</td>\n",
       "      <td>3.905674</td>\n",
       "    </tr>\n",
       "    <tr>\n",
       "      <th>9</th>\n",
       "      <td>bjvnt</td>\n",
       "      <td>2.700000</td>\n",
       "      <td>3.000000</td>\n",
       "      <td>15</td>\n",
       "      <td>Femenino</td>\n",
       "      <td>Femenino 15</td>\n",
       "      <td>2.850000</td>\n",
       "    </tr>\n",
       "    <tr>\n",
       "      <th>10</th>\n",
       "      <td>blvkx</td>\n",
       "      <td>3.000000</td>\n",
       "      <td>10.174073</td>\n",
       "      <td>13</td>\n",
       "      <td>Otro</td>\n",
       "      <td>Otro 13</td>\n",
       "      <td>6.587036</td>\n",
       "    </tr>\n",
       "    <tr>\n",
       "      <th>11</th>\n",
       "      <td>buvgs</td>\n",
       "      <td>2.636364</td>\n",
       "      <td>6.534245</td>\n",
       "      <td>12</td>\n",
       "      <td>Femenino</td>\n",
       "      <td>Femenino 12</td>\n",
       "      <td>4.585304</td>\n",
       "    </tr>\n",
       "    <tr>\n",
       "      <th>13</th>\n",
       "      <td>cmbfi</td>\n",
       "      <td>1.516129</td>\n",
       "      <td>5.883715</td>\n",
       "      <td>13</td>\n",
       "      <td>Masculino</td>\n",
       "      <td>Masculino 13</td>\n",
       "      <td>3.699922</td>\n",
       "    </tr>\n",
       "    <tr>\n",
       "      <th>14</th>\n",
       "      <td>cojqb</td>\n",
       "      <td>3.166667</td>\n",
       "      <td>9.861497</td>\n",
       "      <td>8</td>\n",
       "      <td>Femenino</td>\n",
       "      <td>Femenino 8</td>\n",
       "      <td>6.514082</td>\n",
       "    </tr>\n",
       "    <tr>\n",
       "      <th>16</th>\n",
       "      <td>dunul</td>\n",
       "      <td>1.586207</td>\n",
       "      <td>6.514073</td>\n",
       "      <td>14</td>\n",
       "      <td>Otro</td>\n",
       "      <td>Otro 14</td>\n",
       "      <td>4.050140</td>\n",
       "    </tr>\n",
       "    <tr>\n",
       "      <th>18</th>\n",
       "      <td>dwqwi</td>\n",
       "      <td>1.888889</td>\n",
       "      <td>7.042074</td>\n",
       "      <td>13</td>\n",
       "      <td>Femenino</td>\n",
       "      <td>Femenino 13</td>\n",
       "      <td>4.465481</td>\n",
       "    </tr>\n",
       "    <tr>\n",
       "      <th>19</th>\n",
       "      <td>eayrh</td>\n",
       "      <td>2.739130</td>\n",
       "      <td>5.227795</td>\n",
       "      <td>13</td>\n",
       "      <td>Femenino</td>\n",
       "      <td>Femenino 13</td>\n",
       "      <td>3.983462</td>\n",
       "    </tr>\n",
       "    <tr>\n",
       "      <th>20</th>\n",
       "      <td>edxmq</td>\n",
       "      <td>4.950000</td>\n",
       "      <td>4.876273</td>\n",
       "      <td>14</td>\n",
       "      <td>Masculino</td>\n",
       "      <td>Masculino 14</td>\n",
       "      <td>4.913137</td>\n",
       "    </tr>\n",
       "    <tr>\n",
       "      <th>21</th>\n",
       "      <td>ejeuw</td>\n",
       "      <td>2.285714</td>\n",
       "      <td>5.498622</td>\n",
       "      <td>13</td>\n",
       "      <td>Femenino</td>\n",
       "      <td>Femenino 13</td>\n",
       "      <td>3.892168</td>\n",
       "    </tr>\n",
       "    <tr>\n",
       "      <th>22</th>\n",
       "      <td>epjcx</td>\n",
       "      <td>5.555556</td>\n",
       "      <td>6.394231</td>\n",
       "      <td>12</td>\n",
       "      <td>Masculino</td>\n",
       "      <td>Masculino 12</td>\n",
       "      <td>5.974893</td>\n",
       "    </tr>\n",
       "    <tr>\n",
       "      <th>23</th>\n",
       "      <td>epqkm</td>\n",
       "      <td>2.384615</td>\n",
       "      <td>6.644118</td>\n",
       "      <td>14</td>\n",
       "      <td>Masculino</td>\n",
       "      <td>Masculino 14</td>\n",
       "      <td>4.514367</td>\n",
       "    </tr>\n",
       "    <tr>\n",
       "      <th>24</th>\n",
       "      <td>eprdu</td>\n",
       "      <td>1.714286</td>\n",
       "      <td>4.852870</td>\n",
       "      <td>14</td>\n",
       "      <td>Masculino</td>\n",
       "      <td>Masculino 14</td>\n",
       "      <td>3.283578</td>\n",
       "    </tr>\n",
       "    <tr>\n",
       "      <th>26</th>\n",
       "      <td>ewqbs</td>\n",
       "      <td>3.136364</td>\n",
       "      <td>5.388147</td>\n",
       "      <td>14</td>\n",
       "      <td>Masculino</td>\n",
       "      <td>Masculino 14</td>\n",
       "      <td>4.262255</td>\n",
       "    </tr>\n",
       "    <tr>\n",
       "      <th>27</th>\n",
       "      <td>fbldj</td>\n",
       "      <td>2.037037</td>\n",
       "      <td>5.926862</td>\n",
       "      <td>12</td>\n",
       "      <td>Femenino</td>\n",
       "      <td>Femenino 12</td>\n",
       "      <td>3.981950</td>\n",
       "    </tr>\n",
       "    <tr>\n",
       "      <th>28</th>\n",
       "      <td>fivin</td>\n",
       "      <td>2.000000</td>\n",
       "      <td>5.590452</td>\n",
       "      <td>15</td>\n",
       "      <td>Femenino</td>\n",
       "      <td>Femenino 15</td>\n",
       "      <td>3.795226</td>\n",
       "    </tr>\n",
       "    <tr>\n",
       "      <th>29</th>\n",
       "      <td>fkmtp</td>\n",
       "      <td>2.720000</td>\n",
       "      <td>6.539927</td>\n",
       "      <td>13</td>\n",
       "      <td>Masculino</td>\n",
       "      <td>Masculino 13</td>\n",
       "      <td>4.629963</td>\n",
       "    </tr>\n",
       "    <tr>\n",
       "      <th>30</th>\n",
       "      <td>fmtrq</td>\n",
       "      <td>1.913043</td>\n",
       "      <td>6.209523</td>\n",
       "      <td>13</td>\n",
       "      <td>Masculino</td>\n",
       "      <td>Masculino 13</td>\n",
       "      <td>4.061283</td>\n",
       "    </tr>\n",
       "    <tr>\n",
       "      <th>31</th>\n",
       "      <td>fmupf</td>\n",
       "      <td>2.166667</td>\n",
       "      <td>7.103058</td>\n",
       "      <td>12</td>\n",
       "      <td>Masculino</td>\n",
       "      <td>Masculino 12</td>\n",
       "      <td>4.634862</td>\n",
       "    </tr>\n",
       "    <tr>\n",
       "      <th>32</th>\n",
       "      <td>ftpnb</td>\n",
       "      <td>1.571429</td>\n",
       "      <td>4.317314</td>\n",
       "      <td>14</td>\n",
       "      <td>Masculino</td>\n",
       "      <td>Masculino 14</td>\n",
       "      <td>2.944372</td>\n",
       "    </tr>\n",
       "    <tr>\n",
       "      <th>34</th>\n",
       "      <td>gcpze</td>\n",
       "      <td>1.400000</td>\n",
       "      <td>4.378168</td>\n",
       "      <td>13</td>\n",
       "      <td>Masculino</td>\n",
       "      <td>Masculino 13</td>\n",
       "      <td>2.889084</td>\n",
       "    </tr>\n",
       "    <tr>\n",
       "      <th>35</th>\n",
       "      <td>gdljy</td>\n",
       "      <td>4.176471</td>\n",
       "      <td>6.651510</td>\n",
       "      <td>14</td>\n",
       "      <td>Femenino</td>\n",
       "      <td>Femenino 14</td>\n",
       "      <td>5.413990</td>\n",
       "    </tr>\n",
       "    <tr>\n",
       "      <th>36</th>\n",
       "      <td>gguuc</td>\n",
       "      <td>4.350000</td>\n",
       "      <td>3.698123</td>\n",
       "      <td>15</td>\n",
       "      <td>Femenino</td>\n",
       "      <td>Femenino 15</td>\n",
       "      <td>4.024061</td>\n",
       "    </tr>\n",
       "    <tr>\n",
       "      <th>37</th>\n",
       "      <td>gleqe</td>\n",
       "      <td>2.040000</td>\n",
       "      <td>5.278054</td>\n",
       "      <td>13</td>\n",
       "      <td>Masculino</td>\n",
       "      <td>Masculino 13</td>\n",
       "      <td>3.659027</td>\n",
       "    </tr>\n",
       "    <tr>\n",
       "      <th>39</th>\n",
       "      <td>grkij</td>\n",
       "      <td>2.478261</td>\n",
       "      <td>6.583177</td>\n",
       "      <td>14</td>\n",
       "      <td>Femenino</td>\n",
       "      <td>Femenino 14</td>\n",
       "      <td>4.530719</td>\n",
       "    </tr>\n",
       "    <tr>\n",
       "      <th>40</th>\n",
       "      <td>gzgfk</td>\n",
       "      <td>4.666667</td>\n",
       "      <td>3.916667</td>\n",
       "      <td>13</td>\n",
       "      <td>Femenino</td>\n",
       "      <td>Femenino 13</td>\n",
       "      <td>4.291667</td>\n",
       "    </tr>\n",
       "    <tr>\n",
       "      <th>41</th>\n",
       "      <td>hcbyl</td>\n",
       "      <td>3.200000</td>\n",
       "      <td>6.363011</td>\n",
       "      <td>13</td>\n",
       "      <td>Otro</td>\n",
       "      <td>Otro 13</td>\n",
       "      <td>4.781505</td>\n",
       "    </tr>\n",
       "    <tr>\n",
       "      <th>42</th>\n",
       "      <td>hjpbw</td>\n",
       "      <td>2.684211</td>\n",
       "      <td>10.379039</td>\n",
       "      <td>13</td>\n",
       "      <td>Masculino</td>\n",
       "      <td>Masculino 13</td>\n",
       "      <td>6.531625</td>\n",
       "    </tr>\n",
       "    <tr>\n",
       "      <th>43</th>\n",
       "      <td>hpdxj</td>\n",
       "      <td>3.142857</td>\n",
       "      <td>4.500754</td>\n",
       "      <td>14</td>\n",
       "      <td>Masculino</td>\n",
       "      <td>Masculino 14</td>\n",
       "      <td>3.821806</td>\n",
       "    </tr>\n",
       "    <tr>\n",
       "      <th>44</th>\n",
       "      <td>hqmhq</td>\n",
       "      <td>1.666667</td>\n",
       "      <td>8.195984</td>\n",
       "      <td>15</td>\n",
       "      <td>Masculino</td>\n",
       "      <td>Masculino 15</td>\n",
       "      <td>4.931326</td>\n",
       "    </tr>\n",
       "    <tr>\n",
       "      <th>45</th>\n",
       "      <td>huyyb</td>\n",
       "      <td>2.684211</td>\n",
       "      <td>7.531806</td>\n",
       "      <td>14</td>\n",
       "      <td>Masculino</td>\n",
       "      <td>Masculino 14</td>\n",
       "      <td>5.108008</td>\n",
       "    </tr>\n",
       "    <tr>\n",
       "      <th>46</th>\n",
       "      <td>icllt</td>\n",
       "      <td>2.217391</td>\n",
       "      <td>8.219693</td>\n",
       "      <td>12</td>\n",
       "      <td>Femenino</td>\n",
       "      <td>Femenino 12</td>\n",
       "      <td>5.218542</td>\n",
       "    </tr>\n",
       "    <tr>\n",
       "      <th>47</th>\n",
       "      <td>idmzi</td>\n",
       "      <td>3.571429</td>\n",
       "      <td>8.093333</td>\n",
       "      <td>14</td>\n",
       "      <td>Masculino</td>\n",
       "      <td>Masculino 14</td>\n",
       "      <td>5.832381</td>\n",
       "    </tr>\n",
       "    <tr>\n",
       "      <th>48</th>\n",
       "      <td>ikcar</td>\n",
       "      <td>1.863636</td>\n",
       "      <td>5.853960</td>\n",
       "      <td>13</td>\n",
       "      <td>Femenino</td>\n",
       "      <td>Femenino 13</td>\n",
       "      <td>3.858798</td>\n",
       "    </tr>\n",
       "    <tr>\n",
       "      <th>49</th>\n",
       "      <td>ipdcp</td>\n",
       "      <td>2.318182</td>\n",
       "      <td>4.021263</td>\n",
       "      <td>14</td>\n",
       "      <td>Masculino</td>\n",
       "      <td>Masculino 14</td>\n",
       "      <td>3.169722</td>\n",
       "    </tr>\n",
       "    <tr>\n",
       "      <th>50</th>\n",
       "      <td>itkas</td>\n",
       "      <td>4.500000</td>\n",
       "      <td>5.241525</td>\n",
       "      <td>12</td>\n",
       "      <td>Masculino</td>\n",
       "      <td>Masculino 12</td>\n",
       "      <td>4.870763</td>\n",
       "    </tr>\n",
       "    <tr>\n",
       "      <th>51</th>\n",
       "      <td>ixrux</td>\n",
       "      <td>3.550000</td>\n",
       "      <td>7.157093</td>\n",
       "      <td>12</td>\n",
       "      <td>Masculino</td>\n",
       "      <td>Masculino 12</td>\n",
       "      <td>5.353546</td>\n",
       "    </tr>\n",
       "    <tr>\n",
       "      <th>52</th>\n",
       "      <td>jhbuv</td>\n",
       "      <td>2.428571</td>\n",
       "      <td>6.425109</td>\n",
       "      <td>15</td>\n",
       "      <td>Masculino</td>\n",
       "      <td>Masculino 15</td>\n",
       "      <td>4.426840</td>\n",
       "    </tr>\n",
       "    <tr>\n",
       "      <th>53</th>\n",
       "      <td>jozyx</td>\n",
       "      <td>3.352941</td>\n",
       "      <td>4.979539</td>\n",
       "      <td>14</td>\n",
       "      <td>Femenino</td>\n",
       "      <td>Femenino 14</td>\n",
       "      <td>4.166240</td>\n",
       "    </tr>\n",
       "    <tr>\n",
       "      <th>54</th>\n",
       "      <td>khadt</td>\n",
       "      <td>2.000000</td>\n",
       "      <td>5.666210</td>\n",
       "      <td>14</td>\n",
       "      <td>Femenino</td>\n",
       "      <td>Femenino 14</td>\n",
       "      <td>3.833105</td>\n",
       "    </tr>\n",
       "    <tr>\n",
       "      <th>55</th>\n",
       "      <td>khfha</td>\n",
       "      <td>4.045455</td>\n",
       "      <td>6.318751</td>\n",
       "      <td>13</td>\n",
       "      <td>Femenino</td>\n",
       "      <td>Femenino 13</td>\n",
       "      <td>5.182103</td>\n",
       "    </tr>\n",
       "    <tr>\n",
       "      <th>56</th>\n",
       "      <td>kkliq</td>\n",
       "      <td>3.125000</td>\n",
       "      <td>9.435240</td>\n",
       "      <td>14</td>\n",
       "      <td>Femenino</td>\n",
       "      <td>Femenino 14</td>\n",
       "      <td>6.280120</td>\n",
       "    </tr>\n",
       "    <tr>\n",
       "      <th>57</th>\n",
       "      <td>kkoif</td>\n",
       "      <td>1.785714</td>\n",
       "      <td>5.555407</td>\n",
       "      <td>13</td>\n",
       "      <td>Femenino</td>\n",
       "      <td>Femenino 13</td>\n",
       "      <td>3.670561</td>\n",
       "    </tr>\n",
       "    <tr>\n",
       "      <th>58</th>\n",
       "      <td>kmqou</td>\n",
       "      <td>2.863636</td>\n",
       "      <td>4.042614</td>\n",
       "      <td>13</td>\n",
       "      <td>Otro</td>\n",
       "      <td>Otro 13</td>\n",
       "      <td>3.453125</td>\n",
       "    </tr>\n",
       "    <tr>\n",
       "      <th>59</th>\n",
       "      <td>knewj</td>\n",
       "      <td>2.000000</td>\n",
       "      <td>10.150794</td>\n",
       "      <td>15</td>\n",
       "      <td>Femenino</td>\n",
       "      <td>Femenino 15</td>\n",
       "      <td>6.075397</td>\n",
       "    </tr>\n",
       "    <tr>\n",
       "      <th>60</th>\n",
       "      <td>krahz</td>\n",
       "      <td>1.555556</td>\n",
       "      <td>7.743029</td>\n",
       "      <td>13</td>\n",
       "      <td>Femenino</td>\n",
       "      <td>Femenino 13</td>\n",
       "      <td>4.649292</td>\n",
       "    </tr>\n",
       "    <tr>\n",
       "      <th>61</th>\n",
       "      <td>kzles</td>\n",
       "      <td>1.520000</td>\n",
       "      <td>6.373680</td>\n",
       "      <td>12</td>\n",
       "      <td>Femenino</td>\n",
       "      <td>Femenino 12</td>\n",
       "      <td>3.946840</td>\n",
       "    </tr>\n",
       "    <tr>\n",
       "      <th>62</th>\n",
       "      <td>lhrbj</td>\n",
       "      <td>1.958333</td>\n",
       "      <td>7.676746</td>\n",
       "      <td>15</td>\n",
       "      <td>Femenino</td>\n",
       "      <td>Femenino 15</td>\n",
       "      <td>4.817540</td>\n",
       "    </tr>\n",
       "    <tr>\n",
       "      <th>63</th>\n",
       "      <td>loemd</td>\n",
       "      <td>1.592593</td>\n",
       "      <td>8.376098</td>\n",
       "      <td>14</td>\n",
       "      <td>Otro</td>\n",
       "      <td>Otro 14</td>\n",
       "      <td>4.984345</td>\n",
       "    </tr>\n",
       "    <tr>\n",
       "      <th>64</th>\n",
       "      <td>lohyo</td>\n",
       "      <td>4.476190</td>\n",
       "      <td>3.659881</td>\n",
       "      <td>12</td>\n",
       "      <td>Femenino</td>\n",
       "      <td>Femenino 12</td>\n",
       "      <td>4.068036</td>\n",
       "    </tr>\n",
       "    <tr>\n",
       "      <th>65</th>\n",
       "      <td>lwryl</td>\n",
       "      <td>2.736842</td>\n",
       "      <td>7.000213</td>\n",
       "      <td>14</td>\n",
       "      <td>Masculino</td>\n",
       "      <td>Masculino 14</td>\n",
       "      <td>4.868527</td>\n",
       "    </tr>\n",
       "    <tr>\n",
       "      <th>66</th>\n",
       "      <td>mewpz</td>\n",
       "      <td>3.681818</td>\n",
       "      <td>5.905386</td>\n",
       "      <td>12</td>\n",
       "      <td>Femenino</td>\n",
       "      <td>Femenino 12</td>\n",
       "      <td>4.793602</td>\n",
       "    </tr>\n",
       "    <tr>\n",
       "      <th>67</th>\n",
       "      <td>mgaak</td>\n",
       "      <td>1.400000</td>\n",
       "      <td>4.055539</td>\n",
       "      <td>15</td>\n",
       "      <td>Masculino</td>\n",
       "      <td>Masculino 15</td>\n",
       "      <td>2.727770</td>\n",
       "    </tr>\n",
       "    <tr>\n",
       "      <th>68</th>\n",
       "      <td>mjiso</td>\n",
       "      <td>1.440000</td>\n",
       "      <td>7.447546</td>\n",
       "      <td>15</td>\n",
       "      <td>Femenino</td>\n",
       "      <td>Femenino 15</td>\n",
       "      <td>4.443773</td>\n",
       "    </tr>\n",
       "    <tr>\n",
       "      <th>69</th>\n",
       "      <td>mymho</td>\n",
       "      <td>4.833333</td>\n",
       "      <td>6.705357</td>\n",
       "      <td>15</td>\n",
       "      <td>Femenino</td>\n",
       "      <td>Femenino 15</td>\n",
       "      <td>5.769345</td>\n",
       "    </tr>\n",
       "    <tr>\n",
       "      <th>70</th>\n",
       "      <td>ngavz</td>\n",
       "      <td>2.485714</td>\n",
       "      <td>3.264442</td>\n",
       "      <td>14</td>\n",
       "      <td>Masculino</td>\n",
       "      <td>Masculino 14</td>\n",
       "      <td>2.875078</td>\n",
       "    </tr>\n",
       "    <tr>\n",
       "      <th>71</th>\n",
       "      <td>nhbnj</td>\n",
       "      <td>5.052632</td>\n",
       "      <td>6.987273</td>\n",
       "      <td>12</td>\n",
       "      <td>Masculino</td>\n",
       "      <td>Masculino 12</td>\n",
       "      <td>6.019952</td>\n",
       "    </tr>\n",
       "    <tr>\n",
       "      <th>74</th>\n",
       "      <td>nuasx</td>\n",
       "      <td>3.800000</td>\n",
       "      <td>5.669475</td>\n",
       "      <td>13</td>\n",
       "      <td>Masculino</td>\n",
       "      <td>Masculino 13</td>\n",
       "      <td>4.734738</td>\n",
       "    </tr>\n",
       "    <tr>\n",
       "      <th>75</th>\n",
       "      <td>oahey</td>\n",
       "      <td>1.689655</td>\n",
       "      <td>5.888230</td>\n",
       "      <td>13</td>\n",
       "      <td>Masculino</td>\n",
       "      <td>Masculino 13</td>\n",
       "      <td>3.788943</td>\n",
       "    </tr>\n",
       "    <tr>\n",
       "      <th>77</th>\n",
       "      <td>onyep</td>\n",
       "      <td>3.703704</td>\n",
       "      <td>4.852661</td>\n",
       "      <td>14</td>\n",
       "      <td>Femenino</td>\n",
       "      <td>Femenino 14</td>\n",
       "      <td>4.278183</td>\n",
       "    </tr>\n",
       "    <tr>\n",
       "      <th>78</th>\n",
       "      <td>orjyn</td>\n",
       "      <td>4.083333</td>\n",
       "      <td>4.978347</td>\n",
       "      <td>12</td>\n",
       "      <td>Femenino</td>\n",
       "      <td>Femenino 12</td>\n",
       "      <td>4.530840</td>\n",
       "    </tr>\n",
       "    <tr>\n",
       "      <th>79</th>\n",
       "      <td>pbgky</td>\n",
       "      <td>2.250000</td>\n",
       "      <td>5.538329</td>\n",
       "      <td>13</td>\n",
       "      <td>Masculino</td>\n",
       "      <td>Masculino 13</td>\n",
       "      <td>3.894165</td>\n",
       "    </tr>\n",
       "    <tr>\n",
       "      <th>80</th>\n",
       "      <td>pbwkf</td>\n",
       "      <td>2.583333</td>\n",
       "      <td>4.321943</td>\n",
       "      <td>13</td>\n",
       "      <td>Masculino</td>\n",
       "      <td>Masculino 13</td>\n",
       "      <td>3.452638</td>\n",
       "    </tr>\n",
       "    <tr>\n",
       "      <th>81</th>\n",
       "      <td>pleui</td>\n",
       "      <td>1.814815</td>\n",
       "      <td>6.004582</td>\n",
       "      <td>13</td>\n",
       "      <td>Masculino</td>\n",
       "      <td>Masculino 13</td>\n",
       "      <td>3.909699</td>\n",
       "    </tr>\n",
       "    <tr>\n",
       "      <th>82</th>\n",
       "      <td>pqwaf</td>\n",
       "      <td>1.321429</td>\n",
       "      <td>9.510853</td>\n",
       "      <td>12</td>\n",
       "      <td>Masculino</td>\n",
       "      <td>Masculino 12</td>\n",
       "      <td>5.416141</td>\n",
       "    </tr>\n",
       "    <tr>\n",
       "      <th>83</th>\n",
       "      <td>prpej</td>\n",
       "      <td>2.315789</td>\n",
       "      <td>8.875633</td>\n",
       "      <td>12</td>\n",
       "      <td>Femenino</td>\n",
       "      <td>Femenino 12</td>\n",
       "      <td>5.595711</td>\n",
       "    </tr>\n",
       "    <tr>\n",
       "      <th>84</th>\n",
       "      <td>psido</td>\n",
       "      <td>2.590909</td>\n",
       "      <td>7.010320</td>\n",
       "      <td>14</td>\n",
       "      <td>Masculino</td>\n",
       "      <td>Masculino 14</td>\n",
       "      <td>4.800615</td>\n",
       "    </tr>\n",
       "    <tr>\n",
       "      <th>85</th>\n",
       "      <td>ptmkr</td>\n",
       "      <td>3.956522</td>\n",
       "      <td>4.829527</td>\n",
       "      <td>13</td>\n",
       "      <td>Masculino</td>\n",
       "      <td>Masculino 13</td>\n",
       "      <td>4.393024</td>\n",
       "    </tr>\n",
       "    <tr>\n",
       "      <th>86</th>\n",
       "      <td>pygoc</td>\n",
       "      <td>1.533333</td>\n",
       "      <td>4.913242</td>\n",
       "      <td>14</td>\n",
       "      <td>Otro</td>\n",
       "      <td>Otro 14</td>\n",
       "      <td>3.223287</td>\n",
       "    </tr>\n",
       "    <tr>\n",
       "      <th>87</th>\n",
       "      <td>pzfdd</td>\n",
       "      <td>2.450000</td>\n",
       "      <td>5.331609</td>\n",
       "      <td>13</td>\n",
       "      <td>Masculino</td>\n",
       "      <td>Masculino 13</td>\n",
       "      <td>3.890805</td>\n",
       "    </tr>\n",
       "    <tr>\n",
       "      <th>89</th>\n",
       "      <td>qeqyj</td>\n",
       "      <td>2.200000</td>\n",
       "      <td>4.537446</td>\n",
       "      <td>13</td>\n",
       "      <td>Masculino</td>\n",
       "      <td>Masculino 13</td>\n",
       "      <td>3.368723</td>\n",
       "    </tr>\n",
       "    <tr>\n",
       "      <th>90</th>\n",
       "      <td>qfsdj</td>\n",
       "      <td>1.275862</td>\n",
       "      <td>5.958268</td>\n",
       "      <td>15</td>\n",
       "      <td>Masculino</td>\n",
       "      <td>Masculino 15</td>\n",
       "      <td>3.617065</td>\n",
       "    </tr>\n",
       "    <tr>\n",
       "      <th>91</th>\n",
       "      <td>qgcgc</td>\n",
       "      <td>2.296296</td>\n",
       "      <td>5.285877</td>\n",
       "      <td>12</td>\n",
       "      <td>Masculino</td>\n",
       "      <td>Masculino 12</td>\n",
       "      <td>3.791087</td>\n",
       "    </tr>\n",
       "    <tr>\n",
       "      <th>92</th>\n",
       "      <td>qwnpf</td>\n",
       "      <td>2.736842</td>\n",
       "      <td>9.060052</td>\n",
       "      <td>12</td>\n",
       "      <td>Masculino</td>\n",
       "      <td>Masculino 12</td>\n",
       "      <td>5.898447</td>\n",
       "    </tr>\n",
       "    <tr>\n",
       "      <th>93</th>\n",
       "      <td>raqdt</td>\n",
       "      <td>1.909091</td>\n",
       "      <td>6.751498</td>\n",
       "      <td>13</td>\n",
       "      <td>Femenino</td>\n",
       "      <td>Femenino 13</td>\n",
       "      <td>4.330294</td>\n",
       "    </tr>\n",
       "    <tr>\n",
       "      <th>94</th>\n",
       "      <td>rdiaf</td>\n",
       "      <td>3.607143</td>\n",
       "      <td>4.537196</td>\n",
       "      <td>14</td>\n",
       "      <td>Masculino</td>\n",
       "      <td>Masculino 14</td>\n",
       "      <td>4.072170</td>\n",
       "    </tr>\n",
       "    <tr>\n",
       "      <th>95</th>\n",
       "      <td>rfofs</td>\n",
       "      <td>6.250000</td>\n",
       "      <td>6.500000</td>\n",
       "      <td>13</td>\n",
       "      <td>Masculino</td>\n",
       "      <td>Masculino 13</td>\n",
       "      <td>6.375000</td>\n",
       "    </tr>\n",
       "    <tr>\n",
       "      <th>96</th>\n",
       "      <td>rkmrw</td>\n",
       "      <td>2.000000</td>\n",
       "      <td>8.145612</td>\n",
       "      <td>12</td>\n",
       "      <td>Femenino</td>\n",
       "      <td>Femenino 12</td>\n",
       "      <td>5.072806</td>\n",
       "    </tr>\n",
       "    <tr>\n",
       "      <th>97</th>\n",
       "      <td>rqaby</td>\n",
       "      <td>3.933333</td>\n",
       "      <td>7.260730</td>\n",
       "      <td>12</td>\n",
       "      <td>Masculino</td>\n",
       "      <td>Masculino 12</td>\n",
       "      <td>5.597032</td>\n",
       "    </tr>\n",
       "    <tr>\n",
       "      <th>99</th>\n",
       "      <td>rsjxu</td>\n",
       "      <td>6.071429</td>\n",
       "      <td>5.637196</td>\n",
       "      <td>12</td>\n",
       "      <td>Otro</td>\n",
       "      <td>Otro 12</td>\n",
       "      <td>5.854312</td>\n",
       "    </tr>\n",
       "    <tr>\n",
       "      <th>101</th>\n",
       "      <td>sbexy</td>\n",
       "      <td>4.538462</td>\n",
       "      <td>10.997455</td>\n",
       "      <td>12</td>\n",
       "      <td>Femenino</td>\n",
       "      <td>Femenino 12</td>\n",
       "      <td>7.767958</td>\n",
       "    </tr>\n",
       "    <tr>\n",
       "      <th>103</th>\n",
       "      <td>srjon</td>\n",
       "      <td>1.333333</td>\n",
       "      <td>5.876009</td>\n",
       "      <td>13</td>\n",
       "      <td>Masculino</td>\n",
       "      <td>Masculino 13</td>\n",
       "      <td>3.604671</td>\n",
       "    </tr>\n",
       "    <tr>\n",
       "      <th>104</th>\n",
       "      <td>stiry</td>\n",
       "      <td>1.368421</td>\n",
       "      <td>7.055726</td>\n",
       "      <td>15</td>\n",
       "      <td>Femenino</td>\n",
       "      <td>Femenino 15</td>\n",
       "      <td>4.212074</td>\n",
       "    </tr>\n",
       "    <tr>\n",
       "      <th>105</th>\n",
       "      <td>swvxx</td>\n",
       "      <td>3.631579</td>\n",
       "      <td>6.619645</td>\n",
       "      <td>14</td>\n",
       "      <td>Masculino</td>\n",
       "      <td>Masculino 14</td>\n",
       "      <td>5.125612</td>\n",
       "    </tr>\n",
       "    <tr>\n",
       "      <th>106</th>\n",
       "      <td>sxipu</td>\n",
       "      <td>4.368421</td>\n",
       "      <td>4.511075</td>\n",
       "      <td>14</td>\n",
       "      <td>Femenino</td>\n",
       "      <td>Femenino 14</td>\n",
       "      <td>4.439748</td>\n",
       "    </tr>\n",
       "    <tr>\n",
       "      <th>107</th>\n",
       "      <td>sybwc</td>\n",
       "      <td>2.450000</td>\n",
       "      <td>9.076517</td>\n",
       "      <td>12</td>\n",
       "      <td>Masculino</td>\n",
       "      <td>Masculino 12</td>\n",
       "      <td>5.763259</td>\n",
       "    </tr>\n",
       "    <tr>\n",
       "      <th>108</th>\n",
       "      <td>tavin</td>\n",
       "      <td>2.560000</td>\n",
       "      <td>6.012539</td>\n",
       "      <td>15</td>\n",
       "      <td>Masculino</td>\n",
       "      <td>Masculino 15</td>\n",
       "      <td>4.286270</td>\n",
       "    </tr>\n",
       "    <tr>\n",
       "      <th>109</th>\n",
       "      <td>tcvyz</td>\n",
       "      <td>2.736842</td>\n",
       "      <td>6.714399</td>\n",
       "      <td>13</td>\n",
       "      <td>Femenino</td>\n",
       "      <td>Femenino 13</td>\n",
       "      <td>4.725620</td>\n",
       "    </tr>\n",
       "    <tr>\n",
       "      <th>110</th>\n",
       "      <td>tekwp</td>\n",
       "      <td>5.333333</td>\n",
       "      <td>4.290134</td>\n",
       "      <td>14</td>\n",
       "      <td>Masculino</td>\n",
       "      <td>Masculino 14</td>\n",
       "      <td>4.811734</td>\n",
       "    </tr>\n",
       "    <tr>\n",
       "      <th>113</th>\n",
       "      <td>thaho</td>\n",
       "      <td>3.391304</td>\n",
       "      <td>5.156927</td>\n",
       "      <td>13</td>\n",
       "      <td>Masculino</td>\n",
       "      <td>Masculino 13</td>\n",
       "      <td>4.274115</td>\n",
       "    </tr>\n",
       "    <tr>\n",
       "      <th>114</th>\n",
       "      <td>tinco</td>\n",
       "      <td>3.714286</td>\n",
       "      <td>9.401667</td>\n",
       "      <td>15</td>\n",
       "      <td>Femenino</td>\n",
       "      <td>Femenino 15</td>\n",
       "      <td>6.557976</td>\n",
       "    </tr>\n",
       "    <tr>\n",
       "      <th>115</th>\n",
       "      <td>tjfzy</td>\n",
       "      <td>5.400000</td>\n",
       "      <td>4.451076</td>\n",
       "      <td>13</td>\n",
       "      <td>Masculino</td>\n",
       "      <td>Masculino 13</td>\n",
       "      <td>4.925538</td>\n",
       "    </tr>\n",
       "    <tr>\n",
       "      <th>116</th>\n",
       "      <td>tqgyp</td>\n",
       "      <td>5.172414</td>\n",
       "      <td>2.497260</td>\n",
       "      <td>14</td>\n",
       "      <td>Masculino</td>\n",
       "      <td>Masculino 14</td>\n",
       "      <td>3.834837</td>\n",
       "    </tr>\n",
       "    <tr>\n",
       "      <th>118</th>\n",
       "      <td>ubmtx</td>\n",
       "      <td>4.190476</td>\n",
       "      <td>4.389396</td>\n",
       "      <td>14</td>\n",
       "      <td>Otro</td>\n",
       "      <td>Otro 14</td>\n",
       "      <td>4.289936</td>\n",
       "    </tr>\n",
       "    <tr>\n",
       "      <th>119</th>\n",
       "      <td>ucdvy</td>\n",
       "      <td>3.666667</td>\n",
       "      <td>4.551996</td>\n",
       "      <td>15</td>\n",
       "      <td>Masculino</td>\n",
       "      <td>Masculino 15</td>\n",
       "      <td>4.109331</td>\n",
       "    </tr>\n",
       "    <tr>\n",
       "      <th>120</th>\n",
       "      <td>uniee</td>\n",
       "      <td>3.130435</td>\n",
       "      <td>5.448670</td>\n",
       "      <td>13</td>\n",
       "      <td>Femenino</td>\n",
       "      <td>Femenino 13</td>\n",
       "      <td>4.289552</td>\n",
       "    </tr>\n",
       "    <tr>\n",
       "      <th>121</th>\n",
       "      <td>uzzpo</td>\n",
       "      <td>1.592593</td>\n",
       "      <td>4.991654</td>\n",
       "      <td>13</td>\n",
       "      <td>Femenino</td>\n",
       "      <td>Femenino 13</td>\n",
       "      <td>3.292123</td>\n",
       "    </tr>\n",
       "    <tr>\n",
       "      <th>122</th>\n",
       "      <td>vddlg</td>\n",
       "      <td>2.000000</td>\n",
       "      <td>4.500000</td>\n",
       "      <td>14</td>\n",
       "      <td>Femenino</td>\n",
       "      <td>Femenino 14</td>\n",
       "      <td>3.250000</td>\n",
       "    </tr>\n",
       "    <tr>\n",
       "      <th>124</th>\n",
       "      <td>vsxld</td>\n",
       "      <td>1.269231</td>\n",
       "      <td>6.712788</td>\n",
       "      <td>13</td>\n",
       "      <td>Femenino</td>\n",
       "      <td>Femenino 13</td>\n",
       "      <td>3.991009</td>\n",
       "    </tr>\n",
       "    <tr>\n",
       "      <th>125</th>\n",
       "      <td>vvqlm</td>\n",
       "      <td>3.045455</td>\n",
       "      <td>5.077514</td>\n",
       "      <td>14</td>\n",
       "      <td>Masculino</td>\n",
       "      <td>Masculino 14</td>\n",
       "      <td>4.061484</td>\n",
       "    </tr>\n",
       "    <tr>\n",
       "      <th>126</th>\n",
       "      <td>wjaxi</td>\n",
       "      <td>1.925926</td>\n",
       "      <td>4.900420</td>\n",
       "      <td>15</td>\n",
       "      <td>Masculino</td>\n",
       "      <td>Masculino 15</td>\n",
       "      <td>3.413173</td>\n",
       "    </tr>\n",
       "    <tr>\n",
       "      <th>127</th>\n",
       "      <td>wqmgq</td>\n",
       "      <td>6.000000</td>\n",
       "      <td>5.280436</td>\n",
       "      <td>15</td>\n",
       "      <td>Masculino</td>\n",
       "      <td>Masculino 15</td>\n",
       "      <td>5.640218</td>\n",
       "    </tr>\n",
       "    <tr>\n",
       "      <th>128</th>\n",
       "      <td>xbmmw</td>\n",
       "      <td>2.370370</td>\n",
       "      <td>5.337025</td>\n",
       "      <td>13</td>\n",
       "      <td>Masculino</td>\n",
       "      <td>Masculino 13</td>\n",
       "      <td>3.853698</td>\n",
       "    </tr>\n",
       "    <tr>\n",
       "      <th>129</th>\n",
       "      <td>xnpqf</td>\n",
       "      <td>1.454545</td>\n",
       "      <td>8.094085</td>\n",
       "      <td>14</td>\n",
       "      <td>Masculino</td>\n",
       "      <td>Masculino 14</td>\n",
       "      <td>4.774315</td>\n",
       "    </tr>\n",
       "    <tr>\n",
       "      <th>130</th>\n",
       "      <td>xtdrq</td>\n",
       "      <td>2.111111</td>\n",
       "      <td>10.569655</td>\n",
       "      <td>15</td>\n",
       "      <td>Femenino</td>\n",
       "      <td>Femenino 15</td>\n",
       "      <td>6.340383</td>\n",
       "    </tr>\n",
       "    <tr>\n",
       "      <th>131</th>\n",
       "      <td>yazod</td>\n",
       "      <td>2.160000</td>\n",
       "      <td>5.820794</td>\n",
       "      <td>15</td>\n",
       "      <td>Masculino</td>\n",
       "      <td>Masculino 15</td>\n",
       "      <td>3.990397</td>\n",
       "    </tr>\n",
       "    <tr>\n",
       "      <th>132</th>\n",
       "      <td>yfohf</td>\n",
       "      <td>2.727273</td>\n",
       "      <td>7.412602</td>\n",
       "      <td>14</td>\n",
       "      <td>Femenino</td>\n",
       "      <td>Femenino 14</td>\n",
       "      <td>5.069937</td>\n",
       "    </tr>\n",
       "    <tr>\n",
       "      <th>133</th>\n",
       "      <td>yvpmf</td>\n",
       "      <td>4.083333</td>\n",
       "      <td>4.227707</td>\n",
       "      <td>13</td>\n",
       "      <td>Masculino</td>\n",
       "      <td>Masculino 13</td>\n",
       "      <td>4.155520</td>\n",
       "    </tr>\n",
       "    <tr>\n",
       "      <th>134</th>\n",
       "      <td>yxewz</td>\n",
       "      <td>4.105263</td>\n",
       "      <td>8.988077</td>\n",
       "      <td>15</td>\n",
       "      <td>Femenino</td>\n",
       "      <td>Femenino 15</td>\n",
       "      <td>6.546670</td>\n",
       "    </tr>\n",
       "    <tr>\n",
       "      <th>135</th>\n",
       "      <td>yxjji</td>\n",
       "      <td>6.166667</td>\n",
       "      <td>9.882353</td>\n",
       "      <td>15</td>\n",
       "      <td>Masculino</td>\n",
       "      <td>Masculino 15</td>\n",
       "      <td>8.024510</td>\n",
       "    </tr>\n",
       "    <tr>\n",
       "      <th>136</th>\n",
       "      <td>yyvas</td>\n",
       "      <td>4.136364</td>\n",
       "      <td>6.905856</td>\n",
       "      <td>12</td>\n",
       "      <td>Femenino</td>\n",
       "      <td>Femenino 12</td>\n",
       "      <td>5.521110</td>\n",
       "    </tr>\n",
       "    <tr>\n",
       "      <th>137</th>\n",
       "      <td>zbgwk</td>\n",
       "      <td>4.933333</td>\n",
       "      <td>5.978549</td>\n",
       "      <td>15</td>\n",
       "      <td>Otro</td>\n",
       "      <td>Otro 15</td>\n",
       "      <td>5.455941</td>\n",
       "    </tr>\n",
       "    <tr>\n",
       "      <th>138</th>\n",
       "      <td>zcibf</td>\n",
       "      <td>1.695652</td>\n",
       "      <td>7.610657</td>\n",
       "      <td>13</td>\n",
       "      <td>Femenino</td>\n",
       "      <td>Femenino 13</td>\n",
       "      <td>4.653155</td>\n",
       "    </tr>\n",
       "    <tr>\n",
       "      <th>139</th>\n",
       "      <td>zdnso</td>\n",
       "      <td>1.925926</td>\n",
       "      <td>5.407341</td>\n",
       "      <td>15</td>\n",
       "      <td>Femenino</td>\n",
       "      <td>Femenino 15</td>\n",
       "      <td>3.666633</td>\n",
       "    </tr>\n",
       "    <tr>\n",
       "      <th>141</th>\n",
       "      <td>zwzfv</td>\n",
       "      <td>3.043478</td>\n",
       "      <td>8.120519</td>\n",
       "      <td>14</td>\n",
       "      <td>Masculino</td>\n",
       "      <td>Masculino 14</td>\n",
       "      <td>5.581999</td>\n",
       "    </tr>\n",
       "    <tr>\n",
       "      <th>142</th>\n",
       "      <td>zxvkj</td>\n",
       "      <td>2.000000</td>\n",
       "      <td>5.417953</td>\n",
       "      <td>14</td>\n",
       "      <td>Femenino</td>\n",
       "      <td>Femenino 14</td>\n",
       "      <td>3.708977</td>\n",
       "    </tr>\n",
       "  </tbody>\n",
       "</table>\n",
       "</div>"
      ],
      "text/plain": [
       "     token  intentos     tiempo  G03Q01     G03Q02   edad_genero  \\\n",
       "0    accul  3.650000   7.387432      14  Masculino  Masculino 14   \n",
       "2    aotlm  2.250000   8.364646      15  Masculino  Masculino 15   \n",
       "3    asopk  1.885714   5.666881      14  Masculino  Masculino 14   \n",
       "4    atlzs  2.423077   5.272170      14   Femenino   Femenino 14   \n",
       "5    auvqa  2.043478   6.953159      14   Femenino   Femenino 14   \n",
       "6    bajbm  2.277778  10.741531      12   Femenino   Femenino 12   \n",
       "7    bdwyj  2.950000   6.006920      13  Masculino  Masculino 13   \n",
       "8    bhyhw  1.892857   5.918490      14  Masculino  Masculino 14   \n",
       "9    bjvnt  2.700000   3.000000      15   Femenino   Femenino 15   \n",
       "10   blvkx  3.000000  10.174073      13       Otro       Otro 13   \n",
       "11   buvgs  2.636364   6.534245      12   Femenino   Femenino 12   \n",
       "13   cmbfi  1.516129   5.883715      13  Masculino  Masculino 13   \n",
       "14   cojqb  3.166667   9.861497       8   Femenino    Femenino 8   \n",
       "16   dunul  1.586207   6.514073      14       Otro       Otro 14   \n",
       "18   dwqwi  1.888889   7.042074      13   Femenino   Femenino 13   \n",
       "19   eayrh  2.739130   5.227795      13   Femenino   Femenino 13   \n",
       "20   edxmq  4.950000   4.876273      14  Masculino  Masculino 14   \n",
       "21   ejeuw  2.285714   5.498622      13   Femenino   Femenino 13   \n",
       "22   epjcx  5.555556   6.394231      12  Masculino  Masculino 12   \n",
       "23   epqkm  2.384615   6.644118      14  Masculino  Masculino 14   \n",
       "24   eprdu  1.714286   4.852870      14  Masculino  Masculino 14   \n",
       "26   ewqbs  3.136364   5.388147      14  Masculino  Masculino 14   \n",
       "27   fbldj  2.037037   5.926862      12   Femenino   Femenino 12   \n",
       "28   fivin  2.000000   5.590452      15   Femenino   Femenino 15   \n",
       "29   fkmtp  2.720000   6.539927      13  Masculino  Masculino 13   \n",
       "30   fmtrq  1.913043   6.209523      13  Masculino  Masculino 13   \n",
       "31   fmupf  2.166667   7.103058      12  Masculino  Masculino 12   \n",
       "32   ftpnb  1.571429   4.317314      14  Masculino  Masculino 14   \n",
       "34   gcpze  1.400000   4.378168      13  Masculino  Masculino 13   \n",
       "35   gdljy  4.176471   6.651510      14   Femenino   Femenino 14   \n",
       "36   gguuc  4.350000   3.698123      15   Femenino   Femenino 15   \n",
       "37   gleqe  2.040000   5.278054      13  Masculino  Masculino 13   \n",
       "39   grkij  2.478261   6.583177      14   Femenino   Femenino 14   \n",
       "40   gzgfk  4.666667   3.916667      13   Femenino   Femenino 13   \n",
       "41   hcbyl  3.200000   6.363011      13       Otro       Otro 13   \n",
       "42   hjpbw  2.684211  10.379039      13  Masculino  Masculino 13   \n",
       "43   hpdxj  3.142857   4.500754      14  Masculino  Masculino 14   \n",
       "44   hqmhq  1.666667   8.195984      15  Masculino  Masculino 15   \n",
       "45   huyyb  2.684211   7.531806      14  Masculino  Masculino 14   \n",
       "46   icllt  2.217391   8.219693      12   Femenino   Femenino 12   \n",
       "47   idmzi  3.571429   8.093333      14  Masculino  Masculino 14   \n",
       "48   ikcar  1.863636   5.853960      13   Femenino   Femenino 13   \n",
       "49   ipdcp  2.318182   4.021263      14  Masculino  Masculino 14   \n",
       "50   itkas  4.500000   5.241525      12  Masculino  Masculino 12   \n",
       "51   ixrux  3.550000   7.157093      12  Masculino  Masculino 12   \n",
       "52   jhbuv  2.428571   6.425109      15  Masculino  Masculino 15   \n",
       "53   jozyx  3.352941   4.979539      14   Femenino   Femenino 14   \n",
       "54   khadt  2.000000   5.666210      14   Femenino   Femenino 14   \n",
       "55   khfha  4.045455   6.318751      13   Femenino   Femenino 13   \n",
       "56   kkliq  3.125000   9.435240      14   Femenino   Femenino 14   \n",
       "57   kkoif  1.785714   5.555407      13   Femenino   Femenino 13   \n",
       "58   kmqou  2.863636   4.042614      13       Otro       Otro 13   \n",
       "59   knewj  2.000000  10.150794      15   Femenino   Femenino 15   \n",
       "60   krahz  1.555556   7.743029      13   Femenino   Femenino 13   \n",
       "61   kzles  1.520000   6.373680      12   Femenino   Femenino 12   \n",
       "62   lhrbj  1.958333   7.676746      15   Femenino   Femenino 15   \n",
       "63   loemd  1.592593   8.376098      14       Otro       Otro 14   \n",
       "64   lohyo  4.476190   3.659881      12   Femenino   Femenino 12   \n",
       "65   lwryl  2.736842   7.000213      14  Masculino  Masculino 14   \n",
       "66   mewpz  3.681818   5.905386      12   Femenino   Femenino 12   \n",
       "67   mgaak  1.400000   4.055539      15  Masculino  Masculino 15   \n",
       "68   mjiso  1.440000   7.447546      15   Femenino   Femenino 15   \n",
       "69   mymho  4.833333   6.705357      15   Femenino   Femenino 15   \n",
       "70   ngavz  2.485714   3.264442      14  Masculino  Masculino 14   \n",
       "71   nhbnj  5.052632   6.987273      12  Masculino  Masculino 12   \n",
       "74   nuasx  3.800000   5.669475      13  Masculino  Masculino 13   \n",
       "75   oahey  1.689655   5.888230      13  Masculino  Masculino 13   \n",
       "77   onyep  3.703704   4.852661      14   Femenino   Femenino 14   \n",
       "78   orjyn  4.083333   4.978347      12   Femenino   Femenino 12   \n",
       "79   pbgky  2.250000   5.538329      13  Masculino  Masculino 13   \n",
       "80   pbwkf  2.583333   4.321943      13  Masculino  Masculino 13   \n",
       "81   pleui  1.814815   6.004582      13  Masculino  Masculino 13   \n",
       "82   pqwaf  1.321429   9.510853      12  Masculino  Masculino 12   \n",
       "83   prpej  2.315789   8.875633      12   Femenino   Femenino 12   \n",
       "84   psido  2.590909   7.010320      14  Masculino  Masculino 14   \n",
       "85   ptmkr  3.956522   4.829527      13  Masculino  Masculino 13   \n",
       "86   pygoc  1.533333   4.913242      14       Otro       Otro 14   \n",
       "87   pzfdd  2.450000   5.331609      13  Masculino  Masculino 13   \n",
       "89   qeqyj  2.200000   4.537446      13  Masculino  Masculino 13   \n",
       "90   qfsdj  1.275862   5.958268      15  Masculino  Masculino 15   \n",
       "91   qgcgc  2.296296   5.285877      12  Masculino  Masculino 12   \n",
       "92   qwnpf  2.736842   9.060052      12  Masculino  Masculino 12   \n",
       "93   raqdt  1.909091   6.751498      13   Femenino   Femenino 13   \n",
       "94   rdiaf  3.607143   4.537196      14  Masculino  Masculino 14   \n",
       "95   rfofs  6.250000   6.500000      13  Masculino  Masculino 13   \n",
       "96   rkmrw  2.000000   8.145612      12   Femenino   Femenino 12   \n",
       "97   rqaby  3.933333   7.260730      12  Masculino  Masculino 12   \n",
       "99   rsjxu  6.071429   5.637196      12       Otro       Otro 12   \n",
       "101  sbexy  4.538462  10.997455      12   Femenino   Femenino 12   \n",
       "103  srjon  1.333333   5.876009      13  Masculino  Masculino 13   \n",
       "104  stiry  1.368421   7.055726      15   Femenino   Femenino 15   \n",
       "105  swvxx  3.631579   6.619645      14  Masculino  Masculino 14   \n",
       "106  sxipu  4.368421   4.511075      14   Femenino   Femenino 14   \n",
       "107  sybwc  2.450000   9.076517      12  Masculino  Masculino 12   \n",
       "108  tavin  2.560000   6.012539      15  Masculino  Masculino 15   \n",
       "109  tcvyz  2.736842   6.714399      13   Femenino   Femenino 13   \n",
       "110  tekwp  5.333333   4.290134      14  Masculino  Masculino 14   \n",
       "113  thaho  3.391304   5.156927      13  Masculino  Masculino 13   \n",
       "114  tinco  3.714286   9.401667      15   Femenino   Femenino 15   \n",
       "115  tjfzy  5.400000   4.451076      13  Masculino  Masculino 13   \n",
       "116  tqgyp  5.172414   2.497260      14  Masculino  Masculino 14   \n",
       "118  ubmtx  4.190476   4.389396      14       Otro       Otro 14   \n",
       "119  ucdvy  3.666667   4.551996      15  Masculino  Masculino 15   \n",
       "120  uniee  3.130435   5.448670      13   Femenino   Femenino 13   \n",
       "121  uzzpo  1.592593   4.991654      13   Femenino   Femenino 13   \n",
       "122  vddlg  2.000000   4.500000      14   Femenino   Femenino 14   \n",
       "124  vsxld  1.269231   6.712788      13   Femenino   Femenino 13   \n",
       "125  vvqlm  3.045455   5.077514      14  Masculino  Masculino 14   \n",
       "126  wjaxi  1.925926   4.900420      15  Masculino  Masculino 15   \n",
       "127  wqmgq  6.000000   5.280436      15  Masculino  Masculino 15   \n",
       "128  xbmmw  2.370370   5.337025      13  Masculino  Masculino 13   \n",
       "129  xnpqf  1.454545   8.094085      14  Masculino  Masculino 14   \n",
       "130  xtdrq  2.111111  10.569655      15   Femenino   Femenino 15   \n",
       "131  yazod  2.160000   5.820794      15  Masculino  Masculino 15   \n",
       "132  yfohf  2.727273   7.412602      14   Femenino   Femenino 14   \n",
       "133  yvpmf  4.083333   4.227707      13  Masculino  Masculino 13   \n",
       "134  yxewz  4.105263   8.988077      15   Femenino   Femenino 15   \n",
       "135  yxjji  6.166667   9.882353      15  Masculino  Masculino 15   \n",
       "136  yyvas  4.136364   6.905856      12   Femenino   Femenino 12   \n",
       "137  zbgwk  4.933333   5.978549      15       Otro       Otro 15   \n",
       "138  zcibf  1.695652   7.610657      13   Femenino   Femenino 13   \n",
       "139  zdnso  1.925926   5.407341      15   Femenino   Femenino 15   \n",
       "141  zwzfv  3.043478   8.120519      14  Masculino  Masculino 14   \n",
       "142  zxvkj  2.000000   5.417953      14   Femenino   Femenino 14   \n",
       "\n",
       "     mezcla_intentos_tiempo  \n",
       "0                  5.518716  \n",
       "2                  5.307323  \n",
       "3                  3.776297  \n",
       "4                  3.847624  \n",
       "5                  4.498319  \n",
       "6                  6.509654  \n",
       "7                  4.478460  \n",
       "8                  3.905674  \n",
       "9                  2.850000  \n",
       "10                 6.587036  \n",
       "11                 4.585304  \n",
       "13                 3.699922  \n",
       "14                 6.514082  \n",
       "16                 4.050140  \n",
       "18                 4.465481  \n",
       "19                 3.983462  \n",
       "20                 4.913137  \n",
       "21                 3.892168  \n",
       "22                 5.974893  \n",
       "23                 4.514367  \n",
       "24                 3.283578  \n",
       "26                 4.262255  \n",
       "27                 3.981950  \n",
       "28                 3.795226  \n",
       "29                 4.629963  \n",
       "30                 4.061283  \n",
       "31                 4.634862  \n",
       "32                 2.944372  \n",
       "34                 2.889084  \n",
       "35                 5.413990  \n",
       "36                 4.024061  \n",
       "37                 3.659027  \n",
       "39                 4.530719  \n",
       "40                 4.291667  \n",
       "41                 4.781505  \n",
       "42                 6.531625  \n",
       "43                 3.821806  \n",
       "44                 4.931326  \n",
       "45                 5.108008  \n",
       "46                 5.218542  \n",
       "47                 5.832381  \n",
       "48                 3.858798  \n",
       "49                 3.169722  \n",
       "50                 4.870763  \n",
       "51                 5.353546  \n",
       "52                 4.426840  \n",
       "53                 4.166240  \n",
       "54                 3.833105  \n",
       "55                 5.182103  \n",
       "56                 6.280120  \n",
       "57                 3.670561  \n",
       "58                 3.453125  \n",
       "59                 6.075397  \n",
       "60                 4.649292  \n",
       "61                 3.946840  \n",
       "62                 4.817540  \n",
       "63                 4.984345  \n",
       "64                 4.068036  \n",
       "65                 4.868527  \n",
       "66                 4.793602  \n",
       "67                 2.727770  \n",
       "68                 4.443773  \n",
       "69                 5.769345  \n",
       "70                 2.875078  \n",
       "71                 6.019952  \n",
       "74                 4.734738  \n",
       "75                 3.788943  \n",
       "77                 4.278183  \n",
       "78                 4.530840  \n",
       "79                 3.894165  \n",
       "80                 3.452638  \n",
       "81                 3.909699  \n",
       "82                 5.416141  \n",
       "83                 5.595711  \n",
       "84                 4.800615  \n",
       "85                 4.393024  \n",
       "86                 3.223287  \n",
       "87                 3.890805  \n",
       "89                 3.368723  \n",
       "90                 3.617065  \n",
       "91                 3.791087  \n",
       "92                 5.898447  \n",
       "93                 4.330294  \n",
       "94                 4.072170  \n",
       "95                 6.375000  \n",
       "96                 5.072806  \n",
       "97                 5.597032  \n",
       "99                 5.854312  \n",
       "101                7.767958  \n",
       "103                3.604671  \n",
       "104                4.212074  \n",
       "105                5.125612  \n",
       "106                4.439748  \n",
       "107                5.763259  \n",
       "108                4.286270  \n",
       "109                4.725620  \n",
       "110                4.811734  \n",
       "113                4.274115  \n",
       "114                6.557976  \n",
       "115                4.925538  \n",
       "116                3.834837  \n",
       "118                4.289936  \n",
       "119                4.109331  \n",
       "120                4.289552  \n",
       "121                3.292123  \n",
       "122                3.250000  \n",
       "124                3.991009  \n",
       "125                4.061484  \n",
       "126                3.413173  \n",
       "127                5.640218  \n",
       "128                3.853698  \n",
       "129                4.774315  \n",
       "130                6.340383  \n",
       "131                3.990397  \n",
       "132                5.069937  \n",
       "133                4.155520  \n",
       "134                6.546670  \n",
       "135                8.024510  \n",
       "136                5.521110  \n",
       "137                5.455941  \n",
       "138                4.653155  \n",
       "139                3.666633  \n",
       "141                5.581999  \n",
       "142                3.708977  "
      ]
     },
     "execution_count": 54,
     "metadata": {},
     "output_type": "execute_result"
    }
   ],
   "source": [
    "# Calcular los límites de los valores atípicos\n",
    "# regla empírica, que establece que los valores atípicos se encuentran a más de 3 desviaciones estándar de la media.\n",
    "\n",
    "Q1_edad = df_global['G03Q01'].quantile(0.25)\n",
    "Q3_edad = df_global['G03Q01'].quantile(0.75)\n",
    "IQR_edad = Q3_edad - Q1_edad\n",
    "outlier_threshold_edad = Q3_edad + 1.5*IQR_edad\n",
    "\n",
    "Q1_intentos = df_global['intentos'].quantile(0.25)\n",
    "Q3_intentos = df_global['intentos'].quantile(0.75)\n",
    "IQR_intentos = Q3_intentos - Q1_intentos\n",
    "outlier_threshold_intentos = Q3_intentos + 1.5*IQR_intentos\n",
    "\n",
    "Q1_tiempo = df_global['tiempo'].quantile(0.25)\n",
    "Q3_tiempo = df_global['tiempo'].quantile(0.75)\n",
    "IQR_tiempo = Q3_tiempo - Q1_tiempo\n",
    "outlier_threshold_tiempo = Q3_tiempo + 1.5*IQR_tiempo\n",
    "\n",
    "df = df_global[(df_global['G03Q01'] <= outlier_threshold_edad) & (df_global['intentos'] <= outlier_threshold_intentos) & (df_global['tiempo'] <= outlier_threshold_tiempo)]\n",
    "\n",
    "# Crear una nueva columna que represente la mezcla al 50% de intentos y tiempo\n",
    "df['mezcla_intentos_tiempo'] = (df['intentos'] + df['tiempo']) / 2\n",
    "\n",
    "#df['mezcla_intentos_tiempo'] = df['intentos']*0.3 + df['tiempo']*0.7\n",
    "\n",
    "#df['mezcla_intentos_tiempo'] = df['intentos']*0.7 + df['tiempo']*0.3\n",
    "\n",
    "\n",
    "df\n"
   ]
  },
  {
   "cell_type": "code",
   "execution_count": 55,
   "metadata": {},
   "outputs": [
    {
     "name": "stderr",
     "output_type": "stream",
     "text": [
      "C:\\Users\\david\\AppData\\Local\\Temp\\ipykernel_27860\\2584987067.py:6: SettingWithCopyWarning:\n",
      "\n",
      "\n",
      "A value is trying to be set on a copy of a slice from a DataFrame.\n",
      "Try using .loc[row_indexer,col_indexer] = value instead\n",
      "\n",
      "See the caveats in the documentation: https://pandas.pydata.org/pandas-docs/stable/user_guide/indexing.html#returning-a-view-versus-a-copy\n",
      "\n"
     ]
    },
    {
     "data": {
      "text/html": [
       "<div>\n",
       "<style scoped>\n",
       "    .dataframe tbody tr th:only-of-type {\n",
       "        vertical-align: middle;\n",
       "    }\n",
       "\n",
       "    .dataframe tbody tr th {\n",
       "        vertical-align: top;\n",
       "    }\n",
       "\n",
       "    .dataframe thead th {\n",
       "        text-align: right;\n",
       "    }\n",
       "</style>\n",
       "<table border=\"1\" class=\"dataframe\">\n",
       "  <thead>\n",
       "    <tr style=\"text-align: right;\">\n",
       "      <th></th>\n",
       "      <th>token</th>\n",
       "      <th>intentos</th>\n",
       "      <th>tiempo</th>\n",
       "      <th>G03Q01</th>\n",
       "      <th>G03Q02</th>\n",
       "      <th>edad_genero</th>\n",
       "      <th>mezcla_intentos_tiempo</th>\n",
       "      <th>errores</th>\n",
       "    </tr>\n",
       "  </thead>\n",
       "  <tbody>\n",
       "    <tr>\n",
       "      <th>0</th>\n",
       "      <td>accul</td>\n",
       "      <td>3.650000</td>\n",
       "      <td>7.387432</td>\n",
       "      <td>14</td>\n",
       "      <td>Masculino</td>\n",
       "      <td>Masculino 14</td>\n",
       "      <td>5.518716</td>\n",
       "      <td>7.0</td>\n",
       "    </tr>\n",
       "    <tr>\n",
       "      <th>2</th>\n",
       "      <td>aotlm</td>\n",
       "      <td>2.250000</td>\n",
       "      <td>8.364646</td>\n",
       "      <td>15</td>\n",
       "      <td>Masculino</td>\n",
       "      <td>Masculino 15</td>\n",
       "      <td>5.307323</td>\n",
       "      <td>3.0</td>\n",
       "    </tr>\n",
       "    <tr>\n",
       "      <th>3</th>\n",
       "      <td>asopk</td>\n",
       "      <td>1.885714</td>\n",
       "      <td>5.666881</td>\n",
       "      <td>14</td>\n",
       "      <td>Masculino</td>\n",
       "      <td>Masculino 14</td>\n",
       "      <td>3.776297</td>\n",
       "      <td>13.0</td>\n",
       "    </tr>\n",
       "    <tr>\n",
       "      <th>4</th>\n",
       "      <td>atlzs</td>\n",
       "      <td>2.423077</td>\n",
       "      <td>5.272170</td>\n",
       "      <td>14</td>\n",
       "      <td>Femenino</td>\n",
       "      <td>Femenino 14</td>\n",
       "      <td>3.847624</td>\n",
       "      <td>7.0</td>\n",
       "    </tr>\n",
       "    <tr>\n",
       "      <th>5</th>\n",
       "      <td>auvqa</td>\n",
       "      <td>2.043478</td>\n",
       "      <td>6.953159</td>\n",
       "      <td>14</td>\n",
       "      <td>Femenino</td>\n",
       "      <td>Femenino 14</td>\n",
       "      <td>4.498319</td>\n",
       "      <td>11.0</td>\n",
       "    </tr>\n",
       "    <tr>\n",
       "      <th>6</th>\n",
       "      <td>bajbm</td>\n",
       "      <td>2.277778</td>\n",
       "      <td>10.741531</td>\n",
       "      <td>12</td>\n",
       "      <td>Femenino</td>\n",
       "      <td>Femenino 12</td>\n",
       "      <td>6.509654</td>\n",
       "      <td>6.0</td>\n",
       "    </tr>\n",
       "    <tr>\n",
       "      <th>7</th>\n",
       "      <td>bdwyj</td>\n",
       "      <td>2.950000</td>\n",
       "      <td>6.006920</td>\n",
       "      <td>13</td>\n",
       "      <td>Masculino</td>\n",
       "      <td>Masculino 13</td>\n",
       "      <td>4.478460</td>\n",
       "      <td>8.0</td>\n",
       "    </tr>\n",
       "    <tr>\n",
       "      <th>8</th>\n",
       "      <td>bhyhw</td>\n",
       "      <td>1.892857</td>\n",
       "      <td>5.918490</td>\n",
       "      <td>14</td>\n",
       "      <td>Masculino</td>\n",
       "      <td>Masculino 14</td>\n",
       "      <td>3.905674</td>\n",
       "      <td>14.0</td>\n",
       "    </tr>\n",
       "    <tr>\n",
       "      <th>9</th>\n",
       "      <td>bjvnt</td>\n",
       "      <td>2.700000</td>\n",
       "      <td>3.000000</td>\n",
       "      <td>15</td>\n",
       "      <td>Femenino</td>\n",
       "      <td>Femenino 15</td>\n",
       "      <td>2.850000</td>\n",
       "      <td>0.0</td>\n",
       "    </tr>\n",
       "    <tr>\n",
       "      <th>10</th>\n",
       "      <td>blvkx</td>\n",
       "      <td>3.000000</td>\n",
       "      <td>10.174073</td>\n",
       "      <td>13</td>\n",
       "      <td>Otro</td>\n",
       "      <td>Otro 13</td>\n",
       "      <td>6.587036</td>\n",
       "      <td>6.0</td>\n",
       "    </tr>\n",
       "    <tr>\n",
       "      <th>11</th>\n",
       "      <td>buvgs</td>\n",
       "      <td>2.636364</td>\n",
       "      <td>6.534245</td>\n",
       "      <td>12</td>\n",
       "      <td>Femenino</td>\n",
       "      <td>Femenino 12</td>\n",
       "      <td>4.585304</td>\n",
       "      <td>11.0</td>\n",
       "    </tr>\n",
       "    <tr>\n",
       "      <th>13</th>\n",
       "      <td>cmbfi</td>\n",
       "      <td>1.516129</td>\n",
       "      <td>5.883715</td>\n",
       "      <td>13</td>\n",
       "      <td>Masculino</td>\n",
       "      <td>Masculino 13</td>\n",
       "      <td>3.699922</td>\n",
       "      <td>10.0</td>\n",
       "    </tr>\n",
       "    <tr>\n",
       "      <th>14</th>\n",
       "      <td>cojqb</td>\n",
       "      <td>3.166667</td>\n",
       "      <td>9.861497</td>\n",
       "      <td>8</td>\n",
       "      <td>Femenino</td>\n",
       "      <td>Femenino 8</td>\n",
       "      <td>6.514082</td>\n",
       "      <td>6.0</td>\n",
       "    </tr>\n",
       "    <tr>\n",
       "      <th>16</th>\n",
       "      <td>dunul</td>\n",
       "      <td>1.586207</td>\n",
       "      <td>6.514073</td>\n",
       "      <td>14</td>\n",
       "      <td>Otro</td>\n",
       "      <td>Otro 14</td>\n",
       "      <td>4.050140</td>\n",
       "      <td>11.0</td>\n",
       "    </tr>\n",
       "    <tr>\n",
       "      <th>18</th>\n",
       "      <td>dwqwi</td>\n",
       "      <td>1.888889</td>\n",
       "      <td>7.042074</td>\n",
       "      <td>13</td>\n",
       "      <td>Femenino</td>\n",
       "      <td>Femenino 13</td>\n",
       "      <td>4.465481</td>\n",
       "      <td>13.0</td>\n",
       "    </tr>\n",
       "    <tr>\n",
       "      <th>19</th>\n",
       "      <td>eayrh</td>\n",
       "      <td>2.739130</td>\n",
       "      <td>5.227795</td>\n",
       "      <td>13</td>\n",
       "      <td>Femenino</td>\n",
       "      <td>Femenino 13</td>\n",
       "      <td>3.983462</td>\n",
       "      <td>13.0</td>\n",
       "    </tr>\n",
       "    <tr>\n",
       "      <th>20</th>\n",
       "      <td>edxmq</td>\n",
       "      <td>4.950000</td>\n",
       "      <td>4.876273</td>\n",
       "      <td>14</td>\n",
       "      <td>Masculino</td>\n",
       "      <td>Masculino 14</td>\n",
       "      <td>4.913137</td>\n",
       "      <td>9.0</td>\n",
       "    </tr>\n",
       "    <tr>\n",
       "      <th>21</th>\n",
       "      <td>ejeuw</td>\n",
       "      <td>2.285714</td>\n",
       "      <td>5.498622</td>\n",
       "      <td>13</td>\n",
       "      <td>Femenino</td>\n",
       "      <td>Femenino 13</td>\n",
       "      <td>3.892168</td>\n",
       "      <td>6.0</td>\n",
       "    </tr>\n",
       "    <tr>\n",
       "      <th>22</th>\n",
       "      <td>epjcx</td>\n",
       "      <td>5.555556</td>\n",
       "      <td>6.394231</td>\n",
       "      <td>12</td>\n",
       "      <td>Masculino</td>\n",
       "      <td>Masculino 12</td>\n",
       "      <td>5.974893</td>\n",
       "      <td>0.0</td>\n",
       "    </tr>\n",
       "    <tr>\n",
       "      <th>23</th>\n",
       "      <td>epqkm</td>\n",
       "      <td>2.384615</td>\n",
       "      <td>6.644118</td>\n",
       "      <td>14</td>\n",
       "      <td>Masculino</td>\n",
       "      <td>Masculino 14</td>\n",
       "      <td>4.514367</td>\n",
       "      <td>3.0</td>\n",
       "    </tr>\n",
       "    <tr>\n",
       "      <th>24</th>\n",
       "      <td>eprdu</td>\n",
       "      <td>1.714286</td>\n",
       "      <td>4.852870</td>\n",
       "      <td>14</td>\n",
       "      <td>Masculino</td>\n",
       "      <td>Masculino 14</td>\n",
       "      <td>3.283578</td>\n",
       "      <td>9.0</td>\n",
       "    </tr>\n",
       "    <tr>\n",
       "      <th>26</th>\n",
       "      <td>ewqbs</td>\n",
       "      <td>3.136364</td>\n",
       "      <td>5.388147</td>\n",
       "      <td>14</td>\n",
       "      <td>Masculino</td>\n",
       "      <td>Masculino 14</td>\n",
       "      <td>4.262255</td>\n",
       "      <td>11.0</td>\n",
       "    </tr>\n",
       "    <tr>\n",
       "      <th>27</th>\n",
       "      <td>fbldj</td>\n",
       "      <td>2.037037</td>\n",
       "      <td>5.926862</td>\n",
       "      <td>12</td>\n",
       "      <td>Femenino</td>\n",
       "      <td>Femenino 12</td>\n",
       "      <td>3.981950</td>\n",
       "      <td>12.0</td>\n",
       "    </tr>\n",
       "    <tr>\n",
       "      <th>28</th>\n",
       "      <td>fivin</td>\n",
       "      <td>2.000000</td>\n",
       "      <td>5.590452</td>\n",
       "      <td>15</td>\n",
       "      <td>Femenino</td>\n",
       "      <td>Femenino 15</td>\n",
       "      <td>3.795226</td>\n",
       "      <td>4.0</td>\n",
       "    </tr>\n",
       "    <tr>\n",
       "      <th>29</th>\n",
       "      <td>fkmtp</td>\n",
       "      <td>2.720000</td>\n",
       "      <td>6.539927</td>\n",
       "      <td>13</td>\n",
       "      <td>Masculino</td>\n",
       "      <td>Masculino 13</td>\n",
       "      <td>4.629963</td>\n",
       "      <td>11.0</td>\n",
       "    </tr>\n",
       "    <tr>\n",
       "      <th>30</th>\n",
       "      <td>fmtrq</td>\n",
       "      <td>1.913043</td>\n",
       "      <td>6.209523</td>\n",
       "      <td>13</td>\n",
       "      <td>Masculino</td>\n",
       "      <td>Masculino 13</td>\n",
       "      <td>4.061283</td>\n",
       "      <td>10.0</td>\n",
       "    </tr>\n",
       "    <tr>\n",
       "      <th>31</th>\n",
       "      <td>fmupf</td>\n",
       "      <td>2.166667</td>\n",
       "      <td>7.103058</td>\n",
       "      <td>12</td>\n",
       "      <td>Masculino</td>\n",
       "      <td>Masculino 12</td>\n",
       "      <td>4.634862</td>\n",
       "      <td>11.0</td>\n",
       "    </tr>\n",
       "    <tr>\n",
       "      <th>32</th>\n",
       "      <td>ftpnb</td>\n",
       "      <td>1.571429</td>\n",
       "      <td>4.317314</td>\n",
       "      <td>14</td>\n",
       "      <td>Masculino</td>\n",
       "      <td>Masculino 14</td>\n",
       "      <td>2.944372</td>\n",
       "      <td>11.0</td>\n",
       "    </tr>\n",
       "    <tr>\n",
       "      <th>34</th>\n",
       "      <td>gcpze</td>\n",
       "      <td>1.400000</td>\n",
       "      <td>4.378168</td>\n",
       "      <td>13</td>\n",
       "      <td>Masculino</td>\n",
       "      <td>Masculino 13</td>\n",
       "      <td>2.889084</td>\n",
       "      <td>13.0</td>\n",
       "    </tr>\n",
       "    <tr>\n",
       "      <th>35</th>\n",
       "      <td>gdljy</td>\n",
       "      <td>4.176471</td>\n",
       "      <td>6.651510</td>\n",
       "      <td>14</td>\n",
       "      <td>Femenino</td>\n",
       "      <td>Femenino 14</td>\n",
       "      <td>5.413990</td>\n",
       "      <td>5.0</td>\n",
       "    </tr>\n",
       "    <tr>\n",
       "      <th>36</th>\n",
       "      <td>gguuc</td>\n",
       "      <td>4.350000</td>\n",
       "      <td>3.698123</td>\n",
       "      <td>15</td>\n",
       "      <td>Femenino</td>\n",
       "      <td>Femenino 15</td>\n",
       "      <td>4.024061</td>\n",
       "      <td>9.0</td>\n",
       "    </tr>\n",
       "    <tr>\n",
       "      <th>37</th>\n",
       "      <td>gleqe</td>\n",
       "      <td>2.040000</td>\n",
       "      <td>5.278054</td>\n",
       "      <td>13</td>\n",
       "      <td>Masculino</td>\n",
       "      <td>Masculino 13</td>\n",
       "      <td>3.659027</td>\n",
       "      <td>6.0</td>\n",
       "    </tr>\n",
       "    <tr>\n",
       "      <th>39</th>\n",
       "      <td>grkij</td>\n",
       "      <td>2.478261</td>\n",
       "      <td>6.583177</td>\n",
       "      <td>14</td>\n",
       "      <td>Femenino</td>\n",
       "      <td>Femenino 14</td>\n",
       "      <td>4.530719</td>\n",
       "      <td>9.0</td>\n",
       "    </tr>\n",
       "    <tr>\n",
       "      <th>40</th>\n",
       "      <td>gzgfk</td>\n",
       "      <td>4.666667</td>\n",
       "      <td>3.916667</td>\n",
       "      <td>13</td>\n",
       "      <td>Femenino</td>\n",
       "      <td>Femenino 13</td>\n",
       "      <td>4.291667</td>\n",
       "      <td>0.0</td>\n",
       "    </tr>\n",
       "    <tr>\n",
       "      <th>41</th>\n",
       "      <td>hcbyl</td>\n",
       "      <td>3.200000</td>\n",
       "      <td>6.363011</td>\n",
       "      <td>13</td>\n",
       "      <td>Otro</td>\n",
       "      <td>Otro 13</td>\n",
       "      <td>4.781505</td>\n",
       "      <td>9.0</td>\n",
       "    </tr>\n",
       "    <tr>\n",
       "      <th>42</th>\n",
       "      <td>hjpbw</td>\n",
       "      <td>2.684211</td>\n",
       "      <td>10.379039</td>\n",
       "      <td>13</td>\n",
       "      <td>Masculino</td>\n",
       "      <td>Masculino 13</td>\n",
       "      <td>6.531625</td>\n",
       "      <td>9.0</td>\n",
       "    </tr>\n",
       "    <tr>\n",
       "      <th>43</th>\n",
       "      <td>hpdxj</td>\n",
       "      <td>3.142857</td>\n",
       "      <td>4.500754</td>\n",
       "      <td>14</td>\n",
       "      <td>Masculino</td>\n",
       "      <td>Masculino 14</td>\n",
       "      <td>3.821806</td>\n",
       "      <td>3.0</td>\n",
       "    </tr>\n",
       "    <tr>\n",
       "      <th>44</th>\n",
       "      <td>hqmhq</td>\n",
       "      <td>1.666667</td>\n",
       "      <td>8.195984</td>\n",
       "      <td>15</td>\n",
       "      <td>Masculino</td>\n",
       "      <td>Masculino 15</td>\n",
       "      <td>4.931326</td>\n",
       "      <td>5.0</td>\n",
       "    </tr>\n",
       "    <tr>\n",
       "      <th>45</th>\n",
       "      <td>huyyb</td>\n",
       "      <td>2.684211</td>\n",
       "      <td>7.531806</td>\n",
       "      <td>14</td>\n",
       "      <td>Masculino</td>\n",
       "      <td>Masculino 14</td>\n",
       "      <td>5.108008</td>\n",
       "      <td>8.0</td>\n",
       "    </tr>\n",
       "    <tr>\n",
       "      <th>46</th>\n",
       "      <td>icllt</td>\n",
       "      <td>2.217391</td>\n",
       "      <td>8.219693</td>\n",
       "      <td>12</td>\n",
       "      <td>Femenino</td>\n",
       "      <td>Femenino 12</td>\n",
       "      <td>5.218542</td>\n",
       "      <td>9.0</td>\n",
       "    </tr>\n",
       "    <tr>\n",
       "      <th>47</th>\n",
       "      <td>idmzi</td>\n",
       "      <td>3.571429</td>\n",
       "      <td>8.093333</td>\n",
       "      <td>14</td>\n",
       "      <td>Masculino</td>\n",
       "      <td>Masculino 14</td>\n",
       "      <td>5.832381</td>\n",
       "      <td>2.0</td>\n",
       "    </tr>\n",
       "    <tr>\n",
       "      <th>48</th>\n",
       "      <td>ikcar</td>\n",
       "      <td>1.863636</td>\n",
       "      <td>5.853960</td>\n",
       "      <td>13</td>\n",
       "      <td>Femenino</td>\n",
       "      <td>Femenino 13</td>\n",
       "      <td>3.858798</td>\n",
       "      <td>7.0</td>\n",
       "    </tr>\n",
       "    <tr>\n",
       "      <th>49</th>\n",
       "      <td>ipdcp</td>\n",
       "      <td>2.318182</td>\n",
       "      <td>4.021263</td>\n",
       "      <td>14</td>\n",
       "      <td>Masculino</td>\n",
       "      <td>Masculino 14</td>\n",
       "      <td>3.169722</td>\n",
       "      <td>16.0</td>\n",
       "    </tr>\n",
       "    <tr>\n",
       "      <th>50</th>\n",
       "      <td>itkas</td>\n",
       "      <td>4.500000</td>\n",
       "      <td>5.241525</td>\n",
       "      <td>12</td>\n",
       "      <td>Masculino</td>\n",
       "      <td>Masculino 12</td>\n",
       "      <td>4.870763</td>\n",
       "      <td>6.0</td>\n",
       "    </tr>\n",
       "    <tr>\n",
       "      <th>51</th>\n",
       "      <td>ixrux</td>\n",
       "      <td>3.550000</td>\n",
       "      <td>7.157093</td>\n",
       "      <td>12</td>\n",
       "      <td>Masculino</td>\n",
       "      <td>Masculino 12</td>\n",
       "      <td>5.353546</td>\n",
       "      <td>10.0</td>\n",
       "    </tr>\n",
       "    <tr>\n",
       "      <th>52</th>\n",
       "      <td>jhbuv</td>\n",
       "      <td>2.428571</td>\n",
       "      <td>6.425109</td>\n",
       "      <td>15</td>\n",
       "      <td>Masculino</td>\n",
       "      <td>Masculino 15</td>\n",
       "      <td>4.426840</td>\n",
       "      <td>4.0</td>\n",
       "    </tr>\n",
       "    <tr>\n",
       "      <th>53</th>\n",
       "      <td>jozyx</td>\n",
       "      <td>3.352941</td>\n",
       "      <td>4.979539</td>\n",
       "      <td>14</td>\n",
       "      <td>Femenino</td>\n",
       "      <td>Femenino 14</td>\n",
       "      <td>4.166240</td>\n",
       "      <td>5.0</td>\n",
       "    </tr>\n",
       "    <tr>\n",
       "      <th>54</th>\n",
       "      <td>khadt</td>\n",
       "      <td>2.000000</td>\n",
       "      <td>5.666210</td>\n",
       "      <td>14</td>\n",
       "      <td>Femenino</td>\n",
       "      <td>Femenino 14</td>\n",
       "      <td>3.833105</td>\n",
       "      <td>9.0</td>\n",
       "    </tr>\n",
       "    <tr>\n",
       "      <th>55</th>\n",
       "      <td>khfha</td>\n",
       "      <td>4.045455</td>\n",
       "      <td>6.318751</td>\n",
       "      <td>13</td>\n",
       "      <td>Femenino</td>\n",
       "      <td>Femenino 13</td>\n",
       "      <td>5.182103</td>\n",
       "      <td>8.0</td>\n",
       "    </tr>\n",
       "    <tr>\n",
       "      <th>56</th>\n",
       "      <td>kkliq</td>\n",
       "      <td>3.125000</td>\n",
       "      <td>9.435240</td>\n",
       "      <td>14</td>\n",
       "      <td>Femenino</td>\n",
       "      <td>Femenino 14</td>\n",
       "      <td>6.280120</td>\n",
       "      <td>8.0</td>\n",
       "    </tr>\n",
       "    <tr>\n",
       "      <th>57</th>\n",
       "      <td>kkoif</td>\n",
       "      <td>1.785714</td>\n",
       "      <td>5.555407</td>\n",
       "      <td>13</td>\n",
       "      <td>Femenino</td>\n",
       "      <td>Femenino 13</td>\n",
       "      <td>3.670561</td>\n",
       "      <td>17.0</td>\n",
       "    </tr>\n",
       "    <tr>\n",
       "      <th>58</th>\n",
       "      <td>kmqou</td>\n",
       "      <td>2.863636</td>\n",
       "      <td>4.042614</td>\n",
       "      <td>13</td>\n",
       "      <td>Otro</td>\n",
       "      <td>Otro 13</td>\n",
       "      <td>3.453125</td>\n",
       "      <td>12.0</td>\n",
       "    </tr>\n",
       "    <tr>\n",
       "      <th>59</th>\n",
       "      <td>knewj</td>\n",
       "      <td>2.000000</td>\n",
       "      <td>10.150794</td>\n",
       "      <td>15</td>\n",
       "      <td>Femenino</td>\n",
       "      <td>Femenino 15</td>\n",
       "      <td>6.075397</td>\n",
       "      <td>0.0</td>\n",
       "    </tr>\n",
       "    <tr>\n",
       "      <th>60</th>\n",
       "      <td>krahz</td>\n",
       "      <td>1.555556</td>\n",
       "      <td>7.743029</td>\n",
       "      <td>13</td>\n",
       "      <td>Femenino</td>\n",
       "      <td>Femenino 13</td>\n",
       "      <td>4.649292</td>\n",
       "      <td>11.0</td>\n",
       "    </tr>\n",
       "    <tr>\n",
       "      <th>61</th>\n",
       "      <td>kzles</td>\n",
       "      <td>1.520000</td>\n",
       "      <td>6.373680</td>\n",
       "      <td>12</td>\n",
       "      <td>Femenino</td>\n",
       "      <td>Femenino 12</td>\n",
       "      <td>3.946840</td>\n",
       "      <td>11.0</td>\n",
       "    </tr>\n",
       "    <tr>\n",
       "      <th>62</th>\n",
       "      <td>lhrbj</td>\n",
       "      <td>1.958333</td>\n",
       "      <td>7.676746</td>\n",
       "      <td>15</td>\n",
       "      <td>Femenino</td>\n",
       "      <td>Femenino 15</td>\n",
       "      <td>4.817540</td>\n",
       "      <td>7.0</td>\n",
       "    </tr>\n",
       "    <tr>\n",
       "      <th>63</th>\n",
       "      <td>loemd</td>\n",
       "      <td>1.592593</td>\n",
       "      <td>8.376098</td>\n",
       "      <td>14</td>\n",
       "      <td>Otro</td>\n",
       "      <td>Otro 14</td>\n",
       "      <td>4.984345</td>\n",
       "      <td>11.0</td>\n",
       "    </tr>\n",
       "    <tr>\n",
       "      <th>64</th>\n",
       "      <td>lohyo</td>\n",
       "      <td>4.476190</td>\n",
       "      <td>3.659881</td>\n",
       "      <td>12</td>\n",
       "      <td>Femenino</td>\n",
       "      <td>Femenino 12</td>\n",
       "      <td>4.068036</td>\n",
       "      <td>9.0</td>\n",
       "    </tr>\n",
       "    <tr>\n",
       "      <th>65</th>\n",
       "      <td>lwryl</td>\n",
       "      <td>2.736842</td>\n",
       "      <td>7.000213</td>\n",
       "      <td>14</td>\n",
       "      <td>Masculino</td>\n",
       "      <td>Masculino 14</td>\n",
       "      <td>4.868527</td>\n",
       "      <td>10.0</td>\n",
       "    </tr>\n",
       "    <tr>\n",
       "      <th>66</th>\n",
       "      <td>mewpz</td>\n",
       "      <td>3.681818</td>\n",
       "      <td>5.905386</td>\n",
       "      <td>12</td>\n",
       "      <td>Femenino</td>\n",
       "      <td>Femenino 12</td>\n",
       "      <td>4.793602</td>\n",
       "      <td>12.0</td>\n",
       "    </tr>\n",
       "    <tr>\n",
       "      <th>67</th>\n",
       "      <td>mgaak</td>\n",
       "      <td>1.400000</td>\n",
       "      <td>4.055539</td>\n",
       "      <td>15</td>\n",
       "      <td>Masculino</td>\n",
       "      <td>Masculino 15</td>\n",
       "      <td>2.727770</td>\n",
       "      <td>13.0</td>\n",
       "    </tr>\n",
       "    <tr>\n",
       "      <th>68</th>\n",
       "      <td>mjiso</td>\n",
       "      <td>1.440000</td>\n",
       "      <td>7.447546</td>\n",
       "      <td>15</td>\n",
       "      <td>Femenino</td>\n",
       "      <td>Femenino 15</td>\n",
       "      <td>4.443773</td>\n",
       "      <td>15.0</td>\n",
       "    </tr>\n",
       "    <tr>\n",
       "      <th>69</th>\n",
       "      <td>mymho</td>\n",
       "      <td>4.833333</td>\n",
       "      <td>6.705357</td>\n",
       "      <td>15</td>\n",
       "      <td>Femenino</td>\n",
       "      <td>Femenino 15</td>\n",
       "      <td>5.769345</td>\n",
       "      <td>3.0</td>\n",
       "    </tr>\n",
       "    <tr>\n",
       "      <th>70</th>\n",
       "      <td>ngavz</td>\n",
       "      <td>2.485714</td>\n",
       "      <td>3.264442</td>\n",
       "      <td>14</td>\n",
       "      <td>Masculino</td>\n",
       "      <td>Masculino 14</td>\n",
       "      <td>2.875078</td>\n",
       "      <td>22.0</td>\n",
       "    </tr>\n",
       "    <tr>\n",
       "      <th>71</th>\n",
       "      <td>nhbnj</td>\n",
       "      <td>5.052632</td>\n",
       "      <td>6.987273</td>\n",
       "      <td>12</td>\n",
       "      <td>Masculino</td>\n",
       "      <td>Masculino 12</td>\n",
       "      <td>6.019952</td>\n",
       "      <td>6.0</td>\n",
       "    </tr>\n",
       "    <tr>\n",
       "      <th>74</th>\n",
       "      <td>nuasx</td>\n",
       "      <td>3.800000</td>\n",
       "      <td>5.669475</td>\n",
       "      <td>13</td>\n",
       "      <td>Masculino</td>\n",
       "      <td>Masculino 13</td>\n",
       "      <td>4.734738</td>\n",
       "      <td>5.0</td>\n",
       "    </tr>\n",
       "    <tr>\n",
       "      <th>75</th>\n",
       "      <td>oahey</td>\n",
       "      <td>1.689655</td>\n",
       "      <td>5.888230</td>\n",
       "      <td>13</td>\n",
       "      <td>Masculino</td>\n",
       "      <td>Masculino 13</td>\n",
       "      <td>3.788943</td>\n",
       "      <td>12.0</td>\n",
       "    </tr>\n",
       "    <tr>\n",
       "      <th>77</th>\n",
       "      <td>onyep</td>\n",
       "      <td>3.703704</td>\n",
       "      <td>4.852661</td>\n",
       "      <td>14</td>\n",
       "      <td>Femenino</td>\n",
       "      <td>Femenino 14</td>\n",
       "      <td>4.278183</td>\n",
       "      <td>12.0</td>\n",
       "    </tr>\n",
       "    <tr>\n",
       "      <th>78</th>\n",
       "      <td>orjyn</td>\n",
       "      <td>4.083333</td>\n",
       "      <td>4.978347</td>\n",
       "      <td>12</td>\n",
       "      <td>Femenino</td>\n",
       "      <td>Femenino 12</td>\n",
       "      <td>4.530840</td>\n",
       "      <td>12.0</td>\n",
       "    </tr>\n",
       "    <tr>\n",
       "      <th>79</th>\n",
       "      <td>pbgky</td>\n",
       "      <td>2.250000</td>\n",
       "      <td>5.538329</td>\n",
       "      <td>13</td>\n",
       "      <td>Masculino</td>\n",
       "      <td>Masculino 13</td>\n",
       "      <td>3.894165</td>\n",
       "      <td>10.0</td>\n",
       "    </tr>\n",
       "    <tr>\n",
       "      <th>80</th>\n",
       "      <td>pbwkf</td>\n",
       "      <td>2.583333</td>\n",
       "      <td>4.321943</td>\n",
       "      <td>13</td>\n",
       "      <td>Masculino</td>\n",
       "      <td>Masculino 13</td>\n",
       "      <td>3.452638</td>\n",
       "      <td>11.0</td>\n",
       "    </tr>\n",
       "    <tr>\n",
       "      <th>81</th>\n",
       "      <td>pleui</td>\n",
       "      <td>1.814815</td>\n",
       "      <td>6.004582</td>\n",
       "      <td>13</td>\n",
       "      <td>Masculino</td>\n",
       "      <td>Masculino 13</td>\n",
       "      <td>3.909699</td>\n",
       "      <td>12.0</td>\n",
       "    </tr>\n",
       "    <tr>\n",
       "      <th>82</th>\n",
       "      <td>pqwaf</td>\n",
       "      <td>1.321429</td>\n",
       "      <td>9.510853</td>\n",
       "      <td>12</td>\n",
       "      <td>Masculino</td>\n",
       "      <td>Masculino 12</td>\n",
       "      <td>5.416141</td>\n",
       "      <td>13.0</td>\n",
       "    </tr>\n",
       "    <tr>\n",
       "      <th>83</th>\n",
       "      <td>prpej</td>\n",
       "      <td>2.315789</td>\n",
       "      <td>8.875633</td>\n",
       "      <td>12</td>\n",
       "      <td>Femenino</td>\n",
       "      <td>Femenino 12</td>\n",
       "      <td>5.595711</td>\n",
       "      <td>3.0</td>\n",
       "    </tr>\n",
       "    <tr>\n",
       "      <th>84</th>\n",
       "      <td>psido</td>\n",
       "      <td>2.590909</td>\n",
       "      <td>7.010320</td>\n",
       "      <td>14</td>\n",
       "      <td>Masculino</td>\n",
       "      <td>Masculino 14</td>\n",
       "      <td>4.800615</td>\n",
       "      <td>13.0</td>\n",
       "    </tr>\n",
       "    <tr>\n",
       "      <th>85</th>\n",
       "      <td>ptmkr</td>\n",
       "      <td>3.956522</td>\n",
       "      <td>4.829527</td>\n",
       "      <td>13</td>\n",
       "      <td>Masculino</td>\n",
       "      <td>Masculino 13</td>\n",
       "      <td>4.393024</td>\n",
       "      <td>16.0</td>\n",
       "    </tr>\n",
       "    <tr>\n",
       "      <th>86</th>\n",
       "      <td>pygoc</td>\n",
       "      <td>1.533333</td>\n",
       "      <td>4.913242</td>\n",
       "      <td>14</td>\n",
       "      <td>Otro</td>\n",
       "      <td>Otro 14</td>\n",
       "      <td>3.223287</td>\n",
       "      <td>11.0</td>\n",
       "    </tr>\n",
       "    <tr>\n",
       "      <th>87</th>\n",
       "      <td>pzfdd</td>\n",
       "      <td>2.450000</td>\n",
       "      <td>5.331609</td>\n",
       "      <td>13</td>\n",
       "      <td>Masculino</td>\n",
       "      <td>Masculino 13</td>\n",
       "      <td>3.890805</td>\n",
       "      <td>10.0</td>\n",
       "    </tr>\n",
       "    <tr>\n",
       "      <th>89</th>\n",
       "      <td>qeqyj</td>\n",
       "      <td>2.200000</td>\n",
       "      <td>4.537446</td>\n",
       "      <td>13</td>\n",
       "      <td>Masculino</td>\n",
       "      <td>Masculino 13</td>\n",
       "      <td>3.368723</td>\n",
       "      <td>11.0</td>\n",
       "    </tr>\n",
       "    <tr>\n",
       "      <th>90</th>\n",
       "      <td>qfsdj</td>\n",
       "      <td>1.275862</td>\n",
       "      <td>5.958268</td>\n",
       "      <td>15</td>\n",
       "      <td>Masculino</td>\n",
       "      <td>Masculino 15</td>\n",
       "      <td>3.617065</td>\n",
       "      <td>14.0</td>\n",
       "    </tr>\n",
       "    <tr>\n",
       "      <th>91</th>\n",
       "      <td>qgcgc</td>\n",
       "      <td>2.296296</td>\n",
       "      <td>5.285877</td>\n",
       "      <td>12</td>\n",
       "      <td>Masculino</td>\n",
       "      <td>Masculino 12</td>\n",
       "      <td>3.791087</td>\n",
       "      <td>12.0</td>\n",
       "    </tr>\n",
       "    <tr>\n",
       "      <th>92</th>\n",
       "      <td>qwnpf</td>\n",
       "      <td>2.736842</td>\n",
       "      <td>9.060052</td>\n",
       "      <td>12</td>\n",
       "      <td>Masculino</td>\n",
       "      <td>Masculino 12</td>\n",
       "      <td>5.898447</td>\n",
       "      <td>7.0</td>\n",
       "    </tr>\n",
       "    <tr>\n",
       "      <th>93</th>\n",
       "      <td>raqdt</td>\n",
       "      <td>1.909091</td>\n",
       "      <td>6.751498</td>\n",
       "      <td>13</td>\n",
       "      <td>Femenino</td>\n",
       "      <td>Femenino 13</td>\n",
       "      <td>4.330294</td>\n",
       "      <td>9.0</td>\n",
       "    </tr>\n",
       "    <tr>\n",
       "      <th>94</th>\n",
       "      <td>rdiaf</td>\n",
       "      <td>3.607143</td>\n",
       "      <td>4.537196</td>\n",
       "      <td>14</td>\n",
       "      <td>Masculino</td>\n",
       "      <td>Masculino 14</td>\n",
       "      <td>4.072170</td>\n",
       "      <td>14.0</td>\n",
       "    </tr>\n",
       "    <tr>\n",
       "      <th>95</th>\n",
       "      <td>rfofs</td>\n",
       "      <td>6.250000</td>\n",
       "      <td>6.500000</td>\n",
       "      <td>13</td>\n",
       "      <td>Masculino</td>\n",
       "      <td>Masculino 13</td>\n",
       "      <td>6.375000</td>\n",
       "      <td>0.0</td>\n",
       "    </tr>\n",
       "    <tr>\n",
       "      <th>96</th>\n",
       "      <td>rkmrw</td>\n",
       "      <td>2.000000</td>\n",
       "      <td>8.145612</td>\n",
       "      <td>12</td>\n",
       "      <td>Femenino</td>\n",
       "      <td>Femenino 12</td>\n",
       "      <td>5.072806</td>\n",
       "      <td>8.0</td>\n",
       "    </tr>\n",
       "    <tr>\n",
       "      <th>97</th>\n",
       "      <td>rqaby</td>\n",
       "      <td>3.933333</td>\n",
       "      <td>7.260730</td>\n",
       "      <td>12</td>\n",
       "      <td>Masculino</td>\n",
       "      <td>Masculino 12</td>\n",
       "      <td>5.597032</td>\n",
       "      <td>8.0</td>\n",
       "    </tr>\n",
       "    <tr>\n",
       "      <th>99</th>\n",
       "      <td>rsjxu</td>\n",
       "      <td>6.071429</td>\n",
       "      <td>5.637196</td>\n",
       "      <td>12</td>\n",
       "      <td>Otro</td>\n",
       "      <td>Otro 12</td>\n",
       "      <td>5.854312</td>\n",
       "      <td>3.0</td>\n",
       "    </tr>\n",
       "    <tr>\n",
       "      <th>101</th>\n",
       "      <td>sbexy</td>\n",
       "      <td>4.538462</td>\n",
       "      <td>10.997455</td>\n",
       "      <td>12</td>\n",
       "      <td>Femenino</td>\n",
       "      <td>Femenino 12</td>\n",
       "      <td>7.767958</td>\n",
       "      <td>3.0</td>\n",
       "    </tr>\n",
       "    <tr>\n",
       "      <th>103</th>\n",
       "      <td>srjon</td>\n",
       "      <td>1.333333</td>\n",
       "      <td>5.876009</td>\n",
       "      <td>13</td>\n",
       "      <td>Masculino</td>\n",
       "      <td>Masculino 13</td>\n",
       "      <td>3.604671</td>\n",
       "      <td>10.0</td>\n",
       "    </tr>\n",
       "    <tr>\n",
       "      <th>104</th>\n",
       "      <td>stiry</td>\n",
       "      <td>1.368421</td>\n",
       "      <td>7.055726</td>\n",
       "      <td>15</td>\n",
       "      <td>Femenino</td>\n",
       "      <td>Femenino 15</td>\n",
       "      <td>4.212074</td>\n",
       "      <td>4.0</td>\n",
       "    </tr>\n",
       "    <tr>\n",
       "      <th>105</th>\n",
       "      <td>swvxx</td>\n",
       "      <td>3.631579</td>\n",
       "      <td>6.619645</td>\n",
       "      <td>14</td>\n",
       "      <td>Masculino</td>\n",
       "      <td>Masculino 14</td>\n",
       "      <td>5.125612</td>\n",
       "      <td>8.0</td>\n",
       "    </tr>\n",
       "    <tr>\n",
       "      <th>106</th>\n",
       "      <td>sxipu</td>\n",
       "      <td>4.368421</td>\n",
       "      <td>4.511075</td>\n",
       "      <td>14</td>\n",
       "      <td>Femenino</td>\n",
       "      <td>Femenino 14</td>\n",
       "      <td>4.439748</td>\n",
       "      <td>6.0</td>\n",
       "    </tr>\n",
       "    <tr>\n",
       "      <th>107</th>\n",
       "      <td>sybwc</td>\n",
       "      <td>2.450000</td>\n",
       "      <td>9.076517</td>\n",
       "      <td>12</td>\n",
       "      <td>Masculino</td>\n",
       "      <td>Masculino 12</td>\n",
       "      <td>5.763259</td>\n",
       "      <td>3.0</td>\n",
       "    </tr>\n",
       "    <tr>\n",
       "      <th>108</th>\n",
       "      <td>tavin</td>\n",
       "      <td>2.560000</td>\n",
       "      <td>6.012539</td>\n",
       "      <td>15</td>\n",
       "      <td>Masculino</td>\n",
       "      <td>Masculino 15</td>\n",
       "      <td>4.286270</td>\n",
       "      <td>9.0</td>\n",
       "    </tr>\n",
       "    <tr>\n",
       "      <th>109</th>\n",
       "      <td>tcvyz</td>\n",
       "      <td>2.736842</td>\n",
       "      <td>6.714399</td>\n",
       "      <td>13</td>\n",
       "      <td>Femenino</td>\n",
       "      <td>Femenino 13</td>\n",
       "      <td>4.725620</td>\n",
       "      <td>4.0</td>\n",
       "    </tr>\n",
       "    <tr>\n",
       "      <th>110</th>\n",
       "      <td>tekwp</td>\n",
       "      <td>5.333333</td>\n",
       "      <td>4.290134</td>\n",
       "      <td>14</td>\n",
       "      <td>Masculino</td>\n",
       "      <td>Masculino 14</td>\n",
       "      <td>4.811734</td>\n",
       "      <td>10.0</td>\n",
       "    </tr>\n",
       "    <tr>\n",
       "      <th>113</th>\n",
       "      <td>thaho</td>\n",
       "      <td>3.391304</td>\n",
       "      <td>5.156927</td>\n",
       "      <td>13</td>\n",
       "      <td>Masculino</td>\n",
       "      <td>Masculino 13</td>\n",
       "      <td>4.274115</td>\n",
       "      <td>10.0</td>\n",
       "    </tr>\n",
       "    <tr>\n",
       "      <th>114</th>\n",
       "      <td>tinco</td>\n",
       "      <td>3.714286</td>\n",
       "      <td>9.401667</td>\n",
       "      <td>15</td>\n",
       "      <td>Femenino</td>\n",
       "      <td>Femenino 15</td>\n",
       "      <td>6.557976</td>\n",
       "      <td>3.0</td>\n",
       "    </tr>\n",
       "    <tr>\n",
       "      <th>115</th>\n",
       "      <td>tjfzy</td>\n",
       "      <td>5.400000</td>\n",
       "      <td>4.451076</td>\n",
       "      <td>13</td>\n",
       "      <td>Masculino</td>\n",
       "      <td>Masculino 13</td>\n",
       "      <td>4.925538</td>\n",
       "      <td>5.0</td>\n",
       "    </tr>\n",
       "    <tr>\n",
       "      <th>116</th>\n",
       "      <td>tqgyp</td>\n",
       "      <td>5.172414</td>\n",
       "      <td>2.497260</td>\n",
       "      <td>14</td>\n",
       "      <td>Masculino</td>\n",
       "      <td>Masculino 14</td>\n",
       "      <td>3.834837</td>\n",
       "      <td>16.0</td>\n",
       "    </tr>\n",
       "    <tr>\n",
       "      <th>118</th>\n",
       "      <td>ubmtx</td>\n",
       "      <td>4.190476</td>\n",
       "      <td>4.389396</td>\n",
       "      <td>14</td>\n",
       "      <td>Otro</td>\n",
       "      <td>Otro 14</td>\n",
       "      <td>4.289936</td>\n",
       "      <td>9.0</td>\n",
       "    </tr>\n",
       "    <tr>\n",
       "      <th>119</th>\n",
       "      <td>ucdvy</td>\n",
       "      <td>3.666667</td>\n",
       "      <td>4.551996</td>\n",
       "      <td>15</td>\n",
       "      <td>Masculino</td>\n",
       "      <td>Masculino 15</td>\n",
       "      <td>4.109331</td>\n",
       "      <td>10.0</td>\n",
       "    </tr>\n",
       "    <tr>\n",
       "      <th>120</th>\n",
       "      <td>uniee</td>\n",
       "      <td>3.130435</td>\n",
       "      <td>5.448670</td>\n",
       "      <td>13</td>\n",
       "      <td>Femenino</td>\n",
       "      <td>Femenino 13</td>\n",
       "      <td>4.289552</td>\n",
       "      <td>16.0</td>\n",
       "    </tr>\n",
       "    <tr>\n",
       "      <th>121</th>\n",
       "      <td>uzzpo</td>\n",
       "      <td>1.592593</td>\n",
       "      <td>4.991654</td>\n",
       "      <td>13</td>\n",
       "      <td>Femenino</td>\n",
       "      <td>Femenino 13</td>\n",
       "      <td>3.292123</td>\n",
       "      <td>10.0</td>\n",
       "    </tr>\n",
       "    <tr>\n",
       "      <th>122</th>\n",
       "      <td>vddlg</td>\n",
       "      <td>2.000000</td>\n",
       "      <td>4.500000</td>\n",
       "      <td>14</td>\n",
       "      <td>Femenino</td>\n",
       "      <td>Femenino 14</td>\n",
       "      <td>3.250000</td>\n",
       "      <td>0.0</td>\n",
       "    </tr>\n",
       "    <tr>\n",
       "      <th>124</th>\n",
       "      <td>vsxld</td>\n",
       "      <td>1.269231</td>\n",
       "      <td>6.712788</td>\n",
       "      <td>13</td>\n",
       "      <td>Femenino</td>\n",
       "      <td>Femenino 13</td>\n",
       "      <td>3.991009</td>\n",
       "      <td>8.0</td>\n",
       "    </tr>\n",
       "    <tr>\n",
       "      <th>125</th>\n",
       "      <td>vvqlm</td>\n",
       "      <td>3.045455</td>\n",
       "      <td>5.077514</td>\n",
       "      <td>14</td>\n",
       "      <td>Masculino</td>\n",
       "      <td>Masculino 14</td>\n",
       "      <td>4.061484</td>\n",
       "      <td>6.0</td>\n",
       "    </tr>\n",
       "    <tr>\n",
       "      <th>126</th>\n",
       "      <td>wjaxi</td>\n",
       "      <td>1.925926</td>\n",
       "      <td>4.900420</td>\n",
       "      <td>15</td>\n",
       "      <td>Masculino</td>\n",
       "      <td>Masculino 15</td>\n",
       "      <td>3.413173</td>\n",
       "      <td>17.0</td>\n",
       "    </tr>\n",
       "    <tr>\n",
       "      <th>127</th>\n",
       "      <td>wqmgq</td>\n",
       "      <td>6.000000</td>\n",
       "      <td>5.280436</td>\n",
       "      <td>15</td>\n",
       "      <td>Masculino</td>\n",
       "      <td>Masculino 15</td>\n",
       "      <td>5.640218</td>\n",
       "      <td>5.0</td>\n",
       "    </tr>\n",
       "    <tr>\n",
       "      <th>128</th>\n",
       "      <td>xbmmw</td>\n",
       "      <td>2.370370</td>\n",
       "      <td>5.337025</td>\n",
       "      <td>13</td>\n",
       "      <td>Masculino</td>\n",
       "      <td>Masculino 13</td>\n",
       "      <td>3.853698</td>\n",
       "      <td>16.0</td>\n",
       "    </tr>\n",
       "    <tr>\n",
       "      <th>129</th>\n",
       "      <td>xnpqf</td>\n",
       "      <td>1.454545</td>\n",
       "      <td>8.094085</td>\n",
       "      <td>14</td>\n",
       "      <td>Masculino</td>\n",
       "      <td>Masculino 14</td>\n",
       "      <td>4.774315</td>\n",
       "      <td>6.0</td>\n",
       "    </tr>\n",
       "    <tr>\n",
       "      <th>130</th>\n",
       "      <td>xtdrq</td>\n",
       "      <td>2.111111</td>\n",
       "      <td>10.569655</td>\n",
       "      <td>15</td>\n",
       "      <td>Femenino</td>\n",
       "      <td>Femenino 15</td>\n",
       "      <td>6.340383</td>\n",
       "      <td>7.0</td>\n",
       "    </tr>\n",
       "    <tr>\n",
       "      <th>131</th>\n",
       "      <td>yazod</td>\n",
       "      <td>2.160000</td>\n",
       "      <td>5.820794</td>\n",
       "      <td>15</td>\n",
       "      <td>Masculino</td>\n",
       "      <td>Masculino 15</td>\n",
       "      <td>3.990397</td>\n",
       "      <td>8.0</td>\n",
       "    </tr>\n",
       "    <tr>\n",
       "      <th>132</th>\n",
       "      <td>yfohf</td>\n",
       "      <td>2.727273</td>\n",
       "      <td>7.412602</td>\n",
       "      <td>14</td>\n",
       "      <td>Femenino</td>\n",
       "      <td>Femenino 14</td>\n",
       "      <td>5.069937</td>\n",
       "      <td>7.0</td>\n",
       "    </tr>\n",
       "    <tr>\n",
       "      <th>133</th>\n",
       "      <td>yvpmf</td>\n",
       "      <td>4.083333</td>\n",
       "      <td>4.227707</td>\n",
       "      <td>13</td>\n",
       "      <td>Masculino</td>\n",
       "      <td>Masculino 13</td>\n",
       "      <td>4.155520</td>\n",
       "      <td>10.0</td>\n",
       "    </tr>\n",
       "    <tr>\n",
       "      <th>134</th>\n",
       "      <td>yxewz</td>\n",
       "      <td>4.105263</td>\n",
       "      <td>8.988077</td>\n",
       "      <td>15</td>\n",
       "      <td>Femenino</td>\n",
       "      <td>Femenino 15</td>\n",
       "      <td>6.546670</td>\n",
       "      <td>5.0</td>\n",
       "    </tr>\n",
       "    <tr>\n",
       "      <th>135</th>\n",
       "      <td>yxjji</td>\n",
       "      <td>6.166667</td>\n",
       "      <td>9.882353</td>\n",
       "      <td>15</td>\n",
       "      <td>Masculino</td>\n",
       "      <td>Masculino 15</td>\n",
       "      <td>8.024510</td>\n",
       "      <td>1.0</td>\n",
       "    </tr>\n",
       "    <tr>\n",
       "      <th>136</th>\n",
       "      <td>yyvas</td>\n",
       "      <td>4.136364</td>\n",
       "      <td>6.905856</td>\n",
       "      <td>12</td>\n",
       "      <td>Femenino</td>\n",
       "      <td>Femenino 12</td>\n",
       "      <td>5.521110</td>\n",
       "      <td>11.0</td>\n",
       "    </tr>\n",
       "    <tr>\n",
       "      <th>137</th>\n",
       "      <td>zbgwk</td>\n",
       "      <td>4.933333</td>\n",
       "      <td>5.978549</td>\n",
       "      <td>15</td>\n",
       "      <td>Otro</td>\n",
       "      <td>Otro 15</td>\n",
       "      <td>5.455941</td>\n",
       "      <td>4.0</td>\n",
       "    </tr>\n",
       "    <tr>\n",
       "      <th>138</th>\n",
       "      <td>zcibf</td>\n",
       "      <td>1.695652</td>\n",
       "      <td>7.610657</td>\n",
       "      <td>13</td>\n",
       "      <td>Femenino</td>\n",
       "      <td>Femenino 13</td>\n",
       "      <td>4.653155</td>\n",
       "      <td>8.0</td>\n",
       "    </tr>\n",
       "    <tr>\n",
       "      <th>139</th>\n",
       "      <td>zdnso</td>\n",
       "      <td>1.925926</td>\n",
       "      <td>5.407341</td>\n",
       "      <td>15</td>\n",
       "      <td>Femenino</td>\n",
       "      <td>Femenino 15</td>\n",
       "      <td>3.666633</td>\n",
       "      <td>13.0</td>\n",
       "    </tr>\n",
       "    <tr>\n",
       "      <th>141</th>\n",
       "      <td>zwzfv</td>\n",
       "      <td>3.043478</td>\n",
       "      <td>8.120519</td>\n",
       "      <td>14</td>\n",
       "      <td>Masculino</td>\n",
       "      <td>Masculino 14</td>\n",
       "      <td>5.581999</td>\n",
       "      <td>7.0</td>\n",
       "    </tr>\n",
       "    <tr>\n",
       "      <th>142</th>\n",
       "      <td>zxvkj</td>\n",
       "      <td>2.000000</td>\n",
       "      <td>5.417953</td>\n",
       "      <td>14</td>\n",
       "      <td>Femenino</td>\n",
       "      <td>Femenino 14</td>\n",
       "      <td>3.708977</td>\n",
       "      <td>7.0</td>\n",
       "    </tr>\n",
       "  </tbody>\n",
       "</table>\n",
       "</div>"
      ],
      "text/plain": [
       "     token  intentos     tiempo  G03Q01     G03Q02   edad_genero  \\\n",
       "0    accul  3.650000   7.387432      14  Masculino  Masculino 14   \n",
       "2    aotlm  2.250000   8.364646      15  Masculino  Masculino 15   \n",
       "3    asopk  1.885714   5.666881      14  Masculino  Masculino 14   \n",
       "4    atlzs  2.423077   5.272170      14   Femenino   Femenino 14   \n",
       "5    auvqa  2.043478   6.953159      14   Femenino   Femenino 14   \n",
       "6    bajbm  2.277778  10.741531      12   Femenino   Femenino 12   \n",
       "7    bdwyj  2.950000   6.006920      13  Masculino  Masculino 13   \n",
       "8    bhyhw  1.892857   5.918490      14  Masculino  Masculino 14   \n",
       "9    bjvnt  2.700000   3.000000      15   Femenino   Femenino 15   \n",
       "10   blvkx  3.000000  10.174073      13       Otro       Otro 13   \n",
       "11   buvgs  2.636364   6.534245      12   Femenino   Femenino 12   \n",
       "13   cmbfi  1.516129   5.883715      13  Masculino  Masculino 13   \n",
       "14   cojqb  3.166667   9.861497       8   Femenino    Femenino 8   \n",
       "16   dunul  1.586207   6.514073      14       Otro       Otro 14   \n",
       "18   dwqwi  1.888889   7.042074      13   Femenino   Femenino 13   \n",
       "19   eayrh  2.739130   5.227795      13   Femenino   Femenino 13   \n",
       "20   edxmq  4.950000   4.876273      14  Masculino  Masculino 14   \n",
       "21   ejeuw  2.285714   5.498622      13   Femenino   Femenino 13   \n",
       "22   epjcx  5.555556   6.394231      12  Masculino  Masculino 12   \n",
       "23   epqkm  2.384615   6.644118      14  Masculino  Masculino 14   \n",
       "24   eprdu  1.714286   4.852870      14  Masculino  Masculino 14   \n",
       "26   ewqbs  3.136364   5.388147      14  Masculino  Masculino 14   \n",
       "27   fbldj  2.037037   5.926862      12   Femenino   Femenino 12   \n",
       "28   fivin  2.000000   5.590452      15   Femenino   Femenino 15   \n",
       "29   fkmtp  2.720000   6.539927      13  Masculino  Masculino 13   \n",
       "30   fmtrq  1.913043   6.209523      13  Masculino  Masculino 13   \n",
       "31   fmupf  2.166667   7.103058      12  Masculino  Masculino 12   \n",
       "32   ftpnb  1.571429   4.317314      14  Masculino  Masculino 14   \n",
       "34   gcpze  1.400000   4.378168      13  Masculino  Masculino 13   \n",
       "35   gdljy  4.176471   6.651510      14   Femenino   Femenino 14   \n",
       "36   gguuc  4.350000   3.698123      15   Femenino   Femenino 15   \n",
       "37   gleqe  2.040000   5.278054      13  Masculino  Masculino 13   \n",
       "39   grkij  2.478261   6.583177      14   Femenino   Femenino 14   \n",
       "40   gzgfk  4.666667   3.916667      13   Femenino   Femenino 13   \n",
       "41   hcbyl  3.200000   6.363011      13       Otro       Otro 13   \n",
       "42   hjpbw  2.684211  10.379039      13  Masculino  Masculino 13   \n",
       "43   hpdxj  3.142857   4.500754      14  Masculino  Masculino 14   \n",
       "44   hqmhq  1.666667   8.195984      15  Masculino  Masculino 15   \n",
       "45   huyyb  2.684211   7.531806      14  Masculino  Masculino 14   \n",
       "46   icllt  2.217391   8.219693      12   Femenino   Femenino 12   \n",
       "47   idmzi  3.571429   8.093333      14  Masculino  Masculino 14   \n",
       "48   ikcar  1.863636   5.853960      13   Femenino   Femenino 13   \n",
       "49   ipdcp  2.318182   4.021263      14  Masculino  Masculino 14   \n",
       "50   itkas  4.500000   5.241525      12  Masculino  Masculino 12   \n",
       "51   ixrux  3.550000   7.157093      12  Masculino  Masculino 12   \n",
       "52   jhbuv  2.428571   6.425109      15  Masculino  Masculino 15   \n",
       "53   jozyx  3.352941   4.979539      14   Femenino   Femenino 14   \n",
       "54   khadt  2.000000   5.666210      14   Femenino   Femenino 14   \n",
       "55   khfha  4.045455   6.318751      13   Femenino   Femenino 13   \n",
       "56   kkliq  3.125000   9.435240      14   Femenino   Femenino 14   \n",
       "57   kkoif  1.785714   5.555407      13   Femenino   Femenino 13   \n",
       "58   kmqou  2.863636   4.042614      13       Otro       Otro 13   \n",
       "59   knewj  2.000000  10.150794      15   Femenino   Femenino 15   \n",
       "60   krahz  1.555556   7.743029      13   Femenino   Femenino 13   \n",
       "61   kzles  1.520000   6.373680      12   Femenino   Femenino 12   \n",
       "62   lhrbj  1.958333   7.676746      15   Femenino   Femenino 15   \n",
       "63   loemd  1.592593   8.376098      14       Otro       Otro 14   \n",
       "64   lohyo  4.476190   3.659881      12   Femenino   Femenino 12   \n",
       "65   lwryl  2.736842   7.000213      14  Masculino  Masculino 14   \n",
       "66   mewpz  3.681818   5.905386      12   Femenino   Femenino 12   \n",
       "67   mgaak  1.400000   4.055539      15  Masculino  Masculino 15   \n",
       "68   mjiso  1.440000   7.447546      15   Femenino   Femenino 15   \n",
       "69   mymho  4.833333   6.705357      15   Femenino   Femenino 15   \n",
       "70   ngavz  2.485714   3.264442      14  Masculino  Masculino 14   \n",
       "71   nhbnj  5.052632   6.987273      12  Masculino  Masculino 12   \n",
       "74   nuasx  3.800000   5.669475      13  Masculino  Masculino 13   \n",
       "75   oahey  1.689655   5.888230      13  Masculino  Masculino 13   \n",
       "77   onyep  3.703704   4.852661      14   Femenino   Femenino 14   \n",
       "78   orjyn  4.083333   4.978347      12   Femenino   Femenino 12   \n",
       "79   pbgky  2.250000   5.538329      13  Masculino  Masculino 13   \n",
       "80   pbwkf  2.583333   4.321943      13  Masculino  Masculino 13   \n",
       "81   pleui  1.814815   6.004582      13  Masculino  Masculino 13   \n",
       "82   pqwaf  1.321429   9.510853      12  Masculino  Masculino 12   \n",
       "83   prpej  2.315789   8.875633      12   Femenino   Femenino 12   \n",
       "84   psido  2.590909   7.010320      14  Masculino  Masculino 14   \n",
       "85   ptmkr  3.956522   4.829527      13  Masculino  Masculino 13   \n",
       "86   pygoc  1.533333   4.913242      14       Otro       Otro 14   \n",
       "87   pzfdd  2.450000   5.331609      13  Masculino  Masculino 13   \n",
       "89   qeqyj  2.200000   4.537446      13  Masculino  Masculino 13   \n",
       "90   qfsdj  1.275862   5.958268      15  Masculino  Masculino 15   \n",
       "91   qgcgc  2.296296   5.285877      12  Masculino  Masculino 12   \n",
       "92   qwnpf  2.736842   9.060052      12  Masculino  Masculino 12   \n",
       "93   raqdt  1.909091   6.751498      13   Femenino   Femenino 13   \n",
       "94   rdiaf  3.607143   4.537196      14  Masculino  Masculino 14   \n",
       "95   rfofs  6.250000   6.500000      13  Masculino  Masculino 13   \n",
       "96   rkmrw  2.000000   8.145612      12   Femenino   Femenino 12   \n",
       "97   rqaby  3.933333   7.260730      12  Masculino  Masculino 12   \n",
       "99   rsjxu  6.071429   5.637196      12       Otro       Otro 12   \n",
       "101  sbexy  4.538462  10.997455      12   Femenino   Femenino 12   \n",
       "103  srjon  1.333333   5.876009      13  Masculino  Masculino 13   \n",
       "104  stiry  1.368421   7.055726      15   Femenino   Femenino 15   \n",
       "105  swvxx  3.631579   6.619645      14  Masculino  Masculino 14   \n",
       "106  sxipu  4.368421   4.511075      14   Femenino   Femenino 14   \n",
       "107  sybwc  2.450000   9.076517      12  Masculino  Masculino 12   \n",
       "108  tavin  2.560000   6.012539      15  Masculino  Masculino 15   \n",
       "109  tcvyz  2.736842   6.714399      13   Femenino   Femenino 13   \n",
       "110  tekwp  5.333333   4.290134      14  Masculino  Masculino 14   \n",
       "113  thaho  3.391304   5.156927      13  Masculino  Masculino 13   \n",
       "114  tinco  3.714286   9.401667      15   Femenino   Femenino 15   \n",
       "115  tjfzy  5.400000   4.451076      13  Masculino  Masculino 13   \n",
       "116  tqgyp  5.172414   2.497260      14  Masculino  Masculino 14   \n",
       "118  ubmtx  4.190476   4.389396      14       Otro       Otro 14   \n",
       "119  ucdvy  3.666667   4.551996      15  Masculino  Masculino 15   \n",
       "120  uniee  3.130435   5.448670      13   Femenino   Femenino 13   \n",
       "121  uzzpo  1.592593   4.991654      13   Femenino   Femenino 13   \n",
       "122  vddlg  2.000000   4.500000      14   Femenino   Femenino 14   \n",
       "124  vsxld  1.269231   6.712788      13   Femenino   Femenino 13   \n",
       "125  vvqlm  3.045455   5.077514      14  Masculino  Masculino 14   \n",
       "126  wjaxi  1.925926   4.900420      15  Masculino  Masculino 15   \n",
       "127  wqmgq  6.000000   5.280436      15  Masculino  Masculino 15   \n",
       "128  xbmmw  2.370370   5.337025      13  Masculino  Masculino 13   \n",
       "129  xnpqf  1.454545   8.094085      14  Masculino  Masculino 14   \n",
       "130  xtdrq  2.111111  10.569655      15   Femenino   Femenino 15   \n",
       "131  yazod  2.160000   5.820794      15  Masculino  Masculino 15   \n",
       "132  yfohf  2.727273   7.412602      14   Femenino   Femenino 14   \n",
       "133  yvpmf  4.083333   4.227707      13  Masculino  Masculino 13   \n",
       "134  yxewz  4.105263   8.988077      15   Femenino   Femenino 15   \n",
       "135  yxjji  6.166667   9.882353      15  Masculino  Masculino 15   \n",
       "136  yyvas  4.136364   6.905856      12   Femenino   Femenino 12   \n",
       "137  zbgwk  4.933333   5.978549      15       Otro       Otro 15   \n",
       "138  zcibf  1.695652   7.610657      13   Femenino   Femenino 13   \n",
       "139  zdnso  1.925926   5.407341      15   Femenino   Femenino 15   \n",
       "141  zwzfv  3.043478   8.120519      14  Masculino  Masculino 14   \n",
       "142  zxvkj  2.000000   5.417953      14   Femenino   Femenino 14   \n",
       "\n",
       "     mezcla_intentos_tiempo  errores  \n",
       "0                  5.518716      7.0  \n",
       "2                  5.307323      3.0  \n",
       "3                  3.776297     13.0  \n",
       "4                  3.847624      7.0  \n",
       "5                  4.498319     11.0  \n",
       "6                  6.509654      6.0  \n",
       "7                  4.478460      8.0  \n",
       "8                  3.905674     14.0  \n",
       "9                  2.850000      0.0  \n",
       "10                 6.587036      6.0  \n",
       "11                 4.585304     11.0  \n",
       "13                 3.699922     10.0  \n",
       "14                 6.514082      6.0  \n",
       "16                 4.050140     11.0  \n",
       "18                 4.465481     13.0  \n",
       "19                 3.983462     13.0  \n",
       "20                 4.913137      9.0  \n",
       "21                 3.892168      6.0  \n",
       "22                 5.974893      0.0  \n",
       "23                 4.514367      3.0  \n",
       "24                 3.283578      9.0  \n",
       "26                 4.262255     11.0  \n",
       "27                 3.981950     12.0  \n",
       "28                 3.795226      4.0  \n",
       "29                 4.629963     11.0  \n",
       "30                 4.061283     10.0  \n",
       "31                 4.634862     11.0  \n",
       "32                 2.944372     11.0  \n",
       "34                 2.889084     13.0  \n",
       "35                 5.413990      5.0  \n",
       "36                 4.024061      9.0  \n",
       "37                 3.659027      6.0  \n",
       "39                 4.530719      9.0  \n",
       "40                 4.291667      0.0  \n",
       "41                 4.781505      9.0  \n",
       "42                 6.531625      9.0  \n",
       "43                 3.821806      3.0  \n",
       "44                 4.931326      5.0  \n",
       "45                 5.108008      8.0  \n",
       "46                 5.218542      9.0  \n",
       "47                 5.832381      2.0  \n",
       "48                 3.858798      7.0  \n",
       "49                 3.169722     16.0  \n",
       "50                 4.870763      6.0  \n",
       "51                 5.353546     10.0  \n",
       "52                 4.426840      4.0  \n",
       "53                 4.166240      5.0  \n",
       "54                 3.833105      9.0  \n",
       "55                 5.182103      8.0  \n",
       "56                 6.280120      8.0  \n",
       "57                 3.670561     17.0  \n",
       "58                 3.453125     12.0  \n",
       "59                 6.075397      0.0  \n",
       "60                 4.649292     11.0  \n",
       "61                 3.946840     11.0  \n",
       "62                 4.817540      7.0  \n",
       "63                 4.984345     11.0  \n",
       "64                 4.068036      9.0  \n",
       "65                 4.868527     10.0  \n",
       "66                 4.793602     12.0  \n",
       "67                 2.727770     13.0  \n",
       "68                 4.443773     15.0  \n",
       "69                 5.769345      3.0  \n",
       "70                 2.875078     22.0  \n",
       "71                 6.019952      6.0  \n",
       "74                 4.734738      5.0  \n",
       "75                 3.788943     12.0  \n",
       "77                 4.278183     12.0  \n",
       "78                 4.530840     12.0  \n",
       "79                 3.894165     10.0  \n",
       "80                 3.452638     11.0  \n",
       "81                 3.909699     12.0  \n",
       "82                 5.416141     13.0  \n",
       "83                 5.595711      3.0  \n",
       "84                 4.800615     13.0  \n",
       "85                 4.393024     16.0  \n",
       "86                 3.223287     11.0  \n",
       "87                 3.890805     10.0  \n",
       "89                 3.368723     11.0  \n",
       "90                 3.617065     14.0  \n",
       "91                 3.791087     12.0  \n",
       "92                 5.898447      7.0  \n",
       "93                 4.330294      9.0  \n",
       "94                 4.072170     14.0  \n",
       "95                 6.375000      0.0  \n",
       "96                 5.072806      8.0  \n",
       "97                 5.597032      8.0  \n",
       "99                 5.854312      3.0  \n",
       "101                7.767958      3.0  \n",
       "103                3.604671     10.0  \n",
       "104                4.212074      4.0  \n",
       "105                5.125612      8.0  \n",
       "106                4.439748      6.0  \n",
       "107                5.763259      3.0  \n",
       "108                4.286270      9.0  \n",
       "109                4.725620      4.0  \n",
       "110                4.811734     10.0  \n",
       "113                4.274115     10.0  \n",
       "114                6.557976      3.0  \n",
       "115                4.925538      5.0  \n",
       "116                3.834837     16.0  \n",
       "118                4.289936      9.0  \n",
       "119                4.109331     10.0  \n",
       "120                4.289552     16.0  \n",
       "121                3.292123     10.0  \n",
       "122                3.250000      0.0  \n",
       "124                3.991009      8.0  \n",
       "125                4.061484      6.0  \n",
       "126                3.413173     17.0  \n",
       "127                5.640218      5.0  \n",
       "128                3.853698     16.0  \n",
       "129                4.774315      6.0  \n",
       "130                6.340383      7.0  \n",
       "131                3.990397      8.0  \n",
       "132                5.069937      7.0  \n",
       "133                4.155520     10.0  \n",
       "134                6.546670      5.0  \n",
       "135                8.024510      1.0  \n",
       "136                5.521110     11.0  \n",
       "137                5.455941      4.0  \n",
       "138                4.653155      8.0  \n",
       "139                3.666633     13.0  \n",
       "141                5.581999      7.0  \n",
       "142                3.708977      7.0  "
      ]
     },
     "execution_count": 55,
     "metadata": {},
     "output_type": "execute_result"
    }
   ],
   "source": [
    "#Añadimos los errores:\n",
    "\n",
    "for i, row in df.iterrows():\n",
    "    jugador = row['token']\n",
    "    if jugador in res:\n",
    "        df.at[i, 'errores'] = res[jugador]\n",
    "    else:\n",
    "        df.at[i, 'errores'] = 0\n",
    "\n",
    "df"
   ]
  },
  {
   "cell_type": "code",
   "execution_count": 56,
   "metadata": {},
   "outputs": [
    {
     "data": {
      "application/vnd.plotly.v1+json": {
       "config": {
        "plotlyServerURL": "https://plot.ly"
       },
       "data": [
        {
         "hovertemplate": "edad_genero=%{x}<br>mezcla_intentos_tiempo=%{y}<br>intentos=%{marker.color}<extra></extra>",
         "legendgroup": "",
         "marker": {
          "color": [
           3.65,
           2.25,
           1.8857142857142857,
           2.423076923076923,
           2.0434782608695654,
           2.2777777777777777,
           2.95,
           1.8928571428571428,
           2.7,
           3,
           2.6363636363636362,
           1.5161290322580645,
           3.1666666666666665,
           1.5862068965517242,
           1.8888888888888888,
           2.739130434782609,
           4.95,
           2.2857142857142856,
           5.555555555555555,
           2.3846153846153846,
           1.7142857142857142,
           3.1363636363636362,
           2.037037037037037,
           2,
           2.72,
           1.9130434782608696,
           2.1666666666666665,
           1.5714285714285714,
           1.4,
           4.176470588235294,
           4.35,
           2.04,
           2.4782608695652173,
           4.666666666666667,
           3.2,
           2.6842105263157894,
           3.142857142857143,
           1.6666666666666667,
           2.6842105263157894,
           2.217391304347826,
           3.5714285714285716,
           1.8636363636363635,
           2.3181818181818183,
           4.5,
           3.55,
           2.4285714285714284,
           3.3529411764705883,
           2,
           4.045454545454546,
           3.125,
           1.7857142857142858,
           2.8636363636363638,
           2,
           1.5555555555555556,
           1.52,
           1.9583333333333333,
           1.5925925925925926,
           4.476190476190476,
           2.736842105263158,
           3.6818181818181817,
           1.4,
           1.44,
           4.833333333333333,
           2.4857142857142858,
           5.052631578947368,
           3.8,
           1.6896551724137931,
           3.7037037037037037,
           4.083333333333333,
           2.25,
           2.5833333333333335,
           1.8148148148148149,
           1.3214285714285714,
           2.3157894736842106,
           2.590909090909091,
           3.9565217391304346,
           1.5333333333333334,
           2.45,
           2.2,
           1.2758620689655173,
           2.2962962962962963,
           2.736842105263158,
           1.9090909090909092,
           3.607142857142857,
           6.25,
           2,
           3.933333333333333,
           6.071428571428571,
           4.538461538461538,
           1.3333333333333333,
           1.368421052631579,
           3.6315789473684212,
           4.368421052631579,
           2.45,
           2.56,
           2.736842105263158,
           5.333333333333333,
           3.391304347826087,
           3.7142857142857144,
           5.4,
           5.172413793103448,
           4.190476190476191,
           3.6666666666666665,
           3.130434782608696,
           1.5925925925925926,
           2,
           1.2692307692307692,
           3.0454545454545454,
           1.9259259259259258,
           6,
           2.3703703703703702,
           1.4545454545454546,
           2.111111111111111,
           2.16,
           2.727272727272727,
           4.083333333333333,
           4.105263157894737,
           6.166666666666667,
           4.136363636363637,
           4.933333333333334,
           1.6956521739130435,
           1.9259259259259258,
           3.0434782608695654,
           2
          ],
          "coloraxis": "coloraxis",
          "opacity": 0.7,
          "size": [
           3.65,
           2.25,
           1.8857142857142857,
           2.423076923076923,
           2.0434782608695654,
           2.2777777777777777,
           2.95,
           1.8928571428571428,
           2.7,
           3,
           2.6363636363636362,
           1.5161290322580645,
           3.1666666666666665,
           1.5862068965517242,
           1.8888888888888888,
           2.739130434782609,
           4.95,
           2.2857142857142856,
           5.555555555555555,
           2.3846153846153846,
           1.7142857142857142,
           3.1363636363636362,
           2.037037037037037,
           2,
           2.72,
           1.9130434782608696,
           2.1666666666666665,
           1.5714285714285714,
           1.4,
           4.176470588235294,
           4.35,
           2.04,
           2.4782608695652173,
           4.666666666666667,
           3.2,
           2.6842105263157894,
           3.142857142857143,
           1.6666666666666667,
           2.6842105263157894,
           2.217391304347826,
           3.5714285714285716,
           1.8636363636363635,
           2.3181818181818183,
           4.5,
           3.55,
           2.4285714285714284,
           3.3529411764705883,
           2,
           4.045454545454546,
           3.125,
           1.7857142857142858,
           2.8636363636363638,
           2,
           1.5555555555555556,
           1.52,
           1.9583333333333333,
           1.5925925925925926,
           4.476190476190476,
           2.736842105263158,
           3.6818181818181817,
           1.4,
           1.44,
           4.833333333333333,
           2.4857142857142858,
           5.052631578947368,
           3.8,
           1.6896551724137931,
           3.7037037037037037,
           4.083333333333333,
           2.25,
           2.5833333333333335,
           1.8148148148148149,
           1.3214285714285714,
           2.3157894736842106,
           2.590909090909091,
           3.9565217391304346,
           1.5333333333333334,
           2.45,
           2.2,
           1.2758620689655173,
           2.2962962962962963,
           2.736842105263158,
           1.9090909090909092,
           3.607142857142857,
           6.25,
           2,
           3.933333333333333,
           6.071428571428571,
           4.538461538461538,
           1.3333333333333333,
           1.368421052631579,
           3.6315789473684212,
           4.368421052631579,
           2.45,
           2.56,
           2.736842105263158,
           5.333333333333333,
           3.391304347826087,
           3.7142857142857144,
           5.4,
           5.172413793103448,
           4.190476190476191,
           3.6666666666666665,
           3.130434782608696,
           1.5925925925925926,
           2,
           1.2692307692307692,
           3.0454545454545454,
           1.9259259259259258,
           6,
           2.3703703703703702,
           1.4545454545454546,
           2.111111111111111,
           2.16,
           2.727272727272727,
           4.083333333333333,
           4.105263157894737,
           6.166666666666667,
           4.136363636363637,
           4.933333333333334,
           1.6956521739130435,
           1.9259259259259258,
           3.0434782608695654,
           2
          ],
          "sizemode": "area",
          "sizeref": 0.015625,
          "symbol": "circle"
         },
         "mode": "markers",
         "name": "",
         "orientation": "v",
         "showlegend": false,
         "type": "scatter",
         "x": [
          "Masculino 14",
          "Masculino 15",
          "Masculino 14",
          "Femenino 14",
          "Femenino 14",
          "Femenino 12",
          "Masculino 13",
          "Masculino 14",
          "Femenino 15",
          "Otro 13",
          "Femenino 12",
          "Masculino 13",
          "Femenino 8",
          "Otro 14",
          "Femenino 13",
          "Femenino 13",
          "Masculino 14",
          "Femenino 13",
          "Masculino 12",
          "Masculino 14",
          "Masculino 14",
          "Masculino 14",
          "Femenino 12",
          "Femenino 15",
          "Masculino 13",
          "Masculino 13",
          "Masculino 12",
          "Masculino 14",
          "Masculino 13",
          "Femenino 14",
          "Femenino 15",
          "Masculino 13",
          "Femenino 14",
          "Femenino 13",
          "Otro 13",
          "Masculino 13",
          "Masculino 14",
          "Masculino 15",
          "Masculino 14",
          "Femenino 12",
          "Masculino 14",
          "Femenino 13",
          "Masculino 14",
          "Masculino 12",
          "Masculino 12",
          "Masculino 15",
          "Femenino 14",
          "Femenino 14",
          "Femenino 13",
          "Femenino 14",
          "Femenino 13",
          "Otro 13",
          "Femenino 15",
          "Femenino 13",
          "Femenino 12",
          "Femenino 15",
          "Otro 14",
          "Femenino 12",
          "Masculino 14",
          "Femenino 12",
          "Masculino 15",
          "Femenino 15",
          "Femenino 15",
          "Masculino 14",
          "Masculino 12",
          "Masculino 13",
          "Masculino 13",
          "Femenino 14",
          "Femenino 12",
          "Masculino 13",
          "Masculino 13",
          "Masculino 13",
          "Masculino 12",
          "Femenino 12",
          "Masculino 14",
          "Masculino 13",
          "Otro 14",
          "Masculino 13",
          "Masculino 13",
          "Masculino 15",
          "Masculino 12",
          "Masculino 12",
          "Femenino 13",
          "Masculino 14",
          "Masculino 13",
          "Femenino 12",
          "Masculino 12",
          "Otro 12",
          "Femenino 12",
          "Masculino 13",
          "Femenino 15",
          "Masculino 14",
          "Femenino 14",
          "Masculino 12",
          "Masculino 15",
          "Femenino 13",
          "Masculino 14",
          "Masculino 13",
          "Femenino 15",
          "Masculino 13",
          "Masculino 14",
          "Otro 14",
          "Masculino 15",
          "Femenino 13",
          "Femenino 13",
          "Femenino 14",
          "Femenino 13",
          "Masculino 14",
          "Masculino 15",
          "Masculino 15",
          "Masculino 13",
          "Masculino 14",
          "Femenino 15",
          "Masculino 15",
          "Femenino 14",
          "Masculino 13",
          "Femenino 15",
          "Masculino 15",
          "Femenino 12",
          "Otro 15",
          "Femenino 13",
          "Femenino 15",
          "Masculino 14",
          "Femenino 14"
         ],
         "xaxis": "x",
         "y": [
          5.518715893488724,
          5.307323232323232,
          3.7762974376704825,
          3.8476235746774394,
          4.498318716818499,
          6.509654425095601,
          4.478459750766753,
          3.905673771277722,
          2.85,
          6.587036407268621,
          4.585304153570788,
          3.6999221058576577,
          6.51408180494719,
          4.05014017296438,
          4.465481365294239,
          3.983462483595032,
          4.913136551171123,
          3.892168267205256,
          5.974893162393162,
          4.514366515837104,
          3.2835776785116093,
          4.262255461938713,
          3.981949639793456,
          3.7952261753398115,
          4.629963332215181,
          4.061283036623024,
          4.63486241663991,
          2.9443715080919133,
          2.8890839007731755,
          5.413990045318827,
          4.024061264822134,
          3.6590268154490246,
          4.53071914208629,
          4.291666666666667,
          4.7815052523835835,
          6.531624828292214,
          3.8218055493567604,
          4.931325549450549,
          5.108008069501878,
          5.218542207763452,
          5.832380952380952,
          3.8587983443830356,
          3.1697223444491294,
          4.870762570762571,
          5.35354647088255,
          4.4268404427550765,
          4.166240260767063,
          3.8331050503483124,
          5.182102583888298,
          6.2801198406028425,
          3.670560783068973,
          3.453125178681775,
          6.075396825396825,
          4.649292071437401,
          3.9468401106197444,
          4.817539834642759,
          4.984345216311224,
          4.0680358283472575,
          4.8685274496129765,
          4.793602086750379,
          2.7277695069158483,
          4.443773073540296,
          5.769345238095238,
          2.8750779842867233,
          6.019952290227831,
          4.734737698199236,
          3.7889425884531756,
          4.2781825260603386,
          4.530840201784902,
          3.8941645621312686,
          3.452638018978841,
          3.9096985025506736,
          5.416140572390572,
          5.595711171990686,
          4.8006146155138945,
          4.393024347325616,
          3.2232874722065974,
          3.8908045482639135,
          3.3687232115442076,
          3.617065249385929,
          3.791086701763785,
          5.898447034278505,
          4.330294431159369,
          4.0721696517953525,
          6.375,
          5.072806108479961,
          5.59703164160401,
          5.854312453774819,
          7.767958430458431,
          3.6046713450493604,
          4.212073572360653,
          5.1256121248514255,
          4.439747874721476,
          5.763258639382444,
          4.286269639792529,
          4.725620367571301,
          4.811733730851378,
          4.274115448111612,
          6.5579761904761895,
          4.925537893546345,
          3.834836745931321,
          4.289935937227986,
          4.109331434451543,
          4.289552435414442,
          3.292123102929845,
          3.25,
          3.991009488295957,
          4.0614844714109415,
          3.413173079736859,
          5.640217994548841,
          3.8536977447917953,
          4.774315164496933,
          6.340383054445554,
          3.9903970112102307,
          5.069937173783122,
          4.155520137101211,
          6.54667002476447,
          8.02450980392157,
          5.521109686864158,
          5.455940988835726,
          4.653154661073915,
          3.6666334345535483,
          5.581998839303759,
          3.708976540803121
         ],
         "yaxis": "y"
        }
       ],
       "layout": {
        "coloraxis": {
         "colorbar": {
          "title": {
           "text": "intentos"
          }
         },
         "colorscale": [
          [
           0,
           "#440154"
          ],
          [
           0.1111111111111111,
           "#482878"
          ],
          [
           0.2222222222222222,
           "#3e4989"
          ],
          [
           0.3333333333333333,
           "#31688e"
          ],
          [
           0.4444444444444444,
           "#26828e"
          ],
          [
           0.5555555555555556,
           "#1f9e89"
          ],
          [
           0.6666666666666666,
           "#35b779"
          ],
          [
           0.7777777777777778,
           "#6ece58"
          ],
          [
           0.8888888888888888,
           "#b5de2b"
          ],
          [
           1,
           "#fde725"
          ]
         ]
        },
        "height": 600,
        "legend": {
         "itemsizing": "constant",
         "tracegroupgap": 0
        },
        "margin": {
         "t": 60
        },
        "template": {
         "data": {
          "bar": [
           {
            "error_x": {
             "color": "#2a3f5f"
            },
            "error_y": {
             "color": "#2a3f5f"
            },
            "marker": {
             "line": {
              "color": "#E5ECF6",
              "width": 0.5
             },
             "pattern": {
              "fillmode": "overlay",
              "size": 10,
              "solidity": 0.2
             }
            },
            "type": "bar"
           }
          ],
          "barpolar": [
           {
            "marker": {
             "line": {
              "color": "#E5ECF6",
              "width": 0.5
             },
             "pattern": {
              "fillmode": "overlay",
              "size": 10,
              "solidity": 0.2
             }
            },
            "type": "barpolar"
           }
          ],
          "carpet": [
           {
            "aaxis": {
             "endlinecolor": "#2a3f5f",
             "gridcolor": "white",
             "linecolor": "white",
             "minorgridcolor": "white",
             "startlinecolor": "#2a3f5f"
            },
            "baxis": {
             "endlinecolor": "#2a3f5f",
             "gridcolor": "white",
             "linecolor": "white",
             "minorgridcolor": "white",
             "startlinecolor": "#2a3f5f"
            },
            "type": "carpet"
           }
          ],
          "choropleth": [
           {
            "colorbar": {
             "outlinewidth": 0,
             "ticks": ""
            },
            "type": "choropleth"
           }
          ],
          "contour": [
           {
            "colorbar": {
             "outlinewidth": 0,
             "ticks": ""
            },
            "colorscale": [
             [
              0,
              "#0d0887"
             ],
             [
              0.1111111111111111,
              "#46039f"
             ],
             [
              0.2222222222222222,
              "#7201a8"
             ],
             [
              0.3333333333333333,
              "#9c179e"
             ],
             [
              0.4444444444444444,
              "#bd3786"
             ],
             [
              0.5555555555555556,
              "#d8576b"
             ],
             [
              0.6666666666666666,
              "#ed7953"
             ],
             [
              0.7777777777777778,
              "#fb9f3a"
             ],
             [
              0.8888888888888888,
              "#fdca26"
             ],
             [
              1,
              "#f0f921"
             ]
            ],
            "type": "contour"
           }
          ],
          "contourcarpet": [
           {
            "colorbar": {
             "outlinewidth": 0,
             "ticks": ""
            },
            "type": "contourcarpet"
           }
          ],
          "heatmap": [
           {
            "colorbar": {
             "outlinewidth": 0,
             "ticks": ""
            },
            "colorscale": [
             [
              0,
              "#0d0887"
             ],
             [
              0.1111111111111111,
              "#46039f"
             ],
             [
              0.2222222222222222,
              "#7201a8"
             ],
             [
              0.3333333333333333,
              "#9c179e"
             ],
             [
              0.4444444444444444,
              "#bd3786"
             ],
             [
              0.5555555555555556,
              "#d8576b"
             ],
             [
              0.6666666666666666,
              "#ed7953"
             ],
             [
              0.7777777777777778,
              "#fb9f3a"
             ],
             [
              0.8888888888888888,
              "#fdca26"
             ],
             [
              1,
              "#f0f921"
             ]
            ],
            "type": "heatmap"
           }
          ],
          "heatmapgl": [
           {
            "colorbar": {
             "outlinewidth": 0,
             "ticks": ""
            },
            "colorscale": [
             [
              0,
              "#0d0887"
             ],
             [
              0.1111111111111111,
              "#46039f"
             ],
             [
              0.2222222222222222,
              "#7201a8"
             ],
             [
              0.3333333333333333,
              "#9c179e"
             ],
             [
              0.4444444444444444,
              "#bd3786"
             ],
             [
              0.5555555555555556,
              "#d8576b"
             ],
             [
              0.6666666666666666,
              "#ed7953"
             ],
             [
              0.7777777777777778,
              "#fb9f3a"
             ],
             [
              0.8888888888888888,
              "#fdca26"
             ],
             [
              1,
              "#f0f921"
             ]
            ],
            "type": "heatmapgl"
           }
          ],
          "histogram": [
           {
            "marker": {
             "pattern": {
              "fillmode": "overlay",
              "size": 10,
              "solidity": 0.2
             }
            },
            "type": "histogram"
           }
          ],
          "histogram2d": [
           {
            "colorbar": {
             "outlinewidth": 0,
             "ticks": ""
            },
            "colorscale": [
             [
              0,
              "#0d0887"
             ],
             [
              0.1111111111111111,
              "#46039f"
             ],
             [
              0.2222222222222222,
              "#7201a8"
             ],
             [
              0.3333333333333333,
              "#9c179e"
             ],
             [
              0.4444444444444444,
              "#bd3786"
             ],
             [
              0.5555555555555556,
              "#d8576b"
             ],
             [
              0.6666666666666666,
              "#ed7953"
             ],
             [
              0.7777777777777778,
              "#fb9f3a"
             ],
             [
              0.8888888888888888,
              "#fdca26"
             ],
             [
              1,
              "#f0f921"
             ]
            ],
            "type": "histogram2d"
           }
          ],
          "histogram2dcontour": [
           {
            "colorbar": {
             "outlinewidth": 0,
             "ticks": ""
            },
            "colorscale": [
             [
              0,
              "#0d0887"
             ],
             [
              0.1111111111111111,
              "#46039f"
             ],
             [
              0.2222222222222222,
              "#7201a8"
             ],
             [
              0.3333333333333333,
              "#9c179e"
             ],
             [
              0.4444444444444444,
              "#bd3786"
             ],
             [
              0.5555555555555556,
              "#d8576b"
             ],
             [
              0.6666666666666666,
              "#ed7953"
             ],
             [
              0.7777777777777778,
              "#fb9f3a"
             ],
             [
              0.8888888888888888,
              "#fdca26"
             ],
             [
              1,
              "#f0f921"
             ]
            ],
            "type": "histogram2dcontour"
           }
          ],
          "mesh3d": [
           {
            "colorbar": {
             "outlinewidth": 0,
             "ticks": ""
            },
            "type": "mesh3d"
           }
          ],
          "parcoords": [
           {
            "line": {
             "colorbar": {
              "outlinewidth": 0,
              "ticks": ""
             }
            },
            "type": "parcoords"
           }
          ],
          "pie": [
           {
            "automargin": true,
            "type": "pie"
           }
          ],
          "scatter": [
           {
            "fillpattern": {
             "fillmode": "overlay",
             "size": 10,
             "solidity": 0.2
            },
            "type": "scatter"
           }
          ],
          "scatter3d": [
           {
            "line": {
             "colorbar": {
              "outlinewidth": 0,
              "ticks": ""
             }
            },
            "marker": {
             "colorbar": {
              "outlinewidth": 0,
              "ticks": ""
             }
            },
            "type": "scatter3d"
           }
          ],
          "scattercarpet": [
           {
            "marker": {
             "colorbar": {
              "outlinewidth": 0,
              "ticks": ""
             }
            },
            "type": "scattercarpet"
           }
          ],
          "scattergeo": [
           {
            "marker": {
             "colorbar": {
              "outlinewidth": 0,
              "ticks": ""
             }
            },
            "type": "scattergeo"
           }
          ],
          "scattergl": [
           {
            "marker": {
             "colorbar": {
              "outlinewidth": 0,
              "ticks": ""
             }
            },
            "type": "scattergl"
           }
          ],
          "scattermapbox": [
           {
            "marker": {
             "colorbar": {
              "outlinewidth": 0,
              "ticks": ""
             }
            },
            "type": "scattermapbox"
           }
          ],
          "scatterpolar": [
           {
            "marker": {
             "colorbar": {
              "outlinewidth": 0,
              "ticks": ""
             }
            },
            "type": "scatterpolar"
           }
          ],
          "scatterpolargl": [
           {
            "marker": {
             "colorbar": {
              "outlinewidth": 0,
              "ticks": ""
             }
            },
            "type": "scatterpolargl"
           }
          ],
          "scatterternary": [
           {
            "marker": {
             "colorbar": {
              "outlinewidth": 0,
              "ticks": ""
             }
            },
            "type": "scatterternary"
           }
          ],
          "surface": [
           {
            "colorbar": {
             "outlinewidth": 0,
             "ticks": ""
            },
            "colorscale": [
             [
              0,
              "#0d0887"
             ],
             [
              0.1111111111111111,
              "#46039f"
             ],
             [
              0.2222222222222222,
              "#7201a8"
             ],
             [
              0.3333333333333333,
              "#9c179e"
             ],
             [
              0.4444444444444444,
              "#bd3786"
             ],
             [
              0.5555555555555556,
              "#d8576b"
             ],
             [
              0.6666666666666666,
              "#ed7953"
             ],
             [
              0.7777777777777778,
              "#fb9f3a"
             ],
             [
              0.8888888888888888,
              "#fdca26"
             ],
             [
              1,
              "#f0f921"
             ]
            ],
            "type": "surface"
           }
          ],
          "table": [
           {
            "cells": {
             "fill": {
              "color": "#EBF0F8"
             },
             "line": {
              "color": "white"
             }
            },
            "header": {
             "fill": {
              "color": "#C8D4E3"
             },
             "line": {
              "color": "white"
             }
            },
            "type": "table"
           }
          ]
         },
         "layout": {
          "annotationdefaults": {
           "arrowcolor": "#2a3f5f",
           "arrowhead": 0,
           "arrowwidth": 1
          },
          "autotypenumbers": "strict",
          "coloraxis": {
           "colorbar": {
            "outlinewidth": 0,
            "ticks": ""
           }
          },
          "colorscale": {
           "diverging": [
            [
             0,
             "#8e0152"
            ],
            [
             0.1,
             "#c51b7d"
            ],
            [
             0.2,
             "#de77ae"
            ],
            [
             0.3,
             "#f1b6da"
            ],
            [
             0.4,
             "#fde0ef"
            ],
            [
             0.5,
             "#f7f7f7"
            ],
            [
             0.6,
             "#e6f5d0"
            ],
            [
             0.7,
             "#b8e186"
            ],
            [
             0.8,
             "#7fbc41"
            ],
            [
             0.9,
             "#4d9221"
            ],
            [
             1,
             "#276419"
            ]
           ],
           "sequential": [
            [
             0,
             "#0d0887"
            ],
            [
             0.1111111111111111,
             "#46039f"
            ],
            [
             0.2222222222222222,
             "#7201a8"
            ],
            [
             0.3333333333333333,
             "#9c179e"
            ],
            [
             0.4444444444444444,
             "#bd3786"
            ],
            [
             0.5555555555555556,
             "#d8576b"
            ],
            [
             0.6666666666666666,
             "#ed7953"
            ],
            [
             0.7777777777777778,
             "#fb9f3a"
            ],
            [
             0.8888888888888888,
             "#fdca26"
            ],
            [
             1,
             "#f0f921"
            ]
           ],
           "sequentialminus": [
            [
             0,
             "#0d0887"
            ],
            [
             0.1111111111111111,
             "#46039f"
            ],
            [
             0.2222222222222222,
             "#7201a8"
            ],
            [
             0.3333333333333333,
             "#9c179e"
            ],
            [
             0.4444444444444444,
             "#bd3786"
            ],
            [
             0.5555555555555556,
             "#d8576b"
            ],
            [
             0.6666666666666666,
             "#ed7953"
            ],
            [
             0.7777777777777778,
             "#fb9f3a"
            ],
            [
             0.8888888888888888,
             "#fdca26"
            ],
            [
             1,
             "#f0f921"
            ]
           ]
          },
          "colorway": [
           "#636efa",
           "#EF553B",
           "#00cc96",
           "#ab63fa",
           "#FFA15A",
           "#19d3f3",
           "#FF6692",
           "#B6E880",
           "#FF97FF",
           "#FECB52"
          ],
          "font": {
           "color": "#2a3f5f"
          },
          "geo": {
           "bgcolor": "white",
           "lakecolor": "white",
           "landcolor": "#E5ECF6",
           "showlakes": true,
           "showland": true,
           "subunitcolor": "white"
          },
          "hoverlabel": {
           "align": "left"
          },
          "hovermode": "closest",
          "mapbox": {
           "style": "light"
          },
          "paper_bgcolor": "white",
          "plot_bgcolor": "#E5ECF6",
          "polar": {
           "angularaxis": {
            "gridcolor": "white",
            "linecolor": "white",
            "ticks": ""
           },
           "bgcolor": "#E5ECF6",
           "radialaxis": {
            "gridcolor": "white",
            "linecolor": "white",
            "ticks": ""
           }
          },
          "scene": {
           "xaxis": {
            "backgroundcolor": "#E5ECF6",
            "gridcolor": "white",
            "gridwidth": 2,
            "linecolor": "white",
            "showbackground": true,
            "ticks": "",
            "zerolinecolor": "white"
           },
           "yaxis": {
            "backgroundcolor": "#E5ECF6",
            "gridcolor": "white",
            "gridwidth": 2,
            "linecolor": "white",
            "showbackground": true,
            "ticks": "",
            "zerolinecolor": "white"
           },
           "zaxis": {
            "backgroundcolor": "#E5ECF6",
            "gridcolor": "white",
            "gridwidth": 2,
            "linecolor": "white",
            "showbackground": true,
            "ticks": "",
            "zerolinecolor": "white"
           }
          },
          "shapedefaults": {
           "line": {
            "color": "#2a3f5f"
           }
          },
          "ternary": {
           "aaxis": {
            "gridcolor": "white",
            "linecolor": "white",
            "ticks": ""
           },
           "baxis": {
            "gridcolor": "white",
            "linecolor": "white",
            "ticks": ""
           },
           "bgcolor": "#E5ECF6",
           "caxis": {
            "gridcolor": "white",
            "linecolor": "white",
            "ticks": ""
           }
          },
          "title": {
           "x": 0.05
          },
          "xaxis": {
           "automargin": true,
           "gridcolor": "white",
           "linecolor": "white",
           "ticks": "",
           "title": {
            "standoff": 15
           },
           "zerolinecolor": "white",
           "zerolinewidth": 2
          },
          "yaxis": {
           "automargin": true,
           "gridcolor": "white",
           "linecolor": "white",
           "ticks": "",
           "title": {
            "standoff": 15
           },
           "zerolinecolor": "white",
           "zerolinewidth": 2
          }
         }
        },
        "width": 800,
        "xaxis": {
         "anchor": "y",
         "domain": [
          0,
          1
         ],
         "title": {
          "text": "Edad_Genero"
         }
        },
        "yaxis": {
         "anchor": "x",
         "domain": [
          0,
          1
         ],
         "title": {
          "text": "Mezcla de Intentos y Tiempo"
         }
        }
       }
      }
     },
     "metadata": {},
     "output_type": "display_data"
    }
   ],
   "source": [
    "# Crear gráfica 2D\n",
    "fig = px.scatter(df, x='edad_genero', y='mezcla_intentos_tiempo', color='intentos', size='intentos',\n",
    "                 opacity=0.7, color_continuous_scale='viridis')\n",
    "\n",
    "# Configurar layout\n",
    "fig.update_layout(xaxis_title='Edad_Genero', yaxis_title='Mezcla de Intentos y Tiempo', width=800, height=600)\n",
    "\n",
    "# Mostrar gráfica\n",
    "fig.show()\n",
    "\n",
    "\n"
   ]
  },
  {
   "cell_type": "code",
   "execution_count": 71,
   "metadata": {},
   "outputs": [
    {
     "name": "stdout",
     "output_type": "stream",
     "text": [
      "          PC1       PC2  token\n",
      "0    0.864109 -1.427062  accul\n",
      "1    0.957488 -1.740207  aotlm\n",
      "2   -1.753780 -0.466967  asopk\n",
      "3   -0.931273 -0.677972  atlzs\n",
      "4   -0.583821 -0.312619  auvqa\n",
      "5    2.686182  0.553958  bajbm\n",
      "6   -0.017080  0.184567  bdwyj\n",
      "7   -1.708061 -0.401573  bhyhw\n",
      "8   -1.355123 -1.259547  bjvnt\n",
      "9    2.770529  0.319245  blvkx\n",
      "10  -0.087842  0.884724  buvgs\n",
      "11  -1.100507  0.736137  cmbfi\n",
      "12   3.610393  3.398402  cojqb\n",
      "13  -0.726656  0.919436  dunul\n",
      "14  -0.224578  1.738343  dwqwi\n",
      "15  -0.805707  1.529293  eayrh\n",
      "16  -0.080987 -1.607676  edxmq\n",
      "17  -0.167817  1.150326  ejeuw\n",
      "18   3.046608  0.548653  epjcx\n",
      "19   0.142689 -1.343164  epqkm\n",
      "20  -1.904483 -0.691461  eprdu\n",
      "21  -1.006939 -0.959680  ewqbs\n",
      "22  -0.881655  1.136727  fbldj\n",
      "23  -0.657180 -0.819348  fivin\n",
      "24  -0.149756  0.455774  fkmtp\n",
      "25  -0.688735  0.618124  fmtrq\n",
      "26   0.410856  2.285241  fmupf\n",
      "27  -2.505962 -0.498106  ftpnb\n",
      "28  -2.356819  1.010617  gcpze\n",
      "29   1.062495 -1.341853  gdljy\n",
      "30  -0.969010 -1.092529  gguuc\n",
      "31  -0.740951  0.311223  gleqe\n",
      "32  -0.346474 -0.572827  grkij\n",
      "33   0.871496  0.073207  gzgfk\n",
      "34   0.348224  0.544400  hcbyl\n",
      "35   2.275913  0.255451  hjpbw\n",
      "36  -0.681570 -1.520444  hpdxj\n",
      "37   0.323324 -1.428573  hqmhq\n",
      "38   0.303169 -1.084431  huyyb\n",
      "39   0.869124  0.830360  icllt\n",
      "40   1.755421 -1.776105  idmzi\n",
      "41  -0.301764  1.335396  ikcar\n",
      "42  -2.784822 -0.345318  ipdcp\n",
      "43   1.155875  1.298267  itkas\n",
      "44   1.320905  1.820976  ixrux\n",
      "45  -0.177111 -1.685173  jhbuv\n",
      "46  -0.371955 -1.079652  jozyx\n",
      "47  -1.148060 -0.421496  khadt\n",
      "48   1.084503  0.781577  khfha\n",
      "49   1.781242 -0.877341  kkliq\n",
      "50  -1.567471  2.080624  kkoif\n",
      "51  -1.505873  0.895404  kmqou\n",
      "52   2.418224 -1.185956  knewj\n",
      "53   0.206884  1.676884  krahz\n",
      "54  -0.805788  1.203486  kzles\n",
      "55   0.220178 -0.628496  lhrbj\n",
      "56   0.361427  0.885202  loemd\n",
      "57  -0.523241  0.270458  lohyo\n",
      "58  -0.186658 -0.946475  lwryl\n",
      "59   0.025829  0.671577  mewpz\n",
      "60  -3.075968 -0.706613  mgaak\n",
      "61  -1.041828  0.096580  mjiso\n",
      "62   1.681802 -1.712483  mymho\n",
      "63  -3.760855  0.051230  ngavz\n",
      "64   2.481772  1.111453  nhbnj\n",
      "65   0.576289 -0.265525  nuasx\n",
      "66  -1.210464  0.830540  oahey\n",
      "67  -0.983421 -0.674137  onyep\n",
      "68  -0.289529  0.574080  orjyn\n",
      "69  -0.891189  0.534444  pbgky\n",
      "70  -1.518034  0.533081  pbwkf\n",
      "71  -1.072690  0.793090  pleui\n",
      "72   1.130822  2.626133  pqwaf\n",
      "73   1.935146  0.360302  prpej\n",
      "74  -0.576867 -0.689955  psido\n",
      "75  -0.978436  0.494574  ptmkr\n",
      "76  -1.688614  0.962279  pygoc\n",
      "77  -0.899723  0.481438  pzfdd\n",
      "78  -1.606931  0.637823  qeqyj\n",
      "79  -2.142007 -0.632816  qfsdj\n",
      "80  -0.679853  2.351996  qgcgc\n",
      "81   2.288897  1.802593  qwnpf\n",
      "82   0.036773  1.450495  raqdt\n",
      "83  -1.553708 -0.862714  rdiaf\n",
      "84   2.954518 -1.332402  rfofs\n",
      "85   0.809204  0.821381  rkmrw\n",
      "86   1.805328  1.567082  rqaby\n",
      "87   2.641208  0.813718  rsjxu\n",
      "88   4.414203 -0.305735  sbexy\n",
      "89  -1.207240  0.788008  srjon\n",
      "90  -0.157018 -0.666109  stiry\n",
      "91   0.301795 -1.336680  swvxx\n",
      "92  -0.181631 -1.287108  sxipu\n",
      "93   2.557338  1.596302  sybwc\n",
      "94  -0.868011 -1.356200  tavin\n",
      "95   1.002277  0.857875  tcvyz\n",
      "96  -0.312785 -1.634166  tekwp\n",
      "97  -0.474955  0.218061  thaho\n",
      "98   2.626304 -1.442714  tinco\n",
      "99   0.761593 -0.697157  tjfzy\n",
      "100 -2.075971 -1.126614  tqgyp\n",
      "101 -0.297828  0.075753  ubmtx\n",
      "102 -1.204505 -1.572188  ucdvy\n",
      "103 -0.772659  1.630088  uniee\n",
      "104 -1.270079  1.642519  uzzpo\n",
      "105 -0.883893 -1.047363  vddlg\n",
      "106 -0.238849  1.560472  vsxld\n",
      "107 -0.714595 -1.287528  vvqlm\n",
      "108 -2.709000 -0.582990  wjaxi\n",
      "109  1.049009 -2.604267  wqmgq\n",
      "110 -1.570049  0.934666  xbmmw\n",
      "111  0.152507 -0.889784  xnpqf\n",
      "112  1.990570 -0.722116  xtdrq\n",
      "113 -1.098603 -1.311446  yazod\n",
      "114  0.485542 -0.801345  yfohf\n",
      "115 -0.629087  0.038378  yvpmf\n",
      "116  2.394456 -1.402575  yxewz\n",
      "117  4.241852 -3.018770  yxjji\n",
      "118  0.967608  0.453706  yyvas\n",
      "119  1.639713 -0.378847  zbgwk\n",
      "120  0.522618  1.424146  zcibf\n",
      "121 -1.748674 -0.149017  zdnso\n",
      "122  0.951834 -1.268165  zwzfv\n",
      "123 -1.083007 -0.560767  zxvkj\n"
     ]
    }
   ],
   "source": [
    "#PCA:\n",
    "\n",
    "from sklearn.decomposition import PCA\n",
    "from sklearn.preprocessing import StandardScaler\n",
    "\n",
    "df = df.reset_index(drop=True)\n",
    "\n",
    "# Crear un diccionario que asigne una etiqueta numérica única a cada combinación única de edad y género en la columna 'edad_genero'\n",
    "etiquetas_edad_genero = {valor: indice for indice, valor in enumerate(df['edad_genero'].unique())}\n",
    "\n",
    "# Convertir los valores de la columna 'edad_genero' en valores numéricos utilizando el diccionario de etiquetas\n",
    "df['edad_genero_num'] = df['edad_genero'].apply(lambda x: etiquetas_edad_genero[x])\n",
    "\n",
    "# Seleccionamos las columnas que se van a usar en el análisis, sin genero porque es string\n",
    "columnas = ['intentos', 'tiempo', 'G03Q01', 'mezcla_intentos_tiempo', 'errores', 'edad_genero_num']\n",
    "\n",
    "# Seleccionamos los datos que se van a usar en el análisis\n",
    "data = df[columnas]\n",
    "\n",
    "# Estandarizamos los datos\n",
    "data_std = StandardScaler().fit_transform(data)\n",
    "\n",
    "# Creamos un objeto PCA con el número de componentes que queremos obtener\n",
    "pca = PCA(n_components=2)\n",
    "\n",
    "# Aplicamos PCA a los datos estandarizados\n",
    "componentes_principales = pca.fit_transform(data_std)\n",
    "\n",
    "# Creamos un nuevo DataFrame con las componentes principales y los tokens\n",
    "df_pca = pd.DataFrame(data = componentes_principales, columns = ['PC1', 'PC2'])\n",
    "df_pca['token'] = df['token']\n",
    "\n",
    "# Imprimimos el nuevo DataFrame\n",
    "print(df_pca)\n"
   ]
  },
  {
   "attachments": {},
   "cell_type": "markdown",
   "metadata": {},
   "source": [
    "# con KMeans:"
   ]
  },
  {
   "cell_type": "code",
   "execution_count": 86,
   "metadata": {},
   "outputs": [
    {
     "name": "stderr",
     "output_type": "stream",
     "text": [
      "C:\\Users\\david\\AppData\\Roaming\\Python\\Python311\\site-packages\\sklearn\\cluster\\_kmeans.py:1366: FutureWarning:\n",
      "\n",
      "algorithm='full' is deprecated, it will be removed in 1.3. Using 'lloyd' instead.\n",
      "\n"
     ]
    },
    {
     "data": {
      "application/vnd.plotly.v1+json": {
       "config": {
        "plotlyServerURL": "https://plot.ly"
       },
       "data": [
        {
         "hovertext": [
          "accul<br>Género: Masculino<br>Edad: 14<br>Tiempo: 7.387431786977449<br>Intentos: 3.65<br>Errores: 7.0",
          "aotlm<br>Género: Masculino<br>Edad: 15<br>Tiempo: 8.364646464646464<br>Intentos: 2.25<br>Errores: 3.0",
          "asopk<br>Género: Masculino<br>Edad: 14<br>Tiempo: 5.66688058962668<br>Intentos: 1.8857142857142857<br>Errores: 13.0",
          "atlzs<br>Género: Femenino<br>Edad: 14<br>Tiempo: 5.2721702262779555<br>Intentos: 2.423076923076923<br>Errores: 7.0",
          "auvqa<br>Género: Femenino<br>Edad: 14<br>Tiempo: 6.953159172767432<br>Intentos: 2.0434782608695654<br>Errores: 11.0",
          "bajbm<br>Género: Femenino<br>Edad: 12<br>Tiempo: 10.741531072413425<br>Intentos: 2.2777777777777777<br>Errores: 6.0",
          "bdwyj<br>Género: Masculino<br>Edad: 13<br>Tiempo: 6.006919501533505<br>Intentos: 2.95<br>Errores: 8.0",
          "bhyhw<br>Género: Masculino<br>Edad: 14<br>Tiempo: 5.9184903996983005<br>Intentos: 1.8928571428571428<br>Errores: 14.0",
          "bjvnt<br>Género: Femenino<br>Edad: 15<br>Tiempo: 3.0<br>Intentos: 2.7<br>Errores: 0.0",
          "blvkx<br>Género: Otro<br>Edad: 13<br>Tiempo: 10.174072814537242<br>Intentos: 3.0<br>Errores: 6.0",
          "buvgs<br>Género: Femenino<br>Edad: 12<br>Tiempo: 6.534244670777939<br>Intentos: 2.6363636363636362<br>Errores: 11.0",
          "cmbfi<br>Género: Masculino<br>Edad: 13<br>Tiempo: 5.88371517945725<br>Intentos: 1.5161290322580645<br>Errores: 10.0",
          "cojqb<br>Género: Femenino<br>Edad: 8<br>Tiempo: 9.861496943227714<br>Intentos: 3.1666666666666665<br>Errores: 6.0",
          "dunul<br>Género: Otro<br>Edad: 14<br>Tiempo: 6.514073449377036<br>Intentos: 1.5862068965517242<br>Errores: 11.0",
          "dwqwi<br>Género: Femenino<br>Edad: 13<br>Tiempo: 7.042073841699589<br>Intentos: 1.8888888888888888<br>Errores: 13.0",
          "eayrh<br>Género: Femenino<br>Edad: 13<br>Tiempo: 5.227794532407455<br>Intentos: 2.739130434782609<br>Errores: 13.0",
          "edxmq<br>Género: Masculino<br>Edad: 14<br>Tiempo: 4.876273102342244<br>Intentos: 4.95<br>Errores: 9.0",
          "ejeuw<br>Género: Femenino<br>Edad: 13<br>Tiempo: 5.498622248696226<br>Intentos: 2.2857142857142856<br>Errores: 6.0",
          "epjcx<br>Género: Masculino<br>Edad: 12<br>Tiempo: 6.394230769230769<br>Intentos: 5.555555555555555<br>Errores: 0.0",
          "epqkm<br>Género: Masculino<br>Edad: 14<br>Tiempo: 6.644117647058823<br>Intentos: 2.3846153846153846<br>Errores: 3.0",
          "eprdu<br>Género: Masculino<br>Edad: 14<br>Tiempo: 4.852869642737504<br>Intentos: 1.7142857142857142<br>Errores: 9.0",
          "ewqbs<br>Género: Masculino<br>Edad: 14<br>Tiempo: 5.38814728751379<br>Intentos: 3.1363636363636362<br>Errores: 11.0",
          "fbldj<br>Género: Femenino<br>Edad: 12<br>Tiempo: 5.926862242549875<br>Intentos: 2.037037037037037<br>Errores: 12.0",
          "fivin<br>Género: Femenino<br>Edad: 15<br>Tiempo: 5.590452350679623<br>Intentos: 2.0<br>Errores: 4.0",
          "fkmtp<br>Género: Masculino<br>Edad: 13<br>Tiempo: 6.539926664430361<br>Intentos: 2.72<br>Errores: 11.0",
          "fmtrq<br>Género: Masculino<br>Edad: 13<br>Tiempo: 6.209522594985178<br>Intentos: 1.9130434782608696<br>Errores: 10.0",
          "fmupf<br>Género: Masculino<br>Edad: 12<br>Tiempo: 7.103058166613154<br>Intentos: 2.1666666666666665<br>Errores: 11.0",
          "ftpnb<br>Género: Masculino<br>Edad: 14<br>Tiempo: 4.317314444755255<br>Intentos: 1.5714285714285714<br>Errores: 11.0",
          "gcpze<br>Género: Masculino<br>Edad: 13<br>Tiempo: 4.3781678015463505<br>Intentos: 1.4<br>Errores: 13.0",
          "gdljy<br>Género: Femenino<br>Edad: 14<br>Tiempo: 6.65150950240236<br>Intentos: 4.176470588235294<br>Errores: 5.0",
          "gguuc<br>Género: Femenino<br>Edad: 15<br>Tiempo: 3.6981225296442686<br>Intentos: 4.35<br>Errores: 9.0",
          "gleqe<br>Género: Masculino<br>Edad: 13<br>Tiempo: 5.278053630898049<br>Intentos: 2.04<br>Errores: 6.0",
          "grkij<br>Género: Femenino<br>Edad: 14<br>Tiempo: 6.583177414607362<br>Intentos: 2.4782608695652173<br>Errores: 9.0",
          "gzgfk<br>Género: Femenino<br>Edad: 13<br>Tiempo: 3.9166666666666665<br>Intentos: 4.666666666666667<br>Errores: 0.0",
          "hcbyl<br>Género: Otro<br>Edad: 13<br>Tiempo: 6.363010504767166<br>Intentos: 3.2<br>Errores: 9.0",
          "hjpbw<br>Género: Masculino<br>Edad: 13<br>Tiempo: 10.37903913026864<br>Intentos: 2.6842105263157894<br>Errores: 9.0",
          "hpdxj<br>Género: Masculino<br>Edad: 14<br>Tiempo: 4.500753955856378<br>Intentos: 3.142857142857143<br>Errores: 3.0",
          "hqmhq<br>Género: Masculino<br>Edad: 15<br>Tiempo: 8.195984432234432<br>Intentos: 1.6666666666666667<br>Errores: 5.0",
          "huyyb<br>Género: Masculino<br>Edad: 14<br>Tiempo: 7.531805612687966<br>Intentos: 2.6842105263157894<br>Errores: 8.0",
          "icllt<br>Género: Femenino<br>Edad: 12<br>Tiempo: 8.219693111179078<br>Intentos: 2.217391304347826<br>Errores: 9.0",
          "idmzi<br>Género: Masculino<br>Edad: 14<br>Tiempo: 8.093333333333334<br>Intentos: 3.5714285714285716<br>Errores: 2.0",
          "ikcar<br>Género: Femenino<br>Edad: 13<br>Tiempo: 5.853960325129708<br>Intentos: 1.8636363636363635<br>Errores: 7.0",
          "ipdcp<br>Género: Masculino<br>Edad: 14<br>Tiempo: 4.02126287071644<br>Intentos: 2.3181818181818183<br>Errores: 16.0",
          "itkas<br>Género: Masculino<br>Edad: 12<br>Tiempo: 5.241525141525141<br>Intentos: 4.5<br>Errores: 6.0",
          "ixrux<br>Género: Masculino<br>Edad: 12<br>Tiempo: 7.1570929417651<br>Intentos: 3.55<br>Errores: 10.0",
          "jhbuv<br>Género: Masculino<br>Edad: 15<br>Tiempo: 6.425109456938725<br>Intentos: 2.4285714285714284<br>Errores: 4.0",
          "jozyx<br>Género: Femenino<br>Edad: 14<br>Tiempo: 4.979539345063539<br>Intentos: 3.3529411764705883<br>Errores: 5.0",
          "khadt<br>Género: Femenino<br>Edad: 14<br>Tiempo: 5.666210100696625<br>Intentos: 2.0<br>Errores: 9.0",
          "khfha<br>Género: Femenino<br>Edad: 13<br>Tiempo: 6.31875062232205<br>Intentos: 4.045454545454546<br>Errores: 8.0",
          "kkliq<br>Género: Femenino<br>Edad: 14<br>Tiempo: 9.435239681205685<br>Intentos: 3.125<br>Errores: 8.0",
          "kkoif<br>Género: Femenino<br>Edad: 13<br>Tiempo: 5.55540728042366<br>Intentos: 1.7857142857142858<br>Errores: 17.0",
          "kmqou<br>Género: Otro<br>Edad: 13<br>Tiempo: 4.042613993727187<br>Intentos: 2.8636363636363638<br>Errores: 12.0",
          "knewj<br>Género: Femenino<br>Edad: 15<br>Tiempo: 10.15079365079365<br>Intentos: 2.0<br>Errores: 0.0",
          "krahz<br>Género: Femenino<br>Edad: 13<br>Tiempo: 7.7430285873192455<br>Intentos: 1.5555555555555556<br>Errores: 11.0",
          "kzles<br>Género: Femenino<br>Edad: 12<br>Tiempo: 6.373680221239488<br>Intentos: 1.52<br>Errores: 11.0",
          "lhrbj<br>Género: Femenino<br>Edad: 15<br>Tiempo: 7.676746335952185<br>Intentos: 1.9583333333333333<br>Errores: 7.0",
          "loemd<br>Género: Otro<br>Edad: 14<br>Tiempo: 8.376097840029855<br>Intentos: 1.5925925925925926<br>Errores: 11.0",
          "lohyo<br>Género: Femenino<br>Edad: 12<br>Tiempo: 3.659881180504039<br>Intentos: 4.476190476190476<br>Errores: 9.0",
          "lwryl<br>Género: Masculino<br>Edad: 14<br>Tiempo: 7.0002127939627945<br>Intentos: 2.736842105263158<br>Errores: 10.0",
          "mewpz<br>Género: Femenino<br>Edad: 12<br>Tiempo: 5.905385991682576<br>Intentos: 3.6818181818181817<br>Errores: 12.0",
          "mgaak<br>Género: Masculino<br>Edad: 15<br>Tiempo: 4.055539013831696<br>Intentos: 1.4<br>Errores: 13.0",
          "mjiso<br>Género: Femenino<br>Edad: 15<br>Tiempo: 7.447546147080591<br>Intentos: 1.44<br>Errores: 15.0",
          "mymho<br>Género: Femenino<br>Edad: 15<br>Tiempo: 6.705357142857143<br>Intentos: 4.833333333333333<br>Errores: 3.0",
          "ngavz<br>Género: Masculino<br>Edad: 14<br>Tiempo: 3.2644416828591605<br>Intentos: 2.4857142857142858<br>Errores: 22.0",
          "nhbnj<br>Género: Masculino<br>Edad: 12<br>Tiempo: 6.987273001508295<br>Intentos: 5.052631578947368<br>Errores: 6.0",
          "nuasx<br>Género: Masculino<br>Edad: 13<br>Tiempo: 5.669475396398473<br>Intentos: 3.8<br>Errores: 5.0",
          "oahey<br>Género: Masculino<br>Edad: 13<br>Tiempo: 5.888230004492558<br>Intentos: 1.6896551724137931<br>Errores: 12.0",
          "onyep<br>Género: Femenino<br>Edad: 14<br>Tiempo: 4.852661348416973<br>Intentos: 3.7037037037037037<br>Errores: 12.0",
          "orjyn<br>Género: Femenino<br>Edad: 12<br>Tiempo: 4.978347070236471<br>Intentos: 4.083333333333333<br>Errores: 12.0",
          "pbgky<br>Género: Masculino<br>Edad: 13<br>Tiempo: 5.538329124262537<br>Intentos: 2.25<br>Errores: 10.0",
          "pbwkf<br>Género: Masculino<br>Edad: 13<br>Tiempo: 4.321942704624349<br>Intentos: 2.5833333333333335<br>Errores: 11.0",
          "pleui<br>Género: Masculino<br>Edad: 13<br>Tiempo: 6.004582190286532<br>Intentos: 1.8148148148148149<br>Errores: 12.0",
          "pqwaf<br>Género: Masculino<br>Edad: 12<br>Tiempo: 9.510852573352572<br>Intentos: 1.3214285714285714<br>Errores: 13.0",
          "prpej<br>Género: Femenino<br>Edad: 12<br>Tiempo: 8.875632870297162<br>Intentos: 2.3157894736842106<br>Errores: 3.0",
          "psido<br>Género: Masculino<br>Edad: 14<br>Tiempo: 7.010320140118698<br>Intentos: 2.590909090909091<br>Errores: 13.0",
          "ptmkr<br>Género: Masculino<br>Edad: 13<br>Tiempo: 4.829526955520797<br>Intentos: 3.9565217391304346<br>Errores: 16.0",
          "pygoc<br>Género: Otro<br>Edad: 14<br>Tiempo: 4.913241611079862<br>Intentos: 1.5333333333333334<br>Errores: 11.0",
          "pzfdd<br>Género: Masculino<br>Edad: 13<br>Tiempo: 5.331609096527827<br>Intentos: 2.45<br>Errores: 10.0",
          "qeqyj<br>Género: Masculino<br>Edad: 13<br>Tiempo: 4.537446423088415<br>Intentos: 2.2<br>Errores: 11.0",
          "qfsdj<br>Género: Masculino<br>Edad: 15<br>Tiempo: 5.958268429806341<br>Intentos: 1.2758620689655173<br>Errores: 14.0",
          "qgcgc<br>Género: Masculino<br>Edad: 12<br>Tiempo: 5.285877107231274<br>Intentos: 2.2962962962962963<br>Errores: 12.0",
          "qwnpf<br>Género: Masculino<br>Edad: 12<br>Tiempo: 9.060051963293853<br>Intentos: 2.736842105263158<br>Errores: 7.0",
          "raqdt<br>Género: Femenino<br>Edad: 13<br>Tiempo: 6.751497953227829<br>Intentos: 1.9090909090909092<br>Errores: 9.0",
          "rdiaf<br>Género: Masculino<br>Edad: 14<br>Tiempo: 4.537196446447847<br>Intentos: 3.607142857142857<br>Errores: 14.0",
          "rfofs<br>Género: Masculino<br>Edad: 13<br>Tiempo: 6.5<br>Intentos: 6.25<br>Errores: 0.0",
          "rkmrw<br>Género: Femenino<br>Edad: 12<br>Tiempo: 8.145612216959922<br>Intentos: 2.0<br>Errores: 8.0",
          "rqaby<br>Género: Masculino<br>Edad: 12<br>Tiempo: 7.260729949874687<br>Intentos: 3.933333333333333<br>Errores: 8.0",
          "rsjxu<br>Género: Otro<br>Edad: 12<br>Tiempo: 5.637196336121067<br>Intentos: 6.071428571428571<br>Errores: 3.0",
          "sbexy<br>Género: Femenino<br>Edad: 12<br>Tiempo: 10.997455322455323<br>Intentos: 4.538461538461538<br>Errores: 3.0",
          "srjon<br>Género: Masculino<br>Edad: 13<br>Tiempo: 5.876009356765388<br>Intentos: 1.3333333333333333<br>Errores: 10.0",
          "stiry<br>Género: Femenino<br>Edad: 15<br>Tiempo: 7.055726092089728<br>Intentos: 1.368421052631579<br>Errores: 4.0",
          "swvxx<br>Género: Masculino<br>Edad: 14<br>Tiempo: 6.619645302334431<br>Intentos: 3.6315789473684212<br>Errores: 8.0",
          "sxipu<br>Género: Femenino<br>Edad: 14<br>Tiempo: 4.511074696811374<br>Intentos: 4.368421052631579<br>Errores: 6.0",
          "sybwc<br>Género: Masculino<br>Edad: 12<br>Tiempo: 9.07651727876489<br>Intentos: 2.45<br>Errores: 3.0",
          "tavin<br>Género: Masculino<br>Edad: 15<br>Tiempo: 6.012539279585058<br>Intentos: 2.56<br>Errores: 9.0",
          "tcvyz<br>Género: Femenino<br>Edad: 13<br>Tiempo: 6.714398629879443<br>Intentos: 2.736842105263158<br>Errores: 4.0",
          "tekwp<br>Género: Masculino<br>Edad: 14<br>Tiempo: 4.290134128369423<br>Intentos: 5.333333333333333<br>Errores: 10.0",
          "thaho<br>Género: Masculino<br>Edad: 13<br>Tiempo: 5.156926548397137<br>Intentos: 3.391304347826087<br>Errores: 10.0",
          "tinco<br>Género: Femenino<br>Edad: 15<br>Tiempo: 9.401666666666666<br>Intentos: 3.7142857142857144<br>Errores: 3.0",
          "tjfzy<br>Género: Masculino<br>Edad: 13<br>Tiempo: 4.451075787092688<br>Intentos: 5.4<br>Errores: 5.0",
          "tqgyp<br>Género: Masculino<br>Edad: 14<br>Tiempo: 2.4972596987591933<br>Intentos: 5.172413793103448<br>Errores: 16.0",
          "ubmtx<br>Género: Otro<br>Edad: 14<br>Tiempo: 4.38939568397978<br>Intentos: 4.190476190476191<br>Errores: 9.0",
          "ucdvy<br>Género: Masculino<br>Edad: 15<br>Tiempo: 4.5519962022364195<br>Intentos: 3.6666666666666665<br>Errores: 10.0",
          "uniee<br>Género: Femenino<br>Edad: 13<br>Tiempo: 5.448670088220188<br>Intentos: 3.130434782608696<br>Errores: 16.0",
          "uzzpo<br>Género: Femenino<br>Edad: 13<br>Tiempo: 4.991653613267097<br>Intentos: 1.5925925925925926<br>Errores: 10.0",
          "vddlg<br>Género: Femenino<br>Edad: 14<br>Tiempo: 4.5<br>Intentos: 2.0<br>Errores: 0.0",
          "vsxld<br>Género: Femenino<br>Edad: 13<br>Tiempo: 6.712788207361145<br>Intentos: 1.2692307692307692<br>Errores: 8.0",
          "vvqlm<br>Género: Masculino<br>Edad: 14<br>Tiempo: 5.077514397367338<br>Intentos: 3.0454545454545454<br>Errores: 6.0",
          "wjaxi<br>Género: Masculino<br>Edad: 15<br>Tiempo: 4.900420233547792<br>Intentos: 1.9259259259259258<br>Errores: 17.0",
          "wqmgq<br>Género: Masculino<br>Edad: 15<br>Tiempo: 5.2804359890976835<br>Intentos: 6.0<br>Errores: 5.0",
          "xbmmw<br>Género: Masculino<br>Edad: 13<br>Tiempo: 5.33702511921322<br>Intentos: 2.3703703703703702<br>Errores: 16.0",
          "xnpqf<br>Género: Masculino<br>Edad: 14<br>Tiempo: 8.094084874448411<br>Intentos: 1.4545454545454546<br>Errores: 6.0",
          "xtdrq<br>Género: Femenino<br>Edad: 15<br>Tiempo: 10.569654997779997<br>Intentos: 2.111111111111111<br>Errores: 7.0",
          "yazod<br>Género: Masculino<br>Edad: 15<br>Tiempo: 5.820794022420461<br>Intentos: 2.16<br>Errores: 8.0",
          "yfohf<br>Género: Femenino<br>Edad: 14<br>Tiempo: 7.4126016202935165<br>Intentos: 2.727272727272727<br>Errores: 7.0",
          "yvpmf<br>Género: Masculino<br>Edad: 13<br>Tiempo: 4.227706940869089<br>Intentos: 4.083333333333333<br>Errores: 10.0",
          "yxewz<br>Género: Femenino<br>Edad: 15<br>Tiempo: 8.988076891634204<br>Intentos: 4.105263157894737<br>Errores: 5.0",
          "yxjji<br>Género: Masculino<br>Edad: 15<br>Tiempo: 9.882352941176471<br>Intentos: 6.166666666666667<br>Errores: 1.0",
          "yyvas<br>Género: Femenino<br>Edad: 12<br>Tiempo: 6.905855737364679<br>Intentos: 4.136363636363637<br>Errores: 11.0",
          "zbgwk<br>Género: Otro<br>Edad: 15<br>Tiempo: 5.978548644338118<br>Intentos: 4.933333333333334<br>Errores: 4.0",
          "zcibf<br>Género: Femenino<br>Edad: 13<br>Tiempo: 7.610657148234788<br>Intentos: 1.6956521739130435<br>Errores: 8.0",
          "zdnso<br>Género: Femenino<br>Edad: 15<br>Tiempo: 5.407340943181171<br>Intentos: 1.9259259259259258<br>Errores: 13.0",
          "zwzfv<br>Género: Masculino<br>Edad: 14<br>Tiempo: 8.120519417737954<br>Intentos: 3.0434782608695654<br>Errores: 7.0",
          "zxvkj<br>Género: Femenino<br>Edad: 14<br>Tiempo: 5.417953081606242<br>Intentos: 2.0<br>Errores: 7.0"
         ],
         "marker": {
          "color": [
           3,
           3,
           5,
           4,
           4,
           2,
           1,
           5,
           4,
           2,
           1,
           5,
           2,
           1,
           1,
           1,
           4,
           1,
           2,
           4,
           5,
           4,
           1,
           4,
           1,
           5,
           1,
           5,
           5,
           3,
           4,
           5,
           4,
           1,
           1,
           2,
           4,
           4,
           4,
           1,
           3,
           1,
           5,
           1,
           1,
           4,
           4,
           5,
           1,
           3,
           1,
           5,
           3,
           1,
           1,
           4,
           1,
           5,
           4,
           1,
           5,
           5,
           3,
           5,
           2,
           4,
           5,
           4,
           1,
           5,
           5,
           5,
           1,
           2,
           4,
           5,
           5,
           5,
           5,
           5,
           1,
           2,
           1,
           4,
           3,
           1,
           2,
           2,
           2,
           5,
           4,
           4,
           4,
           2,
           4,
           1,
           4,
           5,
           3,
           4,
           4,
           5,
           4,
           1,
           1,
           4,
           1,
           4,
           5,
           3,
           5,
           4,
           3,
           4,
           4,
           5,
           3,
           3,
           1,
           3,
           1,
           5,
           3,
           4
          ],
          "colorscale": [
           [
            0,
            "#440154"
           ],
           [
            0.1111111111111111,
            "#482878"
           ],
           [
            0.2222222222222222,
            "#3e4989"
           ],
           [
            0.3333333333333333,
            "#31688e"
           ],
           [
            0.4444444444444444,
            "#26828e"
           ],
           [
            0.5555555555555556,
            "#1f9e89"
           ],
           [
            0.6666666666666666,
            "#35b779"
           ],
           [
            0.7777777777777778,
            "#6ece58"
           ],
           [
            0.8888888888888888,
            "#b5de2b"
           ],
           [
            1,
            "#fde725"
           ]
          ],
          "opacity": 0.8,
          "size": 10
         },
         "mode": "markers",
         "type": "scatter",
         "x": [
          0.8641089737469135,
          0.9574878704636077,
          -1.7537795329432413,
          -0.9312728763292583,
          -0.5838213722960407,
          2.686182042085741,
          -0.017080241007785272,
          -1.7080608241582758,
          -1.3551231556277485,
          2.7705286933707516,
          -0.08784193666521405,
          -1.1005073293697551,
          3.610392813243349,
          -0.7266563128459591,
          -0.22457809591029274,
          -0.8057069357362605,
          -0.08098690205887195,
          -0.16781699913191642,
          3.046608116716654,
          0.1426886374167572,
          -1.904482779092636,
          -1.0069389151022305,
          -0.8816546304820503,
          -0.6571800122125185,
          -0.14975565770774352,
          -0.6887349206315138,
          0.41085641819752994,
          -2.505962359222046,
          -2.356819349396004,
          1.0624953145833544,
          -0.9690102240648159,
          -0.7409512836796894,
          -0.3464742215162442,
          0.8714964039537846,
          0.34822356287074707,
          2.2759130598058603,
          -0.6815702331603065,
          0.32332436703055745,
          0.3031694039865983,
          0.8691240260482535,
          1.755420831749533,
          -0.3017635350349813,
          -2.7848216032551725,
          1.1558749897546527,
          1.3209054962679134,
          -0.17711110581849784,
          -0.37195469728832786,
          -1.1480602349222317,
          1.0845025098107859,
          1.7812423693049753,
          -1.5674706944270764,
          -1.505872638861708,
          2.4182242022495126,
          0.2068838276161218,
          -0.805787561087033,
          0.22017838446817664,
          0.36142701049017883,
          -0.523241275208529,
          -0.18665765405487256,
          0.025828905457520836,
          -3.0759679691138015,
          -1.041828020207621,
          1.6818019996748206,
          -3.760854849112779,
          2.4817718231368087,
          0.576289178282607,
          -1.210464381992863,
          -0.9834213082125666,
          -0.2895291512411758,
          -0.8911894012124149,
          -1.518034311896247,
          -1.0726897756752656,
          1.1308221428824614,
          1.9351458905996337,
          -0.5768671338083986,
          -0.978436147551505,
          -1.688614008590549,
          -0.8997227293760236,
          -1.6069307289347965,
          -2.1420070359723016,
          -0.6798530618403654,
          2.288897218389809,
          0.03677318343492257,
          -1.5537084789956486,
          2.954517557161832,
          0.8092042995602986,
          1.8053280064672927,
          2.641207523508477,
          4.4142030680224105,
          -1.207240453678275,
          -0.15701809650812854,
          0.30179483538022495,
          -0.1816305027466389,
          2.5573384970315085,
          -0.8680108558012135,
          1.0022765969861358,
          -0.31278549425023217,
          -0.4749549817762839,
          2.62630368128008,
          0.7615925996088488,
          -2.075970673670111,
          -0.297827749227898,
          -1.2045052263250942,
          -0.7726588371039891,
          -1.2700785428197756,
          -0.883893388296818,
          -0.2388488564805479,
          -0.7145950817560326,
          -2.7090001443050125,
          1.0490088492923337,
          -1.5700486443304411,
          0.1525073122572193,
          1.9905696204193783,
          -1.0986030096438617,
          0.4855420779102759,
          -0.6290871054170344,
          2.394456358675667,
          4.241851608441828,
          0.9676082187677386,
          1.6397133948986788,
          0.5226176685568065,
          -1.7486739765339814,
          0.9518342484663975,
          -1.0830074750717884
         ],
         "y": [
          -1.4270623245355456,
          -1.740206564287605,
          -0.4669667721284421,
          -0.6779724694748417,
          -0.3126188040358363,
          0.5539583510829971,
          0.18456667631053558,
          -0.401572746011646,
          -1.259547063611839,
          0.3192449479610743,
          0.884724268256032,
          0.7361371335156323,
          3.39840168829153,
          0.9194360733816177,
          1.7383426592068159,
          1.529293476778516,
          -1.6076761059997047,
          1.1503257552722121,
          0.5486527743991473,
          -1.3431642289320864,
          -0.6914609988811761,
          -0.9596801094395364,
          1.1367272611382497,
          -0.8193481241847345,
          0.45577386172996,
          0.6181241153950209,
          2.28524118594053,
          -0.49810644688347583,
          1.0106165959905555,
          -1.3418532719538416,
          -1.092529014108473,
          0.3112231729657243,
          -0.5728274535733767,
          0.07320734244668721,
          0.5444004775205906,
          0.25545061132416574,
          -1.5204436339883194,
          -1.4285730042082883,
          -1.084430753958298,
          0.8303595739255271,
          -1.776104625157015,
          1.3353961583717253,
          -0.3453178429549583,
          1.2982667086500979,
          1.8209764751369564,
          -1.6851734642754432,
          -1.0796516458286898,
          -0.4214958626810301,
          0.781577069689263,
          -0.8773406164065908,
          2.08062425282335,
          0.8954037105394217,
          -1.1859559484551203,
          1.67688436443359,
          1.2034860341613063,
          -0.6284955039423845,
          0.8852016902902367,
          0.2704581510581574,
          -0.9464745802376263,
          0.6715771720266369,
          -0.7066129199343195,
          0.09657997559440651,
          -1.7124828061176638,
          0.05122993036818199,
          1.1114527404959853,
          -0.2655254637164313,
          0.8305401158639696,
          -0.6741366392609026,
          0.5740802485194053,
          0.5344437553842273,
          0.5330808143538318,
          0.793089788028954,
          2.6261330993789036,
          0.36030202281931156,
          -0.689954693993544,
          0.49457356653060663,
          0.9622793140470995,
          0.481437565745069,
          0.6378230582121096,
          -0.6328164974628395,
          2.35199551273321,
          1.8025931482153597,
          1.4504954419895901,
          -0.8627136484601472,
          -1.3324022350286664,
          0.8213807272898493,
          1.5670815270053056,
          0.8137184515384481,
          -0.3057345336159708,
          0.7880081843137086,
          -0.6661093324470235,
          -1.3366801989791648,
          -1.2871082321806262,
          1.5963018426807654,
          -1.3561997216883648,
          0.8578750296355573,
          -1.6341663164273568,
          0.21806131460092856,
          -1.442713663236917,
          -0.6971567574241013,
          -1.126613634578404,
          0.07575329544197745,
          -1.5721880180483494,
          1.6300880060695515,
          1.642519304334435,
          -1.047363392316758,
          1.5604723975139312,
          -1.2875275880905455,
          -0.5829900472799804,
          -2.6042667024689976,
          0.9346655700965895,
          -0.8897843317773411,
          -0.7221161704344843,
          -1.3114455244672656,
          -0.8013447930867341,
          0.03837793880348284,
          -1.4025748823646378,
          -3.018770401834392,
          0.45370614531897324,
          -0.37884718986013405,
          1.424145580524474,
          -0.14901698747228415,
          -1.268164526949072,
          -0.5607673723227163
         ]
        }
       ],
       "layout": {
        "height": 600,
        "template": {
         "data": {
          "bar": [
           {
            "error_x": {
             "color": "#2a3f5f"
            },
            "error_y": {
             "color": "#2a3f5f"
            },
            "marker": {
             "line": {
              "color": "#E5ECF6",
              "width": 0.5
             },
             "pattern": {
              "fillmode": "overlay",
              "size": 10,
              "solidity": 0.2
             }
            },
            "type": "bar"
           }
          ],
          "barpolar": [
           {
            "marker": {
             "line": {
              "color": "#E5ECF6",
              "width": 0.5
             },
             "pattern": {
              "fillmode": "overlay",
              "size": 10,
              "solidity": 0.2
             }
            },
            "type": "barpolar"
           }
          ],
          "carpet": [
           {
            "aaxis": {
             "endlinecolor": "#2a3f5f",
             "gridcolor": "white",
             "linecolor": "white",
             "minorgridcolor": "white",
             "startlinecolor": "#2a3f5f"
            },
            "baxis": {
             "endlinecolor": "#2a3f5f",
             "gridcolor": "white",
             "linecolor": "white",
             "minorgridcolor": "white",
             "startlinecolor": "#2a3f5f"
            },
            "type": "carpet"
           }
          ],
          "choropleth": [
           {
            "colorbar": {
             "outlinewidth": 0,
             "ticks": ""
            },
            "type": "choropleth"
           }
          ],
          "contour": [
           {
            "colorbar": {
             "outlinewidth": 0,
             "ticks": ""
            },
            "colorscale": [
             [
              0,
              "#0d0887"
             ],
             [
              0.1111111111111111,
              "#46039f"
             ],
             [
              0.2222222222222222,
              "#7201a8"
             ],
             [
              0.3333333333333333,
              "#9c179e"
             ],
             [
              0.4444444444444444,
              "#bd3786"
             ],
             [
              0.5555555555555556,
              "#d8576b"
             ],
             [
              0.6666666666666666,
              "#ed7953"
             ],
             [
              0.7777777777777778,
              "#fb9f3a"
             ],
             [
              0.8888888888888888,
              "#fdca26"
             ],
             [
              1,
              "#f0f921"
             ]
            ],
            "type": "contour"
           }
          ],
          "contourcarpet": [
           {
            "colorbar": {
             "outlinewidth": 0,
             "ticks": ""
            },
            "type": "contourcarpet"
           }
          ],
          "heatmap": [
           {
            "colorbar": {
             "outlinewidth": 0,
             "ticks": ""
            },
            "colorscale": [
             [
              0,
              "#0d0887"
             ],
             [
              0.1111111111111111,
              "#46039f"
             ],
             [
              0.2222222222222222,
              "#7201a8"
             ],
             [
              0.3333333333333333,
              "#9c179e"
             ],
             [
              0.4444444444444444,
              "#bd3786"
             ],
             [
              0.5555555555555556,
              "#d8576b"
             ],
             [
              0.6666666666666666,
              "#ed7953"
             ],
             [
              0.7777777777777778,
              "#fb9f3a"
             ],
             [
              0.8888888888888888,
              "#fdca26"
             ],
             [
              1,
              "#f0f921"
             ]
            ],
            "type": "heatmap"
           }
          ],
          "heatmapgl": [
           {
            "colorbar": {
             "outlinewidth": 0,
             "ticks": ""
            },
            "colorscale": [
             [
              0,
              "#0d0887"
             ],
             [
              0.1111111111111111,
              "#46039f"
             ],
             [
              0.2222222222222222,
              "#7201a8"
             ],
             [
              0.3333333333333333,
              "#9c179e"
             ],
             [
              0.4444444444444444,
              "#bd3786"
             ],
             [
              0.5555555555555556,
              "#d8576b"
             ],
             [
              0.6666666666666666,
              "#ed7953"
             ],
             [
              0.7777777777777778,
              "#fb9f3a"
             ],
             [
              0.8888888888888888,
              "#fdca26"
             ],
             [
              1,
              "#f0f921"
             ]
            ],
            "type": "heatmapgl"
           }
          ],
          "histogram": [
           {
            "marker": {
             "pattern": {
              "fillmode": "overlay",
              "size": 10,
              "solidity": 0.2
             }
            },
            "type": "histogram"
           }
          ],
          "histogram2d": [
           {
            "colorbar": {
             "outlinewidth": 0,
             "ticks": ""
            },
            "colorscale": [
             [
              0,
              "#0d0887"
             ],
             [
              0.1111111111111111,
              "#46039f"
             ],
             [
              0.2222222222222222,
              "#7201a8"
             ],
             [
              0.3333333333333333,
              "#9c179e"
             ],
             [
              0.4444444444444444,
              "#bd3786"
             ],
             [
              0.5555555555555556,
              "#d8576b"
             ],
             [
              0.6666666666666666,
              "#ed7953"
             ],
             [
              0.7777777777777778,
              "#fb9f3a"
             ],
             [
              0.8888888888888888,
              "#fdca26"
             ],
             [
              1,
              "#f0f921"
             ]
            ],
            "type": "histogram2d"
           }
          ],
          "histogram2dcontour": [
           {
            "colorbar": {
             "outlinewidth": 0,
             "ticks": ""
            },
            "colorscale": [
             [
              0,
              "#0d0887"
             ],
             [
              0.1111111111111111,
              "#46039f"
             ],
             [
              0.2222222222222222,
              "#7201a8"
             ],
             [
              0.3333333333333333,
              "#9c179e"
             ],
             [
              0.4444444444444444,
              "#bd3786"
             ],
             [
              0.5555555555555556,
              "#d8576b"
             ],
             [
              0.6666666666666666,
              "#ed7953"
             ],
             [
              0.7777777777777778,
              "#fb9f3a"
             ],
             [
              0.8888888888888888,
              "#fdca26"
             ],
             [
              1,
              "#f0f921"
             ]
            ],
            "type": "histogram2dcontour"
           }
          ],
          "mesh3d": [
           {
            "colorbar": {
             "outlinewidth": 0,
             "ticks": ""
            },
            "type": "mesh3d"
           }
          ],
          "parcoords": [
           {
            "line": {
             "colorbar": {
              "outlinewidth": 0,
              "ticks": ""
             }
            },
            "type": "parcoords"
           }
          ],
          "pie": [
           {
            "automargin": true,
            "type": "pie"
           }
          ],
          "scatter": [
           {
            "fillpattern": {
             "fillmode": "overlay",
             "size": 10,
             "solidity": 0.2
            },
            "type": "scatter"
           }
          ],
          "scatter3d": [
           {
            "line": {
             "colorbar": {
              "outlinewidth": 0,
              "ticks": ""
             }
            },
            "marker": {
             "colorbar": {
              "outlinewidth": 0,
              "ticks": ""
             }
            },
            "type": "scatter3d"
           }
          ],
          "scattercarpet": [
           {
            "marker": {
             "colorbar": {
              "outlinewidth": 0,
              "ticks": ""
             }
            },
            "type": "scattercarpet"
           }
          ],
          "scattergeo": [
           {
            "marker": {
             "colorbar": {
              "outlinewidth": 0,
              "ticks": ""
             }
            },
            "type": "scattergeo"
           }
          ],
          "scattergl": [
           {
            "marker": {
             "colorbar": {
              "outlinewidth": 0,
              "ticks": ""
             }
            },
            "type": "scattergl"
           }
          ],
          "scattermapbox": [
           {
            "marker": {
             "colorbar": {
              "outlinewidth": 0,
              "ticks": ""
             }
            },
            "type": "scattermapbox"
           }
          ],
          "scatterpolar": [
           {
            "marker": {
             "colorbar": {
              "outlinewidth": 0,
              "ticks": ""
             }
            },
            "type": "scatterpolar"
           }
          ],
          "scatterpolargl": [
           {
            "marker": {
             "colorbar": {
              "outlinewidth": 0,
              "ticks": ""
             }
            },
            "type": "scatterpolargl"
           }
          ],
          "scatterternary": [
           {
            "marker": {
             "colorbar": {
              "outlinewidth": 0,
              "ticks": ""
             }
            },
            "type": "scatterternary"
           }
          ],
          "surface": [
           {
            "colorbar": {
             "outlinewidth": 0,
             "ticks": ""
            },
            "colorscale": [
             [
              0,
              "#0d0887"
             ],
             [
              0.1111111111111111,
              "#46039f"
             ],
             [
              0.2222222222222222,
              "#7201a8"
             ],
             [
              0.3333333333333333,
              "#9c179e"
             ],
             [
              0.4444444444444444,
              "#bd3786"
             ],
             [
              0.5555555555555556,
              "#d8576b"
             ],
             [
              0.6666666666666666,
              "#ed7953"
             ],
             [
              0.7777777777777778,
              "#fb9f3a"
             ],
             [
              0.8888888888888888,
              "#fdca26"
             ],
             [
              1,
              "#f0f921"
             ]
            ],
            "type": "surface"
           }
          ],
          "table": [
           {
            "cells": {
             "fill": {
              "color": "#EBF0F8"
             },
             "line": {
              "color": "white"
             }
            },
            "header": {
             "fill": {
              "color": "#C8D4E3"
             },
             "line": {
              "color": "white"
             }
            },
            "type": "table"
           }
          ]
         },
         "layout": {
          "annotationdefaults": {
           "arrowcolor": "#2a3f5f",
           "arrowhead": 0,
           "arrowwidth": 1
          },
          "autotypenumbers": "strict",
          "coloraxis": {
           "colorbar": {
            "outlinewidth": 0,
            "ticks": ""
           }
          },
          "colorscale": {
           "diverging": [
            [
             0,
             "#8e0152"
            ],
            [
             0.1,
             "#c51b7d"
            ],
            [
             0.2,
             "#de77ae"
            ],
            [
             0.3,
             "#f1b6da"
            ],
            [
             0.4,
             "#fde0ef"
            ],
            [
             0.5,
             "#f7f7f7"
            ],
            [
             0.6,
             "#e6f5d0"
            ],
            [
             0.7,
             "#b8e186"
            ],
            [
             0.8,
             "#7fbc41"
            ],
            [
             0.9,
             "#4d9221"
            ],
            [
             1,
             "#276419"
            ]
           ],
           "sequential": [
            [
             0,
             "#0d0887"
            ],
            [
             0.1111111111111111,
             "#46039f"
            ],
            [
             0.2222222222222222,
             "#7201a8"
            ],
            [
             0.3333333333333333,
             "#9c179e"
            ],
            [
             0.4444444444444444,
             "#bd3786"
            ],
            [
             0.5555555555555556,
             "#d8576b"
            ],
            [
             0.6666666666666666,
             "#ed7953"
            ],
            [
             0.7777777777777778,
             "#fb9f3a"
            ],
            [
             0.8888888888888888,
             "#fdca26"
            ],
            [
             1,
             "#f0f921"
            ]
           ],
           "sequentialminus": [
            [
             0,
             "#0d0887"
            ],
            [
             0.1111111111111111,
             "#46039f"
            ],
            [
             0.2222222222222222,
             "#7201a8"
            ],
            [
             0.3333333333333333,
             "#9c179e"
            ],
            [
             0.4444444444444444,
             "#bd3786"
            ],
            [
             0.5555555555555556,
             "#d8576b"
            ],
            [
             0.6666666666666666,
             "#ed7953"
            ],
            [
             0.7777777777777778,
             "#fb9f3a"
            ],
            [
             0.8888888888888888,
             "#fdca26"
            ],
            [
             1,
             "#f0f921"
            ]
           ]
          },
          "colorway": [
           "#636efa",
           "#EF553B",
           "#00cc96",
           "#ab63fa",
           "#FFA15A",
           "#19d3f3",
           "#FF6692",
           "#B6E880",
           "#FF97FF",
           "#FECB52"
          ],
          "font": {
           "color": "#2a3f5f"
          },
          "geo": {
           "bgcolor": "white",
           "lakecolor": "white",
           "landcolor": "#E5ECF6",
           "showlakes": true,
           "showland": true,
           "subunitcolor": "white"
          },
          "hoverlabel": {
           "align": "left"
          },
          "hovermode": "closest",
          "mapbox": {
           "style": "light"
          },
          "paper_bgcolor": "white",
          "plot_bgcolor": "#E5ECF6",
          "polar": {
           "angularaxis": {
            "gridcolor": "white",
            "linecolor": "white",
            "ticks": ""
           },
           "bgcolor": "#E5ECF6",
           "radialaxis": {
            "gridcolor": "white",
            "linecolor": "white",
            "ticks": ""
           }
          },
          "scene": {
           "xaxis": {
            "backgroundcolor": "#E5ECF6",
            "gridcolor": "white",
            "gridwidth": 2,
            "linecolor": "white",
            "showbackground": true,
            "ticks": "",
            "zerolinecolor": "white"
           },
           "yaxis": {
            "backgroundcolor": "#E5ECF6",
            "gridcolor": "white",
            "gridwidth": 2,
            "linecolor": "white",
            "showbackground": true,
            "ticks": "",
            "zerolinecolor": "white"
           },
           "zaxis": {
            "backgroundcolor": "#E5ECF6",
            "gridcolor": "white",
            "gridwidth": 2,
            "linecolor": "white",
            "showbackground": true,
            "ticks": "",
            "zerolinecolor": "white"
           }
          },
          "shapedefaults": {
           "line": {
            "color": "#2a3f5f"
           }
          },
          "ternary": {
           "aaxis": {
            "gridcolor": "white",
            "linecolor": "white",
            "ticks": ""
           },
           "baxis": {
            "gridcolor": "white",
            "linecolor": "white",
            "ticks": ""
           },
           "bgcolor": "#E5ECF6",
           "caxis": {
            "gridcolor": "white",
            "linecolor": "white",
            "ticks": ""
           }
          },
          "title": {
           "x": 0.05
          },
          "xaxis": {
           "automargin": true,
           "gridcolor": "white",
           "linecolor": "white",
           "ticks": "",
           "title": {
            "standoff": 15
           },
           "zerolinecolor": "white",
           "zerolinewidth": 2
          },
          "yaxis": {
           "automargin": true,
           "gridcolor": "white",
           "linecolor": "white",
           "ticks": "",
           "title": {
            "standoff": 15
           },
           "zerolinecolor": "white",
           "zerolinewidth": 2
          }
         }
        },
        "title": {
         "text": "Clustering de intentos"
        },
        "width": 800,
        "xaxis": {
         "title": {
          "text": "PC1"
         }
        },
        "yaxis": {
         "title": {
          "text": "PC2"
         }
        }
       }
      }
     },
     "metadata": {},
     "output_type": "display_data"
    }
   ],
   "source": [
    "from sklearn.cluster import KMeans\n",
    "\n",
    "#Coger las columnas necesarias para crear la matriz de características\n",
    "matriz_caracteristicas = df_pca[['PC1', 'PC2']].values\n",
    "\n",
    "# Normalizar los datos\n",
    "matriz_caracteristicas_norm = StandardScaler().fit_transform(matriz_caracteristicas)\n",
    "\n",
    "# Definimos o número de iteracións\n",
    "n_iter = 20\n",
    "\n",
    "# Obtemos os mesmos centroides iniciais que antes\n",
    "SEED_VALUE = 190463  # NON CAMBIES ESTE SEED, así todos teremos os mesmos resultados\n",
    "np.random.seed(SEED_VALUE)\n",
    "centr_iniciais = matriz_caracteristicas_norm[np.random.choice(matriz_caracteristicas_norm.shape[0], size=5, replace=False)]\n",
    "\n",
    "# Definimos o modelo\n",
    "model = KMeans(n_clusters=len(centr_iniciais), init=centr_iniciais, n_init=1,\n",
    "            max_iter=n_iter, algorithm='full', random_state=SEED_VALUE)\n",
    "\n",
    "# Axustamos o modelo aos datos\n",
    "np.random.seed(SEED_VALUE)\n",
    "#df\n",
    "agrupamento = model.fit(matriz_caracteristicas_norm)\n",
    "\n",
    "# Crear la figura\n",
    "fig = go.Figure(data=[go.Scatter(x=df_pca['PC1'], y=df_pca['PC2'], mode='markers',\n",
    "                                 marker=dict(size=10, color=agrupamento.labels_ + 1, opacity=0.8,\n",
    "                                             colorscale='Viridis'),\n",
    "                                              hovertext=df['token'] + '<br>' + 'Género: ' + df['G03Q02'] + '<br>' +\n",
    "                                            'Edad: ' + df['G03Q01'].astype(str) + '<br>' +\n",
    "                                            'Tiempo: ' + df['tiempo'].astype(str) + '<br>' +\n",
    "                                            'Intentos: ' + df['intentos'].astype(str) + '<br>' +\n",
    "                                            'Errores: ' + df['errores'].astype(str))])\n",
    "\n",
    "# Configurar layout\n",
    "fig.update_layout(title='Clustering de intentos',\n",
    "                  xaxis_title='PC1',\n",
    "                  yaxis_title='PC2',\n",
    "                  width=800, height=600)\n",
    "\n",
    "# Mostrar gráfica\n",
    "fig.show()\n"
   ]
  },
  {
   "attachments": {},
   "cell_type": "markdown",
   "metadata": {},
   "source": [
    "# con DBSCAN:"
   ]
  },
  {
   "cell_type": "code",
   "execution_count": 87,
   "metadata": {},
   "outputs": [
    {
     "data": {
      "application/vnd.plotly.v1+json": {
       "config": {
        "plotlyServerURL": "https://plot.ly"
       },
       "data": [
        {
         "marker": {
          "color": [
           1,
           1,
           1,
           1,
           1,
           2,
           1,
           1,
           1,
           2,
           1,
           1,
           0,
           1,
           1,
           1,
           1,
           1,
           2,
           1,
           1,
           1,
           1,
           1,
           1,
           1,
           1,
           1,
           1,
           1,
           1,
           1,
           1,
           1,
           1,
           2,
           1,
           1,
           1,
           1,
           0,
           1,
           1,
           1,
           1,
           1,
           1,
           1,
           1,
           0,
           1,
           1,
           3,
           1,
           1,
           1,
           1,
           1,
           1,
           1,
           1,
           1,
           0,
           0,
           2,
           1,
           1,
           1,
           1,
           1,
           1,
           1,
           0,
           2,
           1,
           1,
           1,
           1,
           1,
           1,
           0,
           0,
           1,
           1,
           3,
           1,
           0,
           2,
           0,
           1,
           1,
           1,
           1,
           0,
           1,
           1,
           1,
           1,
           3,
           1,
           1,
           1,
           1,
           1,
           1,
           1,
           1,
           1,
           1,
           0,
           1,
           1,
           3,
           1,
           1,
           1,
           3,
           0,
           1,
           0,
           1,
           1,
           1,
           1
          ],
          "colorscale": [
           [
            0,
            "#440154"
           ],
           [
            0.1111111111111111,
            "#482878"
           ],
           [
            0.2222222222222222,
            "#3e4989"
           ],
           [
            0.3333333333333333,
            "#31688e"
           ],
           [
            0.4444444444444444,
            "#26828e"
           ],
           [
            0.5555555555555556,
            "#1f9e89"
           ],
           [
            0.6666666666666666,
            "#35b779"
           ],
           [
            0.7777777777777778,
            "#6ece58"
           ],
           [
            0.8888888888888888,
            "#b5de2b"
           ],
           [
            1,
            "#fde725"
           ]
          ],
          "opacity": 0.8,
          "size": 10
         },
         "mode": "markers",
         "type": "scatter",
         "x": [
          0.8641089737469135,
          0.9574878704636077,
          -1.7537795329432413,
          -0.9312728763292583,
          -0.5838213722960407,
          2.686182042085741,
          -0.017080241007785272,
          -1.7080608241582758,
          -1.3551231556277485,
          2.7705286933707516,
          -0.08784193666521405,
          -1.1005073293697551,
          3.610392813243349,
          -0.7266563128459591,
          -0.22457809591029274,
          -0.8057069357362605,
          -0.08098690205887195,
          -0.16781699913191642,
          3.046608116716654,
          0.1426886374167572,
          -1.904482779092636,
          -1.0069389151022305,
          -0.8816546304820503,
          -0.6571800122125185,
          -0.14975565770774352,
          -0.6887349206315138,
          0.41085641819752994,
          -2.505962359222046,
          -2.356819349396004,
          1.0624953145833544,
          -0.9690102240648159,
          -0.7409512836796894,
          -0.3464742215162442,
          0.8714964039537846,
          0.34822356287074707,
          2.2759130598058603,
          -0.6815702331603065,
          0.32332436703055745,
          0.3031694039865983,
          0.8691240260482535,
          1.755420831749533,
          -0.3017635350349813,
          -2.7848216032551725,
          1.1558749897546527,
          1.3209054962679134,
          -0.17711110581849784,
          -0.37195469728832786,
          -1.1480602349222317,
          1.0845025098107859,
          1.7812423693049753,
          -1.5674706944270764,
          -1.505872638861708,
          2.4182242022495126,
          0.2068838276161218,
          -0.805787561087033,
          0.22017838446817664,
          0.36142701049017883,
          -0.523241275208529,
          -0.18665765405487256,
          0.025828905457520836,
          -3.0759679691138015,
          -1.041828020207621,
          1.6818019996748206,
          -3.760854849112779,
          2.4817718231368087,
          0.576289178282607,
          -1.210464381992863,
          -0.9834213082125666,
          -0.2895291512411758,
          -0.8911894012124149,
          -1.518034311896247,
          -1.0726897756752656,
          1.1308221428824614,
          1.9351458905996337,
          -0.5768671338083986,
          -0.978436147551505,
          -1.688614008590549,
          -0.8997227293760236,
          -1.6069307289347965,
          -2.1420070359723016,
          -0.6798530618403654,
          2.288897218389809,
          0.03677318343492257,
          -1.5537084789956486,
          2.954517557161832,
          0.8092042995602986,
          1.8053280064672927,
          2.641207523508477,
          4.4142030680224105,
          -1.207240453678275,
          -0.15701809650812854,
          0.30179483538022495,
          -0.1816305027466389,
          2.5573384970315085,
          -0.8680108558012135,
          1.0022765969861358,
          -0.31278549425023217,
          -0.4749549817762839,
          2.62630368128008,
          0.7615925996088488,
          -2.075970673670111,
          -0.297827749227898,
          -1.2045052263250942,
          -0.7726588371039891,
          -1.2700785428197756,
          -0.883893388296818,
          -0.2388488564805479,
          -0.7145950817560326,
          -2.7090001443050125,
          1.0490088492923337,
          -1.5700486443304411,
          0.1525073122572193,
          1.9905696204193783,
          -1.0986030096438617,
          0.4855420779102759,
          -0.6290871054170344,
          2.394456358675667,
          4.241851608441828,
          0.9676082187677386,
          1.6397133948986788,
          0.5226176685568065,
          -1.7486739765339814,
          0.9518342484663975,
          -1.0830074750717884
         ],
         "y": [
          -1.4270623245355456,
          -1.740206564287605,
          -0.4669667721284421,
          -0.6779724694748417,
          -0.3126188040358363,
          0.5539583510829971,
          0.18456667631053558,
          -0.401572746011646,
          -1.259547063611839,
          0.3192449479610743,
          0.884724268256032,
          0.7361371335156323,
          3.39840168829153,
          0.9194360733816177,
          1.7383426592068159,
          1.529293476778516,
          -1.6076761059997047,
          1.1503257552722121,
          0.5486527743991473,
          -1.3431642289320864,
          -0.6914609988811761,
          -0.9596801094395364,
          1.1367272611382497,
          -0.8193481241847345,
          0.45577386172996,
          0.6181241153950209,
          2.28524118594053,
          -0.49810644688347583,
          1.0106165959905555,
          -1.3418532719538416,
          -1.092529014108473,
          0.3112231729657243,
          -0.5728274535733767,
          0.07320734244668721,
          0.5444004775205906,
          0.25545061132416574,
          -1.5204436339883194,
          -1.4285730042082883,
          -1.084430753958298,
          0.8303595739255271,
          -1.776104625157015,
          1.3353961583717253,
          -0.3453178429549583,
          1.2982667086500979,
          1.8209764751369564,
          -1.6851734642754432,
          -1.0796516458286898,
          -0.4214958626810301,
          0.781577069689263,
          -0.8773406164065908,
          2.08062425282335,
          0.8954037105394217,
          -1.1859559484551203,
          1.67688436443359,
          1.2034860341613063,
          -0.6284955039423845,
          0.8852016902902367,
          0.2704581510581574,
          -0.9464745802376263,
          0.6715771720266369,
          -0.7066129199343195,
          0.09657997559440651,
          -1.7124828061176638,
          0.05122993036818199,
          1.1114527404959853,
          -0.2655254637164313,
          0.8305401158639696,
          -0.6741366392609026,
          0.5740802485194053,
          0.5344437553842273,
          0.5330808143538318,
          0.793089788028954,
          2.6261330993789036,
          0.36030202281931156,
          -0.689954693993544,
          0.49457356653060663,
          0.9622793140470995,
          0.481437565745069,
          0.6378230582121096,
          -0.6328164974628395,
          2.35199551273321,
          1.8025931482153597,
          1.4504954419895901,
          -0.8627136484601472,
          -1.3324022350286664,
          0.8213807272898493,
          1.5670815270053056,
          0.8137184515384481,
          -0.3057345336159708,
          0.7880081843137086,
          -0.6661093324470235,
          -1.3366801989791648,
          -1.2871082321806262,
          1.5963018426807654,
          -1.3561997216883648,
          0.8578750296355573,
          -1.6341663164273568,
          0.21806131460092856,
          -1.442713663236917,
          -0.6971567574241013,
          -1.126613634578404,
          0.07575329544197745,
          -1.5721880180483494,
          1.6300880060695515,
          1.642519304334435,
          -1.047363392316758,
          1.5604723975139312,
          -1.2875275880905455,
          -0.5829900472799804,
          -2.6042667024689976,
          0.9346655700965895,
          -0.8897843317773411,
          -0.7221161704344843,
          -1.3114455244672656,
          -0.8013447930867341,
          0.03837793880348284,
          -1.4025748823646378,
          -3.018770401834392,
          0.45370614531897324,
          -0.37884718986013405,
          1.424145580524474,
          -0.14901698747228415,
          -1.268164526949072,
          -0.5607673723227163
         ]
        }
       ],
       "layout": {
        "height": 600,
        "template": {
         "data": {
          "bar": [
           {
            "error_x": {
             "color": "#2a3f5f"
            },
            "error_y": {
             "color": "#2a3f5f"
            },
            "marker": {
             "line": {
              "color": "#E5ECF6",
              "width": 0.5
             },
             "pattern": {
              "fillmode": "overlay",
              "size": 10,
              "solidity": 0.2
             }
            },
            "type": "bar"
           }
          ],
          "barpolar": [
           {
            "marker": {
             "line": {
              "color": "#E5ECF6",
              "width": 0.5
             },
             "pattern": {
              "fillmode": "overlay",
              "size": 10,
              "solidity": 0.2
             }
            },
            "type": "barpolar"
           }
          ],
          "carpet": [
           {
            "aaxis": {
             "endlinecolor": "#2a3f5f",
             "gridcolor": "white",
             "linecolor": "white",
             "minorgridcolor": "white",
             "startlinecolor": "#2a3f5f"
            },
            "baxis": {
             "endlinecolor": "#2a3f5f",
             "gridcolor": "white",
             "linecolor": "white",
             "minorgridcolor": "white",
             "startlinecolor": "#2a3f5f"
            },
            "type": "carpet"
           }
          ],
          "choropleth": [
           {
            "colorbar": {
             "outlinewidth": 0,
             "ticks": ""
            },
            "type": "choropleth"
           }
          ],
          "contour": [
           {
            "colorbar": {
             "outlinewidth": 0,
             "ticks": ""
            },
            "colorscale": [
             [
              0,
              "#0d0887"
             ],
             [
              0.1111111111111111,
              "#46039f"
             ],
             [
              0.2222222222222222,
              "#7201a8"
             ],
             [
              0.3333333333333333,
              "#9c179e"
             ],
             [
              0.4444444444444444,
              "#bd3786"
             ],
             [
              0.5555555555555556,
              "#d8576b"
             ],
             [
              0.6666666666666666,
              "#ed7953"
             ],
             [
              0.7777777777777778,
              "#fb9f3a"
             ],
             [
              0.8888888888888888,
              "#fdca26"
             ],
             [
              1,
              "#f0f921"
             ]
            ],
            "type": "contour"
           }
          ],
          "contourcarpet": [
           {
            "colorbar": {
             "outlinewidth": 0,
             "ticks": ""
            },
            "type": "contourcarpet"
           }
          ],
          "heatmap": [
           {
            "colorbar": {
             "outlinewidth": 0,
             "ticks": ""
            },
            "colorscale": [
             [
              0,
              "#0d0887"
             ],
             [
              0.1111111111111111,
              "#46039f"
             ],
             [
              0.2222222222222222,
              "#7201a8"
             ],
             [
              0.3333333333333333,
              "#9c179e"
             ],
             [
              0.4444444444444444,
              "#bd3786"
             ],
             [
              0.5555555555555556,
              "#d8576b"
             ],
             [
              0.6666666666666666,
              "#ed7953"
             ],
             [
              0.7777777777777778,
              "#fb9f3a"
             ],
             [
              0.8888888888888888,
              "#fdca26"
             ],
             [
              1,
              "#f0f921"
             ]
            ],
            "type": "heatmap"
           }
          ],
          "heatmapgl": [
           {
            "colorbar": {
             "outlinewidth": 0,
             "ticks": ""
            },
            "colorscale": [
             [
              0,
              "#0d0887"
             ],
             [
              0.1111111111111111,
              "#46039f"
             ],
             [
              0.2222222222222222,
              "#7201a8"
             ],
             [
              0.3333333333333333,
              "#9c179e"
             ],
             [
              0.4444444444444444,
              "#bd3786"
             ],
             [
              0.5555555555555556,
              "#d8576b"
             ],
             [
              0.6666666666666666,
              "#ed7953"
             ],
             [
              0.7777777777777778,
              "#fb9f3a"
             ],
             [
              0.8888888888888888,
              "#fdca26"
             ],
             [
              1,
              "#f0f921"
             ]
            ],
            "type": "heatmapgl"
           }
          ],
          "histogram": [
           {
            "marker": {
             "pattern": {
              "fillmode": "overlay",
              "size": 10,
              "solidity": 0.2
             }
            },
            "type": "histogram"
           }
          ],
          "histogram2d": [
           {
            "colorbar": {
             "outlinewidth": 0,
             "ticks": ""
            },
            "colorscale": [
             [
              0,
              "#0d0887"
             ],
             [
              0.1111111111111111,
              "#46039f"
             ],
             [
              0.2222222222222222,
              "#7201a8"
             ],
             [
              0.3333333333333333,
              "#9c179e"
             ],
             [
              0.4444444444444444,
              "#bd3786"
             ],
             [
              0.5555555555555556,
              "#d8576b"
             ],
             [
              0.6666666666666666,
              "#ed7953"
             ],
             [
              0.7777777777777778,
              "#fb9f3a"
             ],
             [
              0.8888888888888888,
              "#fdca26"
             ],
             [
              1,
              "#f0f921"
             ]
            ],
            "type": "histogram2d"
           }
          ],
          "histogram2dcontour": [
           {
            "colorbar": {
             "outlinewidth": 0,
             "ticks": ""
            },
            "colorscale": [
             [
              0,
              "#0d0887"
             ],
             [
              0.1111111111111111,
              "#46039f"
             ],
             [
              0.2222222222222222,
              "#7201a8"
             ],
             [
              0.3333333333333333,
              "#9c179e"
             ],
             [
              0.4444444444444444,
              "#bd3786"
             ],
             [
              0.5555555555555556,
              "#d8576b"
             ],
             [
              0.6666666666666666,
              "#ed7953"
             ],
             [
              0.7777777777777778,
              "#fb9f3a"
             ],
             [
              0.8888888888888888,
              "#fdca26"
             ],
             [
              1,
              "#f0f921"
             ]
            ],
            "type": "histogram2dcontour"
           }
          ],
          "mesh3d": [
           {
            "colorbar": {
             "outlinewidth": 0,
             "ticks": ""
            },
            "type": "mesh3d"
           }
          ],
          "parcoords": [
           {
            "line": {
             "colorbar": {
              "outlinewidth": 0,
              "ticks": ""
             }
            },
            "type": "parcoords"
           }
          ],
          "pie": [
           {
            "automargin": true,
            "type": "pie"
           }
          ],
          "scatter": [
           {
            "fillpattern": {
             "fillmode": "overlay",
             "size": 10,
             "solidity": 0.2
            },
            "type": "scatter"
           }
          ],
          "scatter3d": [
           {
            "line": {
             "colorbar": {
              "outlinewidth": 0,
              "ticks": ""
             }
            },
            "marker": {
             "colorbar": {
              "outlinewidth": 0,
              "ticks": ""
             }
            },
            "type": "scatter3d"
           }
          ],
          "scattercarpet": [
           {
            "marker": {
             "colorbar": {
              "outlinewidth": 0,
              "ticks": ""
             }
            },
            "type": "scattercarpet"
           }
          ],
          "scattergeo": [
           {
            "marker": {
             "colorbar": {
              "outlinewidth": 0,
              "ticks": ""
             }
            },
            "type": "scattergeo"
           }
          ],
          "scattergl": [
           {
            "marker": {
             "colorbar": {
              "outlinewidth": 0,
              "ticks": ""
             }
            },
            "type": "scattergl"
           }
          ],
          "scattermapbox": [
           {
            "marker": {
             "colorbar": {
              "outlinewidth": 0,
              "ticks": ""
             }
            },
            "type": "scattermapbox"
           }
          ],
          "scatterpolar": [
           {
            "marker": {
             "colorbar": {
              "outlinewidth": 0,
              "ticks": ""
             }
            },
            "type": "scatterpolar"
           }
          ],
          "scatterpolargl": [
           {
            "marker": {
             "colorbar": {
              "outlinewidth": 0,
              "ticks": ""
             }
            },
            "type": "scatterpolargl"
           }
          ],
          "scatterternary": [
           {
            "marker": {
             "colorbar": {
              "outlinewidth": 0,
              "ticks": ""
             }
            },
            "type": "scatterternary"
           }
          ],
          "surface": [
           {
            "colorbar": {
             "outlinewidth": 0,
             "ticks": ""
            },
            "colorscale": [
             [
              0,
              "#0d0887"
             ],
             [
              0.1111111111111111,
              "#46039f"
             ],
             [
              0.2222222222222222,
              "#7201a8"
             ],
             [
              0.3333333333333333,
              "#9c179e"
             ],
             [
              0.4444444444444444,
              "#bd3786"
             ],
             [
              0.5555555555555556,
              "#d8576b"
             ],
             [
              0.6666666666666666,
              "#ed7953"
             ],
             [
              0.7777777777777778,
              "#fb9f3a"
             ],
             [
              0.8888888888888888,
              "#fdca26"
             ],
             [
              1,
              "#f0f921"
             ]
            ],
            "type": "surface"
           }
          ],
          "table": [
           {
            "cells": {
             "fill": {
              "color": "#EBF0F8"
             },
             "line": {
              "color": "white"
             }
            },
            "header": {
             "fill": {
              "color": "#C8D4E3"
             },
             "line": {
              "color": "white"
             }
            },
            "type": "table"
           }
          ]
         },
         "layout": {
          "annotationdefaults": {
           "arrowcolor": "#2a3f5f",
           "arrowhead": 0,
           "arrowwidth": 1
          },
          "autotypenumbers": "strict",
          "coloraxis": {
           "colorbar": {
            "outlinewidth": 0,
            "ticks": ""
           }
          },
          "colorscale": {
           "diverging": [
            [
             0,
             "#8e0152"
            ],
            [
             0.1,
             "#c51b7d"
            ],
            [
             0.2,
             "#de77ae"
            ],
            [
             0.3,
             "#f1b6da"
            ],
            [
             0.4,
             "#fde0ef"
            ],
            [
             0.5,
             "#f7f7f7"
            ],
            [
             0.6,
             "#e6f5d0"
            ],
            [
             0.7,
             "#b8e186"
            ],
            [
             0.8,
             "#7fbc41"
            ],
            [
             0.9,
             "#4d9221"
            ],
            [
             1,
             "#276419"
            ]
           ],
           "sequential": [
            [
             0,
             "#0d0887"
            ],
            [
             0.1111111111111111,
             "#46039f"
            ],
            [
             0.2222222222222222,
             "#7201a8"
            ],
            [
             0.3333333333333333,
             "#9c179e"
            ],
            [
             0.4444444444444444,
             "#bd3786"
            ],
            [
             0.5555555555555556,
             "#d8576b"
            ],
            [
             0.6666666666666666,
             "#ed7953"
            ],
            [
             0.7777777777777778,
             "#fb9f3a"
            ],
            [
             0.8888888888888888,
             "#fdca26"
            ],
            [
             1,
             "#f0f921"
            ]
           ],
           "sequentialminus": [
            [
             0,
             "#0d0887"
            ],
            [
             0.1111111111111111,
             "#46039f"
            ],
            [
             0.2222222222222222,
             "#7201a8"
            ],
            [
             0.3333333333333333,
             "#9c179e"
            ],
            [
             0.4444444444444444,
             "#bd3786"
            ],
            [
             0.5555555555555556,
             "#d8576b"
            ],
            [
             0.6666666666666666,
             "#ed7953"
            ],
            [
             0.7777777777777778,
             "#fb9f3a"
            ],
            [
             0.8888888888888888,
             "#fdca26"
            ],
            [
             1,
             "#f0f921"
            ]
           ]
          },
          "colorway": [
           "#636efa",
           "#EF553B",
           "#00cc96",
           "#ab63fa",
           "#FFA15A",
           "#19d3f3",
           "#FF6692",
           "#B6E880",
           "#FF97FF",
           "#FECB52"
          ],
          "font": {
           "color": "#2a3f5f"
          },
          "geo": {
           "bgcolor": "white",
           "lakecolor": "white",
           "landcolor": "#E5ECF6",
           "showlakes": true,
           "showland": true,
           "subunitcolor": "white"
          },
          "hoverlabel": {
           "align": "left"
          },
          "hovermode": "closest",
          "mapbox": {
           "style": "light"
          },
          "paper_bgcolor": "white",
          "plot_bgcolor": "#E5ECF6",
          "polar": {
           "angularaxis": {
            "gridcolor": "white",
            "linecolor": "white",
            "ticks": ""
           },
           "bgcolor": "#E5ECF6",
           "radialaxis": {
            "gridcolor": "white",
            "linecolor": "white",
            "ticks": ""
           }
          },
          "scene": {
           "xaxis": {
            "backgroundcolor": "#E5ECF6",
            "gridcolor": "white",
            "gridwidth": 2,
            "linecolor": "white",
            "showbackground": true,
            "ticks": "",
            "zerolinecolor": "white"
           },
           "yaxis": {
            "backgroundcolor": "#E5ECF6",
            "gridcolor": "white",
            "gridwidth": 2,
            "linecolor": "white",
            "showbackground": true,
            "ticks": "",
            "zerolinecolor": "white"
           },
           "zaxis": {
            "backgroundcolor": "#E5ECF6",
            "gridcolor": "white",
            "gridwidth": 2,
            "linecolor": "white",
            "showbackground": true,
            "ticks": "",
            "zerolinecolor": "white"
           }
          },
          "shapedefaults": {
           "line": {
            "color": "#2a3f5f"
           }
          },
          "ternary": {
           "aaxis": {
            "gridcolor": "white",
            "linecolor": "white",
            "ticks": ""
           },
           "baxis": {
            "gridcolor": "white",
            "linecolor": "white",
            "ticks": ""
           },
           "bgcolor": "#E5ECF6",
           "caxis": {
            "gridcolor": "white",
            "linecolor": "white",
            "ticks": ""
           }
          },
          "title": {
           "x": 0.05
          },
          "xaxis": {
           "automargin": true,
           "gridcolor": "white",
           "linecolor": "white",
           "ticks": "",
           "title": {
            "standoff": 15
           },
           "zerolinecolor": "white",
           "zerolinewidth": 2
          },
          "yaxis": {
           "automargin": true,
           "gridcolor": "white",
           "linecolor": "white",
           "ticks": "",
           "title": {
            "standoff": 15
           },
           "zerolinecolor": "white",
           "zerolinewidth": 2
          }
         }
        },
        "title": {
         "text": "Clustering de intentos"
        },
        "width": 800,
        "xaxis": {
         "title": {
          "text": "PC1"
         }
        },
        "yaxis": {
         "title": {
          "text": "PC2"
         }
        }
       }
      }
     },
     "metadata": {},
     "output_type": "display_data"
    }
   ],
   "source": [
    "from sklearn.cluster import DBSCAN\n",
    "from sklearn.preprocessing import StandardScaler\n",
    "\n",
    "#Coger las columnas necesarias para crear la matriz de características\n",
    "matriz_caracteristicas = df_pca[['PC1', 'PC2']].values\n",
    "\n",
    "# Normalizar los datos\n",
    "#matriz_caracteristicas_norm = StandardScaler().fit_transform(matriz_caracteristicas)\n",
    "\n",
    "# Definir el modelo\n",
    "model = DBSCAN(eps=0.7, min_samples=5)\n",
    "\n",
    "# Ajustar el modelo a los datos\n",
    "agrupamento = model.fit(matriz_caracteristicas)\n",
    "\n",
    "# Crear la figura\n",
    "fig = go.Figure(data=[go.Scatter(x=df_pca['PC1'], y=df_pca['PC2'], mode='markers',\n",
    "                                 marker=dict(size=10, color=agrupamento.labels_ + 1, opacity=0.8,\n",
    "                                             colorscale='Viridis'))])\n",
    "\n",
    "# Configurar layout\n",
    "fig.update_layout(title='Clustering de intentos',\n",
    "                  xaxis_title='PC1',\n",
    "                  yaxis_title='PC2',\n",
    "                  width=800, height=600)\n",
    "\n",
    "# Mostrar gráfica\n",
    "fig.show()\n"
   ]
  },
  {
   "attachments": {},
   "cell_type": "markdown",
   "metadata": {},
   "source": [
    "# Con Hierarchical Agglomerative Clustering (HAC):"
   ]
  },
  {
   "cell_type": "code",
   "execution_count": 88,
   "metadata": {},
   "outputs": [
    {
     "data": {
      "application/vnd.plotly.v1+json": {
       "config": {
        "plotlyServerURL": "https://plot.ly"
       },
       "data": [
        {
         "marker": {
          "color": [
           1,
           1,
           1,
           1,
           1,
           2,
           1,
           1,
           1,
           2,
           1,
           1,
           0,
           1,
           1,
           1,
           1,
           1,
           2,
           1,
           1,
           1,
           1,
           1,
           1,
           1,
           1,
           1,
           1,
           1,
           1,
           1,
           1,
           1,
           1,
           2,
           1,
           1,
           1,
           1,
           0,
           1,
           1,
           1,
           1,
           1,
           1,
           1,
           1,
           0,
           1,
           1,
           3,
           1,
           1,
           1,
           1,
           1,
           1,
           1,
           1,
           1,
           0,
           0,
           2,
           1,
           1,
           1,
           1,
           1,
           1,
           1,
           0,
           2,
           1,
           1,
           1,
           1,
           1,
           1,
           0,
           0,
           1,
           1,
           3,
           1,
           0,
           2,
           0,
           1,
           1,
           1,
           1,
           0,
           1,
           1,
           1,
           1,
           3,
           1,
           1,
           1,
           1,
           1,
           1,
           1,
           1,
           1,
           1,
           0,
           1,
           1,
           3,
           1,
           1,
           1,
           3,
           0,
           1,
           0,
           1,
           1,
           1,
           1
          ],
          "colorscale": [
           [
            0,
            "#440154"
           ],
           [
            0.1111111111111111,
            "#482878"
           ],
           [
            0.2222222222222222,
            "#3e4989"
           ],
           [
            0.3333333333333333,
            "#31688e"
           ],
           [
            0.4444444444444444,
            "#26828e"
           ],
           [
            0.5555555555555556,
            "#1f9e89"
           ],
           [
            0.6666666666666666,
            "#35b779"
           ],
           [
            0.7777777777777778,
            "#6ece58"
           ],
           [
            0.8888888888888888,
            "#b5de2b"
           ],
           [
            1,
            "#fde725"
           ]
          ],
          "opacity": 0.8,
          "size": 10
         },
         "mode": "markers",
         "type": "scatter",
         "x": [
          0.8641089737469135,
          0.9574878704636077,
          -1.7537795329432413,
          -0.9312728763292583,
          -0.5838213722960407,
          2.686182042085741,
          -0.017080241007785272,
          -1.7080608241582758,
          -1.3551231556277485,
          2.7705286933707516,
          -0.08784193666521405,
          -1.1005073293697551,
          3.610392813243349,
          -0.7266563128459591,
          -0.22457809591029274,
          -0.8057069357362605,
          -0.08098690205887195,
          -0.16781699913191642,
          3.046608116716654,
          0.1426886374167572,
          -1.904482779092636,
          -1.0069389151022305,
          -0.8816546304820503,
          -0.6571800122125185,
          -0.14975565770774352,
          -0.6887349206315138,
          0.41085641819752994,
          -2.505962359222046,
          -2.356819349396004,
          1.0624953145833544,
          -0.9690102240648159,
          -0.7409512836796894,
          -0.3464742215162442,
          0.8714964039537846,
          0.34822356287074707,
          2.2759130598058603,
          -0.6815702331603065,
          0.32332436703055745,
          0.3031694039865983,
          0.8691240260482535,
          1.755420831749533,
          -0.3017635350349813,
          -2.7848216032551725,
          1.1558749897546527,
          1.3209054962679134,
          -0.17711110581849784,
          -0.37195469728832786,
          -1.1480602349222317,
          1.0845025098107859,
          1.7812423693049753,
          -1.5674706944270764,
          -1.505872638861708,
          2.4182242022495126,
          0.2068838276161218,
          -0.805787561087033,
          0.22017838446817664,
          0.36142701049017883,
          -0.523241275208529,
          -0.18665765405487256,
          0.025828905457520836,
          -3.0759679691138015,
          -1.041828020207621,
          1.6818019996748206,
          -3.760854849112779,
          2.4817718231368087,
          0.576289178282607,
          -1.210464381992863,
          -0.9834213082125666,
          -0.2895291512411758,
          -0.8911894012124149,
          -1.518034311896247,
          -1.0726897756752656,
          1.1308221428824614,
          1.9351458905996337,
          -0.5768671338083986,
          -0.978436147551505,
          -1.688614008590549,
          -0.8997227293760236,
          -1.6069307289347965,
          -2.1420070359723016,
          -0.6798530618403654,
          2.288897218389809,
          0.03677318343492257,
          -1.5537084789956486,
          2.954517557161832,
          0.8092042995602986,
          1.8053280064672927,
          2.641207523508477,
          4.4142030680224105,
          -1.207240453678275,
          -0.15701809650812854,
          0.30179483538022495,
          -0.1816305027466389,
          2.5573384970315085,
          -0.8680108558012135,
          1.0022765969861358,
          -0.31278549425023217,
          -0.4749549817762839,
          2.62630368128008,
          0.7615925996088488,
          -2.075970673670111,
          -0.297827749227898,
          -1.2045052263250942,
          -0.7726588371039891,
          -1.2700785428197756,
          -0.883893388296818,
          -0.2388488564805479,
          -0.7145950817560326,
          -2.7090001443050125,
          1.0490088492923337,
          -1.5700486443304411,
          0.1525073122572193,
          1.9905696204193783,
          -1.0986030096438617,
          0.4855420779102759,
          -0.6290871054170344,
          2.394456358675667,
          4.241851608441828,
          0.9676082187677386,
          1.6397133948986788,
          0.5226176685568065,
          -1.7486739765339814,
          0.9518342484663975,
          -1.0830074750717884
         ],
         "y": [
          -1.4270623245355456,
          -1.740206564287605,
          -0.4669667721284421,
          -0.6779724694748417,
          -0.3126188040358363,
          0.5539583510829971,
          0.18456667631053558,
          -0.401572746011646,
          -1.259547063611839,
          0.3192449479610743,
          0.884724268256032,
          0.7361371335156323,
          3.39840168829153,
          0.9194360733816177,
          1.7383426592068159,
          1.529293476778516,
          -1.6076761059997047,
          1.1503257552722121,
          0.5486527743991473,
          -1.3431642289320864,
          -0.6914609988811761,
          -0.9596801094395364,
          1.1367272611382497,
          -0.8193481241847345,
          0.45577386172996,
          0.6181241153950209,
          2.28524118594053,
          -0.49810644688347583,
          1.0106165959905555,
          -1.3418532719538416,
          -1.092529014108473,
          0.3112231729657243,
          -0.5728274535733767,
          0.07320734244668721,
          0.5444004775205906,
          0.25545061132416574,
          -1.5204436339883194,
          -1.4285730042082883,
          -1.084430753958298,
          0.8303595739255271,
          -1.776104625157015,
          1.3353961583717253,
          -0.3453178429549583,
          1.2982667086500979,
          1.8209764751369564,
          -1.6851734642754432,
          -1.0796516458286898,
          -0.4214958626810301,
          0.781577069689263,
          -0.8773406164065908,
          2.08062425282335,
          0.8954037105394217,
          -1.1859559484551203,
          1.67688436443359,
          1.2034860341613063,
          -0.6284955039423845,
          0.8852016902902367,
          0.2704581510581574,
          -0.9464745802376263,
          0.6715771720266369,
          -0.7066129199343195,
          0.09657997559440651,
          -1.7124828061176638,
          0.05122993036818199,
          1.1114527404959853,
          -0.2655254637164313,
          0.8305401158639696,
          -0.6741366392609026,
          0.5740802485194053,
          0.5344437553842273,
          0.5330808143538318,
          0.793089788028954,
          2.6261330993789036,
          0.36030202281931156,
          -0.689954693993544,
          0.49457356653060663,
          0.9622793140470995,
          0.481437565745069,
          0.6378230582121096,
          -0.6328164974628395,
          2.35199551273321,
          1.8025931482153597,
          1.4504954419895901,
          -0.8627136484601472,
          -1.3324022350286664,
          0.8213807272898493,
          1.5670815270053056,
          0.8137184515384481,
          -0.3057345336159708,
          0.7880081843137086,
          -0.6661093324470235,
          -1.3366801989791648,
          -1.2871082321806262,
          1.5963018426807654,
          -1.3561997216883648,
          0.8578750296355573,
          -1.6341663164273568,
          0.21806131460092856,
          -1.442713663236917,
          -0.6971567574241013,
          -1.126613634578404,
          0.07575329544197745,
          -1.5721880180483494,
          1.6300880060695515,
          1.642519304334435,
          -1.047363392316758,
          1.5604723975139312,
          -1.2875275880905455,
          -0.5829900472799804,
          -2.6042667024689976,
          0.9346655700965895,
          -0.8897843317773411,
          -0.7221161704344843,
          -1.3114455244672656,
          -0.8013447930867341,
          0.03837793880348284,
          -1.4025748823646378,
          -3.018770401834392,
          0.45370614531897324,
          -0.37884718986013405,
          1.424145580524474,
          -0.14901698747228415,
          -1.268164526949072,
          -0.5607673723227163
         ]
        }
       ],
       "layout": {
        "height": 600,
        "template": {
         "data": {
          "bar": [
           {
            "error_x": {
             "color": "#2a3f5f"
            },
            "error_y": {
             "color": "#2a3f5f"
            },
            "marker": {
             "line": {
              "color": "#E5ECF6",
              "width": 0.5
             },
             "pattern": {
              "fillmode": "overlay",
              "size": 10,
              "solidity": 0.2
             }
            },
            "type": "bar"
           }
          ],
          "barpolar": [
           {
            "marker": {
             "line": {
              "color": "#E5ECF6",
              "width": 0.5
             },
             "pattern": {
              "fillmode": "overlay",
              "size": 10,
              "solidity": 0.2
             }
            },
            "type": "barpolar"
           }
          ],
          "carpet": [
           {
            "aaxis": {
             "endlinecolor": "#2a3f5f",
             "gridcolor": "white",
             "linecolor": "white",
             "minorgridcolor": "white",
             "startlinecolor": "#2a3f5f"
            },
            "baxis": {
             "endlinecolor": "#2a3f5f",
             "gridcolor": "white",
             "linecolor": "white",
             "minorgridcolor": "white",
             "startlinecolor": "#2a3f5f"
            },
            "type": "carpet"
           }
          ],
          "choropleth": [
           {
            "colorbar": {
             "outlinewidth": 0,
             "ticks": ""
            },
            "type": "choropleth"
           }
          ],
          "contour": [
           {
            "colorbar": {
             "outlinewidth": 0,
             "ticks": ""
            },
            "colorscale": [
             [
              0,
              "#0d0887"
             ],
             [
              0.1111111111111111,
              "#46039f"
             ],
             [
              0.2222222222222222,
              "#7201a8"
             ],
             [
              0.3333333333333333,
              "#9c179e"
             ],
             [
              0.4444444444444444,
              "#bd3786"
             ],
             [
              0.5555555555555556,
              "#d8576b"
             ],
             [
              0.6666666666666666,
              "#ed7953"
             ],
             [
              0.7777777777777778,
              "#fb9f3a"
             ],
             [
              0.8888888888888888,
              "#fdca26"
             ],
             [
              1,
              "#f0f921"
             ]
            ],
            "type": "contour"
           }
          ],
          "contourcarpet": [
           {
            "colorbar": {
             "outlinewidth": 0,
             "ticks": ""
            },
            "type": "contourcarpet"
           }
          ],
          "heatmap": [
           {
            "colorbar": {
             "outlinewidth": 0,
             "ticks": ""
            },
            "colorscale": [
             [
              0,
              "#0d0887"
             ],
             [
              0.1111111111111111,
              "#46039f"
             ],
             [
              0.2222222222222222,
              "#7201a8"
             ],
             [
              0.3333333333333333,
              "#9c179e"
             ],
             [
              0.4444444444444444,
              "#bd3786"
             ],
             [
              0.5555555555555556,
              "#d8576b"
             ],
             [
              0.6666666666666666,
              "#ed7953"
             ],
             [
              0.7777777777777778,
              "#fb9f3a"
             ],
             [
              0.8888888888888888,
              "#fdca26"
             ],
             [
              1,
              "#f0f921"
             ]
            ],
            "type": "heatmap"
           }
          ],
          "heatmapgl": [
           {
            "colorbar": {
             "outlinewidth": 0,
             "ticks": ""
            },
            "colorscale": [
             [
              0,
              "#0d0887"
             ],
             [
              0.1111111111111111,
              "#46039f"
             ],
             [
              0.2222222222222222,
              "#7201a8"
             ],
             [
              0.3333333333333333,
              "#9c179e"
             ],
             [
              0.4444444444444444,
              "#bd3786"
             ],
             [
              0.5555555555555556,
              "#d8576b"
             ],
             [
              0.6666666666666666,
              "#ed7953"
             ],
             [
              0.7777777777777778,
              "#fb9f3a"
             ],
             [
              0.8888888888888888,
              "#fdca26"
             ],
             [
              1,
              "#f0f921"
             ]
            ],
            "type": "heatmapgl"
           }
          ],
          "histogram": [
           {
            "marker": {
             "pattern": {
              "fillmode": "overlay",
              "size": 10,
              "solidity": 0.2
             }
            },
            "type": "histogram"
           }
          ],
          "histogram2d": [
           {
            "colorbar": {
             "outlinewidth": 0,
             "ticks": ""
            },
            "colorscale": [
             [
              0,
              "#0d0887"
             ],
             [
              0.1111111111111111,
              "#46039f"
             ],
             [
              0.2222222222222222,
              "#7201a8"
             ],
             [
              0.3333333333333333,
              "#9c179e"
             ],
             [
              0.4444444444444444,
              "#bd3786"
             ],
             [
              0.5555555555555556,
              "#d8576b"
             ],
             [
              0.6666666666666666,
              "#ed7953"
             ],
             [
              0.7777777777777778,
              "#fb9f3a"
             ],
             [
              0.8888888888888888,
              "#fdca26"
             ],
             [
              1,
              "#f0f921"
             ]
            ],
            "type": "histogram2d"
           }
          ],
          "histogram2dcontour": [
           {
            "colorbar": {
             "outlinewidth": 0,
             "ticks": ""
            },
            "colorscale": [
             [
              0,
              "#0d0887"
             ],
             [
              0.1111111111111111,
              "#46039f"
             ],
             [
              0.2222222222222222,
              "#7201a8"
             ],
             [
              0.3333333333333333,
              "#9c179e"
             ],
             [
              0.4444444444444444,
              "#bd3786"
             ],
             [
              0.5555555555555556,
              "#d8576b"
             ],
             [
              0.6666666666666666,
              "#ed7953"
             ],
             [
              0.7777777777777778,
              "#fb9f3a"
             ],
             [
              0.8888888888888888,
              "#fdca26"
             ],
             [
              1,
              "#f0f921"
             ]
            ],
            "type": "histogram2dcontour"
           }
          ],
          "mesh3d": [
           {
            "colorbar": {
             "outlinewidth": 0,
             "ticks": ""
            },
            "type": "mesh3d"
           }
          ],
          "parcoords": [
           {
            "line": {
             "colorbar": {
              "outlinewidth": 0,
              "ticks": ""
             }
            },
            "type": "parcoords"
           }
          ],
          "pie": [
           {
            "automargin": true,
            "type": "pie"
           }
          ],
          "scatter": [
           {
            "fillpattern": {
             "fillmode": "overlay",
             "size": 10,
             "solidity": 0.2
            },
            "type": "scatter"
           }
          ],
          "scatter3d": [
           {
            "line": {
             "colorbar": {
              "outlinewidth": 0,
              "ticks": ""
             }
            },
            "marker": {
             "colorbar": {
              "outlinewidth": 0,
              "ticks": ""
             }
            },
            "type": "scatter3d"
           }
          ],
          "scattercarpet": [
           {
            "marker": {
             "colorbar": {
              "outlinewidth": 0,
              "ticks": ""
             }
            },
            "type": "scattercarpet"
           }
          ],
          "scattergeo": [
           {
            "marker": {
             "colorbar": {
              "outlinewidth": 0,
              "ticks": ""
             }
            },
            "type": "scattergeo"
           }
          ],
          "scattergl": [
           {
            "marker": {
             "colorbar": {
              "outlinewidth": 0,
              "ticks": ""
             }
            },
            "type": "scattergl"
           }
          ],
          "scattermapbox": [
           {
            "marker": {
             "colorbar": {
              "outlinewidth": 0,
              "ticks": ""
             }
            },
            "type": "scattermapbox"
           }
          ],
          "scatterpolar": [
           {
            "marker": {
             "colorbar": {
              "outlinewidth": 0,
              "ticks": ""
             }
            },
            "type": "scatterpolar"
           }
          ],
          "scatterpolargl": [
           {
            "marker": {
             "colorbar": {
              "outlinewidth": 0,
              "ticks": ""
             }
            },
            "type": "scatterpolargl"
           }
          ],
          "scatterternary": [
           {
            "marker": {
             "colorbar": {
              "outlinewidth": 0,
              "ticks": ""
             }
            },
            "type": "scatterternary"
           }
          ],
          "surface": [
           {
            "colorbar": {
             "outlinewidth": 0,
             "ticks": ""
            },
            "colorscale": [
             [
              0,
              "#0d0887"
             ],
             [
              0.1111111111111111,
              "#46039f"
             ],
             [
              0.2222222222222222,
              "#7201a8"
             ],
             [
              0.3333333333333333,
              "#9c179e"
             ],
             [
              0.4444444444444444,
              "#bd3786"
             ],
             [
              0.5555555555555556,
              "#d8576b"
             ],
             [
              0.6666666666666666,
              "#ed7953"
             ],
             [
              0.7777777777777778,
              "#fb9f3a"
             ],
             [
              0.8888888888888888,
              "#fdca26"
             ],
             [
              1,
              "#f0f921"
             ]
            ],
            "type": "surface"
           }
          ],
          "table": [
           {
            "cells": {
             "fill": {
              "color": "#EBF0F8"
             },
             "line": {
              "color": "white"
             }
            },
            "header": {
             "fill": {
              "color": "#C8D4E3"
             },
             "line": {
              "color": "white"
             }
            },
            "type": "table"
           }
          ]
         },
         "layout": {
          "annotationdefaults": {
           "arrowcolor": "#2a3f5f",
           "arrowhead": 0,
           "arrowwidth": 1
          },
          "autotypenumbers": "strict",
          "coloraxis": {
           "colorbar": {
            "outlinewidth": 0,
            "ticks": ""
           }
          },
          "colorscale": {
           "diverging": [
            [
             0,
             "#8e0152"
            ],
            [
             0.1,
             "#c51b7d"
            ],
            [
             0.2,
             "#de77ae"
            ],
            [
             0.3,
             "#f1b6da"
            ],
            [
             0.4,
             "#fde0ef"
            ],
            [
             0.5,
             "#f7f7f7"
            ],
            [
             0.6,
             "#e6f5d0"
            ],
            [
             0.7,
             "#b8e186"
            ],
            [
             0.8,
             "#7fbc41"
            ],
            [
             0.9,
             "#4d9221"
            ],
            [
             1,
             "#276419"
            ]
           ],
           "sequential": [
            [
             0,
             "#0d0887"
            ],
            [
             0.1111111111111111,
             "#46039f"
            ],
            [
             0.2222222222222222,
             "#7201a8"
            ],
            [
             0.3333333333333333,
             "#9c179e"
            ],
            [
             0.4444444444444444,
             "#bd3786"
            ],
            [
             0.5555555555555556,
             "#d8576b"
            ],
            [
             0.6666666666666666,
             "#ed7953"
            ],
            [
             0.7777777777777778,
             "#fb9f3a"
            ],
            [
             0.8888888888888888,
             "#fdca26"
            ],
            [
             1,
             "#f0f921"
            ]
           ],
           "sequentialminus": [
            [
             0,
             "#0d0887"
            ],
            [
             0.1111111111111111,
             "#46039f"
            ],
            [
             0.2222222222222222,
             "#7201a8"
            ],
            [
             0.3333333333333333,
             "#9c179e"
            ],
            [
             0.4444444444444444,
             "#bd3786"
            ],
            [
             0.5555555555555556,
             "#d8576b"
            ],
            [
             0.6666666666666666,
             "#ed7953"
            ],
            [
             0.7777777777777778,
             "#fb9f3a"
            ],
            [
             0.8888888888888888,
             "#fdca26"
            ],
            [
             1,
             "#f0f921"
            ]
           ]
          },
          "colorway": [
           "#636efa",
           "#EF553B",
           "#00cc96",
           "#ab63fa",
           "#FFA15A",
           "#19d3f3",
           "#FF6692",
           "#B6E880",
           "#FF97FF",
           "#FECB52"
          ],
          "font": {
           "color": "#2a3f5f"
          },
          "geo": {
           "bgcolor": "white",
           "lakecolor": "white",
           "landcolor": "#E5ECF6",
           "showlakes": true,
           "showland": true,
           "subunitcolor": "white"
          },
          "hoverlabel": {
           "align": "left"
          },
          "hovermode": "closest",
          "mapbox": {
           "style": "light"
          },
          "paper_bgcolor": "white",
          "plot_bgcolor": "#E5ECF6",
          "polar": {
           "angularaxis": {
            "gridcolor": "white",
            "linecolor": "white",
            "ticks": ""
           },
           "bgcolor": "#E5ECF6",
           "radialaxis": {
            "gridcolor": "white",
            "linecolor": "white",
            "ticks": ""
           }
          },
          "scene": {
           "xaxis": {
            "backgroundcolor": "#E5ECF6",
            "gridcolor": "white",
            "gridwidth": 2,
            "linecolor": "white",
            "showbackground": true,
            "ticks": "",
            "zerolinecolor": "white"
           },
           "yaxis": {
            "backgroundcolor": "#E5ECF6",
            "gridcolor": "white",
            "gridwidth": 2,
            "linecolor": "white",
            "showbackground": true,
            "ticks": "",
            "zerolinecolor": "white"
           },
           "zaxis": {
            "backgroundcolor": "#E5ECF6",
            "gridcolor": "white",
            "gridwidth": 2,
            "linecolor": "white",
            "showbackground": true,
            "ticks": "",
            "zerolinecolor": "white"
           }
          },
          "shapedefaults": {
           "line": {
            "color": "#2a3f5f"
           }
          },
          "ternary": {
           "aaxis": {
            "gridcolor": "white",
            "linecolor": "white",
            "ticks": ""
           },
           "baxis": {
            "gridcolor": "white",
            "linecolor": "white",
            "ticks": ""
           },
           "bgcolor": "#E5ECF6",
           "caxis": {
            "gridcolor": "white",
            "linecolor": "white",
            "ticks": ""
           }
          },
          "title": {
           "x": 0.05
          },
          "xaxis": {
           "automargin": true,
           "gridcolor": "white",
           "linecolor": "white",
           "ticks": "",
           "title": {
            "standoff": 15
           },
           "zerolinecolor": "white",
           "zerolinewidth": 2
          },
          "yaxis": {
           "automargin": true,
           "gridcolor": "white",
           "linecolor": "white",
           "ticks": "",
           "title": {
            "standoff": 15
           },
           "zerolinecolor": "white",
           "zerolinewidth": 2
          }
         }
        },
        "title": {
         "text": "Clustering de intentos"
        },
        "width": 800,
        "xaxis": {
         "title": {
          "text": "PC1"
         }
        },
        "yaxis": {
         "title": {
          "text": "PC2"
         }
        }
       }
      }
     },
     "metadata": {},
     "output_type": "display_data"
    }
   ],
   "source": [
    "import numpy as np\n",
    "import plotly.graph_objects as go\n",
    "from scipy.cluster.hierarchy import linkage, fcluster\n",
    "from sklearn.metrics import silhouette_score\n",
    "from sklearn.preprocessing import StandardScaler\n",
    "\n",
    "#Tecnicas de principal component analysis\n",
    "#conjunto minimo de datos que explican una cirscuntancia\n",
    "#Claro, el Principal Component Analysis (PCA) es una técnica de reducción de dimensionalidad que se utiliza en el análisis de datos y en el aprendizaje automático. El objetivo principal de PCA es transformar un conjunto de variables correlacionadas en un conjunto de variables no correlacionadas llamadas componentes principales.\n",
    "\n",
    "#PCA es útil cuando se trabaja con un conjunto de datos con muchas variables, y se desea reducir la cantidad de variables manteniendo la mayor cantidad de información posible. Esto se logra al encontrar las direcciones en las que los datos tienen la mayor varianza y proyectar los datos en estas direcciones.\n",
    "\n",
    "#El proceso de PCA se puede resumir en los siguientes pasos:\n",
    "\n",
    "#Estandarizar los datos: Esto implica escalar las variables para que tengan una media de 0 y una desviación estándar de 1.\n",
    "#Calcular la matriz de covarianza: La matriz de covarianza es una matriz cuadrada que contiene las covarianzas entre cada par de variables.\n",
    "#Calcular los eigenvectores y eigenvalores de la matriz de covarianza: Los eigenvectores representan las direcciones en las que los datos tienen la mayor varianza, y los eigenvalores representan la magnitud de la varianza en cada dirección.\n",
    "#Ordenar los eigenvectores según sus eigenvalores correspondientes en orden descendente.\n",
    "#Seleccionar los primeros k eigenvectores, donde k es el número de componentes principales que se desea mantener.\n",
    "#Proyectar los datos en el espacio de los k eigenvectores seleccionados.\n",
    "#El resultado es un conjunto de datos transformado con menos dimensiones, que conserva la mayor cantidad de información posible del conjunto de datos original.\n",
    "\n",
    "\n",
    "#elegir 2 sistemas cada uno, 1 mas, resumen. tracksrls frances si. uno de codigo abierto\n",
    "#ver funcionalidades y visualizacion y analisis\n",
    "\n",
    "#predecir si al jugador le va a ir bien o no segun los datos \n",
    "\n",
    "#Coger las columnas necesarias para crear la matriz de características\n",
    "matriz_caracteristicas = df_pca[['PC1', 'PC2']].values\n",
    "\n",
    "# Normalizar los datos\n",
    "#matriz_caracteristicas_norm = StandardScaler().fit_transform(matriz_caracteristicas)\n",
    "\n",
    "# Calcular la matriz de enlaces\n",
    "Z = linkage(matriz_caracteristicas, method='ward')\n",
    "\n",
    "# Calcular los valores de silueta para diferentes umbrales\n",
    "scores = []\n",
    "for i in range(2, len(Z)):\n",
    "    clusters = fcluster(Z, t=i, criterion='maxclust')\n",
    "    score = silhouette_score(matriz_caracteristicas, clusters)\n",
    "    scores.append(score)\n",
    "\n",
    "# Encontrar el umbral que maximiza el valor de silueta\n",
    "umbral = np.argmax(scores) + 2\n",
    "\n",
    "# Asignar los clusters en base al umbral\n",
    "agrupamiento = fcluster(Z, t=umbral, criterion='maxclust')\n",
    "\n",
    "# Crear la figura\n",
    "fig = go.Figure(data=[go.Scatter(x=df_pca['PC1'], y=df_pca['PC2'], mode='markers',\n",
    "                                 marker=dict(size=10, color=agrupamento.labels_ + 1, opacity=0.8,\n",
    "                                             colorscale='Viridis'))])\n",
    "\n",
    "# Configurar layout\n",
    "fig.update_layout(title='Clustering de intentos',\n",
    "                  xaxis_title='PC1',\n",
    "                  yaxis_title='PC2',\n",
    "                  width=800, height=600)\n",
    "\n",
    "# Mostrar gráfica\n",
    "fig.show()\n"
   ]
  },
  {
   "attachments": {},
   "cell_type": "markdown",
   "metadata": {},
   "source": [
    "# Con Spectral Clustering"
   ]
  },
  {
   "cell_type": "code",
   "execution_count": 89,
   "metadata": {},
   "outputs": [
    {
     "data": {
      "application/vnd.plotly.v1+json": {
       "config": {
        "plotlyServerURL": "https://plot.ly"
       },
       "data": [
        {
         "marker": {
          "color": [
           1,
           1,
           1,
           1,
           1,
           2,
           1,
           1,
           1,
           2,
           1,
           1,
           0,
           1,
           1,
           1,
           1,
           1,
           2,
           1,
           1,
           1,
           1,
           1,
           1,
           1,
           1,
           1,
           1,
           1,
           1,
           1,
           1,
           1,
           1,
           2,
           1,
           1,
           1,
           1,
           0,
           1,
           1,
           1,
           1,
           1,
           1,
           1,
           1,
           0,
           1,
           1,
           3,
           1,
           1,
           1,
           1,
           1,
           1,
           1,
           1,
           1,
           0,
           0,
           2,
           1,
           1,
           1,
           1,
           1,
           1,
           1,
           0,
           2,
           1,
           1,
           1,
           1,
           1,
           1,
           0,
           0,
           1,
           1,
           3,
           1,
           0,
           2,
           0,
           1,
           1,
           1,
           1,
           0,
           1,
           1,
           1,
           1,
           3,
           1,
           1,
           1,
           1,
           1,
           1,
           1,
           1,
           1,
           1,
           0,
           1,
           1,
           3,
           1,
           1,
           1,
           3,
           0,
           1,
           0,
           1,
           1,
           1,
           1
          ],
          "colorscale": [
           [
            0,
            "#440154"
           ],
           [
            0.1111111111111111,
            "#482878"
           ],
           [
            0.2222222222222222,
            "#3e4989"
           ],
           [
            0.3333333333333333,
            "#31688e"
           ],
           [
            0.4444444444444444,
            "#26828e"
           ],
           [
            0.5555555555555556,
            "#1f9e89"
           ],
           [
            0.6666666666666666,
            "#35b779"
           ],
           [
            0.7777777777777778,
            "#6ece58"
           ],
           [
            0.8888888888888888,
            "#b5de2b"
           ],
           [
            1,
            "#fde725"
           ]
          ],
          "opacity": 0.8,
          "size": 10
         },
         "mode": "markers",
         "type": "scatter",
         "x": [
          0.8641089737469135,
          0.9574878704636077,
          -1.7537795329432413,
          -0.9312728763292583,
          -0.5838213722960407,
          2.686182042085741,
          -0.017080241007785272,
          -1.7080608241582758,
          -1.3551231556277485,
          2.7705286933707516,
          -0.08784193666521405,
          -1.1005073293697551,
          3.610392813243349,
          -0.7266563128459591,
          -0.22457809591029274,
          -0.8057069357362605,
          -0.08098690205887195,
          -0.16781699913191642,
          3.046608116716654,
          0.1426886374167572,
          -1.904482779092636,
          -1.0069389151022305,
          -0.8816546304820503,
          -0.6571800122125185,
          -0.14975565770774352,
          -0.6887349206315138,
          0.41085641819752994,
          -2.505962359222046,
          -2.356819349396004,
          1.0624953145833544,
          -0.9690102240648159,
          -0.7409512836796894,
          -0.3464742215162442,
          0.8714964039537846,
          0.34822356287074707,
          2.2759130598058603,
          -0.6815702331603065,
          0.32332436703055745,
          0.3031694039865983,
          0.8691240260482535,
          1.755420831749533,
          -0.3017635350349813,
          -2.7848216032551725,
          1.1558749897546527,
          1.3209054962679134,
          -0.17711110581849784,
          -0.37195469728832786,
          -1.1480602349222317,
          1.0845025098107859,
          1.7812423693049753,
          -1.5674706944270764,
          -1.505872638861708,
          2.4182242022495126,
          0.2068838276161218,
          -0.805787561087033,
          0.22017838446817664,
          0.36142701049017883,
          -0.523241275208529,
          -0.18665765405487256,
          0.025828905457520836,
          -3.0759679691138015,
          -1.041828020207621,
          1.6818019996748206,
          -3.760854849112779,
          2.4817718231368087,
          0.576289178282607,
          -1.210464381992863,
          -0.9834213082125666,
          -0.2895291512411758,
          -0.8911894012124149,
          -1.518034311896247,
          -1.0726897756752656,
          1.1308221428824614,
          1.9351458905996337,
          -0.5768671338083986,
          -0.978436147551505,
          -1.688614008590549,
          -0.8997227293760236,
          -1.6069307289347965,
          -2.1420070359723016,
          -0.6798530618403654,
          2.288897218389809,
          0.03677318343492257,
          -1.5537084789956486,
          2.954517557161832,
          0.8092042995602986,
          1.8053280064672927,
          2.641207523508477,
          4.4142030680224105,
          -1.207240453678275,
          -0.15701809650812854,
          0.30179483538022495,
          -0.1816305027466389,
          2.5573384970315085,
          -0.8680108558012135,
          1.0022765969861358,
          -0.31278549425023217,
          -0.4749549817762839,
          2.62630368128008,
          0.7615925996088488,
          -2.075970673670111,
          -0.297827749227898,
          -1.2045052263250942,
          -0.7726588371039891,
          -1.2700785428197756,
          -0.883893388296818,
          -0.2388488564805479,
          -0.7145950817560326,
          -2.7090001443050125,
          1.0490088492923337,
          -1.5700486443304411,
          0.1525073122572193,
          1.9905696204193783,
          -1.0986030096438617,
          0.4855420779102759,
          -0.6290871054170344,
          2.394456358675667,
          4.241851608441828,
          0.9676082187677386,
          1.6397133948986788,
          0.5226176685568065,
          -1.7486739765339814,
          0.9518342484663975,
          -1.0830074750717884
         ],
         "y": [
          -1.4270623245355456,
          -1.740206564287605,
          -0.4669667721284421,
          -0.6779724694748417,
          -0.3126188040358363,
          0.5539583510829971,
          0.18456667631053558,
          -0.401572746011646,
          -1.259547063611839,
          0.3192449479610743,
          0.884724268256032,
          0.7361371335156323,
          3.39840168829153,
          0.9194360733816177,
          1.7383426592068159,
          1.529293476778516,
          -1.6076761059997047,
          1.1503257552722121,
          0.5486527743991473,
          -1.3431642289320864,
          -0.6914609988811761,
          -0.9596801094395364,
          1.1367272611382497,
          -0.8193481241847345,
          0.45577386172996,
          0.6181241153950209,
          2.28524118594053,
          -0.49810644688347583,
          1.0106165959905555,
          -1.3418532719538416,
          -1.092529014108473,
          0.3112231729657243,
          -0.5728274535733767,
          0.07320734244668721,
          0.5444004775205906,
          0.25545061132416574,
          -1.5204436339883194,
          -1.4285730042082883,
          -1.084430753958298,
          0.8303595739255271,
          -1.776104625157015,
          1.3353961583717253,
          -0.3453178429549583,
          1.2982667086500979,
          1.8209764751369564,
          -1.6851734642754432,
          -1.0796516458286898,
          -0.4214958626810301,
          0.781577069689263,
          -0.8773406164065908,
          2.08062425282335,
          0.8954037105394217,
          -1.1859559484551203,
          1.67688436443359,
          1.2034860341613063,
          -0.6284955039423845,
          0.8852016902902367,
          0.2704581510581574,
          -0.9464745802376263,
          0.6715771720266369,
          -0.7066129199343195,
          0.09657997559440651,
          -1.7124828061176638,
          0.05122993036818199,
          1.1114527404959853,
          -0.2655254637164313,
          0.8305401158639696,
          -0.6741366392609026,
          0.5740802485194053,
          0.5344437553842273,
          0.5330808143538318,
          0.793089788028954,
          2.6261330993789036,
          0.36030202281931156,
          -0.689954693993544,
          0.49457356653060663,
          0.9622793140470995,
          0.481437565745069,
          0.6378230582121096,
          -0.6328164974628395,
          2.35199551273321,
          1.8025931482153597,
          1.4504954419895901,
          -0.8627136484601472,
          -1.3324022350286664,
          0.8213807272898493,
          1.5670815270053056,
          0.8137184515384481,
          -0.3057345336159708,
          0.7880081843137086,
          -0.6661093324470235,
          -1.3366801989791648,
          -1.2871082321806262,
          1.5963018426807654,
          -1.3561997216883648,
          0.8578750296355573,
          -1.6341663164273568,
          0.21806131460092856,
          -1.442713663236917,
          -0.6971567574241013,
          -1.126613634578404,
          0.07575329544197745,
          -1.5721880180483494,
          1.6300880060695515,
          1.642519304334435,
          -1.047363392316758,
          1.5604723975139312,
          -1.2875275880905455,
          -0.5829900472799804,
          -2.6042667024689976,
          0.9346655700965895,
          -0.8897843317773411,
          -0.7221161704344843,
          -1.3114455244672656,
          -0.8013447930867341,
          0.03837793880348284,
          -1.4025748823646378,
          -3.018770401834392,
          0.45370614531897324,
          -0.37884718986013405,
          1.424145580524474,
          -0.14901698747228415,
          -1.268164526949072,
          -0.5607673723227163
         ]
        }
       ],
       "layout": {
        "height": 600,
        "template": {
         "data": {
          "bar": [
           {
            "error_x": {
             "color": "#2a3f5f"
            },
            "error_y": {
             "color": "#2a3f5f"
            },
            "marker": {
             "line": {
              "color": "#E5ECF6",
              "width": 0.5
             },
             "pattern": {
              "fillmode": "overlay",
              "size": 10,
              "solidity": 0.2
             }
            },
            "type": "bar"
           }
          ],
          "barpolar": [
           {
            "marker": {
             "line": {
              "color": "#E5ECF6",
              "width": 0.5
             },
             "pattern": {
              "fillmode": "overlay",
              "size": 10,
              "solidity": 0.2
             }
            },
            "type": "barpolar"
           }
          ],
          "carpet": [
           {
            "aaxis": {
             "endlinecolor": "#2a3f5f",
             "gridcolor": "white",
             "linecolor": "white",
             "minorgridcolor": "white",
             "startlinecolor": "#2a3f5f"
            },
            "baxis": {
             "endlinecolor": "#2a3f5f",
             "gridcolor": "white",
             "linecolor": "white",
             "minorgridcolor": "white",
             "startlinecolor": "#2a3f5f"
            },
            "type": "carpet"
           }
          ],
          "choropleth": [
           {
            "colorbar": {
             "outlinewidth": 0,
             "ticks": ""
            },
            "type": "choropleth"
           }
          ],
          "contour": [
           {
            "colorbar": {
             "outlinewidth": 0,
             "ticks": ""
            },
            "colorscale": [
             [
              0,
              "#0d0887"
             ],
             [
              0.1111111111111111,
              "#46039f"
             ],
             [
              0.2222222222222222,
              "#7201a8"
             ],
             [
              0.3333333333333333,
              "#9c179e"
             ],
             [
              0.4444444444444444,
              "#bd3786"
             ],
             [
              0.5555555555555556,
              "#d8576b"
             ],
             [
              0.6666666666666666,
              "#ed7953"
             ],
             [
              0.7777777777777778,
              "#fb9f3a"
             ],
             [
              0.8888888888888888,
              "#fdca26"
             ],
             [
              1,
              "#f0f921"
             ]
            ],
            "type": "contour"
           }
          ],
          "contourcarpet": [
           {
            "colorbar": {
             "outlinewidth": 0,
             "ticks": ""
            },
            "type": "contourcarpet"
           }
          ],
          "heatmap": [
           {
            "colorbar": {
             "outlinewidth": 0,
             "ticks": ""
            },
            "colorscale": [
             [
              0,
              "#0d0887"
             ],
             [
              0.1111111111111111,
              "#46039f"
             ],
             [
              0.2222222222222222,
              "#7201a8"
             ],
             [
              0.3333333333333333,
              "#9c179e"
             ],
             [
              0.4444444444444444,
              "#bd3786"
             ],
             [
              0.5555555555555556,
              "#d8576b"
             ],
             [
              0.6666666666666666,
              "#ed7953"
             ],
             [
              0.7777777777777778,
              "#fb9f3a"
             ],
             [
              0.8888888888888888,
              "#fdca26"
             ],
             [
              1,
              "#f0f921"
             ]
            ],
            "type": "heatmap"
           }
          ],
          "heatmapgl": [
           {
            "colorbar": {
             "outlinewidth": 0,
             "ticks": ""
            },
            "colorscale": [
             [
              0,
              "#0d0887"
             ],
             [
              0.1111111111111111,
              "#46039f"
             ],
             [
              0.2222222222222222,
              "#7201a8"
             ],
             [
              0.3333333333333333,
              "#9c179e"
             ],
             [
              0.4444444444444444,
              "#bd3786"
             ],
             [
              0.5555555555555556,
              "#d8576b"
             ],
             [
              0.6666666666666666,
              "#ed7953"
             ],
             [
              0.7777777777777778,
              "#fb9f3a"
             ],
             [
              0.8888888888888888,
              "#fdca26"
             ],
             [
              1,
              "#f0f921"
             ]
            ],
            "type": "heatmapgl"
           }
          ],
          "histogram": [
           {
            "marker": {
             "pattern": {
              "fillmode": "overlay",
              "size": 10,
              "solidity": 0.2
             }
            },
            "type": "histogram"
           }
          ],
          "histogram2d": [
           {
            "colorbar": {
             "outlinewidth": 0,
             "ticks": ""
            },
            "colorscale": [
             [
              0,
              "#0d0887"
             ],
             [
              0.1111111111111111,
              "#46039f"
             ],
             [
              0.2222222222222222,
              "#7201a8"
             ],
             [
              0.3333333333333333,
              "#9c179e"
             ],
             [
              0.4444444444444444,
              "#bd3786"
             ],
             [
              0.5555555555555556,
              "#d8576b"
             ],
             [
              0.6666666666666666,
              "#ed7953"
             ],
             [
              0.7777777777777778,
              "#fb9f3a"
             ],
             [
              0.8888888888888888,
              "#fdca26"
             ],
             [
              1,
              "#f0f921"
             ]
            ],
            "type": "histogram2d"
           }
          ],
          "histogram2dcontour": [
           {
            "colorbar": {
             "outlinewidth": 0,
             "ticks": ""
            },
            "colorscale": [
             [
              0,
              "#0d0887"
             ],
             [
              0.1111111111111111,
              "#46039f"
             ],
             [
              0.2222222222222222,
              "#7201a8"
             ],
             [
              0.3333333333333333,
              "#9c179e"
             ],
             [
              0.4444444444444444,
              "#bd3786"
             ],
             [
              0.5555555555555556,
              "#d8576b"
             ],
             [
              0.6666666666666666,
              "#ed7953"
             ],
             [
              0.7777777777777778,
              "#fb9f3a"
             ],
             [
              0.8888888888888888,
              "#fdca26"
             ],
             [
              1,
              "#f0f921"
             ]
            ],
            "type": "histogram2dcontour"
           }
          ],
          "mesh3d": [
           {
            "colorbar": {
             "outlinewidth": 0,
             "ticks": ""
            },
            "type": "mesh3d"
           }
          ],
          "parcoords": [
           {
            "line": {
             "colorbar": {
              "outlinewidth": 0,
              "ticks": ""
             }
            },
            "type": "parcoords"
           }
          ],
          "pie": [
           {
            "automargin": true,
            "type": "pie"
           }
          ],
          "scatter": [
           {
            "fillpattern": {
             "fillmode": "overlay",
             "size": 10,
             "solidity": 0.2
            },
            "type": "scatter"
           }
          ],
          "scatter3d": [
           {
            "line": {
             "colorbar": {
              "outlinewidth": 0,
              "ticks": ""
             }
            },
            "marker": {
             "colorbar": {
              "outlinewidth": 0,
              "ticks": ""
             }
            },
            "type": "scatter3d"
           }
          ],
          "scattercarpet": [
           {
            "marker": {
             "colorbar": {
              "outlinewidth": 0,
              "ticks": ""
             }
            },
            "type": "scattercarpet"
           }
          ],
          "scattergeo": [
           {
            "marker": {
             "colorbar": {
              "outlinewidth": 0,
              "ticks": ""
             }
            },
            "type": "scattergeo"
           }
          ],
          "scattergl": [
           {
            "marker": {
             "colorbar": {
              "outlinewidth": 0,
              "ticks": ""
             }
            },
            "type": "scattergl"
           }
          ],
          "scattermapbox": [
           {
            "marker": {
             "colorbar": {
              "outlinewidth": 0,
              "ticks": ""
             }
            },
            "type": "scattermapbox"
           }
          ],
          "scatterpolar": [
           {
            "marker": {
             "colorbar": {
              "outlinewidth": 0,
              "ticks": ""
             }
            },
            "type": "scatterpolar"
           }
          ],
          "scatterpolargl": [
           {
            "marker": {
             "colorbar": {
              "outlinewidth": 0,
              "ticks": ""
             }
            },
            "type": "scatterpolargl"
           }
          ],
          "scatterternary": [
           {
            "marker": {
             "colorbar": {
              "outlinewidth": 0,
              "ticks": ""
             }
            },
            "type": "scatterternary"
           }
          ],
          "surface": [
           {
            "colorbar": {
             "outlinewidth": 0,
             "ticks": ""
            },
            "colorscale": [
             [
              0,
              "#0d0887"
             ],
             [
              0.1111111111111111,
              "#46039f"
             ],
             [
              0.2222222222222222,
              "#7201a8"
             ],
             [
              0.3333333333333333,
              "#9c179e"
             ],
             [
              0.4444444444444444,
              "#bd3786"
             ],
             [
              0.5555555555555556,
              "#d8576b"
             ],
             [
              0.6666666666666666,
              "#ed7953"
             ],
             [
              0.7777777777777778,
              "#fb9f3a"
             ],
             [
              0.8888888888888888,
              "#fdca26"
             ],
             [
              1,
              "#f0f921"
             ]
            ],
            "type": "surface"
           }
          ],
          "table": [
           {
            "cells": {
             "fill": {
              "color": "#EBF0F8"
             },
             "line": {
              "color": "white"
             }
            },
            "header": {
             "fill": {
              "color": "#C8D4E3"
             },
             "line": {
              "color": "white"
             }
            },
            "type": "table"
           }
          ]
         },
         "layout": {
          "annotationdefaults": {
           "arrowcolor": "#2a3f5f",
           "arrowhead": 0,
           "arrowwidth": 1
          },
          "autotypenumbers": "strict",
          "coloraxis": {
           "colorbar": {
            "outlinewidth": 0,
            "ticks": ""
           }
          },
          "colorscale": {
           "diverging": [
            [
             0,
             "#8e0152"
            ],
            [
             0.1,
             "#c51b7d"
            ],
            [
             0.2,
             "#de77ae"
            ],
            [
             0.3,
             "#f1b6da"
            ],
            [
             0.4,
             "#fde0ef"
            ],
            [
             0.5,
             "#f7f7f7"
            ],
            [
             0.6,
             "#e6f5d0"
            ],
            [
             0.7,
             "#b8e186"
            ],
            [
             0.8,
             "#7fbc41"
            ],
            [
             0.9,
             "#4d9221"
            ],
            [
             1,
             "#276419"
            ]
           ],
           "sequential": [
            [
             0,
             "#0d0887"
            ],
            [
             0.1111111111111111,
             "#46039f"
            ],
            [
             0.2222222222222222,
             "#7201a8"
            ],
            [
             0.3333333333333333,
             "#9c179e"
            ],
            [
             0.4444444444444444,
             "#bd3786"
            ],
            [
             0.5555555555555556,
             "#d8576b"
            ],
            [
             0.6666666666666666,
             "#ed7953"
            ],
            [
             0.7777777777777778,
             "#fb9f3a"
            ],
            [
             0.8888888888888888,
             "#fdca26"
            ],
            [
             1,
             "#f0f921"
            ]
           ],
           "sequentialminus": [
            [
             0,
             "#0d0887"
            ],
            [
             0.1111111111111111,
             "#46039f"
            ],
            [
             0.2222222222222222,
             "#7201a8"
            ],
            [
             0.3333333333333333,
             "#9c179e"
            ],
            [
             0.4444444444444444,
             "#bd3786"
            ],
            [
             0.5555555555555556,
             "#d8576b"
            ],
            [
             0.6666666666666666,
             "#ed7953"
            ],
            [
             0.7777777777777778,
             "#fb9f3a"
            ],
            [
             0.8888888888888888,
             "#fdca26"
            ],
            [
             1,
             "#f0f921"
            ]
           ]
          },
          "colorway": [
           "#636efa",
           "#EF553B",
           "#00cc96",
           "#ab63fa",
           "#FFA15A",
           "#19d3f3",
           "#FF6692",
           "#B6E880",
           "#FF97FF",
           "#FECB52"
          ],
          "font": {
           "color": "#2a3f5f"
          },
          "geo": {
           "bgcolor": "white",
           "lakecolor": "white",
           "landcolor": "#E5ECF6",
           "showlakes": true,
           "showland": true,
           "subunitcolor": "white"
          },
          "hoverlabel": {
           "align": "left"
          },
          "hovermode": "closest",
          "mapbox": {
           "style": "light"
          },
          "paper_bgcolor": "white",
          "plot_bgcolor": "#E5ECF6",
          "polar": {
           "angularaxis": {
            "gridcolor": "white",
            "linecolor": "white",
            "ticks": ""
           },
           "bgcolor": "#E5ECF6",
           "radialaxis": {
            "gridcolor": "white",
            "linecolor": "white",
            "ticks": ""
           }
          },
          "scene": {
           "xaxis": {
            "backgroundcolor": "#E5ECF6",
            "gridcolor": "white",
            "gridwidth": 2,
            "linecolor": "white",
            "showbackground": true,
            "ticks": "",
            "zerolinecolor": "white"
           },
           "yaxis": {
            "backgroundcolor": "#E5ECF6",
            "gridcolor": "white",
            "gridwidth": 2,
            "linecolor": "white",
            "showbackground": true,
            "ticks": "",
            "zerolinecolor": "white"
           },
           "zaxis": {
            "backgroundcolor": "#E5ECF6",
            "gridcolor": "white",
            "gridwidth": 2,
            "linecolor": "white",
            "showbackground": true,
            "ticks": "",
            "zerolinecolor": "white"
           }
          },
          "shapedefaults": {
           "line": {
            "color": "#2a3f5f"
           }
          },
          "ternary": {
           "aaxis": {
            "gridcolor": "white",
            "linecolor": "white",
            "ticks": ""
           },
           "baxis": {
            "gridcolor": "white",
            "linecolor": "white",
            "ticks": ""
           },
           "bgcolor": "#E5ECF6",
           "caxis": {
            "gridcolor": "white",
            "linecolor": "white",
            "ticks": ""
           }
          },
          "title": {
           "x": 0.05
          },
          "xaxis": {
           "automargin": true,
           "gridcolor": "white",
           "linecolor": "white",
           "ticks": "",
           "title": {
            "standoff": 15
           },
           "zerolinecolor": "white",
           "zerolinewidth": 2
          },
          "yaxis": {
           "automargin": true,
           "gridcolor": "white",
           "linecolor": "white",
           "ticks": "",
           "title": {
            "standoff": 15
           },
           "zerolinecolor": "white",
           "zerolinewidth": 2
          }
         }
        },
        "title": {
         "text": "Clustering de intentos"
        },
        "width": 800,
        "xaxis": {
         "title": {
          "text": "PC1"
         }
        },
        "yaxis": {
         "title": {
          "text": "PC2"
         }
        }
       }
      }
     },
     "metadata": {},
     "output_type": "display_data"
    }
   ],
   "source": [
    "from sklearn.cluster import SpectralClustering\n",
    "\n",
    "# Eliminar columnas innecesarias antes de crear la matriz de características\n",
    "matriz_caracteristicas = df_pca[['PC1', 'PC2']].values\n",
    "\n",
    "# Normalizar los datos\n",
    "matriz_caracteristicas_norm = StandardScaler().fit_transform(matriz_caracteristicas)\n",
    "\n",
    "# Definimos el modelo\n",
    "model = SpectralClustering(n_components=None, random_state=None)\n",
    "\n",
    "# Axustamos el modelo aos datos\n",
    "agrupamiento = model.fit_predict(matriz_caracteristicas_norm)\n",
    "\n",
    "# Crear la figura\n",
    "fig = go.Figure(data=[go.Scatter(x=df_pca['PC1'], y=df_pca['PC2'], mode='markers',\n",
    "                                 marker=dict(size=10, color=agrupamento.labels_ + 1, opacity=0.8,\n",
    "                                             colorscale='Viridis'))])\n",
    "\n",
    "# Configurar layout\n",
    "fig.update_layout(title='Clustering de intentos',\n",
    "                  xaxis_title='PC1',\n",
    "                  yaxis_title='PC2',\n",
    "                  width=800, height=600)\n",
    "\n",
    "# Mostrar gráfica\n",
    "fig.show()\n"
   ]
  },
  {
   "cell_type": "code",
   "execution_count": 90,
   "metadata": {},
   "outputs": [
    {
     "data": {
      "text/html": [
       "<div>\n",
       "<style scoped>\n",
       "    .dataframe tbody tr th:only-of-type {\n",
       "        vertical-align: middle;\n",
       "    }\n",
       "\n",
       "    .dataframe tbody tr th {\n",
       "        vertical-align: top;\n",
       "    }\n",
       "\n",
       "    .dataframe thead th {\n",
       "        text-align: right;\n",
       "    }\n",
       "</style>\n",
       "<table border=\"1\" class=\"dataframe\">\n",
       "  <thead>\n",
       "    <tr style=\"text-align: right;\">\n",
       "      <th></th>\n",
       "      <th>token</th>\n",
       "      <th>intentos</th>\n",
       "      <th>tiempo</th>\n",
       "      <th>G03Q01</th>\n",
       "      <th>G03Q02</th>\n",
       "      <th>edad_genero</th>\n",
       "      <th>mezcla_intentos_tiempo</th>\n",
       "      <th>errores</th>\n",
       "      <th>edad_genero_num</th>\n",
       "      <th>cluster</th>\n",
       "    </tr>\n",
       "  </thead>\n",
       "  <tbody>\n",
       "    <tr>\n",
       "      <th>0</th>\n",
       "      <td>accul</td>\n",
       "      <td>3.650000</td>\n",
       "      <td>7.387432</td>\n",
       "      <td>14</td>\n",
       "      <td>Masculino</td>\n",
       "      <td>Masculino 14</td>\n",
       "      <td>5.518716</td>\n",
       "      <td>7.0</td>\n",
       "      <td>0</td>\n",
       "      <td>0</td>\n",
       "    </tr>\n",
       "    <tr>\n",
       "      <th>1</th>\n",
       "      <td>aotlm</td>\n",
       "      <td>2.250000</td>\n",
       "      <td>8.364646</td>\n",
       "      <td>15</td>\n",
       "      <td>Masculino</td>\n",
       "      <td>Masculino 15</td>\n",
       "      <td>5.307323</td>\n",
       "      <td>3.0</td>\n",
       "      <td>1</td>\n",
       "      <td>0</td>\n",
       "    </tr>\n",
       "    <tr>\n",
       "      <th>2</th>\n",
       "      <td>asopk</td>\n",
       "      <td>1.885714</td>\n",
       "      <td>5.666881</td>\n",
       "      <td>14</td>\n",
       "      <td>Masculino</td>\n",
       "      <td>Masculino 14</td>\n",
       "      <td>3.776297</td>\n",
       "      <td>13.0</td>\n",
       "      <td>0</td>\n",
       "      <td>0</td>\n",
       "    </tr>\n",
       "    <tr>\n",
       "      <th>3</th>\n",
       "      <td>atlzs</td>\n",
       "      <td>2.423077</td>\n",
       "      <td>5.272170</td>\n",
       "      <td>14</td>\n",
       "      <td>Femenino</td>\n",
       "      <td>Femenino 14</td>\n",
       "      <td>3.847624</td>\n",
       "      <td>7.0</td>\n",
       "      <td>2</td>\n",
       "      <td>0</td>\n",
       "    </tr>\n",
       "    <tr>\n",
       "      <th>4</th>\n",
       "      <td>auvqa</td>\n",
       "      <td>2.043478</td>\n",
       "      <td>6.953159</td>\n",
       "      <td>14</td>\n",
       "      <td>Femenino</td>\n",
       "      <td>Femenino 14</td>\n",
       "      <td>4.498319</td>\n",
       "      <td>11.0</td>\n",
       "      <td>2</td>\n",
       "      <td>0</td>\n",
       "    </tr>\n",
       "    <tr>\n",
       "      <th>5</th>\n",
       "      <td>bajbm</td>\n",
       "      <td>2.277778</td>\n",
       "      <td>10.741531</td>\n",
       "      <td>12</td>\n",
       "      <td>Femenino</td>\n",
       "      <td>Femenino 12</td>\n",
       "      <td>6.509654</td>\n",
       "      <td>6.0</td>\n",
       "      <td>3</td>\n",
       "      <td>1</td>\n",
       "    </tr>\n",
       "    <tr>\n",
       "      <th>6</th>\n",
       "      <td>bdwyj</td>\n",
       "      <td>2.950000</td>\n",
       "      <td>6.006920</td>\n",
       "      <td>13</td>\n",
       "      <td>Masculino</td>\n",
       "      <td>Masculino 13</td>\n",
       "      <td>4.478460</td>\n",
       "      <td>8.0</td>\n",
       "      <td>4</td>\n",
       "      <td>0</td>\n",
       "    </tr>\n",
       "    <tr>\n",
       "      <th>7</th>\n",
       "      <td>bhyhw</td>\n",
       "      <td>1.892857</td>\n",
       "      <td>5.918490</td>\n",
       "      <td>14</td>\n",
       "      <td>Masculino</td>\n",
       "      <td>Masculino 14</td>\n",
       "      <td>3.905674</td>\n",
       "      <td>14.0</td>\n",
       "      <td>0</td>\n",
       "      <td>0</td>\n",
       "    </tr>\n",
       "    <tr>\n",
       "      <th>8</th>\n",
       "      <td>bjvnt</td>\n",
       "      <td>2.700000</td>\n",
       "      <td>3.000000</td>\n",
       "      <td>15</td>\n",
       "      <td>Femenino</td>\n",
       "      <td>Femenino 15</td>\n",
       "      <td>2.850000</td>\n",
       "      <td>0.0</td>\n",
       "      <td>5</td>\n",
       "      <td>0</td>\n",
       "    </tr>\n",
       "    <tr>\n",
       "      <th>9</th>\n",
       "      <td>blvkx</td>\n",
       "      <td>3.000000</td>\n",
       "      <td>10.174073</td>\n",
       "      <td>13</td>\n",
       "      <td>Otro</td>\n",
       "      <td>Otro 13</td>\n",
       "      <td>6.587036</td>\n",
       "      <td>6.0</td>\n",
       "      <td>6</td>\n",
       "      <td>1</td>\n",
       "    </tr>\n",
       "    <tr>\n",
       "      <th>10</th>\n",
       "      <td>buvgs</td>\n",
       "      <td>2.636364</td>\n",
       "      <td>6.534245</td>\n",
       "      <td>12</td>\n",
       "      <td>Femenino</td>\n",
       "      <td>Femenino 12</td>\n",
       "      <td>4.585304</td>\n",
       "      <td>11.0</td>\n",
       "      <td>3</td>\n",
       "      <td>0</td>\n",
       "    </tr>\n",
       "    <tr>\n",
       "      <th>11</th>\n",
       "      <td>cmbfi</td>\n",
       "      <td>1.516129</td>\n",
       "      <td>5.883715</td>\n",
       "      <td>13</td>\n",
       "      <td>Masculino</td>\n",
       "      <td>Masculino 13</td>\n",
       "      <td>3.699922</td>\n",
       "      <td>10.0</td>\n",
       "      <td>4</td>\n",
       "      <td>0</td>\n",
       "    </tr>\n",
       "    <tr>\n",
       "      <th>12</th>\n",
       "      <td>cojqb</td>\n",
       "      <td>3.166667</td>\n",
       "      <td>9.861497</td>\n",
       "      <td>8</td>\n",
       "      <td>Femenino</td>\n",
       "      <td>Femenino 8</td>\n",
       "      <td>6.514082</td>\n",
       "      <td>6.0</td>\n",
       "      <td>7</td>\n",
       "      <td>-1</td>\n",
       "    </tr>\n",
       "    <tr>\n",
       "      <th>13</th>\n",
       "      <td>dunul</td>\n",
       "      <td>1.586207</td>\n",
       "      <td>6.514073</td>\n",
       "      <td>14</td>\n",
       "      <td>Otro</td>\n",
       "      <td>Otro 14</td>\n",
       "      <td>4.050140</td>\n",
       "      <td>11.0</td>\n",
       "      <td>8</td>\n",
       "      <td>0</td>\n",
       "    </tr>\n",
       "    <tr>\n",
       "      <th>14</th>\n",
       "      <td>dwqwi</td>\n",
       "      <td>1.888889</td>\n",
       "      <td>7.042074</td>\n",
       "      <td>13</td>\n",
       "      <td>Femenino</td>\n",
       "      <td>Femenino 13</td>\n",
       "      <td>4.465481</td>\n",
       "      <td>13.0</td>\n",
       "      <td>9</td>\n",
       "      <td>0</td>\n",
       "    </tr>\n",
       "    <tr>\n",
       "      <th>15</th>\n",
       "      <td>eayrh</td>\n",
       "      <td>2.739130</td>\n",
       "      <td>5.227795</td>\n",
       "      <td>13</td>\n",
       "      <td>Femenino</td>\n",
       "      <td>Femenino 13</td>\n",
       "      <td>3.983462</td>\n",
       "      <td>13.0</td>\n",
       "      <td>9</td>\n",
       "      <td>0</td>\n",
       "    </tr>\n",
       "    <tr>\n",
       "      <th>16</th>\n",
       "      <td>edxmq</td>\n",
       "      <td>4.950000</td>\n",
       "      <td>4.876273</td>\n",
       "      <td>14</td>\n",
       "      <td>Masculino</td>\n",
       "      <td>Masculino 14</td>\n",
       "      <td>4.913137</td>\n",
       "      <td>9.0</td>\n",
       "      <td>0</td>\n",
       "      <td>0</td>\n",
       "    </tr>\n",
       "    <tr>\n",
       "      <th>17</th>\n",
       "      <td>ejeuw</td>\n",
       "      <td>2.285714</td>\n",
       "      <td>5.498622</td>\n",
       "      <td>13</td>\n",
       "      <td>Femenino</td>\n",
       "      <td>Femenino 13</td>\n",
       "      <td>3.892168</td>\n",
       "      <td>6.0</td>\n",
       "      <td>9</td>\n",
       "      <td>0</td>\n",
       "    </tr>\n",
       "    <tr>\n",
       "      <th>18</th>\n",
       "      <td>epjcx</td>\n",
       "      <td>5.555556</td>\n",
       "      <td>6.394231</td>\n",
       "      <td>12</td>\n",
       "      <td>Masculino</td>\n",
       "      <td>Masculino 12</td>\n",
       "      <td>5.974893</td>\n",
       "      <td>0.0</td>\n",
       "      <td>10</td>\n",
       "      <td>1</td>\n",
       "    </tr>\n",
       "    <tr>\n",
       "      <th>19</th>\n",
       "      <td>epqkm</td>\n",
       "      <td>2.384615</td>\n",
       "      <td>6.644118</td>\n",
       "      <td>14</td>\n",
       "      <td>Masculino</td>\n",
       "      <td>Masculino 14</td>\n",
       "      <td>4.514367</td>\n",
       "      <td>3.0</td>\n",
       "      <td>0</td>\n",
       "      <td>0</td>\n",
       "    </tr>\n",
       "    <tr>\n",
       "      <th>20</th>\n",
       "      <td>eprdu</td>\n",
       "      <td>1.714286</td>\n",
       "      <td>4.852870</td>\n",
       "      <td>14</td>\n",
       "      <td>Masculino</td>\n",
       "      <td>Masculino 14</td>\n",
       "      <td>3.283578</td>\n",
       "      <td>9.0</td>\n",
       "      <td>0</td>\n",
       "      <td>0</td>\n",
       "    </tr>\n",
       "    <tr>\n",
       "      <th>21</th>\n",
       "      <td>ewqbs</td>\n",
       "      <td>3.136364</td>\n",
       "      <td>5.388147</td>\n",
       "      <td>14</td>\n",
       "      <td>Masculino</td>\n",
       "      <td>Masculino 14</td>\n",
       "      <td>4.262255</td>\n",
       "      <td>11.0</td>\n",
       "      <td>0</td>\n",
       "      <td>0</td>\n",
       "    </tr>\n",
       "    <tr>\n",
       "      <th>22</th>\n",
       "      <td>fbldj</td>\n",
       "      <td>2.037037</td>\n",
       "      <td>5.926862</td>\n",
       "      <td>12</td>\n",
       "      <td>Femenino</td>\n",
       "      <td>Femenino 12</td>\n",
       "      <td>3.981950</td>\n",
       "      <td>12.0</td>\n",
       "      <td>3</td>\n",
       "      <td>0</td>\n",
       "    </tr>\n",
       "    <tr>\n",
       "      <th>23</th>\n",
       "      <td>fivin</td>\n",
       "      <td>2.000000</td>\n",
       "      <td>5.590452</td>\n",
       "      <td>15</td>\n",
       "      <td>Femenino</td>\n",
       "      <td>Femenino 15</td>\n",
       "      <td>3.795226</td>\n",
       "      <td>4.0</td>\n",
       "      <td>5</td>\n",
       "      <td>0</td>\n",
       "    </tr>\n",
       "    <tr>\n",
       "      <th>24</th>\n",
       "      <td>fkmtp</td>\n",
       "      <td>2.720000</td>\n",
       "      <td>6.539927</td>\n",
       "      <td>13</td>\n",
       "      <td>Masculino</td>\n",
       "      <td>Masculino 13</td>\n",
       "      <td>4.629963</td>\n",
       "      <td>11.0</td>\n",
       "      <td>4</td>\n",
       "      <td>0</td>\n",
       "    </tr>\n",
       "    <tr>\n",
       "      <th>25</th>\n",
       "      <td>fmtrq</td>\n",
       "      <td>1.913043</td>\n",
       "      <td>6.209523</td>\n",
       "      <td>13</td>\n",
       "      <td>Masculino</td>\n",
       "      <td>Masculino 13</td>\n",
       "      <td>4.061283</td>\n",
       "      <td>10.0</td>\n",
       "      <td>4</td>\n",
       "      <td>0</td>\n",
       "    </tr>\n",
       "    <tr>\n",
       "      <th>26</th>\n",
       "      <td>fmupf</td>\n",
       "      <td>2.166667</td>\n",
       "      <td>7.103058</td>\n",
       "      <td>12</td>\n",
       "      <td>Masculino</td>\n",
       "      <td>Masculino 12</td>\n",
       "      <td>4.634862</td>\n",
       "      <td>11.0</td>\n",
       "      <td>10</td>\n",
       "      <td>0</td>\n",
       "    </tr>\n",
       "    <tr>\n",
       "      <th>27</th>\n",
       "      <td>ftpnb</td>\n",
       "      <td>1.571429</td>\n",
       "      <td>4.317314</td>\n",
       "      <td>14</td>\n",
       "      <td>Masculino</td>\n",
       "      <td>Masculino 14</td>\n",
       "      <td>2.944372</td>\n",
       "      <td>11.0</td>\n",
       "      <td>0</td>\n",
       "      <td>0</td>\n",
       "    </tr>\n",
       "    <tr>\n",
       "      <th>28</th>\n",
       "      <td>gcpze</td>\n",
       "      <td>1.400000</td>\n",
       "      <td>4.378168</td>\n",
       "      <td>13</td>\n",
       "      <td>Masculino</td>\n",
       "      <td>Masculino 13</td>\n",
       "      <td>2.889084</td>\n",
       "      <td>13.0</td>\n",
       "      <td>4</td>\n",
       "      <td>0</td>\n",
       "    </tr>\n",
       "    <tr>\n",
       "      <th>29</th>\n",
       "      <td>gdljy</td>\n",
       "      <td>4.176471</td>\n",
       "      <td>6.651510</td>\n",
       "      <td>14</td>\n",
       "      <td>Femenino</td>\n",
       "      <td>Femenino 14</td>\n",
       "      <td>5.413990</td>\n",
       "      <td>5.0</td>\n",
       "      <td>2</td>\n",
       "      <td>0</td>\n",
       "    </tr>\n",
       "    <tr>\n",
       "      <th>30</th>\n",
       "      <td>gguuc</td>\n",
       "      <td>4.350000</td>\n",
       "      <td>3.698123</td>\n",
       "      <td>15</td>\n",
       "      <td>Femenino</td>\n",
       "      <td>Femenino 15</td>\n",
       "      <td>4.024061</td>\n",
       "      <td>9.0</td>\n",
       "      <td>5</td>\n",
       "      <td>0</td>\n",
       "    </tr>\n",
       "    <tr>\n",
       "      <th>31</th>\n",
       "      <td>gleqe</td>\n",
       "      <td>2.040000</td>\n",
       "      <td>5.278054</td>\n",
       "      <td>13</td>\n",
       "      <td>Masculino</td>\n",
       "      <td>Masculino 13</td>\n",
       "      <td>3.659027</td>\n",
       "      <td>6.0</td>\n",
       "      <td>4</td>\n",
       "      <td>0</td>\n",
       "    </tr>\n",
       "    <tr>\n",
       "      <th>32</th>\n",
       "      <td>grkij</td>\n",
       "      <td>2.478261</td>\n",
       "      <td>6.583177</td>\n",
       "      <td>14</td>\n",
       "      <td>Femenino</td>\n",
       "      <td>Femenino 14</td>\n",
       "      <td>4.530719</td>\n",
       "      <td>9.0</td>\n",
       "      <td>2</td>\n",
       "      <td>0</td>\n",
       "    </tr>\n",
       "    <tr>\n",
       "      <th>33</th>\n",
       "      <td>gzgfk</td>\n",
       "      <td>4.666667</td>\n",
       "      <td>3.916667</td>\n",
       "      <td>13</td>\n",
       "      <td>Femenino</td>\n",
       "      <td>Femenino 13</td>\n",
       "      <td>4.291667</td>\n",
       "      <td>0.0</td>\n",
       "      <td>9</td>\n",
       "      <td>0</td>\n",
       "    </tr>\n",
       "    <tr>\n",
       "      <th>34</th>\n",
       "      <td>hcbyl</td>\n",
       "      <td>3.200000</td>\n",
       "      <td>6.363011</td>\n",
       "      <td>13</td>\n",
       "      <td>Otro</td>\n",
       "      <td>Otro 13</td>\n",
       "      <td>4.781505</td>\n",
       "      <td>9.0</td>\n",
       "      <td>6</td>\n",
       "      <td>0</td>\n",
       "    </tr>\n",
       "    <tr>\n",
       "      <th>35</th>\n",
       "      <td>hjpbw</td>\n",
       "      <td>2.684211</td>\n",
       "      <td>10.379039</td>\n",
       "      <td>13</td>\n",
       "      <td>Masculino</td>\n",
       "      <td>Masculino 13</td>\n",
       "      <td>6.531625</td>\n",
       "      <td>9.0</td>\n",
       "      <td>4</td>\n",
       "      <td>1</td>\n",
       "    </tr>\n",
       "    <tr>\n",
       "      <th>36</th>\n",
       "      <td>hpdxj</td>\n",
       "      <td>3.142857</td>\n",
       "      <td>4.500754</td>\n",
       "      <td>14</td>\n",
       "      <td>Masculino</td>\n",
       "      <td>Masculino 14</td>\n",
       "      <td>3.821806</td>\n",
       "      <td>3.0</td>\n",
       "      <td>0</td>\n",
       "      <td>0</td>\n",
       "    </tr>\n",
       "    <tr>\n",
       "      <th>37</th>\n",
       "      <td>hqmhq</td>\n",
       "      <td>1.666667</td>\n",
       "      <td>8.195984</td>\n",
       "      <td>15</td>\n",
       "      <td>Masculino</td>\n",
       "      <td>Masculino 15</td>\n",
       "      <td>4.931326</td>\n",
       "      <td>5.0</td>\n",
       "      <td>1</td>\n",
       "      <td>0</td>\n",
       "    </tr>\n",
       "    <tr>\n",
       "      <th>38</th>\n",
       "      <td>huyyb</td>\n",
       "      <td>2.684211</td>\n",
       "      <td>7.531806</td>\n",
       "      <td>14</td>\n",
       "      <td>Masculino</td>\n",
       "      <td>Masculino 14</td>\n",
       "      <td>5.108008</td>\n",
       "      <td>8.0</td>\n",
       "      <td>0</td>\n",
       "      <td>0</td>\n",
       "    </tr>\n",
       "    <tr>\n",
       "      <th>39</th>\n",
       "      <td>icllt</td>\n",
       "      <td>2.217391</td>\n",
       "      <td>8.219693</td>\n",
       "      <td>12</td>\n",
       "      <td>Femenino</td>\n",
       "      <td>Femenino 12</td>\n",
       "      <td>5.218542</td>\n",
       "      <td>9.0</td>\n",
       "      <td>3</td>\n",
       "      <td>0</td>\n",
       "    </tr>\n",
       "    <tr>\n",
       "      <th>40</th>\n",
       "      <td>idmzi</td>\n",
       "      <td>3.571429</td>\n",
       "      <td>8.093333</td>\n",
       "      <td>14</td>\n",
       "      <td>Masculino</td>\n",
       "      <td>Masculino 14</td>\n",
       "      <td>5.832381</td>\n",
       "      <td>2.0</td>\n",
       "      <td>0</td>\n",
       "      <td>-1</td>\n",
       "    </tr>\n",
       "    <tr>\n",
       "      <th>41</th>\n",
       "      <td>ikcar</td>\n",
       "      <td>1.863636</td>\n",
       "      <td>5.853960</td>\n",
       "      <td>13</td>\n",
       "      <td>Femenino</td>\n",
       "      <td>Femenino 13</td>\n",
       "      <td>3.858798</td>\n",
       "      <td>7.0</td>\n",
       "      <td>9</td>\n",
       "      <td>0</td>\n",
       "    </tr>\n",
       "    <tr>\n",
       "      <th>42</th>\n",
       "      <td>ipdcp</td>\n",
       "      <td>2.318182</td>\n",
       "      <td>4.021263</td>\n",
       "      <td>14</td>\n",
       "      <td>Masculino</td>\n",
       "      <td>Masculino 14</td>\n",
       "      <td>3.169722</td>\n",
       "      <td>16.0</td>\n",
       "      <td>0</td>\n",
       "      <td>0</td>\n",
       "    </tr>\n",
       "    <tr>\n",
       "      <th>43</th>\n",
       "      <td>itkas</td>\n",
       "      <td>4.500000</td>\n",
       "      <td>5.241525</td>\n",
       "      <td>12</td>\n",
       "      <td>Masculino</td>\n",
       "      <td>Masculino 12</td>\n",
       "      <td>4.870763</td>\n",
       "      <td>6.0</td>\n",
       "      <td>10</td>\n",
       "      <td>0</td>\n",
       "    </tr>\n",
       "    <tr>\n",
       "      <th>44</th>\n",
       "      <td>ixrux</td>\n",
       "      <td>3.550000</td>\n",
       "      <td>7.157093</td>\n",
       "      <td>12</td>\n",
       "      <td>Masculino</td>\n",
       "      <td>Masculino 12</td>\n",
       "      <td>5.353546</td>\n",
       "      <td>10.0</td>\n",
       "      <td>10</td>\n",
       "      <td>0</td>\n",
       "    </tr>\n",
       "    <tr>\n",
       "      <th>45</th>\n",
       "      <td>jhbuv</td>\n",
       "      <td>2.428571</td>\n",
       "      <td>6.425109</td>\n",
       "      <td>15</td>\n",
       "      <td>Masculino</td>\n",
       "      <td>Masculino 15</td>\n",
       "      <td>4.426840</td>\n",
       "      <td>4.0</td>\n",
       "      <td>1</td>\n",
       "      <td>0</td>\n",
       "    </tr>\n",
       "    <tr>\n",
       "      <th>46</th>\n",
       "      <td>jozyx</td>\n",
       "      <td>3.352941</td>\n",
       "      <td>4.979539</td>\n",
       "      <td>14</td>\n",
       "      <td>Femenino</td>\n",
       "      <td>Femenino 14</td>\n",
       "      <td>4.166240</td>\n",
       "      <td>5.0</td>\n",
       "      <td>2</td>\n",
       "      <td>0</td>\n",
       "    </tr>\n",
       "    <tr>\n",
       "      <th>47</th>\n",
       "      <td>khadt</td>\n",
       "      <td>2.000000</td>\n",
       "      <td>5.666210</td>\n",
       "      <td>14</td>\n",
       "      <td>Femenino</td>\n",
       "      <td>Femenino 14</td>\n",
       "      <td>3.833105</td>\n",
       "      <td>9.0</td>\n",
       "      <td>2</td>\n",
       "      <td>0</td>\n",
       "    </tr>\n",
       "    <tr>\n",
       "      <th>48</th>\n",
       "      <td>khfha</td>\n",
       "      <td>4.045455</td>\n",
       "      <td>6.318751</td>\n",
       "      <td>13</td>\n",
       "      <td>Femenino</td>\n",
       "      <td>Femenino 13</td>\n",
       "      <td>5.182103</td>\n",
       "      <td>8.0</td>\n",
       "      <td>9</td>\n",
       "      <td>0</td>\n",
       "    </tr>\n",
       "    <tr>\n",
       "      <th>49</th>\n",
       "      <td>kkliq</td>\n",
       "      <td>3.125000</td>\n",
       "      <td>9.435240</td>\n",
       "      <td>14</td>\n",
       "      <td>Femenino</td>\n",
       "      <td>Femenino 14</td>\n",
       "      <td>6.280120</td>\n",
       "      <td>8.0</td>\n",
       "      <td>2</td>\n",
       "      <td>-1</td>\n",
       "    </tr>\n",
       "    <tr>\n",
       "      <th>50</th>\n",
       "      <td>kkoif</td>\n",
       "      <td>1.785714</td>\n",
       "      <td>5.555407</td>\n",
       "      <td>13</td>\n",
       "      <td>Femenino</td>\n",
       "      <td>Femenino 13</td>\n",
       "      <td>3.670561</td>\n",
       "      <td>17.0</td>\n",
       "      <td>9</td>\n",
       "      <td>0</td>\n",
       "    </tr>\n",
       "    <tr>\n",
       "      <th>51</th>\n",
       "      <td>kmqou</td>\n",
       "      <td>2.863636</td>\n",
       "      <td>4.042614</td>\n",
       "      <td>13</td>\n",
       "      <td>Otro</td>\n",
       "      <td>Otro 13</td>\n",
       "      <td>3.453125</td>\n",
       "      <td>12.0</td>\n",
       "      <td>6</td>\n",
       "      <td>0</td>\n",
       "    </tr>\n",
       "    <tr>\n",
       "      <th>52</th>\n",
       "      <td>knewj</td>\n",
       "      <td>2.000000</td>\n",
       "      <td>10.150794</td>\n",
       "      <td>15</td>\n",
       "      <td>Femenino</td>\n",
       "      <td>Femenino 15</td>\n",
       "      <td>6.075397</td>\n",
       "      <td>0.0</td>\n",
       "      <td>5</td>\n",
       "      <td>2</td>\n",
       "    </tr>\n",
       "    <tr>\n",
       "      <th>53</th>\n",
       "      <td>krahz</td>\n",
       "      <td>1.555556</td>\n",
       "      <td>7.743029</td>\n",
       "      <td>13</td>\n",
       "      <td>Femenino</td>\n",
       "      <td>Femenino 13</td>\n",
       "      <td>4.649292</td>\n",
       "      <td>11.0</td>\n",
       "      <td>9</td>\n",
       "      <td>0</td>\n",
       "    </tr>\n",
       "    <tr>\n",
       "      <th>54</th>\n",
       "      <td>kzles</td>\n",
       "      <td>1.520000</td>\n",
       "      <td>6.373680</td>\n",
       "      <td>12</td>\n",
       "      <td>Femenino</td>\n",
       "      <td>Femenino 12</td>\n",
       "      <td>3.946840</td>\n",
       "      <td>11.0</td>\n",
       "      <td>3</td>\n",
       "      <td>0</td>\n",
       "    </tr>\n",
       "    <tr>\n",
       "      <th>55</th>\n",
       "      <td>lhrbj</td>\n",
       "      <td>1.958333</td>\n",
       "      <td>7.676746</td>\n",
       "      <td>15</td>\n",
       "      <td>Femenino</td>\n",
       "      <td>Femenino 15</td>\n",
       "      <td>4.817540</td>\n",
       "      <td>7.0</td>\n",
       "      <td>5</td>\n",
       "      <td>0</td>\n",
       "    </tr>\n",
       "    <tr>\n",
       "      <th>56</th>\n",
       "      <td>loemd</td>\n",
       "      <td>1.592593</td>\n",
       "      <td>8.376098</td>\n",
       "      <td>14</td>\n",
       "      <td>Otro</td>\n",
       "      <td>Otro 14</td>\n",
       "      <td>4.984345</td>\n",
       "      <td>11.0</td>\n",
       "      <td>8</td>\n",
       "      <td>0</td>\n",
       "    </tr>\n",
       "    <tr>\n",
       "      <th>57</th>\n",
       "      <td>lohyo</td>\n",
       "      <td>4.476190</td>\n",
       "      <td>3.659881</td>\n",
       "      <td>12</td>\n",
       "      <td>Femenino</td>\n",
       "      <td>Femenino 12</td>\n",
       "      <td>4.068036</td>\n",
       "      <td>9.0</td>\n",
       "      <td>3</td>\n",
       "      <td>0</td>\n",
       "    </tr>\n",
       "    <tr>\n",
       "      <th>58</th>\n",
       "      <td>lwryl</td>\n",
       "      <td>2.736842</td>\n",
       "      <td>7.000213</td>\n",
       "      <td>14</td>\n",
       "      <td>Masculino</td>\n",
       "      <td>Masculino 14</td>\n",
       "      <td>4.868527</td>\n",
       "      <td>10.0</td>\n",
       "      <td>0</td>\n",
       "      <td>0</td>\n",
       "    </tr>\n",
       "    <tr>\n",
       "      <th>59</th>\n",
       "      <td>mewpz</td>\n",
       "      <td>3.681818</td>\n",
       "      <td>5.905386</td>\n",
       "      <td>12</td>\n",
       "      <td>Femenino</td>\n",
       "      <td>Femenino 12</td>\n",
       "      <td>4.793602</td>\n",
       "      <td>12.0</td>\n",
       "      <td>3</td>\n",
       "      <td>0</td>\n",
       "    </tr>\n",
       "    <tr>\n",
       "      <th>60</th>\n",
       "      <td>mgaak</td>\n",
       "      <td>1.400000</td>\n",
       "      <td>4.055539</td>\n",
       "      <td>15</td>\n",
       "      <td>Masculino</td>\n",
       "      <td>Masculino 15</td>\n",
       "      <td>2.727770</td>\n",
       "      <td>13.0</td>\n",
       "      <td>1</td>\n",
       "      <td>0</td>\n",
       "    </tr>\n",
       "    <tr>\n",
       "      <th>61</th>\n",
       "      <td>mjiso</td>\n",
       "      <td>1.440000</td>\n",
       "      <td>7.447546</td>\n",
       "      <td>15</td>\n",
       "      <td>Femenino</td>\n",
       "      <td>Femenino 15</td>\n",
       "      <td>4.443773</td>\n",
       "      <td>15.0</td>\n",
       "      <td>5</td>\n",
       "      <td>0</td>\n",
       "    </tr>\n",
       "    <tr>\n",
       "      <th>62</th>\n",
       "      <td>mymho</td>\n",
       "      <td>4.833333</td>\n",
       "      <td>6.705357</td>\n",
       "      <td>15</td>\n",
       "      <td>Femenino</td>\n",
       "      <td>Femenino 15</td>\n",
       "      <td>5.769345</td>\n",
       "      <td>3.0</td>\n",
       "      <td>5</td>\n",
       "      <td>-1</td>\n",
       "    </tr>\n",
       "    <tr>\n",
       "      <th>63</th>\n",
       "      <td>ngavz</td>\n",
       "      <td>2.485714</td>\n",
       "      <td>3.264442</td>\n",
       "      <td>14</td>\n",
       "      <td>Masculino</td>\n",
       "      <td>Masculino 14</td>\n",
       "      <td>2.875078</td>\n",
       "      <td>22.0</td>\n",
       "      <td>0</td>\n",
       "      <td>-1</td>\n",
       "    </tr>\n",
       "    <tr>\n",
       "      <th>64</th>\n",
       "      <td>nhbnj</td>\n",
       "      <td>5.052632</td>\n",
       "      <td>6.987273</td>\n",
       "      <td>12</td>\n",
       "      <td>Masculino</td>\n",
       "      <td>Masculino 12</td>\n",
       "      <td>6.019952</td>\n",
       "      <td>6.0</td>\n",
       "      <td>10</td>\n",
       "      <td>1</td>\n",
       "    </tr>\n",
       "    <tr>\n",
       "      <th>65</th>\n",
       "      <td>nuasx</td>\n",
       "      <td>3.800000</td>\n",
       "      <td>5.669475</td>\n",
       "      <td>13</td>\n",
       "      <td>Masculino</td>\n",
       "      <td>Masculino 13</td>\n",
       "      <td>4.734738</td>\n",
       "      <td>5.0</td>\n",
       "      <td>4</td>\n",
       "      <td>0</td>\n",
       "    </tr>\n",
       "    <tr>\n",
       "      <th>66</th>\n",
       "      <td>oahey</td>\n",
       "      <td>1.689655</td>\n",
       "      <td>5.888230</td>\n",
       "      <td>13</td>\n",
       "      <td>Masculino</td>\n",
       "      <td>Masculino 13</td>\n",
       "      <td>3.788943</td>\n",
       "      <td>12.0</td>\n",
       "      <td>4</td>\n",
       "      <td>0</td>\n",
       "    </tr>\n",
       "    <tr>\n",
       "      <th>67</th>\n",
       "      <td>onyep</td>\n",
       "      <td>3.703704</td>\n",
       "      <td>4.852661</td>\n",
       "      <td>14</td>\n",
       "      <td>Femenino</td>\n",
       "      <td>Femenino 14</td>\n",
       "      <td>4.278183</td>\n",
       "      <td>12.0</td>\n",
       "      <td>2</td>\n",
       "      <td>0</td>\n",
       "    </tr>\n",
       "    <tr>\n",
       "      <th>68</th>\n",
       "      <td>orjyn</td>\n",
       "      <td>4.083333</td>\n",
       "      <td>4.978347</td>\n",
       "      <td>12</td>\n",
       "      <td>Femenino</td>\n",
       "      <td>Femenino 12</td>\n",
       "      <td>4.530840</td>\n",
       "      <td>12.0</td>\n",
       "      <td>3</td>\n",
       "      <td>0</td>\n",
       "    </tr>\n",
       "    <tr>\n",
       "      <th>69</th>\n",
       "      <td>pbgky</td>\n",
       "      <td>2.250000</td>\n",
       "      <td>5.538329</td>\n",
       "      <td>13</td>\n",
       "      <td>Masculino</td>\n",
       "      <td>Masculino 13</td>\n",
       "      <td>3.894165</td>\n",
       "      <td>10.0</td>\n",
       "      <td>4</td>\n",
       "      <td>0</td>\n",
       "    </tr>\n",
       "    <tr>\n",
       "      <th>70</th>\n",
       "      <td>pbwkf</td>\n",
       "      <td>2.583333</td>\n",
       "      <td>4.321943</td>\n",
       "      <td>13</td>\n",
       "      <td>Masculino</td>\n",
       "      <td>Masculino 13</td>\n",
       "      <td>3.452638</td>\n",
       "      <td>11.0</td>\n",
       "      <td>4</td>\n",
       "      <td>0</td>\n",
       "    </tr>\n",
       "    <tr>\n",
       "      <th>71</th>\n",
       "      <td>pleui</td>\n",
       "      <td>1.814815</td>\n",
       "      <td>6.004582</td>\n",
       "      <td>13</td>\n",
       "      <td>Masculino</td>\n",
       "      <td>Masculino 13</td>\n",
       "      <td>3.909699</td>\n",
       "      <td>12.0</td>\n",
       "      <td>4</td>\n",
       "      <td>0</td>\n",
       "    </tr>\n",
       "    <tr>\n",
       "      <th>72</th>\n",
       "      <td>pqwaf</td>\n",
       "      <td>1.321429</td>\n",
       "      <td>9.510853</td>\n",
       "      <td>12</td>\n",
       "      <td>Masculino</td>\n",
       "      <td>Masculino 12</td>\n",
       "      <td>5.416141</td>\n",
       "      <td>13.0</td>\n",
       "      <td>10</td>\n",
       "      <td>-1</td>\n",
       "    </tr>\n",
       "    <tr>\n",
       "      <th>73</th>\n",
       "      <td>prpej</td>\n",
       "      <td>2.315789</td>\n",
       "      <td>8.875633</td>\n",
       "      <td>12</td>\n",
       "      <td>Femenino</td>\n",
       "      <td>Femenino 12</td>\n",
       "      <td>5.595711</td>\n",
       "      <td>3.0</td>\n",
       "      <td>3</td>\n",
       "      <td>1</td>\n",
       "    </tr>\n",
       "    <tr>\n",
       "      <th>74</th>\n",
       "      <td>psido</td>\n",
       "      <td>2.590909</td>\n",
       "      <td>7.010320</td>\n",
       "      <td>14</td>\n",
       "      <td>Masculino</td>\n",
       "      <td>Masculino 14</td>\n",
       "      <td>4.800615</td>\n",
       "      <td>13.0</td>\n",
       "      <td>0</td>\n",
       "      <td>0</td>\n",
       "    </tr>\n",
       "    <tr>\n",
       "      <th>75</th>\n",
       "      <td>ptmkr</td>\n",
       "      <td>3.956522</td>\n",
       "      <td>4.829527</td>\n",
       "      <td>13</td>\n",
       "      <td>Masculino</td>\n",
       "      <td>Masculino 13</td>\n",
       "      <td>4.393024</td>\n",
       "      <td>16.0</td>\n",
       "      <td>4</td>\n",
       "      <td>0</td>\n",
       "    </tr>\n",
       "    <tr>\n",
       "      <th>76</th>\n",
       "      <td>pygoc</td>\n",
       "      <td>1.533333</td>\n",
       "      <td>4.913242</td>\n",
       "      <td>14</td>\n",
       "      <td>Otro</td>\n",
       "      <td>Otro 14</td>\n",
       "      <td>3.223287</td>\n",
       "      <td>11.0</td>\n",
       "      <td>8</td>\n",
       "      <td>0</td>\n",
       "    </tr>\n",
       "    <tr>\n",
       "      <th>77</th>\n",
       "      <td>pzfdd</td>\n",
       "      <td>2.450000</td>\n",
       "      <td>5.331609</td>\n",
       "      <td>13</td>\n",
       "      <td>Masculino</td>\n",
       "      <td>Masculino 13</td>\n",
       "      <td>3.890805</td>\n",
       "      <td>10.0</td>\n",
       "      <td>4</td>\n",
       "      <td>0</td>\n",
       "    </tr>\n",
       "    <tr>\n",
       "      <th>78</th>\n",
       "      <td>qeqyj</td>\n",
       "      <td>2.200000</td>\n",
       "      <td>4.537446</td>\n",
       "      <td>13</td>\n",
       "      <td>Masculino</td>\n",
       "      <td>Masculino 13</td>\n",
       "      <td>3.368723</td>\n",
       "      <td>11.0</td>\n",
       "      <td>4</td>\n",
       "      <td>0</td>\n",
       "    </tr>\n",
       "    <tr>\n",
       "      <th>79</th>\n",
       "      <td>qfsdj</td>\n",
       "      <td>1.275862</td>\n",
       "      <td>5.958268</td>\n",
       "      <td>15</td>\n",
       "      <td>Masculino</td>\n",
       "      <td>Masculino 15</td>\n",
       "      <td>3.617065</td>\n",
       "      <td>14.0</td>\n",
       "      <td>1</td>\n",
       "      <td>0</td>\n",
       "    </tr>\n",
       "    <tr>\n",
       "      <th>80</th>\n",
       "      <td>qgcgc</td>\n",
       "      <td>2.296296</td>\n",
       "      <td>5.285877</td>\n",
       "      <td>12</td>\n",
       "      <td>Masculino</td>\n",
       "      <td>Masculino 12</td>\n",
       "      <td>3.791087</td>\n",
       "      <td>12.0</td>\n",
       "      <td>10</td>\n",
       "      <td>-1</td>\n",
       "    </tr>\n",
       "    <tr>\n",
       "      <th>81</th>\n",
       "      <td>qwnpf</td>\n",
       "      <td>2.736842</td>\n",
       "      <td>9.060052</td>\n",
       "      <td>12</td>\n",
       "      <td>Masculino</td>\n",
       "      <td>Masculino 12</td>\n",
       "      <td>5.898447</td>\n",
       "      <td>7.0</td>\n",
       "      <td>10</td>\n",
       "      <td>-1</td>\n",
       "    </tr>\n",
       "    <tr>\n",
       "      <th>82</th>\n",
       "      <td>raqdt</td>\n",
       "      <td>1.909091</td>\n",
       "      <td>6.751498</td>\n",
       "      <td>13</td>\n",
       "      <td>Femenino</td>\n",
       "      <td>Femenino 13</td>\n",
       "      <td>4.330294</td>\n",
       "      <td>9.0</td>\n",
       "      <td>9</td>\n",
       "      <td>0</td>\n",
       "    </tr>\n",
       "    <tr>\n",
       "      <th>83</th>\n",
       "      <td>rdiaf</td>\n",
       "      <td>3.607143</td>\n",
       "      <td>4.537196</td>\n",
       "      <td>14</td>\n",
       "      <td>Masculino</td>\n",
       "      <td>Masculino 14</td>\n",
       "      <td>4.072170</td>\n",
       "      <td>14.0</td>\n",
       "      <td>0</td>\n",
       "      <td>0</td>\n",
       "    </tr>\n",
       "    <tr>\n",
       "      <th>84</th>\n",
       "      <td>rfofs</td>\n",
       "      <td>6.250000</td>\n",
       "      <td>6.500000</td>\n",
       "      <td>13</td>\n",
       "      <td>Masculino</td>\n",
       "      <td>Masculino 13</td>\n",
       "      <td>6.375000</td>\n",
       "      <td>0.0</td>\n",
       "      <td>4</td>\n",
       "      <td>2</td>\n",
       "    </tr>\n",
       "    <tr>\n",
       "      <th>85</th>\n",
       "      <td>rkmrw</td>\n",
       "      <td>2.000000</td>\n",
       "      <td>8.145612</td>\n",
       "      <td>12</td>\n",
       "      <td>Femenino</td>\n",
       "      <td>Femenino 12</td>\n",
       "      <td>5.072806</td>\n",
       "      <td>8.0</td>\n",
       "      <td>3</td>\n",
       "      <td>0</td>\n",
       "    </tr>\n",
       "    <tr>\n",
       "      <th>86</th>\n",
       "      <td>rqaby</td>\n",
       "      <td>3.933333</td>\n",
       "      <td>7.260730</td>\n",
       "      <td>12</td>\n",
       "      <td>Masculino</td>\n",
       "      <td>Masculino 12</td>\n",
       "      <td>5.597032</td>\n",
       "      <td>8.0</td>\n",
       "      <td>10</td>\n",
       "      <td>-1</td>\n",
       "    </tr>\n",
       "    <tr>\n",
       "      <th>87</th>\n",
       "      <td>rsjxu</td>\n",
       "      <td>6.071429</td>\n",
       "      <td>5.637196</td>\n",
       "      <td>12</td>\n",
       "      <td>Otro</td>\n",
       "      <td>Otro 12</td>\n",
       "      <td>5.854312</td>\n",
       "      <td>3.0</td>\n",
       "      <td>11</td>\n",
       "      <td>1</td>\n",
       "    </tr>\n",
       "    <tr>\n",
       "      <th>88</th>\n",
       "      <td>sbexy</td>\n",
       "      <td>4.538462</td>\n",
       "      <td>10.997455</td>\n",
       "      <td>12</td>\n",
       "      <td>Femenino</td>\n",
       "      <td>Femenino 12</td>\n",
       "      <td>7.767958</td>\n",
       "      <td>3.0</td>\n",
       "      <td>3</td>\n",
       "      <td>-1</td>\n",
       "    </tr>\n",
       "    <tr>\n",
       "      <th>89</th>\n",
       "      <td>srjon</td>\n",
       "      <td>1.333333</td>\n",
       "      <td>5.876009</td>\n",
       "      <td>13</td>\n",
       "      <td>Masculino</td>\n",
       "      <td>Masculino 13</td>\n",
       "      <td>3.604671</td>\n",
       "      <td>10.0</td>\n",
       "      <td>4</td>\n",
       "      <td>0</td>\n",
       "    </tr>\n",
       "    <tr>\n",
       "      <th>90</th>\n",
       "      <td>stiry</td>\n",
       "      <td>1.368421</td>\n",
       "      <td>7.055726</td>\n",
       "      <td>15</td>\n",
       "      <td>Femenino</td>\n",
       "      <td>Femenino 15</td>\n",
       "      <td>4.212074</td>\n",
       "      <td>4.0</td>\n",
       "      <td>5</td>\n",
       "      <td>0</td>\n",
       "    </tr>\n",
       "    <tr>\n",
       "      <th>91</th>\n",
       "      <td>swvxx</td>\n",
       "      <td>3.631579</td>\n",
       "      <td>6.619645</td>\n",
       "      <td>14</td>\n",
       "      <td>Masculino</td>\n",
       "      <td>Masculino 14</td>\n",
       "      <td>5.125612</td>\n",
       "      <td>8.0</td>\n",
       "      <td>0</td>\n",
       "      <td>0</td>\n",
       "    </tr>\n",
       "    <tr>\n",
       "      <th>92</th>\n",
       "      <td>sxipu</td>\n",
       "      <td>4.368421</td>\n",
       "      <td>4.511075</td>\n",
       "      <td>14</td>\n",
       "      <td>Femenino</td>\n",
       "      <td>Femenino 14</td>\n",
       "      <td>4.439748</td>\n",
       "      <td>6.0</td>\n",
       "      <td>2</td>\n",
       "      <td>0</td>\n",
       "    </tr>\n",
       "    <tr>\n",
       "      <th>93</th>\n",
       "      <td>sybwc</td>\n",
       "      <td>2.450000</td>\n",
       "      <td>9.076517</td>\n",
       "      <td>12</td>\n",
       "      <td>Masculino</td>\n",
       "      <td>Masculino 12</td>\n",
       "      <td>5.763259</td>\n",
       "      <td>3.0</td>\n",
       "      <td>10</td>\n",
       "      <td>-1</td>\n",
       "    </tr>\n",
       "    <tr>\n",
       "      <th>94</th>\n",
       "      <td>tavin</td>\n",
       "      <td>2.560000</td>\n",
       "      <td>6.012539</td>\n",
       "      <td>15</td>\n",
       "      <td>Masculino</td>\n",
       "      <td>Masculino 15</td>\n",
       "      <td>4.286270</td>\n",
       "      <td>9.0</td>\n",
       "      <td>1</td>\n",
       "      <td>0</td>\n",
       "    </tr>\n",
       "    <tr>\n",
       "      <th>95</th>\n",
       "      <td>tcvyz</td>\n",
       "      <td>2.736842</td>\n",
       "      <td>6.714399</td>\n",
       "      <td>13</td>\n",
       "      <td>Femenino</td>\n",
       "      <td>Femenino 13</td>\n",
       "      <td>4.725620</td>\n",
       "      <td>4.0</td>\n",
       "      <td>9</td>\n",
       "      <td>0</td>\n",
       "    </tr>\n",
       "    <tr>\n",
       "      <th>96</th>\n",
       "      <td>tekwp</td>\n",
       "      <td>5.333333</td>\n",
       "      <td>4.290134</td>\n",
       "      <td>14</td>\n",
       "      <td>Masculino</td>\n",
       "      <td>Masculino 14</td>\n",
       "      <td>4.811734</td>\n",
       "      <td>10.0</td>\n",
       "      <td>0</td>\n",
       "      <td>0</td>\n",
       "    </tr>\n",
       "    <tr>\n",
       "      <th>97</th>\n",
       "      <td>thaho</td>\n",
       "      <td>3.391304</td>\n",
       "      <td>5.156927</td>\n",
       "      <td>13</td>\n",
       "      <td>Masculino</td>\n",
       "      <td>Masculino 13</td>\n",
       "      <td>4.274115</td>\n",
       "      <td>10.0</td>\n",
       "      <td>4</td>\n",
       "      <td>0</td>\n",
       "    </tr>\n",
       "    <tr>\n",
       "      <th>98</th>\n",
       "      <td>tinco</td>\n",
       "      <td>3.714286</td>\n",
       "      <td>9.401667</td>\n",
       "      <td>15</td>\n",
       "      <td>Femenino</td>\n",
       "      <td>Femenino 15</td>\n",
       "      <td>6.557976</td>\n",
       "      <td>3.0</td>\n",
       "      <td>5</td>\n",
       "      <td>2</td>\n",
       "    </tr>\n",
       "    <tr>\n",
       "      <th>99</th>\n",
       "      <td>tjfzy</td>\n",
       "      <td>5.400000</td>\n",
       "      <td>4.451076</td>\n",
       "      <td>13</td>\n",
       "      <td>Masculino</td>\n",
       "      <td>Masculino 13</td>\n",
       "      <td>4.925538</td>\n",
       "      <td>5.0</td>\n",
       "      <td>4</td>\n",
       "      <td>0</td>\n",
       "    </tr>\n",
       "    <tr>\n",
       "      <th>100</th>\n",
       "      <td>tqgyp</td>\n",
       "      <td>5.172414</td>\n",
       "      <td>2.497260</td>\n",
       "      <td>14</td>\n",
       "      <td>Masculino</td>\n",
       "      <td>Masculino 14</td>\n",
       "      <td>3.834837</td>\n",
       "      <td>16.0</td>\n",
       "      <td>0</td>\n",
       "      <td>0</td>\n",
       "    </tr>\n",
       "    <tr>\n",
       "      <th>101</th>\n",
       "      <td>ubmtx</td>\n",
       "      <td>4.190476</td>\n",
       "      <td>4.389396</td>\n",
       "      <td>14</td>\n",
       "      <td>Otro</td>\n",
       "      <td>Otro 14</td>\n",
       "      <td>4.289936</td>\n",
       "      <td>9.0</td>\n",
       "      <td>8</td>\n",
       "      <td>0</td>\n",
       "    </tr>\n",
       "    <tr>\n",
       "      <th>102</th>\n",
       "      <td>ucdvy</td>\n",
       "      <td>3.666667</td>\n",
       "      <td>4.551996</td>\n",
       "      <td>15</td>\n",
       "      <td>Masculino</td>\n",
       "      <td>Masculino 15</td>\n",
       "      <td>4.109331</td>\n",
       "      <td>10.0</td>\n",
       "      <td>1</td>\n",
       "      <td>0</td>\n",
       "    </tr>\n",
       "    <tr>\n",
       "      <th>103</th>\n",
       "      <td>uniee</td>\n",
       "      <td>3.130435</td>\n",
       "      <td>5.448670</td>\n",
       "      <td>13</td>\n",
       "      <td>Femenino</td>\n",
       "      <td>Femenino 13</td>\n",
       "      <td>4.289552</td>\n",
       "      <td>16.0</td>\n",
       "      <td>9</td>\n",
       "      <td>0</td>\n",
       "    </tr>\n",
       "    <tr>\n",
       "      <th>104</th>\n",
       "      <td>uzzpo</td>\n",
       "      <td>1.592593</td>\n",
       "      <td>4.991654</td>\n",
       "      <td>13</td>\n",
       "      <td>Femenino</td>\n",
       "      <td>Femenino 13</td>\n",
       "      <td>3.292123</td>\n",
       "      <td>10.0</td>\n",
       "      <td>9</td>\n",
       "      <td>0</td>\n",
       "    </tr>\n",
       "    <tr>\n",
       "      <th>105</th>\n",
       "      <td>vddlg</td>\n",
       "      <td>2.000000</td>\n",
       "      <td>4.500000</td>\n",
       "      <td>14</td>\n",
       "      <td>Femenino</td>\n",
       "      <td>Femenino 14</td>\n",
       "      <td>3.250000</td>\n",
       "      <td>0.0</td>\n",
       "      <td>2</td>\n",
       "      <td>0</td>\n",
       "    </tr>\n",
       "    <tr>\n",
       "      <th>106</th>\n",
       "      <td>vsxld</td>\n",
       "      <td>1.269231</td>\n",
       "      <td>6.712788</td>\n",
       "      <td>13</td>\n",
       "      <td>Femenino</td>\n",
       "      <td>Femenino 13</td>\n",
       "      <td>3.991009</td>\n",
       "      <td>8.0</td>\n",
       "      <td>9</td>\n",
       "      <td>0</td>\n",
       "    </tr>\n",
       "    <tr>\n",
       "      <th>107</th>\n",
       "      <td>vvqlm</td>\n",
       "      <td>3.045455</td>\n",
       "      <td>5.077514</td>\n",
       "      <td>14</td>\n",
       "      <td>Masculino</td>\n",
       "      <td>Masculino 14</td>\n",
       "      <td>4.061484</td>\n",
       "      <td>6.0</td>\n",
       "      <td>0</td>\n",
       "      <td>0</td>\n",
       "    </tr>\n",
       "    <tr>\n",
       "      <th>108</th>\n",
       "      <td>wjaxi</td>\n",
       "      <td>1.925926</td>\n",
       "      <td>4.900420</td>\n",
       "      <td>15</td>\n",
       "      <td>Masculino</td>\n",
       "      <td>Masculino 15</td>\n",
       "      <td>3.413173</td>\n",
       "      <td>17.0</td>\n",
       "      <td>1</td>\n",
       "      <td>0</td>\n",
       "    </tr>\n",
       "    <tr>\n",
       "      <th>109</th>\n",
       "      <td>wqmgq</td>\n",
       "      <td>6.000000</td>\n",
       "      <td>5.280436</td>\n",
       "      <td>15</td>\n",
       "      <td>Masculino</td>\n",
       "      <td>Masculino 15</td>\n",
       "      <td>5.640218</td>\n",
       "      <td>5.0</td>\n",
       "      <td>1</td>\n",
       "      <td>-1</td>\n",
       "    </tr>\n",
       "    <tr>\n",
       "      <th>110</th>\n",
       "      <td>xbmmw</td>\n",
       "      <td>2.370370</td>\n",
       "      <td>5.337025</td>\n",
       "      <td>13</td>\n",
       "      <td>Masculino</td>\n",
       "      <td>Masculino 13</td>\n",
       "      <td>3.853698</td>\n",
       "      <td>16.0</td>\n",
       "      <td>4</td>\n",
       "      <td>0</td>\n",
       "    </tr>\n",
       "    <tr>\n",
       "      <th>111</th>\n",
       "      <td>xnpqf</td>\n",
       "      <td>1.454545</td>\n",
       "      <td>8.094085</td>\n",
       "      <td>14</td>\n",
       "      <td>Masculino</td>\n",
       "      <td>Masculino 14</td>\n",
       "      <td>4.774315</td>\n",
       "      <td>6.0</td>\n",
       "      <td>0</td>\n",
       "      <td>0</td>\n",
       "    </tr>\n",
       "    <tr>\n",
       "      <th>112</th>\n",
       "      <td>xtdrq</td>\n",
       "      <td>2.111111</td>\n",
       "      <td>10.569655</td>\n",
       "      <td>15</td>\n",
       "      <td>Femenino</td>\n",
       "      <td>Femenino 15</td>\n",
       "      <td>6.340383</td>\n",
       "      <td>7.0</td>\n",
       "      <td>5</td>\n",
       "      <td>2</td>\n",
       "    </tr>\n",
       "    <tr>\n",
       "      <th>113</th>\n",
       "      <td>yazod</td>\n",
       "      <td>2.160000</td>\n",
       "      <td>5.820794</td>\n",
       "      <td>15</td>\n",
       "      <td>Masculino</td>\n",
       "      <td>Masculino 15</td>\n",
       "      <td>3.990397</td>\n",
       "      <td>8.0</td>\n",
       "      <td>1</td>\n",
       "      <td>0</td>\n",
       "    </tr>\n",
       "    <tr>\n",
       "      <th>114</th>\n",
       "      <td>yfohf</td>\n",
       "      <td>2.727273</td>\n",
       "      <td>7.412602</td>\n",
       "      <td>14</td>\n",
       "      <td>Femenino</td>\n",
       "      <td>Femenino 14</td>\n",
       "      <td>5.069937</td>\n",
       "      <td>7.0</td>\n",
       "      <td>2</td>\n",
       "      <td>0</td>\n",
       "    </tr>\n",
       "    <tr>\n",
       "      <th>115</th>\n",
       "      <td>yvpmf</td>\n",
       "      <td>4.083333</td>\n",
       "      <td>4.227707</td>\n",
       "      <td>13</td>\n",
       "      <td>Masculino</td>\n",
       "      <td>Masculino 13</td>\n",
       "      <td>4.155520</td>\n",
       "      <td>10.0</td>\n",
       "      <td>4</td>\n",
       "      <td>0</td>\n",
       "    </tr>\n",
       "    <tr>\n",
       "      <th>116</th>\n",
       "      <td>yxewz</td>\n",
       "      <td>4.105263</td>\n",
       "      <td>8.988077</td>\n",
       "      <td>15</td>\n",
       "      <td>Femenino</td>\n",
       "      <td>Femenino 15</td>\n",
       "      <td>6.546670</td>\n",
       "      <td>5.0</td>\n",
       "      <td>5</td>\n",
       "      <td>2</td>\n",
       "    </tr>\n",
       "    <tr>\n",
       "      <th>117</th>\n",
       "      <td>yxjji</td>\n",
       "      <td>6.166667</td>\n",
       "      <td>9.882353</td>\n",
       "      <td>15</td>\n",
       "      <td>Masculino</td>\n",
       "      <td>Masculino 15</td>\n",
       "      <td>8.024510</td>\n",
       "      <td>1.0</td>\n",
       "      <td>1</td>\n",
       "      <td>-1</td>\n",
       "    </tr>\n",
       "    <tr>\n",
       "      <th>118</th>\n",
       "      <td>yyvas</td>\n",
       "      <td>4.136364</td>\n",
       "      <td>6.905856</td>\n",
       "      <td>12</td>\n",
       "      <td>Femenino</td>\n",
       "      <td>Femenino 12</td>\n",
       "      <td>5.521110</td>\n",
       "      <td>11.0</td>\n",
       "      <td>3</td>\n",
       "      <td>0</td>\n",
       "    </tr>\n",
       "    <tr>\n",
       "      <th>119</th>\n",
       "      <td>zbgwk</td>\n",
       "      <td>4.933333</td>\n",
       "      <td>5.978549</td>\n",
       "      <td>15</td>\n",
       "      <td>Otro</td>\n",
       "      <td>Otro 15</td>\n",
       "      <td>5.455941</td>\n",
       "      <td>4.0</td>\n",
       "      <td>12</td>\n",
       "      <td>-1</td>\n",
       "    </tr>\n",
       "    <tr>\n",
       "      <th>120</th>\n",
       "      <td>zcibf</td>\n",
       "      <td>1.695652</td>\n",
       "      <td>7.610657</td>\n",
       "      <td>13</td>\n",
       "      <td>Femenino</td>\n",
       "      <td>Femenino 13</td>\n",
       "      <td>4.653155</td>\n",
       "      <td>8.0</td>\n",
       "      <td>9</td>\n",
       "      <td>0</td>\n",
       "    </tr>\n",
       "    <tr>\n",
       "      <th>121</th>\n",
       "      <td>zdnso</td>\n",
       "      <td>1.925926</td>\n",
       "      <td>5.407341</td>\n",
       "      <td>15</td>\n",
       "      <td>Femenino</td>\n",
       "      <td>Femenino 15</td>\n",
       "      <td>3.666633</td>\n",
       "      <td>13.0</td>\n",
       "      <td>5</td>\n",
       "      <td>0</td>\n",
       "    </tr>\n",
       "    <tr>\n",
       "      <th>122</th>\n",
       "      <td>zwzfv</td>\n",
       "      <td>3.043478</td>\n",
       "      <td>8.120519</td>\n",
       "      <td>14</td>\n",
       "      <td>Masculino</td>\n",
       "      <td>Masculino 14</td>\n",
       "      <td>5.581999</td>\n",
       "      <td>7.0</td>\n",
       "      <td>0</td>\n",
       "      <td>0</td>\n",
       "    </tr>\n",
       "    <tr>\n",
       "      <th>123</th>\n",
       "      <td>zxvkj</td>\n",
       "      <td>2.000000</td>\n",
       "      <td>5.417953</td>\n",
       "      <td>14</td>\n",
       "      <td>Femenino</td>\n",
       "      <td>Femenino 14</td>\n",
       "      <td>3.708977</td>\n",
       "      <td>7.0</td>\n",
       "      <td>2</td>\n",
       "      <td>0</td>\n",
       "    </tr>\n",
       "  </tbody>\n",
       "</table>\n",
       "</div>"
      ],
      "text/plain": [
       "     token  intentos     tiempo  G03Q01     G03Q02   edad_genero  \\\n",
       "0    accul  3.650000   7.387432      14  Masculino  Masculino 14   \n",
       "1    aotlm  2.250000   8.364646      15  Masculino  Masculino 15   \n",
       "2    asopk  1.885714   5.666881      14  Masculino  Masculino 14   \n",
       "3    atlzs  2.423077   5.272170      14   Femenino   Femenino 14   \n",
       "4    auvqa  2.043478   6.953159      14   Femenino   Femenino 14   \n",
       "5    bajbm  2.277778  10.741531      12   Femenino   Femenino 12   \n",
       "6    bdwyj  2.950000   6.006920      13  Masculino  Masculino 13   \n",
       "7    bhyhw  1.892857   5.918490      14  Masculino  Masculino 14   \n",
       "8    bjvnt  2.700000   3.000000      15   Femenino   Femenino 15   \n",
       "9    blvkx  3.000000  10.174073      13       Otro       Otro 13   \n",
       "10   buvgs  2.636364   6.534245      12   Femenino   Femenino 12   \n",
       "11   cmbfi  1.516129   5.883715      13  Masculino  Masculino 13   \n",
       "12   cojqb  3.166667   9.861497       8   Femenino    Femenino 8   \n",
       "13   dunul  1.586207   6.514073      14       Otro       Otro 14   \n",
       "14   dwqwi  1.888889   7.042074      13   Femenino   Femenino 13   \n",
       "15   eayrh  2.739130   5.227795      13   Femenino   Femenino 13   \n",
       "16   edxmq  4.950000   4.876273      14  Masculino  Masculino 14   \n",
       "17   ejeuw  2.285714   5.498622      13   Femenino   Femenino 13   \n",
       "18   epjcx  5.555556   6.394231      12  Masculino  Masculino 12   \n",
       "19   epqkm  2.384615   6.644118      14  Masculino  Masculino 14   \n",
       "20   eprdu  1.714286   4.852870      14  Masculino  Masculino 14   \n",
       "21   ewqbs  3.136364   5.388147      14  Masculino  Masculino 14   \n",
       "22   fbldj  2.037037   5.926862      12   Femenino   Femenino 12   \n",
       "23   fivin  2.000000   5.590452      15   Femenino   Femenino 15   \n",
       "24   fkmtp  2.720000   6.539927      13  Masculino  Masculino 13   \n",
       "25   fmtrq  1.913043   6.209523      13  Masculino  Masculino 13   \n",
       "26   fmupf  2.166667   7.103058      12  Masculino  Masculino 12   \n",
       "27   ftpnb  1.571429   4.317314      14  Masculino  Masculino 14   \n",
       "28   gcpze  1.400000   4.378168      13  Masculino  Masculino 13   \n",
       "29   gdljy  4.176471   6.651510      14   Femenino   Femenino 14   \n",
       "30   gguuc  4.350000   3.698123      15   Femenino   Femenino 15   \n",
       "31   gleqe  2.040000   5.278054      13  Masculino  Masculino 13   \n",
       "32   grkij  2.478261   6.583177      14   Femenino   Femenino 14   \n",
       "33   gzgfk  4.666667   3.916667      13   Femenino   Femenino 13   \n",
       "34   hcbyl  3.200000   6.363011      13       Otro       Otro 13   \n",
       "35   hjpbw  2.684211  10.379039      13  Masculino  Masculino 13   \n",
       "36   hpdxj  3.142857   4.500754      14  Masculino  Masculino 14   \n",
       "37   hqmhq  1.666667   8.195984      15  Masculino  Masculino 15   \n",
       "38   huyyb  2.684211   7.531806      14  Masculino  Masculino 14   \n",
       "39   icllt  2.217391   8.219693      12   Femenino   Femenino 12   \n",
       "40   idmzi  3.571429   8.093333      14  Masculino  Masculino 14   \n",
       "41   ikcar  1.863636   5.853960      13   Femenino   Femenino 13   \n",
       "42   ipdcp  2.318182   4.021263      14  Masculino  Masculino 14   \n",
       "43   itkas  4.500000   5.241525      12  Masculino  Masculino 12   \n",
       "44   ixrux  3.550000   7.157093      12  Masculino  Masculino 12   \n",
       "45   jhbuv  2.428571   6.425109      15  Masculino  Masculino 15   \n",
       "46   jozyx  3.352941   4.979539      14   Femenino   Femenino 14   \n",
       "47   khadt  2.000000   5.666210      14   Femenino   Femenino 14   \n",
       "48   khfha  4.045455   6.318751      13   Femenino   Femenino 13   \n",
       "49   kkliq  3.125000   9.435240      14   Femenino   Femenino 14   \n",
       "50   kkoif  1.785714   5.555407      13   Femenino   Femenino 13   \n",
       "51   kmqou  2.863636   4.042614      13       Otro       Otro 13   \n",
       "52   knewj  2.000000  10.150794      15   Femenino   Femenino 15   \n",
       "53   krahz  1.555556   7.743029      13   Femenino   Femenino 13   \n",
       "54   kzles  1.520000   6.373680      12   Femenino   Femenino 12   \n",
       "55   lhrbj  1.958333   7.676746      15   Femenino   Femenino 15   \n",
       "56   loemd  1.592593   8.376098      14       Otro       Otro 14   \n",
       "57   lohyo  4.476190   3.659881      12   Femenino   Femenino 12   \n",
       "58   lwryl  2.736842   7.000213      14  Masculino  Masculino 14   \n",
       "59   mewpz  3.681818   5.905386      12   Femenino   Femenino 12   \n",
       "60   mgaak  1.400000   4.055539      15  Masculino  Masculino 15   \n",
       "61   mjiso  1.440000   7.447546      15   Femenino   Femenino 15   \n",
       "62   mymho  4.833333   6.705357      15   Femenino   Femenino 15   \n",
       "63   ngavz  2.485714   3.264442      14  Masculino  Masculino 14   \n",
       "64   nhbnj  5.052632   6.987273      12  Masculino  Masculino 12   \n",
       "65   nuasx  3.800000   5.669475      13  Masculino  Masculino 13   \n",
       "66   oahey  1.689655   5.888230      13  Masculino  Masculino 13   \n",
       "67   onyep  3.703704   4.852661      14   Femenino   Femenino 14   \n",
       "68   orjyn  4.083333   4.978347      12   Femenino   Femenino 12   \n",
       "69   pbgky  2.250000   5.538329      13  Masculino  Masculino 13   \n",
       "70   pbwkf  2.583333   4.321943      13  Masculino  Masculino 13   \n",
       "71   pleui  1.814815   6.004582      13  Masculino  Masculino 13   \n",
       "72   pqwaf  1.321429   9.510853      12  Masculino  Masculino 12   \n",
       "73   prpej  2.315789   8.875633      12   Femenino   Femenino 12   \n",
       "74   psido  2.590909   7.010320      14  Masculino  Masculino 14   \n",
       "75   ptmkr  3.956522   4.829527      13  Masculino  Masculino 13   \n",
       "76   pygoc  1.533333   4.913242      14       Otro       Otro 14   \n",
       "77   pzfdd  2.450000   5.331609      13  Masculino  Masculino 13   \n",
       "78   qeqyj  2.200000   4.537446      13  Masculino  Masculino 13   \n",
       "79   qfsdj  1.275862   5.958268      15  Masculino  Masculino 15   \n",
       "80   qgcgc  2.296296   5.285877      12  Masculino  Masculino 12   \n",
       "81   qwnpf  2.736842   9.060052      12  Masculino  Masculino 12   \n",
       "82   raqdt  1.909091   6.751498      13   Femenino   Femenino 13   \n",
       "83   rdiaf  3.607143   4.537196      14  Masculino  Masculino 14   \n",
       "84   rfofs  6.250000   6.500000      13  Masculino  Masculino 13   \n",
       "85   rkmrw  2.000000   8.145612      12   Femenino   Femenino 12   \n",
       "86   rqaby  3.933333   7.260730      12  Masculino  Masculino 12   \n",
       "87   rsjxu  6.071429   5.637196      12       Otro       Otro 12   \n",
       "88   sbexy  4.538462  10.997455      12   Femenino   Femenino 12   \n",
       "89   srjon  1.333333   5.876009      13  Masculino  Masculino 13   \n",
       "90   stiry  1.368421   7.055726      15   Femenino   Femenino 15   \n",
       "91   swvxx  3.631579   6.619645      14  Masculino  Masculino 14   \n",
       "92   sxipu  4.368421   4.511075      14   Femenino   Femenino 14   \n",
       "93   sybwc  2.450000   9.076517      12  Masculino  Masculino 12   \n",
       "94   tavin  2.560000   6.012539      15  Masculino  Masculino 15   \n",
       "95   tcvyz  2.736842   6.714399      13   Femenino   Femenino 13   \n",
       "96   tekwp  5.333333   4.290134      14  Masculino  Masculino 14   \n",
       "97   thaho  3.391304   5.156927      13  Masculino  Masculino 13   \n",
       "98   tinco  3.714286   9.401667      15   Femenino   Femenino 15   \n",
       "99   tjfzy  5.400000   4.451076      13  Masculino  Masculino 13   \n",
       "100  tqgyp  5.172414   2.497260      14  Masculino  Masculino 14   \n",
       "101  ubmtx  4.190476   4.389396      14       Otro       Otro 14   \n",
       "102  ucdvy  3.666667   4.551996      15  Masculino  Masculino 15   \n",
       "103  uniee  3.130435   5.448670      13   Femenino   Femenino 13   \n",
       "104  uzzpo  1.592593   4.991654      13   Femenino   Femenino 13   \n",
       "105  vddlg  2.000000   4.500000      14   Femenino   Femenino 14   \n",
       "106  vsxld  1.269231   6.712788      13   Femenino   Femenino 13   \n",
       "107  vvqlm  3.045455   5.077514      14  Masculino  Masculino 14   \n",
       "108  wjaxi  1.925926   4.900420      15  Masculino  Masculino 15   \n",
       "109  wqmgq  6.000000   5.280436      15  Masculino  Masculino 15   \n",
       "110  xbmmw  2.370370   5.337025      13  Masculino  Masculino 13   \n",
       "111  xnpqf  1.454545   8.094085      14  Masculino  Masculino 14   \n",
       "112  xtdrq  2.111111  10.569655      15   Femenino   Femenino 15   \n",
       "113  yazod  2.160000   5.820794      15  Masculino  Masculino 15   \n",
       "114  yfohf  2.727273   7.412602      14   Femenino   Femenino 14   \n",
       "115  yvpmf  4.083333   4.227707      13  Masculino  Masculino 13   \n",
       "116  yxewz  4.105263   8.988077      15   Femenino   Femenino 15   \n",
       "117  yxjji  6.166667   9.882353      15  Masculino  Masculino 15   \n",
       "118  yyvas  4.136364   6.905856      12   Femenino   Femenino 12   \n",
       "119  zbgwk  4.933333   5.978549      15       Otro       Otro 15   \n",
       "120  zcibf  1.695652   7.610657      13   Femenino   Femenino 13   \n",
       "121  zdnso  1.925926   5.407341      15   Femenino   Femenino 15   \n",
       "122  zwzfv  3.043478   8.120519      14  Masculino  Masculino 14   \n",
       "123  zxvkj  2.000000   5.417953      14   Femenino   Femenino 14   \n",
       "\n",
       "     mezcla_intentos_tiempo  errores  edad_genero_num  cluster  \n",
       "0                  5.518716      7.0                0        0  \n",
       "1                  5.307323      3.0                1        0  \n",
       "2                  3.776297     13.0                0        0  \n",
       "3                  3.847624      7.0                2        0  \n",
       "4                  4.498319     11.0                2        0  \n",
       "5                  6.509654      6.0                3        1  \n",
       "6                  4.478460      8.0                4        0  \n",
       "7                  3.905674     14.0                0        0  \n",
       "8                  2.850000      0.0                5        0  \n",
       "9                  6.587036      6.0                6        1  \n",
       "10                 4.585304     11.0                3        0  \n",
       "11                 3.699922     10.0                4        0  \n",
       "12                 6.514082      6.0                7       -1  \n",
       "13                 4.050140     11.0                8        0  \n",
       "14                 4.465481     13.0                9        0  \n",
       "15                 3.983462     13.0                9        0  \n",
       "16                 4.913137      9.0                0        0  \n",
       "17                 3.892168      6.0                9        0  \n",
       "18                 5.974893      0.0               10        1  \n",
       "19                 4.514367      3.0                0        0  \n",
       "20                 3.283578      9.0                0        0  \n",
       "21                 4.262255     11.0                0        0  \n",
       "22                 3.981950     12.0                3        0  \n",
       "23                 3.795226      4.0                5        0  \n",
       "24                 4.629963     11.0                4        0  \n",
       "25                 4.061283     10.0                4        0  \n",
       "26                 4.634862     11.0               10        0  \n",
       "27                 2.944372     11.0                0        0  \n",
       "28                 2.889084     13.0                4        0  \n",
       "29                 5.413990      5.0                2        0  \n",
       "30                 4.024061      9.0                5        0  \n",
       "31                 3.659027      6.0                4        0  \n",
       "32                 4.530719      9.0                2        0  \n",
       "33                 4.291667      0.0                9        0  \n",
       "34                 4.781505      9.0                6        0  \n",
       "35                 6.531625      9.0                4        1  \n",
       "36                 3.821806      3.0                0        0  \n",
       "37                 4.931326      5.0                1        0  \n",
       "38                 5.108008      8.0                0        0  \n",
       "39                 5.218542      9.0                3        0  \n",
       "40                 5.832381      2.0                0       -1  \n",
       "41                 3.858798      7.0                9        0  \n",
       "42                 3.169722     16.0                0        0  \n",
       "43                 4.870763      6.0               10        0  \n",
       "44                 5.353546     10.0               10        0  \n",
       "45                 4.426840      4.0                1        0  \n",
       "46                 4.166240      5.0                2        0  \n",
       "47                 3.833105      9.0                2        0  \n",
       "48                 5.182103      8.0                9        0  \n",
       "49                 6.280120      8.0                2       -1  \n",
       "50                 3.670561     17.0                9        0  \n",
       "51                 3.453125     12.0                6        0  \n",
       "52                 6.075397      0.0                5        2  \n",
       "53                 4.649292     11.0                9        0  \n",
       "54                 3.946840     11.0                3        0  \n",
       "55                 4.817540      7.0                5        0  \n",
       "56                 4.984345     11.0                8        0  \n",
       "57                 4.068036      9.0                3        0  \n",
       "58                 4.868527     10.0                0        0  \n",
       "59                 4.793602     12.0                3        0  \n",
       "60                 2.727770     13.0                1        0  \n",
       "61                 4.443773     15.0                5        0  \n",
       "62                 5.769345      3.0                5       -1  \n",
       "63                 2.875078     22.0                0       -1  \n",
       "64                 6.019952      6.0               10        1  \n",
       "65                 4.734738      5.0                4        0  \n",
       "66                 3.788943     12.0                4        0  \n",
       "67                 4.278183     12.0                2        0  \n",
       "68                 4.530840     12.0                3        0  \n",
       "69                 3.894165     10.0                4        0  \n",
       "70                 3.452638     11.0                4        0  \n",
       "71                 3.909699     12.0                4        0  \n",
       "72                 5.416141     13.0               10       -1  \n",
       "73                 5.595711      3.0                3        1  \n",
       "74                 4.800615     13.0                0        0  \n",
       "75                 4.393024     16.0                4        0  \n",
       "76                 3.223287     11.0                8        0  \n",
       "77                 3.890805     10.0                4        0  \n",
       "78                 3.368723     11.0                4        0  \n",
       "79                 3.617065     14.0                1        0  \n",
       "80                 3.791087     12.0               10       -1  \n",
       "81                 5.898447      7.0               10       -1  \n",
       "82                 4.330294      9.0                9        0  \n",
       "83                 4.072170     14.0                0        0  \n",
       "84                 6.375000      0.0                4        2  \n",
       "85                 5.072806      8.0                3        0  \n",
       "86                 5.597032      8.0               10       -1  \n",
       "87                 5.854312      3.0               11        1  \n",
       "88                 7.767958      3.0                3       -1  \n",
       "89                 3.604671     10.0                4        0  \n",
       "90                 4.212074      4.0                5        0  \n",
       "91                 5.125612      8.0                0        0  \n",
       "92                 4.439748      6.0                2        0  \n",
       "93                 5.763259      3.0               10       -1  \n",
       "94                 4.286270      9.0                1        0  \n",
       "95                 4.725620      4.0                9        0  \n",
       "96                 4.811734     10.0                0        0  \n",
       "97                 4.274115     10.0                4        0  \n",
       "98                 6.557976      3.0                5        2  \n",
       "99                 4.925538      5.0                4        0  \n",
       "100                3.834837     16.0                0        0  \n",
       "101                4.289936      9.0                8        0  \n",
       "102                4.109331     10.0                1        0  \n",
       "103                4.289552     16.0                9        0  \n",
       "104                3.292123     10.0                9        0  \n",
       "105                3.250000      0.0                2        0  \n",
       "106                3.991009      8.0                9        0  \n",
       "107                4.061484      6.0                0        0  \n",
       "108                3.413173     17.0                1        0  \n",
       "109                5.640218      5.0                1       -1  \n",
       "110                3.853698     16.0                4        0  \n",
       "111                4.774315      6.0                0        0  \n",
       "112                6.340383      7.0                5        2  \n",
       "113                3.990397      8.0                1        0  \n",
       "114                5.069937      7.0                2        0  \n",
       "115                4.155520     10.0                4        0  \n",
       "116                6.546670      5.0                5        2  \n",
       "117                8.024510      1.0                1       -1  \n",
       "118                5.521110     11.0                3        0  \n",
       "119                5.455941      4.0               12       -1  \n",
       "120                4.653155      8.0                9        0  \n",
       "121                3.666633     13.0                5        0  \n",
       "122                5.581999      7.0                0        0  \n",
       "123                3.708977      7.0                2        0  "
      ]
     },
     "execution_count": 90,
     "metadata": {},
     "output_type": "execute_result"
    }
   ],
   "source": [
    "df['cluster'] = agrupamento.labels_\n",
    "df"
   ]
  },
  {
   "attachments": {},
   "cell_type": "markdown",
   "metadata": {},
   "source": [
    "# Anteriores"
   ]
  },
  {
   "cell_type": "code",
   "execution_count": 91,
   "metadata": {},
   "outputs": [
    {
     "ename": "NameError",
     "evalue": "name 'data_filtrado' is not defined",
     "output_type": "error",
     "traceback": [
      "\u001b[1;31m---------------------------------------------------------------------------\u001b[0m",
      "\u001b[1;31mNameError\u001b[0m                                 Traceback (most recent call last)",
      "Cell \u001b[1;32mIn[91], line 9\u001b[0m\n\u001b[0;32m      6\u001b[0m intentos_jugador_nivel \u001b[39m=\u001b[39m intentos_df_long\u001b[39m.\u001b[39mgroupby([\u001b[39m'\u001b[39m\u001b[39mJugador\u001b[39m\u001b[39m'\u001b[39m, \u001b[39m'\u001b[39m\u001b[39mNivel\u001b[39m\u001b[39m'\u001b[39m])[\u001b[39m'\u001b[39m\u001b[39mIntentos\u001b[39m\u001b[39m'\u001b[39m]\u001b[39m.\u001b[39mmean()\u001b[39m.\u001b[39munstack()\n\u001b[0;32m      8\u001b[0m \u001b[39m# Unir la tabla de intentos de cada jugador con los datos originales\u001b[39;00m\n\u001b[1;32m----> 9\u001b[0m df \u001b[39m=\u001b[39m data_filtrado\u001b[39m.\u001b[39mmerge(intentos_jugador_nivel, left_on\u001b[39m=\u001b[39m\u001b[39m'\u001b[39m\u001b[39mtoken\u001b[39m\u001b[39m'\u001b[39m, right_index\u001b[39m=\u001b[39m\u001b[39mTrue\u001b[39;00m)\n\u001b[0;32m     11\u001b[0m \u001b[39m# Seleccionar las variables a utilizar para el clustering\u001b[39;00m\n\u001b[0;32m     12\u001b[0m X \u001b[39m=\u001b[39m df\u001b[39m.\u001b[39miloc[:, \u001b[39m3\u001b[39m:] \u001b[39m# Seleccionar las columnas correspondientes a los niveles\u001b[39;00m\n",
      "\u001b[1;31mNameError\u001b[0m: name 'data_filtrado' is not defined"
     ]
    }
   ],
   "source": [
    "\n",
    "\n",
    "# Pivotear el DataFrame para tener un formato largo\n",
    "intentos_df_long = pd.melt(intentosJugadores.reset_index(), id_vars=['index'], var_name='Jugador', value_name='Intentos')\n",
    "intentos_df_long.columns = ['Nivel', 'Jugador', 'Intentos']\n",
    "\n",
    "# Agrupar los intentos de cada jugador por nivel y tomar la media\n",
    "intentos_jugador_nivel = intentos_df_long.groupby(['Jugador', 'Nivel'])['Intentos'].mean().unstack()\n",
    "\n",
    "# Unir la tabla de intentos de cada jugador con los datos originales\n",
    "df = data_filtrado.merge(intentos_jugador_nivel, left_on='token', right_index=True)\n",
    "\n",
    "# Seleccionar las variables a utilizar para el clustering\n",
    "X = df.iloc[:, 3:] # Seleccionar las columnas correspondientes a los niveles\n",
    "\n",
    "# Imputar los valores faltantes\n",
    "imputer = SimpleImputer(strategy='median')\n",
    "X_imputed = imputer.fit_transform(X)\n",
    "\n",
    "# Normalizar las variables utilizando StandardScaler\n",
    "scaler = StandardScaler()\n",
    "X_norm = scaler.fit_transform(X_imputed)\n",
    "\n",
    "# Definir el número de clusters y entrenar el modelo de K-means\n",
    "num_clusters = 4\n",
    "kmeans = KMeans(n_clusters=num_clusters, random_state=0).fit(X_norm)\n",
    "\n",
    "# Asignar a cada jugador el cluster correspondiente\n",
    "clusters = kmeans.labels_\n",
    "df['Cluster'] = clusters\n",
    "\n",
    "# Calcular la media de los números de intentos en cada cluster\n",
    "means = df.groupby(['G03Q02', 'G03Q01', 'Cluster'])[X.columns].mean()\n",
    "\n",
    "# Mostrar los resultados\n",
    "print(means) #Dar a abrir en un editor de texto para ver mejor la tabla\n",
    "#intentosJugadores\n"
   ]
  },
  {
   "cell_type": "code",
   "execution_count": null,
   "metadata": {},
   "outputs": [],
   "source": [
    "tiemposJugadores = pd.DataFrame(tiemposMedios[\"tiemposIndividuales\"])\n",
    "\n",
    "# Aplicar la función int() solamente a los valores que no son NaN en el DataFrame\n",
    "tiemposJugadores = tiemposJugadores.applymap(lambda x: int(x) if x == x else x)\n",
    "\n",
    "# Pivotear el DataFrame para tener un formato largo\n",
    "tiempos_df_long = pd.melt(tiemposJugadores.reset_index(), id_vars=['index'], var_name='Jugador', value_name='Intentos')\n",
    "tiempos_df_long.columns = ['Nivel', 'Jugador', 'Intentos']\n",
    "\n",
    "# Agrupar los intentos de cada jugador por nivel y tomar la media\n",
    "tiempos_jugador_nivel = tiempos_df_long.groupby(['Jugador', 'Nivel'])['Intentos'].mean().unstack()\n",
    "\n",
    "# Unir la tabla de intentos de cada jugador con los datos originales\n",
    "df = data_filtrado.merge(tiempos_jugador_nivel, left_on='token', right_index=True)\n",
    "\n",
    "# Seleccionar las variables a utilizar para el clustering\n",
    "X = df.iloc[:, 3:] # Seleccionar las columnas correspondientes a los niveles\n",
    "\n",
    "# Imputar los valores faltantes\n",
    "imputer = SimpleImputer(strategy='median')\n",
    "X_imputed = imputer.fit_transform(X)\n",
    "\n",
    "# Normalizar las variables utilizando StandardScaler\n",
    "scaler = StandardScaler()\n",
    "X_norm = scaler.fit_transform(X_imputed)\n",
    "\n",
    "# Definir el número de clusters y entrenar el modelo de K-means\n",
    "num_clusters = 4\n",
    "kmeans = KMeans(n_clusters=num_clusters, random_state=0).fit(X_norm)\n",
    "\n",
    "# Asignar a cada jugador el cluster correspondiente\n",
    "clusters = kmeans.labels_\n",
    "df['Cluster'] = clusters\n",
    "\n",
    "# Calcular la media de los números de intentos en cada cluster\n",
    "means = df.groupby(['G03Q02', 'G03Q01', 'Cluster'])[X.columns].mean()\n",
    "\n",
    "# Mostrar los resultados\n",
    "print(means)\n",
    "# tiemposJugadores\n"
   ]
  },
  {
   "cell_type": "code",
   "execution_count": null,
   "metadata": {},
   "outputs": [],
   "source": [
    "media_intentos = df.groupby(['G03Q02', 'G03Q01', 'Cluster'])[X.columns].mean().reset_index()\n",
    "media_intentos = pd.melt(media_intentos, id_vars=['G03Q02', 'G03Q01', 'Cluster'], var_name='Nivel', value_name='Intentos')\n",
    "\n",
    "import seaborn as sns\n",
    "import matplotlib.pyplot as plt\n",
    "\n",
    "# Crear una figura para cada nivel\n",
    "for nivel in intentos_df_long['Nivel'].unique():\n",
    "    # Seleccionar los datos del nivel y generar una tabla pivote con los valores medios de intentos por género\n",
    "    df_nivel = media_intentos[media_intentos['Nivel'] == nivel]\n",
    "    pivot_table = pd.pivot_table(df_nivel, values='Intentos', index=['G03Q01'], columns=['Cluster'], aggfunc=np.mean)\n",
    "    \n",
    "    # Crear un gráfico de barras apiladas para comparar los valores medios de intentos por género en cada cluster\n",
    "    sns.catplot(x='G03Q01', y='Intentos', hue='Cluster', data=df_nivel, kind='bar', ci=None, legend_out=False)\n",
    "    plt.title(f'Nivel {nivel}')\n",
    "    plt.show()\n"
   ]
  }
 ],
 "metadata": {
  "kernelspec": {
   "display_name": "Python 3",
   "language": "python",
   "name": "python3"
  },
  "language_info": {
   "codemirror_mode": {
    "name": "ipython",
    "version": 3
   },
   "file_extension": ".py",
   "mimetype": "text/x-python",
   "name": "python",
   "nbconvert_exporter": "python",
   "pygments_lexer": "ipython3",
   "version": "3.11.0"
  },
  "orig_nbformat": 4,
  "vscode": {
   "interpreter": {
    "hash": "2df53de82fe139b23b9a340061c8527273b7fa86551030a1983ff618b17018eb"
   }
  }
 },
 "nbformat": 4,
 "nbformat_minor": 2
}
