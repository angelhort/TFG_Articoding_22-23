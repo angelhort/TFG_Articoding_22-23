{
 "cells": [
  {
   "attachments": {},
   "cell_type": "markdown",
   "metadata": {},
   "source": [
    "# Librerias"
   ]
  },
  {
   "cell_type": "code",
   "execution_count": 8,
   "metadata": {},
   "outputs": [],
   "source": [
    "import pandas as pd\n",
    "import numpy as np\n",
    "from sklearn.cluster import KMeans\n",
    "from sklearn.preprocessing import StandardScaler\n",
    "from sklearn.impute import SimpleImputer\n",
    "import plotly.graph_objs as go\n",
    "from collections import defaultdict\n",
    "import statistics\n",
    "import json\n",
    "import re\n",
    "import matplotlib.pyplot as plt\n",
    "from datetime import timedelta\n",
    "import plotly.express as px\n",
    "from sklearn.preprocessing import OneHotEncoder\n",
    "pd.set_option('display.max_rows', None)\n",
    "pd.set_option('display.max_columns', None)\n",
    "import xml.etree.ElementTree as ET\n"
   ]
  },
  {
   "attachments": {},
   "cell_type": "markdown",
   "metadata": {},
   "source": [
    "# Codigo de main"
   ]
  },
  {
   "cell_type": "code",
   "execution_count": 9,
   "metadata": {},
   "outputs": [],
   "source": [
    "import re\n",
    "import datetime, time\n",
    "\n",
    "#Esta clase sirve para parsear timestamps, recibe 2 y hace la diferencia\n",
    "class Tiempo:\n",
    "    def __init__ (self, inicio, final = -1, seconds = -1): #Necesario para tener 2 constructores\n",
    "        self.positivo = True;\n",
    "        if final == -1: #Primer constructor (1 argumento)\n",
    "\n",
    "            self.hours = 0\n",
    "            self.minutes = 0\n",
    "            self.seconds = 0\n",
    "\n",
    "            erHours = re.compile(r'\\d*h')\n",
    "            erMinutes = re.compile(r'\\d*m')\n",
    "            erSeconds = re.compile(r'\\d*s')\n",
    "            h = erHours.search(inicio)\n",
    "            m = erMinutes.search(inicio)\n",
    "            s = erSeconds.search(inicio)\n",
    "\n",
    "            if h != None:\n",
    "                self.hours = h[0][:-1]\n",
    "            if m != None:\n",
    "                self.minutes = m[0][:-1]\n",
    "            if s != None:\n",
    "                self.seconds = s[0][:-1]\n",
    "                \n",
    "            self.hours = int(self.hours)\n",
    "            self.minutes = int(self.minutes)\n",
    "            self.seconds = int(self.seconds)\n",
    "                \n",
    "            if self.seconds >= 60:\n",
    "                self.minutes += int(self.seconds/60)\n",
    "                self.seconds = self.seconds%60\n",
    "            if self.minutes >= 60:\n",
    "                self.hours += int(self.minutes/60)\n",
    "                self.minutes = self.minutes%60\n",
    "            \n",
    "        elif seconds == -1: #Segundo constructor (2 aregumentos)\n",
    "            self.hours = 0\n",
    "            self.minutes = 0\n",
    "            self.seconds = 0\n",
    "\n",
    "            fin = time.mktime(datetime.datetime.strptime(final, \"%Y-%m-%dT%H:%M:%S.%fZ\").timetuple())\n",
    "            ini = time.mktime(datetime.datetime.strptime(inicio, \"%Y-%m-%dT%H:%M:%S.%fZ\").timetuple())\n",
    "\n",
    "            hoursRaw = int((fin - ini)/3600)\n",
    "            minutesRaw = int((fin - ini)/60)\n",
    "            secondsRaw = int(fin - ini)\n",
    "\n",
    "            if hoursRaw != 0:\n",
    "                self.hours = hoursRaw\n",
    "                minutesRaw = int(((fin - ini)%3600)/60)\n",
    "            if minutesRaw != 0:\n",
    "                self.minutes = minutesRaw\n",
    "                secondsRaw = int((fin - ini)%60)\n",
    "            self.seconds = secondsRaw\n",
    "            \n",
    "        else: #Tercer constructor (3 argumentos)\n",
    "            self.hours = inicio\n",
    "            self.minutes = final\n",
    "            self.seconds = seconds\n",
    "            \n",
    "        self.hours = int(self.hours)\n",
    "        self.minutes = int(self.minutes)\n",
    "        self.seconds = int(self.seconds)\n",
    "            \n",
    "    def toString(self):\n",
    "        return self.__repr__()\n",
    "    \n",
    "    def __int__ (self):\n",
    "        return self.hours*3600 + self.minutes*60 + self.seconds\n",
    "\n",
    "    def __repr__(self):\n",
    "        t=\"\"\n",
    "        if self.hours !=0:\n",
    "            t += str(self.hours) + \"h/\"\n",
    "        if self.minutes !=0:\n",
    "            t += str(self.minutes) + \"m/\"\n",
    "        if self.seconds !=0:\n",
    "            t += str(self.seconds) + \"s\"\n",
    "        else:\n",
    "            t = t[:-1]\n",
    "        if self.hours == 0 and self.minutes == 0 and self.seconds == 0:\n",
    "            return \"0s\"\n",
    "        return t\n",
    "    \n",
    "    def __add__(self, t): #Sobrecarga del operador +\n",
    "        s = self.seconds + t.seconds\n",
    "        m = int(self.minutes) + t.minutes\n",
    "        h = self.hours + t.hours\n",
    "        \n",
    "        if s >= 60:\n",
    "            s -= 60\n",
    "            m += 1\n",
    "        if m >= 60:\n",
    "            m -= 60\n",
    "            h += 1\n",
    "            \n",
    "        return Tiempo(h,m,s)\n",
    "        \n",
    "    \n",
    "    def __sub__(self, t):\n",
    "        sSelf = self.hours*3600 + self.minutes*60 + self.seconds\n",
    "        sT = t.hours*3600 + t.minutes*60 + t.seconds\n",
    "        \n",
    "        return Tiempo(str(sSelf-sT) + \"s\")\n",
    "    \n",
    "    def __mul__(self, n): #Sobrecarga del operador *\n",
    "        s = self.seconds * n\n",
    "        m = self.minutes * n\n",
    "        h = self.hours * n\n",
    "        \n",
    "        m += (h - int(h))*60\n",
    "        s += (m - int(m))*60\n",
    "        \n",
    "        if s >= 60:\n",
    "            m += int(s/60)\n",
    "            s = s%60\n",
    "        if m >= 60:\n",
    "            h += int(m/60)\n",
    "            m = m%60\n",
    "        \n",
    "        return Tiempo(h,m,s)\n",
    "    \n",
    "    def __truediv__(self, n): #Sobrecarga del operador /\n",
    "        selfS = self.seconds\n",
    "        selfM = self.minutes\n",
    "        selfH = self.hours\n",
    "        \n",
    "        h = int(selfH/n)\n",
    "        selfM += (selfH%n)*60\n",
    "        m = int(selfM/n)\n",
    "        selfS += (selfM%n)*60\n",
    "        s = int(selfS/n)\n",
    "        \n",
    "        if s >= 60:\n",
    "            m += int(s/60)\n",
    "            s = s%60\n",
    "        if m >= 60:\n",
    "            h += int(m/60)\n",
    "            m = m%60\n",
    "        return Tiempo(int(h),int(m),int(s))\n",
    "    \n",
    "    def __abs__(self):\n",
    "        return Tiempo(abs(self.hours), abs(self.minutes), abs(self.seconds))\n",
    "    \n",
    "    def __le__(self, t):   #Sobrecarga del operado <=  \n",
    "        sSelf = self.hours*3600 + self.minutes*60 + self.seconds\n",
    "        if type(t) == Tiempo:\n",
    "            sT = t.hours*3600 + t.minutes*60 + t.seconds\n",
    "        else:\n",
    "            sT = t       \n",
    "        return sSelf <= sT\n",
    "    \n",
    "    def __ge__(self, t):  #Sobrecarga del operado >=\n",
    "        sSelf = self.hours*3600 + self.minutes*60 + self.seconds\n",
    "        if type(t) == Tiempo:\n",
    "            sT = t.hours*3600 + t.minutes*60 + t.seconds\n",
    "        else:\n",
    "            sT = t      \n",
    "        return sSelf >= sT\n",
    "    \n",
    "    def __lt__(self, t):     #Sobrecarga del operado <\n",
    "        sSelf = self.hours*3600 + self.minutes*60 + self.seconds\n",
    "        if type(t) == Tiempo:\n",
    "            sT = t.hours*3600 + t.minutes*60 + t.seconds\n",
    "        else:\n",
    "            sT = t        \n",
    "        return sSelf < sT\n",
    "    \n",
    "    def __gt__(self, t):   #Sobrecarga del operado >\n",
    "        sSelf = self.hours*3600 + self.minutes*60 + self.seconds\n",
    "        if type(t) == Tiempo:\n",
    "            sT = t.hours*3600 + t.minutes*60 + t.seconds\n",
    "        else:\n",
    "            sT = t\n",
    "        return sSelf > sT\n",
    "    \n",
    "    def total_seconds(self):\n",
    "        return self.hours * 3600 + self.minutes * 60 + self.seconds\n"
   ]
  },
  {
   "cell_type": "code",
   "execution_count": 10,
   "metadata": {},
   "outputs": [],
   "source": [
    "#TAMBIEN DEVUELVE LOS INTENTOS INDIVIDUALES DE CADA JUGADOR PARA COMPLETAR CADA NIVEL\n",
    "def getIntentosMedios_HastaCompletarNivel(intentosNecesarios, intentosOrdenados = False):\n",
    "    intentosMedios = defaultdict(list)\n",
    "    intentosCompletarNivelIndividual = defaultdict(defaultdict)\n",
    "    \n",
    "    for name in intentosNecesarios:\n",
    "        for level in intentosNecesarios[name]:\n",
    "            cont = 0\n",
    "            for i in intentosNecesarios[name][level]:\n",
    "                cont += i[\"intentos\"]\n",
    "                if i[\"success\"] == True:\n",
    "                    intentosMedios[level].append(cont)\n",
    "                    intentosCompletarNivelIndividual[name][level] = cont\n",
    "                    break\n",
    "            \n",
    "    for level in intentosMedios:\n",
    "        intentosMedios[level] = round(statistics.mean(intentosMedios[level]), 2)\n",
    "    \n",
    "    if intentosOrdenados:\n",
    "        intentosMedios = sorted(intentosMedios.items(), key=lambda x: x[1])\n",
    "    else:\n",
    "        intentosMedios = list(intentosMedios.items())\n",
    "    return {\"intentosMedios\" : intentosMedios, \"intentosIndividual\" : intentosCompletarNivelIndividual}\n",
    "\n",
    "def extraerTiemposPorNivelJugador(rawData):\n",
    "    \n",
    "    tiempos = defaultdict(defaultdict)\n",
    "    intentosNecesarios = defaultdict(defaultdict)\n",
    "    inicioYFinJuego = defaultdict()\n",
    "    errores = defaultdict(list)\n",
    "    codJugadores = defaultdict()\n",
    "    codUltNivel = defaultdict()\n",
    "\n",
    "    error1 = \"No necesario crear variable\"\n",
    "    error2 = \"Asignacion mismo valor en variable\"\n",
    "    error3 = \"Entero o texto utilizado 2 veces\"\n",
    "\n",
    "    nivelesError1Excepcion = ['variables_2', 'variables_3', 'variables_4', 'variables_6', 'variables_8', 'variables_10', 'types_2', 'basic_operators_1', 'basic_operators_3', 'basic_operators_6']\n",
    "    nivelesError3Excepcion = ['tutorials_1', 'tutorials_2', 'tutorials_3', 'tutorials_4', 'tutorials_5', 'tutorials_6', 'tutorials_7', 'tutorials_8', 'tutorials_9']\n",
    "\n",
    "    erLevel = re.compile(r'\\blevel$\\b')\n",
    "    erIdLevel = re.compile(r'/')\n",
    "    \n",
    "    erInitialized = re.compile(r'\\binitialized$\\b')\n",
    "    erCompleted = re.compile(r'\\bcompleted$\\b')\n",
    "    erAccessed = re.compile(r'\\baccessed$\\b')\n",
    "    erProgressed = re.compile(r'\\bprogressed$\\b')\n",
    "\n",
    "    erSeriousGame = re.compile(r'\\bserious-game$\\b')  \n",
    "    erCategoryMain = re.compile(r'\\bcategories_main$\\b')  \n",
    "    \n",
    "    for evento in rawData:\n",
    "        verb = evento[\"verb\"][\"id\"]\n",
    "        obj = evento[\"object\"][\"definition\"][\"type\"]\n",
    "        name = evento[\"actor\"][\"name\"]\n",
    "        timestamp = evento[\"timestamp\"]\n",
    "        objectId = evento[\"object\"][\"id\"]\n",
    "       \n",
    "        if erLevel.search(obj): #Si el objeto de la acción es un nivel\n",
    "            levelCode = erIdLevel.split(objectId)[-1]\n",
    "            if levelCode != \"editor_level\":\n",
    "                if erInitialized.search(verb): #Si la acción es inicio o reinicio\n",
    "                    if \"result\" in evento: #Significa que ha iniciado el nivel desde el menu\n",
    "                        if levelCode in tiempos[name]:\n",
    "                            intentosNecesarios[name][levelCode].append({\"intentos\" : 1, \"success\" : False})\n",
    "                            tiempos[name][levelCode].append({\"ini\" : timestamp, \"fin\" : None, \"stars\" : \"\"})\n",
    "                        else:\n",
    "                            intentosNecesarios[name][levelCode] = [{\"intentos\" : 1, \"success\" : False}]\n",
    "                            tiempos[name][levelCode] = [{\"ini\" : timestamp, \"fin\" : None, \"stars\" : \"\"}]\n",
    "                    else:\n",
    "                        intentosNecesarios[name][levelCode][-1][\"intentos\"] += 1\n",
    "\n",
    "                elif erProgressed.search(verb):\n",
    "                    cod = ET.fromstring(evento['result']['extensions']['code'])\n",
    "                    codJugadores[name] = cod\n",
    "                    codUltNivel[name] = levelCode\n",
    "\n",
    "                elif erCompleted.search(verb):\n",
    "                    if evento[\"result\"][\"score\"][\"raw\"] > 0 :\n",
    "                        if levelCode in tiempos[name]:\n",
    "                            intentosNecesarios[name][levelCode][-1][\"success\"] = True\n",
    "                            tiempos[name][levelCode][-1][\"fin\"] = timestamp\n",
    "                            tiempos[name][levelCode][-1][\"stars\"] = evento[\"result\"][\"score\"][\"raw\"]\n",
    "\n",
    "                        if codUltNivel[name] == levelCode: \n",
    "                            try:\n",
    "                                cod = codJugadores[name]\n",
    "                            except:\n",
    "                                print(evento)\n",
    "                                print(timestamp)\n",
    "                                return\n",
    "                            vars = defaultdict()\n",
    "                            values = []\n",
    "\n",
    "                            for v in cod.find('variables'):\n",
    "                                vars[v.text] = {\"valores\" : [], \"usado\" : 0}\n",
    "\n",
    "                            for b in cod.find(\"block[@type='start_start']\").iter('block'):\n",
    "                                tarjeta = b.attrib['type']\n",
    "\n",
    "                                if tarjeta == \"text\" or tarjeta == \"math_number\":\n",
    "                                    valor = b.find('field').text\n",
    "                                    if valor in values and levelCode not in nivelesError3Excepcion:\n",
    "                                        errores[name].append({'error' : error3, 'level' : levelCode})\n",
    "                                    else:\n",
    "                                        values.append(valor)\n",
    "\n",
    "                                elif tarjeta == \"variables_set\":\n",
    "                                    varName = b.find('field').text\n",
    "                                    try:\n",
    "                                        varValue = b.find('value').find('block').find('field').text\n",
    "                                    except:\n",
    "                                        #print(ET.tostring(cod, encoding='utf8', method='xml'))\n",
    "                                        #print(ET.tostring(b, encoding='utf8', method='xml'))\n",
    "                                        None                                \n",
    "\n",
    "                                    if vars[varName]['valores'] and vars[varName]['usado'] < 2 and levelCode not in nivelesError1Excepcion:\n",
    "                                        errores[name].append({'error' : error1 + \" \" + varName, 'level' : levelCode})\n",
    "\n",
    "                                    if varValue in vars[varName]['valores']:\n",
    "                                        errores[name].append({'error' : error2 + \" \" + varName, 'level' : levelCode})\n",
    "                                    else:\n",
    "                                        vars[varName]['valores'].append(varValue)\n",
    "\n",
    "                                    vars[varName]['usado'] = 0\n",
    "\n",
    "                                elif tarjeta == \"variables_get\":\n",
    "                                    varName = b.find('field').text\n",
    "                                    vars[varName][\"usado\"] += 1\n",
    "\n",
    "                            for v in vars:\n",
    "                                if vars[v]['usado'] < 2 and levelCode not in nivelesError1Excepcion:\n",
    "                                    errores[name].append({'error' : error1 + \" \" + v, 'level' : levelCode})\n",
    "\n",
    "                    elif evento[\"result\"][\"score\"][\"raw\"] == -1:\n",
    "                        if levelCode in tiempos[name]:\n",
    "                            tiempos[name][levelCode][-1][\"fin\"] = timestamp\n",
    "                            tiempos[name][levelCode][-1][\"stars\"] = evento[\"result\"][\"score\"][\"raw\"]\n",
    "        \n",
    "        elif erSeriousGame.search(obj) and erInitialized.search(verb):\n",
    "            if name in inicioYFinJuego:\n",
    "                inicioYFinJuego[name].append({\"inicio\" : timestamp, \"fin\" : None})\n",
    "            else:\n",
    "                inicioYFinJuego[name] = [{\"inicio\" : timestamp, \"fin\" : None}]\n",
    "        \n",
    "        if not(erAccessed.search(verb) and erCategoryMain.search(objectId)):\n",
    "            inicioYFinJuego[name][-1][\"fin\"] = timestamp\n",
    "    \n",
    "    return {\"tiempos\" : tiempos, \"intentosNecesarios\" : intentosNecesarios, \"inicioYFinJuego\" : inicioYFinJuego, \"erroresCodigo\" : errores}\n",
    "\n",
    "JSONFile = open('./data/trazasOrdenadas.json')\n",
    "rawData = json.load(JSONFile)\n",
    "JSONFile.close()\n",
    "\n",
    "intentosOrdenados = False\n",
    "resultados_Tiempos_Nivel_Jugador = extraerTiemposPorNivelJugador(rawData)\n",
    "intentosMedios_Individual = getIntentosMedios_HastaCompletarNivel(resultados_Tiempos_Nivel_Jugador[\"intentosNecesarios\"], intentosOrdenados)\n",
    "\n",
    "#pd.DataFrame(intentosMedios_Individual[\"intentosMedios\"])\n",
    "#pd.DataFrame(intentosMedios_Individual[\"intentosIndividual\"])"
   ]
  },
  {
   "cell_type": "code",
   "execution_count": 11,
   "metadata": {},
   "outputs": [],
   "source": [
    "#Si tenerEnCuentaMove = False -> cuando se realiza una accion de tipo \"move\" no se tiene en cuenta para calcular el tiempo entre interacciones, como si no existiese la traza\n",
    "def extraerTiemposEntreInteracciones2(rawData, tenerEnCuentaMove = False):\n",
    "    ultimaInteraccionJugador = defaultdict()\n",
    "    \n",
    "    tiempoInicio_Interaccion_Jugador = defaultdict(defaultdict) #Tiempo entre inicio de nivel y la siguiente interaccion (reinicio, completado o interaccion con tarjeta)\n",
    "    tiempoInteraccion_Completado_Jugador = defaultdict(defaultdict) #Tiempo entre una interaccion (inicio, reinicio o interaccion con tarjeta) y terminar el nivel\n",
    "    tiempoInteraccion_Interaccion_Jugador = defaultdict(defaultdict) #Tiempo entre una interaccion con tarjeta y otra interaccion con tarjeta\n",
    "    \n",
    "    anomalias = []\n",
    "    \n",
    "    erInteracted = re.compile(r'\\binteracted$\\b')\n",
    "    erGameObject = re.compile(r'\\bgame-object$\\b')\n",
    "    erLevelExitButton = re.compile(r'\\blevel_exit_button$\\b') \n",
    "    erInitialized = re.compile(r'\\binitialized$\\b')\n",
    "    erSeriousGame = re.compile(r'\\bserious-game$\\b')    \n",
    "    erCompleted = re.compile(r'\\bcompleted$\\b')\n",
    "    erLevel = re.compile(r'\\blevel$\\b')\n",
    "\n",
    "        \n",
    "    for e in rawData:\n",
    "        verb = e[\"verb\"][\"id\"]\n",
    "        obj = e[\"object\"][\"definition\"][\"type\"]\n",
    "        objectId = e[\"object\"][\"id\"]\n",
    "        name = e[\"actor\"][\"name\"]\n",
    "        timestamp = e[\"timestamp\"]\n",
    "        \n",
    "        erIdLevel = re.compile(r'/')\n",
    "        levelCode = erIdLevel.split(objectId)[-1]\n",
    "        \n",
    "        if(levelCode != \"editor_level\"):\n",
    "            \n",
    "            if erSeriousGame.search(obj) and erInitialized.search(verb): #Si inicia el juego se reinicia su ultima interaccion\n",
    "                if name in ultimaInteraccionJugador:\n",
    "                    del ultimaInteraccionJugador[name]\n",
    "\n",
    "            elif erLevel.search(obj):\n",
    "                if erInitialized.search(verb): #Significa que ha iniciado o reiniciado el nivel\n",
    "                    if \"result\" in e: #Inicia el nivel desde el menu\n",
    "                        ultimaInteraccionJugador[name] = {\"t\" : timestamp, \"accion\" : \"inicio\"}\n",
    "                    else: #Reinicia el nivel\n",
    "                        try:\n",
    "                            t = Tiempo(ultimaInteraccionJugador[name][\"t\"], timestamp)\n",
    "                            \n",
    "                            if ultimaInteraccionJugador[name][\"accion\"] == \"inicio\":\n",
    "                                #Añadimos la dif de tiempo al diccionario del jugador\n",
    "                                if levelCode in tiempoInicio_Interaccion_Jugador[name]:\n",
    "                                    tiempoInicio_Interaccion_Jugador[name][levelCode].append({\"tiempo\" : t, \"accion\" : \"reinicio\"})\n",
    "                                else:\n",
    "                                    tiempoInicio_Interaccion_Jugador[name][levelCode] = [{\"tiempo\" : t, \"accion\" : \"reinicio\"}]\n",
    "                            #Actualizamos ultima interaccion\n",
    "                            ultimaInteraccionJugador[name] = {\"t\" : timestamp, \"accion\" : \"reinicio\"}\n",
    "                        except:\n",
    "                            #Si entra aqui es porque ha reiniciado un nivel que no habia iniciado\n",
    "                            #Trazas estan mal\n",
    "                            anomalias.append({\"Jugador\" : name, \"Timestamp\" : timestamp, \"Nivel\" : levelCode, \"Motivo\" : \"Se ha reiniciado un nivel que no estaba iniciado\"})\n",
    "\n",
    "                elif erCompleted.search(verb) and e[\"result\"][\"score\"][\"raw\"] != 0:\n",
    "                    #Si completa un nivel o sale al menu se reinicia su ultima interaccion, si falla el intento pero vuelve a intentarlo no se reinicia\n",
    "                    #Si raw == 0 significa que se reinicia el nivel\n",
    "                    try:\n",
    "                        t = Tiempo(ultimaInteraccionJugador[name][\"t\"], timestamp)                        \n",
    "                        #Añadimos la dif de tiempo al diccionario del jugador\n",
    "                        if ultimaInteraccionJugador[name][\"accion\"] == \"inicio\":\n",
    "                                #Añadimos la dif de tiempo al diccionario del jugador\n",
    "                            if levelCode in tiempoInicio_Interaccion_Jugador[name]:\n",
    "                                tiempoInicio_Interaccion_Jugador[name][levelCode].append({\"tiempo\" : t, \"accion\" : \"terminado\", \"exito\" : e[\"result\"][\"success\"]})\n",
    "                            else:\n",
    "                                tiempoInicio_Interaccion_Jugador[name][levelCode] = [{\"tiempo\" : t, \"accion\" : \"terminado\", \"exito\" : e[\"result\"][\"success\"]}]\n",
    "                                \n",
    "                            if levelCode in tiempoInteraccion_Completado_Jugador[name]:\n",
    "                                tiempoInteraccion_Completado_Jugador[name][levelCode].append({\"tiempo\" : t, \"accion_anterior\" : \"inicio\"})\n",
    "                            else:\n",
    "                                tiempoInteraccion_Completado_Jugador[name][levelCode] = [{\"tiempo\" : t, \"accion_anterior\" : \"inicio\"}]\n",
    "                                    \n",
    "                        elif ultimaInteraccionJugador[name][\"accion\"] == \"reinicio\":\n",
    "                            if levelCode in tiempoInteraccion_Completado_Jugador[name]:\n",
    "                                tiempoInteraccion_Completado_Jugador[name][levelCode].append({\"tiempo\" : t, \"accion_anterior\" : \"reinicio\"})\n",
    "                            else:\n",
    "                                tiempoInteraccion_Completado_Jugador[name][levelCode] = [{\"tiempo\" : t, \"accion_anterior\" : \"reinicio\"}]\n",
    "\n",
    "                        elif ultimaInteraccionJugador[name][\"accion\"] == \"interaccion\":\n",
    "                            if levelCode in tiempoInteraccion_Completado_Jugador[name]:\n",
    "                                tiempoInteraccion_Completado_Jugador[name][levelCode].append({\"tiempo\" : t, \"accion_anterior\" : \"interaccionTarjeta\"})\n",
    "                            else:\n",
    "                                tiempoInteraccion_Completado_Jugador[name][levelCode] = [{\"tiempo\" : t, \"accion_anterior\" : \"interaccionTarjeta\"}]\n",
    "                        #Actualizamos ultima interaccion, la borramos\n",
    "                        del ultimaInteraccionJugador[name]\n",
    "                    except:\n",
    "                        #Si entra aqui es porque se ha completado un nivel que no se habia iniciado\n",
    "                        #Probablemente por anomalias en las trazas\n",
    "                        anomalias.append({\"Jugador\" : name, \"Timestamp\" : timestamp, \"Nivel\" : levelCode, \"Motivo\": \"Se ha completado un nivel que no estaba iniciado\"})\n",
    "\n",
    "            elif erGameObject.search(obj) and erInteracted.search(verb):\n",
    "                if \"result\" in e and \"extensions\" in e[\"result\"] and \"level\" in e[\"result\"][\"extensions\"]:\n",
    "                    levelCode = e[\"result\"][\"extensions\"][\"level\"]\n",
    "                    if not erLevelExitButton.search(objectId) and levelCode != \"editor_level\":\n",
    "                        if name in ultimaInteraccionJugador:\n",
    "                            if e[\"result\"][\"extensions\"][\"action\"] != \"move\" or tenerEnCuentaMove: #<-- Que accion realiza\n",
    "                                t = Tiempo(ultimaInteraccionJugador[name][\"t\"], timestamp)\n",
    "                                #Añadimos la dif de tiempo al diccionario del jugador\n",
    "\n",
    "                                if ultimaInteraccionJugador[name][\"accion\"] == \"inicio\":\n",
    "                                    if levelCode in tiempoInicio_Interaccion_Jugador[name]:\n",
    "                                        tiempoInicio_Interaccion_Jugador[name][levelCode].append({\"tiempo\" : t, \"accion\" : \"interaccionTarjeta\"})\n",
    "                                    else:\n",
    "                                        tiempoInicio_Interaccion_Jugador[name][levelCode] = [{\"tiempo\" : t, \"accion\" : \"interaccionTarjeta\"}]\n",
    "\n",
    "                                if ultimaInteraccionJugador[name][\"accion\"] == \"interaccionTarjeta\":\n",
    "                                    if levelCode in tiempoInteraccion_Interaccion_Jugador[name]:\n",
    "                                        tiempoInteraccion_Interaccion_Jugador[name][levelCode].append({\"tiempo\" : t, \"accion_anterior\" : \"interaccionTarjeta\"})\n",
    "                                    else:\n",
    "                                        tiempoInteraccion_Interaccion_Jugador[name][levelCode] = [{\"tiempo\" : t, \"accion_anterior\" : \"interaccionTarjeta\"}]\n",
    "\n",
    "                                ultimaInteraccionJugador[name] = {\"t\" : timestamp, \"accion\" : \"interaccionTarjeta\"}\n",
    "                        else:\n",
    "                            anomalias.append({\"Jugador\" : name, \"Timestamp\" : timestamp, \"Nivel\" : levelCode, \"Motivo\" : \"Se ha interactuado en un nivel que no estaba iniciado\"})\n",
    "                        \n",
    "                    \n",
    "    # Dataframe 1: tiempoInteraccion_Completado_Jugador\n",
    "    df_tiempoInteraccion_Completado_Jugador = pd.DataFrame(tiempoInteraccion_Completado_Jugador)\n",
    "    df_tiempoInteraccion_Completado_Jugador = df_tiempoInteraccion_Completado_Jugador.applymap(lambda x: np.nan if not isinstance(x, list) or len(x) == 0 else int(x[-1][\"tiempo\"]))\n",
    "    df_tiempoInteraccion_Completado_Jugador.index.name = \"nivel\"\n",
    "\n",
    "    # Dataframe 2: tiempoInicio_Interaccion_Jugador\n",
    "    df_tiempoInicio_Interaccion_Jugador = pd.DataFrame(tiempoInicio_Interaccion_Jugador)\n",
    "    df_tiempoInicio_Interaccion_Jugador = df_tiempoInicio_Interaccion_Jugador.applymap(lambda x: np.nan if not isinstance(x, list) or len(x) == 0 else int(x[0][\"tiempo\"]))\n",
    "    df_tiempoInicio_Interaccion_Jugador.index.name = \"nivel\"\n",
    "\n",
    "    # Dataframe 3: tiempoInteraccion_Interaccion_Jugador\n",
    "    df_tiempoInteraccion_Interaccion_Jugador = pd.DataFrame(tiempoInteraccion_Interaccion_Jugador)\n",
    "    df_tiempoInteraccion_Interaccion_Jugador = df_tiempoInteraccion_Interaccion_Jugador.applymap(lambda x: np.nan if not isinstance(x, list) or len(x) == 0 else sum(int(tiempo[\"tiempo\"]) for tiempo in x) / len(x))\n",
    "    df_tiempoInteraccion_Interaccion_Jugador.index.name = \"nivel\"\n",
    "\n",
    "\n",
    "    return df_tiempoInteraccion_Completado_Jugador, df_tiempoInicio_Interaccion_Jugador, df_tiempoInteraccion_Interaccion_Jugador\n",
    "\n",
    "df_tiempoInteraccion_Completado_Jugador, df_tiempoInicio_Interaccion_Jugador, df_tiempoInteraccion_Interaccion_Jugador = extraerTiemposEntreInteracciones2(rawData, True)\n",
    "#df_tiempoInteraccion_Completado_Jugador\n",
    "#df_tiempoInicio_Interaccion_Jugador\n",
    "#df_tiempoInteraccion_Interaccion_Jugador\n"
   ]
  },
  {
   "cell_type": "code",
   "execution_count": 12,
   "metadata": {},
   "outputs": [
    {
     "name": "stdout",
     "output_type": "stream",
     "text": [
      "defaultdict(None, {'pbgky': 10, 'auvqa': 11, 'gcpze': 13, 'uzzpo': 10, 'ftpnb': 11, 'eprdu': 9, 'zxvkj': 7, 'khadt': 9, 'loemd': 11, 'vsxld': 8, 'srjon': 10, 'qeqyj': 11, 'ikcar': 7, 'gleqe': 6, 'kmqou': 12, 'hjpbw': 9, 'ejeuw': 6, 'epqkm': 3, 'fkmtp': 11, 'zwzfv': 7, 'ipdcp': 16, 'xnpqf': 6, 'swvxx': 8, 'asopk': 13, 'oahey': 12, 'kkoif': 17, 'bhyhw': 14, 'cmbfi': 10, 'krahz': 11, 'pygoc': 11, 'dunul': 11, 'dwqwi': 13, 'rdiaf': 14, 'zcibf': 8, 'yvpmf': 10, 'grkij': 9, 'onyep': 12, 'yfohf': 7, 'accul': 7, 'edxmq': 9, 'tekwp': 10, 'tjfzy': 5, 'bdwyj': 8, 'sxipu': 6, 'ubmtx': 9, 'sjpkc': 10, 'nmveq': 4, 'camhi': 2, 'stiry': 4, 'mymho': 3, 'psido': 13, 'wjaxi': 17, 'fivin': 4, 'gguuc': 9, 'ewqbs': 11, 'hqmhq': 5, 'mjiso': 15, 'hpdxj': 3, 'lwryl': 10, 'ucdvy': 10, 'kkliq': 8, 'dvmlu': 4, 'yxewz': 5, 'gdljy': 5, 'tgwmn': 7, 'rziia': 4, 'zbgwk': 4, 'fyyya': 5, 'tinco': 3, 'ztyed': 1, 'yxjji': 1, 'mgaak': 13, 'qfsdj': 14, 'atlzs': 7, 'ngavz': 22, 'yazod': 8, 'tqgyp': 16, 'zdnso': 13, 'idmzi': 2, 'aotlm': 3, 'huyyb': 8, 'tvxow': 3, 'xtdrq': 7, 'jozyx': 5, 'vvqlm': 6, 'lhrbj': 7, 'tavin': 9, 'jhbuv': 4, 'ahxym': 4, 'wqmgq': 5, 'rqlug': 1, 'buvgs': 11, 'kzles': 11, 'thaho': 10, 'icllt': 9, 'pbwkf': 11, 'nuasx': 5, 'mewpz': 12, 'uniee': 16, 'rkmrw': 8, 'yyvas': 11, 'lohyo': 9, 'pqwaf': 13, 'qgcgc': 12, 'fbldj': 12, 'fmupf': 11, 'sybwc': 3, 'pleui': 12, 'xbmmw': 16, 'ixrux': 10, 'eayrh': 13, 'orjyn': 12, 'raqdt': 9, 'blvkx': 6, 'bajbm': 6, 'prpej': 3, 'cojqb': 6, 'tflzv': 5, 'qbsjv': 4, 'tcvyz': 4, 'rsjxu': 3, 'ptmkr': 16, 'fmtrq': 10, 'pzfdd': 10, 'hcbyl': 9, 'khfha': 8, 'nhbnj': 6, 'qwnpf': 7, 'itkas': 6, 'nplrf': 5, 'rqaby': 8, 'sbexy': 3, 'esrit': 1})\n"
     ]
    }
   ],
   "source": [
    "resultados_Tiempos_Nivel_Jugador = extraerTiemposPorNivelJugador(rawData)\n",
    "res = defaultdict()\n",
    "\n",
    "for j in resultados_Tiempos_Nivel_Jugador[\"erroresCodigo\"]:\n",
    "    res[j] = len(resultados_Tiempos_Nivel_Jugador[\"erroresCodigo\"][j])\n",
    "\n",
    "print(res)"
   ]
  },
  {
   "cell_type": "code",
   "execution_count": 13,
   "metadata": {},
   "outputs": [],
   "source": [
    "filename = 'results-survey976727_pre.csv'\n",
    "data = pd.read_csv(filename, sep=';', header=0)\n",
    "\n",
    "data.drop(['submitdate', 'G00Q01[SQ01]', 'G02Q01', 'G02Q02', 'G02Q03', 'G02Q04', 'G03Q02[other]', 'id'], axis = 'columns', inplace=True)\n",
    "\n",
    "def mezcla_edad_genero(edad, genero):\n",
    "    return genero + ' ' + str(edad)\n",
    "\n",
    "data['edad_genero'] = data.apply(lambda x: mezcla_edad_genero(x['G03Q01'], x['G03Q02']), axis=1)\n",
    "#data"
   ]
  },
  {
   "cell_type": "code",
   "execution_count": 14,
   "metadata": {},
   "outputs": [],
   "source": [
    "# Crear un DataFrame con los datos de los intentos medios de cada jugador\n",
    "\n",
    "intentosJugadores = pd.DataFrame(intentosMedios_Individual[\"intentosIndividual\"])\n",
    "#intentosJugadores\n",
    "\n",
    "# Convertir columnas en filas\n",
    "df_stacked = intentosJugadores.stack().reset_index()\n",
    "df_stacked.columns = ['nivel', 'token', 'intentos']\n",
    "\n",
    "# Calcular promedio de intentos por jugador\n",
    "promedio_intentos = df_stacked.groupby('token')['intentos'].mean()\n",
    "\n",
    "# Crear DataFrame final\n",
    "df_final = pd.DataFrame({'token': promedio_intentos.index, 'intentos': promedio_intentos.values})\n",
    "\n",
    "\n",
    "# Convertir índice de df_tiempoInteraccion_Interaccion_Jugador en columna\n",
    "df_tiempoInteraccion_Interaccion_Jugador2 = df_tiempoInteraccion_Interaccion_Jugador.stack().reset_index()\n",
    "df_tiempoInteraccion_Interaccion_Jugador2.columns = ['nivel', 'token', 'tiempo']\n",
    "\n",
    "# Calcular promedio de intentos por jugador\n",
    "promedio_interaccion = df_tiempoInteraccion_Interaccion_Jugador2.groupby('token')['tiempo'].mean()\n",
    "\n",
    "# Crear DataFrame final\n",
    "df_final2 = pd.DataFrame({'token': promedio_interaccion.index, 'tiempo': promedio_interaccion.values})\n",
    "\n",
    "# Unir con intentosJugadores usando merge en'token'\n",
    "df_jugadores = pd.merge(df_final, df_final2, on=['token'])\n",
    "\n",
    "# Unir con data usando merge en 'token'\n",
    "df_global = pd.merge(df_jugadores, data, on='token')\n",
    "#df_global\n",
    "#df_jugadores\n"
   ]
  },
  {
   "cell_type": "code",
   "execution_count": 15,
   "metadata": {},
   "outputs": [
    {
     "name": "stderr",
     "output_type": "stream",
     "text": [
      "C:\\Users\\david\\AppData\\Local\\Temp\\ipykernel_24608\\3069241159.py:17: SettingWithCopyWarning: \n",
      "A value is trying to be set on a copy of a slice from a DataFrame.\n",
      "Try using .loc[row_indexer,col_indexer] = value instead\n",
      "\n",
      "See the caveats in the documentation: https://pandas.pydata.org/pandas-docs/stable/user_guide/indexing.html#returning-a-view-versus-a-copy\n",
      "  df['mezcla_intentos_tiempo'] = (df['intentos'] + df['tiempo']) / 2\n"
     ]
    },
    {
     "data": {
      "text/html": [
       "<div>\n",
       "<style scoped>\n",
       "    .dataframe tbody tr th:only-of-type {\n",
       "        vertical-align: middle;\n",
       "    }\n",
       "\n",
       "    .dataframe tbody tr th {\n",
       "        vertical-align: top;\n",
       "    }\n",
       "\n",
       "    .dataframe thead th {\n",
       "        text-align: right;\n",
       "    }\n",
       "</style>\n",
       "<table border=\"1\" class=\"dataframe\">\n",
       "  <thead>\n",
       "    <tr style=\"text-align: right;\">\n",
       "      <th></th>\n",
       "      <th>token</th>\n",
       "      <th>intentos</th>\n",
       "      <th>tiempo</th>\n",
       "      <th>G03Q01</th>\n",
       "      <th>G03Q02</th>\n",
       "      <th>edad_genero</th>\n",
       "      <th>mezcla_intentos_tiempo</th>\n",
       "    </tr>\n",
       "  </thead>\n",
       "  <tbody>\n",
       "    <tr>\n",
       "      <th>3</th>\n",
       "      <td>asopk</td>\n",
       "      <td>1.885714</td>\n",
       "      <td>5.666881</td>\n",
       "      <td>14</td>\n",
       "      <td>Masculino</td>\n",
       "      <td>Masculino 14</td>\n",
       "      <td>3.776297</td>\n",
       "    </tr>\n",
       "    <tr>\n",
       "      <th>4</th>\n",
       "      <td>atlzs</td>\n",
       "      <td>2.423077</td>\n",
       "      <td>5.272170</td>\n",
       "      <td>14</td>\n",
       "      <td>Femenino</td>\n",
       "      <td>Femenino 14</td>\n",
       "      <td>3.847624</td>\n",
       "    </tr>\n",
       "    <tr>\n",
       "      <th>5</th>\n",
       "      <td>auvqa</td>\n",
       "      <td>2.043478</td>\n",
       "      <td>6.953159</td>\n",
       "      <td>14</td>\n",
       "      <td>Femenino</td>\n",
       "      <td>Femenino 14</td>\n",
       "      <td>4.498319</td>\n",
       "    </tr>\n",
       "    <tr>\n",
       "      <th>7</th>\n",
       "      <td>bdwyj</td>\n",
       "      <td>2.950000</td>\n",
       "      <td>6.006920</td>\n",
       "      <td>13</td>\n",
       "      <td>Masculino</td>\n",
       "      <td>Masculino 13</td>\n",
       "      <td>4.478460</td>\n",
       "    </tr>\n",
       "    <tr>\n",
       "      <th>8</th>\n",
       "      <td>bhyhw</td>\n",
       "      <td>1.892857</td>\n",
       "      <td>5.918490</td>\n",
       "      <td>14</td>\n",
       "      <td>Masculino</td>\n",
       "      <td>Masculino 14</td>\n",
       "      <td>3.905674</td>\n",
       "    </tr>\n",
       "    <tr>\n",
       "      <th>9</th>\n",
       "      <td>bjvnt</td>\n",
       "      <td>2.700000</td>\n",
       "      <td>3.000000</td>\n",
       "      <td>15</td>\n",
       "      <td>Femenino</td>\n",
       "      <td>Femenino 15</td>\n",
       "      <td>2.850000</td>\n",
       "    </tr>\n",
       "    <tr>\n",
       "      <th>11</th>\n",
       "      <td>buvgs</td>\n",
       "      <td>2.636364</td>\n",
       "      <td>6.534245</td>\n",
       "      <td>12</td>\n",
       "      <td>Femenino</td>\n",
       "      <td>Femenino 12</td>\n",
       "      <td>4.585304</td>\n",
       "    </tr>\n",
       "    <tr>\n",
       "      <th>13</th>\n",
       "      <td>cmbfi</td>\n",
       "      <td>1.516129</td>\n",
       "      <td>5.883715</td>\n",
       "      <td>13</td>\n",
       "      <td>Masculino</td>\n",
       "      <td>Masculino 13</td>\n",
       "      <td>3.699922</td>\n",
       "    </tr>\n",
       "    <tr>\n",
       "      <th>16</th>\n",
       "      <td>dunul</td>\n",
       "      <td>1.586207</td>\n",
       "      <td>6.514073</td>\n",
       "      <td>14</td>\n",
       "      <td>Otro</td>\n",
       "      <td>Otro 14</td>\n",
       "      <td>4.050140</td>\n",
       "    </tr>\n",
       "    <tr>\n",
       "      <th>19</th>\n",
       "      <td>eayrh</td>\n",
       "      <td>2.739130</td>\n",
       "      <td>5.227795</td>\n",
       "      <td>13</td>\n",
       "      <td>Femenino</td>\n",
       "      <td>Femenino 13</td>\n",
       "      <td>3.983462</td>\n",
       "    </tr>\n",
       "    <tr>\n",
       "      <th>20</th>\n",
       "      <td>edxmq</td>\n",
       "      <td>4.950000</td>\n",
       "      <td>4.876273</td>\n",
       "      <td>14</td>\n",
       "      <td>Masculino</td>\n",
       "      <td>Masculino 14</td>\n",
       "      <td>4.913137</td>\n",
       "    </tr>\n",
       "    <tr>\n",
       "      <th>21</th>\n",
       "      <td>ejeuw</td>\n",
       "      <td>2.285714</td>\n",
       "      <td>5.498622</td>\n",
       "      <td>13</td>\n",
       "      <td>Femenino</td>\n",
       "      <td>Femenino 13</td>\n",
       "      <td>3.892168</td>\n",
       "    </tr>\n",
       "    <tr>\n",
       "      <th>22</th>\n",
       "      <td>epjcx</td>\n",
       "      <td>5.555556</td>\n",
       "      <td>6.394231</td>\n",
       "      <td>12</td>\n",
       "      <td>Masculino</td>\n",
       "      <td>Masculino 12</td>\n",
       "      <td>5.974893</td>\n",
       "    </tr>\n",
       "    <tr>\n",
       "      <th>23</th>\n",
       "      <td>epqkm</td>\n",
       "      <td>2.384615</td>\n",
       "      <td>6.644118</td>\n",
       "      <td>14</td>\n",
       "      <td>Masculino</td>\n",
       "      <td>Masculino 14</td>\n",
       "      <td>4.514367</td>\n",
       "    </tr>\n",
       "    <tr>\n",
       "      <th>24</th>\n",
       "      <td>eprdu</td>\n",
       "      <td>1.714286</td>\n",
       "      <td>4.852870</td>\n",
       "      <td>14</td>\n",
       "      <td>Masculino</td>\n",
       "      <td>Masculino 14</td>\n",
       "      <td>3.283578</td>\n",
       "    </tr>\n",
       "    <tr>\n",
       "      <th>26</th>\n",
       "      <td>ewqbs</td>\n",
       "      <td>3.136364</td>\n",
       "      <td>5.388147</td>\n",
       "      <td>14</td>\n",
       "      <td>Masculino</td>\n",
       "      <td>Masculino 14</td>\n",
       "      <td>4.262255</td>\n",
       "    </tr>\n",
       "    <tr>\n",
       "      <th>27</th>\n",
       "      <td>fbldj</td>\n",
       "      <td>2.037037</td>\n",
       "      <td>5.926862</td>\n",
       "      <td>12</td>\n",
       "      <td>Femenino</td>\n",
       "      <td>Femenino 12</td>\n",
       "      <td>3.981950</td>\n",
       "    </tr>\n",
       "    <tr>\n",
       "      <th>28</th>\n",
       "      <td>fivin</td>\n",
       "      <td>2.000000</td>\n",
       "      <td>5.590452</td>\n",
       "      <td>15</td>\n",
       "      <td>Femenino</td>\n",
       "      <td>Femenino 15</td>\n",
       "      <td>3.795226</td>\n",
       "    </tr>\n",
       "    <tr>\n",
       "      <th>29</th>\n",
       "      <td>fkmtp</td>\n",
       "      <td>2.720000</td>\n",
       "      <td>6.539927</td>\n",
       "      <td>13</td>\n",
       "      <td>Masculino</td>\n",
       "      <td>Masculino 13</td>\n",
       "      <td>4.629963</td>\n",
       "    </tr>\n",
       "    <tr>\n",
       "      <th>30</th>\n",
       "      <td>fmtrq</td>\n",
       "      <td>1.913043</td>\n",
       "      <td>6.209523</td>\n",
       "      <td>13</td>\n",
       "      <td>Masculino</td>\n",
       "      <td>Masculino 13</td>\n",
       "      <td>4.061283</td>\n",
       "    </tr>\n",
       "    <tr>\n",
       "      <th>32</th>\n",
       "      <td>ftpnb</td>\n",
       "      <td>1.571429</td>\n",
       "      <td>4.317314</td>\n",
       "      <td>14</td>\n",
       "      <td>Masculino</td>\n",
       "      <td>Masculino 14</td>\n",
       "      <td>2.944372</td>\n",
       "    </tr>\n",
       "    <tr>\n",
       "      <th>34</th>\n",
       "      <td>gcpze</td>\n",
       "      <td>1.400000</td>\n",
       "      <td>4.378168</td>\n",
       "      <td>13</td>\n",
       "      <td>Masculino</td>\n",
       "      <td>Masculino 13</td>\n",
       "      <td>2.889084</td>\n",
       "    </tr>\n",
       "    <tr>\n",
       "      <th>35</th>\n",
       "      <td>gdljy</td>\n",
       "      <td>4.176471</td>\n",
       "      <td>6.651510</td>\n",
       "      <td>14</td>\n",
       "      <td>Femenino</td>\n",
       "      <td>Femenino 14</td>\n",
       "      <td>5.413990</td>\n",
       "    </tr>\n",
       "    <tr>\n",
       "      <th>36</th>\n",
       "      <td>gguuc</td>\n",
       "      <td>4.350000</td>\n",
       "      <td>3.698123</td>\n",
       "      <td>15</td>\n",
       "      <td>Femenino</td>\n",
       "      <td>Femenino 15</td>\n",
       "      <td>4.024061</td>\n",
       "    </tr>\n",
       "    <tr>\n",
       "      <th>37</th>\n",
       "      <td>gleqe</td>\n",
       "      <td>2.040000</td>\n",
       "      <td>5.278054</td>\n",
       "      <td>13</td>\n",
       "      <td>Masculino</td>\n",
       "      <td>Masculino 13</td>\n",
       "      <td>3.659027</td>\n",
       "    </tr>\n",
       "    <tr>\n",
       "      <th>39</th>\n",
       "      <td>grkij</td>\n",
       "      <td>2.478261</td>\n",
       "      <td>6.583177</td>\n",
       "      <td>14</td>\n",
       "      <td>Femenino</td>\n",
       "      <td>Femenino 14</td>\n",
       "      <td>4.530719</td>\n",
       "    </tr>\n",
       "    <tr>\n",
       "      <th>40</th>\n",
       "      <td>gzgfk</td>\n",
       "      <td>4.666667</td>\n",
       "      <td>3.916667</td>\n",
       "      <td>13</td>\n",
       "      <td>Femenino</td>\n",
       "      <td>Femenino 13</td>\n",
       "      <td>4.291667</td>\n",
       "    </tr>\n",
       "    <tr>\n",
       "      <th>41</th>\n",
       "      <td>hcbyl</td>\n",
       "      <td>3.200000</td>\n",
       "      <td>6.363011</td>\n",
       "      <td>13</td>\n",
       "      <td>Otro</td>\n",
       "      <td>Otro 13</td>\n",
       "      <td>4.781505</td>\n",
       "    </tr>\n",
       "    <tr>\n",
       "      <th>43</th>\n",
       "      <td>hpdxj</td>\n",
       "      <td>3.142857</td>\n",
       "      <td>4.500754</td>\n",
       "      <td>14</td>\n",
       "      <td>Masculino</td>\n",
       "      <td>Masculino 14</td>\n",
       "      <td>3.821806</td>\n",
       "    </tr>\n",
       "    <tr>\n",
       "      <th>48</th>\n",
       "      <td>ikcar</td>\n",
       "      <td>1.863636</td>\n",
       "      <td>5.853960</td>\n",
       "      <td>13</td>\n",
       "      <td>Femenino</td>\n",
       "      <td>Femenino 13</td>\n",
       "      <td>3.858798</td>\n",
       "    </tr>\n",
       "    <tr>\n",
       "      <th>49</th>\n",
       "      <td>ipdcp</td>\n",
       "      <td>2.318182</td>\n",
       "      <td>4.021263</td>\n",
       "      <td>14</td>\n",
       "      <td>Masculino</td>\n",
       "      <td>Masculino 14</td>\n",
       "      <td>3.169722</td>\n",
       "    </tr>\n",
       "    <tr>\n",
       "      <th>50</th>\n",
       "      <td>itkas</td>\n",
       "      <td>4.500000</td>\n",
       "      <td>5.241525</td>\n",
       "      <td>12</td>\n",
       "      <td>Masculino</td>\n",
       "      <td>Masculino 12</td>\n",
       "      <td>4.870763</td>\n",
       "    </tr>\n",
       "    <tr>\n",
       "      <th>52</th>\n",
       "      <td>jhbuv</td>\n",
       "      <td>2.428571</td>\n",
       "      <td>6.425109</td>\n",
       "      <td>15</td>\n",
       "      <td>Masculino</td>\n",
       "      <td>Masculino 15</td>\n",
       "      <td>4.426840</td>\n",
       "    </tr>\n",
       "    <tr>\n",
       "      <th>53</th>\n",
       "      <td>jozyx</td>\n",
       "      <td>3.352941</td>\n",
       "      <td>4.979539</td>\n",
       "      <td>14</td>\n",
       "      <td>Femenino</td>\n",
       "      <td>Femenino 14</td>\n",
       "      <td>4.166240</td>\n",
       "    </tr>\n",
       "    <tr>\n",
       "      <th>54</th>\n",
       "      <td>khadt</td>\n",
       "      <td>2.000000</td>\n",
       "      <td>5.666210</td>\n",
       "      <td>14</td>\n",
       "      <td>Femenino</td>\n",
       "      <td>Femenino 14</td>\n",
       "      <td>3.833105</td>\n",
       "    </tr>\n",
       "    <tr>\n",
       "      <th>55</th>\n",
       "      <td>khfha</td>\n",
       "      <td>4.045455</td>\n",
       "      <td>6.318751</td>\n",
       "      <td>13</td>\n",
       "      <td>Femenino</td>\n",
       "      <td>Femenino 13</td>\n",
       "      <td>5.182103</td>\n",
       "    </tr>\n",
       "    <tr>\n",
       "      <th>57</th>\n",
       "      <td>kkoif</td>\n",
       "      <td>1.785714</td>\n",
       "      <td>5.555407</td>\n",
       "      <td>13</td>\n",
       "      <td>Femenino</td>\n",
       "      <td>Femenino 13</td>\n",
       "      <td>3.670561</td>\n",
       "    </tr>\n",
       "    <tr>\n",
       "      <th>58</th>\n",
       "      <td>kmqou</td>\n",
       "      <td>2.863636</td>\n",
       "      <td>4.042614</td>\n",
       "      <td>13</td>\n",
       "      <td>Otro</td>\n",
       "      <td>Otro 13</td>\n",
       "      <td>3.453125</td>\n",
       "    </tr>\n",
       "    <tr>\n",
       "      <th>61</th>\n",
       "      <td>kzles</td>\n",
       "      <td>1.520000</td>\n",
       "      <td>6.373680</td>\n",
       "      <td>12</td>\n",
       "      <td>Femenino</td>\n",
       "      <td>Femenino 12</td>\n",
       "      <td>3.946840</td>\n",
       "    </tr>\n",
       "    <tr>\n",
       "      <th>64</th>\n",
       "      <td>lohyo</td>\n",
       "      <td>4.476190</td>\n",
       "      <td>3.659881</td>\n",
       "      <td>12</td>\n",
       "      <td>Femenino</td>\n",
       "      <td>Femenino 12</td>\n",
       "      <td>4.068036</td>\n",
       "    </tr>\n",
       "    <tr>\n",
       "      <th>65</th>\n",
       "      <td>lwryl</td>\n",
       "      <td>2.736842</td>\n",
       "      <td>7.000213</td>\n",
       "      <td>14</td>\n",
       "      <td>Masculino</td>\n",
       "      <td>Masculino 14</td>\n",
       "      <td>4.868527</td>\n",
       "    </tr>\n",
       "    <tr>\n",
       "      <th>66</th>\n",
       "      <td>mewpz</td>\n",
       "      <td>3.681818</td>\n",
       "      <td>5.905386</td>\n",
       "      <td>12</td>\n",
       "      <td>Femenino</td>\n",
       "      <td>Femenino 12</td>\n",
       "      <td>4.793602</td>\n",
       "    </tr>\n",
       "    <tr>\n",
       "      <th>67</th>\n",
       "      <td>mgaak</td>\n",
       "      <td>1.400000</td>\n",
       "      <td>4.055539</td>\n",
       "      <td>15</td>\n",
       "      <td>Masculino</td>\n",
       "      <td>Masculino 15</td>\n",
       "      <td>2.727770</td>\n",
       "    </tr>\n",
       "    <tr>\n",
       "      <th>69</th>\n",
       "      <td>mymho</td>\n",
       "      <td>4.833333</td>\n",
       "      <td>6.705357</td>\n",
       "      <td>15</td>\n",
       "      <td>Femenino</td>\n",
       "      <td>Femenino 15</td>\n",
       "      <td>5.769345</td>\n",
       "    </tr>\n",
       "    <tr>\n",
       "      <th>70</th>\n",
       "      <td>ngavz</td>\n",
       "      <td>2.485714</td>\n",
       "      <td>3.264442</td>\n",
       "      <td>14</td>\n",
       "      <td>Masculino</td>\n",
       "      <td>Masculino 14</td>\n",
       "      <td>2.875078</td>\n",
       "    </tr>\n",
       "    <tr>\n",
       "      <th>71</th>\n",
       "      <td>nhbnj</td>\n",
       "      <td>5.052632</td>\n",
       "      <td>6.987273</td>\n",
       "      <td>12</td>\n",
       "      <td>Masculino</td>\n",
       "      <td>Masculino 12</td>\n",
       "      <td>6.019952</td>\n",
       "    </tr>\n",
       "    <tr>\n",
       "      <th>74</th>\n",
       "      <td>nuasx</td>\n",
       "      <td>3.800000</td>\n",
       "      <td>5.669475</td>\n",
       "      <td>13</td>\n",
       "      <td>Masculino</td>\n",
       "      <td>Masculino 13</td>\n",
       "      <td>4.734738</td>\n",
       "    </tr>\n",
       "    <tr>\n",
       "      <th>75</th>\n",
       "      <td>oahey</td>\n",
       "      <td>1.689655</td>\n",
       "      <td>5.888230</td>\n",
       "      <td>13</td>\n",
       "      <td>Masculino</td>\n",
       "      <td>Masculino 13</td>\n",
       "      <td>3.788943</td>\n",
       "    </tr>\n",
       "    <tr>\n",
       "      <th>77</th>\n",
       "      <td>onyep</td>\n",
       "      <td>3.703704</td>\n",
       "      <td>4.852661</td>\n",
       "      <td>14</td>\n",
       "      <td>Femenino</td>\n",
       "      <td>Femenino 14</td>\n",
       "      <td>4.278183</td>\n",
       "    </tr>\n",
       "    <tr>\n",
       "      <th>78</th>\n",
       "      <td>orjyn</td>\n",
       "      <td>4.083333</td>\n",
       "      <td>4.978347</td>\n",
       "      <td>12</td>\n",
       "      <td>Femenino</td>\n",
       "      <td>Femenino 12</td>\n",
       "      <td>4.530840</td>\n",
       "    </tr>\n",
       "    <tr>\n",
       "      <th>79</th>\n",
       "      <td>pbgky</td>\n",
       "      <td>2.250000</td>\n",
       "      <td>5.538329</td>\n",
       "      <td>13</td>\n",
       "      <td>Masculino</td>\n",
       "      <td>Masculino 13</td>\n",
       "      <td>3.894165</td>\n",
       "    </tr>\n",
       "    <tr>\n",
       "      <th>80</th>\n",
       "      <td>pbwkf</td>\n",
       "      <td>2.583333</td>\n",
       "      <td>4.321943</td>\n",
       "      <td>13</td>\n",
       "      <td>Masculino</td>\n",
       "      <td>Masculino 13</td>\n",
       "      <td>3.452638</td>\n",
       "    </tr>\n",
       "    <tr>\n",
       "      <th>81</th>\n",
       "      <td>pleui</td>\n",
       "      <td>1.814815</td>\n",
       "      <td>6.004582</td>\n",
       "      <td>13</td>\n",
       "      <td>Masculino</td>\n",
       "      <td>Masculino 13</td>\n",
       "      <td>3.909699</td>\n",
       "    </tr>\n",
       "    <tr>\n",
       "      <th>85</th>\n",
       "      <td>ptmkr</td>\n",
       "      <td>3.956522</td>\n",
       "      <td>4.829527</td>\n",
       "      <td>13</td>\n",
       "      <td>Masculino</td>\n",
       "      <td>Masculino 13</td>\n",
       "      <td>4.393024</td>\n",
       "    </tr>\n",
       "    <tr>\n",
       "      <th>86</th>\n",
       "      <td>pygoc</td>\n",
       "      <td>1.533333</td>\n",
       "      <td>4.913242</td>\n",
       "      <td>14</td>\n",
       "      <td>Otro</td>\n",
       "      <td>Otro 14</td>\n",
       "      <td>3.223287</td>\n",
       "    </tr>\n",
       "    <tr>\n",
       "      <th>87</th>\n",
       "      <td>pzfdd</td>\n",
       "      <td>2.450000</td>\n",
       "      <td>5.331609</td>\n",
       "      <td>13</td>\n",
       "      <td>Masculino</td>\n",
       "      <td>Masculino 13</td>\n",
       "      <td>3.890805</td>\n",
       "    </tr>\n",
       "    <tr>\n",
       "      <th>89</th>\n",
       "      <td>qeqyj</td>\n",
       "      <td>2.200000</td>\n",
       "      <td>4.537446</td>\n",
       "      <td>13</td>\n",
       "      <td>Masculino</td>\n",
       "      <td>Masculino 13</td>\n",
       "      <td>3.368723</td>\n",
       "    </tr>\n",
       "    <tr>\n",
       "      <th>90</th>\n",
       "      <td>qfsdj</td>\n",
       "      <td>1.275862</td>\n",
       "      <td>5.958268</td>\n",
       "      <td>15</td>\n",
       "      <td>Masculino</td>\n",
       "      <td>Masculino 15</td>\n",
       "      <td>3.617065</td>\n",
       "    </tr>\n",
       "    <tr>\n",
       "      <th>91</th>\n",
       "      <td>qgcgc</td>\n",
       "      <td>2.296296</td>\n",
       "      <td>5.285877</td>\n",
       "      <td>12</td>\n",
       "      <td>Masculino</td>\n",
       "      <td>Masculino 12</td>\n",
       "      <td>3.791087</td>\n",
       "    </tr>\n",
       "    <tr>\n",
       "      <th>93</th>\n",
       "      <td>raqdt</td>\n",
       "      <td>1.909091</td>\n",
       "      <td>6.751498</td>\n",
       "      <td>13</td>\n",
       "      <td>Femenino</td>\n",
       "      <td>Femenino 13</td>\n",
       "      <td>4.330294</td>\n",
       "    </tr>\n",
       "    <tr>\n",
       "      <th>94</th>\n",
       "      <td>rdiaf</td>\n",
       "      <td>3.607143</td>\n",
       "      <td>4.537196</td>\n",
       "      <td>14</td>\n",
       "      <td>Masculino</td>\n",
       "      <td>Masculino 14</td>\n",
       "      <td>4.072170</td>\n",
       "    </tr>\n",
       "    <tr>\n",
       "      <th>95</th>\n",
       "      <td>rfofs</td>\n",
       "      <td>6.250000</td>\n",
       "      <td>6.500000</td>\n",
       "      <td>13</td>\n",
       "      <td>Masculino</td>\n",
       "      <td>Masculino 13</td>\n",
       "      <td>6.375000</td>\n",
       "    </tr>\n",
       "    <tr>\n",
       "      <th>99</th>\n",
       "      <td>rsjxu</td>\n",
       "      <td>6.071429</td>\n",
       "      <td>5.637196</td>\n",
       "      <td>12</td>\n",
       "      <td>Otro</td>\n",
       "      <td>Otro 12</td>\n",
       "      <td>5.854312</td>\n",
       "    </tr>\n",
       "    <tr>\n",
       "      <th>103</th>\n",
       "      <td>srjon</td>\n",
       "      <td>1.333333</td>\n",
       "      <td>5.876009</td>\n",
       "      <td>13</td>\n",
       "      <td>Masculino</td>\n",
       "      <td>Masculino 13</td>\n",
       "      <td>3.604671</td>\n",
       "    </tr>\n",
       "    <tr>\n",
       "      <th>105</th>\n",
       "      <td>swvxx</td>\n",
       "      <td>3.631579</td>\n",
       "      <td>6.619645</td>\n",
       "      <td>14</td>\n",
       "      <td>Masculino</td>\n",
       "      <td>Masculino 14</td>\n",
       "      <td>5.125612</td>\n",
       "    </tr>\n",
       "    <tr>\n",
       "      <th>106</th>\n",
       "      <td>sxipu</td>\n",
       "      <td>4.368421</td>\n",
       "      <td>4.511075</td>\n",
       "      <td>14</td>\n",
       "      <td>Femenino</td>\n",
       "      <td>Femenino 14</td>\n",
       "      <td>4.439748</td>\n",
       "    </tr>\n",
       "    <tr>\n",
       "      <th>108</th>\n",
       "      <td>tavin</td>\n",
       "      <td>2.560000</td>\n",
       "      <td>6.012539</td>\n",
       "      <td>15</td>\n",
       "      <td>Masculino</td>\n",
       "      <td>Masculino 15</td>\n",
       "      <td>4.286270</td>\n",
       "    </tr>\n",
       "    <tr>\n",
       "      <th>109</th>\n",
       "      <td>tcvyz</td>\n",
       "      <td>2.736842</td>\n",
       "      <td>6.714399</td>\n",
       "      <td>13</td>\n",
       "      <td>Femenino</td>\n",
       "      <td>Femenino 13</td>\n",
       "      <td>4.725620</td>\n",
       "    </tr>\n",
       "    <tr>\n",
       "      <th>110</th>\n",
       "      <td>tekwp</td>\n",
       "      <td>5.333333</td>\n",
       "      <td>4.290134</td>\n",
       "      <td>14</td>\n",
       "      <td>Masculino</td>\n",
       "      <td>Masculino 14</td>\n",
       "      <td>4.811734</td>\n",
       "    </tr>\n",
       "    <tr>\n",
       "      <th>113</th>\n",
       "      <td>thaho</td>\n",
       "      <td>3.391304</td>\n",
       "      <td>5.156927</td>\n",
       "      <td>13</td>\n",
       "      <td>Masculino</td>\n",
       "      <td>Masculino 13</td>\n",
       "      <td>4.274115</td>\n",
       "    </tr>\n",
       "    <tr>\n",
       "      <th>115</th>\n",
       "      <td>tjfzy</td>\n",
       "      <td>5.400000</td>\n",
       "      <td>4.451076</td>\n",
       "      <td>13</td>\n",
       "      <td>Masculino</td>\n",
       "      <td>Masculino 13</td>\n",
       "      <td>4.925538</td>\n",
       "    </tr>\n",
       "    <tr>\n",
       "      <th>116</th>\n",
       "      <td>tqgyp</td>\n",
       "      <td>5.172414</td>\n",
       "      <td>2.497260</td>\n",
       "      <td>14</td>\n",
       "      <td>Masculino</td>\n",
       "      <td>Masculino 14</td>\n",
       "      <td>3.834837</td>\n",
       "    </tr>\n",
       "    <tr>\n",
       "      <th>118</th>\n",
       "      <td>ubmtx</td>\n",
       "      <td>4.190476</td>\n",
       "      <td>4.389396</td>\n",
       "      <td>14</td>\n",
       "      <td>Otro</td>\n",
       "      <td>Otro 14</td>\n",
       "      <td>4.289936</td>\n",
       "    </tr>\n",
       "    <tr>\n",
       "      <th>119</th>\n",
       "      <td>ucdvy</td>\n",
       "      <td>3.666667</td>\n",
       "      <td>4.551996</td>\n",
       "      <td>15</td>\n",
       "      <td>Masculino</td>\n",
       "      <td>Masculino 15</td>\n",
       "      <td>4.109331</td>\n",
       "    </tr>\n",
       "    <tr>\n",
       "      <th>120</th>\n",
       "      <td>uniee</td>\n",
       "      <td>3.130435</td>\n",
       "      <td>5.448670</td>\n",
       "      <td>13</td>\n",
       "      <td>Femenino</td>\n",
       "      <td>Femenino 13</td>\n",
       "      <td>4.289552</td>\n",
       "    </tr>\n",
       "    <tr>\n",
       "      <th>121</th>\n",
       "      <td>uzzpo</td>\n",
       "      <td>1.592593</td>\n",
       "      <td>4.991654</td>\n",
       "      <td>13</td>\n",
       "      <td>Femenino</td>\n",
       "      <td>Femenino 13</td>\n",
       "      <td>3.292123</td>\n",
       "    </tr>\n",
       "    <tr>\n",
       "      <th>122</th>\n",
       "      <td>vddlg</td>\n",
       "      <td>2.000000</td>\n",
       "      <td>4.500000</td>\n",
       "      <td>14</td>\n",
       "      <td>Femenino</td>\n",
       "      <td>Femenino 14</td>\n",
       "      <td>3.250000</td>\n",
       "    </tr>\n",
       "    <tr>\n",
       "      <th>124</th>\n",
       "      <td>vsxld</td>\n",
       "      <td>1.269231</td>\n",
       "      <td>6.712788</td>\n",
       "      <td>13</td>\n",
       "      <td>Femenino</td>\n",
       "      <td>Femenino 13</td>\n",
       "      <td>3.991009</td>\n",
       "    </tr>\n",
       "    <tr>\n",
       "      <th>125</th>\n",
       "      <td>vvqlm</td>\n",
       "      <td>3.045455</td>\n",
       "      <td>5.077514</td>\n",
       "      <td>14</td>\n",
       "      <td>Masculino</td>\n",
       "      <td>Masculino 14</td>\n",
       "      <td>4.061484</td>\n",
       "    </tr>\n",
       "    <tr>\n",
       "      <th>126</th>\n",
       "      <td>wjaxi</td>\n",
       "      <td>1.925926</td>\n",
       "      <td>4.900420</td>\n",
       "      <td>15</td>\n",
       "      <td>Masculino</td>\n",
       "      <td>Masculino 15</td>\n",
       "      <td>3.413173</td>\n",
       "    </tr>\n",
       "    <tr>\n",
       "      <th>127</th>\n",
       "      <td>wqmgq</td>\n",
       "      <td>6.000000</td>\n",
       "      <td>5.280436</td>\n",
       "      <td>15</td>\n",
       "      <td>Masculino</td>\n",
       "      <td>Masculino 15</td>\n",
       "      <td>5.640218</td>\n",
       "    </tr>\n",
       "    <tr>\n",
       "      <th>128</th>\n",
       "      <td>xbmmw</td>\n",
       "      <td>2.370370</td>\n",
       "      <td>5.337025</td>\n",
       "      <td>13</td>\n",
       "      <td>Masculino</td>\n",
       "      <td>Masculino 13</td>\n",
       "      <td>3.853698</td>\n",
       "    </tr>\n",
       "    <tr>\n",
       "      <th>131</th>\n",
       "      <td>yazod</td>\n",
       "      <td>2.160000</td>\n",
       "      <td>5.820794</td>\n",
       "      <td>15</td>\n",
       "      <td>Masculino</td>\n",
       "      <td>Masculino 15</td>\n",
       "      <td>3.990397</td>\n",
       "    </tr>\n",
       "    <tr>\n",
       "      <th>133</th>\n",
       "      <td>yvpmf</td>\n",
       "      <td>4.083333</td>\n",
       "      <td>4.227707</td>\n",
       "      <td>13</td>\n",
       "      <td>Masculino</td>\n",
       "      <td>Masculino 13</td>\n",
       "      <td>4.155520</td>\n",
       "    </tr>\n",
       "    <tr>\n",
       "      <th>136</th>\n",
       "      <td>yyvas</td>\n",
       "      <td>4.136364</td>\n",
       "      <td>6.905856</td>\n",
       "      <td>12</td>\n",
       "      <td>Femenino</td>\n",
       "      <td>Femenino 12</td>\n",
       "      <td>5.521110</td>\n",
       "    </tr>\n",
       "    <tr>\n",
       "      <th>137</th>\n",
       "      <td>zbgwk</td>\n",
       "      <td>4.933333</td>\n",
       "      <td>5.978549</td>\n",
       "      <td>15</td>\n",
       "      <td>Otro</td>\n",
       "      <td>Otro 15</td>\n",
       "      <td>5.455941</td>\n",
       "    </tr>\n",
       "    <tr>\n",
       "      <th>139</th>\n",
       "      <td>zdnso</td>\n",
       "      <td>1.925926</td>\n",
       "      <td>5.407341</td>\n",
       "      <td>15</td>\n",
       "      <td>Femenino</td>\n",
       "      <td>Femenino 15</td>\n",
       "      <td>3.666633</td>\n",
       "    </tr>\n",
       "    <tr>\n",
       "      <th>142</th>\n",
       "      <td>zxvkj</td>\n",
       "      <td>2.000000</td>\n",
       "      <td>5.417953</td>\n",
       "      <td>14</td>\n",
       "      <td>Femenino</td>\n",
       "      <td>Femenino 14</td>\n",
       "      <td>3.708977</td>\n",
       "    </tr>\n",
       "  </tbody>\n",
       "</table>\n",
       "</div>"
      ],
      "text/plain": [
       "     token  intentos    tiempo  G03Q01     G03Q02   edad_genero  \\\n",
       "3    asopk  1.885714  5.666881      14  Masculino  Masculino 14   \n",
       "4    atlzs  2.423077  5.272170      14   Femenino   Femenino 14   \n",
       "5    auvqa  2.043478  6.953159      14   Femenino   Femenino 14   \n",
       "7    bdwyj  2.950000  6.006920      13  Masculino  Masculino 13   \n",
       "8    bhyhw  1.892857  5.918490      14  Masculino  Masculino 14   \n",
       "9    bjvnt  2.700000  3.000000      15   Femenino   Femenino 15   \n",
       "11   buvgs  2.636364  6.534245      12   Femenino   Femenino 12   \n",
       "13   cmbfi  1.516129  5.883715      13  Masculino  Masculino 13   \n",
       "16   dunul  1.586207  6.514073      14       Otro       Otro 14   \n",
       "19   eayrh  2.739130  5.227795      13   Femenino   Femenino 13   \n",
       "20   edxmq  4.950000  4.876273      14  Masculino  Masculino 14   \n",
       "21   ejeuw  2.285714  5.498622      13   Femenino   Femenino 13   \n",
       "22   epjcx  5.555556  6.394231      12  Masculino  Masculino 12   \n",
       "23   epqkm  2.384615  6.644118      14  Masculino  Masculino 14   \n",
       "24   eprdu  1.714286  4.852870      14  Masculino  Masculino 14   \n",
       "26   ewqbs  3.136364  5.388147      14  Masculino  Masculino 14   \n",
       "27   fbldj  2.037037  5.926862      12   Femenino   Femenino 12   \n",
       "28   fivin  2.000000  5.590452      15   Femenino   Femenino 15   \n",
       "29   fkmtp  2.720000  6.539927      13  Masculino  Masculino 13   \n",
       "30   fmtrq  1.913043  6.209523      13  Masculino  Masculino 13   \n",
       "32   ftpnb  1.571429  4.317314      14  Masculino  Masculino 14   \n",
       "34   gcpze  1.400000  4.378168      13  Masculino  Masculino 13   \n",
       "35   gdljy  4.176471  6.651510      14   Femenino   Femenino 14   \n",
       "36   gguuc  4.350000  3.698123      15   Femenino   Femenino 15   \n",
       "37   gleqe  2.040000  5.278054      13  Masculino  Masculino 13   \n",
       "39   grkij  2.478261  6.583177      14   Femenino   Femenino 14   \n",
       "40   gzgfk  4.666667  3.916667      13   Femenino   Femenino 13   \n",
       "41   hcbyl  3.200000  6.363011      13       Otro       Otro 13   \n",
       "43   hpdxj  3.142857  4.500754      14  Masculino  Masculino 14   \n",
       "48   ikcar  1.863636  5.853960      13   Femenino   Femenino 13   \n",
       "49   ipdcp  2.318182  4.021263      14  Masculino  Masculino 14   \n",
       "50   itkas  4.500000  5.241525      12  Masculino  Masculino 12   \n",
       "52   jhbuv  2.428571  6.425109      15  Masculino  Masculino 15   \n",
       "53   jozyx  3.352941  4.979539      14   Femenino   Femenino 14   \n",
       "54   khadt  2.000000  5.666210      14   Femenino   Femenino 14   \n",
       "55   khfha  4.045455  6.318751      13   Femenino   Femenino 13   \n",
       "57   kkoif  1.785714  5.555407      13   Femenino   Femenino 13   \n",
       "58   kmqou  2.863636  4.042614      13       Otro       Otro 13   \n",
       "61   kzles  1.520000  6.373680      12   Femenino   Femenino 12   \n",
       "64   lohyo  4.476190  3.659881      12   Femenino   Femenino 12   \n",
       "65   lwryl  2.736842  7.000213      14  Masculino  Masculino 14   \n",
       "66   mewpz  3.681818  5.905386      12   Femenino   Femenino 12   \n",
       "67   mgaak  1.400000  4.055539      15  Masculino  Masculino 15   \n",
       "69   mymho  4.833333  6.705357      15   Femenino   Femenino 15   \n",
       "70   ngavz  2.485714  3.264442      14  Masculino  Masculino 14   \n",
       "71   nhbnj  5.052632  6.987273      12  Masculino  Masculino 12   \n",
       "74   nuasx  3.800000  5.669475      13  Masculino  Masculino 13   \n",
       "75   oahey  1.689655  5.888230      13  Masculino  Masculino 13   \n",
       "77   onyep  3.703704  4.852661      14   Femenino   Femenino 14   \n",
       "78   orjyn  4.083333  4.978347      12   Femenino   Femenino 12   \n",
       "79   pbgky  2.250000  5.538329      13  Masculino  Masculino 13   \n",
       "80   pbwkf  2.583333  4.321943      13  Masculino  Masculino 13   \n",
       "81   pleui  1.814815  6.004582      13  Masculino  Masculino 13   \n",
       "85   ptmkr  3.956522  4.829527      13  Masculino  Masculino 13   \n",
       "86   pygoc  1.533333  4.913242      14       Otro       Otro 14   \n",
       "87   pzfdd  2.450000  5.331609      13  Masculino  Masculino 13   \n",
       "89   qeqyj  2.200000  4.537446      13  Masculino  Masculino 13   \n",
       "90   qfsdj  1.275862  5.958268      15  Masculino  Masculino 15   \n",
       "91   qgcgc  2.296296  5.285877      12  Masculino  Masculino 12   \n",
       "93   raqdt  1.909091  6.751498      13   Femenino   Femenino 13   \n",
       "94   rdiaf  3.607143  4.537196      14  Masculino  Masculino 14   \n",
       "95   rfofs  6.250000  6.500000      13  Masculino  Masculino 13   \n",
       "99   rsjxu  6.071429  5.637196      12       Otro       Otro 12   \n",
       "103  srjon  1.333333  5.876009      13  Masculino  Masculino 13   \n",
       "105  swvxx  3.631579  6.619645      14  Masculino  Masculino 14   \n",
       "106  sxipu  4.368421  4.511075      14   Femenino   Femenino 14   \n",
       "108  tavin  2.560000  6.012539      15  Masculino  Masculino 15   \n",
       "109  tcvyz  2.736842  6.714399      13   Femenino   Femenino 13   \n",
       "110  tekwp  5.333333  4.290134      14  Masculino  Masculino 14   \n",
       "113  thaho  3.391304  5.156927      13  Masculino  Masculino 13   \n",
       "115  tjfzy  5.400000  4.451076      13  Masculino  Masculino 13   \n",
       "116  tqgyp  5.172414  2.497260      14  Masculino  Masculino 14   \n",
       "118  ubmtx  4.190476  4.389396      14       Otro       Otro 14   \n",
       "119  ucdvy  3.666667  4.551996      15  Masculino  Masculino 15   \n",
       "120  uniee  3.130435  5.448670      13   Femenino   Femenino 13   \n",
       "121  uzzpo  1.592593  4.991654      13   Femenino   Femenino 13   \n",
       "122  vddlg  2.000000  4.500000      14   Femenino   Femenino 14   \n",
       "124  vsxld  1.269231  6.712788      13   Femenino   Femenino 13   \n",
       "125  vvqlm  3.045455  5.077514      14  Masculino  Masculino 14   \n",
       "126  wjaxi  1.925926  4.900420      15  Masculino  Masculino 15   \n",
       "127  wqmgq  6.000000  5.280436      15  Masculino  Masculino 15   \n",
       "128  xbmmw  2.370370  5.337025      13  Masculino  Masculino 13   \n",
       "131  yazod  2.160000  5.820794      15  Masculino  Masculino 15   \n",
       "133  yvpmf  4.083333  4.227707      13  Masculino  Masculino 13   \n",
       "136  yyvas  4.136364  6.905856      12   Femenino   Femenino 12   \n",
       "137  zbgwk  4.933333  5.978549      15       Otro       Otro 15   \n",
       "139  zdnso  1.925926  5.407341      15   Femenino   Femenino 15   \n",
       "142  zxvkj  2.000000  5.417953      14   Femenino   Femenino 14   \n",
       "\n",
       "     mezcla_intentos_tiempo  \n",
       "3                  3.776297  \n",
       "4                  3.847624  \n",
       "5                  4.498319  \n",
       "7                  4.478460  \n",
       "8                  3.905674  \n",
       "9                  2.850000  \n",
       "11                 4.585304  \n",
       "13                 3.699922  \n",
       "16                 4.050140  \n",
       "19                 3.983462  \n",
       "20                 4.913137  \n",
       "21                 3.892168  \n",
       "22                 5.974893  \n",
       "23                 4.514367  \n",
       "24                 3.283578  \n",
       "26                 4.262255  \n",
       "27                 3.981950  \n",
       "28                 3.795226  \n",
       "29                 4.629963  \n",
       "30                 4.061283  \n",
       "32                 2.944372  \n",
       "34                 2.889084  \n",
       "35                 5.413990  \n",
       "36                 4.024061  \n",
       "37                 3.659027  \n",
       "39                 4.530719  \n",
       "40                 4.291667  \n",
       "41                 4.781505  \n",
       "43                 3.821806  \n",
       "48                 3.858798  \n",
       "49                 3.169722  \n",
       "50                 4.870763  \n",
       "52                 4.426840  \n",
       "53                 4.166240  \n",
       "54                 3.833105  \n",
       "55                 5.182103  \n",
       "57                 3.670561  \n",
       "58                 3.453125  \n",
       "61                 3.946840  \n",
       "64                 4.068036  \n",
       "65                 4.868527  \n",
       "66                 4.793602  \n",
       "67                 2.727770  \n",
       "69                 5.769345  \n",
       "70                 2.875078  \n",
       "71                 6.019952  \n",
       "74                 4.734738  \n",
       "75                 3.788943  \n",
       "77                 4.278183  \n",
       "78                 4.530840  \n",
       "79                 3.894165  \n",
       "80                 3.452638  \n",
       "81                 3.909699  \n",
       "85                 4.393024  \n",
       "86                 3.223287  \n",
       "87                 3.890805  \n",
       "89                 3.368723  \n",
       "90                 3.617065  \n",
       "91                 3.791087  \n",
       "93                 4.330294  \n",
       "94                 4.072170  \n",
       "95                 6.375000  \n",
       "99                 5.854312  \n",
       "103                3.604671  \n",
       "105                5.125612  \n",
       "106                4.439748  \n",
       "108                4.286270  \n",
       "109                4.725620  \n",
       "110                4.811734  \n",
       "113                4.274115  \n",
       "115                4.925538  \n",
       "116                3.834837  \n",
       "118                4.289936  \n",
       "119                4.109331  \n",
       "120                4.289552  \n",
       "121                3.292123  \n",
       "122                3.250000  \n",
       "124                3.991009  \n",
       "125                4.061484  \n",
       "126                3.413173  \n",
       "127                5.640218  \n",
       "128                3.853698  \n",
       "131                3.990397  \n",
       "133                4.155520  \n",
       "136                5.521110  \n",
       "137                5.455941  \n",
       "139                3.666633  \n",
       "142                3.708977  "
      ]
     },
     "execution_count": 15,
     "metadata": {},
     "output_type": "execute_result"
    }
   ],
   "source": [
    "# Calcular los límites de los valores atípicos\n",
    "# regla empírica, que establece que los valores atípicos se encuentran a más de 3 desviaciones estándar de la media.\n",
    "\n",
    "Q1_edad = df_global['G03Q01'].quantile(0.25)\n",
    "Q3_edad = df_global['G03Q01'].quantile(0.75)\n",
    "IQR_edad = Q3_edad - Q1_edad\n",
    "outlier_threshold_edad = Q3_edad + 1.5*IQR_edad\n",
    "\n",
    "Q1_intentos = df_global['intentos'].quantile(0.25)\n",
    "Q3_intentos = df_global['intentos'].quantile(0.75)\n",
    "IQR_intentos = Q3_intentos - Q1_intentos\n",
    "outlier_threshold_intentos = Q3_intentos + 1.5*IQR_intentos\n",
    "\n",
    "df = df_global[(df_global['G03Q01'] <= outlier_threshold_edad) & (df_global['intentos'] <= outlier_threshold_intentos) & (df_global['tiempo'] <= outlier_threshold_intentos)]\n",
    "\n",
    "# Crear una nueva columna que represente la mezcla al 50% de intentos y tiempo\n",
    "df['mezcla_intentos_tiempo'] = (df['intentos'] + df['tiempo']) / 2\n",
    "\n",
    "#df['mezcla_intentos_tiempo'] = df['intentos']*0.3 + df['tiempo']*0.7\n",
    "\n",
    "#df['mezcla_intentos_tiempo'] = df['intentos']*0.7 + df['tiempo']*0.3\n",
    "\n",
    "\n",
    "df\n"
   ]
  },
  {
   "cell_type": "code",
   "execution_count": 16,
   "metadata": {},
   "outputs": [
    {
     "data": {
      "application/vnd.plotly.v1+json": {
       "config": {
        "plotlyServerURL": "https://plot.ly"
       },
       "data": [
        {
         "hovertemplate": "edad_genero=%{x}<br>mezcla_intentos_tiempo=%{y}<br>intentos=%{marker.color}<extra></extra>",
         "legendgroup": "",
         "marker": {
          "color": [
           1.8857142857142857,
           2.423076923076923,
           2.0434782608695654,
           2.95,
           1.8928571428571428,
           2.7,
           2.6363636363636362,
           1.5161290322580645,
           1.5862068965517242,
           2.739130434782609,
           4.95,
           2.2857142857142856,
           5.555555555555555,
           2.3846153846153846,
           1.7142857142857142,
           3.1363636363636362,
           2.037037037037037,
           2,
           2.72,
           1.9130434782608696,
           1.5714285714285714,
           1.4,
           4.176470588235294,
           4.35,
           2.04,
           2.4782608695652173,
           4.666666666666667,
           3.2,
           3.142857142857143,
           1.8636363636363635,
           2.3181818181818183,
           4.5,
           2.4285714285714284,
           3.3529411764705883,
           2,
           4.045454545454546,
           1.7857142857142858,
           2.8636363636363638,
           1.52,
           4.476190476190476,
           2.736842105263158,
           3.6818181818181817,
           1.4,
           4.833333333333333,
           2.4857142857142858,
           5.052631578947368,
           3.8,
           1.6896551724137931,
           3.7037037037037037,
           4.083333333333333,
           2.25,
           2.5833333333333335,
           1.8148148148148149,
           3.9565217391304346,
           1.5333333333333334,
           2.45,
           2.2,
           1.2758620689655173,
           2.2962962962962963,
           1.9090909090909092,
           3.607142857142857,
           6.25,
           6.071428571428571,
           1.3333333333333333,
           3.6315789473684212,
           4.368421052631579,
           2.56,
           2.736842105263158,
           5.333333333333333,
           3.391304347826087,
           5.4,
           5.172413793103448,
           4.190476190476191,
           3.6666666666666665,
           3.130434782608696,
           1.5925925925925926,
           2,
           1.2692307692307692,
           3.0454545454545454,
           1.9259259259259258,
           6,
           2.3703703703703702,
           2.16,
           4.083333333333333,
           4.136363636363637,
           4.933333333333334,
           1.9259259259259258,
           2
          ],
          "coloraxis": "coloraxis",
          "opacity": 0.7,
          "size": [
           1.8857142857142857,
           2.423076923076923,
           2.0434782608695654,
           2.95,
           1.8928571428571428,
           2.7,
           2.6363636363636362,
           1.5161290322580645,
           1.5862068965517242,
           2.739130434782609,
           4.95,
           2.2857142857142856,
           5.555555555555555,
           2.3846153846153846,
           1.7142857142857142,
           3.1363636363636362,
           2.037037037037037,
           2,
           2.72,
           1.9130434782608696,
           1.5714285714285714,
           1.4,
           4.176470588235294,
           4.35,
           2.04,
           2.4782608695652173,
           4.666666666666667,
           3.2,
           3.142857142857143,
           1.8636363636363635,
           2.3181818181818183,
           4.5,
           2.4285714285714284,
           3.3529411764705883,
           2,
           4.045454545454546,
           1.7857142857142858,
           2.8636363636363638,
           1.52,
           4.476190476190476,
           2.736842105263158,
           3.6818181818181817,
           1.4,
           4.833333333333333,
           2.4857142857142858,
           5.052631578947368,
           3.8,
           1.6896551724137931,
           3.7037037037037037,
           4.083333333333333,
           2.25,
           2.5833333333333335,
           1.8148148148148149,
           3.9565217391304346,
           1.5333333333333334,
           2.45,
           2.2,
           1.2758620689655173,
           2.2962962962962963,
           1.9090909090909092,
           3.607142857142857,
           6.25,
           6.071428571428571,
           1.3333333333333333,
           3.6315789473684212,
           4.368421052631579,
           2.56,
           2.736842105263158,
           5.333333333333333,
           3.391304347826087,
           5.4,
           5.172413793103448,
           4.190476190476191,
           3.6666666666666665,
           3.130434782608696,
           1.5925925925925926,
           2,
           1.2692307692307692,
           3.0454545454545454,
           1.9259259259259258,
           6,
           2.3703703703703702,
           2.16,
           4.083333333333333,
           4.136363636363637,
           4.933333333333334,
           1.9259259259259258,
           2
          ],
          "sizemode": "area",
          "sizeref": 0.015625,
          "symbol": "circle"
         },
         "mode": "markers",
         "name": "",
         "orientation": "v",
         "showlegend": false,
         "type": "scatter",
         "x": [
          "Masculino 14",
          "Femenino 14",
          "Femenino 14",
          "Masculino 13",
          "Masculino 14",
          "Femenino 15",
          "Femenino 12",
          "Masculino 13",
          "Otro 14",
          "Femenino 13",
          "Masculino 14",
          "Femenino 13",
          "Masculino 12",
          "Masculino 14",
          "Masculino 14",
          "Masculino 14",
          "Femenino 12",
          "Femenino 15",
          "Masculino 13",
          "Masculino 13",
          "Masculino 14",
          "Masculino 13",
          "Femenino 14",
          "Femenino 15",
          "Masculino 13",
          "Femenino 14",
          "Femenino 13",
          "Otro 13",
          "Masculino 14",
          "Femenino 13",
          "Masculino 14",
          "Masculino 12",
          "Masculino 15",
          "Femenino 14",
          "Femenino 14",
          "Femenino 13",
          "Femenino 13",
          "Otro 13",
          "Femenino 12",
          "Femenino 12",
          "Masculino 14",
          "Femenino 12",
          "Masculino 15",
          "Femenino 15",
          "Masculino 14",
          "Masculino 12",
          "Masculino 13",
          "Masculino 13",
          "Femenino 14",
          "Femenino 12",
          "Masculino 13",
          "Masculino 13",
          "Masculino 13",
          "Masculino 13",
          "Otro 14",
          "Masculino 13",
          "Masculino 13",
          "Masculino 15",
          "Masculino 12",
          "Femenino 13",
          "Masculino 14",
          "Masculino 13",
          "Otro 12",
          "Masculino 13",
          "Masculino 14",
          "Femenino 14",
          "Masculino 15",
          "Femenino 13",
          "Masculino 14",
          "Masculino 13",
          "Masculino 13",
          "Masculino 14",
          "Otro 14",
          "Masculino 15",
          "Femenino 13",
          "Femenino 13",
          "Femenino 14",
          "Femenino 13",
          "Masculino 14",
          "Masculino 15",
          "Masculino 15",
          "Masculino 13",
          "Masculino 15",
          "Masculino 13",
          "Femenino 12",
          "Otro 15",
          "Femenino 15",
          "Femenino 14"
         ],
         "xaxis": "x",
         "y": [
          3.7762974376704825,
          3.8476235746774394,
          4.498318716818499,
          4.478459750766753,
          3.905673771277722,
          2.85,
          4.585304153570788,
          3.6999221058576577,
          4.05014017296438,
          3.983462483595032,
          4.913136551171123,
          3.892168267205256,
          5.974893162393162,
          4.514366515837104,
          3.2835776785116093,
          4.262255461938713,
          3.981949639793456,
          3.7952261753398115,
          4.629963332215181,
          4.061283036623024,
          2.9443715080919133,
          2.8890839007731755,
          5.413990045318827,
          4.024061264822134,
          3.6590268154490246,
          4.53071914208629,
          4.291666666666667,
          4.7815052523835835,
          3.8218055493567604,
          3.8587983443830356,
          3.1697223444491294,
          4.870762570762571,
          4.4268404427550765,
          4.166240260767063,
          3.8331050503483124,
          5.182102583888298,
          3.670560783068973,
          3.453125178681775,
          3.9468401106197444,
          4.0680358283472575,
          4.8685274496129765,
          4.793602086750379,
          2.7277695069158483,
          5.769345238095238,
          2.8750779842867233,
          6.019952290227831,
          4.734737698199236,
          3.7889425884531756,
          4.2781825260603386,
          4.530840201784902,
          3.8941645621312686,
          3.452638018978841,
          3.9096985025506736,
          4.393024347325616,
          3.2232874722065974,
          3.8908045482639135,
          3.3687232115442076,
          3.617065249385929,
          3.791086701763785,
          4.330294431159369,
          4.0721696517953525,
          6.375,
          5.854312453774819,
          3.6046713450493604,
          5.1256121248514255,
          4.439747874721476,
          4.286269639792529,
          4.725620367571301,
          4.811733730851378,
          4.274115448111612,
          4.925537893546345,
          3.834836745931321,
          4.289935937227986,
          4.109331434451543,
          4.289552435414442,
          3.292123102929845,
          3.25,
          3.991009488295957,
          4.0614844714109415,
          3.413173079736859,
          5.640217994548841,
          3.8536977447917953,
          3.9903970112102307,
          4.155520137101211,
          5.521109686864158,
          5.455940988835726,
          3.6666334345535483,
          3.708976540803121
         ],
         "yaxis": "y"
        }
       ],
       "layout": {
        "coloraxis": {
         "colorbar": {
          "title": {
           "text": "intentos"
          }
         },
         "colorscale": [
          [
           0,
           "#440154"
          ],
          [
           0.1111111111111111,
           "#482878"
          ],
          [
           0.2222222222222222,
           "#3e4989"
          ],
          [
           0.3333333333333333,
           "#31688e"
          ],
          [
           0.4444444444444444,
           "#26828e"
          ],
          [
           0.5555555555555556,
           "#1f9e89"
          ],
          [
           0.6666666666666666,
           "#35b779"
          ],
          [
           0.7777777777777778,
           "#6ece58"
          ],
          [
           0.8888888888888888,
           "#b5de2b"
          ],
          [
           1,
           "#fde725"
          ]
         ]
        },
        "height": 600,
        "legend": {
         "itemsizing": "constant",
         "tracegroupgap": 0
        },
        "margin": {
         "t": 60
        },
        "template": {
         "data": {
          "bar": [
           {
            "error_x": {
             "color": "#2a3f5f"
            },
            "error_y": {
             "color": "#2a3f5f"
            },
            "marker": {
             "line": {
              "color": "#E5ECF6",
              "width": 0.5
             },
             "pattern": {
              "fillmode": "overlay",
              "size": 10,
              "solidity": 0.2
             }
            },
            "type": "bar"
           }
          ],
          "barpolar": [
           {
            "marker": {
             "line": {
              "color": "#E5ECF6",
              "width": 0.5
             },
             "pattern": {
              "fillmode": "overlay",
              "size": 10,
              "solidity": 0.2
             }
            },
            "type": "barpolar"
           }
          ],
          "carpet": [
           {
            "aaxis": {
             "endlinecolor": "#2a3f5f",
             "gridcolor": "white",
             "linecolor": "white",
             "minorgridcolor": "white",
             "startlinecolor": "#2a3f5f"
            },
            "baxis": {
             "endlinecolor": "#2a3f5f",
             "gridcolor": "white",
             "linecolor": "white",
             "minorgridcolor": "white",
             "startlinecolor": "#2a3f5f"
            },
            "type": "carpet"
           }
          ],
          "choropleth": [
           {
            "colorbar": {
             "outlinewidth": 0,
             "ticks": ""
            },
            "type": "choropleth"
           }
          ],
          "contour": [
           {
            "colorbar": {
             "outlinewidth": 0,
             "ticks": ""
            },
            "colorscale": [
             [
              0,
              "#0d0887"
             ],
             [
              0.1111111111111111,
              "#46039f"
             ],
             [
              0.2222222222222222,
              "#7201a8"
             ],
             [
              0.3333333333333333,
              "#9c179e"
             ],
             [
              0.4444444444444444,
              "#bd3786"
             ],
             [
              0.5555555555555556,
              "#d8576b"
             ],
             [
              0.6666666666666666,
              "#ed7953"
             ],
             [
              0.7777777777777778,
              "#fb9f3a"
             ],
             [
              0.8888888888888888,
              "#fdca26"
             ],
             [
              1,
              "#f0f921"
             ]
            ],
            "type": "contour"
           }
          ],
          "contourcarpet": [
           {
            "colorbar": {
             "outlinewidth": 0,
             "ticks": ""
            },
            "type": "contourcarpet"
           }
          ],
          "heatmap": [
           {
            "colorbar": {
             "outlinewidth": 0,
             "ticks": ""
            },
            "colorscale": [
             [
              0,
              "#0d0887"
             ],
             [
              0.1111111111111111,
              "#46039f"
             ],
             [
              0.2222222222222222,
              "#7201a8"
             ],
             [
              0.3333333333333333,
              "#9c179e"
             ],
             [
              0.4444444444444444,
              "#bd3786"
             ],
             [
              0.5555555555555556,
              "#d8576b"
             ],
             [
              0.6666666666666666,
              "#ed7953"
             ],
             [
              0.7777777777777778,
              "#fb9f3a"
             ],
             [
              0.8888888888888888,
              "#fdca26"
             ],
             [
              1,
              "#f0f921"
             ]
            ],
            "type": "heatmap"
           }
          ],
          "heatmapgl": [
           {
            "colorbar": {
             "outlinewidth": 0,
             "ticks": ""
            },
            "colorscale": [
             [
              0,
              "#0d0887"
             ],
             [
              0.1111111111111111,
              "#46039f"
             ],
             [
              0.2222222222222222,
              "#7201a8"
             ],
             [
              0.3333333333333333,
              "#9c179e"
             ],
             [
              0.4444444444444444,
              "#bd3786"
             ],
             [
              0.5555555555555556,
              "#d8576b"
             ],
             [
              0.6666666666666666,
              "#ed7953"
             ],
             [
              0.7777777777777778,
              "#fb9f3a"
             ],
             [
              0.8888888888888888,
              "#fdca26"
             ],
             [
              1,
              "#f0f921"
             ]
            ],
            "type": "heatmapgl"
           }
          ],
          "histogram": [
           {
            "marker": {
             "pattern": {
              "fillmode": "overlay",
              "size": 10,
              "solidity": 0.2
             }
            },
            "type": "histogram"
           }
          ],
          "histogram2d": [
           {
            "colorbar": {
             "outlinewidth": 0,
             "ticks": ""
            },
            "colorscale": [
             [
              0,
              "#0d0887"
             ],
             [
              0.1111111111111111,
              "#46039f"
             ],
             [
              0.2222222222222222,
              "#7201a8"
             ],
             [
              0.3333333333333333,
              "#9c179e"
             ],
             [
              0.4444444444444444,
              "#bd3786"
             ],
             [
              0.5555555555555556,
              "#d8576b"
             ],
             [
              0.6666666666666666,
              "#ed7953"
             ],
             [
              0.7777777777777778,
              "#fb9f3a"
             ],
             [
              0.8888888888888888,
              "#fdca26"
             ],
             [
              1,
              "#f0f921"
             ]
            ],
            "type": "histogram2d"
           }
          ],
          "histogram2dcontour": [
           {
            "colorbar": {
             "outlinewidth": 0,
             "ticks": ""
            },
            "colorscale": [
             [
              0,
              "#0d0887"
             ],
             [
              0.1111111111111111,
              "#46039f"
             ],
             [
              0.2222222222222222,
              "#7201a8"
             ],
             [
              0.3333333333333333,
              "#9c179e"
             ],
             [
              0.4444444444444444,
              "#bd3786"
             ],
             [
              0.5555555555555556,
              "#d8576b"
             ],
             [
              0.6666666666666666,
              "#ed7953"
             ],
             [
              0.7777777777777778,
              "#fb9f3a"
             ],
             [
              0.8888888888888888,
              "#fdca26"
             ],
             [
              1,
              "#f0f921"
             ]
            ],
            "type": "histogram2dcontour"
           }
          ],
          "mesh3d": [
           {
            "colorbar": {
             "outlinewidth": 0,
             "ticks": ""
            },
            "type": "mesh3d"
           }
          ],
          "parcoords": [
           {
            "line": {
             "colorbar": {
              "outlinewidth": 0,
              "ticks": ""
             }
            },
            "type": "parcoords"
           }
          ],
          "pie": [
           {
            "automargin": true,
            "type": "pie"
           }
          ],
          "scatter": [
           {
            "fillpattern": {
             "fillmode": "overlay",
             "size": 10,
             "solidity": 0.2
            },
            "type": "scatter"
           }
          ],
          "scatter3d": [
           {
            "line": {
             "colorbar": {
              "outlinewidth": 0,
              "ticks": ""
             }
            },
            "marker": {
             "colorbar": {
              "outlinewidth": 0,
              "ticks": ""
             }
            },
            "type": "scatter3d"
           }
          ],
          "scattercarpet": [
           {
            "marker": {
             "colorbar": {
              "outlinewidth": 0,
              "ticks": ""
             }
            },
            "type": "scattercarpet"
           }
          ],
          "scattergeo": [
           {
            "marker": {
             "colorbar": {
              "outlinewidth": 0,
              "ticks": ""
             }
            },
            "type": "scattergeo"
           }
          ],
          "scattergl": [
           {
            "marker": {
             "colorbar": {
              "outlinewidth": 0,
              "ticks": ""
             }
            },
            "type": "scattergl"
           }
          ],
          "scattermapbox": [
           {
            "marker": {
             "colorbar": {
              "outlinewidth": 0,
              "ticks": ""
             }
            },
            "type": "scattermapbox"
           }
          ],
          "scatterpolar": [
           {
            "marker": {
             "colorbar": {
              "outlinewidth": 0,
              "ticks": ""
             }
            },
            "type": "scatterpolar"
           }
          ],
          "scatterpolargl": [
           {
            "marker": {
             "colorbar": {
              "outlinewidth": 0,
              "ticks": ""
             }
            },
            "type": "scatterpolargl"
           }
          ],
          "scatterternary": [
           {
            "marker": {
             "colorbar": {
              "outlinewidth": 0,
              "ticks": ""
             }
            },
            "type": "scatterternary"
           }
          ],
          "surface": [
           {
            "colorbar": {
             "outlinewidth": 0,
             "ticks": ""
            },
            "colorscale": [
             [
              0,
              "#0d0887"
             ],
             [
              0.1111111111111111,
              "#46039f"
             ],
             [
              0.2222222222222222,
              "#7201a8"
             ],
             [
              0.3333333333333333,
              "#9c179e"
             ],
             [
              0.4444444444444444,
              "#bd3786"
             ],
             [
              0.5555555555555556,
              "#d8576b"
             ],
             [
              0.6666666666666666,
              "#ed7953"
             ],
             [
              0.7777777777777778,
              "#fb9f3a"
             ],
             [
              0.8888888888888888,
              "#fdca26"
             ],
             [
              1,
              "#f0f921"
             ]
            ],
            "type": "surface"
           }
          ],
          "table": [
           {
            "cells": {
             "fill": {
              "color": "#EBF0F8"
             },
             "line": {
              "color": "white"
             }
            },
            "header": {
             "fill": {
              "color": "#C8D4E3"
             },
             "line": {
              "color": "white"
             }
            },
            "type": "table"
           }
          ]
         },
         "layout": {
          "annotationdefaults": {
           "arrowcolor": "#2a3f5f",
           "arrowhead": 0,
           "arrowwidth": 1
          },
          "autotypenumbers": "strict",
          "coloraxis": {
           "colorbar": {
            "outlinewidth": 0,
            "ticks": ""
           }
          },
          "colorscale": {
           "diverging": [
            [
             0,
             "#8e0152"
            ],
            [
             0.1,
             "#c51b7d"
            ],
            [
             0.2,
             "#de77ae"
            ],
            [
             0.3,
             "#f1b6da"
            ],
            [
             0.4,
             "#fde0ef"
            ],
            [
             0.5,
             "#f7f7f7"
            ],
            [
             0.6,
             "#e6f5d0"
            ],
            [
             0.7,
             "#b8e186"
            ],
            [
             0.8,
             "#7fbc41"
            ],
            [
             0.9,
             "#4d9221"
            ],
            [
             1,
             "#276419"
            ]
           ],
           "sequential": [
            [
             0,
             "#0d0887"
            ],
            [
             0.1111111111111111,
             "#46039f"
            ],
            [
             0.2222222222222222,
             "#7201a8"
            ],
            [
             0.3333333333333333,
             "#9c179e"
            ],
            [
             0.4444444444444444,
             "#bd3786"
            ],
            [
             0.5555555555555556,
             "#d8576b"
            ],
            [
             0.6666666666666666,
             "#ed7953"
            ],
            [
             0.7777777777777778,
             "#fb9f3a"
            ],
            [
             0.8888888888888888,
             "#fdca26"
            ],
            [
             1,
             "#f0f921"
            ]
           ],
           "sequentialminus": [
            [
             0,
             "#0d0887"
            ],
            [
             0.1111111111111111,
             "#46039f"
            ],
            [
             0.2222222222222222,
             "#7201a8"
            ],
            [
             0.3333333333333333,
             "#9c179e"
            ],
            [
             0.4444444444444444,
             "#bd3786"
            ],
            [
             0.5555555555555556,
             "#d8576b"
            ],
            [
             0.6666666666666666,
             "#ed7953"
            ],
            [
             0.7777777777777778,
             "#fb9f3a"
            ],
            [
             0.8888888888888888,
             "#fdca26"
            ],
            [
             1,
             "#f0f921"
            ]
           ]
          },
          "colorway": [
           "#636efa",
           "#EF553B",
           "#00cc96",
           "#ab63fa",
           "#FFA15A",
           "#19d3f3",
           "#FF6692",
           "#B6E880",
           "#FF97FF",
           "#FECB52"
          ],
          "font": {
           "color": "#2a3f5f"
          },
          "geo": {
           "bgcolor": "white",
           "lakecolor": "white",
           "landcolor": "#E5ECF6",
           "showlakes": true,
           "showland": true,
           "subunitcolor": "white"
          },
          "hoverlabel": {
           "align": "left"
          },
          "hovermode": "closest",
          "mapbox": {
           "style": "light"
          },
          "paper_bgcolor": "white",
          "plot_bgcolor": "#E5ECF6",
          "polar": {
           "angularaxis": {
            "gridcolor": "white",
            "linecolor": "white",
            "ticks": ""
           },
           "bgcolor": "#E5ECF6",
           "radialaxis": {
            "gridcolor": "white",
            "linecolor": "white",
            "ticks": ""
           }
          },
          "scene": {
           "xaxis": {
            "backgroundcolor": "#E5ECF6",
            "gridcolor": "white",
            "gridwidth": 2,
            "linecolor": "white",
            "showbackground": true,
            "ticks": "",
            "zerolinecolor": "white"
           },
           "yaxis": {
            "backgroundcolor": "#E5ECF6",
            "gridcolor": "white",
            "gridwidth": 2,
            "linecolor": "white",
            "showbackground": true,
            "ticks": "",
            "zerolinecolor": "white"
           },
           "zaxis": {
            "backgroundcolor": "#E5ECF6",
            "gridcolor": "white",
            "gridwidth": 2,
            "linecolor": "white",
            "showbackground": true,
            "ticks": "",
            "zerolinecolor": "white"
           }
          },
          "shapedefaults": {
           "line": {
            "color": "#2a3f5f"
           }
          },
          "ternary": {
           "aaxis": {
            "gridcolor": "white",
            "linecolor": "white",
            "ticks": ""
           },
           "baxis": {
            "gridcolor": "white",
            "linecolor": "white",
            "ticks": ""
           },
           "bgcolor": "#E5ECF6",
           "caxis": {
            "gridcolor": "white",
            "linecolor": "white",
            "ticks": ""
           }
          },
          "title": {
           "x": 0.05
          },
          "xaxis": {
           "automargin": true,
           "gridcolor": "white",
           "linecolor": "white",
           "ticks": "",
           "title": {
            "standoff": 15
           },
           "zerolinecolor": "white",
           "zerolinewidth": 2
          },
          "yaxis": {
           "automargin": true,
           "gridcolor": "white",
           "linecolor": "white",
           "ticks": "",
           "title": {
            "standoff": 15
           },
           "zerolinecolor": "white",
           "zerolinewidth": 2
          }
         }
        },
        "width": 800,
        "xaxis": {
         "anchor": "y",
         "domain": [
          0,
          1
         ],
         "title": {
          "text": "Edad_Genero"
         }
        },
        "yaxis": {
         "anchor": "x",
         "domain": [
          0,
          1
         ],
         "title": {
          "text": "Mezcla de Intentos y Tiempo"
         }
        }
       }
      }
     },
     "metadata": {},
     "output_type": "display_data"
    }
   ],
   "source": [
    "# Crear gráfica 2D\n",
    "fig = px.scatter(df, x='edad_genero', y='mezcla_intentos_tiempo', color='intentos', size='intentos',\n",
    "                 opacity=0.7, color_continuous_scale='viridis')\n",
    "\n",
    "# Configurar layout\n",
    "fig.update_layout(xaxis_title='Edad_Genero', yaxis_title='Mezcla de Intentos y Tiempo', width=800, height=600)\n",
    "\n",
    "# Mostrar gráfica\n",
    "fig.show()\n",
    "\n",
    "\n"
   ]
  },
  {
   "attachments": {},
   "cell_type": "markdown",
   "metadata": {},
   "source": [
    "# con KMeans:"
   ]
  },
  {
   "cell_type": "code",
   "execution_count": 17,
   "metadata": {},
   "outputs": [
    {
     "name": "stderr",
     "output_type": "stream",
     "text": [
      "C:\\Users\\david\\AppData\\Local\\Temp\\ipykernel_24608\\128020466.py:7: SettingWithCopyWarning:\n",
      "\n",
      "\n",
      "A value is trying to be set on a copy of a slice from a DataFrame.\n",
      "Try using .loc[row_indexer,col_indexer] = value instead\n",
      "\n",
      "See the caveats in the documentation: https://pandas.pydata.org/pandas-docs/stable/user_guide/indexing.html#returning-a-view-versus-a-copy\n",
      "\n",
      "C:\\Users\\david\\AppData\\Roaming\\Python\\Python311\\site-packages\\sklearn\\cluster\\_kmeans.py:1366: FutureWarning:\n",
      "\n",
      "algorithm='full' is deprecated, it will be removed in 1.3. Using 'lloyd' instead.\n",
      "\n"
     ]
    },
    {
     "data": {
      "application/vnd.plotly.v1+json": {
       "config": {
        "plotlyServerURL": "https://plot.ly"
       },
       "data": [
        {
         "marker": {
          "color": [
           3,
           3,
           5,
           5,
           3,
           2,
           5,
           3,
           4,
           4,
           5,
           4,
           1,
           5,
           2,
           5,
           3,
           3,
           5,
           3,
           2,
           2,
           5,
           3,
           3,
           5,
           4,
           4,
           3,
           4,
           2,
           1,
           4,
           3,
           3,
           1,
           4,
           4,
           3,
           3,
           5,
           5,
           4,
           1,
           2,
           1,
           5,
           3,
           5,
           5,
           3,
           2,
           3,
           5,
           2,
           3,
           2,
           4,
           4,
           4,
           3,
           1,
           1,
           3,
           5,
           5,
           4,
           4,
           5,
           3,
           5,
           3,
           4,
           4,
           4,
           4,
           2,
           4,
           3,
           4,
           1,
           3,
           4,
           3,
           1,
           1,
           3,
           3
          ],
          "colorscale": [
           [
            0,
            "#440154"
           ],
           [
            0.1111111111111111,
            "#482878"
           ],
           [
            0.2222222222222222,
            "#3e4989"
           ],
           [
            0.3333333333333333,
            "#31688e"
           ],
           [
            0.4444444444444444,
            "#26828e"
           ],
           [
            0.5555555555555556,
            "#1f9e89"
           ],
           [
            0.6666666666666666,
            "#35b779"
           ],
           [
            0.7777777777777778,
            "#6ece58"
           ],
           [
            0.8888888888888888,
            "#b5de2b"
           ],
           [
            1,
            "#fde725"
           ]
          ],
          "opacity": 0.8,
          "size": 10
         },
         "mode": "markers",
         "type": "scatter",
         "x": [
          "Masculino 14",
          "Femenino 14",
          "Femenino 14",
          "Masculino 13",
          "Masculino 14",
          "Femenino 15",
          "Femenino 12",
          "Masculino 13",
          "Otro 14",
          "Femenino 13",
          "Masculino 14",
          "Femenino 13",
          "Masculino 12",
          "Masculino 14",
          "Masculino 14",
          "Masculino 14",
          "Femenino 12",
          "Femenino 15",
          "Masculino 13",
          "Masculino 13",
          "Masculino 14",
          "Masculino 13",
          "Femenino 14",
          "Femenino 15",
          "Masculino 13",
          "Femenino 14",
          "Femenino 13",
          "Otro 13",
          "Masculino 14",
          "Femenino 13",
          "Masculino 14",
          "Masculino 12",
          "Masculino 15",
          "Femenino 14",
          "Femenino 14",
          "Femenino 13",
          "Femenino 13",
          "Otro 13",
          "Femenino 12",
          "Femenino 12",
          "Masculino 14",
          "Femenino 12",
          "Masculino 15",
          "Femenino 15",
          "Masculino 14",
          "Masculino 12",
          "Masculino 13",
          "Masculino 13",
          "Femenino 14",
          "Femenino 12",
          "Masculino 13",
          "Masculino 13",
          "Masculino 13",
          "Masculino 13",
          "Otro 14",
          "Masculino 13",
          "Masculino 13",
          "Masculino 15",
          "Masculino 12",
          "Femenino 13",
          "Masculino 14",
          "Masculino 13",
          "Otro 12",
          "Masculino 13",
          "Masculino 14",
          "Femenino 14",
          "Masculino 15",
          "Femenino 13",
          "Masculino 14",
          "Masculino 13",
          "Masculino 13",
          "Masculino 14",
          "Otro 14",
          "Masculino 15",
          "Femenino 13",
          "Femenino 13",
          "Femenino 14",
          "Femenino 13",
          "Masculino 14",
          "Masculino 15",
          "Masculino 15",
          "Masculino 13",
          "Masculino 15",
          "Masculino 13",
          "Femenino 12",
          "Otro 15",
          "Femenino 15",
          "Femenino 14"
         ],
         "y": [
          3.7762974376704825,
          3.8476235746774394,
          4.498318716818499,
          4.478459750766753,
          3.905673771277722,
          2.85,
          4.585304153570788,
          3.6999221058576577,
          4.05014017296438,
          3.983462483595032,
          4.913136551171123,
          3.892168267205256,
          5.974893162393162,
          4.514366515837104,
          3.2835776785116093,
          4.262255461938713,
          3.981949639793456,
          3.7952261753398115,
          4.629963332215181,
          4.061283036623024,
          2.9443715080919133,
          2.8890839007731755,
          5.413990045318827,
          4.024061264822134,
          3.6590268154490246,
          4.53071914208629,
          4.291666666666667,
          4.7815052523835835,
          3.8218055493567604,
          3.8587983443830356,
          3.1697223444491294,
          4.870762570762571,
          4.4268404427550765,
          4.166240260767063,
          3.8331050503483124,
          5.182102583888298,
          3.670560783068973,
          3.453125178681775,
          3.9468401106197444,
          4.0680358283472575,
          4.8685274496129765,
          4.793602086750379,
          2.7277695069158483,
          5.769345238095238,
          2.8750779842867233,
          6.019952290227831,
          4.734737698199236,
          3.7889425884531756,
          4.2781825260603386,
          4.530840201784902,
          3.8941645621312686,
          3.452638018978841,
          3.9096985025506736,
          4.393024347325616,
          3.2232874722065974,
          3.8908045482639135,
          3.3687232115442076,
          3.617065249385929,
          3.791086701763785,
          4.330294431159369,
          4.0721696517953525,
          6.375,
          5.854312453774819,
          3.6046713450493604,
          5.1256121248514255,
          4.439747874721476,
          4.286269639792529,
          4.725620367571301,
          4.811733730851378,
          4.274115448111612,
          4.925537893546345,
          3.834836745931321,
          4.289935937227986,
          4.109331434451543,
          4.289552435414442,
          3.292123102929845,
          3.25,
          3.991009488295957,
          4.0614844714109415,
          3.413173079736859,
          5.640217994548841,
          3.8536977447917953,
          3.9903970112102307,
          4.155520137101211,
          5.521109686864158,
          5.455940988835726,
          3.6666334345535483,
          3.708976540803121
         ]
        }
       ],
       "layout": {
        "height": 600,
        "template": {
         "data": {
          "bar": [
           {
            "error_x": {
             "color": "#2a3f5f"
            },
            "error_y": {
             "color": "#2a3f5f"
            },
            "marker": {
             "line": {
              "color": "#E5ECF6",
              "width": 0.5
             },
             "pattern": {
              "fillmode": "overlay",
              "size": 10,
              "solidity": 0.2
             }
            },
            "type": "bar"
           }
          ],
          "barpolar": [
           {
            "marker": {
             "line": {
              "color": "#E5ECF6",
              "width": 0.5
             },
             "pattern": {
              "fillmode": "overlay",
              "size": 10,
              "solidity": 0.2
             }
            },
            "type": "barpolar"
           }
          ],
          "carpet": [
           {
            "aaxis": {
             "endlinecolor": "#2a3f5f",
             "gridcolor": "white",
             "linecolor": "white",
             "minorgridcolor": "white",
             "startlinecolor": "#2a3f5f"
            },
            "baxis": {
             "endlinecolor": "#2a3f5f",
             "gridcolor": "white",
             "linecolor": "white",
             "minorgridcolor": "white",
             "startlinecolor": "#2a3f5f"
            },
            "type": "carpet"
           }
          ],
          "choropleth": [
           {
            "colorbar": {
             "outlinewidth": 0,
             "ticks": ""
            },
            "type": "choropleth"
           }
          ],
          "contour": [
           {
            "colorbar": {
             "outlinewidth": 0,
             "ticks": ""
            },
            "colorscale": [
             [
              0,
              "#0d0887"
             ],
             [
              0.1111111111111111,
              "#46039f"
             ],
             [
              0.2222222222222222,
              "#7201a8"
             ],
             [
              0.3333333333333333,
              "#9c179e"
             ],
             [
              0.4444444444444444,
              "#bd3786"
             ],
             [
              0.5555555555555556,
              "#d8576b"
             ],
             [
              0.6666666666666666,
              "#ed7953"
             ],
             [
              0.7777777777777778,
              "#fb9f3a"
             ],
             [
              0.8888888888888888,
              "#fdca26"
             ],
             [
              1,
              "#f0f921"
             ]
            ],
            "type": "contour"
           }
          ],
          "contourcarpet": [
           {
            "colorbar": {
             "outlinewidth": 0,
             "ticks": ""
            },
            "type": "contourcarpet"
           }
          ],
          "heatmap": [
           {
            "colorbar": {
             "outlinewidth": 0,
             "ticks": ""
            },
            "colorscale": [
             [
              0,
              "#0d0887"
             ],
             [
              0.1111111111111111,
              "#46039f"
             ],
             [
              0.2222222222222222,
              "#7201a8"
             ],
             [
              0.3333333333333333,
              "#9c179e"
             ],
             [
              0.4444444444444444,
              "#bd3786"
             ],
             [
              0.5555555555555556,
              "#d8576b"
             ],
             [
              0.6666666666666666,
              "#ed7953"
             ],
             [
              0.7777777777777778,
              "#fb9f3a"
             ],
             [
              0.8888888888888888,
              "#fdca26"
             ],
             [
              1,
              "#f0f921"
             ]
            ],
            "type": "heatmap"
           }
          ],
          "heatmapgl": [
           {
            "colorbar": {
             "outlinewidth": 0,
             "ticks": ""
            },
            "colorscale": [
             [
              0,
              "#0d0887"
             ],
             [
              0.1111111111111111,
              "#46039f"
             ],
             [
              0.2222222222222222,
              "#7201a8"
             ],
             [
              0.3333333333333333,
              "#9c179e"
             ],
             [
              0.4444444444444444,
              "#bd3786"
             ],
             [
              0.5555555555555556,
              "#d8576b"
             ],
             [
              0.6666666666666666,
              "#ed7953"
             ],
             [
              0.7777777777777778,
              "#fb9f3a"
             ],
             [
              0.8888888888888888,
              "#fdca26"
             ],
             [
              1,
              "#f0f921"
             ]
            ],
            "type": "heatmapgl"
           }
          ],
          "histogram": [
           {
            "marker": {
             "pattern": {
              "fillmode": "overlay",
              "size": 10,
              "solidity": 0.2
             }
            },
            "type": "histogram"
           }
          ],
          "histogram2d": [
           {
            "colorbar": {
             "outlinewidth": 0,
             "ticks": ""
            },
            "colorscale": [
             [
              0,
              "#0d0887"
             ],
             [
              0.1111111111111111,
              "#46039f"
             ],
             [
              0.2222222222222222,
              "#7201a8"
             ],
             [
              0.3333333333333333,
              "#9c179e"
             ],
             [
              0.4444444444444444,
              "#bd3786"
             ],
             [
              0.5555555555555556,
              "#d8576b"
             ],
             [
              0.6666666666666666,
              "#ed7953"
             ],
             [
              0.7777777777777778,
              "#fb9f3a"
             ],
             [
              0.8888888888888888,
              "#fdca26"
             ],
             [
              1,
              "#f0f921"
             ]
            ],
            "type": "histogram2d"
           }
          ],
          "histogram2dcontour": [
           {
            "colorbar": {
             "outlinewidth": 0,
             "ticks": ""
            },
            "colorscale": [
             [
              0,
              "#0d0887"
             ],
             [
              0.1111111111111111,
              "#46039f"
             ],
             [
              0.2222222222222222,
              "#7201a8"
             ],
             [
              0.3333333333333333,
              "#9c179e"
             ],
             [
              0.4444444444444444,
              "#bd3786"
             ],
             [
              0.5555555555555556,
              "#d8576b"
             ],
             [
              0.6666666666666666,
              "#ed7953"
             ],
             [
              0.7777777777777778,
              "#fb9f3a"
             ],
             [
              0.8888888888888888,
              "#fdca26"
             ],
             [
              1,
              "#f0f921"
             ]
            ],
            "type": "histogram2dcontour"
           }
          ],
          "mesh3d": [
           {
            "colorbar": {
             "outlinewidth": 0,
             "ticks": ""
            },
            "type": "mesh3d"
           }
          ],
          "parcoords": [
           {
            "line": {
             "colorbar": {
              "outlinewidth": 0,
              "ticks": ""
             }
            },
            "type": "parcoords"
           }
          ],
          "pie": [
           {
            "automargin": true,
            "type": "pie"
           }
          ],
          "scatter": [
           {
            "fillpattern": {
             "fillmode": "overlay",
             "size": 10,
             "solidity": 0.2
            },
            "type": "scatter"
           }
          ],
          "scatter3d": [
           {
            "line": {
             "colorbar": {
              "outlinewidth": 0,
              "ticks": ""
             }
            },
            "marker": {
             "colorbar": {
              "outlinewidth": 0,
              "ticks": ""
             }
            },
            "type": "scatter3d"
           }
          ],
          "scattercarpet": [
           {
            "marker": {
             "colorbar": {
              "outlinewidth": 0,
              "ticks": ""
             }
            },
            "type": "scattercarpet"
           }
          ],
          "scattergeo": [
           {
            "marker": {
             "colorbar": {
              "outlinewidth": 0,
              "ticks": ""
             }
            },
            "type": "scattergeo"
           }
          ],
          "scattergl": [
           {
            "marker": {
             "colorbar": {
              "outlinewidth": 0,
              "ticks": ""
             }
            },
            "type": "scattergl"
           }
          ],
          "scattermapbox": [
           {
            "marker": {
             "colorbar": {
              "outlinewidth": 0,
              "ticks": ""
             }
            },
            "type": "scattermapbox"
           }
          ],
          "scatterpolar": [
           {
            "marker": {
             "colorbar": {
              "outlinewidth": 0,
              "ticks": ""
             }
            },
            "type": "scatterpolar"
           }
          ],
          "scatterpolargl": [
           {
            "marker": {
             "colorbar": {
              "outlinewidth": 0,
              "ticks": ""
             }
            },
            "type": "scatterpolargl"
           }
          ],
          "scatterternary": [
           {
            "marker": {
             "colorbar": {
              "outlinewidth": 0,
              "ticks": ""
             }
            },
            "type": "scatterternary"
           }
          ],
          "surface": [
           {
            "colorbar": {
             "outlinewidth": 0,
             "ticks": ""
            },
            "colorscale": [
             [
              0,
              "#0d0887"
             ],
             [
              0.1111111111111111,
              "#46039f"
             ],
             [
              0.2222222222222222,
              "#7201a8"
             ],
             [
              0.3333333333333333,
              "#9c179e"
             ],
             [
              0.4444444444444444,
              "#bd3786"
             ],
             [
              0.5555555555555556,
              "#d8576b"
             ],
             [
              0.6666666666666666,
              "#ed7953"
             ],
             [
              0.7777777777777778,
              "#fb9f3a"
             ],
             [
              0.8888888888888888,
              "#fdca26"
             ],
             [
              1,
              "#f0f921"
             ]
            ],
            "type": "surface"
           }
          ],
          "table": [
           {
            "cells": {
             "fill": {
              "color": "#EBF0F8"
             },
             "line": {
              "color": "white"
             }
            },
            "header": {
             "fill": {
              "color": "#C8D4E3"
             },
             "line": {
              "color": "white"
             }
            },
            "type": "table"
           }
          ]
         },
         "layout": {
          "annotationdefaults": {
           "arrowcolor": "#2a3f5f",
           "arrowhead": 0,
           "arrowwidth": 1
          },
          "autotypenumbers": "strict",
          "coloraxis": {
           "colorbar": {
            "outlinewidth": 0,
            "ticks": ""
           }
          },
          "colorscale": {
           "diverging": [
            [
             0,
             "#8e0152"
            ],
            [
             0.1,
             "#c51b7d"
            ],
            [
             0.2,
             "#de77ae"
            ],
            [
             0.3,
             "#f1b6da"
            ],
            [
             0.4,
             "#fde0ef"
            ],
            [
             0.5,
             "#f7f7f7"
            ],
            [
             0.6,
             "#e6f5d0"
            ],
            [
             0.7,
             "#b8e186"
            ],
            [
             0.8,
             "#7fbc41"
            ],
            [
             0.9,
             "#4d9221"
            ],
            [
             1,
             "#276419"
            ]
           ],
           "sequential": [
            [
             0,
             "#0d0887"
            ],
            [
             0.1111111111111111,
             "#46039f"
            ],
            [
             0.2222222222222222,
             "#7201a8"
            ],
            [
             0.3333333333333333,
             "#9c179e"
            ],
            [
             0.4444444444444444,
             "#bd3786"
            ],
            [
             0.5555555555555556,
             "#d8576b"
            ],
            [
             0.6666666666666666,
             "#ed7953"
            ],
            [
             0.7777777777777778,
             "#fb9f3a"
            ],
            [
             0.8888888888888888,
             "#fdca26"
            ],
            [
             1,
             "#f0f921"
            ]
           ],
           "sequentialminus": [
            [
             0,
             "#0d0887"
            ],
            [
             0.1111111111111111,
             "#46039f"
            ],
            [
             0.2222222222222222,
             "#7201a8"
            ],
            [
             0.3333333333333333,
             "#9c179e"
            ],
            [
             0.4444444444444444,
             "#bd3786"
            ],
            [
             0.5555555555555556,
             "#d8576b"
            ],
            [
             0.6666666666666666,
             "#ed7953"
            ],
            [
             0.7777777777777778,
             "#fb9f3a"
            ],
            [
             0.8888888888888888,
             "#fdca26"
            ],
            [
             1,
             "#f0f921"
            ]
           ]
          },
          "colorway": [
           "#636efa",
           "#EF553B",
           "#00cc96",
           "#ab63fa",
           "#FFA15A",
           "#19d3f3",
           "#FF6692",
           "#B6E880",
           "#FF97FF",
           "#FECB52"
          ],
          "font": {
           "color": "#2a3f5f"
          },
          "geo": {
           "bgcolor": "white",
           "lakecolor": "white",
           "landcolor": "#E5ECF6",
           "showlakes": true,
           "showland": true,
           "subunitcolor": "white"
          },
          "hoverlabel": {
           "align": "left"
          },
          "hovermode": "closest",
          "mapbox": {
           "style": "light"
          },
          "paper_bgcolor": "white",
          "plot_bgcolor": "#E5ECF6",
          "polar": {
           "angularaxis": {
            "gridcolor": "white",
            "linecolor": "white",
            "ticks": ""
           },
           "bgcolor": "#E5ECF6",
           "radialaxis": {
            "gridcolor": "white",
            "linecolor": "white",
            "ticks": ""
           }
          },
          "scene": {
           "xaxis": {
            "backgroundcolor": "#E5ECF6",
            "gridcolor": "white",
            "gridwidth": 2,
            "linecolor": "white",
            "showbackground": true,
            "ticks": "",
            "zerolinecolor": "white"
           },
           "yaxis": {
            "backgroundcolor": "#E5ECF6",
            "gridcolor": "white",
            "gridwidth": 2,
            "linecolor": "white",
            "showbackground": true,
            "ticks": "",
            "zerolinecolor": "white"
           },
           "zaxis": {
            "backgroundcolor": "#E5ECF6",
            "gridcolor": "white",
            "gridwidth": 2,
            "linecolor": "white",
            "showbackground": true,
            "ticks": "",
            "zerolinecolor": "white"
           }
          },
          "shapedefaults": {
           "line": {
            "color": "#2a3f5f"
           }
          },
          "ternary": {
           "aaxis": {
            "gridcolor": "white",
            "linecolor": "white",
            "ticks": ""
           },
           "baxis": {
            "gridcolor": "white",
            "linecolor": "white",
            "ticks": ""
           },
           "bgcolor": "#E5ECF6",
           "caxis": {
            "gridcolor": "white",
            "linecolor": "white",
            "ticks": ""
           }
          },
          "title": {
           "x": 0.05
          },
          "xaxis": {
           "automargin": true,
           "gridcolor": "white",
           "linecolor": "white",
           "ticks": "",
           "title": {
            "standoff": 15
           },
           "zerolinecolor": "white",
           "zerolinewidth": 2
          },
          "yaxis": {
           "automargin": true,
           "gridcolor": "white",
           "linecolor": "white",
           "ticks": "",
           "title": {
            "standoff": 15
           },
           "zerolinecolor": "white",
           "zerolinewidth": 2
          }
         }
        },
        "title": {
         "text": "Clustering de intentos"
        },
        "width": 800,
        "xaxis": {
         "title": {
          "text": "Edad_Genero"
         }
        },
        "yaxis": {
         "title": {
          "text": "Mezcla de Intentos y Tiempo"
         }
        }
       }
      }
     },
     "metadata": {},
     "output_type": "display_data"
    }
   ],
   "source": [
    "from sklearn.cluster import KMeans\n",
    "\n",
    "# Crear un diccionario que asigne una etiqueta numérica única a cada combinación única de edad y género en la columna 'edad_genero'\n",
    "etiquetas_edad_genero = {valor: indice for indice, valor in enumerate(df['edad_genero'].unique())}\n",
    "\n",
    "# Convertir los valores de la columna 'edad_genero' en valores numéricos utilizando el diccionario de etiquetas\n",
    "df['edad_genero_num'] = df['edad_genero'].apply(lambda x: etiquetas_edad_genero[x])\n",
    "\n",
    "#Coger las columnas necesarias para crear la matriz de características\n",
    "matriz_caracteristicas = df[['edad_genero_num', 'mezcla_intentos_tiempo']].values\n",
    "\n",
    "# Normalizar los datos\n",
    "matriz_caracteristicas_norm = StandardScaler().fit_transform(matriz_caracteristicas)\n",
    "\n",
    "# Definimos o número de iteracións\n",
    "n_iter = 20\n",
    "\n",
    "# Obtemos os mesmos centroides iniciais que antes\n",
    "SEED_VALUE = 190463  # NON CAMBIES ESTE SEED, así todos teremos os mesmos resultados\n",
    "np.random.seed(SEED_VALUE)\n",
    "centr_iniciais = matriz_caracteristicas_norm[np.random.choice(matriz_caracteristicas_norm.shape[0], size=5, replace=False)]\n",
    "\n",
    "# Definimos o modelo\n",
    "model = KMeans(n_clusters=len(centr_iniciais), init=centr_iniciais, n_init=1,\n",
    "            max_iter=n_iter, algorithm='full', random_state=SEED_VALUE)\n",
    "\n",
    "# Axustamos o modelo aos datos\n",
    "np.random.seed(SEED_VALUE)\n",
    "#df\n",
    "agrupamento = model.fit(matriz_caracteristicas_norm)\n",
    "\n",
    "# Crear la figura\n",
    "fig = go.Figure(data=[go.Scatter(x=df['edad_genero'], y=df['mezcla_intentos_tiempo'], mode='markers',\n",
    "                                 marker=dict(size=10, color=agrupamento.labels_ + 1, opacity=0.8,\n",
    "                                             colorscale='Viridis'))])\n",
    "\n",
    "# Configurar layout\n",
    "fig.update_layout(title='Clustering de intentos',\n",
    "                  xaxis_title='Edad_Genero',\n",
    "                  yaxis_title='Mezcla de Intentos y Tiempo',\n",
    "                  width=800, height=600)\n",
    "\n",
    "# Mostrar gráfica\n",
    "fig.show()\n"
   ]
  },
  {
   "attachments": {},
   "cell_type": "markdown",
   "metadata": {},
   "source": [
    "# con DBSCAN:"
   ]
  },
  {
   "cell_type": "code",
   "execution_count": 18,
   "metadata": {},
   "outputs": [
    {
     "name": "stderr",
     "output_type": "stream",
     "text": [
      "C:\\Users\\david\\AppData\\Local\\Temp\\ipykernel_24608\\1425290862.py:5: SettingWithCopyWarning:\n",
      "\n",
      "\n",
      "A value is trying to be set on a copy of a slice from a DataFrame.\n",
      "Try using .loc[row_indexer,col_indexer] = value instead\n",
      "\n",
      "See the caveats in the documentation: https://pandas.pydata.org/pandas-docs/stable/user_guide/indexing.html#returning-a-view-versus-a-copy\n",
      "\n"
     ]
    },
    {
     "data": {
      "application/vnd.plotly.v1+json": {
       "config": {
        "plotlyServerURL": "https://plot.ly"
       },
       "data": [
        {
         "marker": {
          "color": [
           1,
           2,
           2,
           3,
           1,
           0,
           4,
           3,
           0,
           5,
           1,
           5,
           0,
           1,
           1,
           1,
           4,
           0,
           3,
           3,
           1,
           3,
           0,
           0,
           3,
           2,
           5,
           0,
           1,
           5,
           1,
           0,
           6,
           2,
           2,
           5,
           5,
           0,
           4,
           4,
           1,
           4,
           6,
           0,
           1,
           0,
           3,
           3,
           2,
           4,
           3,
           3,
           3,
           3,
           0,
           3,
           3,
           6,
           0,
           5,
           1,
           0,
           0,
           3,
           1,
           2,
           6,
           5,
           1,
           3,
           3,
           1,
           0,
           6,
           5,
           5,
           2,
           5,
           1,
           6,
           0,
           3,
           6,
           3,
           0,
           0,
           0,
           2
          ],
          "colorscale": [
           [
            0,
            "#440154"
           ],
           [
            0.1111111111111111,
            "#482878"
           ],
           [
            0.2222222222222222,
            "#3e4989"
           ],
           [
            0.3333333333333333,
            "#31688e"
           ],
           [
            0.4444444444444444,
            "#26828e"
           ],
           [
            0.5555555555555556,
            "#1f9e89"
           ],
           [
            0.6666666666666666,
            "#35b779"
           ],
           [
            0.7777777777777778,
            "#6ece58"
           ],
           [
            0.8888888888888888,
            "#b5de2b"
           ],
           [
            1,
            "#fde725"
           ]
          ],
          "opacity": 0.8,
          "size": 10
         },
         "mode": "markers",
         "type": "scatter",
         "x": [
          "Masculino 14",
          "Femenino 14",
          "Femenino 14",
          "Masculino 13",
          "Masculino 14",
          "Femenino 15",
          "Femenino 12",
          "Masculino 13",
          "Otro 14",
          "Femenino 13",
          "Masculino 14",
          "Femenino 13",
          "Masculino 12",
          "Masculino 14",
          "Masculino 14",
          "Masculino 14",
          "Femenino 12",
          "Femenino 15",
          "Masculino 13",
          "Masculino 13",
          "Masculino 14",
          "Masculino 13",
          "Femenino 14",
          "Femenino 15",
          "Masculino 13",
          "Femenino 14",
          "Femenino 13",
          "Otro 13",
          "Masculino 14",
          "Femenino 13",
          "Masculino 14",
          "Masculino 12",
          "Masculino 15",
          "Femenino 14",
          "Femenino 14",
          "Femenino 13",
          "Femenino 13",
          "Otro 13",
          "Femenino 12",
          "Femenino 12",
          "Masculino 14",
          "Femenino 12",
          "Masculino 15",
          "Femenino 15",
          "Masculino 14",
          "Masculino 12",
          "Masculino 13",
          "Masculino 13",
          "Femenino 14",
          "Femenino 12",
          "Masculino 13",
          "Masculino 13",
          "Masculino 13",
          "Masculino 13",
          "Otro 14",
          "Masculino 13",
          "Masculino 13",
          "Masculino 15",
          "Masculino 12",
          "Femenino 13",
          "Masculino 14",
          "Masculino 13",
          "Otro 12",
          "Masculino 13",
          "Masculino 14",
          "Femenino 14",
          "Masculino 15",
          "Femenino 13",
          "Masculino 14",
          "Masculino 13",
          "Masculino 13",
          "Masculino 14",
          "Otro 14",
          "Masculino 15",
          "Femenino 13",
          "Femenino 13",
          "Femenino 14",
          "Femenino 13",
          "Masculino 14",
          "Masculino 15",
          "Masculino 15",
          "Masculino 13",
          "Masculino 15",
          "Masculino 13",
          "Femenino 12",
          "Otro 15",
          "Femenino 15",
          "Femenino 14"
         ],
         "y": [
          3.7762974376704825,
          3.8476235746774394,
          4.498318716818499,
          4.478459750766753,
          3.905673771277722,
          2.85,
          4.585304153570788,
          3.6999221058576577,
          4.05014017296438,
          3.983462483595032,
          4.913136551171123,
          3.892168267205256,
          5.974893162393162,
          4.514366515837104,
          3.2835776785116093,
          4.262255461938713,
          3.981949639793456,
          3.7952261753398115,
          4.629963332215181,
          4.061283036623024,
          2.9443715080919133,
          2.8890839007731755,
          5.413990045318827,
          4.024061264822134,
          3.6590268154490246,
          4.53071914208629,
          4.291666666666667,
          4.7815052523835835,
          3.8218055493567604,
          3.8587983443830356,
          3.1697223444491294,
          4.870762570762571,
          4.4268404427550765,
          4.166240260767063,
          3.8331050503483124,
          5.182102583888298,
          3.670560783068973,
          3.453125178681775,
          3.9468401106197444,
          4.0680358283472575,
          4.8685274496129765,
          4.793602086750379,
          2.7277695069158483,
          5.769345238095238,
          2.8750779842867233,
          6.019952290227831,
          4.734737698199236,
          3.7889425884531756,
          4.2781825260603386,
          4.530840201784902,
          3.8941645621312686,
          3.452638018978841,
          3.9096985025506736,
          4.393024347325616,
          3.2232874722065974,
          3.8908045482639135,
          3.3687232115442076,
          3.617065249385929,
          3.791086701763785,
          4.330294431159369,
          4.0721696517953525,
          6.375,
          5.854312453774819,
          3.6046713450493604,
          5.1256121248514255,
          4.439747874721476,
          4.286269639792529,
          4.725620367571301,
          4.811733730851378,
          4.274115448111612,
          4.925537893546345,
          3.834836745931321,
          4.289935937227986,
          4.109331434451543,
          4.289552435414442,
          3.292123102929845,
          3.25,
          3.991009488295957,
          4.0614844714109415,
          3.413173079736859,
          5.640217994548841,
          3.8536977447917953,
          3.9903970112102307,
          4.155520137101211,
          5.521109686864158,
          5.455940988835726,
          3.6666334345535483,
          3.708976540803121
         ]
        }
       ],
       "layout": {
        "height": 600,
        "template": {
         "data": {
          "bar": [
           {
            "error_x": {
             "color": "#2a3f5f"
            },
            "error_y": {
             "color": "#2a3f5f"
            },
            "marker": {
             "line": {
              "color": "#E5ECF6",
              "width": 0.5
             },
             "pattern": {
              "fillmode": "overlay",
              "size": 10,
              "solidity": 0.2
             }
            },
            "type": "bar"
           }
          ],
          "barpolar": [
           {
            "marker": {
             "line": {
              "color": "#E5ECF6",
              "width": 0.5
             },
             "pattern": {
              "fillmode": "overlay",
              "size": 10,
              "solidity": 0.2
             }
            },
            "type": "barpolar"
           }
          ],
          "carpet": [
           {
            "aaxis": {
             "endlinecolor": "#2a3f5f",
             "gridcolor": "white",
             "linecolor": "white",
             "minorgridcolor": "white",
             "startlinecolor": "#2a3f5f"
            },
            "baxis": {
             "endlinecolor": "#2a3f5f",
             "gridcolor": "white",
             "linecolor": "white",
             "minorgridcolor": "white",
             "startlinecolor": "#2a3f5f"
            },
            "type": "carpet"
           }
          ],
          "choropleth": [
           {
            "colorbar": {
             "outlinewidth": 0,
             "ticks": ""
            },
            "type": "choropleth"
           }
          ],
          "contour": [
           {
            "colorbar": {
             "outlinewidth": 0,
             "ticks": ""
            },
            "colorscale": [
             [
              0,
              "#0d0887"
             ],
             [
              0.1111111111111111,
              "#46039f"
             ],
             [
              0.2222222222222222,
              "#7201a8"
             ],
             [
              0.3333333333333333,
              "#9c179e"
             ],
             [
              0.4444444444444444,
              "#bd3786"
             ],
             [
              0.5555555555555556,
              "#d8576b"
             ],
             [
              0.6666666666666666,
              "#ed7953"
             ],
             [
              0.7777777777777778,
              "#fb9f3a"
             ],
             [
              0.8888888888888888,
              "#fdca26"
             ],
             [
              1,
              "#f0f921"
             ]
            ],
            "type": "contour"
           }
          ],
          "contourcarpet": [
           {
            "colorbar": {
             "outlinewidth": 0,
             "ticks": ""
            },
            "type": "contourcarpet"
           }
          ],
          "heatmap": [
           {
            "colorbar": {
             "outlinewidth": 0,
             "ticks": ""
            },
            "colorscale": [
             [
              0,
              "#0d0887"
             ],
             [
              0.1111111111111111,
              "#46039f"
             ],
             [
              0.2222222222222222,
              "#7201a8"
             ],
             [
              0.3333333333333333,
              "#9c179e"
             ],
             [
              0.4444444444444444,
              "#bd3786"
             ],
             [
              0.5555555555555556,
              "#d8576b"
             ],
             [
              0.6666666666666666,
              "#ed7953"
             ],
             [
              0.7777777777777778,
              "#fb9f3a"
             ],
             [
              0.8888888888888888,
              "#fdca26"
             ],
             [
              1,
              "#f0f921"
             ]
            ],
            "type": "heatmap"
           }
          ],
          "heatmapgl": [
           {
            "colorbar": {
             "outlinewidth": 0,
             "ticks": ""
            },
            "colorscale": [
             [
              0,
              "#0d0887"
             ],
             [
              0.1111111111111111,
              "#46039f"
             ],
             [
              0.2222222222222222,
              "#7201a8"
             ],
             [
              0.3333333333333333,
              "#9c179e"
             ],
             [
              0.4444444444444444,
              "#bd3786"
             ],
             [
              0.5555555555555556,
              "#d8576b"
             ],
             [
              0.6666666666666666,
              "#ed7953"
             ],
             [
              0.7777777777777778,
              "#fb9f3a"
             ],
             [
              0.8888888888888888,
              "#fdca26"
             ],
             [
              1,
              "#f0f921"
             ]
            ],
            "type": "heatmapgl"
           }
          ],
          "histogram": [
           {
            "marker": {
             "pattern": {
              "fillmode": "overlay",
              "size": 10,
              "solidity": 0.2
             }
            },
            "type": "histogram"
           }
          ],
          "histogram2d": [
           {
            "colorbar": {
             "outlinewidth": 0,
             "ticks": ""
            },
            "colorscale": [
             [
              0,
              "#0d0887"
             ],
             [
              0.1111111111111111,
              "#46039f"
             ],
             [
              0.2222222222222222,
              "#7201a8"
             ],
             [
              0.3333333333333333,
              "#9c179e"
             ],
             [
              0.4444444444444444,
              "#bd3786"
             ],
             [
              0.5555555555555556,
              "#d8576b"
             ],
             [
              0.6666666666666666,
              "#ed7953"
             ],
             [
              0.7777777777777778,
              "#fb9f3a"
             ],
             [
              0.8888888888888888,
              "#fdca26"
             ],
             [
              1,
              "#f0f921"
             ]
            ],
            "type": "histogram2d"
           }
          ],
          "histogram2dcontour": [
           {
            "colorbar": {
             "outlinewidth": 0,
             "ticks": ""
            },
            "colorscale": [
             [
              0,
              "#0d0887"
             ],
             [
              0.1111111111111111,
              "#46039f"
             ],
             [
              0.2222222222222222,
              "#7201a8"
             ],
             [
              0.3333333333333333,
              "#9c179e"
             ],
             [
              0.4444444444444444,
              "#bd3786"
             ],
             [
              0.5555555555555556,
              "#d8576b"
             ],
             [
              0.6666666666666666,
              "#ed7953"
             ],
             [
              0.7777777777777778,
              "#fb9f3a"
             ],
             [
              0.8888888888888888,
              "#fdca26"
             ],
             [
              1,
              "#f0f921"
             ]
            ],
            "type": "histogram2dcontour"
           }
          ],
          "mesh3d": [
           {
            "colorbar": {
             "outlinewidth": 0,
             "ticks": ""
            },
            "type": "mesh3d"
           }
          ],
          "parcoords": [
           {
            "line": {
             "colorbar": {
              "outlinewidth": 0,
              "ticks": ""
             }
            },
            "type": "parcoords"
           }
          ],
          "pie": [
           {
            "automargin": true,
            "type": "pie"
           }
          ],
          "scatter": [
           {
            "fillpattern": {
             "fillmode": "overlay",
             "size": 10,
             "solidity": 0.2
            },
            "type": "scatter"
           }
          ],
          "scatter3d": [
           {
            "line": {
             "colorbar": {
              "outlinewidth": 0,
              "ticks": ""
             }
            },
            "marker": {
             "colorbar": {
              "outlinewidth": 0,
              "ticks": ""
             }
            },
            "type": "scatter3d"
           }
          ],
          "scattercarpet": [
           {
            "marker": {
             "colorbar": {
              "outlinewidth": 0,
              "ticks": ""
             }
            },
            "type": "scattercarpet"
           }
          ],
          "scattergeo": [
           {
            "marker": {
             "colorbar": {
              "outlinewidth": 0,
              "ticks": ""
             }
            },
            "type": "scattergeo"
           }
          ],
          "scattergl": [
           {
            "marker": {
             "colorbar": {
              "outlinewidth": 0,
              "ticks": ""
             }
            },
            "type": "scattergl"
           }
          ],
          "scattermapbox": [
           {
            "marker": {
             "colorbar": {
              "outlinewidth": 0,
              "ticks": ""
             }
            },
            "type": "scattermapbox"
           }
          ],
          "scatterpolar": [
           {
            "marker": {
             "colorbar": {
              "outlinewidth": 0,
              "ticks": ""
             }
            },
            "type": "scatterpolar"
           }
          ],
          "scatterpolargl": [
           {
            "marker": {
             "colorbar": {
              "outlinewidth": 0,
              "ticks": ""
             }
            },
            "type": "scatterpolargl"
           }
          ],
          "scatterternary": [
           {
            "marker": {
             "colorbar": {
              "outlinewidth": 0,
              "ticks": ""
             }
            },
            "type": "scatterternary"
           }
          ],
          "surface": [
           {
            "colorbar": {
             "outlinewidth": 0,
             "ticks": ""
            },
            "colorscale": [
             [
              0,
              "#0d0887"
             ],
             [
              0.1111111111111111,
              "#46039f"
             ],
             [
              0.2222222222222222,
              "#7201a8"
             ],
             [
              0.3333333333333333,
              "#9c179e"
             ],
             [
              0.4444444444444444,
              "#bd3786"
             ],
             [
              0.5555555555555556,
              "#d8576b"
             ],
             [
              0.6666666666666666,
              "#ed7953"
             ],
             [
              0.7777777777777778,
              "#fb9f3a"
             ],
             [
              0.8888888888888888,
              "#fdca26"
             ],
             [
              1,
              "#f0f921"
             ]
            ],
            "type": "surface"
           }
          ],
          "table": [
           {
            "cells": {
             "fill": {
              "color": "#EBF0F8"
             },
             "line": {
              "color": "white"
             }
            },
            "header": {
             "fill": {
              "color": "#C8D4E3"
             },
             "line": {
              "color": "white"
             }
            },
            "type": "table"
           }
          ]
         },
         "layout": {
          "annotationdefaults": {
           "arrowcolor": "#2a3f5f",
           "arrowhead": 0,
           "arrowwidth": 1
          },
          "autotypenumbers": "strict",
          "coloraxis": {
           "colorbar": {
            "outlinewidth": 0,
            "ticks": ""
           }
          },
          "colorscale": {
           "diverging": [
            [
             0,
             "#8e0152"
            ],
            [
             0.1,
             "#c51b7d"
            ],
            [
             0.2,
             "#de77ae"
            ],
            [
             0.3,
             "#f1b6da"
            ],
            [
             0.4,
             "#fde0ef"
            ],
            [
             0.5,
             "#f7f7f7"
            ],
            [
             0.6,
             "#e6f5d0"
            ],
            [
             0.7,
             "#b8e186"
            ],
            [
             0.8,
             "#7fbc41"
            ],
            [
             0.9,
             "#4d9221"
            ],
            [
             1,
             "#276419"
            ]
           ],
           "sequential": [
            [
             0,
             "#0d0887"
            ],
            [
             0.1111111111111111,
             "#46039f"
            ],
            [
             0.2222222222222222,
             "#7201a8"
            ],
            [
             0.3333333333333333,
             "#9c179e"
            ],
            [
             0.4444444444444444,
             "#bd3786"
            ],
            [
             0.5555555555555556,
             "#d8576b"
            ],
            [
             0.6666666666666666,
             "#ed7953"
            ],
            [
             0.7777777777777778,
             "#fb9f3a"
            ],
            [
             0.8888888888888888,
             "#fdca26"
            ],
            [
             1,
             "#f0f921"
            ]
           ],
           "sequentialminus": [
            [
             0,
             "#0d0887"
            ],
            [
             0.1111111111111111,
             "#46039f"
            ],
            [
             0.2222222222222222,
             "#7201a8"
            ],
            [
             0.3333333333333333,
             "#9c179e"
            ],
            [
             0.4444444444444444,
             "#bd3786"
            ],
            [
             0.5555555555555556,
             "#d8576b"
            ],
            [
             0.6666666666666666,
             "#ed7953"
            ],
            [
             0.7777777777777778,
             "#fb9f3a"
            ],
            [
             0.8888888888888888,
             "#fdca26"
            ],
            [
             1,
             "#f0f921"
            ]
           ]
          },
          "colorway": [
           "#636efa",
           "#EF553B",
           "#00cc96",
           "#ab63fa",
           "#FFA15A",
           "#19d3f3",
           "#FF6692",
           "#B6E880",
           "#FF97FF",
           "#FECB52"
          ],
          "font": {
           "color": "#2a3f5f"
          },
          "geo": {
           "bgcolor": "white",
           "lakecolor": "white",
           "landcolor": "#E5ECF6",
           "showlakes": true,
           "showland": true,
           "subunitcolor": "white"
          },
          "hoverlabel": {
           "align": "left"
          },
          "hovermode": "closest",
          "mapbox": {
           "style": "light"
          },
          "paper_bgcolor": "white",
          "plot_bgcolor": "#E5ECF6",
          "polar": {
           "angularaxis": {
            "gridcolor": "white",
            "linecolor": "white",
            "ticks": ""
           },
           "bgcolor": "#E5ECF6",
           "radialaxis": {
            "gridcolor": "white",
            "linecolor": "white",
            "ticks": ""
           }
          },
          "scene": {
           "xaxis": {
            "backgroundcolor": "#E5ECF6",
            "gridcolor": "white",
            "gridwidth": 2,
            "linecolor": "white",
            "showbackground": true,
            "ticks": "",
            "zerolinecolor": "white"
           },
           "yaxis": {
            "backgroundcolor": "#E5ECF6",
            "gridcolor": "white",
            "gridwidth": 2,
            "linecolor": "white",
            "showbackground": true,
            "ticks": "",
            "zerolinecolor": "white"
           },
           "zaxis": {
            "backgroundcolor": "#E5ECF6",
            "gridcolor": "white",
            "gridwidth": 2,
            "linecolor": "white",
            "showbackground": true,
            "ticks": "",
            "zerolinecolor": "white"
           }
          },
          "shapedefaults": {
           "line": {
            "color": "#2a3f5f"
           }
          },
          "ternary": {
           "aaxis": {
            "gridcolor": "white",
            "linecolor": "white",
            "ticks": ""
           },
           "baxis": {
            "gridcolor": "white",
            "linecolor": "white",
            "ticks": ""
           },
           "bgcolor": "#E5ECF6",
           "caxis": {
            "gridcolor": "white",
            "linecolor": "white",
            "ticks": ""
           }
          },
          "title": {
           "x": 0.05
          },
          "xaxis": {
           "automargin": true,
           "gridcolor": "white",
           "linecolor": "white",
           "ticks": "",
           "title": {
            "standoff": 15
           },
           "zerolinecolor": "white",
           "zerolinewidth": 2
          },
          "yaxis": {
           "automargin": true,
           "gridcolor": "white",
           "linecolor": "white",
           "ticks": "",
           "title": {
            "standoff": 15
           },
           "zerolinecolor": "white",
           "zerolinewidth": 2
          }
         }
        },
        "title": {
         "text": "Clustering de intentos"
        },
        "width": 800,
        "xaxis": {
         "title": {
          "text": "Edad_Genero"
         }
        },
        "yaxis": {
         "title": {
          "text": "Mezcla de Intentos y Tiempo"
         }
        }
       }
      }
     },
     "metadata": {},
     "output_type": "display_data"
    }
   ],
   "source": [
    "from sklearn.cluster import DBSCAN\n",
    "from sklearn.preprocessing import StandardScaler\n",
    "\n",
    "# Convertir los valores de la columna 'edad_genero' en valores numéricos utilizando el diccionario de etiquetas\n",
    "df['edad_genero_num'] = df['edad_genero'].apply(lambda x: etiquetas_edad_genero[x])\n",
    "\n",
    "#Coger las columnas necesarias para crear la matriz de características\n",
    "matriz_caracteristicas = df[['edad_genero_num', 'mezcla_intentos_tiempo']].values\n",
    "\n",
    "# Normalizar los datos\n",
    "#matriz_caracteristicas_norm = StandardScaler().fit_transform(matriz_caracteristicas)\n",
    "\n",
    "# Definir el modelo\n",
    "model = DBSCAN(eps=0.7, min_samples=5)\n",
    "\n",
    "# Ajustar el modelo a los datos\n",
    "agrupamento = model.fit(matriz_caracteristicas)\n",
    "\n",
    "# Crear la figura\n",
    "fig = go.Figure(data=[go.Scatter(x=df['edad_genero'], y=df['mezcla_intentos_tiempo'], mode='markers',\n",
    "                                 marker=dict(size=10, color=agrupamento.labels_ + 1, opacity=0.8,\n",
    "                                             colorscale='Viridis'))])\n",
    "\n",
    "# Configurar layout\n",
    "fig.update_layout(title='Clustering de intentos',\n",
    "                  xaxis_title='Edad_Genero',\n",
    "                  yaxis_title='Mezcla de Intentos y Tiempo',\n",
    "                  width=800, height=600)\n",
    "\n",
    "# Mostrar gráfica\n",
    "fig.show()\n"
   ]
  },
  {
   "attachments": {},
   "cell_type": "markdown",
   "metadata": {},
   "source": [
    "# Con Hierarchical Agglomerative Clustering (HAC):"
   ]
  },
  {
   "cell_type": "code",
   "execution_count": 19,
   "metadata": {},
   "outputs": [
    {
     "name": "stderr",
     "output_type": "stream",
     "text": [
      "C:\\Users\\david\\AppData\\Local\\Temp\\ipykernel_24608\\3746421276.py:30: SettingWithCopyWarning:\n",
      "\n",
      "\n",
      "A value is trying to be set on a copy of a slice from a DataFrame.\n",
      "Try using .loc[row_indexer,col_indexer] = value instead\n",
      "\n",
      "See the caveats in the documentation: https://pandas.pydata.org/pandas-docs/stable/user_guide/indexing.html#returning-a-view-versus-a-copy\n",
      "\n"
     ]
    },
    {
     "data": {
      "application/vnd.plotly.v1+json": {
       "config": {
        "plotlyServerURL": "https://plot.ly"
       },
       "data": [
        {
         "marker": {
          "color": [
           1,
           2,
           2,
           3,
           1,
           0,
           4,
           3,
           0,
           5,
           1,
           5,
           0,
           1,
           1,
           1,
           4,
           0,
           3,
           3,
           1,
           3,
           0,
           0,
           3,
           2,
           5,
           0,
           1,
           5,
           1,
           0,
           6,
           2,
           2,
           5,
           5,
           0,
           4,
           4,
           1,
           4,
           6,
           0,
           1,
           0,
           3,
           3,
           2,
           4,
           3,
           3,
           3,
           3,
           0,
           3,
           3,
           6,
           0,
           5,
           1,
           0,
           0,
           3,
           1,
           2,
           6,
           5,
           1,
           3,
           3,
           1,
           0,
           6,
           5,
           5,
           2,
           5,
           1,
           6,
           0,
           3,
           6,
           3,
           0,
           0,
           0,
           2
          ],
          "colorscale": [
           [
            0,
            "#440154"
           ],
           [
            0.1111111111111111,
            "#482878"
           ],
           [
            0.2222222222222222,
            "#3e4989"
           ],
           [
            0.3333333333333333,
            "#31688e"
           ],
           [
            0.4444444444444444,
            "#26828e"
           ],
           [
            0.5555555555555556,
            "#1f9e89"
           ],
           [
            0.6666666666666666,
            "#35b779"
           ],
           [
            0.7777777777777778,
            "#6ece58"
           ],
           [
            0.8888888888888888,
            "#b5de2b"
           ],
           [
            1,
            "#fde725"
           ]
          ],
          "opacity": 0.8,
          "size": 10
         },
         "mode": "markers",
         "type": "scatter",
         "x": [
          "Masculino 14",
          "Femenino 14",
          "Femenino 14",
          "Masculino 13",
          "Masculino 14",
          "Femenino 15",
          "Femenino 12",
          "Masculino 13",
          "Otro 14",
          "Femenino 13",
          "Masculino 14",
          "Femenino 13",
          "Masculino 12",
          "Masculino 14",
          "Masculino 14",
          "Masculino 14",
          "Femenino 12",
          "Femenino 15",
          "Masculino 13",
          "Masculino 13",
          "Masculino 14",
          "Masculino 13",
          "Femenino 14",
          "Femenino 15",
          "Masculino 13",
          "Femenino 14",
          "Femenino 13",
          "Otro 13",
          "Masculino 14",
          "Femenino 13",
          "Masculino 14",
          "Masculino 12",
          "Masculino 15",
          "Femenino 14",
          "Femenino 14",
          "Femenino 13",
          "Femenino 13",
          "Otro 13",
          "Femenino 12",
          "Femenino 12",
          "Masculino 14",
          "Femenino 12",
          "Masculino 15",
          "Femenino 15",
          "Masculino 14",
          "Masculino 12",
          "Masculino 13",
          "Masculino 13",
          "Femenino 14",
          "Femenino 12",
          "Masculino 13",
          "Masculino 13",
          "Masculino 13",
          "Masculino 13",
          "Otro 14",
          "Masculino 13",
          "Masculino 13",
          "Masculino 15",
          "Masculino 12",
          "Femenino 13",
          "Masculino 14",
          "Masculino 13",
          "Otro 12",
          "Masculino 13",
          "Masculino 14",
          "Femenino 14",
          "Masculino 15",
          "Femenino 13",
          "Masculino 14",
          "Masculino 13",
          "Masculino 13",
          "Masculino 14",
          "Otro 14",
          "Masculino 15",
          "Femenino 13",
          "Femenino 13",
          "Femenino 14",
          "Femenino 13",
          "Masculino 14",
          "Masculino 15",
          "Masculino 15",
          "Masculino 13",
          "Masculino 15",
          "Masculino 13",
          "Femenino 12",
          "Otro 15",
          "Femenino 15",
          "Femenino 14"
         ],
         "y": [
          3.7762974376704825,
          3.8476235746774394,
          4.498318716818499,
          4.478459750766753,
          3.905673771277722,
          2.85,
          4.585304153570788,
          3.6999221058576577,
          4.05014017296438,
          3.983462483595032,
          4.913136551171123,
          3.892168267205256,
          5.974893162393162,
          4.514366515837104,
          3.2835776785116093,
          4.262255461938713,
          3.981949639793456,
          3.7952261753398115,
          4.629963332215181,
          4.061283036623024,
          2.9443715080919133,
          2.8890839007731755,
          5.413990045318827,
          4.024061264822134,
          3.6590268154490246,
          4.53071914208629,
          4.291666666666667,
          4.7815052523835835,
          3.8218055493567604,
          3.8587983443830356,
          3.1697223444491294,
          4.870762570762571,
          4.4268404427550765,
          4.166240260767063,
          3.8331050503483124,
          5.182102583888298,
          3.670560783068973,
          3.453125178681775,
          3.9468401106197444,
          4.0680358283472575,
          4.8685274496129765,
          4.793602086750379,
          2.7277695069158483,
          5.769345238095238,
          2.8750779842867233,
          6.019952290227831,
          4.734737698199236,
          3.7889425884531756,
          4.2781825260603386,
          4.530840201784902,
          3.8941645621312686,
          3.452638018978841,
          3.9096985025506736,
          4.393024347325616,
          3.2232874722065974,
          3.8908045482639135,
          3.3687232115442076,
          3.617065249385929,
          3.791086701763785,
          4.330294431159369,
          4.0721696517953525,
          6.375,
          5.854312453774819,
          3.6046713450493604,
          5.1256121248514255,
          4.439747874721476,
          4.286269639792529,
          4.725620367571301,
          4.811733730851378,
          4.274115448111612,
          4.925537893546345,
          3.834836745931321,
          4.289935937227986,
          4.109331434451543,
          4.289552435414442,
          3.292123102929845,
          3.25,
          3.991009488295957,
          4.0614844714109415,
          3.413173079736859,
          5.640217994548841,
          3.8536977447917953,
          3.9903970112102307,
          4.155520137101211,
          5.521109686864158,
          5.455940988835726,
          3.6666334345535483,
          3.708976540803121
         ]
        }
       ],
       "layout": {
        "height": 600,
        "template": {
         "data": {
          "bar": [
           {
            "error_x": {
             "color": "#2a3f5f"
            },
            "error_y": {
             "color": "#2a3f5f"
            },
            "marker": {
             "line": {
              "color": "#E5ECF6",
              "width": 0.5
             },
             "pattern": {
              "fillmode": "overlay",
              "size": 10,
              "solidity": 0.2
             }
            },
            "type": "bar"
           }
          ],
          "barpolar": [
           {
            "marker": {
             "line": {
              "color": "#E5ECF6",
              "width": 0.5
             },
             "pattern": {
              "fillmode": "overlay",
              "size": 10,
              "solidity": 0.2
             }
            },
            "type": "barpolar"
           }
          ],
          "carpet": [
           {
            "aaxis": {
             "endlinecolor": "#2a3f5f",
             "gridcolor": "white",
             "linecolor": "white",
             "minorgridcolor": "white",
             "startlinecolor": "#2a3f5f"
            },
            "baxis": {
             "endlinecolor": "#2a3f5f",
             "gridcolor": "white",
             "linecolor": "white",
             "minorgridcolor": "white",
             "startlinecolor": "#2a3f5f"
            },
            "type": "carpet"
           }
          ],
          "choropleth": [
           {
            "colorbar": {
             "outlinewidth": 0,
             "ticks": ""
            },
            "type": "choropleth"
           }
          ],
          "contour": [
           {
            "colorbar": {
             "outlinewidth": 0,
             "ticks": ""
            },
            "colorscale": [
             [
              0,
              "#0d0887"
             ],
             [
              0.1111111111111111,
              "#46039f"
             ],
             [
              0.2222222222222222,
              "#7201a8"
             ],
             [
              0.3333333333333333,
              "#9c179e"
             ],
             [
              0.4444444444444444,
              "#bd3786"
             ],
             [
              0.5555555555555556,
              "#d8576b"
             ],
             [
              0.6666666666666666,
              "#ed7953"
             ],
             [
              0.7777777777777778,
              "#fb9f3a"
             ],
             [
              0.8888888888888888,
              "#fdca26"
             ],
             [
              1,
              "#f0f921"
             ]
            ],
            "type": "contour"
           }
          ],
          "contourcarpet": [
           {
            "colorbar": {
             "outlinewidth": 0,
             "ticks": ""
            },
            "type": "contourcarpet"
           }
          ],
          "heatmap": [
           {
            "colorbar": {
             "outlinewidth": 0,
             "ticks": ""
            },
            "colorscale": [
             [
              0,
              "#0d0887"
             ],
             [
              0.1111111111111111,
              "#46039f"
             ],
             [
              0.2222222222222222,
              "#7201a8"
             ],
             [
              0.3333333333333333,
              "#9c179e"
             ],
             [
              0.4444444444444444,
              "#bd3786"
             ],
             [
              0.5555555555555556,
              "#d8576b"
             ],
             [
              0.6666666666666666,
              "#ed7953"
             ],
             [
              0.7777777777777778,
              "#fb9f3a"
             ],
             [
              0.8888888888888888,
              "#fdca26"
             ],
             [
              1,
              "#f0f921"
             ]
            ],
            "type": "heatmap"
           }
          ],
          "heatmapgl": [
           {
            "colorbar": {
             "outlinewidth": 0,
             "ticks": ""
            },
            "colorscale": [
             [
              0,
              "#0d0887"
             ],
             [
              0.1111111111111111,
              "#46039f"
             ],
             [
              0.2222222222222222,
              "#7201a8"
             ],
             [
              0.3333333333333333,
              "#9c179e"
             ],
             [
              0.4444444444444444,
              "#bd3786"
             ],
             [
              0.5555555555555556,
              "#d8576b"
             ],
             [
              0.6666666666666666,
              "#ed7953"
             ],
             [
              0.7777777777777778,
              "#fb9f3a"
             ],
             [
              0.8888888888888888,
              "#fdca26"
             ],
             [
              1,
              "#f0f921"
             ]
            ],
            "type": "heatmapgl"
           }
          ],
          "histogram": [
           {
            "marker": {
             "pattern": {
              "fillmode": "overlay",
              "size": 10,
              "solidity": 0.2
             }
            },
            "type": "histogram"
           }
          ],
          "histogram2d": [
           {
            "colorbar": {
             "outlinewidth": 0,
             "ticks": ""
            },
            "colorscale": [
             [
              0,
              "#0d0887"
             ],
             [
              0.1111111111111111,
              "#46039f"
             ],
             [
              0.2222222222222222,
              "#7201a8"
             ],
             [
              0.3333333333333333,
              "#9c179e"
             ],
             [
              0.4444444444444444,
              "#bd3786"
             ],
             [
              0.5555555555555556,
              "#d8576b"
             ],
             [
              0.6666666666666666,
              "#ed7953"
             ],
             [
              0.7777777777777778,
              "#fb9f3a"
             ],
             [
              0.8888888888888888,
              "#fdca26"
             ],
             [
              1,
              "#f0f921"
             ]
            ],
            "type": "histogram2d"
           }
          ],
          "histogram2dcontour": [
           {
            "colorbar": {
             "outlinewidth": 0,
             "ticks": ""
            },
            "colorscale": [
             [
              0,
              "#0d0887"
             ],
             [
              0.1111111111111111,
              "#46039f"
             ],
             [
              0.2222222222222222,
              "#7201a8"
             ],
             [
              0.3333333333333333,
              "#9c179e"
             ],
             [
              0.4444444444444444,
              "#bd3786"
             ],
             [
              0.5555555555555556,
              "#d8576b"
             ],
             [
              0.6666666666666666,
              "#ed7953"
             ],
             [
              0.7777777777777778,
              "#fb9f3a"
             ],
             [
              0.8888888888888888,
              "#fdca26"
             ],
             [
              1,
              "#f0f921"
             ]
            ],
            "type": "histogram2dcontour"
           }
          ],
          "mesh3d": [
           {
            "colorbar": {
             "outlinewidth": 0,
             "ticks": ""
            },
            "type": "mesh3d"
           }
          ],
          "parcoords": [
           {
            "line": {
             "colorbar": {
              "outlinewidth": 0,
              "ticks": ""
             }
            },
            "type": "parcoords"
           }
          ],
          "pie": [
           {
            "automargin": true,
            "type": "pie"
           }
          ],
          "scatter": [
           {
            "fillpattern": {
             "fillmode": "overlay",
             "size": 10,
             "solidity": 0.2
            },
            "type": "scatter"
           }
          ],
          "scatter3d": [
           {
            "line": {
             "colorbar": {
              "outlinewidth": 0,
              "ticks": ""
             }
            },
            "marker": {
             "colorbar": {
              "outlinewidth": 0,
              "ticks": ""
             }
            },
            "type": "scatter3d"
           }
          ],
          "scattercarpet": [
           {
            "marker": {
             "colorbar": {
              "outlinewidth": 0,
              "ticks": ""
             }
            },
            "type": "scattercarpet"
           }
          ],
          "scattergeo": [
           {
            "marker": {
             "colorbar": {
              "outlinewidth": 0,
              "ticks": ""
             }
            },
            "type": "scattergeo"
           }
          ],
          "scattergl": [
           {
            "marker": {
             "colorbar": {
              "outlinewidth": 0,
              "ticks": ""
             }
            },
            "type": "scattergl"
           }
          ],
          "scattermapbox": [
           {
            "marker": {
             "colorbar": {
              "outlinewidth": 0,
              "ticks": ""
             }
            },
            "type": "scattermapbox"
           }
          ],
          "scatterpolar": [
           {
            "marker": {
             "colorbar": {
              "outlinewidth": 0,
              "ticks": ""
             }
            },
            "type": "scatterpolar"
           }
          ],
          "scatterpolargl": [
           {
            "marker": {
             "colorbar": {
              "outlinewidth": 0,
              "ticks": ""
             }
            },
            "type": "scatterpolargl"
           }
          ],
          "scatterternary": [
           {
            "marker": {
             "colorbar": {
              "outlinewidth": 0,
              "ticks": ""
             }
            },
            "type": "scatterternary"
           }
          ],
          "surface": [
           {
            "colorbar": {
             "outlinewidth": 0,
             "ticks": ""
            },
            "colorscale": [
             [
              0,
              "#0d0887"
             ],
             [
              0.1111111111111111,
              "#46039f"
             ],
             [
              0.2222222222222222,
              "#7201a8"
             ],
             [
              0.3333333333333333,
              "#9c179e"
             ],
             [
              0.4444444444444444,
              "#bd3786"
             ],
             [
              0.5555555555555556,
              "#d8576b"
             ],
             [
              0.6666666666666666,
              "#ed7953"
             ],
             [
              0.7777777777777778,
              "#fb9f3a"
             ],
             [
              0.8888888888888888,
              "#fdca26"
             ],
             [
              1,
              "#f0f921"
             ]
            ],
            "type": "surface"
           }
          ],
          "table": [
           {
            "cells": {
             "fill": {
              "color": "#EBF0F8"
             },
             "line": {
              "color": "white"
             }
            },
            "header": {
             "fill": {
              "color": "#C8D4E3"
             },
             "line": {
              "color": "white"
             }
            },
            "type": "table"
           }
          ]
         },
         "layout": {
          "annotationdefaults": {
           "arrowcolor": "#2a3f5f",
           "arrowhead": 0,
           "arrowwidth": 1
          },
          "autotypenumbers": "strict",
          "coloraxis": {
           "colorbar": {
            "outlinewidth": 0,
            "ticks": ""
           }
          },
          "colorscale": {
           "diverging": [
            [
             0,
             "#8e0152"
            ],
            [
             0.1,
             "#c51b7d"
            ],
            [
             0.2,
             "#de77ae"
            ],
            [
             0.3,
             "#f1b6da"
            ],
            [
             0.4,
             "#fde0ef"
            ],
            [
             0.5,
             "#f7f7f7"
            ],
            [
             0.6,
             "#e6f5d0"
            ],
            [
             0.7,
             "#b8e186"
            ],
            [
             0.8,
             "#7fbc41"
            ],
            [
             0.9,
             "#4d9221"
            ],
            [
             1,
             "#276419"
            ]
           ],
           "sequential": [
            [
             0,
             "#0d0887"
            ],
            [
             0.1111111111111111,
             "#46039f"
            ],
            [
             0.2222222222222222,
             "#7201a8"
            ],
            [
             0.3333333333333333,
             "#9c179e"
            ],
            [
             0.4444444444444444,
             "#bd3786"
            ],
            [
             0.5555555555555556,
             "#d8576b"
            ],
            [
             0.6666666666666666,
             "#ed7953"
            ],
            [
             0.7777777777777778,
             "#fb9f3a"
            ],
            [
             0.8888888888888888,
             "#fdca26"
            ],
            [
             1,
             "#f0f921"
            ]
           ],
           "sequentialminus": [
            [
             0,
             "#0d0887"
            ],
            [
             0.1111111111111111,
             "#46039f"
            ],
            [
             0.2222222222222222,
             "#7201a8"
            ],
            [
             0.3333333333333333,
             "#9c179e"
            ],
            [
             0.4444444444444444,
             "#bd3786"
            ],
            [
             0.5555555555555556,
             "#d8576b"
            ],
            [
             0.6666666666666666,
             "#ed7953"
            ],
            [
             0.7777777777777778,
             "#fb9f3a"
            ],
            [
             0.8888888888888888,
             "#fdca26"
            ],
            [
             1,
             "#f0f921"
            ]
           ]
          },
          "colorway": [
           "#636efa",
           "#EF553B",
           "#00cc96",
           "#ab63fa",
           "#FFA15A",
           "#19d3f3",
           "#FF6692",
           "#B6E880",
           "#FF97FF",
           "#FECB52"
          ],
          "font": {
           "color": "#2a3f5f"
          },
          "geo": {
           "bgcolor": "white",
           "lakecolor": "white",
           "landcolor": "#E5ECF6",
           "showlakes": true,
           "showland": true,
           "subunitcolor": "white"
          },
          "hoverlabel": {
           "align": "left"
          },
          "hovermode": "closest",
          "mapbox": {
           "style": "light"
          },
          "paper_bgcolor": "white",
          "plot_bgcolor": "#E5ECF6",
          "polar": {
           "angularaxis": {
            "gridcolor": "white",
            "linecolor": "white",
            "ticks": ""
           },
           "bgcolor": "#E5ECF6",
           "radialaxis": {
            "gridcolor": "white",
            "linecolor": "white",
            "ticks": ""
           }
          },
          "scene": {
           "xaxis": {
            "backgroundcolor": "#E5ECF6",
            "gridcolor": "white",
            "gridwidth": 2,
            "linecolor": "white",
            "showbackground": true,
            "ticks": "",
            "zerolinecolor": "white"
           },
           "yaxis": {
            "backgroundcolor": "#E5ECF6",
            "gridcolor": "white",
            "gridwidth": 2,
            "linecolor": "white",
            "showbackground": true,
            "ticks": "",
            "zerolinecolor": "white"
           },
           "zaxis": {
            "backgroundcolor": "#E5ECF6",
            "gridcolor": "white",
            "gridwidth": 2,
            "linecolor": "white",
            "showbackground": true,
            "ticks": "",
            "zerolinecolor": "white"
           }
          },
          "shapedefaults": {
           "line": {
            "color": "#2a3f5f"
           }
          },
          "ternary": {
           "aaxis": {
            "gridcolor": "white",
            "linecolor": "white",
            "ticks": ""
           },
           "baxis": {
            "gridcolor": "white",
            "linecolor": "white",
            "ticks": ""
           },
           "bgcolor": "#E5ECF6",
           "caxis": {
            "gridcolor": "white",
            "linecolor": "white",
            "ticks": ""
           }
          },
          "title": {
           "x": 0.05
          },
          "xaxis": {
           "automargin": true,
           "gridcolor": "white",
           "linecolor": "white",
           "ticks": "",
           "title": {
            "standoff": 15
           },
           "zerolinecolor": "white",
           "zerolinewidth": 2
          },
          "yaxis": {
           "automargin": true,
           "gridcolor": "white",
           "linecolor": "white",
           "ticks": "",
           "title": {
            "standoff": 15
           },
           "zerolinecolor": "white",
           "zerolinewidth": 2
          }
         }
        },
        "title": {
         "text": "Clustering de intentos"
        },
        "width": 800,
        "xaxis": {
         "title": {
          "text": "Edad_Genero"
         }
        },
        "yaxis": {
         "title": {
          "text": "Mezcla de Intentos y Tiempo"
         }
        }
       }
      }
     },
     "metadata": {},
     "output_type": "display_data"
    }
   ],
   "source": [
    "import numpy as np\n",
    "import plotly.graph_objects as go\n",
    "from scipy.cluster.hierarchy import linkage, fcluster\n",
    "from sklearn.metrics import silhouette_score\n",
    "from sklearn.preprocessing import StandardScaler\n",
    "\n",
    "#Tecnicas de principal component analysis\n",
    "#conjunto minimo de datos que explican una cirscuntancia\n",
    "#Claro, el Principal Component Analysis (PCA) es una técnica de reducción de dimensionalidad que se utiliza en el análisis de datos y en el aprendizaje automático. El objetivo principal de PCA es transformar un conjunto de variables correlacionadas en un conjunto de variables no correlacionadas llamadas componentes principales.\n",
    "\n",
    "#PCA es útil cuando se trabaja con un conjunto de datos con muchas variables, y se desea reducir la cantidad de variables manteniendo la mayor cantidad de información posible. Esto se logra al encontrar las direcciones en las que los datos tienen la mayor varianza y proyectar los datos en estas direcciones.\n",
    "\n",
    "#El proceso de PCA se puede resumir en los siguientes pasos:\n",
    "\n",
    "#Estandarizar los datos: Esto implica escalar las variables para que tengan una media de 0 y una desviación estándar de 1.\n",
    "#Calcular la matriz de covarianza: La matriz de covarianza es una matriz cuadrada que contiene las covarianzas entre cada par de variables.\n",
    "#Calcular los eigenvectores y eigenvalores de la matriz de covarianza: Los eigenvectores representan las direcciones en las que los datos tienen la mayor varianza, y los eigenvalores representan la magnitud de la varianza en cada dirección.\n",
    "#Ordenar los eigenvectores según sus eigenvalores correspondientes en orden descendente.\n",
    "#Seleccionar los primeros k eigenvectores, donde k es el número de componentes principales que se desea mantener.\n",
    "#Proyectar los datos en el espacio de los k eigenvectores seleccionados.\n",
    "#El resultado es un conjunto de datos transformado con menos dimensiones, que conserva la mayor cantidad de información posible del conjunto de datos original.\n",
    "\n",
    "\n",
    "#elegir 2 sistemas cada uno, 1 mas, resumen. tracksrls frances si. uno de codigo abierto\n",
    "#ver funcionalidades y visualizacion y analisis\n",
    "\n",
    "#predecir si al jugador le va a ir bien o no segun los datos \n",
    "\n",
    "# Convertir los valores de la columna 'edad_genero' en valores numéricos utilizando el diccionario de etiquetas\n",
    "df['edad_genero_num'] = df['edad_genero'].apply(lambda x: etiquetas_edad_genero[x])\n",
    "\n",
    "#Coger las columnas necesarias para crear la matriz de características\n",
    "matriz_caracteristicas = df[['edad_genero_num', 'mezcla_intentos_tiempo']].values\n",
    "\n",
    "# Normalizar los datos\n",
    "#matriz_caracteristicas_norm = StandardScaler().fit_transform(matriz_caracteristicas)\n",
    "\n",
    "# Calcular la matriz de enlaces\n",
    "Z = linkage(matriz_caracteristicas, method='ward')\n",
    "\n",
    "# Calcular los valores de silueta para diferentes umbrales\n",
    "scores = []\n",
    "for i in range(2, len(Z)):\n",
    "    clusters = fcluster(Z, t=i, criterion='maxclust')\n",
    "    score = silhouette_score(matriz_caracteristicas, clusters)\n",
    "    scores.append(score)\n",
    "\n",
    "# Encontrar el umbral que maximiza el valor de silueta\n",
    "umbral = np.argmax(scores) + 2\n",
    "\n",
    "# Asignar los clusters en base al umbral\n",
    "agrupamiento = fcluster(Z, t=umbral, criterion='maxclust')\n",
    "\n",
    "# Crear la figura\n",
    "fig = go.Figure(data=[go.Scatter(x=df['edad_genero'], y=df['mezcla_intentos_tiempo'], mode='markers',\n",
    "                                 marker=dict(size=10, color=agrupamento.labels_ + 1, opacity=0.8,\n",
    "                                             colorscale='Viridis'))])\n",
    "\n",
    "# Configurar layout\n",
    "fig.update_layout(title='Clustering de intentos',\n",
    "                  xaxis_title='Edad_Genero',\n",
    "                  yaxis_title='Mezcla de Intentos y Tiempo',\n",
    "                  width=800, height=600)\n",
    "\n",
    "# Mostrar gráfica\n",
    "fig.show()\n"
   ]
  },
  {
   "attachments": {},
   "cell_type": "markdown",
   "metadata": {},
   "source": [
    "# Con Spectral Clustering"
   ]
  },
  {
   "cell_type": "code",
   "execution_count": 20,
   "metadata": {},
   "outputs": [
    {
     "name": "stderr",
     "output_type": "stream",
     "text": [
      "C:\\Users\\david\\AppData\\Local\\Temp\\ipykernel_24608\\3723826965.py:4: SettingWithCopyWarning:\n",
      "\n",
      "\n",
      "A value is trying to be set on a copy of a slice from a DataFrame.\n",
      "Try using .loc[row_indexer,col_indexer] = value instead\n",
      "\n",
      "See the caveats in the documentation: https://pandas.pydata.org/pandas-docs/stable/user_guide/indexing.html#returning-a-view-versus-a-copy\n",
      "\n"
     ]
    },
    {
     "data": {
      "application/vnd.plotly.v1+json": {
       "config": {
        "plotlyServerURL": "https://plot.ly"
       },
       "data": [
        {
         "marker": {
          "color": [
           1,
           2,
           2,
           3,
           1,
           0,
           4,
           3,
           0,
           5,
           1,
           5,
           0,
           1,
           1,
           1,
           4,
           0,
           3,
           3,
           1,
           3,
           0,
           0,
           3,
           2,
           5,
           0,
           1,
           5,
           1,
           0,
           6,
           2,
           2,
           5,
           5,
           0,
           4,
           4,
           1,
           4,
           6,
           0,
           1,
           0,
           3,
           3,
           2,
           4,
           3,
           3,
           3,
           3,
           0,
           3,
           3,
           6,
           0,
           5,
           1,
           0,
           0,
           3,
           1,
           2,
           6,
           5,
           1,
           3,
           3,
           1,
           0,
           6,
           5,
           5,
           2,
           5,
           1,
           6,
           0,
           3,
           6,
           3,
           0,
           0,
           0,
           2
          ],
          "colorscale": [
           [
            0,
            "#440154"
           ],
           [
            0.1111111111111111,
            "#482878"
           ],
           [
            0.2222222222222222,
            "#3e4989"
           ],
           [
            0.3333333333333333,
            "#31688e"
           ],
           [
            0.4444444444444444,
            "#26828e"
           ],
           [
            0.5555555555555556,
            "#1f9e89"
           ],
           [
            0.6666666666666666,
            "#35b779"
           ],
           [
            0.7777777777777778,
            "#6ece58"
           ],
           [
            0.8888888888888888,
            "#b5de2b"
           ],
           [
            1,
            "#fde725"
           ]
          ],
          "opacity": 0.8,
          "size": 10
         },
         "mode": "markers",
         "type": "scatter",
         "x": [
          "Masculino 14",
          "Femenino 14",
          "Femenino 14",
          "Masculino 13",
          "Masculino 14",
          "Femenino 15",
          "Femenino 12",
          "Masculino 13",
          "Otro 14",
          "Femenino 13",
          "Masculino 14",
          "Femenino 13",
          "Masculino 12",
          "Masculino 14",
          "Masculino 14",
          "Masculino 14",
          "Femenino 12",
          "Femenino 15",
          "Masculino 13",
          "Masculino 13",
          "Masculino 14",
          "Masculino 13",
          "Femenino 14",
          "Femenino 15",
          "Masculino 13",
          "Femenino 14",
          "Femenino 13",
          "Otro 13",
          "Masculino 14",
          "Femenino 13",
          "Masculino 14",
          "Masculino 12",
          "Masculino 15",
          "Femenino 14",
          "Femenino 14",
          "Femenino 13",
          "Femenino 13",
          "Otro 13",
          "Femenino 12",
          "Femenino 12",
          "Masculino 14",
          "Femenino 12",
          "Masculino 15",
          "Femenino 15",
          "Masculino 14",
          "Masculino 12",
          "Masculino 13",
          "Masculino 13",
          "Femenino 14",
          "Femenino 12",
          "Masculino 13",
          "Masculino 13",
          "Masculino 13",
          "Masculino 13",
          "Otro 14",
          "Masculino 13",
          "Masculino 13",
          "Masculino 15",
          "Masculino 12",
          "Femenino 13",
          "Masculino 14",
          "Masculino 13",
          "Otro 12",
          "Masculino 13",
          "Masculino 14",
          "Femenino 14",
          "Masculino 15",
          "Femenino 13",
          "Masculino 14",
          "Masculino 13",
          "Masculino 13",
          "Masculino 14",
          "Otro 14",
          "Masculino 15",
          "Femenino 13",
          "Femenino 13",
          "Femenino 14",
          "Femenino 13",
          "Masculino 14",
          "Masculino 15",
          "Masculino 15",
          "Masculino 13",
          "Masculino 15",
          "Masculino 13",
          "Femenino 12",
          "Otro 15",
          "Femenino 15",
          "Femenino 14"
         ],
         "y": [
          3.7762974376704825,
          3.8476235746774394,
          4.498318716818499,
          4.478459750766753,
          3.905673771277722,
          2.85,
          4.585304153570788,
          3.6999221058576577,
          4.05014017296438,
          3.983462483595032,
          4.913136551171123,
          3.892168267205256,
          5.974893162393162,
          4.514366515837104,
          3.2835776785116093,
          4.262255461938713,
          3.981949639793456,
          3.7952261753398115,
          4.629963332215181,
          4.061283036623024,
          2.9443715080919133,
          2.8890839007731755,
          5.413990045318827,
          4.024061264822134,
          3.6590268154490246,
          4.53071914208629,
          4.291666666666667,
          4.7815052523835835,
          3.8218055493567604,
          3.8587983443830356,
          3.1697223444491294,
          4.870762570762571,
          4.4268404427550765,
          4.166240260767063,
          3.8331050503483124,
          5.182102583888298,
          3.670560783068973,
          3.453125178681775,
          3.9468401106197444,
          4.0680358283472575,
          4.8685274496129765,
          4.793602086750379,
          2.7277695069158483,
          5.769345238095238,
          2.8750779842867233,
          6.019952290227831,
          4.734737698199236,
          3.7889425884531756,
          4.2781825260603386,
          4.530840201784902,
          3.8941645621312686,
          3.452638018978841,
          3.9096985025506736,
          4.393024347325616,
          3.2232874722065974,
          3.8908045482639135,
          3.3687232115442076,
          3.617065249385929,
          3.791086701763785,
          4.330294431159369,
          4.0721696517953525,
          6.375,
          5.854312453774819,
          3.6046713450493604,
          5.1256121248514255,
          4.439747874721476,
          4.286269639792529,
          4.725620367571301,
          4.811733730851378,
          4.274115448111612,
          4.925537893546345,
          3.834836745931321,
          4.289935937227986,
          4.109331434451543,
          4.289552435414442,
          3.292123102929845,
          3.25,
          3.991009488295957,
          4.0614844714109415,
          3.413173079736859,
          5.640217994548841,
          3.8536977447917953,
          3.9903970112102307,
          4.155520137101211,
          5.521109686864158,
          5.455940988835726,
          3.6666334345535483,
          3.708976540803121
         ]
        }
       ],
       "layout": {
        "height": 600,
        "template": {
         "data": {
          "bar": [
           {
            "error_x": {
             "color": "#2a3f5f"
            },
            "error_y": {
             "color": "#2a3f5f"
            },
            "marker": {
             "line": {
              "color": "#E5ECF6",
              "width": 0.5
             },
             "pattern": {
              "fillmode": "overlay",
              "size": 10,
              "solidity": 0.2
             }
            },
            "type": "bar"
           }
          ],
          "barpolar": [
           {
            "marker": {
             "line": {
              "color": "#E5ECF6",
              "width": 0.5
             },
             "pattern": {
              "fillmode": "overlay",
              "size": 10,
              "solidity": 0.2
             }
            },
            "type": "barpolar"
           }
          ],
          "carpet": [
           {
            "aaxis": {
             "endlinecolor": "#2a3f5f",
             "gridcolor": "white",
             "linecolor": "white",
             "minorgridcolor": "white",
             "startlinecolor": "#2a3f5f"
            },
            "baxis": {
             "endlinecolor": "#2a3f5f",
             "gridcolor": "white",
             "linecolor": "white",
             "minorgridcolor": "white",
             "startlinecolor": "#2a3f5f"
            },
            "type": "carpet"
           }
          ],
          "choropleth": [
           {
            "colorbar": {
             "outlinewidth": 0,
             "ticks": ""
            },
            "type": "choropleth"
           }
          ],
          "contour": [
           {
            "colorbar": {
             "outlinewidth": 0,
             "ticks": ""
            },
            "colorscale": [
             [
              0,
              "#0d0887"
             ],
             [
              0.1111111111111111,
              "#46039f"
             ],
             [
              0.2222222222222222,
              "#7201a8"
             ],
             [
              0.3333333333333333,
              "#9c179e"
             ],
             [
              0.4444444444444444,
              "#bd3786"
             ],
             [
              0.5555555555555556,
              "#d8576b"
             ],
             [
              0.6666666666666666,
              "#ed7953"
             ],
             [
              0.7777777777777778,
              "#fb9f3a"
             ],
             [
              0.8888888888888888,
              "#fdca26"
             ],
             [
              1,
              "#f0f921"
             ]
            ],
            "type": "contour"
           }
          ],
          "contourcarpet": [
           {
            "colorbar": {
             "outlinewidth": 0,
             "ticks": ""
            },
            "type": "contourcarpet"
           }
          ],
          "heatmap": [
           {
            "colorbar": {
             "outlinewidth": 0,
             "ticks": ""
            },
            "colorscale": [
             [
              0,
              "#0d0887"
             ],
             [
              0.1111111111111111,
              "#46039f"
             ],
             [
              0.2222222222222222,
              "#7201a8"
             ],
             [
              0.3333333333333333,
              "#9c179e"
             ],
             [
              0.4444444444444444,
              "#bd3786"
             ],
             [
              0.5555555555555556,
              "#d8576b"
             ],
             [
              0.6666666666666666,
              "#ed7953"
             ],
             [
              0.7777777777777778,
              "#fb9f3a"
             ],
             [
              0.8888888888888888,
              "#fdca26"
             ],
             [
              1,
              "#f0f921"
             ]
            ],
            "type": "heatmap"
           }
          ],
          "heatmapgl": [
           {
            "colorbar": {
             "outlinewidth": 0,
             "ticks": ""
            },
            "colorscale": [
             [
              0,
              "#0d0887"
             ],
             [
              0.1111111111111111,
              "#46039f"
             ],
             [
              0.2222222222222222,
              "#7201a8"
             ],
             [
              0.3333333333333333,
              "#9c179e"
             ],
             [
              0.4444444444444444,
              "#bd3786"
             ],
             [
              0.5555555555555556,
              "#d8576b"
             ],
             [
              0.6666666666666666,
              "#ed7953"
             ],
             [
              0.7777777777777778,
              "#fb9f3a"
             ],
             [
              0.8888888888888888,
              "#fdca26"
             ],
             [
              1,
              "#f0f921"
             ]
            ],
            "type": "heatmapgl"
           }
          ],
          "histogram": [
           {
            "marker": {
             "pattern": {
              "fillmode": "overlay",
              "size": 10,
              "solidity": 0.2
             }
            },
            "type": "histogram"
           }
          ],
          "histogram2d": [
           {
            "colorbar": {
             "outlinewidth": 0,
             "ticks": ""
            },
            "colorscale": [
             [
              0,
              "#0d0887"
             ],
             [
              0.1111111111111111,
              "#46039f"
             ],
             [
              0.2222222222222222,
              "#7201a8"
             ],
             [
              0.3333333333333333,
              "#9c179e"
             ],
             [
              0.4444444444444444,
              "#bd3786"
             ],
             [
              0.5555555555555556,
              "#d8576b"
             ],
             [
              0.6666666666666666,
              "#ed7953"
             ],
             [
              0.7777777777777778,
              "#fb9f3a"
             ],
             [
              0.8888888888888888,
              "#fdca26"
             ],
             [
              1,
              "#f0f921"
             ]
            ],
            "type": "histogram2d"
           }
          ],
          "histogram2dcontour": [
           {
            "colorbar": {
             "outlinewidth": 0,
             "ticks": ""
            },
            "colorscale": [
             [
              0,
              "#0d0887"
             ],
             [
              0.1111111111111111,
              "#46039f"
             ],
             [
              0.2222222222222222,
              "#7201a8"
             ],
             [
              0.3333333333333333,
              "#9c179e"
             ],
             [
              0.4444444444444444,
              "#bd3786"
             ],
             [
              0.5555555555555556,
              "#d8576b"
             ],
             [
              0.6666666666666666,
              "#ed7953"
             ],
             [
              0.7777777777777778,
              "#fb9f3a"
             ],
             [
              0.8888888888888888,
              "#fdca26"
             ],
             [
              1,
              "#f0f921"
             ]
            ],
            "type": "histogram2dcontour"
           }
          ],
          "mesh3d": [
           {
            "colorbar": {
             "outlinewidth": 0,
             "ticks": ""
            },
            "type": "mesh3d"
           }
          ],
          "parcoords": [
           {
            "line": {
             "colorbar": {
              "outlinewidth": 0,
              "ticks": ""
             }
            },
            "type": "parcoords"
           }
          ],
          "pie": [
           {
            "automargin": true,
            "type": "pie"
           }
          ],
          "scatter": [
           {
            "fillpattern": {
             "fillmode": "overlay",
             "size": 10,
             "solidity": 0.2
            },
            "type": "scatter"
           }
          ],
          "scatter3d": [
           {
            "line": {
             "colorbar": {
              "outlinewidth": 0,
              "ticks": ""
             }
            },
            "marker": {
             "colorbar": {
              "outlinewidth": 0,
              "ticks": ""
             }
            },
            "type": "scatter3d"
           }
          ],
          "scattercarpet": [
           {
            "marker": {
             "colorbar": {
              "outlinewidth": 0,
              "ticks": ""
             }
            },
            "type": "scattercarpet"
           }
          ],
          "scattergeo": [
           {
            "marker": {
             "colorbar": {
              "outlinewidth": 0,
              "ticks": ""
             }
            },
            "type": "scattergeo"
           }
          ],
          "scattergl": [
           {
            "marker": {
             "colorbar": {
              "outlinewidth": 0,
              "ticks": ""
             }
            },
            "type": "scattergl"
           }
          ],
          "scattermapbox": [
           {
            "marker": {
             "colorbar": {
              "outlinewidth": 0,
              "ticks": ""
             }
            },
            "type": "scattermapbox"
           }
          ],
          "scatterpolar": [
           {
            "marker": {
             "colorbar": {
              "outlinewidth": 0,
              "ticks": ""
             }
            },
            "type": "scatterpolar"
           }
          ],
          "scatterpolargl": [
           {
            "marker": {
             "colorbar": {
              "outlinewidth": 0,
              "ticks": ""
             }
            },
            "type": "scatterpolargl"
           }
          ],
          "scatterternary": [
           {
            "marker": {
             "colorbar": {
              "outlinewidth": 0,
              "ticks": ""
             }
            },
            "type": "scatterternary"
           }
          ],
          "surface": [
           {
            "colorbar": {
             "outlinewidth": 0,
             "ticks": ""
            },
            "colorscale": [
             [
              0,
              "#0d0887"
             ],
             [
              0.1111111111111111,
              "#46039f"
             ],
             [
              0.2222222222222222,
              "#7201a8"
             ],
             [
              0.3333333333333333,
              "#9c179e"
             ],
             [
              0.4444444444444444,
              "#bd3786"
             ],
             [
              0.5555555555555556,
              "#d8576b"
             ],
             [
              0.6666666666666666,
              "#ed7953"
             ],
             [
              0.7777777777777778,
              "#fb9f3a"
             ],
             [
              0.8888888888888888,
              "#fdca26"
             ],
             [
              1,
              "#f0f921"
             ]
            ],
            "type": "surface"
           }
          ],
          "table": [
           {
            "cells": {
             "fill": {
              "color": "#EBF0F8"
             },
             "line": {
              "color": "white"
             }
            },
            "header": {
             "fill": {
              "color": "#C8D4E3"
             },
             "line": {
              "color": "white"
             }
            },
            "type": "table"
           }
          ]
         },
         "layout": {
          "annotationdefaults": {
           "arrowcolor": "#2a3f5f",
           "arrowhead": 0,
           "arrowwidth": 1
          },
          "autotypenumbers": "strict",
          "coloraxis": {
           "colorbar": {
            "outlinewidth": 0,
            "ticks": ""
           }
          },
          "colorscale": {
           "diverging": [
            [
             0,
             "#8e0152"
            ],
            [
             0.1,
             "#c51b7d"
            ],
            [
             0.2,
             "#de77ae"
            ],
            [
             0.3,
             "#f1b6da"
            ],
            [
             0.4,
             "#fde0ef"
            ],
            [
             0.5,
             "#f7f7f7"
            ],
            [
             0.6,
             "#e6f5d0"
            ],
            [
             0.7,
             "#b8e186"
            ],
            [
             0.8,
             "#7fbc41"
            ],
            [
             0.9,
             "#4d9221"
            ],
            [
             1,
             "#276419"
            ]
           ],
           "sequential": [
            [
             0,
             "#0d0887"
            ],
            [
             0.1111111111111111,
             "#46039f"
            ],
            [
             0.2222222222222222,
             "#7201a8"
            ],
            [
             0.3333333333333333,
             "#9c179e"
            ],
            [
             0.4444444444444444,
             "#bd3786"
            ],
            [
             0.5555555555555556,
             "#d8576b"
            ],
            [
             0.6666666666666666,
             "#ed7953"
            ],
            [
             0.7777777777777778,
             "#fb9f3a"
            ],
            [
             0.8888888888888888,
             "#fdca26"
            ],
            [
             1,
             "#f0f921"
            ]
           ],
           "sequentialminus": [
            [
             0,
             "#0d0887"
            ],
            [
             0.1111111111111111,
             "#46039f"
            ],
            [
             0.2222222222222222,
             "#7201a8"
            ],
            [
             0.3333333333333333,
             "#9c179e"
            ],
            [
             0.4444444444444444,
             "#bd3786"
            ],
            [
             0.5555555555555556,
             "#d8576b"
            ],
            [
             0.6666666666666666,
             "#ed7953"
            ],
            [
             0.7777777777777778,
             "#fb9f3a"
            ],
            [
             0.8888888888888888,
             "#fdca26"
            ],
            [
             1,
             "#f0f921"
            ]
           ]
          },
          "colorway": [
           "#636efa",
           "#EF553B",
           "#00cc96",
           "#ab63fa",
           "#FFA15A",
           "#19d3f3",
           "#FF6692",
           "#B6E880",
           "#FF97FF",
           "#FECB52"
          ],
          "font": {
           "color": "#2a3f5f"
          },
          "geo": {
           "bgcolor": "white",
           "lakecolor": "white",
           "landcolor": "#E5ECF6",
           "showlakes": true,
           "showland": true,
           "subunitcolor": "white"
          },
          "hoverlabel": {
           "align": "left"
          },
          "hovermode": "closest",
          "mapbox": {
           "style": "light"
          },
          "paper_bgcolor": "white",
          "plot_bgcolor": "#E5ECF6",
          "polar": {
           "angularaxis": {
            "gridcolor": "white",
            "linecolor": "white",
            "ticks": ""
           },
           "bgcolor": "#E5ECF6",
           "radialaxis": {
            "gridcolor": "white",
            "linecolor": "white",
            "ticks": ""
           }
          },
          "scene": {
           "xaxis": {
            "backgroundcolor": "#E5ECF6",
            "gridcolor": "white",
            "gridwidth": 2,
            "linecolor": "white",
            "showbackground": true,
            "ticks": "",
            "zerolinecolor": "white"
           },
           "yaxis": {
            "backgroundcolor": "#E5ECF6",
            "gridcolor": "white",
            "gridwidth": 2,
            "linecolor": "white",
            "showbackground": true,
            "ticks": "",
            "zerolinecolor": "white"
           },
           "zaxis": {
            "backgroundcolor": "#E5ECF6",
            "gridcolor": "white",
            "gridwidth": 2,
            "linecolor": "white",
            "showbackground": true,
            "ticks": "",
            "zerolinecolor": "white"
           }
          },
          "shapedefaults": {
           "line": {
            "color": "#2a3f5f"
           }
          },
          "ternary": {
           "aaxis": {
            "gridcolor": "white",
            "linecolor": "white",
            "ticks": ""
           },
           "baxis": {
            "gridcolor": "white",
            "linecolor": "white",
            "ticks": ""
           },
           "bgcolor": "#E5ECF6",
           "caxis": {
            "gridcolor": "white",
            "linecolor": "white",
            "ticks": ""
           }
          },
          "title": {
           "x": 0.05
          },
          "xaxis": {
           "automargin": true,
           "gridcolor": "white",
           "linecolor": "white",
           "ticks": "",
           "title": {
            "standoff": 15
           },
           "zerolinecolor": "white",
           "zerolinewidth": 2
          },
          "yaxis": {
           "automargin": true,
           "gridcolor": "white",
           "linecolor": "white",
           "ticks": "",
           "title": {
            "standoff": 15
           },
           "zerolinecolor": "white",
           "zerolinewidth": 2
          }
         }
        },
        "title": {
         "text": "Clustering de intentos"
        },
        "width": 800,
        "xaxis": {
         "title": {
          "text": "Edad_Genero"
         }
        },
        "yaxis": {
         "title": {
          "text": "Mezcla de Intentos y Tiempo"
         }
        }
       }
      }
     },
     "metadata": {},
     "output_type": "display_data"
    }
   ],
   "source": [
    "from sklearn.cluster import SpectralClustering\n",
    "\n",
    "# Convertir los valores de la columna 'genero' en valores numéricos utilizando el diccionario de etiquetas\n",
    "df['edad_genero_num'] = df['edad_genero'].apply(lambda x: etiquetas_edad_genero[x])\n",
    "\n",
    "# Eliminar columnas innecesarias antes de crear la matriz de características\n",
    "matriz_caracteristicas = df.drop(['G03Q02', 'token', 'G03Q01', 'edad_genero'], axis=1).values\n",
    "\n",
    "# Normalizar los datos\n",
    "matriz_caracteristicas_norm = StandardScaler().fit_transform(matriz_caracteristicas)\n",
    "\n",
    "# Definimos el modelo\n",
    "model = SpectralClustering(n_components=None, random_state=None)\n",
    "\n",
    "# Axustamos el modelo aos datos\n",
    "agrupamiento = model.fit_predict(matriz_caracteristicas_norm)\n",
    "\n",
    "# Crear la figura\n",
    "fig = go.Figure(data=[go.Scatter(x=df['edad_genero'], y=df['mezcla_intentos_tiempo'], mode='markers',\n",
    "                                 marker=dict(size=10, color=agrupamento.labels_ + 1, opacity=0.8,\n",
    "                                             colorscale='Viridis'))])\n",
    "\n",
    "# Configurar layout\n",
    "fig.update_layout(title='Clustering de intentos',\n",
    "                  xaxis_title='Edad_Genero',\n",
    "                  yaxis_title='Mezcla de Intentos y Tiempo',\n",
    "                  width=800, height=600)\n",
    "\n",
    "# Mostrar gráfica\n",
    "fig.show()\n"
   ]
  },
  {
   "cell_type": "code",
   "execution_count": 21,
   "metadata": {},
   "outputs": [
    {
     "name": "stderr",
     "output_type": "stream",
     "text": [
      "C:\\Users\\david\\AppData\\Local\\Temp\\ipykernel_24608\\2127888770.py:1: SettingWithCopyWarning:\n",
      "\n",
      "\n",
      "A value is trying to be set on a copy of a slice from a DataFrame.\n",
      "Try using .loc[row_indexer,col_indexer] = value instead\n",
      "\n",
      "See the caveats in the documentation: https://pandas.pydata.org/pandas-docs/stable/user_guide/indexing.html#returning-a-view-versus-a-copy\n",
      "\n"
     ]
    },
    {
     "data": {
      "text/html": [
       "<div>\n",
       "<style scoped>\n",
       "    .dataframe tbody tr th:only-of-type {\n",
       "        vertical-align: middle;\n",
       "    }\n",
       "\n",
       "    .dataframe tbody tr th {\n",
       "        vertical-align: top;\n",
       "    }\n",
       "\n",
       "    .dataframe thead th {\n",
       "        text-align: right;\n",
       "    }\n",
       "</style>\n",
       "<table border=\"1\" class=\"dataframe\">\n",
       "  <thead>\n",
       "    <tr style=\"text-align: right;\">\n",
       "      <th></th>\n",
       "      <th>token</th>\n",
       "      <th>intentos</th>\n",
       "      <th>tiempo</th>\n",
       "      <th>G03Q01</th>\n",
       "      <th>G03Q02</th>\n",
       "      <th>edad_genero</th>\n",
       "      <th>mezcla_intentos_tiempo</th>\n",
       "      <th>edad_genero_num</th>\n",
       "      <th>cluster</th>\n",
       "    </tr>\n",
       "  </thead>\n",
       "  <tbody>\n",
       "    <tr>\n",
       "      <th>3</th>\n",
       "      <td>asopk</td>\n",
       "      <td>1.885714</td>\n",
       "      <td>5.666881</td>\n",
       "      <td>14</td>\n",
       "      <td>Masculino</td>\n",
       "      <td>Masculino 14</td>\n",
       "      <td>3.776297</td>\n",
       "      <td>0</td>\n",
       "      <td>0</td>\n",
       "    </tr>\n",
       "    <tr>\n",
       "      <th>4</th>\n",
       "      <td>atlzs</td>\n",
       "      <td>2.423077</td>\n",
       "      <td>5.272170</td>\n",
       "      <td>14</td>\n",
       "      <td>Femenino</td>\n",
       "      <td>Femenino 14</td>\n",
       "      <td>3.847624</td>\n",
       "      <td>1</td>\n",
       "      <td>1</td>\n",
       "    </tr>\n",
       "    <tr>\n",
       "      <th>5</th>\n",
       "      <td>auvqa</td>\n",
       "      <td>2.043478</td>\n",
       "      <td>6.953159</td>\n",
       "      <td>14</td>\n",
       "      <td>Femenino</td>\n",
       "      <td>Femenino 14</td>\n",
       "      <td>4.498319</td>\n",
       "      <td>1</td>\n",
       "      <td>1</td>\n",
       "    </tr>\n",
       "    <tr>\n",
       "      <th>7</th>\n",
       "      <td>bdwyj</td>\n",
       "      <td>2.950000</td>\n",
       "      <td>6.006920</td>\n",
       "      <td>13</td>\n",
       "      <td>Masculino</td>\n",
       "      <td>Masculino 13</td>\n",
       "      <td>4.478460</td>\n",
       "      <td>2</td>\n",
       "      <td>2</td>\n",
       "    </tr>\n",
       "    <tr>\n",
       "      <th>8</th>\n",
       "      <td>bhyhw</td>\n",
       "      <td>1.892857</td>\n",
       "      <td>5.918490</td>\n",
       "      <td>14</td>\n",
       "      <td>Masculino</td>\n",
       "      <td>Masculino 14</td>\n",
       "      <td>3.905674</td>\n",
       "      <td>0</td>\n",
       "      <td>0</td>\n",
       "    </tr>\n",
       "    <tr>\n",
       "      <th>9</th>\n",
       "      <td>bjvnt</td>\n",
       "      <td>2.700000</td>\n",
       "      <td>3.000000</td>\n",
       "      <td>15</td>\n",
       "      <td>Femenino</td>\n",
       "      <td>Femenino 15</td>\n",
       "      <td>2.850000</td>\n",
       "      <td>3</td>\n",
       "      <td>-1</td>\n",
       "    </tr>\n",
       "    <tr>\n",
       "      <th>11</th>\n",
       "      <td>buvgs</td>\n",
       "      <td>2.636364</td>\n",
       "      <td>6.534245</td>\n",
       "      <td>12</td>\n",
       "      <td>Femenino</td>\n",
       "      <td>Femenino 12</td>\n",
       "      <td>4.585304</td>\n",
       "      <td>4</td>\n",
       "      <td>3</td>\n",
       "    </tr>\n",
       "    <tr>\n",
       "      <th>13</th>\n",
       "      <td>cmbfi</td>\n",
       "      <td>1.516129</td>\n",
       "      <td>5.883715</td>\n",
       "      <td>13</td>\n",
       "      <td>Masculino</td>\n",
       "      <td>Masculino 13</td>\n",
       "      <td>3.699922</td>\n",
       "      <td>2</td>\n",
       "      <td>2</td>\n",
       "    </tr>\n",
       "    <tr>\n",
       "      <th>16</th>\n",
       "      <td>dunul</td>\n",
       "      <td>1.586207</td>\n",
       "      <td>6.514073</td>\n",
       "      <td>14</td>\n",
       "      <td>Otro</td>\n",
       "      <td>Otro 14</td>\n",
       "      <td>4.050140</td>\n",
       "      <td>5</td>\n",
       "      <td>-1</td>\n",
       "    </tr>\n",
       "    <tr>\n",
       "      <th>19</th>\n",
       "      <td>eayrh</td>\n",
       "      <td>2.739130</td>\n",
       "      <td>5.227795</td>\n",
       "      <td>13</td>\n",
       "      <td>Femenino</td>\n",
       "      <td>Femenino 13</td>\n",
       "      <td>3.983462</td>\n",
       "      <td>6</td>\n",
       "      <td>4</td>\n",
       "    </tr>\n",
       "    <tr>\n",
       "      <th>20</th>\n",
       "      <td>edxmq</td>\n",
       "      <td>4.950000</td>\n",
       "      <td>4.876273</td>\n",
       "      <td>14</td>\n",
       "      <td>Masculino</td>\n",
       "      <td>Masculino 14</td>\n",
       "      <td>4.913137</td>\n",
       "      <td>0</td>\n",
       "      <td>0</td>\n",
       "    </tr>\n",
       "    <tr>\n",
       "      <th>21</th>\n",
       "      <td>ejeuw</td>\n",
       "      <td>2.285714</td>\n",
       "      <td>5.498622</td>\n",
       "      <td>13</td>\n",
       "      <td>Femenino</td>\n",
       "      <td>Femenino 13</td>\n",
       "      <td>3.892168</td>\n",
       "      <td>6</td>\n",
       "      <td>4</td>\n",
       "    </tr>\n",
       "    <tr>\n",
       "      <th>22</th>\n",
       "      <td>epjcx</td>\n",
       "      <td>5.555556</td>\n",
       "      <td>6.394231</td>\n",
       "      <td>12</td>\n",
       "      <td>Masculino</td>\n",
       "      <td>Masculino 12</td>\n",
       "      <td>5.974893</td>\n",
       "      <td>7</td>\n",
       "      <td>-1</td>\n",
       "    </tr>\n",
       "    <tr>\n",
       "      <th>23</th>\n",
       "      <td>epqkm</td>\n",
       "      <td>2.384615</td>\n",
       "      <td>6.644118</td>\n",
       "      <td>14</td>\n",
       "      <td>Masculino</td>\n",
       "      <td>Masculino 14</td>\n",
       "      <td>4.514367</td>\n",
       "      <td>0</td>\n",
       "      <td>0</td>\n",
       "    </tr>\n",
       "    <tr>\n",
       "      <th>24</th>\n",
       "      <td>eprdu</td>\n",
       "      <td>1.714286</td>\n",
       "      <td>4.852870</td>\n",
       "      <td>14</td>\n",
       "      <td>Masculino</td>\n",
       "      <td>Masculino 14</td>\n",
       "      <td>3.283578</td>\n",
       "      <td>0</td>\n",
       "      <td>0</td>\n",
       "    </tr>\n",
       "    <tr>\n",
       "      <th>26</th>\n",
       "      <td>ewqbs</td>\n",
       "      <td>3.136364</td>\n",
       "      <td>5.388147</td>\n",
       "      <td>14</td>\n",
       "      <td>Masculino</td>\n",
       "      <td>Masculino 14</td>\n",
       "      <td>4.262255</td>\n",
       "      <td>0</td>\n",
       "      <td>0</td>\n",
       "    </tr>\n",
       "    <tr>\n",
       "      <th>27</th>\n",
       "      <td>fbldj</td>\n",
       "      <td>2.037037</td>\n",
       "      <td>5.926862</td>\n",
       "      <td>12</td>\n",
       "      <td>Femenino</td>\n",
       "      <td>Femenino 12</td>\n",
       "      <td>3.981950</td>\n",
       "      <td>4</td>\n",
       "      <td>3</td>\n",
       "    </tr>\n",
       "    <tr>\n",
       "      <th>28</th>\n",
       "      <td>fivin</td>\n",
       "      <td>2.000000</td>\n",
       "      <td>5.590452</td>\n",
       "      <td>15</td>\n",
       "      <td>Femenino</td>\n",
       "      <td>Femenino 15</td>\n",
       "      <td>3.795226</td>\n",
       "      <td>3</td>\n",
       "      <td>-1</td>\n",
       "    </tr>\n",
       "    <tr>\n",
       "      <th>29</th>\n",
       "      <td>fkmtp</td>\n",
       "      <td>2.720000</td>\n",
       "      <td>6.539927</td>\n",
       "      <td>13</td>\n",
       "      <td>Masculino</td>\n",
       "      <td>Masculino 13</td>\n",
       "      <td>4.629963</td>\n",
       "      <td>2</td>\n",
       "      <td>2</td>\n",
       "    </tr>\n",
       "    <tr>\n",
       "      <th>30</th>\n",
       "      <td>fmtrq</td>\n",
       "      <td>1.913043</td>\n",
       "      <td>6.209523</td>\n",
       "      <td>13</td>\n",
       "      <td>Masculino</td>\n",
       "      <td>Masculino 13</td>\n",
       "      <td>4.061283</td>\n",
       "      <td>2</td>\n",
       "      <td>2</td>\n",
       "    </tr>\n",
       "    <tr>\n",
       "      <th>32</th>\n",
       "      <td>ftpnb</td>\n",
       "      <td>1.571429</td>\n",
       "      <td>4.317314</td>\n",
       "      <td>14</td>\n",
       "      <td>Masculino</td>\n",
       "      <td>Masculino 14</td>\n",
       "      <td>2.944372</td>\n",
       "      <td>0</td>\n",
       "      <td>0</td>\n",
       "    </tr>\n",
       "    <tr>\n",
       "      <th>34</th>\n",
       "      <td>gcpze</td>\n",
       "      <td>1.400000</td>\n",
       "      <td>4.378168</td>\n",
       "      <td>13</td>\n",
       "      <td>Masculino</td>\n",
       "      <td>Masculino 13</td>\n",
       "      <td>2.889084</td>\n",
       "      <td>2</td>\n",
       "      <td>2</td>\n",
       "    </tr>\n",
       "    <tr>\n",
       "      <th>35</th>\n",
       "      <td>gdljy</td>\n",
       "      <td>4.176471</td>\n",
       "      <td>6.651510</td>\n",
       "      <td>14</td>\n",
       "      <td>Femenino</td>\n",
       "      <td>Femenino 14</td>\n",
       "      <td>5.413990</td>\n",
       "      <td>1</td>\n",
       "      <td>-1</td>\n",
       "    </tr>\n",
       "    <tr>\n",
       "      <th>36</th>\n",
       "      <td>gguuc</td>\n",
       "      <td>4.350000</td>\n",
       "      <td>3.698123</td>\n",
       "      <td>15</td>\n",
       "      <td>Femenino</td>\n",
       "      <td>Femenino 15</td>\n",
       "      <td>4.024061</td>\n",
       "      <td>3</td>\n",
       "      <td>-1</td>\n",
       "    </tr>\n",
       "    <tr>\n",
       "      <th>37</th>\n",
       "      <td>gleqe</td>\n",
       "      <td>2.040000</td>\n",
       "      <td>5.278054</td>\n",
       "      <td>13</td>\n",
       "      <td>Masculino</td>\n",
       "      <td>Masculino 13</td>\n",
       "      <td>3.659027</td>\n",
       "      <td>2</td>\n",
       "      <td>2</td>\n",
       "    </tr>\n",
       "    <tr>\n",
       "      <th>39</th>\n",
       "      <td>grkij</td>\n",
       "      <td>2.478261</td>\n",
       "      <td>6.583177</td>\n",
       "      <td>14</td>\n",
       "      <td>Femenino</td>\n",
       "      <td>Femenino 14</td>\n",
       "      <td>4.530719</td>\n",
       "      <td>1</td>\n",
       "      <td>1</td>\n",
       "    </tr>\n",
       "    <tr>\n",
       "      <th>40</th>\n",
       "      <td>gzgfk</td>\n",
       "      <td>4.666667</td>\n",
       "      <td>3.916667</td>\n",
       "      <td>13</td>\n",
       "      <td>Femenino</td>\n",
       "      <td>Femenino 13</td>\n",
       "      <td>4.291667</td>\n",
       "      <td>6</td>\n",
       "      <td>4</td>\n",
       "    </tr>\n",
       "    <tr>\n",
       "      <th>41</th>\n",
       "      <td>hcbyl</td>\n",
       "      <td>3.200000</td>\n",
       "      <td>6.363011</td>\n",
       "      <td>13</td>\n",
       "      <td>Otro</td>\n",
       "      <td>Otro 13</td>\n",
       "      <td>4.781505</td>\n",
       "      <td>8</td>\n",
       "      <td>-1</td>\n",
       "    </tr>\n",
       "    <tr>\n",
       "      <th>43</th>\n",
       "      <td>hpdxj</td>\n",
       "      <td>3.142857</td>\n",
       "      <td>4.500754</td>\n",
       "      <td>14</td>\n",
       "      <td>Masculino</td>\n",
       "      <td>Masculino 14</td>\n",
       "      <td>3.821806</td>\n",
       "      <td>0</td>\n",
       "      <td>0</td>\n",
       "    </tr>\n",
       "    <tr>\n",
       "      <th>48</th>\n",
       "      <td>ikcar</td>\n",
       "      <td>1.863636</td>\n",
       "      <td>5.853960</td>\n",
       "      <td>13</td>\n",
       "      <td>Femenino</td>\n",
       "      <td>Femenino 13</td>\n",
       "      <td>3.858798</td>\n",
       "      <td>6</td>\n",
       "      <td>4</td>\n",
       "    </tr>\n",
       "    <tr>\n",
       "      <th>49</th>\n",
       "      <td>ipdcp</td>\n",
       "      <td>2.318182</td>\n",
       "      <td>4.021263</td>\n",
       "      <td>14</td>\n",
       "      <td>Masculino</td>\n",
       "      <td>Masculino 14</td>\n",
       "      <td>3.169722</td>\n",
       "      <td>0</td>\n",
       "      <td>0</td>\n",
       "    </tr>\n",
       "    <tr>\n",
       "      <th>50</th>\n",
       "      <td>itkas</td>\n",
       "      <td>4.500000</td>\n",
       "      <td>5.241525</td>\n",
       "      <td>12</td>\n",
       "      <td>Masculino</td>\n",
       "      <td>Masculino 12</td>\n",
       "      <td>4.870763</td>\n",
       "      <td>7</td>\n",
       "      <td>-1</td>\n",
       "    </tr>\n",
       "    <tr>\n",
       "      <th>52</th>\n",
       "      <td>jhbuv</td>\n",
       "      <td>2.428571</td>\n",
       "      <td>6.425109</td>\n",
       "      <td>15</td>\n",
       "      <td>Masculino</td>\n",
       "      <td>Masculino 15</td>\n",
       "      <td>4.426840</td>\n",
       "      <td>9</td>\n",
       "      <td>5</td>\n",
       "    </tr>\n",
       "    <tr>\n",
       "      <th>53</th>\n",
       "      <td>jozyx</td>\n",
       "      <td>3.352941</td>\n",
       "      <td>4.979539</td>\n",
       "      <td>14</td>\n",
       "      <td>Femenino</td>\n",
       "      <td>Femenino 14</td>\n",
       "      <td>4.166240</td>\n",
       "      <td>1</td>\n",
       "      <td>1</td>\n",
       "    </tr>\n",
       "    <tr>\n",
       "      <th>54</th>\n",
       "      <td>khadt</td>\n",
       "      <td>2.000000</td>\n",
       "      <td>5.666210</td>\n",
       "      <td>14</td>\n",
       "      <td>Femenino</td>\n",
       "      <td>Femenino 14</td>\n",
       "      <td>3.833105</td>\n",
       "      <td>1</td>\n",
       "      <td>1</td>\n",
       "    </tr>\n",
       "    <tr>\n",
       "      <th>55</th>\n",
       "      <td>khfha</td>\n",
       "      <td>4.045455</td>\n",
       "      <td>6.318751</td>\n",
       "      <td>13</td>\n",
       "      <td>Femenino</td>\n",
       "      <td>Femenino 13</td>\n",
       "      <td>5.182103</td>\n",
       "      <td>6</td>\n",
       "      <td>4</td>\n",
       "    </tr>\n",
       "    <tr>\n",
       "      <th>57</th>\n",
       "      <td>kkoif</td>\n",
       "      <td>1.785714</td>\n",
       "      <td>5.555407</td>\n",
       "      <td>13</td>\n",
       "      <td>Femenino</td>\n",
       "      <td>Femenino 13</td>\n",
       "      <td>3.670561</td>\n",
       "      <td>6</td>\n",
       "      <td>4</td>\n",
       "    </tr>\n",
       "    <tr>\n",
       "      <th>58</th>\n",
       "      <td>kmqou</td>\n",
       "      <td>2.863636</td>\n",
       "      <td>4.042614</td>\n",
       "      <td>13</td>\n",
       "      <td>Otro</td>\n",
       "      <td>Otro 13</td>\n",
       "      <td>3.453125</td>\n",
       "      <td>8</td>\n",
       "      <td>-1</td>\n",
       "    </tr>\n",
       "    <tr>\n",
       "      <th>61</th>\n",
       "      <td>kzles</td>\n",
       "      <td>1.520000</td>\n",
       "      <td>6.373680</td>\n",
       "      <td>12</td>\n",
       "      <td>Femenino</td>\n",
       "      <td>Femenino 12</td>\n",
       "      <td>3.946840</td>\n",
       "      <td>4</td>\n",
       "      <td>3</td>\n",
       "    </tr>\n",
       "    <tr>\n",
       "      <th>64</th>\n",
       "      <td>lohyo</td>\n",
       "      <td>4.476190</td>\n",
       "      <td>3.659881</td>\n",
       "      <td>12</td>\n",
       "      <td>Femenino</td>\n",
       "      <td>Femenino 12</td>\n",
       "      <td>4.068036</td>\n",
       "      <td>4</td>\n",
       "      <td>3</td>\n",
       "    </tr>\n",
       "    <tr>\n",
       "      <th>65</th>\n",
       "      <td>lwryl</td>\n",
       "      <td>2.736842</td>\n",
       "      <td>7.000213</td>\n",
       "      <td>14</td>\n",
       "      <td>Masculino</td>\n",
       "      <td>Masculino 14</td>\n",
       "      <td>4.868527</td>\n",
       "      <td>0</td>\n",
       "      <td>0</td>\n",
       "    </tr>\n",
       "    <tr>\n",
       "      <th>66</th>\n",
       "      <td>mewpz</td>\n",
       "      <td>3.681818</td>\n",
       "      <td>5.905386</td>\n",
       "      <td>12</td>\n",
       "      <td>Femenino</td>\n",
       "      <td>Femenino 12</td>\n",
       "      <td>4.793602</td>\n",
       "      <td>4</td>\n",
       "      <td>3</td>\n",
       "    </tr>\n",
       "    <tr>\n",
       "      <th>67</th>\n",
       "      <td>mgaak</td>\n",
       "      <td>1.400000</td>\n",
       "      <td>4.055539</td>\n",
       "      <td>15</td>\n",
       "      <td>Masculino</td>\n",
       "      <td>Masculino 15</td>\n",
       "      <td>2.727770</td>\n",
       "      <td>9</td>\n",
       "      <td>5</td>\n",
       "    </tr>\n",
       "    <tr>\n",
       "      <th>69</th>\n",
       "      <td>mymho</td>\n",
       "      <td>4.833333</td>\n",
       "      <td>6.705357</td>\n",
       "      <td>15</td>\n",
       "      <td>Femenino</td>\n",
       "      <td>Femenino 15</td>\n",
       "      <td>5.769345</td>\n",
       "      <td>3</td>\n",
       "      <td>-1</td>\n",
       "    </tr>\n",
       "    <tr>\n",
       "      <th>70</th>\n",
       "      <td>ngavz</td>\n",
       "      <td>2.485714</td>\n",
       "      <td>3.264442</td>\n",
       "      <td>14</td>\n",
       "      <td>Masculino</td>\n",
       "      <td>Masculino 14</td>\n",
       "      <td>2.875078</td>\n",
       "      <td>0</td>\n",
       "      <td>0</td>\n",
       "    </tr>\n",
       "    <tr>\n",
       "      <th>71</th>\n",
       "      <td>nhbnj</td>\n",
       "      <td>5.052632</td>\n",
       "      <td>6.987273</td>\n",
       "      <td>12</td>\n",
       "      <td>Masculino</td>\n",
       "      <td>Masculino 12</td>\n",
       "      <td>6.019952</td>\n",
       "      <td>7</td>\n",
       "      <td>-1</td>\n",
       "    </tr>\n",
       "    <tr>\n",
       "      <th>74</th>\n",
       "      <td>nuasx</td>\n",
       "      <td>3.800000</td>\n",
       "      <td>5.669475</td>\n",
       "      <td>13</td>\n",
       "      <td>Masculino</td>\n",
       "      <td>Masculino 13</td>\n",
       "      <td>4.734738</td>\n",
       "      <td>2</td>\n",
       "      <td>2</td>\n",
       "    </tr>\n",
       "    <tr>\n",
       "      <th>75</th>\n",
       "      <td>oahey</td>\n",
       "      <td>1.689655</td>\n",
       "      <td>5.888230</td>\n",
       "      <td>13</td>\n",
       "      <td>Masculino</td>\n",
       "      <td>Masculino 13</td>\n",
       "      <td>3.788943</td>\n",
       "      <td>2</td>\n",
       "      <td>2</td>\n",
       "    </tr>\n",
       "    <tr>\n",
       "      <th>77</th>\n",
       "      <td>onyep</td>\n",
       "      <td>3.703704</td>\n",
       "      <td>4.852661</td>\n",
       "      <td>14</td>\n",
       "      <td>Femenino</td>\n",
       "      <td>Femenino 14</td>\n",
       "      <td>4.278183</td>\n",
       "      <td>1</td>\n",
       "      <td>1</td>\n",
       "    </tr>\n",
       "    <tr>\n",
       "      <th>78</th>\n",
       "      <td>orjyn</td>\n",
       "      <td>4.083333</td>\n",
       "      <td>4.978347</td>\n",
       "      <td>12</td>\n",
       "      <td>Femenino</td>\n",
       "      <td>Femenino 12</td>\n",
       "      <td>4.530840</td>\n",
       "      <td>4</td>\n",
       "      <td>3</td>\n",
       "    </tr>\n",
       "    <tr>\n",
       "      <th>79</th>\n",
       "      <td>pbgky</td>\n",
       "      <td>2.250000</td>\n",
       "      <td>5.538329</td>\n",
       "      <td>13</td>\n",
       "      <td>Masculino</td>\n",
       "      <td>Masculino 13</td>\n",
       "      <td>3.894165</td>\n",
       "      <td>2</td>\n",
       "      <td>2</td>\n",
       "    </tr>\n",
       "    <tr>\n",
       "      <th>80</th>\n",
       "      <td>pbwkf</td>\n",
       "      <td>2.583333</td>\n",
       "      <td>4.321943</td>\n",
       "      <td>13</td>\n",
       "      <td>Masculino</td>\n",
       "      <td>Masculino 13</td>\n",
       "      <td>3.452638</td>\n",
       "      <td>2</td>\n",
       "      <td>2</td>\n",
       "    </tr>\n",
       "    <tr>\n",
       "      <th>81</th>\n",
       "      <td>pleui</td>\n",
       "      <td>1.814815</td>\n",
       "      <td>6.004582</td>\n",
       "      <td>13</td>\n",
       "      <td>Masculino</td>\n",
       "      <td>Masculino 13</td>\n",
       "      <td>3.909699</td>\n",
       "      <td>2</td>\n",
       "      <td>2</td>\n",
       "    </tr>\n",
       "    <tr>\n",
       "      <th>85</th>\n",
       "      <td>ptmkr</td>\n",
       "      <td>3.956522</td>\n",
       "      <td>4.829527</td>\n",
       "      <td>13</td>\n",
       "      <td>Masculino</td>\n",
       "      <td>Masculino 13</td>\n",
       "      <td>4.393024</td>\n",
       "      <td>2</td>\n",
       "      <td>2</td>\n",
       "    </tr>\n",
       "    <tr>\n",
       "      <th>86</th>\n",
       "      <td>pygoc</td>\n",
       "      <td>1.533333</td>\n",
       "      <td>4.913242</td>\n",
       "      <td>14</td>\n",
       "      <td>Otro</td>\n",
       "      <td>Otro 14</td>\n",
       "      <td>3.223287</td>\n",
       "      <td>5</td>\n",
       "      <td>-1</td>\n",
       "    </tr>\n",
       "    <tr>\n",
       "      <th>87</th>\n",
       "      <td>pzfdd</td>\n",
       "      <td>2.450000</td>\n",
       "      <td>5.331609</td>\n",
       "      <td>13</td>\n",
       "      <td>Masculino</td>\n",
       "      <td>Masculino 13</td>\n",
       "      <td>3.890805</td>\n",
       "      <td>2</td>\n",
       "      <td>2</td>\n",
       "    </tr>\n",
       "    <tr>\n",
       "      <th>89</th>\n",
       "      <td>qeqyj</td>\n",
       "      <td>2.200000</td>\n",
       "      <td>4.537446</td>\n",
       "      <td>13</td>\n",
       "      <td>Masculino</td>\n",
       "      <td>Masculino 13</td>\n",
       "      <td>3.368723</td>\n",
       "      <td>2</td>\n",
       "      <td>2</td>\n",
       "    </tr>\n",
       "    <tr>\n",
       "      <th>90</th>\n",
       "      <td>qfsdj</td>\n",
       "      <td>1.275862</td>\n",
       "      <td>5.958268</td>\n",
       "      <td>15</td>\n",
       "      <td>Masculino</td>\n",
       "      <td>Masculino 15</td>\n",
       "      <td>3.617065</td>\n",
       "      <td>9</td>\n",
       "      <td>5</td>\n",
       "    </tr>\n",
       "    <tr>\n",
       "      <th>91</th>\n",
       "      <td>qgcgc</td>\n",
       "      <td>2.296296</td>\n",
       "      <td>5.285877</td>\n",
       "      <td>12</td>\n",
       "      <td>Masculino</td>\n",
       "      <td>Masculino 12</td>\n",
       "      <td>3.791087</td>\n",
       "      <td>7</td>\n",
       "      <td>-1</td>\n",
       "    </tr>\n",
       "    <tr>\n",
       "      <th>93</th>\n",
       "      <td>raqdt</td>\n",
       "      <td>1.909091</td>\n",
       "      <td>6.751498</td>\n",
       "      <td>13</td>\n",
       "      <td>Femenino</td>\n",
       "      <td>Femenino 13</td>\n",
       "      <td>4.330294</td>\n",
       "      <td>6</td>\n",
       "      <td>4</td>\n",
       "    </tr>\n",
       "    <tr>\n",
       "      <th>94</th>\n",
       "      <td>rdiaf</td>\n",
       "      <td>3.607143</td>\n",
       "      <td>4.537196</td>\n",
       "      <td>14</td>\n",
       "      <td>Masculino</td>\n",
       "      <td>Masculino 14</td>\n",
       "      <td>4.072170</td>\n",
       "      <td>0</td>\n",
       "      <td>0</td>\n",
       "    </tr>\n",
       "    <tr>\n",
       "      <th>95</th>\n",
       "      <td>rfofs</td>\n",
       "      <td>6.250000</td>\n",
       "      <td>6.500000</td>\n",
       "      <td>13</td>\n",
       "      <td>Masculino</td>\n",
       "      <td>Masculino 13</td>\n",
       "      <td>6.375000</td>\n",
       "      <td>2</td>\n",
       "      <td>-1</td>\n",
       "    </tr>\n",
       "    <tr>\n",
       "      <th>99</th>\n",
       "      <td>rsjxu</td>\n",
       "      <td>6.071429</td>\n",
       "      <td>5.637196</td>\n",
       "      <td>12</td>\n",
       "      <td>Otro</td>\n",
       "      <td>Otro 12</td>\n",
       "      <td>5.854312</td>\n",
       "      <td>10</td>\n",
       "      <td>-1</td>\n",
       "    </tr>\n",
       "    <tr>\n",
       "      <th>103</th>\n",
       "      <td>srjon</td>\n",
       "      <td>1.333333</td>\n",
       "      <td>5.876009</td>\n",
       "      <td>13</td>\n",
       "      <td>Masculino</td>\n",
       "      <td>Masculino 13</td>\n",
       "      <td>3.604671</td>\n",
       "      <td>2</td>\n",
       "      <td>2</td>\n",
       "    </tr>\n",
       "    <tr>\n",
       "      <th>105</th>\n",
       "      <td>swvxx</td>\n",
       "      <td>3.631579</td>\n",
       "      <td>6.619645</td>\n",
       "      <td>14</td>\n",
       "      <td>Masculino</td>\n",
       "      <td>Masculino 14</td>\n",
       "      <td>5.125612</td>\n",
       "      <td>0</td>\n",
       "      <td>0</td>\n",
       "    </tr>\n",
       "    <tr>\n",
       "      <th>106</th>\n",
       "      <td>sxipu</td>\n",
       "      <td>4.368421</td>\n",
       "      <td>4.511075</td>\n",
       "      <td>14</td>\n",
       "      <td>Femenino</td>\n",
       "      <td>Femenino 14</td>\n",
       "      <td>4.439748</td>\n",
       "      <td>1</td>\n",
       "      <td>1</td>\n",
       "    </tr>\n",
       "    <tr>\n",
       "      <th>108</th>\n",
       "      <td>tavin</td>\n",
       "      <td>2.560000</td>\n",
       "      <td>6.012539</td>\n",
       "      <td>15</td>\n",
       "      <td>Masculino</td>\n",
       "      <td>Masculino 15</td>\n",
       "      <td>4.286270</td>\n",
       "      <td>9</td>\n",
       "      <td>5</td>\n",
       "    </tr>\n",
       "    <tr>\n",
       "      <th>109</th>\n",
       "      <td>tcvyz</td>\n",
       "      <td>2.736842</td>\n",
       "      <td>6.714399</td>\n",
       "      <td>13</td>\n",
       "      <td>Femenino</td>\n",
       "      <td>Femenino 13</td>\n",
       "      <td>4.725620</td>\n",
       "      <td>6</td>\n",
       "      <td>4</td>\n",
       "    </tr>\n",
       "    <tr>\n",
       "      <th>110</th>\n",
       "      <td>tekwp</td>\n",
       "      <td>5.333333</td>\n",
       "      <td>4.290134</td>\n",
       "      <td>14</td>\n",
       "      <td>Masculino</td>\n",
       "      <td>Masculino 14</td>\n",
       "      <td>4.811734</td>\n",
       "      <td>0</td>\n",
       "      <td>0</td>\n",
       "    </tr>\n",
       "    <tr>\n",
       "      <th>113</th>\n",
       "      <td>thaho</td>\n",
       "      <td>3.391304</td>\n",
       "      <td>5.156927</td>\n",
       "      <td>13</td>\n",
       "      <td>Masculino</td>\n",
       "      <td>Masculino 13</td>\n",
       "      <td>4.274115</td>\n",
       "      <td>2</td>\n",
       "      <td>2</td>\n",
       "    </tr>\n",
       "    <tr>\n",
       "      <th>115</th>\n",
       "      <td>tjfzy</td>\n",
       "      <td>5.400000</td>\n",
       "      <td>4.451076</td>\n",
       "      <td>13</td>\n",
       "      <td>Masculino</td>\n",
       "      <td>Masculino 13</td>\n",
       "      <td>4.925538</td>\n",
       "      <td>2</td>\n",
       "      <td>2</td>\n",
       "    </tr>\n",
       "    <tr>\n",
       "      <th>116</th>\n",
       "      <td>tqgyp</td>\n",
       "      <td>5.172414</td>\n",
       "      <td>2.497260</td>\n",
       "      <td>14</td>\n",
       "      <td>Masculino</td>\n",
       "      <td>Masculino 14</td>\n",
       "      <td>3.834837</td>\n",
       "      <td>0</td>\n",
       "      <td>0</td>\n",
       "    </tr>\n",
       "    <tr>\n",
       "      <th>118</th>\n",
       "      <td>ubmtx</td>\n",
       "      <td>4.190476</td>\n",
       "      <td>4.389396</td>\n",
       "      <td>14</td>\n",
       "      <td>Otro</td>\n",
       "      <td>Otro 14</td>\n",
       "      <td>4.289936</td>\n",
       "      <td>5</td>\n",
       "      <td>-1</td>\n",
       "    </tr>\n",
       "    <tr>\n",
       "      <th>119</th>\n",
       "      <td>ucdvy</td>\n",
       "      <td>3.666667</td>\n",
       "      <td>4.551996</td>\n",
       "      <td>15</td>\n",
       "      <td>Masculino</td>\n",
       "      <td>Masculino 15</td>\n",
       "      <td>4.109331</td>\n",
       "      <td>9</td>\n",
       "      <td>5</td>\n",
       "    </tr>\n",
       "    <tr>\n",
       "      <th>120</th>\n",
       "      <td>uniee</td>\n",
       "      <td>3.130435</td>\n",
       "      <td>5.448670</td>\n",
       "      <td>13</td>\n",
       "      <td>Femenino</td>\n",
       "      <td>Femenino 13</td>\n",
       "      <td>4.289552</td>\n",
       "      <td>6</td>\n",
       "      <td>4</td>\n",
       "    </tr>\n",
       "    <tr>\n",
       "      <th>121</th>\n",
       "      <td>uzzpo</td>\n",
       "      <td>1.592593</td>\n",
       "      <td>4.991654</td>\n",
       "      <td>13</td>\n",
       "      <td>Femenino</td>\n",
       "      <td>Femenino 13</td>\n",
       "      <td>3.292123</td>\n",
       "      <td>6</td>\n",
       "      <td>4</td>\n",
       "    </tr>\n",
       "    <tr>\n",
       "      <th>122</th>\n",
       "      <td>vddlg</td>\n",
       "      <td>2.000000</td>\n",
       "      <td>4.500000</td>\n",
       "      <td>14</td>\n",
       "      <td>Femenino</td>\n",
       "      <td>Femenino 14</td>\n",
       "      <td>3.250000</td>\n",
       "      <td>1</td>\n",
       "      <td>1</td>\n",
       "    </tr>\n",
       "    <tr>\n",
       "      <th>124</th>\n",
       "      <td>vsxld</td>\n",
       "      <td>1.269231</td>\n",
       "      <td>6.712788</td>\n",
       "      <td>13</td>\n",
       "      <td>Femenino</td>\n",
       "      <td>Femenino 13</td>\n",
       "      <td>3.991009</td>\n",
       "      <td>6</td>\n",
       "      <td>4</td>\n",
       "    </tr>\n",
       "    <tr>\n",
       "      <th>125</th>\n",
       "      <td>vvqlm</td>\n",
       "      <td>3.045455</td>\n",
       "      <td>5.077514</td>\n",
       "      <td>14</td>\n",
       "      <td>Masculino</td>\n",
       "      <td>Masculino 14</td>\n",
       "      <td>4.061484</td>\n",
       "      <td>0</td>\n",
       "      <td>0</td>\n",
       "    </tr>\n",
       "    <tr>\n",
       "      <th>126</th>\n",
       "      <td>wjaxi</td>\n",
       "      <td>1.925926</td>\n",
       "      <td>4.900420</td>\n",
       "      <td>15</td>\n",
       "      <td>Masculino</td>\n",
       "      <td>Masculino 15</td>\n",
       "      <td>3.413173</td>\n",
       "      <td>9</td>\n",
       "      <td>5</td>\n",
       "    </tr>\n",
       "    <tr>\n",
       "      <th>127</th>\n",
       "      <td>wqmgq</td>\n",
       "      <td>6.000000</td>\n",
       "      <td>5.280436</td>\n",
       "      <td>15</td>\n",
       "      <td>Masculino</td>\n",
       "      <td>Masculino 15</td>\n",
       "      <td>5.640218</td>\n",
       "      <td>9</td>\n",
       "      <td>-1</td>\n",
       "    </tr>\n",
       "    <tr>\n",
       "      <th>128</th>\n",
       "      <td>xbmmw</td>\n",
       "      <td>2.370370</td>\n",
       "      <td>5.337025</td>\n",
       "      <td>13</td>\n",
       "      <td>Masculino</td>\n",
       "      <td>Masculino 13</td>\n",
       "      <td>3.853698</td>\n",
       "      <td>2</td>\n",
       "      <td>2</td>\n",
       "    </tr>\n",
       "    <tr>\n",
       "      <th>131</th>\n",
       "      <td>yazod</td>\n",
       "      <td>2.160000</td>\n",
       "      <td>5.820794</td>\n",
       "      <td>15</td>\n",
       "      <td>Masculino</td>\n",
       "      <td>Masculino 15</td>\n",
       "      <td>3.990397</td>\n",
       "      <td>9</td>\n",
       "      <td>5</td>\n",
       "    </tr>\n",
       "    <tr>\n",
       "      <th>133</th>\n",
       "      <td>yvpmf</td>\n",
       "      <td>4.083333</td>\n",
       "      <td>4.227707</td>\n",
       "      <td>13</td>\n",
       "      <td>Masculino</td>\n",
       "      <td>Masculino 13</td>\n",
       "      <td>4.155520</td>\n",
       "      <td>2</td>\n",
       "      <td>2</td>\n",
       "    </tr>\n",
       "    <tr>\n",
       "      <th>136</th>\n",
       "      <td>yyvas</td>\n",
       "      <td>4.136364</td>\n",
       "      <td>6.905856</td>\n",
       "      <td>12</td>\n",
       "      <td>Femenino</td>\n",
       "      <td>Femenino 12</td>\n",
       "      <td>5.521110</td>\n",
       "      <td>4</td>\n",
       "      <td>-1</td>\n",
       "    </tr>\n",
       "    <tr>\n",
       "      <th>137</th>\n",
       "      <td>zbgwk</td>\n",
       "      <td>4.933333</td>\n",
       "      <td>5.978549</td>\n",
       "      <td>15</td>\n",
       "      <td>Otro</td>\n",
       "      <td>Otro 15</td>\n",
       "      <td>5.455941</td>\n",
       "      <td>11</td>\n",
       "      <td>-1</td>\n",
       "    </tr>\n",
       "    <tr>\n",
       "      <th>139</th>\n",
       "      <td>zdnso</td>\n",
       "      <td>1.925926</td>\n",
       "      <td>5.407341</td>\n",
       "      <td>15</td>\n",
       "      <td>Femenino</td>\n",
       "      <td>Femenino 15</td>\n",
       "      <td>3.666633</td>\n",
       "      <td>3</td>\n",
       "      <td>-1</td>\n",
       "    </tr>\n",
       "    <tr>\n",
       "      <th>142</th>\n",
       "      <td>zxvkj</td>\n",
       "      <td>2.000000</td>\n",
       "      <td>5.417953</td>\n",
       "      <td>14</td>\n",
       "      <td>Femenino</td>\n",
       "      <td>Femenino 14</td>\n",
       "      <td>3.708977</td>\n",
       "      <td>1</td>\n",
       "      <td>1</td>\n",
       "    </tr>\n",
       "  </tbody>\n",
       "</table>\n",
       "</div>"
      ],
      "text/plain": [
       "     token  intentos    tiempo  G03Q01     G03Q02   edad_genero  \\\n",
       "3    asopk  1.885714  5.666881      14  Masculino  Masculino 14   \n",
       "4    atlzs  2.423077  5.272170      14   Femenino   Femenino 14   \n",
       "5    auvqa  2.043478  6.953159      14   Femenino   Femenino 14   \n",
       "7    bdwyj  2.950000  6.006920      13  Masculino  Masculino 13   \n",
       "8    bhyhw  1.892857  5.918490      14  Masculino  Masculino 14   \n",
       "9    bjvnt  2.700000  3.000000      15   Femenino   Femenino 15   \n",
       "11   buvgs  2.636364  6.534245      12   Femenino   Femenino 12   \n",
       "13   cmbfi  1.516129  5.883715      13  Masculino  Masculino 13   \n",
       "16   dunul  1.586207  6.514073      14       Otro       Otro 14   \n",
       "19   eayrh  2.739130  5.227795      13   Femenino   Femenino 13   \n",
       "20   edxmq  4.950000  4.876273      14  Masculino  Masculino 14   \n",
       "21   ejeuw  2.285714  5.498622      13   Femenino   Femenino 13   \n",
       "22   epjcx  5.555556  6.394231      12  Masculino  Masculino 12   \n",
       "23   epqkm  2.384615  6.644118      14  Masculino  Masculino 14   \n",
       "24   eprdu  1.714286  4.852870      14  Masculino  Masculino 14   \n",
       "26   ewqbs  3.136364  5.388147      14  Masculino  Masculino 14   \n",
       "27   fbldj  2.037037  5.926862      12   Femenino   Femenino 12   \n",
       "28   fivin  2.000000  5.590452      15   Femenino   Femenino 15   \n",
       "29   fkmtp  2.720000  6.539927      13  Masculino  Masculino 13   \n",
       "30   fmtrq  1.913043  6.209523      13  Masculino  Masculino 13   \n",
       "32   ftpnb  1.571429  4.317314      14  Masculino  Masculino 14   \n",
       "34   gcpze  1.400000  4.378168      13  Masculino  Masculino 13   \n",
       "35   gdljy  4.176471  6.651510      14   Femenino   Femenino 14   \n",
       "36   gguuc  4.350000  3.698123      15   Femenino   Femenino 15   \n",
       "37   gleqe  2.040000  5.278054      13  Masculino  Masculino 13   \n",
       "39   grkij  2.478261  6.583177      14   Femenino   Femenino 14   \n",
       "40   gzgfk  4.666667  3.916667      13   Femenino   Femenino 13   \n",
       "41   hcbyl  3.200000  6.363011      13       Otro       Otro 13   \n",
       "43   hpdxj  3.142857  4.500754      14  Masculino  Masculino 14   \n",
       "48   ikcar  1.863636  5.853960      13   Femenino   Femenino 13   \n",
       "49   ipdcp  2.318182  4.021263      14  Masculino  Masculino 14   \n",
       "50   itkas  4.500000  5.241525      12  Masculino  Masculino 12   \n",
       "52   jhbuv  2.428571  6.425109      15  Masculino  Masculino 15   \n",
       "53   jozyx  3.352941  4.979539      14   Femenino   Femenino 14   \n",
       "54   khadt  2.000000  5.666210      14   Femenino   Femenino 14   \n",
       "55   khfha  4.045455  6.318751      13   Femenino   Femenino 13   \n",
       "57   kkoif  1.785714  5.555407      13   Femenino   Femenino 13   \n",
       "58   kmqou  2.863636  4.042614      13       Otro       Otro 13   \n",
       "61   kzles  1.520000  6.373680      12   Femenino   Femenino 12   \n",
       "64   lohyo  4.476190  3.659881      12   Femenino   Femenino 12   \n",
       "65   lwryl  2.736842  7.000213      14  Masculino  Masculino 14   \n",
       "66   mewpz  3.681818  5.905386      12   Femenino   Femenino 12   \n",
       "67   mgaak  1.400000  4.055539      15  Masculino  Masculino 15   \n",
       "69   mymho  4.833333  6.705357      15   Femenino   Femenino 15   \n",
       "70   ngavz  2.485714  3.264442      14  Masculino  Masculino 14   \n",
       "71   nhbnj  5.052632  6.987273      12  Masculino  Masculino 12   \n",
       "74   nuasx  3.800000  5.669475      13  Masculino  Masculino 13   \n",
       "75   oahey  1.689655  5.888230      13  Masculino  Masculino 13   \n",
       "77   onyep  3.703704  4.852661      14   Femenino   Femenino 14   \n",
       "78   orjyn  4.083333  4.978347      12   Femenino   Femenino 12   \n",
       "79   pbgky  2.250000  5.538329      13  Masculino  Masculino 13   \n",
       "80   pbwkf  2.583333  4.321943      13  Masculino  Masculino 13   \n",
       "81   pleui  1.814815  6.004582      13  Masculino  Masculino 13   \n",
       "85   ptmkr  3.956522  4.829527      13  Masculino  Masculino 13   \n",
       "86   pygoc  1.533333  4.913242      14       Otro       Otro 14   \n",
       "87   pzfdd  2.450000  5.331609      13  Masculino  Masculino 13   \n",
       "89   qeqyj  2.200000  4.537446      13  Masculino  Masculino 13   \n",
       "90   qfsdj  1.275862  5.958268      15  Masculino  Masculino 15   \n",
       "91   qgcgc  2.296296  5.285877      12  Masculino  Masculino 12   \n",
       "93   raqdt  1.909091  6.751498      13   Femenino   Femenino 13   \n",
       "94   rdiaf  3.607143  4.537196      14  Masculino  Masculino 14   \n",
       "95   rfofs  6.250000  6.500000      13  Masculino  Masculino 13   \n",
       "99   rsjxu  6.071429  5.637196      12       Otro       Otro 12   \n",
       "103  srjon  1.333333  5.876009      13  Masculino  Masculino 13   \n",
       "105  swvxx  3.631579  6.619645      14  Masculino  Masculino 14   \n",
       "106  sxipu  4.368421  4.511075      14   Femenino   Femenino 14   \n",
       "108  tavin  2.560000  6.012539      15  Masculino  Masculino 15   \n",
       "109  tcvyz  2.736842  6.714399      13   Femenino   Femenino 13   \n",
       "110  tekwp  5.333333  4.290134      14  Masculino  Masculino 14   \n",
       "113  thaho  3.391304  5.156927      13  Masculino  Masculino 13   \n",
       "115  tjfzy  5.400000  4.451076      13  Masculino  Masculino 13   \n",
       "116  tqgyp  5.172414  2.497260      14  Masculino  Masculino 14   \n",
       "118  ubmtx  4.190476  4.389396      14       Otro       Otro 14   \n",
       "119  ucdvy  3.666667  4.551996      15  Masculino  Masculino 15   \n",
       "120  uniee  3.130435  5.448670      13   Femenino   Femenino 13   \n",
       "121  uzzpo  1.592593  4.991654      13   Femenino   Femenino 13   \n",
       "122  vddlg  2.000000  4.500000      14   Femenino   Femenino 14   \n",
       "124  vsxld  1.269231  6.712788      13   Femenino   Femenino 13   \n",
       "125  vvqlm  3.045455  5.077514      14  Masculino  Masculino 14   \n",
       "126  wjaxi  1.925926  4.900420      15  Masculino  Masculino 15   \n",
       "127  wqmgq  6.000000  5.280436      15  Masculino  Masculino 15   \n",
       "128  xbmmw  2.370370  5.337025      13  Masculino  Masculino 13   \n",
       "131  yazod  2.160000  5.820794      15  Masculino  Masculino 15   \n",
       "133  yvpmf  4.083333  4.227707      13  Masculino  Masculino 13   \n",
       "136  yyvas  4.136364  6.905856      12   Femenino   Femenino 12   \n",
       "137  zbgwk  4.933333  5.978549      15       Otro       Otro 15   \n",
       "139  zdnso  1.925926  5.407341      15   Femenino   Femenino 15   \n",
       "142  zxvkj  2.000000  5.417953      14   Femenino   Femenino 14   \n",
       "\n",
       "     mezcla_intentos_tiempo  edad_genero_num  cluster  \n",
       "3                  3.776297                0        0  \n",
       "4                  3.847624                1        1  \n",
       "5                  4.498319                1        1  \n",
       "7                  4.478460                2        2  \n",
       "8                  3.905674                0        0  \n",
       "9                  2.850000                3       -1  \n",
       "11                 4.585304                4        3  \n",
       "13                 3.699922                2        2  \n",
       "16                 4.050140                5       -1  \n",
       "19                 3.983462                6        4  \n",
       "20                 4.913137                0        0  \n",
       "21                 3.892168                6        4  \n",
       "22                 5.974893                7       -1  \n",
       "23                 4.514367                0        0  \n",
       "24                 3.283578                0        0  \n",
       "26                 4.262255                0        0  \n",
       "27                 3.981950                4        3  \n",
       "28                 3.795226                3       -1  \n",
       "29                 4.629963                2        2  \n",
       "30                 4.061283                2        2  \n",
       "32                 2.944372                0        0  \n",
       "34                 2.889084                2        2  \n",
       "35                 5.413990                1       -1  \n",
       "36                 4.024061                3       -1  \n",
       "37                 3.659027                2        2  \n",
       "39                 4.530719                1        1  \n",
       "40                 4.291667                6        4  \n",
       "41                 4.781505                8       -1  \n",
       "43                 3.821806                0        0  \n",
       "48                 3.858798                6        4  \n",
       "49                 3.169722                0        0  \n",
       "50                 4.870763                7       -1  \n",
       "52                 4.426840                9        5  \n",
       "53                 4.166240                1        1  \n",
       "54                 3.833105                1        1  \n",
       "55                 5.182103                6        4  \n",
       "57                 3.670561                6        4  \n",
       "58                 3.453125                8       -1  \n",
       "61                 3.946840                4        3  \n",
       "64                 4.068036                4        3  \n",
       "65                 4.868527                0        0  \n",
       "66                 4.793602                4        3  \n",
       "67                 2.727770                9        5  \n",
       "69                 5.769345                3       -1  \n",
       "70                 2.875078                0        0  \n",
       "71                 6.019952                7       -1  \n",
       "74                 4.734738                2        2  \n",
       "75                 3.788943                2        2  \n",
       "77                 4.278183                1        1  \n",
       "78                 4.530840                4        3  \n",
       "79                 3.894165                2        2  \n",
       "80                 3.452638                2        2  \n",
       "81                 3.909699                2        2  \n",
       "85                 4.393024                2        2  \n",
       "86                 3.223287                5       -1  \n",
       "87                 3.890805                2        2  \n",
       "89                 3.368723                2        2  \n",
       "90                 3.617065                9        5  \n",
       "91                 3.791087                7       -1  \n",
       "93                 4.330294                6        4  \n",
       "94                 4.072170                0        0  \n",
       "95                 6.375000                2       -1  \n",
       "99                 5.854312               10       -1  \n",
       "103                3.604671                2        2  \n",
       "105                5.125612                0        0  \n",
       "106                4.439748                1        1  \n",
       "108                4.286270                9        5  \n",
       "109                4.725620                6        4  \n",
       "110                4.811734                0        0  \n",
       "113                4.274115                2        2  \n",
       "115                4.925538                2        2  \n",
       "116                3.834837                0        0  \n",
       "118                4.289936                5       -1  \n",
       "119                4.109331                9        5  \n",
       "120                4.289552                6        4  \n",
       "121                3.292123                6        4  \n",
       "122                3.250000                1        1  \n",
       "124                3.991009                6        4  \n",
       "125                4.061484                0        0  \n",
       "126                3.413173                9        5  \n",
       "127                5.640218                9       -1  \n",
       "128                3.853698                2        2  \n",
       "131                3.990397                9        5  \n",
       "133                4.155520                2        2  \n",
       "136                5.521110                4       -1  \n",
       "137                5.455941               11       -1  \n",
       "139                3.666633                3       -1  \n",
       "142                3.708977                1        1  "
      ]
     },
     "execution_count": 21,
     "metadata": {},
     "output_type": "execute_result"
    }
   ],
   "source": [
    "df['cluster'] = agrupamento.labels_\n",
    "df"
   ]
  },
  {
   "attachments": {},
   "cell_type": "markdown",
   "metadata": {},
   "source": [
    "# Anteriores"
   ]
  },
  {
   "cell_type": "code",
   "execution_count": 22,
   "metadata": {},
   "outputs": [
    {
     "ename": "NameError",
     "evalue": "name 'data_filtrado' is not defined",
     "output_type": "error",
     "traceback": [
      "\u001b[1;31m---------------------------------------------------------------------------\u001b[0m",
      "\u001b[1;31mNameError\u001b[0m                                 Traceback (most recent call last)",
      "Cell \u001b[1;32mIn[22], line 9\u001b[0m\n\u001b[0;32m      6\u001b[0m intentos_jugador_nivel \u001b[39m=\u001b[39m intentos_df_long\u001b[39m.\u001b[39mgroupby([\u001b[39m'\u001b[39m\u001b[39mJugador\u001b[39m\u001b[39m'\u001b[39m, \u001b[39m'\u001b[39m\u001b[39mNivel\u001b[39m\u001b[39m'\u001b[39m])[\u001b[39m'\u001b[39m\u001b[39mIntentos\u001b[39m\u001b[39m'\u001b[39m]\u001b[39m.\u001b[39mmean()\u001b[39m.\u001b[39munstack()\n\u001b[0;32m      8\u001b[0m \u001b[39m# Unir la tabla de intentos de cada jugador con los datos originales\u001b[39;00m\n\u001b[1;32m----> 9\u001b[0m df \u001b[39m=\u001b[39m data_filtrado\u001b[39m.\u001b[39mmerge(intentos_jugador_nivel, left_on\u001b[39m=\u001b[39m\u001b[39m'\u001b[39m\u001b[39mtoken\u001b[39m\u001b[39m'\u001b[39m, right_index\u001b[39m=\u001b[39m\u001b[39mTrue\u001b[39;00m)\n\u001b[0;32m     11\u001b[0m \u001b[39m# Seleccionar las variables a utilizar para el clustering\u001b[39;00m\n\u001b[0;32m     12\u001b[0m X \u001b[39m=\u001b[39m df\u001b[39m.\u001b[39miloc[:, \u001b[39m3\u001b[39m:] \u001b[39m# Seleccionar las columnas correspondientes a los niveles\u001b[39;00m\n",
      "\u001b[1;31mNameError\u001b[0m: name 'data_filtrado' is not defined"
     ]
    }
   ],
   "source": [
    "\n",
    "\n",
    "# Pivotear el DataFrame para tener un formato largo\n",
    "intentos_df_long = pd.melt(intentosJugadores.reset_index(), id_vars=['index'], var_name='Jugador', value_name='Intentos')\n",
    "intentos_df_long.columns = ['Nivel', 'Jugador', 'Intentos']\n",
    "\n",
    "# Agrupar los intentos de cada jugador por nivel y tomar la media\n",
    "intentos_jugador_nivel = intentos_df_long.groupby(['Jugador', 'Nivel'])['Intentos'].mean().unstack()\n",
    "\n",
    "# Unir la tabla de intentos de cada jugador con los datos originales\n",
    "df = data_filtrado.merge(intentos_jugador_nivel, left_on='token', right_index=True)\n",
    "\n",
    "# Seleccionar las variables a utilizar para el clustering\n",
    "X = df.iloc[:, 3:] # Seleccionar las columnas correspondientes a los niveles\n",
    "\n",
    "# Imputar los valores faltantes\n",
    "imputer = SimpleImputer(strategy='median')\n",
    "X_imputed = imputer.fit_transform(X)\n",
    "\n",
    "# Normalizar las variables utilizando StandardScaler\n",
    "scaler = StandardScaler()\n",
    "X_norm = scaler.fit_transform(X_imputed)\n",
    "\n",
    "# Definir el número de clusters y entrenar el modelo de K-means\n",
    "num_clusters = 4\n",
    "kmeans = KMeans(n_clusters=num_clusters, random_state=0).fit(X_norm)\n",
    "\n",
    "# Asignar a cada jugador el cluster correspondiente\n",
    "clusters = kmeans.labels_\n",
    "df['Cluster'] = clusters\n",
    "\n",
    "# Calcular la media de los números de intentos en cada cluster\n",
    "means = df.groupby(['G03Q02', 'G03Q01', 'Cluster'])[X.columns].mean()\n",
    "\n",
    "# Mostrar los resultados\n",
    "print(means) #Dar a abrir en un editor de texto para ver mejor la tabla\n",
    "#intentosJugadores\n"
   ]
  },
  {
   "cell_type": "code",
   "execution_count": null,
   "metadata": {},
   "outputs": [],
   "source": [
    "tiemposJugadores = pd.DataFrame(tiemposMedios[\"tiemposIndividuales\"])\n",
    "\n",
    "# Aplicar la función int() solamente a los valores que no son NaN en el DataFrame\n",
    "tiemposJugadores = tiemposJugadores.applymap(lambda x: int(x) if x == x else x)\n",
    "\n",
    "# Pivotear el DataFrame para tener un formato largo\n",
    "tiempos_df_long = pd.melt(tiemposJugadores.reset_index(), id_vars=['index'], var_name='Jugador', value_name='Intentos')\n",
    "tiempos_df_long.columns = ['Nivel', 'Jugador', 'Intentos']\n",
    "\n",
    "# Agrupar los intentos de cada jugador por nivel y tomar la media\n",
    "tiempos_jugador_nivel = tiempos_df_long.groupby(['Jugador', 'Nivel'])['Intentos'].mean().unstack()\n",
    "\n",
    "# Unir la tabla de intentos de cada jugador con los datos originales\n",
    "df = data_filtrado.merge(tiempos_jugador_nivel, left_on='token', right_index=True)\n",
    "\n",
    "# Seleccionar las variables a utilizar para el clustering\n",
    "X = df.iloc[:, 3:] # Seleccionar las columnas correspondientes a los niveles\n",
    "\n",
    "# Imputar los valores faltantes\n",
    "imputer = SimpleImputer(strategy='median')\n",
    "X_imputed = imputer.fit_transform(X)\n",
    "\n",
    "# Normalizar las variables utilizando StandardScaler\n",
    "scaler = StandardScaler()\n",
    "X_norm = scaler.fit_transform(X_imputed)\n",
    "\n",
    "# Definir el número de clusters y entrenar el modelo de K-means\n",
    "num_clusters = 4\n",
    "kmeans = KMeans(n_clusters=num_clusters, random_state=0).fit(X_norm)\n",
    "\n",
    "# Asignar a cada jugador el cluster correspondiente\n",
    "clusters = kmeans.labels_\n",
    "df['Cluster'] = clusters\n",
    "\n",
    "# Calcular la media de los números de intentos en cada cluster\n",
    "means = df.groupby(['G03Q02', 'G03Q01', 'Cluster'])[X.columns].mean()\n",
    "\n",
    "# Mostrar los resultados\n",
    "print(means)\n",
    "# tiemposJugadores\n"
   ]
  },
  {
   "cell_type": "code",
   "execution_count": null,
   "metadata": {},
   "outputs": [],
   "source": [
    "media_intentos = df.groupby(['G03Q02', 'G03Q01', 'Cluster'])[X.columns].mean().reset_index()\n",
    "media_intentos = pd.melt(media_intentos, id_vars=['G03Q02', 'G03Q01', 'Cluster'], var_name='Nivel', value_name='Intentos')\n",
    "\n",
    "import seaborn as sns\n",
    "import matplotlib.pyplot as plt\n",
    "\n",
    "# Crear una figura para cada nivel\n",
    "for nivel in intentos_df_long['Nivel'].unique():\n",
    "    # Seleccionar los datos del nivel y generar una tabla pivote con los valores medios de intentos por género\n",
    "    df_nivel = media_intentos[media_intentos['Nivel'] == nivel]\n",
    "    pivot_table = pd.pivot_table(df_nivel, values='Intentos', index=['G03Q01'], columns=['Cluster'], aggfunc=np.mean)\n",
    "    \n",
    "    # Crear un gráfico de barras apiladas para comparar los valores medios de intentos por género en cada cluster\n",
    "    sns.catplot(x='G03Q01', y='Intentos', hue='Cluster', data=df_nivel, kind='bar', ci=None, legend_out=False)\n",
    "    plt.title(f'Nivel {nivel}')\n",
    "    plt.show()\n"
   ]
  }
 ],
 "metadata": {
  "kernelspec": {
   "display_name": "Python 3",
   "language": "python",
   "name": "python3"
  },
  "language_info": {
   "codemirror_mode": {
    "name": "ipython",
    "version": 3
   },
   "file_extension": ".py",
   "mimetype": "text/x-python",
   "name": "python",
   "nbconvert_exporter": "python",
   "pygments_lexer": "ipython3",
   "version": "3.11.0"
  },
  "orig_nbformat": 4,
  "vscode": {
   "interpreter": {
    "hash": "2df53de82fe139b23b9a340061c8527273b7fa86551030a1983ff618b17018eb"
   }
  }
 },
 "nbformat": 4,
 "nbformat_minor": 2
}
