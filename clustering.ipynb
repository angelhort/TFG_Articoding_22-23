{
 "cells": [
  {
   "cell_type": "code",
   "execution_count": 4,
   "metadata": {},
   "outputs": [
    {
     "ename": "ModuleNotFoundError",
     "evalue": "No module named 'sklearn'",
     "output_type": "error",
     "traceback": [
      "\u001b[1;31m---------------------------------------------------------------------------\u001b[0m",
      "\u001b[1;31mModuleNotFoundError\u001b[0m                       Traceback (most recent call last)",
      "Cell \u001b[1;32mIn[4], line 3\u001b[0m\n\u001b[0;32m      1\u001b[0m \u001b[39mimport\u001b[39;00m \u001b[39mpandas\u001b[39;00m \u001b[39mas\u001b[39;00m \u001b[39mpd\u001b[39;00m\n\u001b[0;32m      2\u001b[0m \u001b[39mimport\u001b[39;00m \u001b[39mnumpy\u001b[39;00m \u001b[39mas\u001b[39;00m \u001b[39mnp\u001b[39;00m\n\u001b[1;32m----> 3\u001b[0m \u001b[39mfrom\u001b[39;00m \u001b[39msklearn\u001b[39;00m\u001b[39m.\u001b[39;00m\u001b[39mcluster\u001b[39;00m \u001b[39mimport\u001b[39;00m KMeans\n\u001b[0;32m      4\u001b[0m \u001b[39mfrom\u001b[39;00m \u001b[39msklearn\u001b[39;00m\u001b[39m.\u001b[39;00m\u001b[39mpreprocessing\u001b[39;00m \u001b[39mimport\u001b[39;00m StandardScaler\n\u001b[0;32m      5\u001b[0m \u001b[39mfrom\u001b[39;00m \u001b[39msklearn\u001b[39;00m\u001b[39m.\u001b[39;00m\u001b[39mimpute\u001b[39;00m \u001b[39mimport\u001b[39;00m SimpleImputer\n",
      "\u001b[1;31mModuleNotFoundError\u001b[0m: No module named 'sklearn'"
     ]
    }
   ],
   "source": [
    "import pandas as pd\n",
    "import numpy as np\n",
    "from sklearn.cluster import KMeans\n",
    "from sklearn.preprocessing import StandardScaler\n",
    "from sklearn.impute import SimpleImputer"
   ]
  },
  {
   "cell_type": "code",
   "execution_count": null,
   "metadata": {},
   "outputs": [],
   "source": [
    "filename = 'results-survey976727_pre.csv'\n",
    "data = pd.read_csv(filename, sep=';', header=0)\n",
    "\n",
    "data.drop(['submitdate', 'G00Q01[SQ01]', 'G02Q01', 'G02Q02', 'G02Q03', 'G02Q04', 'G03Q02[other]', 'id'], axis = 'columns', inplace=True)\n",
    "\n",
    "data"
   ]
  },
  {
   "cell_type": "code",
   "execution_count": null,
   "metadata": {},
   "outputs": [],
   "source": [
    "# Calcular los límites de los valores atípicos\n",
    "# regla empírica, que establece que los valores atípicos se encuentran a más de 3 desviaciones estándar de la media.\n",
    "\n",
    "edad_media = data['G03Q01'].mean()\n",
    "edad_desv_est = data['G03Q01'].std()\n",
    "edad_limite_inferior = edad_media - (3*edad_desv_est)\n",
    "edad_limite_superior = edad_media + (3*edad_desv_est)\n",
    "\n",
    "# Filtrar el dataframe para eliminar los outliers de edad\n",
    "data_filtrado = data.loc[(data['G03Q01'] >= edad_limite_inferior) & (data['G03Q01'] <= edad_limite_superior)]\n",
    "\n",
    "data_filtrado"
   ]
  },
  {
   "cell_type": "code",
   "execution_count": null,
   "metadata": {},
   "outputs": [],
   "source": [
    "# Crear un DataFrame con los datos de los intentos medios de cada jugador en cada nivel\n",
    "intentosJugadores = pd.DataFrame(intentosMedios_Individual[\"intentosIndividual\"])\n",
    "\n",
    "# Pivotear el DataFrame para tener un formato largo\n",
    "intentos_df_long = pd.melt(intentosJugadores.reset_index(), id_vars=['index'], var_name='Jugador', value_name='Intentos')\n",
    "intentos_df_long.columns = ['Nivel', 'Jugador', 'Intentos']\n",
    "\n",
    "# Agrupar los intentos de cada jugador por nivel y tomar la media\n",
    "intentos_jugador_nivel = intentos_df_long.groupby(['Jugador', 'Nivel'])['Intentos'].mean().unstack()\n",
    "\n",
    "# Unir la tabla de intentos de cada jugador con los datos originales\n",
    "df = data_filtrado.merge(intentos_jugador_nivel, left_on='token', right_index=True)\n",
    "\n",
    "# Seleccionar las variables a utilizar para el clustering\n",
    "X = df.iloc[:, 3:] # Seleccionar las columnas correspondientes a los niveles\n",
    "\n",
    "# Imputar los valores faltantes\n",
    "imputer = SimpleImputer(strategy='median')\n",
    "X_imputed = imputer.fit_transform(X)\n",
    "\n",
    "# Normalizar las variables utilizando StandardScaler\n",
    "scaler = StandardScaler()\n",
    "X_norm = scaler.fit_transform(X_imputed)\n",
    "\n",
    "# Definir el número de clusters y entrenar el modelo de K-means\n",
    "num_clusters = 4\n",
    "kmeans = KMeans(n_clusters=num_clusters, random_state=0).fit(X_norm)\n",
    "\n",
    "# Asignar a cada jugador el cluster correspondiente\n",
    "clusters = kmeans.labels_\n",
    "df['Cluster'] = clusters\n",
    "\n",
    "# Calcular la media de los números de intentos en cada cluster\n",
    "means = df.groupby(['G03Q02', 'G03Q01', 'Cluster'])[X.columns].mean()\n",
    "\n",
    "# Mostrar los resultados\n",
    "print(means)\n",
    "#intentosJugadores\n"
   ]
  },
  {
   "cell_type": "code",
   "execution_count": null,
   "metadata": {},
   "outputs": [],
   "source": [
    "tiemposJugadores = pd.DataFrame(tiemposMedios[\"tiemposIndividuales\"])\n",
    "\n",
    "# Aplicar la función int() solamente a los valores que no son NaN en el DataFrame\n",
    "tiemposJugadores = tiemposJugadores.applymap(lambda x: int(x) if x == x else x)\n",
    "\n",
    "# Pivotear el DataFrame para tener un formato largo\n",
    "tiempos_df_long = pd.melt(tiemposJugadores.reset_index(), id_vars=['index'], var_name='Jugador', value_name='Intentos')\n",
    "tiempos_df_long.columns = ['Nivel', 'Jugador', 'Intentos']\n",
    "\n",
    "# Agrupar los intentos de cada jugador por nivel y tomar la media\n",
    "tiempos_jugador_nivel = tiempos_df_long.groupby(['Jugador', 'Nivel'])['Intentos'].mean().unstack()\n",
    "\n",
    "# Unir la tabla de intentos de cada jugador con los datos originales\n",
    "df = data_filtrado.merge(tiempos_jugador_nivel, left_on='token', right_index=True)\n",
    "\n",
    "# Seleccionar las variables a utilizar para el clustering\n",
    "X = df.iloc[:, 3:] # Seleccionar las columnas correspondientes a los niveles\n",
    "\n",
    "# Imputar los valores faltantes\n",
    "imputer = SimpleImputer(strategy='median')\n",
    "X_imputed = imputer.fit_transform(X)\n",
    "\n",
    "# Normalizar las variables utilizando StandardScaler\n",
    "scaler = StandardScaler()\n",
    "X_norm = scaler.fit_transform(X_imputed)\n",
    "\n",
    "# Definir el número de clusters y entrenar el modelo de K-means\n",
    "num_clusters = 4\n",
    "kmeans = KMeans(n_clusters=num_clusters, random_state=0).fit(X_norm)\n",
    "\n",
    "# Asignar a cada jugador el cluster correspondiente\n",
    "clusters = kmeans.labels_\n",
    "df['Cluster'] = clusters\n",
    "\n",
    "# Calcular la media de los números de intentos en cada cluster\n",
    "means = df.groupby(['G03Q02', 'G03Q01', 'Cluster'])[X.columns].mean()\n",
    "\n",
    "# Mostrar los resultados\n",
    "print(means)\n",
    "# tiemposJugadores\n"
   ]
  },
  {
   "cell_type": "code",
   "execution_count": null,
   "metadata": {},
   "outputs": [],
   "source": [
    "media_intentos = df.groupby(['G03Q02', 'G03Q01', 'Cluster'])[X.columns].mean().reset_index()\n",
    "media_intentos = pd.melt(media_intentos, id_vars=['G03Q02', 'G03Q01', 'Cluster'], var_name='Nivel', value_name='Intentos')\n",
    "\n",
    "import seaborn as sns\n",
    "import matplotlib.pyplot as plt\n",
    "\n",
    "# Crear una figura para cada nivel\n",
    "for nivel in intentos_df_long['Nivel'].unique():\n",
    "    # Seleccionar los datos del nivel y generar una tabla pivote con los valores medios de intentos por género\n",
    "    df_nivel = media_intentos[media_intentos['Nivel'] == nivel]\n",
    "    pivot_table = pd.pivot_table(df_nivel, values='Intentos', index=['G03Q01'], columns=['Cluster'], aggfunc=np.mean)\n",
    "    \n",
    "    # Crear un gráfico de barras apiladas para comparar los valores medios de intentos por género en cada cluster\n",
    "    sns.catplot(x='G03Q01', y='Intentos', hue='Cluster', data=df_nivel, kind='bar', ci=None, legend_out=False)\n",
    "    plt.title(f'Nivel {nivel}')\n",
    "    plt.show()\n"
   ]
  }
 ],
 "metadata": {
  "kernelspec": {
   "display_name": "Python 3",
   "language": "python",
   "name": "python3"
  },
  "language_info": {
   "codemirror_mode": {
    "name": "ipython",
    "version": 3
   },
   "file_extension": ".py",
   "mimetype": "text/x-python",
   "name": "python",
   "nbconvert_exporter": "python",
   "pygments_lexer": "ipython3",
   "version": "3.10.10"
  },
  "orig_nbformat": 4,
  "vscode": {
   "interpreter": {
    "hash": "2df53de82fe139b23b9a340061c8527273b7fa86551030a1983ff618b17018eb"
   }
  }
 },
 "nbformat": 4,
 "nbformat_minor": 2
}
