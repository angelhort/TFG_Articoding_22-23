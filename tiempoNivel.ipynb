{
 "cells": [
  {
   "cell_type": "code",
   "execution_count": null,
   "id": "4a9490c3-3ec4-4a66-aefa-0514bddb793f",
   "metadata": {},
   "outputs": [],
   "source": [
    "import pandas as pd\n",
    "import json\n",
    "from collections import defaultdict\n",
    "import re\n",
    "from utilities import Tiempo\n",
    "import dataExtraction\n",
    "import statistics"
   ]
  },
  {
   "cell_type": "markdown",
   "id": "2765a2a8-db6a-4625-b326-d0ea4901ff5d",
   "metadata": {},
   "source": [
    "#### Con este bucle obtenemos los datos sobre la inicialización de todos los niveles jugados"
   ]
  },
  {
   "cell_type": "code",
   "execution_count": null,
   "id": "7724ab08-123f-4407-bca0-6b4a39828fd4",
   "metadata": {},
   "outputs": [],
   "source": [
    "def extraerTiempos(rawData, minTiempoInactivo):\n",
    "    #HAY QUE COMPROBAR QUE minTiempoInactivo es positivo\n",
    "    erInitialized = re.compile(r'\\binitialized$\\b')\n",
    "    erCompleted = re.compile(r'\\bcompleted$\\b')\n",
    "    erAccessed = re.compile(r'\\baccessed$\\b')\n",
    "    erInteracted = re.compile(r'\\binteracted$\\b')\n",
    "    erProgressed = re.compile(r'\\bprogressed$\\b')\n",
    "\n",
    "    erLevel = re.compile(r'\\blevel$\\b')\n",
    "    erIdLevel = re.compile(r'/')\n",
    "    erSeriousGame = re.compile(r'\\bserious-game$\\b')\n",
    "    erGameObject = re.compile(r'\\bgame-object$\\b')\n",
    "    erScreen = re.compile(r'\\bscreen$\\b')\n",
    "\n",
    "    erExitGamePanel = re.compile(r'\\bexit_game_panel$\\b')\n",
    "    erExitGamePanelCloseButton = re.compile(r'\\bexit_game_panel_close_button$\\b')\n",
    "    \n",
    "    data = defaultdict(defaultdict)\n",
    "    infoNivel = defaultdict(defaultdict)\n",
    "    ultimaTrazaRegistrada = defaultdict()\n",
    "    tiemposInactivo = defaultdict(list)\n",
    "    inicioYFinJuego = defaultdict(list)\n",
    "    intentosNivel = defaultdict(defaultdict)\n",
    "    anomalias = []\n",
    "    ultimoNivelCompletado = defaultdict()\n",
    "    \n",
    "    for evento in rawData:         \n",
    "        verb = evento[\"verb\"][\"id\"]\n",
    "        obj = evento[\"object\"][\"definition\"][\"type\"]\n",
    "        name = evento[\"actor\"][\"name\"]\n",
    "        timestamp = evento[\"timestamp\"]\n",
    "        objectId = evento[\"object\"][\"id\"]\n",
    "        \n",
    "        if erLevel.search(obj): #Si el objeto de la acción es un nivel\n",
    "            levelCode = erIdLevel.split(objectId)[-1]\n",
    "            if erInitialized.search(verb): #Si la acción es inicio o reinicio\n",
    "                if \"result\" in evento: #Significa que ha iniciado el nivel desde el menu\n",
    "                    if levelCode in data[name]:\n",
    "                        data[name][levelCode].append({\"ini\" : timestamp, \"fin\" : None, \"stars\" : \"\"})\n",
    "                    else:\n",
    "                        data[name][levelCode] = [{\"ini\" : timestamp, \"fin\" : None, \"stars\" : \"\"}]\n",
    "                else:\n",
    "                    if levelCode in intentosNivel[name]:\n",
    "                        intentosNivel[name][levelCode][\"intentos\"] += 1\n",
    "                    else:\n",
    "                        intentosNivel[name][levelCode] = {\"intentos\" : 1}\n",
    "            elif erCompleted.search(verb):\n",
    "                if evento[\"result\"][\"score\"][\"raw\"] > 0 :\n",
    "                    dataExtraction.anadirAlDiccionario(infoNivel, evento, name, levelCode)\n",
    "                    if levelCode in data[name]:\n",
    "                        data[name][levelCode][-1][\"fin\"] = timestamp\n",
    "                        data[name][levelCode][-1][\"stars\"] = evento[\"result\"][\"score\"][\"raw\"]\n",
    "                    else: #Significa que hay un evento de finalizar que no tiene un evento de inicio\n",
    "                        anomalias.append(evento)\n",
    "                else:\n",
    "                    if not levelCode in data[name]:\n",
    "                         anomalias.append(evento) \n",
    "        \n",
    "        #Algunos jugadores cierran el juego el juego con Alt+F4 o dando a la x de la ventana, esto no queda registrado\n",
    "        #Para poder tener esto en cuenta habría que recorrer los datos 2 veces ya que no podemos quedarnos con el último \n",
    "        #valor antes del initialized porque los timestamps no vienen bien ordenados\n",
    "        \n",
    "        elif erSeriousGame.search(obj) and erInitialized.search(verb): #Nos indica que el jugador ha abierto el juego\n",
    "            inicioYFinJuego[name].append({\"inicio\" : timestamp, \"fin\" : None})\n",
    "            \n",
    "        if erProgressed.search(verb) and erSeriousGame.search(obj):\n",
    "            progresoActual = evento[\"result\"][\"extensions\"][\"https://w3id.org/xapi/seriousgames/extensions/progress\"]\n",
    "            if name in ultimoNivelCompletado:\n",
    "                if progresoActual > ultimoNivelCompletado[name][\"progreso\"]:\n",
    "                    ultimoNivelCompletado[name] = {\"nivel\" : erIdLevel.split(objectId)[-1], \"progreso\" : progresoActual}\n",
    "            else:\n",
    "                ultimoNivelCompletado[name] = {\"nivel\" : erIdLevel.split(objectId)[-1], \"progreso\" : progresoActual}\n",
    "      \n",
    "    for evento in rawData:\n",
    "        name = evento[\"actor\"][\"name\"]\n",
    "        timestamp = evento[\"timestamp\"]\n",
    "                \n",
    "        for i in range(len(inicioYFinJuego[name])):\n",
    "            if (i + 1) < len(inicioYFinJuego[name]): #No estamos en la ultima partida del jugador\n",
    "                if Tiempo(timestamp, inicioYFinJuego[name][i+1][\"inicio\"]) > Tiempo(\"1s\"): #No es una trazas que aparece antes de iniciar el juego\n",
    "                    inicioYFinJuego[name][i][\"fin\"] = timestamp\n",
    "            else:\n",
    "                inicioYFinJuego[name][i][\"fin\"] = timestamp\n",
    "        if name in ultimaTrazaRegistrada:\n",
    "                t = Tiempo(ultimaTrazaRegistrada[name], timestamp)\n",
    "                if t > minTiempoInactivo:\n",
    "                    tiemposInactivo[name].append(t)\n",
    "                   \n",
    "                    for ini in inicioYFinJuego[name]:\n",
    "                        if(Tiempo(ini[\"inicio\"], timestamp) < Tiempo(\"1s\")):\n",
    "                            del tiemposInactivo[name][-1] #Eliminamos los tiempos inactivos que sean de distintos inicios del juego\n",
    "                            break\n",
    "                        \n",
    "        ultimaTrazaRegistrada[name] = timestamp\n",
    "                    \n",
    "                    \n",
    "    return {\"tiemposNivel\" : data, \"tiempoTotal\" : inicioYFinJuego, \"anomalias\" : anomalias, \"tiemposInactivo\" : tiemposInactivo, \"infoNivel\" : infoNivel, \"intentosNivel\" : intentosNivel, \"ultimoNivel\" : ultimoNivelCompletado}              "
   ]
  },
  {
   "cell_type": "code",
   "execution_count": null,
   "id": "abad94a9-3bf9-4f37-b2c6-2fa5f2fb2ab7",
   "metadata": {},
   "outputs": [],
   "source": [
    "def tiempoTotalJuego(inicioYFinJuego):\n",
    "    tiempoTotal = defaultdict()\n",
    "    for player in inicioYFinJuego:\n",
    "        for time in inicioYFinJuego[player]:\n",
    "            if time[\"fin\"] != None:\n",
    "                if player in tiempoTotal:\n",
    "                    tiempoTotal[player] += Tiempo(time[\"inicio\"], time[\"fin\"])\n",
    "                else:\n",
    "                    tiempoTotal[player] = Tiempo(time[\"inicio\"], time[\"fin\"])\n",
    "    return tiempoTotal"
   ]
  },
  {
   "cell_type": "code",
   "execution_count": null,
   "id": "49a89b73-df76-466d-84c6-ac0743b6644a",
   "metadata": {},
   "outputs": [],
   "source": [
    "def tiempoPorNiveles(data, anomalias):\n",
    "    tiemposJugados = defaultdict(defaultdict)\n",
    "    for player in data:\n",
    "        for level in data[player]:\n",
    "            for times in data[player][level]:\n",
    "                if times[\"fin\"] != None: #Si no se aborto el intento del nivel\n",
    "                    try:\n",
    "                        timeDifference = Tiempo(times[\"ini\"], times[\"fin\"])\n",
    "                        if level in tiemposJugados[player]:\n",
    "                            tiemposJugados[player][level].append({\"time\" : timeDifference, \"stars\" : times[\"stars\"]})\n",
    "                        else:\n",
    "                            tiemposJugados[player][level] = [{\"time\" : timeDifference, \"stars\" : times[\"stars\"]}]\n",
    "                    except ValueError: #Algunos timestamps de finalizacion estan vacios, ¿Tiene que ser asi?\n",
    "                        anomalias.append({\"jugador\" : player,\n",
    "                                  \"nivel\" : level,\n",
    "                                  \"Timestamp-Inicio\" : times[\"ini\"],\n",
    "                                  \"Timestamp-Fin\" : times[\"fin\"],\n",
    "                                  \"Descripcion:\" : \"No se ha podido parsear uno de los 2 timestamps\"})\n",
    "    return tiemposJugados"
   ]
  },
  {
   "cell_type": "code",
   "execution_count": null,
   "id": "8a47c595-756e-4cfd-9c2f-7bb910184dfd",
   "metadata": {},
   "outputs": [],
   "source": [
    "def buscarTarjetas(rawData):\n",
    "    data = []\n",
    "    erIdLevel = re.compile(r'/')\n",
    "    for evento in rawData:\n",
    "        idJugador = evento[\"actor\"][\"name\"]\n",
    "        levelCode = erIdLevel.split(evento[\"object\"][\"id\"])[-1]\n",
    "        if idJugador == \"bdwyj\" and \"result\" in evento and \"extensions\" in evento[\"result\"] and \"level\" in evento[\"result\"][\"extensions\"]:\n",
    "            if evento[\"result\"][\"extensions\"][\"level\"] == \"variables_9\":\n",
    "                data.append(evento)\n",
    "        elif idJugador == \"bdwyj\" and levelCode == \"variables_9\":\n",
    "            data.append(evento)\n",
    "    return data"
   ]
  },
  {
   "cell_type": "code",
   "execution_count": null,
   "id": "58162d56-8309-4008-a6c0-20ac122bd7bd",
   "metadata": {},
   "outputs": [],
   "source": [
    "def getMediaTiemposYEstrellas(data):\n",
    "    tiemposYEstrellasMedios = defaultdict()\n",
    "    sumasTotales = defaultdict()\n",
    "    for user in data:\n",
    "        for level in data[user]:\n",
    "            for time in data[user][level]:\n",
    "                if level in tiemposYEstrellasMedios:\n",
    "                    tiemposYEstrellasMedios[level][\"tiempo\"] += time[\"time\"]\n",
    "                    tiemposYEstrellasMedios[level][\"stars\"] += time[\"stars\"]\n",
    "                    sumasTotales[level] += 1\n",
    "                else:\n",
    "                    tiemposYEstrellasMedios[level] = {\"tiempo\" : time[\"time\"], \"stars\" : time[\"stars\"]}\n",
    "                    sumasTotales[level] = 1\n",
    "    for level in tiemposYEstrellasMedios:\n",
    "        tiemposYEstrellasMedios[level][\"tiempo\"] = tiemposYEstrellasMedios[level][\"tiempo\"]/sumasTotales[level];\n",
    "        tiemposYEstrellasMedios[level][\"stars\"] = round(tiemposYEstrellasMedios[level][\"stars\"]/sumasTotales[level], 2);\n",
    "    return tiemposYEstrellasMedios"
   ]
  },
  {
   "cell_type": "code",
   "execution_count": null,
   "id": "501d7f43-c652-4398-9ca9-940dd9076ad8",
   "metadata": {},
   "outputs": [],
   "source": [
    "def getDesempenioJugadores(tiempos, tiemposMedios, porcDebajo, porcEncima, primerIntento = True):\n",
    "    #tiempos -> diccionario con los tiempos de cada jugador en cada nivel\n",
    "    #tiemporMedios -> media de los tiempos por nivel\n",
    "    #porcDebajo -> porcentaje que se usara para filtrar a los jugadores con un tiempo igual o inferior a este\n",
    "    #porcEncima -> porcentaje que se usara para filtrar a los jugadores con un tiempo igual o superior a este\n",
    "    #primerIntento -> true cuando solo se quiere tener en cuenta el primer intento del jugador, false cuando no\n",
    "    jugadoresPorDebajo = defaultdict(defaultdict) #Jugadores con buen desempeño, menor tiempo que media\n",
    "    jugadoresPorEncima = defaultdict(defaultdict) #Jugaodre con mal desempeño, mayor tiempo que media\n",
    "\n",
    "    for player in tiempos:\n",
    "        for level in tiempos[player]:\n",
    "            for time in tiempos[player][level]:\n",
    "                if time[\"time\"] <= (tiemposMedios[level][\"tiempo\"]*(1-porcDebajo)):\n",
    "                    if level in jugadoresPorDebajo[player]:\n",
    "                        jugadoresPorDebajo[player][level].append(time[\"time\"])\n",
    "                    else:\n",
    "                        jugadoresPorDebajo[player][level] = [time[\"time\"]]\n",
    "                        \n",
    "                elif time[\"time\"] >= (tiemposMedios[level][\"tiempo\"]*(1+porcEncima)):\n",
    "                    if level in jugadoresPorEncima[player]:\n",
    "                        jugadoresPorEncima[player][level].append(time[\"time\"])\n",
    "                    else:\n",
    "                        jugadoresPorEncima[player][level] = [time[\"time\"]]\n",
    "                        \n",
    "                if primerIntento:\n",
    "                    break\n",
    "                    \n",
    "    return jugadoresPorDebajo, jugadoresPorEncima"
   ]
  },
  {
   "cell_type": "code",
   "execution_count": null,
   "id": "b7b0e7ed-e597-460c-b7fb-29055244d40b",
   "metadata": {},
   "outputs": [],
   "source": [
    "pd.options.display.max_columns = None\n",
    "pd.set_option('display.max_colwidth', None)\n",
    "pd.options.display.max_rows = None"
   ]
  },
  {
   "cell_type": "code",
   "execution_count": null,
   "id": "4112fdc5-8a8a-4a4d-9e52-50ab6c421359",
   "metadata": {},
   "outputs": [],
   "source": [
    "JSONFile = open('traces_Articoding_Escolapias.json')\n",
    "rawData = json.load(JSONFile)\n",
    "minTiempoInactivo = Tiempo(\"1m/30s\")\n",
    "result = extraerTiempos(rawData, minTiempoInactivo)\n",
    "JSONFile.close()\n",
    "#pd.DataFrame(result[\"data\"])\n",
    "#pd.DataFrame.from_dict(result[\"tiempoTotal\"], orient='index').transpose()\n",
    "#pd.DataFrame.from_dict(result[\"tiemposInactivo\"], orient='index').transpose()\n",
    "#pd.DataFrame(result[\"infoNivel\"])\n",
    "#pd.DataFrame(result[\"intentosNivel\"])\n",
    "pd.DataFrame.from_dict(result[\"ultimoNivel\"], orient='index').transpose()"
   ]
  },
  {
   "cell_type": "code",
   "execution_count": null,
   "id": "96660ec1-3476-4ca5-ae5c-d00e757f2b0c",
   "metadata": {},
   "outputs": [],
   "source": [
    "#Numero de jugadores\n",
    "len(result[\"intentosNivel\"].keys())"
   ]
  },
  {
   "cell_type": "code",
   "execution_count": null,
   "id": "3081e94f-1bf2-4ebf-9858-160c07912dae",
   "metadata": {},
   "outputs": [],
   "source": [
    "tiemposJ = tiempoPorNiveles(result[\"tiemposNivel\"], result[\"anomalias\"])\n",
    "pd.DataFrame(tiemposJ)"
   ]
  },
  {
   "cell_type": "code",
   "execution_count": null,
   "id": "17d1ddeb-0de1-4915-baff-9321857713f0",
   "metadata": {},
   "outputs": [],
   "source": [
    "tiemposMedios = getMediaTiemposYEstrellas(tiemposJ)\n",
    "pd.DataFrame(tiemposMedios)"
   ]
  },
  {
   "cell_type": "code",
   "execution_count": null,
   "id": "0cfb0a25-e21a-411c-a140-bf7aefd530d9",
   "metadata": {},
   "outputs": [],
   "source": [
    "porcentajePorDebajo = 0.2\n",
    "porcentajePorEncima = 0.5\n",
    "jPorDebajo, jPorEncima = getDesempenioJugadores(tiemposJ, tiemposMedios, porcentajePorDebajo, porcentajePorEncima)\n",
    "pd.DataFrame(jPorEncima)"
   ]
  },
  {
   "cell_type": "code",
   "execution_count": null,
   "id": "a6de48b6-4ad5-4a1f-89d8-dae2ccc021d3",
   "metadata": {},
   "outputs": [],
   "source": [
    "tiempoTJuego = tiempoTotalJuego(result[\"tiempoTotal\"])\n",
    "pd.DataFrame(tiempoTJuego, index = [\"Tiempo\"])\n",
    "#Los tiempos del jugador knewj salen mal porque las trazas tienen mal puesto el tiempo"
   ]
  },
  {
   "cell_type": "code",
   "execution_count": null,
   "id": "66574994-3408-4f0b-993b-95e9f29977e6",
   "metadata": {},
   "outputs": [],
   "source": [
    "Tiempo(\"2022-05-18T07:13:48.865Z\", \"2022-05-18T06:13:48.865Z\")"
   ]
  },
  {
   "cell_type": "code",
   "execution_count": null,
   "id": "a28eb538-379c-49d1-ab12-6d5c92454a44",
   "metadata": {},
   "outputs": [],
   "source": []
  }
 ],
 "metadata": {
  "kernelspec": {
   "display_name": "Python 3 (ipykernel)",
   "language": "python",
   "name": "python3"
  },
  "language_info": {
   "codemirror_mode": {
    "name": "ipython",
    "version": 3
   },
   "file_extension": ".py",
   "mimetype": "text/x-python",
   "name": "python",
   "nbconvert_exporter": "python",
   "pygments_lexer": "ipython3",
   "version": "3.9.12"
  },
  "vscode": {
   "interpreter": {
    "hash": "c40c2e94b44540d55f16bcb7a9e45ade0708cf295825c98f3d38101cabba3f32"
   }
  }
 },
 "nbformat": 4,
 "nbformat_minor": 5
}
