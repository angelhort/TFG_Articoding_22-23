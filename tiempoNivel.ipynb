{
 "cells": [
  {
   "cell_type": "code",
   "execution_count": null,
   "id": "4a9490c3-3ec4-4a66-aefa-0514bddb793f",
   "metadata": {},
   "outputs": [],
   "source": [
    "import pandas as pd\n",
    "import json\n",
    "from collections import defaultdict\n",
    "import re\n",
    "from datetime import datetime, timedelta"
   ]
  },
  {
   "cell_type": "code",
   "execution_count": null,
   "id": "1e72ba2f-5003-432d-afc1-83aea83c17d6",
   "metadata": {},
   "outputs": [],
   "source": [
    "datos = pd.read_json('traces_Articoding_Escolapias.json')"
   ]
  },
  {
   "cell_type": "markdown",
   "id": "2765a2a8-db6a-4625-b326-d0ea4901ff5d",
   "metadata": {},
   "source": [
    "#### Con este bucle obtenemos los datos sobre la inicialización de todos los niveles jugados"
   ]
  },
  {
   "cell_type": "code",
   "execution_count": null,
   "id": "7724ab08-123f-4407-bca0-6b4a39828fd4",
   "metadata": {},
   "outputs": [],
   "source": [
    "JSONFile = open('traces_Articoding_Escolapias.json')\n",
    "rawData = json.load(JSONFile)\n",
    "\n",
    "erLevel = re.compile(r'\\blevel$\\b')\n",
    "erInitialized = re.compile(r'\\binitialized$\\b')\n",
    "erCompleted = re.compile(r'\\bcompleted$\\b')\n",
    "erIdLevel = re.compile(r'/')\n",
    "data = defaultdict(defaultdict)\n",
    "anomalias = defaultdict()\n",
    "\n",
    "for evento in rawData:\n",
    "    verb = evento[\"verb\"][\"id\"]\n",
    "    obj = evento[\"object\"][\"definition\"][\"type\"]\n",
    "    if erLevel.search(obj) : #Si el objeto de la acción es un nivel\n",
    "        name = evento[\"actor\"][\"name\"]\n",
    "        levelCode = erIdLevel.split(evento[\"object\"][\"id\"])[-1]\n",
    "        timestamp = evento[\"timestamp\"]\n",
    "        if erInitialized.search(verb): #Si a la acción es inicio o reinicio\n",
    "            if \"result\" in evento: #Significa que ha iniciado el nivel desde el menu\n",
    "                if levelCode in data[name]:\n",
    "                    data[name][levelCode].append({\"ini\" : timestamp, \"fin\" : \"\"})\n",
    "                else:\n",
    "                    data[name][levelCode] = [{\"ini\" : timestamp, \"fin\" : \"\"}]\n",
    "            #else: #-> sería cuando un nivel es reiniciado, por ahora no vamos a tenerlo en cuenta\n",
    "        elif erCompleted.search(verb):\n",
    "            if evento[\"result\"][\"success\"]: #Significa que el nivel se ha completado con éxito\n",
    "                if levelCode in data[name]:\n",
    "                    data[name][levelCode][-1][\"fin\"] = timestamp\n",
    "                else: #Significa que hay un evento de finalizar que no tiene un evento de inicio\n",
    "                    anomalias[evento[\"_id\"]] = evento\n",
    "            else:\n",
    "                if levelCode in data[name]:\n",
    "                    data[name][levelCode][-1][\"fin\"] = \"Nivel abortado\" #Porque el jugador sale al menú o cierra el juego\n",
    "                else: #Significa que hay un evento de finalizar que no tiene un evento de inicio\n",
    "                    anomalias[evento[\"_id\"]] = evento\n",
    "                    \n",
    "                    \n",
    "JSONFile.close()\n",
    "pd.options.display.max_columns = None\n",
    "pd.set_option('display.max_colwidth', None)\n",
    "pd.DataFrame(data)"
   ]
  },
  {
   "cell_type": "code",
   "execution_count": null,
   "id": "8a47c595-756e-4cfd-9c2f-7bb910184dfd",
   "metadata": {},
   "outputs": [],
   "source": []
  }
 ],
 "metadata": {
  "kernelspec": {
   "display_name": "Python 3 (ipykernel)",
   "language": "python",
   "name": "python3"
  },
  "language_info": {
   "codemirror_mode": {
    "name": "ipython",
    "version": 3
   },
   "file_extension": ".py",
   "mimetype": "text/x-python",
   "name": "python",
   "nbconvert_exporter": "python",
   "pygments_lexer": "ipython3",
   "version": "3.9.12"
  }
 },
 "nbformat": 4,
 "nbformat_minor": 5
}
