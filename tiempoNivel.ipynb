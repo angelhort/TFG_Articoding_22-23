{
 "cells": [
  {
   "cell_type": "code",
   "execution_count": null,
   "id": "4a9490c3-3ec4-4a66-aefa-0514bddb793f",
   "metadata": {},
   "outputs": [],
   "source": [
    "import pandas as pd\n",
    "import json\n",
    "from collections import defaultdict\n",
    "import re\n",
    "import datetime, time"
   ]
  },
  {
   "cell_type": "markdown",
   "id": "2765a2a8-db6a-4625-b326-d0ea4901ff5d",
   "metadata": {},
   "source": [
    "#### Con este bucle obtenemos los datos sobre la inicialización de todos los niveles jugados"
   ]
  },
  {
   "cell_type": "code",
   "execution_count": null,
   "id": "7724ab08-123f-4407-bca0-6b4a39828fd4",
   "metadata": {},
   "outputs": [],
   "source": [
    "def extraerTiempos(rawData, anomalias):\n",
    "    erLevel = re.compile(r'\\blevel$\\b')\n",
    "    erInitialized = re.compile(r'\\binitialized$\\b')\n",
    "    erCompleted = re.compile(r'\\bcompleted$\\b')\n",
    "    erIdLevel = re.compile(r'/')\n",
    "    \n",
    "    data = defaultdict(defaultdict)\n",
    "    anomalias = []\n",
    "\n",
    "    for evento in rawData:\n",
    "        verb = evento[\"verb\"][\"id\"]\n",
    "        obj = evento[\"object\"][\"definition\"][\"type\"]\n",
    "        if erLevel.search(obj) : #Si el objeto de la acción es un nivel\n",
    "            name = evento[\"actor\"][\"name\"]\n",
    "            levelCode = erIdLevel.split(evento[\"object\"][\"id\"])[-1]\n",
    "            timestamp = evento[\"timestamp\"]\n",
    "            if erInitialized.search(verb): #Si la acción es inicio o reinicio\n",
    "                if \"result\" in evento: #Significa que ha iniciado el nivel desde el menu\n",
    "                    if levelCode in data[name]:\n",
    "                        data[name][levelCode].append({\"ini\" : timestamp, \"fin\" : \"\"})\n",
    "                    else:\n",
    "                        data[name][levelCode] = [{\"ini\" : timestamp, \"fin\" : \"\"}]\n",
    "                #else: #-> sería cuando un nivel es reiniciado, por ahora no vamos a tenerlo en cuenta\n",
    "            elif erCompleted.search(verb):\n",
    "                if evento[\"result\"][\"success\"]: #Significa que el nivel se ha completado con éxito\n",
    "                    if levelCode in data[name]:\n",
    "                        data[name][levelCode][-1][\"fin\"] = timestamp\n",
    "                    else: #Significa que hay un evento de finalizar que no tiene un evento de inicio\n",
    "                        anomalias.append(evento)\n",
    "                else:\n",
    "                    if levelCode in data[name]:\n",
    "                        data[name][levelCode][-1][\"fin\"] = None #Porque el jugador sale al menú o cierra el juego\n",
    "                    else: #Significa que hay un evento de finalizar que no tiene un evento de inicio\n",
    "                        anomalias.append(evento)\n",
    "    return data, anomalias              "
   ]
  },
  {
   "cell_type": "code",
   "execution_count": null,
   "id": "3cdab822-b4bb-413e-8b61-5aa367f4a1e5",
   "metadata": {},
   "outputs": [],
   "source": [
    "#Esta funcion recibe 2 strings de timestamps, los parsea y devuelve la diferencia en horas, minutos, segundos\n",
    "def parseTimestamps(inicio, final):\n",
    "    fin = time.mktime(datetime.datetime.strptime(final, \"%Y-%m-%dT%H:%M:%S.%fZ\").timetuple())\n",
    "    ini = time.mktime(datetime.datetime.strptime(inicio, \"%Y-%m-%dT%H:%M:%S.%fZ\").timetuple())\n",
    "\n",
    "    hours = int((fin - ini)/3600)\n",
    "    minutes = int((fin - ini)/60)\n",
    "    seconds = int(fin - ini)\n",
    "    t = \"\"\n",
    "    if hours != 0:\n",
    "        t += str(hours) + \"h:\"\n",
    "        minutes = int((fin - ini)%60)/60\n",
    "    if minutes != 0:\n",
    "        t += str(minutes) + \"m:\"\n",
    "        seconds = int((fin - ini)%60)\n",
    "    t += str(seconds) + \"s\"\n",
    "    \n",
    "    return t"
   ]
  },
  {
   "cell_type": "code",
   "execution_count": null,
   "id": "49a89b73-df76-466d-84c6-ac0743b6644a",
   "metadata": {},
   "outputs": [],
   "source": [
    "def tiempoPorNiveles(data, anomalias):\n",
    "    tiemposJugados = defaultdict(defaultdict)\n",
    "    for player in data:\n",
    "        for level in data[player]:\n",
    "            for times in data[player][level]:\n",
    "                if times[\"fin\"] != None: #Si no se aborto el intento del nivel\n",
    "                    try:\n",
    "                        timeDifference = parseTimestamps(times[\"ini\"], times[\"fin\"])\n",
    "                        if level in tiemposJugados[player]:\n",
    "                            tiemposJugados[player][level].append(timeDifference)\n",
    "                        else:\n",
    "                            tiemposJugados[player][level] = [timeDifference]\n",
    "                    except ValueError: #Algunos timestamps de finalizacion estan vacios, ¿Tiene que ser asi?\n",
    "                        anomalias.append({\"jugador\" : player,\n",
    "                                  \"nivel\" : level,\n",
    "                                  \"Timestamp-Inicio\" : times[\"ini\"],\n",
    "                                  \"Timestamp-Fin\" : times[\"fin\"],\n",
    "                                  \"Descripcion:\" : \"No se ha podido parsear uno de los 2 timestamps\"})\n",
    "    return tiemposJugados"
   ]
  },
  {
   "cell_type": "code",
   "execution_count": null,
   "id": "8a47c595-756e-4cfd-9c2f-7bb910184dfd",
   "metadata": {},
   "outputs": [],
   "source": [
    "JSONFile = open('traces_Articoding_Escolapias.json')\n",
    "rawData = json.load(JSONFile)\n",
    "data, anomalias = extraerTiempos(rawData)\n",
    "JSONFile.close()\n",
    "\n",
    "pd.options.display.max_columns = None\n",
    "pd.set_option('display.max_colwidth', None)\n",
    "#pd.DataFrame(data)\n",
    "\n",
    "tiempos = tiempoPorNiveles(data, anomalias)\n",
    "pd.DataFrame(tiempos)"
   ]
  },
  {
   "cell_type": "code",
   "execution_count": null,
   "id": "b7b0e7ed-e597-460c-b7fb-29055244d40b",
   "metadata": {},
   "outputs": [],
   "source": []
  }
 ],
 "metadata": {
  "kernelspec": {
   "display_name": "Python 3 (ipykernel)",
   "language": "python",
   "name": "python3"
  },
  "language_info": {
   "codemirror_mode": {
    "name": "ipython",
    "version": 3
   },
   "file_extension": ".py",
   "mimetype": "text/x-python",
   "name": "python",
   "nbconvert_exporter": "python",
   "pygments_lexer": "ipython3",
   "version": "3.9.12"
  }
 },
 "nbformat": 4,
 "nbformat_minor": 5
}
