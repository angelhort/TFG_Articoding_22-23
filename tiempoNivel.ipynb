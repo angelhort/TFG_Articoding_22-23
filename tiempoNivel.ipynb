{
 "cells": [
  {
   "cell_type": "code",
   "execution_count": null,
   "id": "4a9490c3-3ec4-4a66-aefa-0514bddb793f",
   "metadata": {},
   "outputs": [],
   "source": [
    "import pandas as pd\n",
    "import json\n",
    "from collections import defaultdict\n",
    "import re\n",
    "import datetime, time"
   ]
  },
  {
   "cell_type": "markdown",
   "id": "2765a2a8-db6a-4625-b326-d0ea4901ff5d",
   "metadata": {},
   "source": [
    "#### Con este bucle obtenemos los datos sobre la inicialización de todos los niveles jugados"
   ]
  },
  {
   "cell_type": "code",
   "execution_count": null,
   "id": "7724ab08-123f-4407-bca0-6b4a39828fd4",
   "metadata": {},
   "outputs": [],
   "source": [
    "def extraerTiempos(rawData):\n",
    "    erLevel = re.compile(r'\\blevel$\\b')\n",
    "    erInitialized = re.compile(r'\\binitialized$\\b')\n",
    "    erCompleted = re.compile(r'\\bcompleted$\\b')\n",
    "    erIdLevel = re.compile(r'/')\n",
    "    \n",
    "    data = defaultdict(defaultdict)\n",
    "    anomalias = []\n",
    "\n",
    "    for evento in rawData:\n",
    "        verb = evento[\"verb\"][\"id\"]\n",
    "        obj = evento[\"object\"][\"definition\"][\"type\"]\n",
    "        if erLevel.search(obj) : #Si el objeto de la acción es un nivel\n",
    "            name = evento[\"actor\"][\"name\"]\n",
    "            levelCode = erIdLevel.split(evento[\"object\"][\"id\"])[-1]\n",
    "            timestamp = evento[\"timestamp\"]\n",
    "            if erInitialized.search(verb): #Si la acción es inicio o reinicio\n",
    "                if \"result\" in evento: #Significa que ha iniciado el nivel desde el menu\n",
    "                    if levelCode in data[name]:\n",
    "                        data[name][levelCode].append({\"ini\" : timestamp, \"fin\" : \"\", \"stars\" : \"\"})\n",
    "                    else:\n",
    "                        data[name][levelCode] = [{\"ini\" : timestamp, \"fin\" : \"\", \"stars\" : \"\"}]\n",
    "                #else: #-> sería cuando un nivel es reiniciado, por ahora no vamos a tenerlo en cuenta\n",
    "            elif erCompleted.search(verb):\n",
    "                if evento[\"result\"][\"success\"]: #Significa que el nivel se ha completado con éxito\n",
    "                    if levelCode in data[name]:\n",
    "                        data[name][levelCode][-1][\"fin\"] = timestamp\n",
    "                        data[name][levelCode][-1][\"stars\"] = evento[\"result\"][\"score\"][\"raw\"]\n",
    "                    else: #Significa que hay un evento de finalizar que no tiene un evento de inicio\n",
    "                        anomalias.append(evento)\n",
    "                else:\n",
    "                    if levelCode in data[name]:\n",
    "                        data[name][levelCode][-1][\"fin\"] = None #Porque el jugador sale al menú o cierra el juego\n",
    "                    else: #Significa que hay un evento de finalizar que no tiene un evento de inicio\n",
    "                        anomalias.append(evento)\n",
    "    return data, anomalias              "
   ]
  },
  {
   "cell_type": "code",
   "execution_count": null,
   "id": "3cdab822-b4bb-413e-8b61-5aa367f4a1e5",
   "metadata": {},
   "outputs": [],
   "source": [
    "#Esta clase sirve para parsear timestamps, recibe 2 y hace la diferencia\n",
    "class Tiempo:\n",
    "    def __init__ (self, inicio, final):\n",
    "        self.hours = 0\n",
    "        self.minutes = 0\n",
    "        self.seconds = 0\n",
    "        \n",
    "        fin = time.mktime(datetime.datetime.strptime(final, \"%Y-%m-%dT%H:%M:%S.%fZ\").timetuple())\n",
    "        ini = time.mktime(datetime.datetime.strptime(inicio, \"%Y-%m-%dT%H:%M:%S.%fZ\").timetuple())\n",
    "        \n",
    "        hoursRaw = int((fin - ini)/3600)\n",
    "        minutesRaw = int((fin - ini)/60)\n",
    "        secondsRaw = int(fin - ini)\n",
    "        \n",
    "        if hoursRaw != 0:\n",
    "            self.hours = hoursRaw\n",
    "            minutesRaw = int(((fin - ini)%3600)/60)\n",
    "        if minutesRaw != 0:\n",
    "            self.minutes = minutesRaw\n",
    "            secondsRaw = int((fin - ini)%60)\n",
    "        self.seconds = secondsRaw\n",
    "    \n",
    "    def toString(self):\n",
    "        t=\"\"\n",
    "        if self.hours !=0:\n",
    "            t += str(self.hours) + \"h/\"\n",
    "        if self.minutes !=0:\n",
    "            t += str(self.minutes) + \"m/\"\n",
    "        if self.seconds !=0:\n",
    "            t += str(self.seconds) + \"s\"\n",
    "        return t"
   ]
  },
  {
   "cell_type": "code",
   "execution_count": null,
   "id": "49a89b73-df76-466d-84c6-ac0743b6644a",
   "metadata": {},
   "outputs": [],
   "source": [
    "def tiempoPorNiveles(data, anomalias):\n",
    "    tiemposJugados = defaultdict(defaultdict)\n",
    "    for player in data:\n",
    "        for level in data[player]:\n",
    "            for times in data[player][level]:\n",
    "                if times[\"fin\"] != None: #Si no se aborto el intento del nivel\n",
    "                    try:\n",
    "                        timeDifference = Tiempo(times[\"ini\"], times[\"fin\"]).toString()\n",
    "                        if level in tiemposJugados[player]:\n",
    "                            tiemposJugados[player][level].append({\"time\" : timeDifference, \"stars\" : times[\"stars\"]})\n",
    "                        else:\n",
    "                            tiemposJugados[player][level] = [{\"time\" : timeDifference, \"stars\" : times[\"stars\"]}]\n",
    "                    except ValueError: #Algunos timestamps de finalizacion estan vacios, ¿Tiene que ser asi?\n",
    "                        anomalias.append({\"jugador\" : player,\n",
    "                                  \"nivel\" : level,\n",
    "                                  \"Timestamp-Inicio\" : times[\"ini\"],\n",
    "                                  \"Timestamp-Fin\" : times[\"fin\"],\n",
    "                                  \"Descripcion:\" : \"No se ha podido parsear uno de los 2 timestamps\"})\n",
    "    return tiemposJugados"
   ]
  },
  {
   "cell_type": "code",
   "execution_count": null,
   "id": "8a47c595-756e-4cfd-9c2f-7bb910184dfd",
   "metadata": {},
   "outputs": [],
   "source": [
    "def buscarTarjetas(rawData):\n",
    "    data = []\n",
    "    erIdLevel = re.compile(r'/')\n",
    "    for evento in rawData:\n",
    "        idJugador = evento[\"actor\"][\"name\"]\n",
    "        levelCode = erIdLevel.split(evento[\"object\"][\"id\"])[-1]\n",
    "        if idJugador == \"bdwyj\" and \"result\" in evento and \"extensions\" in evento[\"result\"] and \"level\" in evento[\"result\"][\"extensions\"]:\n",
    "            if evento[\"result\"][\"extensions\"][\"level\"] == \"variables_9\":\n",
    "                data.append(evento)\n",
    "        elif idJugador == \"bdwyj\" and levelCode == \"variables_9\":\n",
    "            data.append(evento)\n",
    "    return data"
   ]
  },
  {
   "cell_type": "code",
   "execution_count": null,
   "id": "b7b0e7ed-e597-460c-b7fb-29055244d40b",
   "metadata": {},
   "outputs": [],
   "source": [
    "JSONFile = open('traces_Articoding_Escolapias.json')\n",
    "rawData = json.load(JSONFile)\n",
    "data, anomalias = extraerTiempos(rawData)\n",
    "JSONFile.close()\n",
    "\n",
    "pd.options.display.max_columns = None\n",
    "pd.set_option('display.max_colwidth', None)\n",
    "pd.options.display.max_rows = None\n",
    "#pd.DataFrame(data)\n",
    "#dataTarjetas = buscarTarjetas(rawData)\n",
    "#pd.DataFrame(dataTarjetas)\n",
    "tiempos = tiempoPorNiveles(data, anomalias)\n",
    "pd.DataFrame(tiempos)"
   ]
  },
  {
   "cell_type": "code",
   "execution_count": null,
   "id": "3081e94f-1bf2-4ebf-9858-160c07912dae",
   "metadata": {},
   "outputs": [],
   "source": []
  }
 ],
 "metadata": {
  "kernelspec": {
   "display_name": "Python 3 (ipykernel)",
   "language": "python",
   "name": "python3"
  },
  "language_info": {
   "codemirror_mode": {
    "name": "ipython",
    "version": 3
   },
   "file_extension": ".py",
   "mimetype": "text/x-python",
   "name": "python",
   "nbconvert_exporter": "python",
   "pygments_lexer": "ipython3",
   "version": "3.9.12"
  }
 },
 "nbformat": 4,
 "nbformat_minor": 5
}
