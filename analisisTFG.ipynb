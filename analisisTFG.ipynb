{
 "cells": [
  {
   "cell_type": "markdown",
   "id": "6a6f0e43-3a08-4b42-8364-8aacf9155cef",
   "metadata": {
    "tags": []
   },
   "source": [
    "# **Primer análisis de datos extraidos**"
   ]
  },
  {
   "cell_type": "markdown",
   "id": "809b09a5-0f5a-484d-8da5-71d943fdacb8",
   "metadata": {},
   "source": [
    "#### Incluimos las librerías necesarias para analizar los datos"
   ]
  },
  {
   "cell_type": "code",
   "execution_count": null,
   "id": "97e88c4f-1c17-4604-a63c-e0d24a96a5d2",
   "metadata": {},
   "outputs": [],
   "source": [
    "import pandas as pd\n",
    "import json\n",
    "from collections import defaultdict\n",
    "import re\n",
    "from datetime import datetime, timedelta"
   ]
  },
  {
   "cell_type": "markdown",
   "id": "181c0a9a-da59-44dd-91dc-83705e8c8c10",
   "metadata": {
    "tags": []
   },
   "source": [
    "#### Leemos los datos del JSON y lo guardamos en la variable *datos*"
   ]
  },
  {
   "cell_type": "code",
   "execution_count": null,
   "id": "61557261-d30b-4b2b-82b4-293b5f30885e",
   "metadata": {},
   "outputs": [],
   "source": [
    "datos = pd.read_json('traces_Articoding_Escolapias.json')"
   ]
  },
  {
   "cell_type": "markdown",
   "id": "078d35b6-7b69-4837-a911-c5275055c91c",
   "metadata": {},
   "source": [
    "#### Usamos el metodo **head** para ver como estan estructurados los elementos del JSON"
   ]
  },
  {
   "cell_type": "code",
   "execution_count": null,
   "id": "1bf0de52-c5ca-42ff-98f4-184a377ff357",
   "metadata": {},
   "outputs": [],
   "source": [
    "datos.head(10)"
   ]
  },
  {
   "cell_type": "markdown",
   "id": "c0e4d2ea",
   "metadata": {},
   "source": [
    "## Obtenemos el codigo de inicio y find e nivel"
   ]
  },
  {
   "cell_type": "code",
   "execution_count": null,
   "id": "464a48f8",
   "metadata": {},
   "outputs": [],
   "source": [
    "prueba = datos.head(20)\n",
    "\n",
    "tiempos = set()   \n",
    "#Buscamos el nombre de los tiempos de inicio y fin, los cuales se encuentran en 'verb'\n",
    "for time in prueba['verb']:\n",
    "    tiempos.add(time['id'])\n",
    "#Guardamos el link de inicio y fin\n",
    "print(tiempos)\n",
    "initialized = \"http://adlnet.gov/expapi/verbs/initialized\"\n",
    "completed = \"http://adlnet.gov/expapi/verbs/completed\"\n",
    "print('Initialized: '+ initialized,'Completed: '+ completed)"
   ]
  },
  {
   "cell_type": "markdown",
   "id": "22044115",
   "metadata": {},
   "source": [
    "## Creamos una lista de diccionarios con los timepos de cada usuario en cada nivel"
   ]
  },
  {
   "cell_type": "code",
   "execution_count": null,
   "id": "f1a05c3b",
   "metadata": {},
   "outputs": [],
   "source": [
    "#verb nos dice si se ha iniciado o completado un nivel\n",
    "#Buscamos guardar en un diccionario de usuarios diccionarios de niveles con los tiempos de ejecución\n",
    "userList = defaultdict(defaultdict)\n",
    "tam = len(datos)\n",
    "for elemento in datos.to_numpy():\n",
    "    #Comprobamos que la acción sea de inicio o fin de nivel\n",
    "    verb = elemento[2]['id']\n",
    "    #Diccionario de usuarios --> \n",
    "    if verb == initialized or verb == completed:\n",
    "        #Extraemos el nombre del usuario y el nivel\n",
    "        name = elemento[0]['name']\n",
    "        timestamp = elemento[5]\n",
    "        level = elemento[4]['id']\n",
    "        #Calculamos el tiempo que tarda en terminar el nivel\n",
    "        if level in userList[name]:\n",
    "            userList[name][level][verb] = timestamp\n",
    "        else:\n",
    "            userList[name][level] = {verb: timestamp}\n",
    "\n",
    "            \n",
    "        \n",
    "\n",
    "userList"
   ]
  }
 ],
 "metadata": {
  "kernelspec": {
   "display_name": "Python 3.10.7 ('usr')",
   "language": "python",
   "name": "python3"
  },
  "language_info": {
   "codemirror_mode": {
    "name": "ipython",
    "version": 3
   },
   "file_extension": ".py",
   "mimetype": "text/x-python",
   "name": "python",
   "nbconvert_exporter": "python",
   "pygments_lexer": "ipython3",
   "version": "3.10.7"
  },
  "vscode": {
   "interpreter": {
    "hash": "767d51c1340bd893661ea55ea3124f6de3c7a262a8b4abca0554b478b1e2ff90"
   }
  }
 },
 "nbformat": 4,
 "nbformat_minor": 5
}
