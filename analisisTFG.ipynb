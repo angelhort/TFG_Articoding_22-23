{
 "cells": [
  {
   "cell_type": "markdown",
   "id": "6a6f0e43-3a08-4b42-8364-8aacf9155cef",
   "metadata": {
    "tags": []
   },
   "source": [
    "# **Primer análisis de datos extraidos**"
   ]
  },
  {
   "cell_type": "markdown",
   "id": "809b09a5-0f5a-484d-8da5-71d943fdacb8",
   "metadata": {},
   "source": [
    "#### Incluimos las librerías necesarias para analizar los datos"
   ]
  },
  {
   "cell_type": "code",
   "execution_count": 2,
   "id": "97e88c4f-1c17-4604-a63c-e0d24a96a5d2",
   "metadata": {},
   "outputs": [],
   "source": [
    "import pandas as pd"
   ]
  },
  {
   "cell_type": "markdown",
   "id": "181c0a9a-da59-44dd-91dc-83705e8c8c10",
   "metadata": {
    "tags": []
   },
   "source": [
    "#### Leemos los datos del JSON y lo guardamos en la variable *datos*"
   ]
  },
  {
   "cell_type": "code",
   "execution_count": 3,
   "id": "61557261-d30b-4b2b-82b4-293b5f30885e",
   "metadata": {},
   "outputs": [],
   "source": [
    "datos = pd.read_json('traces_Articoding_Escolapias.json')"
   ]
  },
  {
   "cell_type": "markdown",
   "id": "078d35b6-7b69-4837-a911-c5275055c91c",
   "metadata": {},
   "source": [
    "#### Usamos el metodo **head** para ver como estan estructurados los elementos del JSON"
   ]
  },
  {
   "cell_type": "code",
   "execution_count": 4,
   "id": "1bf0de52-c5ca-42ff-98f4-184a377ff357",
   "metadata": {},
   "outputs": [
    {
     "data": {
      "text/html": [
       "<div>\n",
       "<style scoped>\n",
       "    .dataframe tbody tr th:only-of-type {\n",
       "        vertical-align: middle;\n",
       "    }\n",
       "\n",
       "    .dataframe tbody tr th {\n",
       "        vertical-align: top;\n",
       "    }\n",
       "\n",
       "    .dataframe thead th {\n",
       "        text-align: right;\n",
       "    }\n",
       "</style>\n",
       "<table border=\"1\" class=\"dataframe\">\n",
       "  <thead>\n",
       "    <tr style=\"text-align: right;\">\n",
       "      <th></th>\n",
       "      <th>actor</th>\n",
       "      <th>result</th>\n",
       "      <th>verb</th>\n",
       "      <th>_id</th>\n",
       "      <th>object</th>\n",
       "      <th>timestamp</th>\n",
       "    </tr>\n",
       "  </thead>\n",
       "  <tbody>\n",
       "    <tr>\n",
       "      <th>0</th>\n",
       "      <td>{'name': 'gqoj', 'account': {'homePage': 'http...</td>\n",
       "      <td>{'extensions': {'content': ': '}}</td>\n",
       "      <td>{'id': 'http://adlnet.gov/expapi/verbs/initial...</td>\n",
       "      <td>628179b5a6ba41003d3bada2</td>\n",
       "      <td>{'definition': {'type': 'https://w3id.org/xapi...</td>\n",
       "      <td>2022-05-16 10:36:35.361000+00:00</td>\n",
       "    </tr>\n",
       "    <tr>\n",
       "      <th>1</th>\n",
       "      <td>{'name': 'gqoj', 'account': {'homePage': 'http...</td>\n",
       "      <td>{'extensions': {'https://w3id.org/xapi/serious...</td>\n",
       "      <td>{'id': 'http://adlnet.gov/expapi/verbs/progres...</td>\n",
       "      <td>628179b5a6ba41003d3bada2</td>\n",
       "      <td>{'definition': {'type': 'https://w3id.org/xapi...</td>\n",
       "      <td>2022-05-16 10:36:35.317000+00:00</td>\n",
       "    </tr>\n",
       "    <tr>\n",
       "      <th>2</th>\n",
       "      <td>{'name': 'gqoj', 'account': {'homePage': 'http...</td>\n",
       "      <td>{'extensions': {'fullscreen': True, 'language'...</td>\n",
       "      <td>{'id': 'http://adlnet.gov/expapi/verbs/initial...</td>\n",
       "      <td>628179b5a6ba41003d3bada2</td>\n",
       "      <td>{'definition': {'type': 'https://w3id.org/xapi...</td>\n",
       "      <td>2022-05-16 10:36:35.316000+00:00</td>\n",
       "    </tr>\n",
       "    <tr>\n",
       "      <th>3</th>\n",
       "      <td>{'name': 'gqoj', 'account': {'homePage': 'http...</td>\n",
       "      <td>NaN</td>\n",
       "      <td>{'id': 'https://w3id.org/xapi/seriousgames/ver...</td>\n",
       "      <td>628179b5a6ba41003d3bada2</td>\n",
       "      <td>{'definition': {'type': 'https://w3id.org/xapi...</td>\n",
       "      <td>2022-05-16 10:36:35.297000+00:00</td>\n",
       "    </tr>\n",
       "    <tr>\n",
       "      <th>4</th>\n",
       "      <td>{'name': 'gqoj', 'account': {'homePage': 'http...</td>\n",
       "      <td>{'extensions': {'scene': 'menu'}}</td>\n",
       "      <td>{'id': 'https://w3id.org/xapi/seriousgames/ver...</td>\n",
       "      <td>628179b5a6ba41003d3bada2</td>\n",
       "      <td>{'definition': {'type': 'https://w3id.org/xapi...</td>\n",
       "      <td>2022-05-16 10:36:42.439000+00:00</td>\n",
       "    </tr>\n",
       "    <tr>\n",
       "      <th>5</th>\n",
       "      <td>{'name': 'gqoj', 'account': {'homePage': 'http...</td>\n",
       "      <td>{'extensions': {'content': 'Estrellas por cate...</td>\n",
       "      <td>{'id': 'http://adlnet.gov/expapi/verbs/initial...</td>\n",
       "      <td>628179b5a6ba41003d3bada2</td>\n",
       "      <td>{'definition': {'type': 'https://w3id.org/xapi...</td>\n",
       "      <td>2022-05-16 10:36:42.435000+00:00</td>\n",
       "    </tr>\n",
       "    <tr>\n",
       "      <th>6</th>\n",
       "      <td>{'name': 'gqoj', 'account': {'homePage': 'http...</td>\n",
       "      <td>{'score': {'raw': 1}, 'extensions': {'content'...</td>\n",
       "      <td>{'id': 'http://adlnet.gov/expapi/verbs/complet...</td>\n",
       "      <td>628179b5a6ba41003d3bada2</td>\n",
       "      <td>{'definition': {'type': 'https://w3id.org/xapi...</td>\n",
       "      <td>2022-05-16 10:36:42.434000+00:00</td>\n",
       "    </tr>\n",
       "    <tr>\n",
       "      <th>7</th>\n",
       "      <td>{'name': 'gqoj', 'account': {'homePage': 'http...</td>\n",
       "      <td>{'extensions': {'content': 'Menús: Puedes eleg...</td>\n",
       "      <td>{'id': 'http://adlnet.gov/expapi/verbs/initial...</td>\n",
       "      <td>628179b5a6ba41003d3bada2</td>\n",
       "      <td>{'definition': {'type': 'https://w3id.org/xapi...</td>\n",
       "      <td>2022-05-16 10:36:40.688000+00:00</td>\n",
       "    </tr>\n",
       "    <tr>\n",
       "      <th>8</th>\n",
       "      <td>{'name': 'gqoj', 'account': {'homePage': 'http...</td>\n",
       "      <td>{'score': {'raw': 1}, 'extensions': {'content'...</td>\n",
       "      <td>{'id': 'http://adlnet.gov/expapi/verbs/complet...</td>\n",
       "      <td>628179b5a6ba41003d3bada2</td>\n",
       "      <td>{'definition': {'type': 'https://w3id.org/xapi...</td>\n",
       "      <td>2022-05-16 10:36:40.685000+00:00</td>\n",
       "    </tr>\n",
       "    <tr>\n",
       "      <th>9</th>\n",
       "      <td>{'name': 'gqoj', 'account': {'homePage': 'http...</td>\n",
       "      <td>{'extensions': {'content': ': '}}</td>\n",
       "      <td>{'id': 'http://adlnet.gov/expapi/verbs/initial...</td>\n",
       "      <td>628179b5a6ba41003d3bada2</td>\n",
       "      <td>{'definition': {'type': 'https://w3id.org/xapi...</td>\n",
       "      <td>2022-05-16 10:36:46.017000+00:00</td>\n",
       "    </tr>\n",
       "  </tbody>\n",
       "</table>\n",
       "</div>"
      ],
      "text/plain": [
       "                                               actor  \\\n",
       "0  {'name': 'gqoj', 'account': {'homePage': 'http...   \n",
       "1  {'name': 'gqoj', 'account': {'homePage': 'http...   \n",
       "2  {'name': 'gqoj', 'account': {'homePage': 'http...   \n",
       "3  {'name': 'gqoj', 'account': {'homePage': 'http...   \n",
       "4  {'name': 'gqoj', 'account': {'homePage': 'http...   \n",
       "5  {'name': 'gqoj', 'account': {'homePage': 'http...   \n",
       "6  {'name': 'gqoj', 'account': {'homePage': 'http...   \n",
       "7  {'name': 'gqoj', 'account': {'homePage': 'http...   \n",
       "8  {'name': 'gqoj', 'account': {'homePage': 'http...   \n",
       "9  {'name': 'gqoj', 'account': {'homePage': 'http...   \n",
       "\n",
       "                                              result  \\\n",
       "0                  {'extensions': {'content': ': '}}   \n",
       "1  {'extensions': {'https://w3id.org/xapi/serious...   \n",
       "2  {'extensions': {'fullscreen': True, 'language'...   \n",
       "3                                                NaN   \n",
       "4                  {'extensions': {'scene': 'menu'}}   \n",
       "5  {'extensions': {'content': 'Estrellas por cate...   \n",
       "6  {'score': {'raw': 1}, 'extensions': {'content'...   \n",
       "7  {'extensions': {'content': 'Menús: Puedes eleg...   \n",
       "8  {'score': {'raw': 1}, 'extensions': {'content'...   \n",
       "9                  {'extensions': {'content': ': '}}   \n",
       "\n",
       "                                                verb  \\\n",
       "0  {'id': 'http://adlnet.gov/expapi/verbs/initial...   \n",
       "1  {'id': 'http://adlnet.gov/expapi/verbs/progres...   \n",
       "2  {'id': 'http://adlnet.gov/expapi/verbs/initial...   \n",
       "3  {'id': 'https://w3id.org/xapi/seriousgames/ver...   \n",
       "4  {'id': 'https://w3id.org/xapi/seriousgames/ver...   \n",
       "5  {'id': 'http://adlnet.gov/expapi/verbs/initial...   \n",
       "6  {'id': 'http://adlnet.gov/expapi/verbs/complet...   \n",
       "7  {'id': 'http://adlnet.gov/expapi/verbs/initial...   \n",
       "8  {'id': 'http://adlnet.gov/expapi/verbs/complet...   \n",
       "9  {'id': 'http://adlnet.gov/expapi/verbs/initial...   \n",
       "\n",
       "                        _id  \\\n",
       "0  628179b5a6ba41003d3bada2   \n",
       "1  628179b5a6ba41003d3bada2   \n",
       "2  628179b5a6ba41003d3bada2   \n",
       "3  628179b5a6ba41003d3bada2   \n",
       "4  628179b5a6ba41003d3bada2   \n",
       "5  628179b5a6ba41003d3bada2   \n",
       "6  628179b5a6ba41003d3bada2   \n",
       "7  628179b5a6ba41003d3bada2   \n",
       "8  628179b5a6ba41003d3bada2   \n",
       "9  628179b5a6ba41003d3bada2   \n",
       "\n",
       "                                              object  \\\n",
       "0  {'definition': {'type': 'https://w3id.org/xapi...   \n",
       "1  {'definition': {'type': 'https://w3id.org/xapi...   \n",
       "2  {'definition': {'type': 'https://w3id.org/xapi...   \n",
       "3  {'definition': {'type': 'https://w3id.org/xapi...   \n",
       "4  {'definition': {'type': 'https://w3id.org/xapi...   \n",
       "5  {'definition': {'type': 'https://w3id.org/xapi...   \n",
       "6  {'definition': {'type': 'https://w3id.org/xapi...   \n",
       "7  {'definition': {'type': 'https://w3id.org/xapi...   \n",
       "8  {'definition': {'type': 'https://w3id.org/xapi...   \n",
       "9  {'definition': {'type': 'https://w3id.org/xapi...   \n",
       "\n",
       "                         timestamp  \n",
       "0 2022-05-16 10:36:35.361000+00:00  \n",
       "1 2022-05-16 10:36:35.317000+00:00  \n",
       "2 2022-05-16 10:36:35.316000+00:00  \n",
       "3 2022-05-16 10:36:35.297000+00:00  \n",
       "4 2022-05-16 10:36:42.439000+00:00  \n",
       "5 2022-05-16 10:36:42.435000+00:00  \n",
       "6 2022-05-16 10:36:42.434000+00:00  \n",
       "7 2022-05-16 10:36:40.688000+00:00  \n",
       "8 2022-05-16 10:36:40.685000+00:00  \n",
       "9 2022-05-16 10:36:46.017000+00:00  "
      ]
     },
     "execution_count": 4,
     "metadata": {},
     "output_type": "execute_result"
    }
   ],
   "source": [
    "datos.head(10)"
   ]
  },
  {
   "cell_type": "markdown",
   "id": "77d64f24-d0e5-4e29-851a-3f50caf01cc1",
   "metadata": {},
   "source": [
    "#### Para empezar de forma mas sencilla analizamos el tiempo de juego de un jugador concreto, por ejemplo, de *gqoj*"
   ]
  },
  {
   "cell_type": "markdown",
   "id": "05bdba25-ed8c-43f5-8040-944e5125e13d",
   "metadata": {},
   "source": [
    "* Lo primero sería extraer su primer *timestamp*  "
   ]
  },
  {
   "cell_type": "code",
   "execution_count": 12,
   "id": "579c546b-3985-4f04-91e8-ba88b3a7d491",
   "metadata": {},
   "outputs": [],
   "source": [
    "inicio = \"\"\n",
    "for i in datos.to_numpy():\n",
    "    if(i[0][\"name\"] == \"gqoj\"):\n",
    "        inicio = i[5]\n",
    "        break"
   ]
  },
  {
   "cell_type": "code",
   "execution_count": 6,
   "id": "7acb6630-da94-4f14-aa9b-0502e3e3ef8f",
   "metadata": {},
   "outputs": [
    {
     "data": {
      "text/plain": [
       "Timestamp('2022-05-16 10:36:35.361000+0000', tz='UTC')"
      ]
     },
     "execution_count": 6,
     "metadata": {},
     "output_type": "execute_result"
    }
   ],
   "source": [
    "inicio"
   ]
  },
  {
   "cell_type": "markdown",
   "id": "8cf8f6d0-25c3-43a3-bfba-ab3a46036268",
   "metadata": {},
   "source": [
    "* Ahora que ya tenemos el inicio de la partida vamos a buscar el fin de la partida, para ello nos recorremos todo el JSON y nos quedamos con el último *timestamp* del jugador"
   ]
  },
  {
   "cell_type": "code",
   "execution_count": 7,
   "id": "e3e04316-d4f1-4027-8216-ead0b0aed3c2",
   "metadata": {},
   "outputs": [],
   "source": [
    "fin = \"\"\n",
    "for i in datos.to_numpy():\n",
    "    if(i[0][\"name\"] == \"gqoj\"):\n",
    "        fin = i[5]"
   ]
  },
  {
   "cell_type": "code",
   "execution_count": 8,
   "id": "5bdf8ba1-7e5a-403f-bdc3-4b9fad10810d",
   "metadata": {},
   "outputs": [
    {
     "data": {
      "text/plain": [
       "Timestamp('2022-05-23 16:01:55.895000+0000', tz='UTC')"
      ]
     },
     "execution_count": 8,
     "metadata": {},
     "output_type": "execute_result"
    }
   ],
   "source": [
    "fin"
   ]
  },
  {
   "cell_type": "markdown",
   "id": "da6baffe-7799-4858-8148-5168aeb68213",
   "metadata": {},
   "source": [
    "Parece que las trazas no son todas del mismo día, hay que buscar la forma de **filtrar por días**."
   ]
  },
  {
   "cell_type": "markdown",
   "id": "9c644633-c985-458e-a635-044e9de4f726",
   "metadata": {},
   "source": [
    "#### Ahora que ya sabemos extraer el *timestamp* de un jugador en concreto vamos a intentar recoger los de todos los jugadores"
   ]
  },
  {
   "cell_type": "markdown",
   "id": "88af31d0-1645-4f45-aa45-56feb581180b",
   "metadata": {},
   "source": [
    "* Guardaremos los datos en un diccionario cuya clave será el **id** del jugador y su valor una pareja con el *timestamp* de inicio y de fin"
   ]
  },
  {
   "cell_type": "code",
   "execution_count": 13,
   "id": "90694d76-5de3-4ff7-9cef-aed959d277cf",
   "metadata": {},
   "outputs": [],
   "source": [
    "tiempos = dict()\n",
    "for i in datos.to_numpy():\n",
    "    idUser = i[0][\"name\"]\n",
    "    timeStamp = i[5]\n",
    "    \n",
    "    if(idUser in tiempos):\n",
    "        timeStampIni = tiempos[idUser][0]\n",
    "        tiempos[idUser] = (timeStampIni, timeStamp)\n",
    "    else:\n",
    "        tiempos[idUser] = (timeStamp, \"\")"
   ]
  },
  {
   "cell_type": "code",
   "execution_count": 15,
   "id": "3eec5425-a6b1-48a7-bc38-87e2619e78ec",
   "metadata": {},
   "outputs": [
    {
     "data": {
      "text/html": [
       "<div>\n",
       "<style scoped>\n",
       "    .dataframe tbody tr th:only-of-type {\n",
       "        vertical-align: middle;\n",
       "    }\n",
       "\n",
       "    .dataframe tbody tr th {\n",
       "        vertical-align: top;\n",
       "    }\n",
       "\n",
       "    .dataframe thead th {\n",
       "        text-align: right;\n",
       "    }\n",
       "</style>\n",
       "<table border=\"1\" class=\"dataframe\">\n",
       "  <thead>\n",
       "    <tr style=\"text-align: right;\">\n",
       "      <th></th>\n",
       "      <th>gqoj</th>\n",
       "      <th>hgfx</th>\n",
       "      <th>gton</th>\n",
       "      <th>uala</th>\n",
       "      <th>qeqyj</th>\n",
       "      <th>fkmtp</th>\n",
       "      <th>hjpbw</th>\n",
       "      <th>bdwyj</th>\n",
       "      <th>eprdu</th>\n",
       "      <th>ftpnb</th>\n",
       "      <th>...</th>\n",
       "      <th>bajbm</th>\n",
       "      <th>eayrh</th>\n",
       "      <th>orjyn</th>\n",
       "      <th>prpej</th>\n",
       "      <th>fmupf</th>\n",
       "      <th>vkfnt</th>\n",
       "      <th>xbmmw</th>\n",
       "      <th>pleui</th>\n",
       "      <th>olugf</th>\n",
       "      <th>epjcx</th>\n",
       "    </tr>\n",
       "  </thead>\n",
       "  <tbody>\n",
       "    <tr>\n",
       "      <th>0</th>\n",
       "      <td>2022-05-16 10:36:35.361000+00:00</td>\n",
       "      <td>2022-05-16 10:48:06.634000+00:00</td>\n",
       "      <td>2022-05-16 22:12:06.760000+00:00</td>\n",
       "      <td>2022-05-17 07:39:39.267000+00:00</td>\n",
       "      <td>2022-05-18 07:10:24.601000+00:00</td>\n",
       "      <td>2022-05-18 07:10:44.894000+00:00</td>\n",
       "      <td>2022-05-18 07:10:59.919000+00:00</td>\n",
       "      <td>2022-05-18 07:11:02.294000+00:00</td>\n",
       "      <td>2022-05-18 07:11:01.092000+00:00</td>\n",
       "      <td>2022-05-18 07:11:18.662000+00:00</td>\n",
       "      <td>...</td>\n",
       "      <td>2022-05-24 09:33:01.510000+00:00</td>\n",
       "      <td>2022-05-24 09:33:02.422000+00:00</td>\n",
       "      <td>2022-05-24 09:33:07.855000+00:00</td>\n",
       "      <td>2022-05-24 09:33:41.060000+00:00</td>\n",
       "      <td>2022-05-24 09:34:20.130000+00:00</td>\n",
       "      <td>2022-05-24 09:34:23.401000+00:00</td>\n",
       "      <td>2022-05-24 09:34:22.295000+00:00</td>\n",
       "      <td>2022-05-24 09:34:32.727000+00:00</td>\n",
       "      <td>2022-05-24 09:36:36.250000+00:00</td>\n",
       "      <td>2022-05-24 12:20:00.205000+00:00</td>\n",
       "    </tr>\n",
       "    <tr>\n",
       "      <th>1</th>\n",
       "      <td>2022-05-23 16:01:55.895000+00:00</td>\n",
       "      <td>2022-05-16 10:54:01.016000+00:00</td>\n",
       "      <td>2022-05-16 22:12:21.778000+00:00</td>\n",
       "      <td>2022-05-17 07:42:45.832000+00:00</td>\n",
       "      <td>2022-05-18 10:10:50.954000+00:00</td>\n",
       "      <td>2022-05-18 10:10:45.117000+00:00</td>\n",
       "      <td>2022-05-18 10:10:58.339000+00:00</td>\n",
       "      <td>2022-05-18 10:13:10.064000+00:00</td>\n",
       "      <td>2022-05-18 10:10:53.289000+00:00</td>\n",
       "      <td>2022-05-18 10:10:55.723000+00:00</td>\n",
       "      <td>...</td>\n",
       "      <td>2022-05-24 12:13:54.834000+00:00</td>\n",
       "      <td>2022-05-24 12:12:45.295000+00:00</td>\n",
       "      <td>2022-05-24 12:14:02.923000+00:00</td>\n",
       "      <td>2022-05-24 12:09:03.889000+00:00</td>\n",
       "      <td>2022-05-24 12:11:58.891000+00:00</td>\n",
       "      <td>2022-05-24 12:13:18.012000+00:00</td>\n",
       "      <td>2022-05-24 12:12:04.445000+00:00</td>\n",
       "      <td>2022-05-24 12:12:17.773000+00:00</td>\n",
       "      <td>2022-05-24 12:09:25.385000+00:00</td>\n",
       "      <td>2022-05-24 12:58:14.766000+00:00</td>\n",
       "    </tr>\n",
       "  </tbody>\n",
       "</table>\n",
       "<p>2 rows × 146 columns</p>\n",
       "</div>"
      ],
      "text/plain": [
       "                              gqoj                             hgfx  \\\n",
       "0 2022-05-16 10:36:35.361000+00:00 2022-05-16 10:48:06.634000+00:00   \n",
       "1 2022-05-23 16:01:55.895000+00:00 2022-05-16 10:54:01.016000+00:00   \n",
       "\n",
       "                              gton                             uala  \\\n",
       "0 2022-05-16 22:12:06.760000+00:00 2022-05-17 07:39:39.267000+00:00   \n",
       "1 2022-05-16 22:12:21.778000+00:00 2022-05-17 07:42:45.832000+00:00   \n",
       "\n",
       "                             qeqyj                            fkmtp  \\\n",
       "0 2022-05-18 07:10:24.601000+00:00 2022-05-18 07:10:44.894000+00:00   \n",
       "1 2022-05-18 10:10:50.954000+00:00 2022-05-18 10:10:45.117000+00:00   \n",
       "\n",
       "                             hjpbw                            bdwyj  \\\n",
       "0 2022-05-18 07:10:59.919000+00:00 2022-05-18 07:11:02.294000+00:00   \n",
       "1 2022-05-18 10:10:58.339000+00:00 2022-05-18 10:13:10.064000+00:00   \n",
       "\n",
       "                             eprdu                            ftpnb  ...  \\\n",
       "0 2022-05-18 07:11:01.092000+00:00 2022-05-18 07:11:18.662000+00:00  ...   \n",
       "1 2022-05-18 10:10:53.289000+00:00 2022-05-18 10:10:55.723000+00:00  ...   \n",
       "\n",
       "                             bajbm                            eayrh  \\\n",
       "0 2022-05-24 09:33:01.510000+00:00 2022-05-24 09:33:02.422000+00:00   \n",
       "1 2022-05-24 12:13:54.834000+00:00 2022-05-24 12:12:45.295000+00:00   \n",
       "\n",
       "                             orjyn                            prpej  \\\n",
       "0 2022-05-24 09:33:07.855000+00:00 2022-05-24 09:33:41.060000+00:00   \n",
       "1 2022-05-24 12:14:02.923000+00:00 2022-05-24 12:09:03.889000+00:00   \n",
       "\n",
       "                             fmupf                            vkfnt  \\\n",
       "0 2022-05-24 09:34:20.130000+00:00 2022-05-24 09:34:23.401000+00:00   \n",
       "1 2022-05-24 12:11:58.891000+00:00 2022-05-24 12:13:18.012000+00:00   \n",
       "\n",
       "                             xbmmw                            pleui  \\\n",
       "0 2022-05-24 09:34:22.295000+00:00 2022-05-24 09:34:32.727000+00:00   \n",
       "1 2022-05-24 12:12:04.445000+00:00 2022-05-24 12:12:17.773000+00:00   \n",
       "\n",
       "                             olugf                            epjcx  \n",
       "0 2022-05-24 09:36:36.250000+00:00 2022-05-24 12:20:00.205000+00:00  \n",
       "1 2022-05-24 12:09:25.385000+00:00 2022-05-24 12:58:14.766000+00:00  \n",
       "\n",
       "[2 rows x 146 columns]"
      ]
     },
     "execution_count": 15,
     "metadata": {},
     "output_type": "execute_result"
    }
   ],
   "source": [
    "pd.DataFrame(tiempos)"
   ]
  },
  {
   "cell_type": "markdown",
   "id": "391c44f0-a5b5-4edb-9771-2c8488c79d8e",
   "metadata": {},
   "source": [
    "* Parece que ya tenemos los datos que queríamos de cada jugador, asumimos que son los correctos porque los tiempos del jugador *gqoj* coinciden con los que hemos sacado antes"
   ]
  },
  {
   "cell_type": "markdown",
   "id": "f592dbdc-bcfe-4446-8c7b-30ed410d13b6",
   "metadata": {},
   "source": [
    "* Ahora toca hacer la resta para ver el tiempo de juego de los jugadores "
   ]
  },
  {
   "cell_type": "code",
   "execution_count": null,
   "id": "f3aa02eb-5533-4071-a5f3-3c9b77e631f5",
   "metadata": {},
   "outputs": [],
   "source": []
  },
  {
   "cell_type": "code",
   "execution_count": null,
   "id": "a39344b4-134d-40f6-bac3-b4caf2529f5a",
   "metadata": {},
   "outputs": [],
   "source": []
  }
 ],
 "metadata": {
  "kernelspec": {
   "display_name": "Python 3 (ipykernel)",
   "language": "python",
   "name": "python3"
  },
  "language_info": {
   "codemirror_mode": {
    "name": "ipython",
    "version": 3
   },
   "file_extension": ".py",
   "mimetype": "text/x-python",
   "name": "python",
   "nbconvert_exporter": "python",
   "pygments_lexer": "ipython3",
   "version": "3.9.12"
  }
 },
 "nbformat": 4,
 "nbformat_minor": 5
}
