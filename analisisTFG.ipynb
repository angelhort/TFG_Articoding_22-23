{
 "cells": [
  {
   "cell_type": "markdown",
   "id": "6a6f0e43-3a08-4b42-8364-8aacf9155cef",
   "metadata": {
    "tags": []
   },
   "source": [
    "# **Primer análisis de datos extraidos**"
   ]
  },
  {
   "cell_type": "markdown",
   "id": "809b09a5-0f5a-484d-8da5-71d943fdacb8",
   "metadata": {},
   "source": [
    "#### Incluimos las librerías necesarias para analizar los datos"
   ]
  },
  {
   "cell_type": "code",
   "execution_count": 13,
   "id": "97e88c4f-1c17-4604-a63c-e0d24a96a5d2",
   "metadata": {},
   "outputs": [],
   "source": [
    "import pandas as pd\n",
    "import json\n",
    "from collections import defaultdict\n",
    "import re\n",
    "from datetime import datetime, timedelta"
   ]
  },
  {
   "cell_type": "markdown",
   "id": "181c0a9a-da59-44dd-91dc-83705e8c8c10",
   "metadata": {
    "tags": []
   },
   "source": [
    "#### Leemos los datos del JSON y lo guardamos en la variable *datos*"
   ]
  },
  {
   "cell_type": "code",
   "execution_count": 14,
   "id": "61557261-d30b-4b2b-82b4-293b5f30885e",
   "metadata": {},
   "outputs": [],
   "source": [
    "datos = pd.read_json('traces_Articoding_Escolapias.json')"
   ]
  },
  {
   "cell_type": "markdown",
   "id": "26c87f0d",
   "metadata": {},
   "source": [
    "# Comprobamos si el objeto que miramos es un nivel"
   ]
  },
  {
   "cell_type": "code",
   "execution_count": 113,
   "id": "cdf7086a",
   "metadata": {},
   "outputs": [
    {
     "name": "stdout",
     "output_type": "stream",
     "text": [
      "->\n",
      "https://simva-api.simva.e-ucm.es/activities/628179b5a6ba41003d3bada2/tip_0_bienvenido\n",
      "dialog-fragment\n",
      "No es nivel\n",
      "->\n",
      "https://simva-api.simva.e-ucm.es/activities/628179b5a6ba41003d3bada2/articoding\n",
      "serious-game\n",
      "No es nivel\n",
      "->\n",
      "https://simva-api.simva.e-ucm.es/activities/628179b5a6ba41003d3bada2/articoding\n",
      "serious-game\n",
      "No es nivel\n",
      "->\n",
      "https://simva-api.simva.e-ucm.es/activities/628179b5a6ba41003d3bada2/categories_main\n",
      "screen\n",
      "No es nivel\n",
      "->\n",
      "https://simva-api.simva.e-ucm.es/activities/628179b5a6ba41003d3bada2/tutorials_general\n",
      "screen\n",
      "No es nivel\n"
     ]
    }
   ],
   "source": [
    "def get_tipo(tipo):\n",
    "    return tipo.rsplit('/',1)[-1]\n",
    "\n",
    "def es_nivel(url):\n",
    "    subtipo = get_tipo(url)\n",
    "    return subtipo == 'level'\n",
    "\n",
    "\n",
    "#EJ:\n",
    "prueba = datos.head(5) \n",
    "\n",
    "for caso in prueba.to_numpy():\n",
    "    tipo = caso[4]['definition']['type']\n",
    "    nivel = es_nivel(tipo)\n",
    "    print(\"->\")\n",
    "    print(caso[4]['id'])\n",
    "    if nivel:\n",
    "        print(get_tipo(caso[4]['definition']['type'])+\"\\nEs un nivel\")\n",
    "    else:\n",
    "        print(get_tipo(caso[4]['definition']['type'])+\"\\nNo es nivel\")\n"
   ]
  },
  {
   "cell_type": "markdown",
   "id": "970525fb",
   "metadata": {},
   "source": [
    "## Obtenemos el codigo de inicio y fin de nivel"
   ]
  },
  {
   "cell_type": "markdown",
   "id": "b3c03fb6",
   "metadata": {},
   "source": []
  },
  {
   "cell_type": "code",
   "execution_count": 116,
   "id": "3bc23668",
   "metadata": {},
   "outputs": [
    {
     "name": "stdout",
     "output_type": "stream",
     "text": [
      "{'http://adlnet.gov/expapi/verbs/progressed', 'https://w3id.org/xapi/seriousgames/verbs/accessed', 'http://adlnet.gov/expapi/verbs/initialized', 'http://adlnet.gov/expapi/verbs/completed'}\n",
      "Initialized: http://adlnet.gov/expapi/verbs/initialized\n",
      "Completed: http://adlnet.gov/expapi/verbs/completed\n"
     ]
    }
   ],
   "source": [
    "\n",
    "prueba = datos.head(20)\n",
    "\n",
    "tiempos = set()   \n",
    "#Buscamos el nombre de los tiempos de inicio y fin, los cuales se encuentran en 'verb'\n",
    "for time in prueba['verb']:\n",
    "    tiempos.add(time['id'])\n",
    "#Guardamos el link de inicio y fin\n",
    "print(tiempos)\n",
    "initialized = \"http://adlnet.gov/expapi/verbs/initialized\"\n",
    "completed = \"http://adlnet.gov/expapi/verbs/completed\"\n",
    "print('Initialized: '+ initialized)\n",
    "print('Completed: '+ completed)\n"
   ]
  },
  {
   "cell_type": "markdown",
   "id": "078d35b6-7b69-4837-a911-c5275055c91c",
   "metadata": {},
   "source": [
    "#### Lista con los tiempos de cada usuario en cada nivel\n",
    "\n",
    "Guarda los tiempos que ha tardado cada usuario en terminar los cada nivel, en caso de completarlo varias veces, guarda todos los tiempos"
   ]
  },
  {
   "cell_type": "code",
   "execution_count": 144,
   "id": "1bf0de52-c5ca-42ff-98f4-184a377ff357",
   "metadata": {},
   "outputs": [
    {
     "name": "stdout",
     "output_type": "stream",
     "text": [
      "0 days 00:00:16.992000\n",
      "0 days 00:00:48.227000\n",
      "0 days 00:00:32.308000\n"
     ]
    }
   ],
   "source": [
    "def seconds_to_hours(time):\n",
    "    print(datetime.timedelta(time))\n",
    "\n",
    "def get_completion_time_list(datos):\n",
    "    #verb nos dice si se ha iniciado o completado un nivel\n",
    "    #Buscamos guardar en un diccionario de usuarios diccionarios de niveles con los tiempos de ejecución\n",
    "    userList = defaultdict(lambda: defaultdict(list))\n",
    "    #ketTuple nos permite saber si el usuario ya ha jugado ese nivel con anterioridad\n",
    "    iniTime = defaultdict()\n",
    "    tam = len(datos)\n",
    "    for elemento in datos.to_numpy():\n",
    "        #Comprobamos que el objeto sea un nivel\n",
    "        if get_tipo(elemento[4]['definition']['type']) == 'level':\n",
    "            verb = elemento[2]['id']\n",
    "            name = elemento[0]['name']\n",
    "            timestamp = elemento[5]\n",
    "            level = elemento[4]['id']\n",
    "\n",
    "            #Si es un nuevo nivel marcamos el tiempo de inicio\n",
    "            if (name,level) not in iniTime or verb == initialized:\n",
    "                iniTime[(name,level)] = timestamp\n",
    "            else:\n",
    "                userList[name][level].append(timestamp-iniTime[(name,level)]) \n",
    "                iniTime.pop((name,level))\n",
    "\n",
    "    return userList\n",
    "\n",
    "\n",
    "            \n",
    "time_list = get_completion_time_list(datos)\n",
    "#Mostramos los tiempos que tiene el usuario 'gqoj' cada vez que completó el primer tutorial\n",
    "for element in time_list['gqoj'][\"https://simva-api.simva.e-ucm.es/activities/628179b5a6ba41003d3bada2/tutorials_1\"]:\n",
    "    print(str(element))\n"
   ]
  },
  {
   "cell_type": "markdown",
   "id": "c3dea78a",
   "metadata": {},
   "source": []
  },
  {
   "cell_type": "markdown",
   "id": "42852c2a",
   "metadata": {},
   "source": [
    "## Calculamos el tiempo de cada nivel"
   ]
  },
  {
   "cell_type": "code",
   "execution_count": 34,
   "id": "10077216",
   "metadata": {},
   "outputs": [
    {
     "name": "stdout",
     "output_type": "stream",
     "text": [
      "0:0:7\n"
     ]
    }
   ],
   "source": [
    "def mostrar_tiempo(segundos):\n",
    "    horas = str(segundos // 3600)\n",
    "    minutos = str((segundos % 3600) // 60)\n",
    "    segundos = str(segundos % 60)\n",
    "    return str(horas+\":\"+minutos+\":\"+segundos)\n",
    "\n",
    "\n",
    "#Calculamos las diferencias de todos los tiempos y sacamos datos de tiempos incompletos\n",
    "userTimes = defaultdict(defaultdict)\n",
    "for user in userList:\n",
    "    for level in userList[user]:\n",
    "        time = userList[name][level][completed] - userList[name][level][initialized]\n",
    "        userTimes[name][level] = time.seconds\n",
    "        print(mostrar_tiempo(userTimes[name][level]))\n",
    "\n",
    "\n",
    "userTimes\n",
    "\n"
   ]
  },
  {
   "cell_type": "markdown",
   "id": "a66bb957",
   "metadata": {},
   "source": [
    "## Calculamos el tiempo medio de cada nivel"
   ]
  },
  {
   "cell_type": "code",
   "execution_count": null,
   "id": "6eefaf9d",
   "metadata": {},
   "outputs": [],
   "source": []
  },
  {
   "cell_type": "markdown",
   "id": "05bdba25-ed8c-43f5-8040-944e5125e13d",
   "metadata": {},
   "source": [
    "* Lo primero sería extraer su primer *timestamp*  "
   ]
  },
  {
   "cell_type": "code",
   "execution_count": 6,
   "id": "579c546b-3985-4f04-91e8-ba88b3a7d491",
   "metadata": {},
   "outputs": [],
   "source": [
    "inicio = \"\"\n",
    "for i in datos.to_numpy():\n",
    "    if(i[0][\"name\"] == \"gqoj\"):\n",
    "        inicio = i[5]\n",
    "        break"
   ]
  },
  {
   "cell_type": "code",
   "execution_count": 7,
   "id": "7acb6630-da94-4f14-aa9b-0502e3e3ef8f",
   "metadata": {},
   "outputs": [
    {
     "data": {
      "text/plain": [
       "Timestamp('2022-05-16 10:36:35.361000+0000', tz='UTC')"
      ]
     },
     "execution_count": 7,
     "metadata": {},
     "output_type": "execute_result"
    }
   ],
   "source": [
    "inicio"
   ]
  },
  {
   "cell_type": "markdown",
   "id": "8cf8f6d0-25c3-43a3-bfba-ab3a46036268",
   "metadata": {},
   "source": [
    "* Ahora que ya tenemos el inicio de la partida vamos a buscar el fin de la partida, para ello nos recorremos todo el JSON y nos quedamos con el último *timestamp* del jugador"
   ]
  },
  {
   "cell_type": "code",
   "execution_count": 8,
   "id": "e3e04316-d4f1-4027-8216-ead0b0aed3c2",
   "metadata": {},
   "outputs": [],
   "source": [
    "fin = \"\"\n",
    "for i in datos.to_numpy():\n",
    "    if(i[0][\"name\"] == \"gqoj\"):\n",
    "        fin = i[5]"
   ]
  },
  {
   "cell_type": "code",
   "execution_count": 9,
   "id": "5bdf8ba1-7e5a-403f-bdc3-4b9fad10810d",
   "metadata": {},
   "outputs": [
    {
     "data": {
      "text/plain": [
       "Timestamp('2022-05-23 16:01:55.895000+0000', tz='UTC')"
      ]
     },
     "execution_count": 9,
     "metadata": {},
     "output_type": "execute_result"
    }
   ],
   "source": [
    "fin"
   ]
  },
  {
   "cell_type": "markdown",
   "id": "da6baffe-7799-4858-8148-5168aeb68213",
   "metadata": {},
   "source": [
    "Parece que las trazas no son todas del mismo día, hay que buscar la forma de **filtrar por días**."
   ]
  },
  {
   "cell_type": "markdown",
   "id": "9c644633-c985-458e-a635-044e9de4f726",
   "metadata": {},
   "source": [
    "#### Ahora que ya sabemos extraer el *timestamp* de un jugador en concreto vamos a intentar recoger los de todos los jugadores"
   ]
  },
  {
   "cell_type": "markdown",
   "id": "88af31d0-1645-4f45-aa45-56feb581180b",
   "metadata": {},
   "source": [
    "* Guardaremos los datos en un diccionario cuya clave será el **id** del jugador y su valor una pareja con el *timestamp* de inicio y de fin"
   ]
  },
  {
   "cell_type": "code",
   "execution_count": 10,
   "id": "90694d76-5de3-4ff7-9cef-aed959d277cf",
   "metadata": {},
   "outputs": [],
   "source": [
    "tiempos = dict()\n",
    "for i in datos.to_numpy():\n",
    "    idUser = i[0][\"name\"]\n",
    "    timeStamp = i[5]\n",
    "    \n",
    "    if(idUser in tiempos):\n",
    "        timeStampIni = tiempos[idUser][0]\n",
    "        tiempos[idUser] = (timeStampIni, timeStamp)\n",
    "    else:\n",
    "        tiempos[idUser] = (timeStamp, \"\")"
   ]
  },
  {
   "cell_type": "code",
   "execution_count": 11,
   "id": "3eec5425-a6b1-48a7-bc38-87e2619e78ec",
   "metadata": {},
   "outputs": [
    {
     "data": {
      "text/html": [
       "<div>\n",
       "<style scoped>\n",
       "    .dataframe tbody tr th:only-of-type {\n",
       "        vertical-align: middle;\n",
       "    }\n",
       "\n",
       "    .dataframe tbody tr th {\n",
       "        vertical-align: top;\n",
       "    }\n",
       "\n",
       "    .dataframe thead th {\n",
       "        text-align: right;\n",
       "    }\n",
       "</style>\n",
       "<table border=\"1\" class=\"dataframe\">\n",
       "  <thead>\n",
       "    <tr style=\"text-align: right;\">\n",
       "      <th></th>\n",
       "      <th>gqoj</th>\n",
       "      <th>hgfx</th>\n",
       "      <th>gton</th>\n",
       "      <th>uala</th>\n",
       "      <th>qeqyj</th>\n",
       "      <th>fkmtp</th>\n",
       "      <th>hjpbw</th>\n",
       "      <th>bdwyj</th>\n",
       "      <th>eprdu</th>\n",
       "      <th>ftpnb</th>\n",
       "      <th>...</th>\n",
       "      <th>bajbm</th>\n",
       "      <th>eayrh</th>\n",
       "      <th>orjyn</th>\n",
       "      <th>prpej</th>\n",
       "      <th>fmupf</th>\n",
       "      <th>vkfnt</th>\n",
       "      <th>xbmmw</th>\n",
       "      <th>pleui</th>\n",
       "      <th>olugf</th>\n",
       "      <th>epjcx</th>\n",
       "    </tr>\n",
       "  </thead>\n",
       "  <tbody>\n",
       "    <tr>\n",
       "      <th>0</th>\n",
       "      <td>2022-05-16 10:36:35.361000+00:00</td>\n",
       "      <td>2022-05-16 10:48:06.634000+00:00</td>\n",
       "      <td>2022-05-16 22:12:06.760000+00:00</td>\n",
       "      <td>2022-05-17 07:39:39.267000+00:00</td>\n",
       "      <td>2022-05-18 07:10:24.601000+00:00</td>\n",
       "      <td>2022-05-18 07:10:44.894000+00:00</td>\n",
       "      <td>2022-05-18 07:10:59.919000+00:00</td>\n",
       "      <td>2022-05-18 07:11:02.294000+00:00</td>\n",
       "      <td>2022-05-18 07:11:01.092000+00:00</td>\n",
       "      <td>2022-05-18 07:11:18.662000+00:00</td>\n",
       "      <td>...</td>\n",
       "      <td>2022-05-24 09:33:01.510000+00:00</td>\n",
       "      <td>2022-05-24 09:33:02.422000+00:00</td>\n",
       "      <td>2022-05-24 09:33:07.855000+00:00</td>\n",
       "      <td>2022-05-24 09:33:41.060000+00:00</td>\n",
       "      <td>2022-05-24 09:34:20.130000+00:00</td>\n",
       "      <td>2022-05-24 09:34:23.401000+00:00</td>\n",
       "      <td>2022-05-24 09:34:22.295000+00:00</td>\n",
       "      <td>2022-05-24 09:34:32.727000+00:00</td>\n",
       "      <td>2022-05-24 09:36:36.250000+00:00</td>\n",
       "      <td>2022-05-24 12:20:00.205000+00:00</td>\n",
       "    </tr>\n",
       "    <tr>\n",
       "      <th>1</th>\n",
       "      <td>2022-05-23 16:01:55.895000+00:00</td>\n",
       "      <td>2022-05-16 10:54:01.016000+00:00</td>\n",
       "      <td>2022-05-16 22:12:21.778000+00:00</td>\n",
       "      <td>2022-05-17 07:42:45.832000+00:00</td>\n",
       "      <td>2022-05-18 10:10:50.954000+00:00</td>\n",
       "      <td>2022-05-18 10:10:45.117000+00:00</td>\n",
       "      <td>2022-05-18 10:10:58.339000+00:00</td>\n",
       "      <td>2022-05-18 10:13:10.064000+00:00</td>\n",
       "      <td>2022-05-18 10:10:53.289000+00:00</td>\n",
       "      <td>2022-05-18 10:10:55.723000+00:00</td>\n",
       "      <td>...</td>\n",
       "      <td>2022-05-24 12:13:54.834000+00:00</td>\n",
       "      <td>2022-05-24 12:12:45.295000+00:00</td>\n",
       "      <td>2022-05-24 12:14:02.923000+00:00</td>\n",
       "      <td>2022-05-24 12:09:03.889000+00:00</td>\n",
       "      <td>2022-05-24 12:11:58.891000+00:00</td>\n",
       "      <td>2022-05-24 12:13:18.012000+00:00</td>\n",
       "      <td>2022-05-24 12:12:04.445000+00:00</td>\n",
       "      <td>2022-05-24 12:12:17.773000+00:00</td>\n",
       "      <td>2022-05-24 12:09:25.385000+00:00</td>\n",
       "      <td>2022-05-24 12:58:14.766000+00:00</td>\n",
       "    </tr>\n",
       "  </tbody>\n",
       "</table>\n",
       "<p>2 rows × 146 columns</p>\n",
       "</div>"
      ],
      "text/plain": [
       "                              gqoj                             hgfx  \\\n",
       "0 2022-05-16 10:36:35.361000+00:00 2022-05-16 10:48:06.634000+00:00   \n",
       "1 2022-05-23 16:01:55.895000+00:00 2022-05-16 10:54:01.016000+00:00   \n",
       "\n",
       "                              gton                             uala  \\\n",
       "0 2022-05-16 22:12:06.760000+00:00 2022-05-17 07:39:39.267000+00:00   \n",
       "1 2022-05-16 22:12:21.778000+00:00 2022-05-17 07:42:45.832000+00:00   \n",
       "\n",
       "                             qeqyj                            fkmtp  \\\n",
       "0 2022-05-18 07:10:24.601000+00:00 2022-05-18 07:10:44.894000+00:00   \n",
       "1 2022-05-18 10:10:50.954000+00:00 2022-05-18 10:10:45.117000+00:00   \n",
       "\n",
       "                             hjpbw                            bdwyj  \\\n",
       "0 2022-05-18 07:10:59.919000+00:00 2022-05-18 07:11:02.294000+00:00   \n",
       "1 2022-05-18 10:10:58.339000+00:00 2022-05-18 10:13:10.064000+00:00   \n",
       "\n",
       "                             eprdu                            ftpnb  ...  \\\n",
       "0 2022-05-18 07:11:01.092000+00:00 2022-05-18 07:11:18.662000+00:00  ...   \n",
       "1 2022-05-18 10:10:53.289000+00:00 2022-05-18 10:10:55.723000+00:00  ...   \n",
       "\n",
       "                             bajbm                            eayrh  \\\n",
       "0 2022-05-24 09:33:01.510000+00:00 2022-05-24 09:33:02.422000+00:00   \n",
       "1 2022-05-24 12:13:54.834000+00:00 2022-05-24 12:12:45.295000+00:00   \n",
       "\n",
       "                             orjyn                            prpej  \\\n",
       "0 2022-05-24 09:33:07.855000+00:00 2022-05-24 09:33:41.060000+00:00   \n",
       "1 2022-05-24 12:14:02.923000+00:00 2022-05-24 12:09:03.889000+00:00   \n",
       "\n",
       "                             fmupf                            vkfnt  \\\n",
       "0 2022-05-24 09:34:20.130000+00:00 2022-05-24 09:34:23.401000+00:00   \n",
       "1 2022-05-24 12:11:58.891000+00:00 2022-05-24 12:13:18.012000+00:00   \n",
       "\n",
       "                             xbmmw                            pleui  \\\n",
       "0 2022-05-24 09:34:22.295000+00:00 2022-05-24 09:34:32.727000+00:00   \n",
       "1 2022-05-24 12:12:04.445000+00:00 2022-05-24 12:12:17.773000+00:00   \n",
       "\n",
       "                             olugf                            epjcx  \n",
       "0 2022-05-24 09:36:36.250000+00:00 2022-05-24 12:20:00.205000+00:00  \n",
       "1 2022-05-24 12:09:25.385000+00:00 2022-05-24 12:58:14.766000+00:00  \n",
       "\n",
       "[2 rows x 146 columns]"
      ]
     },
     "execution_count": 11,
     "metadata": {},
     "output_type": "execute_result"
    }
   ],
   "source": [
    "pd.DataFrame(tiempos)"
   ]
  },
  {
   "cell_type": "markdown",
   "id": "391c44f0-a5b5-4edb-9771-2c8488c79d8e",
   "metadata": {},
   "source": [
    "* Parece que ya tenemos los datos que queríamos de cada jugador, asumimos que son los correctos porque los tiempos del jugador *gqoj* coinciden con los que hemos sacado antes"
   ]
  },
  {
   "cell_type": "markdown",
   "id": "f592dbdc-bcfe-4446-8c7b-30ed410d13b6",
   "metadata": {},
   "source": [
    "* Ahora toca hacer la resta para ver el tiempo de juego de los jugadores "
   ]
  },
  {
   "cell_type": "code",
   "execution_count": null,
   "id": "f3aa02eb-5533-4071-a5f3-3c9b77e631f5",
   "metadata": {},
   "outputs": [],
   "source": []
  },
  {
   "cell_type": "code",
   "execution_count": null,
   "id": "a39344b4-134d-40f6-bac3-b4caf2529f5a",
   "metadata": {},
   "outputs": [],
   "source": []
  }
 ],
 "metadata": {
  "kernelspec": {
   "display_name": "Python 3.10.7 ('base')",
   "language": "python",
   "name": "python3"
  },
  "language_info": {
   "codemirror_mode": {
    "name": "ipython",
    "version": 3
   },
   "file_extension": ".py",
   "mimetype": "text/x-python",
   "name": "python",
   "nbconvert_exporter": "python",
   "pygments_lexer": "ipython3",
   "version": "3.10.7"
  },
  "vscode": {
   "interpreter": {
    "hash": "767d51c1340bd893661ea55ea3124f6de3c7a262a8b4abca0554b478b1e2ff90"
   }
  }
 },
 "nbformat": 4,
 "nbformat_minor": 5
}
