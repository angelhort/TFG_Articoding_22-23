{
 "cells": [
  {
   "cell_type": "markdown",
   "id": "6a6f0e43-3a08-4b42-8364-8aacf9155cef",
   "metadata": {
    "tags": []
   },
   "source": [
    "# **Primer análisis de datos extraidos**"
   ]
  },
  {
   "cell_type": "markdown",
   "id": "809b09a5-0f5a-484d-8da5-71d943fdacb8",
   "metadata": {},
   "source": [
    "#### Incluimos las librerías necesarias para analizar los datos"
   ]
  },
  {
   "cell_type": "code",
   "execution_count": 1,
   "id": "97e88c4f-1c17-4604-a63c-e0d24a96a5d2",
   "metadata": {},
   "outputs": [],
   "source": [
    "import pandas as pd\n",
    "import json\n",
    "from collections import defaultdict,OrderedDict\n",
    "import sorting\n",
    "import re\n",
    "from datetime import datetime, timedelta\n",
    "import time\n",
    "import xml.etree.ElementTree as ET  "
   ]
  },
  {
   "cell_type": "markdown",
   "id": "181c0a9a-da59-44dd-91dc-83705e8c8c10",
   "metadata": {
    "tags": []
   },
   "source": [
    "#### Leemos los datos del JSON y lo guardamos en la variable *datos*"
   ]
  },
  {
   "cell_type": "code",
   "execution_count": 2,
   "id": "61557261-d30b-4b2b-82b4-293b5f30885e",
   "metadata": {},
   "outputs": [],
   "source": [
    "def myFunc(e):\n",
    "    return e['timestamp']\n",
    "\n",
    "datos = json.load(open('trazasOrdenadas.json'))"
   ]
  },
  {
   "cell_type": "markdown",
   "id": "59aec30b",
   "metadata": {},
   "source": [
    "# Buscar si es nivel principal"
   ]
  },
  {
   "cell_type": "code",
   "execution_count": 3,
   "id": "d43db31f",
   "metadata": {},
   "outputs": [],
   "source": [
    "def nivel_principal(nivel):\n",
    "    erAnomalyLevels = re.compile(r'\\btutorials|editor_level|tip|procedures')\n",
    "    return not erAnomalyLevels.search(nivel)"
   ]
  },
  {
   "cell_type": "markdown",
   "metadata": {},
   "source": [
    "# Obtener tarjetas de fin de nivel"
   ]
  },
  {
   "cell_type": "markdown",
   "id": "b3c03fb6",
   "metadata": {},
   "source": []
  },
  {
   "cell_type": "code",
   "execution_count": 14,
   "id": "1bf0de52-c5ca-42ff-98f4-184a377ff357",
   "metadata": {},
   "outputs": [],
   "source": [
    "def dict_factory():\n",
    "    return defaultdict(dict_factory)\n",
    "\n",
    "def obtener_codigo(datos):\n",
    "    #Recorre el array y guarda los bloques de tarjetas de los niveles completados\n",
    "    #Las tarjetas se manipulan cuando:\n",
    "    \n",
    "    erLevel = re.compile(r'\\blevel$\\b')\n",
    "    erButton = re.compile(r'button\\b')\n",
    "    erCompleted = re.compile(r'\\bcompleted$\\b')\n",
    "    erProgressed = re.compile(r'\\bprogressed$\\b')\n",
    "    erInteracted = re.compile(r'\\binteracted$\\b')\n",
    "    erGameObject = re.compile(r'\\bgame-object$\\b')\n",
    "    erStartButton = re.compile(r'\\bstart_button$\\b')\n",
    "    erLevelExit = re.compile(r'\\blevel_exit_button$\\b')\n",
    "    erIdLevel = re.compile(r'/')\n",
    "    tarjetas = defaultdict(defaultdict)\n",
    "    intentos_fallidos = defaultdict(defaultdict)\n",
    "    progresados = defaultdict(defaultdict)\n",
    "    usuarioAnt = ''\n",
    "    encontradoInt = False\n",
    "    encontradoProg = False\n",
    "    for evento in datos:\n",
    "        obj = evento[\"object\"][\"definition\"][\"type\"]\n",
    "        objectId = evento[\"object\"][\"id\"]\n",
    "        verb = evento[\"verb\"][\"id\"]\n",
    "        name = evento[\"actor\"][\"name\"]\n",
    "        levelCode = erIdLevel.split(objectId)[-1]\n",
    "        #Buscamos aquellos niveles que sean principales\n",
    "        if nivel_principal(objectId):\n",
    "            if erCompleted.search(verb):\n",
    "                #Hemos encontrado un nivel completado de un codigo que teniamos guardado\n",
    "                if levelCode in progresados and name in progresados[levelCode]:\n",
    "                    if evento[\"result\"][\"success\"] == True:\n",
    "                        #Nivel completado con éxito\n",
    "                        if name not in tarjetas[levelCode]:\n",
    "                            tarjetas[levelCode][name] = [progresados[levelCode][name]]\n",
    "                        else:\n",
    "                            tarjetas[levelCode][name].append(progresados[levelCode][name])\n",
    "                    else: \n",
    "                        #Intento fallido\n",
    "                        if name not in intentos_fallidos[levelCode]:\n",
    "                            intentos_fallidos[levelCode][name] = [progresados[levelCode][name]]\n",
    "                        else:\n",
    "                            intentos_fallidos[levelCode][name].append(progresados[levelCode][name])\n",
    "                    encontradoProg = False\n",
    "                    usuarioAnt = ''               \n",
    "                    \n",
    "\n",
    "            elif \"result\" in evento:\n",
    "                if \"extensions\" in evento[\"result\"]:\n",
    "                    if \"code\" in evento[\"result\"][\"extensions\"]:\n",
    "                        #Si hay codigo buscamos que el codigo sea final\n",
    "                        if erCompleted.search(verb):\n",
    "                            #Guarda el codigo de los intentos fallidos\n",
    "                            if name not in intentos_fallidos[levelCode]:\n",
    "                                intentos_fallidos[levelCode][name] = [evento[\"result\"][\"extensions\"][\"code\"]]\n",
    "                            else:\n",
    "                                intentos_fallidos[levelCode][name].append(evento[\"result\"][\"extensions\"][\"code\"])\n",
    "                                \n",
    "\n",
    "                        elif erProgressed.search(verb):\n",
    "                            #Comprobamos que todos los elementos que entran aquí son de codigo de niveles completados y no fallidos\n",
    "                            progresados[levelCode][name] = evento[\"result\"][\"extensions\"][\"code\"]\n",
    "\n",
    "\n",
    "    return tarjetas\n",
    "\n",
    "\n",
    "listaCodigo = obtener_codigo(datos)\n",
    "\n"
   ]
  },
  {
   "cell_type": "markdown",
   "id": "c3dea78a",
   "metadata": {},
   "source": []
  },
  {
   "cell_type": "markdown",
   "id": "42852c2a",
   "metadata": {},
   "source": [
    "## Obtenemos las tarjetas usadas durante un nivel"
   ]
  },
  {
   "cell_type": "code",
   "execution_count": null,
   "id": "10077216",
   "metadata": {},
   "outputs": [
    {
     "ename": "ValueError",
     "evalue": "All arrays must be of the same length",
     "output_type": "error",
     "traceback": [
      "\u001b[0;31m---------------------------------------------------------------------------\u001b[0m",
      "\u001b[0;31mValueError\u001b[0m                                Traceback (most recent call last)",
      "\u001b[0;32m/tmp/ipykernel_38675/639671654.py\u001b[0m in \u001b[0;36m<module>\u001b[0;34m\u001b[0m\n\u001b[1;32m     37\u001b[0m \u001b[0;34m\u001b[0m\u001b[0m\n\u001b[1;32m     38\u001b[0m \u001b[0mniv_completados\u001b[0m \u001b[0;34m=\u001b[0m \u001b[0mobtener_tarjetas\u001b[0m\u001b[0;34m(\u001b[0m\u001b[0mdatos\u001b[0m\u001b[0;34m)\u001b[0m\u001b[0;34m\u001b[0m\u001b[0;34m\u001b[0m\u001b[0m\n\u001b[0;32m---> 39\u001b[0;31m \u001b[0mpd\u001b[0m\u001b[0;34m.\u001b[0m\u001b[0mDataFrame\u001b[0m\u001b[0;34m(\u001b[0m\u001b[0mniv_completados\u001b[0m\u001b[0;34m)\u001b[0m\u001b[0;34m\u001b[0m\u001b[0;34m\u001b[0m\u001b[0m\n\u001b[0m",
      "\u001b[0;32m/usr/lib64/python3.10/site-packages/pandas/core/frame.py\u001b[0m in \u001b[0;36m__init__\u001b[0;34m(self, data, index, columns, dtype, copy)\u001b[0m\n\u001b[1;32m    612\u001b[0m         \u001b[0;32melif\u001b[0m \u001b[0misinstance\u001b[0m\u001b[0;34m(\u001b[0m\u001b[0mdata\u001b[0m\u001b[0;34m,\u001b[0m \u001b[0mdict\u001b[0m\u001b[0;34m)\u001b[0m\u001b[0;34m:\u001b[0m\u001b[0;34m\u001b[0m\u001b[0;34m\u001b[0m\u001b[0m\n\u001b[1;32m    613\u001b[0m             \u001b[0;31m# GH#38939 de facto copy defaults to False only in non-dict cases\u001b[0m\u001b[0;34m\u001b[0m\u001b[0;34m\u001b[0m\u001b[0m\n\u001b[0;32m--> 614\u001b[0;31m             \u001b[0mmgr\u001b[0m \u001b[0;34m=\u001b[0m \u001b[0mdict_to_mgr\u001b[0m\u001b[0;34m(\u001b[0m\u001b[0mdata\u001b[0m\u001b[0;34m,\u001b[0m \u001b[0mindex\u001b[0m\u001b[0;34m,\u001b[0m \u001b[0mcolumns\u001b[0m\u001b[0;34m,\u001b[0m \u001b[0mdtype\u001b[0m\u001b[0;34m=\u001b[0m\u001b[0mdtype\u001b[0m\u001b[0;34m,\u001b[0m \u001b[0mcopy\u001b[0m\u001b[0;34m=\u001b[0m\u001b[0mcopy\u001b[0m\u001b[0;34m,\u001b[0m \u001b[0mtyp\u001b[0m\u001b[0;34m=\u001b[0m\u001b[0mmanager\u001b[0m\u001b[0;34m)\u001b[0m\u001b[0;34m\u001b[0m\u001b[0;34m\u001b[0m\u001b[0m\n\u001b[0m\u001b[1;32m    615\u001b[0m         \u001b[0;32melif\u001b[0m \u001b[0misinstance\u001b[0m\u001b[0;34m(\u001b[0m\u001b[0mdata\u001b[0m\u001b[0;34m,\u001b[0m \u001b[0mma\u001b[0m\u001b[0;34m.\u001b[0m\u001b[0mMaskedArray\u001b[0m\u001b[0;34m)\u001b[0m\u001b[0;34m:\u001b[0m\u001b[0;34m\u001b[0m\u001b[0;34m\u001b[0m\u001b[0m\n\u001b[1;32m    616\u001b[0m             \u001b[0;32mimport\u001b[0m \u001b[0mnumpy\u001b[0m\u001b[0;34m.\u001b[0m\u001b[0mma\u001b[0m\u001b[0;34m.\u001b[0m\u001b[0mmrecords\u001b[0m \u001b[0;32mas\u001b[0m \u001b[0mmrecords\u001b[0m\u001b[0;34m\u001b[0m\u001b[0;34m\u001b[0m\u001b[0m\n",
      "\u001b[0;32m/usr/lib64/python3.10/site-packages/pandas/core/internals/construction.py\u001b[0m in \u001b[0;36mdict_to_mgr\u001b[0;34m(data, index, columns, dtype, typ, copy)\u001b[0m\n\u001b[1;32m    462\u001b[0m         \u001b[0;31m# TODO: can we get rid of the dt64tz special case above?\u001b[0m\u001b[0;34m\u001b[0m\u001b[0;34m\u001b[0m\u001b[0m\n\u001b[1;32m    463\u001b[0m \u001b[0;34m\u001b[0m\u001b[0m\n\u001b[0;32m--> 464\u001b[0;31m     return arrays_to_mgr(\n\u001b[0m\u001b[1;32m    465\u001b[0m         \u001b[0marrays\u001b[0m\u001b[0;34m,\u001b[0m \u001b[0mdata_names\u001b[0m\u001b[0;34m,\u001b[0m \u001b[0mindex\u001b[0m\u001b[0;34m,\u001b[0m \u001b[0mcolumns\u001b[0m\u001b[0;34m,\u001b[0m \u001b[0mdtype\u001b[0m\u001b[0;34m=\u001b[0m\u001b[0mdtype\u001b[0m\u001b[0;34m,\u001b[0m \u001b[0mtyp\u001b[0m\u001b[0;34m=\u001b[0m\u001b[0mtyp\u001b[0m\u001b[0;34m,\u001b[0m \u001b[0mconsolidate\u001b[0m\u001b[0;34m=\u001b[0m\u001b[0mcopy\u001b[0m\u001b[0;34m\u001b[0m\u001b[0;34m\u001b[0m\u001b[0m\n\u001b[1;32m    466\u001b[0m     )\n",
      "\u001b[0;32m/usr/lib64/python3.10/site-packages/pandas/core/internals/construction.py\u001b[0m in \u001b[0;36marrays_to_mgr\u001b[0;34m(arrays, arr_names, index, columns, dtype, verify_integrity, typ, consolidate)\u001b[0m\n\u001b[1;32m    117\u001b[0m         \u001b[0;31m# figure out the index, if necessary\u001b[0m\u001b[0;34m\u001b[0m\u001b[0;34m\u001b[0m\u001b[0m\n\u001b[1;32m    118\u001b[0m         \u001b[0;32mif\u001b[0m \u001b[0mindex\u001b[0m \u001b[0;32mis\u001b[0m \u001b[0;32mNone\u001b[0m\u001b[0;34m:\u001b[0m\u001b[0;34m\u001b[0m\u001b[0;34m\u001b[0m\u001b[0m\n\u001b[0;32m--> 119\u001b[0;31m             \u001b[0mindex\u001b[0m \u001b[0;34m=\u001b[0m \u001b[0m_extract_index\u001b[0m\u001b[0;34m(\u001b[0m\u001b[0marrays\u001b[0m\u001b[0;34m)\u001b[0m\u001b[0;34m\u001b[0m\u001b[0;34m\u001b[0m\u001b[0m\n\u001b[0m\u001b[1;32m    120\u001b[0m         \u001b[0;32melse\u001b[0m\u001b[0;34m:\u001b[0m\u001b[0;34m\u001b[0m\u001b[0;34m\u001b[0m\u001b[0m\n\u001b[1;32m    121\u001b[0m             \u001b[0mindex\u001b[0m \u001b[0;34m=\u001b[0m \u001b[0mensure_index\u001b[0m\u001b[0;34m(\u001b[0m\u001b[0mindex\u001b[0m\u001b[0;34m)\u001b[0m\u001b[0;34m\u001b[0m\u001b[0;34m\u001b[0m\u001b[0m\n",
      "\u001b[0;32m/usr/lib64/python3.10/site-packages/pandas/core/internals/construction.py\u001b[0m in \u001b[0;36m_extract_index\u001b[0;34m(data)\u001b[0m\n\u001b[1;32m    633\u001b[0m             \u001b[0mlengths\u001b[0m \u001b[0;34m=\u001b[0m \u001b[0mlist\u001b[0m\u001b[0;34m(\u001b[0m\u001b[0mset\u001b[0m\u001b[0;34m(\u001b[0m\u001b[0mraw_lengths\u001b[0m\u001b[0;34m)\u001b[0m\u001b[0;34m)\u001b[0m\u001b[0;34m\u001b[0m\u001b[0;34m\u001b[0m\u001b[0m\n\u001b[1;32m    634\u001b[0m             \u001b[0;32mif\u001b[0m \u001b[0mlen\u001b[0m\u001b[0;34m(\u001b[0m\u001b[0mlengths\u001b[0m\u001b[0;34m)\u001b[0m \u001b[0;34m>\u001b[0m \u001b[0;36m1\u001b[0m\u001b[0;34m:\u001b[0m\u001b[0;34m\u001b[0m\u001b[0;34m\u001b[0m\u001b[0m\n\u001b[0;32m--> 635\u001b[0;31m                 \u001b[0;32mraise\u001b[0m \u001b[0mValueError\u001b[0m\u001b[0;34m(\u001b[0m\u001b[0;34m\"All arrays must be of the same length\"\u001b[0m\u001b[0;34m)\u001b[0m\u001b[0;34m\u001b[0m\u001b[0;34m\u001b[0m\u001b[0m\n\u001b[0m\u001b[1;32m    636\u001b[0m \u001b[0;34m\u001b[0m\u001b[0m\n\u001b[1;32m    637\u001b[0m             \u001b[0;32mif\u001b[0m \u001b[0mhave_dicts\u001b[0m\u001b[0;34m:\u001b[0m\u001b[0;34m\u001b[0m\u001b[0;34m\u001b[0m\u001b[0m\n",
      "\u001b[0;31mValueError\u001b[0m: All arrays must be of the same length"
     ]
    }
   ],
   "source": [
    "\n",
    "\n",
    "\n",
    "\n",
    "def str_code_to_xml(code):\n",
    "    parsed = ET.fromstring(code)\n",
    "    return parsed\n",
    "\n",
    "def obtener_tarjetas(datos):\n",
    "    #Recorre el array y guarda los bloques de tarjetas de los niveles completados\n",
    "    #Las tarjetas se manipulan cuando:\n",
    "    \n",
    "    erLevel = re.compile(r'\\blevel$\\b')\n",
    "    erCompleted = re.compile(r'\\bcompleted$\\b')\n",
    "    erInteracted = re.compile(r'\\binteracted$\\b')\n",
    "    erGameObject = re.compile(r'\\bgame-object$\\b')\n",
    "    erStartButton = re.compile(r'\\bstart_button$\\b')\n",
    "    erLevelExit = re.compile(r'\\blevel_exit_button$\\b')\n",
    "    erIdLevel = re.compile(r'/')\n",
    "    niveles_completados = defaultdict()\n",
    "    antId = ''\n",
    "    antLevel = ''\n",
    "    infoBloque = \"\"\n",
    "    encontrado = False\n",
    "    for evento in datos:\n",
    "        obj = evento[\"object\"][\"definition\"][\"type\"]\n",
    "        objectId = evento[\"object\"][\"id\"]\n",
    "        verb = evento[\"verb\"][\"id\"]\n",
    "        name = evento[\"actor\"][\"name\"]\n",
    "        if erLevel.search(obj):\n",
    "            levelCode = erIdLevel.split(objectId)[-1]\n",
    "            if erCompleted.search(verb):\n",
    "                if evento[\"result\"][\"success\"] and nivel_principal(objectId):\n",
    "                    niveles_completados[levelCode].append({\"name\":name,\"timestamp\": evento[\"timestamp\"]})\n",
    "                    encontrado = False\n",
    "        \n",
    "        \n",
    "\n",
    "    return niveles_completados\n",
    "\n",
    "\n",
    "niv_completados = obtener_tarjetas(datos)\n",
    "pd.DataFrame(niv_completados)"
   ]
  }
 ],
 "metadata": {
  "kernelspec": {
   "display_name": "Python 3.10.8",
   "language": "python",
   "name": "python3"
  },
  "language_info": {
   "codemirror_mode": {
    "name": "ipython",
    "version": 3
   },
   "file_extension": ".py",
   "mimetype": "text/x-python",
   "name": "python",
   "nbconvert_exporter": "python",
   "pygments_lexer": "ipython3",
   "version": "3.10.8"
  },
  "vscode": {
   "interpreter": {
    "hash": "e7370f93d1d0cde622a1f8e1c04877d8463912d04d973331ad4851f04de6915a"
   }
  }
 },
 "nbformat": 4,
 "nbformat_minor": 5
}
