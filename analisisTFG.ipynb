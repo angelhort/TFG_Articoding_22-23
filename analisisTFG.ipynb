{
 "cells": [
  {
   "cell_type": "markdown",
   "id": "6a6f0e43-3a08-4b42-8364-8aacf9155cef",
   "metadata": {
    "tags": []
   },
   "source": [
    "# **Primer análisis de datos extraidos**"
   ]
  },
  {
   "cell_type": "markdown",
   "id": "809b09a5-0f5a-484d-8da5-71d943fdacb8",
   "metadata": {},
   "source": [
    "#### Incluimos las librerías necesarias para analizar los datos"
   ]
  },
  {
   "cell_type": "code",
   "execution_count": null,
   "id": "97e88c4f-1c17-4604-a63c-e0d24a96a5d2",
   "metadata": {},
   "outputs": [],
   "source": [
    "import pandas as pd"
   ]
  },
  {
   "cell_type": "markdown",
   "id": "181c0a9a-da59-44dd-91dc-83705e8c8c10",
   "metadata": {
    "tags": []
   },
   "source": [
    "#### Leemos los datos del JSON y lo guardamos en la variable *datos*"
   ]
  },
  {
   "cell_type": "code",
   "execution_count": null,
   "id": "61557261-d30b-4b2b-82b4-293b5f30885e",
   "metadata": {},
   "outputs": [],
   "source": [
    "datos = pd.read_json('traces_Articoding_Escolapias.json')"
   ]
  },
  {
   "cell_type": "markdown",
   "id": "078d35b6-7b69-4837-a911-c5275055c91c",
   "metadata": {},
   "source": [
    "#### Usamos el metodo **head** para ver como estan estructurados los elementos del JSON"
   ]
  },
  {
   "cell_type": "code",
   "execution_count": null,
   "id": "1bf0de52-c5ca-42ff-98f4-184a377ff357",
   "metadata": {},
   "outputs": [],
   "source": [
    "datos.head(10)"
   ]
  },
  {
   "cell_type": "markdown",
   "id": "77d64f24-d0e5-4e29-851a-3f50caf01cc1",
   "metadata": {},
   "source": [
    "#### Para empezar de forma mas sencilla analizamos el tiempo de juego de un jugador concreto, por ejemplo, de *gqoj*"
   ]
  },
  {
   "cell_type": "markdown",
   "id": "05bdba25-ed8c-43f5-8040-944e5125e13d",
   "metadata": {},
   "source": [
    "* Lo primero sería extraer su primer *timestamp*  "
   ]
  },
  {
   "cell_type": "code",
   "execution_count": null,
   "id": "579c546b-3985-4f04-91e8-ba88b3a7d491",
   "metadata": {},
   "outputs": [],
   "source": [
    "inicio = \"\"\n",
    "for i in datos.to_numpy():\n",
    "    if(i[0][\"name\"] == \"gqoj\"):\n",
    "        inicio = i[5]\n",
    "        break"
   ]
  },
  {
   "cell_type": "code",
   "execution_count": null,
   "id": "7acb6630-da94-4f14-aa9b-0502e3e3ef8f",
   "metadata": {},
   "outputs": [],
   "source": [
    "inicio"
   ]
  },
  {
   "cell_type": "markdown",
   "id": "8cf8f6d0-25c3-43a3-bfba-ab3a46036268",
   "metadata": {},
   "source": [
    "* Ahora que ya tenemos el inicio de la partida vamos a buscar el fin de la partida, para ello nos recorremos todo el JSON y nos quedamos con el último *timestamp* del jugador"
   ]
  },
  {
   "cell_type": "code",
   "execution_count": null,
   "id": "e3e04316-d4f1-4027-8216-ead0b0aed3c2",
   "metadata": {},
   "outputs": [],
   "source": [
    "fin = \"\"\n",
    "for i in datos.to_numpy():\n",
    "    if(i[0][\"name\"] == \"gqoj\"):\n",
    "        fin = i[5]"
   ]
  },
  {
   "cell_type": "code",
   "execution_count": null,
   "id": "5bdf8ba1-7e5a-403f-bdc3-4b9fad10810d",
   "metadata": {},
   "outputs": [],
   "source": [
    "fin"
   ]
  },
  {
   "cell_type": "markdown",
   "id": "da6baffe-7799-4858-8148-5168aeb68213",
   "metadata": {},
   "source": [
    "Parece que las trazas no son todas del mismo día, hay que buscar la forma de **filtrar por días**."
   ]
  },
  {
   "cell_type": "markdown",
   "id": "9c644633-c985-458e-a635-044e9de4f726",
   "metadata": {},
   "source": [
    "#### Ahora que ya sabemos extraer el *timestamp* de un jugador en concreto vamos a intentar recoger los de todos los jugadores"
   ]
  },
  {
   "cell_type": "markdown",
   "id": "88af31d0-1645-4f45-aa45-56feb581180b",
   "metadata": {},
   "source": [
    "* Guardaremos los datos en un diccionario cuya clave será el **id** del jugador y su valor una pareja con el *timestamp* de inicio y de fin"
   ]
  },
  {
   "cell_type": "code",
   "execution_count": null,
   "id": "90694d76-5de3-4ff7-9cef-aed959d277cf",
   "metadata": {},
   "outputs": [],
   "source": [
    "tiempos = dict()\n",
    "for i in datos.to_numpy():\n",
    "    idUser = i[0][\"name\"]\n",
    "    timeStamp = i[5]\n",
    "    \n",
    "    if(idUser in tiempos):\n",
    "        timeStampIni = tiempos[idUser][0]\n",
    "        tiempos[idUser] = (timeStampIni, timeStamp)\n",
    "    else:\n",
    "        tiempos[idUser] = (timeStamp, \"\")"
   ]
  },
  {
   "cell_type": "code",
   "execution_count": null,
   "id": "3eec5425-a6b1-48a7-bc38-87e2619e78ec",
   "metadata": {},
   "outputs": [],
   "source": [
    "pd.DataFrame(tiempos)"
   ]
  },
  {
   "cell_type": "markdown",
   "id": "391c44f0-a5b5-4edb-9771-2c8488c79d8e",
   "metadata": {},
   "source": [
    "* Parece que ya tenemos los datos que queríamos de cada jugador, asumimos que son los correctos porque los tiempos del jugador *gqoj* coinciden con los que hemos sacado antes"
   ]
  },
  {
   "cell_type": "markdown",
   "id": "f592dbdc-bcfe-4446-8c7b-30ed410d13b6",
   "metadata": {},
   "source": [
    "* Ahora toca hacer la resta para ver el tiempo de juego de los jugadores "
   ]
  },
  {
   "cell_type": "code",
   "execution_count": null,
   "id": "f3aa02eb-5533-4071-a5f3-3c9b77e631f5",
   "metadata": {},
   "outputs": [],
   "source": []
  },
  {
   "cell_type": "code",
   "execution_count": null,
   "id": "a39344b4-134d-40f6-bac3-b4caf2529f5a",
   "metadata": {},
   "outputs": [],
   "source": []
  }
 ],
 "metadata": {
  "kernelspec": {
   "display_name": "Python 3 (ipykernel)",
   "language": "python",
   "name": "python3"
  },
  "language_info": {
   "codemirror_mode": {
    "name": "ipython",
    "version": 3
   },
   "file_extension": ".py",
   "mimetype": "text/x-python",
   "name": "python",
   "nbconvert_exporter": "python",
   "pygments_lexer": "ipython3",
   "version": "3.9.12"
  }
 },
 "nbformat": 4,
 "nbformat_minor": 5
}
