{
 "cells": [
  {
   "cell_type": "markdown",
   "id": "6a6f0e43-3a08-4b42-8364-8aacf9155cef",
   "metadata": {
    "tags": []
   },
   "source": [
    "# **Primer análisis de datos extraidos**\n"
   ]
  },
  {
   "cell_type": "markdown",
   "id": "809b09a5-0f5a-484d-8da5-71d943fdacb8",
   "metadata": {},
   "source": [
    "#### Incluimos las librerías necesarias para analizar los datos\n"
   ]
  },
  {
   "cell_type": "code",
   "execution_count": 2,
   "id": "97e88c4f-1c17-4604-a63c-e0d24a96a5d2",
   "metadata": {},
   "outputs": [],
   "source": [
    "import pandas as pd\n",
    "import json\n",
    "from collections import defaultdict, OrderedDict\n",
    "import sorting\n",
    "import re\n",
    "from datetime import datetime, timedelta\n",
    "import time\n",
    "import xml.etree.ElementTree as ET\n",
    "import keyword\n"
   ]
  },
  {
   "cell_type": "markdown",
   "id": "181c0a9a-da59-44dd-91dc-83705e8c8c10",
   "metadata": {
    "tags": []
   },
   "source": [
    "#### Leemos los datos del JSON y lo guardamos en la variable _datos_\n"
   ]
  },
  {
   "cell_type": "code",
   "execution_count": 3,
   "id": "61557261-d30b-4b2b-82b4-293b5f30885e",
   "metadata": {},
   "outputs": [],
   "source": [
    "def myFunc(e):\n",
    "    return e['timestamp']\n",
    "\n",
    "\n",
    "datos = json.load(open('trazasOrdenadas.json'))\n"
   ]
  },
  {
   "cell_type": "markdown",
   "id": "59aec30b",
   "metadata": {},
   "source": [
    "# Buscar si es nivel principal\n"
   ]
  },
  {
   "cell_type": "code",
   "execution_count": 4,
   "id": "d43db31f",
   "metadata": {},
   "outputs": [],
   "source": [
    "def nivel_principal(nivel):\n",
    "    erAnomalyLevels = re.compile(r'\\btutorials|editor_level|tip|procedures')\n",
    "    return not erAnomalyLevels.search(nivel)\n"
   ]
  },
  {
   "cell_type": "markdown",
   "metadata": {},
   "source": [
    "# Obtener tarjetas de fin de nivel\n"
   ]
  },
  {
   "cell_type": "markdown",
   "id": "b3c03fb6",
   "metadata": {},
   "source": []
  },
  {
   "cell_type": "code",
   "execution_count": 5,
   "id": "1bf0de52-c5ca-42ff-98f4-184a377ff357",
   "metadata": {},
   "outputs": [],
   "source": [
    "def obtener_codigo(datos):\n",
    "    # Recorre el array y guarda los bloques de tarjetas de los niveles completados\n",
    "    # Las tarjetas se manipulan cuando:\n",
    "\n",
    "    erLevel = re.compile(r'\\blevel$\\b')\n",
    "    erButton = re.compile(r'button\\b')\n",
    "    erCompleted = re.compile(r'\\bcompleted$\\b')\n",
    "    erProgressed = re.compile(r'\\bprogressed$\\b')\n",
    "    erIdLevel = re.compile(r'/')\n",
    "    tarjetas = defaultdict(defaultdict)\n",
    "    intentos_fallidos = defaultdict(defaultdict)\n",
    "    progresados = defaultdict(defaultdict)\n",
    "\n",
    "    for evento in datos:\n",
    "        obj = evento[\"object\"][\"definition\"][\"type\"]\n",
    "        objectId = evento[\"object\"][\"id\"]\n",
    "        verb = evento[\"verb\"][\"id\"]\n",
    "        name = evento[\"actor\"][\"name\"]\n",
    "        levelCode = erIdLevel.split(objectId)[-1]\n",
    "        # Buscamos aquellos niveles que sean principales\n",
    "        if nivel_principal(objectId):\n",
    "            if erCompleted.search(verb):\n",
    "                # Hemos encontrado un nivel completado de un codigo que teniamos guardado\n",
    "                if levelCode in progresados and name in progresados[levelCode]:\n",
    "                    if evento[\"result\"][\"success\"] == True:\n",
    "                        # Nivel completado con éxito\n",
    "                        if name not in tarjetas[levelCode]:\n",
    "                            tarjetas[levelCode][name] = [\n",
    "                                progresados[levelCode][name]]\n",
    "                        else:\n",
    "                            tarjetas[levelCode][name].append(\n",
    "                                progresados[levelCode][name])\n",
    "                    else:\n",
    "                        # Intento fallido\n",
    "                        if name not in intentos_fallidos[levelCode]:\n",
    "                            intentos_fallidos[levelCode][name] = [\n",
    "                                progresados[levelCode][name]]\n",
    "                        else:\n",
    "                            intentos_fallidos[levelCode][name].append(\n",
    "                                progresados[levelCode][name])\n",
    "\n",
    "            elif \"result\" in evento:\n",
    "                if \"extensions\" in evento[\"result\"]:\n",
    "                    if \"code\" in evento[\"result\"][\"extensions\"]:\n",
    "                        # Si hay codigo buscamos que el codigo sea final\n",
    "                        if erCompleted.search(verb):\n",
    "                            # Guarda el codigo de los intentos fallidos\n",
    "                            if name not in intentos_fallidos[levelCode]:\n",
    "                                intentos_fallidos[levelCode][name] = [\n",
    "                                    evento[\"result\"][\"extensions\"][\"code\"]]\n",
    "                            else:\n",
    "                                intentos_fallidos[levelCode][name].append(\n",
    "                                    evento[\"result\"][\"extensions\"][\"code\"])\n",
    "\n",
    "                        elif erProgressed.search(verb):\n",
    "                            # Comprobamos que todos los elementos que entran aquí son de codigo de niveles completados y no fallidos\n",
    "                            progresados[levelCode][name] = evento[\"result\"][\"extensions\"][\"code\"]\n",
    "\n",
    "    return tarjetas, intentos_fallidos\n",
    "\n",
    "\n",
    "codigo_final, codigo_fallido = obtener_codigo(datos)\n"
   ]
  },
  {
   "cell_type": "markdown",
   "id": "c3dea78a",
   "metadata": {},
   "source": []
  },
  {
   "cell_type": "markdown",
   "id": "42852c2a",
   "metadata": {},
   "source": [
    "## Obtenemos los tipos de tarjetas del codigo final\n"
   ]
  },
  {
   "cell_type": "code",
   "execution_count": 43,
   "id": "10077216",
   "metadata": {},
   "outputs": [
    {
     "name": "stdout",
     "output_type": "stream",
     "text": [
      "--- Variables creadas ---\n",
      "Variable 1\n",
      "Nombre: Objeto\n",
      "Variable 2\n",
      "Nombre: Desplazamiento\n"
     ]
    }
   ],
   "source": [
    "# Transforma el código en un árbol\n",
    "    # La primera etiqueta es <xml>, contiene dos hijos <variables> y <block> respectivamente\n",
    "\t# <variables> contiene el nombr ey el id de las variables que se usarán en el código\n",
    "\t# <block> contiene una tarjeta, en este caso es start_start, que designa el punto de inicio\n",
    "\t# Y de manera recursiva cada hijo será la siguiente tarjeta que se ejecuta en el juego\n",
    "\n",
    "def busquedaVariables(child):\n",
    "\tlVar = {}\n",
    "\ti = 1\n",
    "\tprint (\"--- Variables creadas ---\")\n",
    "\tfor variable in child:\n",
    "\t\tprint(\"Variable \"+ str(i))\n",
    "\t\tprint(\"Nombre: \"+ variable.text)\n",
    "\t\t#lvar[var1][0] es numModif de var1\n",
    "\t\t#lvar[var1][1] es numUsos de var1\n",
    "\t\tlVar[variable.text] = [0,0]\n",
    "\t\ti = i+1\n",
    "\treturn lVar\n",
    "\t\n",
    "def recorrerCodigo(start,varDict):\n",
    "\tsettingVar = False\n",
    "\tgettingVar = False\n",
    "\tcolaBucles = []\n",
    "\tlooping = False\n",
    "\tvarMult = 1\n",
    "\ttipoBloque = \"\"\n",
    "\tvarName = ''\n",
    "\n",
    "\t#Vemos cuantas veces inicializa y usa cada variable\n",
    "\tfor elem in start.iter():\n",
    "\t\t#Cambiamos el valor de una variable\n",
    "\t\tif elem.tag == \"next\":\n",
    "\t\t\tif looping:\n",
    "\t\t\t\tlooping = False\n",
    "\t\t\t\tvarMult = varMult / colaBucles[-1]\n",
    "\t\t\t\tcolaBucles.pop()\n",
    "\t\telif elem.tag == 'block':\n",
    "\t\t\t#Modificamos el valor de una variable\n",
    "\t\t\tif elem.attrib['type'] == \"variables_set\":\n",
    "\t\t\t\tsettingVar = True\n",
    "\t\t\telif elem.attrib['type'] == \"variables_get\":\n",
    "\t\t\t\tgettingVar = True\n",
    "\t\t\telif elem.attrib['type'] == \"controls_repeat\":\n",
    "\t\t\t\tlooping = True\n",
    "\t\telif settingVar:\n",
    "\t\t\tif elem.attrib['name'] == \"VAR\":\n",
    "\t\t\t\tvarName = elem.text\n",
    "\t\t\t\tvarDict[varName][0] += varMult\n",
    "\t\t\t\tsettingVar = False\n",
    "\t\telif gettingVar:\n",
    "\t\t\tif elem.attrib['name'] == \"VAR\":\n",
    "\t\t\t\tvarName = elem.text\n",
    "\t\t\t\tvarDict[varName][1] += varMult \n",
    "\t\t\t\tgettingVar = False\n",
    "\t\telif looping:\n",
    "\t\t\tif elem.attrib['name'] == \"TIMES\":\n",
    "\t\t\t\tcolaBucles.append(int(elem.text))\n",
    "\t\t\t\tvarMult *= colaBucles[-1]\n",
    "\n",
    "\t\t\n",
    "\t\n",
    "\treturn varDict\n",
    "\n",
    "def nombreVarValido(nombresVar):\n",
    "    pattern = re.compile(r'^_*[a-zA-Z][a-zA-Z0-9_]*$')\n",
    "    declaracionVariables = []\n",
    "    for nombre in nombresVar:\n",
    "        if keyword.iskeyword(nombre):\n",
    "            declaracionVariables.append(False)\n",
    "        else:\n",
    "            print(bool(pattern.match(nombre)))\n",
    "            declaracionVariables.append(bool(pattern.match(nombre)))\n",
    "\n",
    "    return declaracionVariables\n",
    "\t\n",
    "def info_codigo(codigo):\n",
    "\traiz = ET.fromstring(codigo)\n",
    "\tdatos = defaultdict\n",
    "\t#Recorremos las variables principales\n",
    "\tantBloque = False\n",
    "\tfor child in raiz:\n",
    "\t\tif child.tag == 'variables':\n",
    "\t\t\tlistaVariables = busquedaVariables(child)\n",
    "\t\t\t#listaBooleanos = nombreVarValido(listaVariables)\n",
    "\t\telif child.tag == 'block' and child.attrib['type'] == 'start_start':\n",
    "\t\t\t#Empezamos el código\n",
    "\t\t\tif antBloque:\n",
    "\t\t\t\tprint(\"Codigo muerto\")\n",
    "\t\t\telse:\n",
    "\t\t\t\t#Calcular uso de variables\n",
    "\t\t\t\trecorrerCodigo(child,listaVariables)\n",
    "\t\t\t\tantBloque = True\n",
    "\t\telse:\n",
    "\t\t\tantBloque = False\n",
    "\t\t\t\n",
    "\treturn datos\n",
    "    \n",
    "\n",
    "def info_nivel(nivel):\n",
    "    # Recorre el array y guarda información básica de cada nivel\n",
    "    for usuario in nivel:\n",
    "        # Convertimos el string a un árbol\n",
    "        for codigo_str in nivel[usuario]:\n",
    "            info_codigo(codigo_str)\n",
    "\t\t\t\n",
    "info_nivel(codigo_final[\"loops_3\"])"
   ]
  }
 ],
 "metadata": {
  "kernelspec": {
   "display_name": "Python 3",
   "language": "python",
   "name": "python3"
  },
  "language_info": {
   "codemirror_mode": {
    "name": "ipython",
    "version": 3
   },
   "file_extension": ".py",
   "mimetype": "text/x-python",
   "name": "python",
   "nbconvert_exporter": "python",
   "pygments_lexer": "ipython3",
   "version": "3.10.8"
  },
  "vscode": {
   "interpreter": {
    "hash": "e7370f93d1d0cde622a1f8e1c04877d8463912d04d973331ad4851f04de6915a"
   }
  }
 },
 "nbformat": 4,
 "nbformat_minor": 5
}
