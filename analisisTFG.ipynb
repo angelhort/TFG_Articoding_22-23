{
 "cells": [
  {
   "cell_type": "markdown",
   "id": "6a6f0e43-3a08-4b42-8364-8aacf9155cef",
   "metadata": {
    "tags": []
   },
   "source": [
    "# **Primer análisis de datos extraidos**"
   ]
  },
  {
   "cell_type": "markdown",
   "id": "809b09a5-0f5a-484d-8da5-71d943fdacb8",
   "metadata": {},
   "source": [
    "#### Incluimos las librerías necesarias para analizar los datos"
   ]
  },
  {
   "cell_type": "code",
   "execution_count": 2,
   "id": "97e88c4f-1c17-4604-a63c-e0d24a96a5d2",
   "metadata": {},
   "outputs": [],
   "source": [
    "import pandas as pd\n",
    "import json\n",
    "from collections import defaultdict\n",
    "import re\n",
    "from datetime import datetime, timedelta"
   ]
  },
  {
   "cell_type": "markdown",
   "id": "181c0a9a-da59-44dd-91dc-83705e8c8c10",
   "metadata": {
    "tags": []
   },
   "source": [
    "#### Leemos los datos del JSON y lo guardamos en la variable *datos*"
   ]
  },
  {
   "cell_type": "code",
   "execution_count": 3,
   "id": "61557261-d30b-4b2b-82b4-293b5f30885e",
   "metadata": {},
   "outputs": [],
   "source": [
    "datos = pd.read_json('traces_Articoding_Escolapias.json')\n",
    "jsonData = json.load(open('traces_Articoding_Escolapias.json'))"
   ]
  },
  {
   "cell_type": "markdown",
   "id": "26c87f0d",
   "metadata": {},
   "source": [
    "# Comprobamos si el objeto que miramos es un nivel"
   ]
  },
  {
   "cell_type": "code",
   "execution_count": 4,
   "id": "cdf7086a",
   "metadata": {},
   "outputs": [
    {
     "name": "stdout",
     "output_type": "stream",
     "text": [
      "->\n",
      "https://simva-api.simva.e-ucm.es/activities/628179b5a6ba41003d3bada2/tip_0_bienvenido\n",
      "dialog-fragment\n",
      "No es nivel\n",
      "->\n",
      "https://simva-api.simva.e-ucm.es/activities/628179b5a6ba41003d3bada2/articoding\n",
      "serious-game\n",
      "No es nivel\n",
      "->\n",
      "https://simva-api.simva.e-ucm.es/activities/628179b5a6ba41003d3bada2/articoding\n",
      "serious-game\n",
      "No es nivel\n",
      "->\n",
      "https://simva-api.simva.e-ucm.es/activities/628179b5a6ba41003d3bada2/categories_main\n",
      "screen\n",
      "No es nivel\n",
      "->\n",
      "https://simva-api.simva.e-ucm.es/activities/628179b5a6ba41003d3bada2/tutorials_general\n",
      "screen\n",
      "No es nivel\n"
     ]
    }
   ],
   "source": [
    "def get_tipo(tipo):\n",
    "    return tipo.rsplit('/',1)[-1]\n",
    "\n",
    "def es_nivel(url):\n",
    "    subtipo = get_tipo(url)\n",
    "    return subtipo == 'level'\n",
    "\n",
    "\n",
    "#EJ:\n",
    "prueba = datos.head(5) \n",
    "\n",
    "for caso in prueba.to_numpy():\n",
    "    tipo = caso[4]['definition']['type']\n",
    "    nivel = es_nivel(tipo)\n",
    "    print(\"->\")\n",
    "    print(caso[4]['id'])\n",
    "    if nivel:\n",
    "        print(get_tipo(caso[4]['definition']['type'])+\"\\nEs un nivel\")\n",
    "    else:\n",
    "        print(get_tipo(caso[4]['definition']['type'])+\"\\nNo es nivel\")\n"
   ]
  },
  {
   "cell_type": "markdown",
   "id": "970525fb",
   "metadata": {},
   "source": [
    "## Obtenemos el codigo de inicio y fin de nivel"
   ]
  },
  {
   "cell_type": "markdown",
   "id": "b3c03fb6",
   "metadata": {},
   "source": []
  },
  {
   "cell_type": "code",
   "execution_count": 5,
   "id": "3bc23668",
   "metadata": {},
   "outputs": [
    {
     "name": "stdout",
     "output_type": "stream",
     "text": [
      "{'http://adlnet.gov/expapi/verbs/progressed', 'http://adlnet.gov/expapi/verbs/completed', 'http://adlnet.gov/expapi/verbs/initialized', 'https://w3id.org/xapi/seriousgames/verbs/accessed'}\n",
      "Initialized: http://adlnet.gov/expapi/verbs/initialized\n",
      "Completed: http://adlnet.gov/expapi/verbs/completed\n"
     ]
    }
   ],
   "source": [
    "\n",
    "prueba = datos.head(20)\n",
    "\n",
    "tiempos = set()   \n",
    "#Buscamos el nombre de los tiempos de inicio y fin, los cuales se encuentran en 'verb'\n",
    "for time in prueba['verb']:\n",
    "    tiempos.add(time['id'])\n",
    "#Guardamos el link de inicio y fin\n",
    "print(tiempos)\n",
    "initialized = \"http://adlnet.gov/expapi/verbs/initialized\"\n",
    "completed = \"http://adlnet.gov/expapi/verbs/completed\"\n",
    "print('Initialized: '+ initialized)\n",
    "print('Completed: '+ completed)\n"
   ]
  },
  {
   "cell_type": "markdown",
   "id": "078d35b6-7b69-4837-a911-c5275055c91c",
   "metadata": {},
   "source": [
    "#### Lista con los tiempos de cada usuario en cada nivel\n",
    "\n",
    "Guarda los tiempos que ha tardado cada usuario en terminar cada nivel, en caso de completarlo varias veces, guarda todos los tiempos en una lista"
   ]
  },
  {
   "cell_type": "code",
   "execution_count": 6,
   "id": "1bf0de52-c5ca-42ff-98f4-184a377ff357",
   "metadata": {},
   "outputs": [
    {
     "name": "stdout",
     "output_type": "stream",
     "text": [
      "0 days 00:00:16.992000\n",
      "0 days 00:00:48.227000\n",
      "0 days 00:00:32.308000\n"
     ]
    }
   ],
   "source": [
    "\n",
    "\n",
    "def get_completion_time_list(datos):\n",
    "    #verb nos dice si se ha iniciado o completado un nivel\n",
    "    #Buscamos guardar en un diccionario de usuarios diccionarios de niveles con los tiempos de ejecución\n",
    "    userList = defaultdict(lambda: defaultdict(list))\n",
    "    #ketTuple nos permite saber si el usuario ya ha jugado ese nivel con anterioridad\n",
    "    iniTime = defaultdict()\n",
    "    tam = len(datos)\n",
    "    for elemento in datos.to_numpy():\n",
    "        #Comprobamos que el objeto sea un nivel\n",
    "        if get_tipo(elemento[4]['definition']['type']) == 'level':\n",
    "            verb = elemento[2]['id']\n",
    "            name = elemento[0]['name']\n",
    "            timestamp = elemento[5]\n",
    "            level = elemento[4]['id']\n",
    "\n",
    "            #Si es un nuevo nivel marcamos el tiempo de inicio\n",
    "            if (name,level) not in iniTime or verb == initialized:\n",
    "                iniTime[(name,level)] = timestamp\n",
    "            else:\n",
    "                userList[name][level].append(timestamp-iniTime[(name,level)]) \n",
    "                iniTime.pop((name,level))\n",
    "\n",
    "    return userList\n",
    "\n",
    "\n",
    "            \n",
    "time_list = get_completion_time_list(datos)\n",
    "#Mostramos los tiempos que tiene el usuario 'gqoj' cada vez que completó el primer tutorial\n",
    "for element in time_list['gqoj'][\"https://simva-api.simva.e-ucm.es/activities/628179b5a6ba41003d3bada2/tutorials_1\"]:\n",
    "    print(str(element))\n"
   ]
  },
  {
   "cell_type": "markdown",
   "id": "c3dea78a",
   "metadata": {},
   "source": []
  },
  {
   "cell_type": "markdown",
   "id": "42852c2a",
   "metadata": {},
   "source": [
    "## Obtenemos las tarjetas usadas durante un nivel"
   ]
  },
  {
   "cell_type": "code",
   "execution_count": 5,
   "id": "10077216",
   "metadata": {},
   "outputs": [],
   "source": [
    "#Obtiene informacion de las tarjetas en cada nivel\n",
    "class Bloque():\n",
    "    def __init__(self,tipo,codigo,nivel,accion):\n",
    "        self.codigo = codigo\n",
    "        self.tipo = tipo\n",
    "        self.nivel = nivel\n",
    "        self.accion = accion\n",
    "    \n",
    "    def __init(self,bloque):\n",
    "        self.codigo = bloque[\"code\"]\n",
    "        self.tipo = bloque[\"block_type\"]\n",
    "        self.nivel = bloque[\"level\"]\n",
    "        self.accion = bloque[\"create\"]\n",
    "\n",
    "def nivel_principal(verb,nivel,erCompleted):\n",
    "    erAnomalyLevels = re.compile(r'\\btutorials|editor_level|tip|procedures')\n",
    "    return erAnomalyLevels.search(nivel)\n",
    "\n",
    "\n",
    "def obtener_tarjetas(datos):\n",
    "    #Recorre el array y guarda los bloques de tarjetas de los niveles completados\n",
    "    #Las tarjetas se manipulan cuando:\n",
    "    \n",
    "    erLevel = re.compile(r'\\blevel$\\b')\n",
    "    erCompleted = re.compile(r'\\bcompleted$\\b')\n",
    "    erProgressed = re.compile(r'\\bprogressed$\\b')\n",
    "    erInteracted = re.compile(r'\\binteracted$\\b')\n",
    "    erGameObject = re.compile(r'\\bgame-object$\\b')\n",
    "    erStartButton = re.compile(r'\\bstart_button$\\b')\n",
    "    erIdLevel = re.compile(r'/')\n",
    "    tarjetas = list()\n",
    "    antId = ''\n",
    "    antLevel = ''\n",
    "    infoBloque = \"\"\n",
    "    encontrado = False\n",
    "    for evento in datos:\n",
    "        obj = evento[\"object\"][\"definition\"][\"type\"]\n",
    "        objectId = evento[\"object\"][\"id\"]\n",
    "        verb = evento[\"verb\"][\"id\"]\n",
    "        name = evento[\"actor\"][\"name\"]\n",
    "        if erLevel.search(obj) and encontrado:\n",
    "            levelCode = erIdLevel.split(objectId)[-1]\n",
    "            if erCompleted.search(verb):\n",
    "                if evento[\"result\"][\"success\"]:\n",
    "                    #Un nivel completado tiene 3 eventos\n",
    "                    #Primero uno con el codigo de ejecución (Initialized)\n",
    "                    #Un segundo evento con flag Progressed\n",
    "                    #Un tercer evento con el resultado del nivel (success,stars,etc.)\n",
    "                    tarjetas.append(code)\n",
    "                    encontrado = False\n",
    "        \n",
    "        #Para evitar que sobreescriba el codigo antes de terminar el nivel\n",
    "        elif \"result\" in evento and erGameObject.search(obj) and erInteracted.search(verb):\n",
    "            if \"extensions\" in evento[\"result\"] and not erProgressed.search(verb) and not nivel_principal(verb,objectId,erCompleted):\n",
    "                if \"code\" in evento[\"result\"][\"extensions\"]:\n",
    "                    code = evento[\"result\"][\"extensions\"][\"code\"]\n",
    "                    antId = name\n",
    "                    antLevel = objectId\n",
    "                    encontrado = True\n",
    "        \n",
    "\n",
    "    return tarjetas\n",
    "\n",
    "\n",
    "pd.DataFrame(obtener_tarjetas(jsonData))"
   ]
  }
 ],
 "metadata": {
  "kernelspec": {
   "display_name": "Python 3.10.8",
   "language": "python",
   "name": "python3"
  },
  "language_info": {
   "codemirror_mode": {
    "name": "ipython",
    "version": 3
   },
   "file_extension": ".py",
   "mimetype": "text/x-python",
   "name": "python",
   "nbconvert_exporter": "python",
   "pygments_lexer": "ipython3",
   "version": "3.10.8"
  },
  "vscode": {
   "interpreter": {
    "hash": "e7370f93d1d0cde622a1f8e1c04877d8463912d04d973331ad4851f04de6915a"
   }
  }
 },
 "nbformat": 4,
 "nbformat_minor": 5
}
